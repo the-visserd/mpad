{
 "cells": [
  {
   "cell_type": "code",
   "execution_count": 1,
   "metadata": {},
   "outputs": [],
   "source": [
    "# work in progress\n",
    "\n",
    "# for experimental / educational purposes only\n",
    "# -> see src.experiments.calibration for the actual implementation"
   ]
  },
  {
   "cell_type": "code",
   "execution_count": 2,
   "metadata": {},
   "outputs": [],
   "source": [
    "import sys\n",
    "from pathlib import Path\n",
    "PROJECT_DIR = Path.cwd()\n",
    "if PROJECT_DIR.stem == 'notebooks':\n",
    "    PROJECT_DIR = PROJECT_DIR.parent\n",
    "    sys.path.insert(0, '..')\n",
    "\n",
    "INTERACTIVE_PLOTTING = True"
   ]
  },
  {
   "cell_type": "markdown",
   "metadata": {},
   "source": [
    "# Overview"
   ]
  },
  {
   "cell_type": "code",
   "execution_count": 3,
   "metadata": {},
   "outputs": [],
   "source": [
    "# NOTE\n",
    "# Calibration consists of multiple sections pertaining:\n",
    "#   - parameter estimation/validation \n",
    "#   - experimental instructions\n",
    "\n",
    "# Pain threshold estimation\n",
    "# Section 1: Preexposure to thermal stimuli\n",
    "#   - familiarize the subject with the thermal stimuli\n",
    "#   - binary responses to thermal stimuli\n",
    "#   - Q: what kind of binary response? -> only asked at the end, if painful, mean is higher\n",
    "#   - how many trials? how many temperatures? do we use the results?\n",
    "# Section 2: Probabilistic pain threshold detection\n",
    "#   - Bayesian adaptive design / sequential Bayesian design to:\n",
    "#        1. update belief about the heat pain threshold and\n",
    "#        2. decide on the temperature for the next trial.\n",
    "#   - binary responses\n",
    "#   - DONE\n",
    "\n",
    "# Purely didactic for rating training\n",
    "# Peri- or suprathreshold calibration\n",
    "# Section 3: Scale translation\n",
    "#   - didactic trials to support the transition from binary responses (Sections 1&2) to VAS responses\n",
    "#   - purely instructional, to be done in psychopy\n",
    "#   - Q: do I need this\n",
    "# Section 4: Rating training\n",
    "#   - Low intensities are applied exclusively to familiarize the subject with the visuomotor demands of the VAS scale\n",
    "#   - Q: do I need this?\n",
    "\n",
    "# Section 5: Psychometric-perceptual scaling\n",
    "#   - (Section 5, includes all steps up to Section 6)\n",
    "#   - Fixed temperature increments to familiarize subject with possible perceptual range\n",
    "#   - Fixed intensity target regression: Perithresholding with fixed temperature increments, e.g. +0.5 °C, +1 °C\n",
    "#   - Fixed VAS target regression: Perithresholding with fixed VAS targets, e.g. inferred temperatures for 30 VAS, 60 VAS\n",
    "#   - Adaptive VAS target regression: Perithresholding to elaborate poorly sampled areas of the VAS range\n",
    "#   - Q: How does this work? What is the difference between fixed intensity target regression and fixed VAS target regression?\n",
    "\n",
    "\n",
    "# Section 6: Calibration validation\n",
    "#   - apply results from Section 5 for a number of trials, e.g. to assess robustness"
   ]
  },
  {
   "cell_type": "code",
   "execution_count": 4,
   "metadata": {},
   "outputs": [],
   "source": [
    "# TODO\n",
    "# - ask andreas for values"
   ]
  },
  {
   "cell_type": "code",
   "execution_count": 5,
   "metadata": {},
   "outputs": [],
   "source": [
    "import numpy as np\n",
    "import scipy.stats as stats\n",
    "import matplotlib.pyplot as plt"
   ]
  },
  {
   "cell_type": "code",
   "execution_count": 6,
   "metadata": {},
   "outputs": [],
   "source": [
    "import logging\n",
    "logger = logging.getLogger(__name__)\n",
    "logger.setLevel(logging.INFO)\n",
    "if not logger.handlers:  # Check if the logger already has a handler for use in e.g. jupyter notebooks\n",
    "    handler = logging.StreamHandler()\n",
    "    handler.setFormatter(logging.Formatter('%(levelname)s: %(message)s'))\n",
    "    logger.addHandler(handler)"
   ]
  },
  {
   "cell_type": "markdown",
   "metadata": {},
   "source": [
    "## Section 1: Preexposure to thermal stimuli"
   ]
  },
  {
   "cell_type": "code",
   "execution_count": 7,
   "metadata": {},
   "outputs": [],
   "source": [
    "# Values from matlab setting script:\n",
    "\n",
    "# % Preexposure (e.g. CalibHeat Section 1)\n",
    "# P.calib.heat(n).preexposure.sInitCross  = 5; % forced wait after instructions/transitions\n",
    "# P.calib.heat(n).preexposure.sInitCue    = 2; % in addition to sInitCross\n",
    "# P.calib.heat(n).preexposure.intensities = [42 42.5 43 43.5]; % vector of intensities used for preexposure, intended to lead to binary decision \"were any of these painful y/n\"\n",
    "# P.calib.heat(n).preexposure.sPlateau    = 10; \n",
    "# P.calib.heat(n).preexposure.sMinMaxITIs = [5 5]; \n",
    "# P.calib.heat(n).preexposure.sMinMaxCues = [2 2]; % in addition to sMinMaxITIs                 \n"
   ]
  },
  {
   "cell_type": "code",
   "execution_count": 8,
   "metadata": {},
   "outputs": [
    {
     "name": "stderr",
     "output_type": "stream",
     "text": [
      "INFO: Calibration preexposure was not painful. Starting temperature for pain threshold estimation: 39 °C.\n"
     ]
    }
   ],
   "source": [
    "preexposure_temperatures = [34, 35, 36, 37]\n",
    "# TODO: add for loop and time.sleep() for each temperature\n",
    "response = input(f'Were any of the preexposure stimuli ({str(preexposure_temperatures)} °C) painful? (y/n) ')\n",
    "if response == \"y\":\n",
    "    mean_temperature = 37\n",
    "    logger.info(f\"Calibration preexposure was painful. Starting temperature for pain threshold estimation: {mean_temperature} °C.\")\n",
    "else:\n",
    "    mean_temperature = 39\n",
    "    logger.info(f\"Calibration preexposure was not painful. Starting temperature for pain threshold estimation: {mean_temperature} °C.\")\n"
   ]
  },
  {
   "cell_type": "markdown",
   "metadata": {},
   "source": [
    "## Section 2: Probabilistic pain threshold estimation"
   ]
  },
  {
   "cell_type": "code",
   "execution_count": 9,
   "metadata": {},
   "outputs": [
    {
     "name": "stderr",
     "output_type": "stream",
     "text": [
      "INFO: Calibration pain threshold trial 1: 39.0 °C was not painful.\n",
      "INFO: Calibration pain threshold trial 2: 40.7 °C was not painful.\n",
      "INFO: Calibration pain threshold trial 3: 42.0 °C was not painful.\n",
      "INFO: Calibration pain threshold trial 4: 43.0 °C was not painful.\n",
      "INFO: Calibration pain threshold trial 5: 43.9 °C was not painful.\n",
      "INFO: Calibration pain threshold trial 6: 44.7 °C was not painful.\n",
      "INFO: Calibration pain threshold trial 7: 45.0 °C was not painful.\n",
      "INFO: Calibration pain threshold steps: [1.7 1.3 1.  0.9 0.8 0.3 0. ] °C.\n",
      "\n",
      "INFO: Calibration pain threshold estimate: 45.0 °C\n"
     ]
    }
   ],
   "source": [
    "# Step 1: Define a prior probability distribution for the heat pain threshold\n",
    "min_temperature = mean_temperature - 6\n",
    "max_temperature = mean_temperature + 6\n",
    "num_steps = int((max_temperature - min_temperature) / 0.1) + 1\n",
    "range_temperature = np.linspace(min_temperature, max_temperature, num_steps) # note: do not use arange for floats\n",
    "std_temperature = 4\n",
    "\n",
    "likelihood_std = 1\n",
    "reduction_factor = 0.9\n",
    "\n",
    "prior = stats.norm.pdf(\n",
    "    range_temperature, \n",
    "    loc=mean_temperature, \n",
    "    scale=std_temperature)\n",
    "prior /= np.sum(prior)  # normalize to make it a valid probability distribution\n",
    "\n",
    "# Step 2: Start the experiment with a predetermined temperature\n",
    "current_temperature = np.round(\n",
    "    range_temperature[np.argmax(prior)],\n",
    "    1) # = mean_temperature from prior\n",
    "\n",
    "# Step 3-end: Repeat for each trial\n",
    "temperatures = [current_temperature]\n",
    "priors = []\n",
    "likelihoods = []\n",
    "posteriors = []\n",
    "trials = 7\n",
    "\n",
    "for trial in range(trials):\n",
    "    # Collect the subject's response\n",
    "    response = input(f'Is {current_temperature} °C painful? (y/n) ')\n",
    "\n",
    "    # Define a cdf likelihood function based on the response\n",
    "    if response == 'y':\n",
    "        logger.info(f\"Calibration pain threshold trial {trial+1}: {current_temperature} °C was painful.\")\n",
    "        likelihood = 1 - stats.norm.cdf(\n",
    "            range_temperature, \n",
    "            loc=current_temperature, \n",
    "            scale=likelihood_std)\n",
    "    else:\n",
    "        logger.info(f\"Calibration pain threshold trial {trial+1}: {current_temperature} °C was not painful.\")\n",
    "        likelihood = stats.norm.cdf(\n",
    "            range_temperature,\n",
    "            loc=current_temperature, \n",
    "            scale=likelihood_std)\n",
    "\n",
    "    # Decrease the standard deviation of the likelihood function as we gain more information\n",
    "    likelihood_std *= reduction_factor\n",
    "\n",
    "    # Update the prior distribution with the likelihood function to get a posterior distribution\n",
    "    posterior = likelihood * prior\n",
    "    posterior /= np.sum(posterior)  # normalize\n",
    "    \n",
    "    # Choose the temperature for the next trial based on the posterior distribution\n",
    "    current_temperature = np.round(\n",
    "        range_temperature[np.argmax(posterior)],\n",
    "        1) # temperature with highest probability\n",
    "\n",
    "    # Store the distributions and temperature\n",
    "    priors.append(prior)\n",
    "    likelihoods.append(likelihood)\n",
    "    posteriors.append(posterior)\n",
    "    temperatures.append(current_temperature)\n",
    "    \n",
    "    # Update the prior for the next iteration\n",
    "    prior = np.copy(posterior)\n",
    "\n",
    "vas_0 = temperatures[-1]\n",
    "logger.info(f\"Calibration pain threshold steps: {np.diff(temperatures)} °C.\\n\")\n",
    "logger.info(f\"Calibration pain threshold estimate: {vas_0} °C\")"
   ]
  },
  {
   "cell_type": "code",
   "execution_count": 10,
   "metadata": {},
   "outputs": [
    {
     "data": {
      "application/vnd.jupyter.widget-view+json": {
       "model_id": "4e36e96aa5cd42f0b1ed6babb67e35c4",
       "version_major": 2,
       "version_minor": 0
      },
      "text/plain": [
       "VBox(children=(HBox(children=(IntSlider(value=0, max=6), Button(description='Previous', style=ButtonStyle()), …"
      ]
     },
     "metadata": {},
     "output_type": "display_data"
    },
    {
     "name": "stdout",
     "output_type": "stream",
     "text": [
      "np.diff(temperatures) = array([1.7, 1.3, 1. , 0.9, 0.8, 0.3, 0. ])\n"
     ]
    }
   ],
   "source": [
    "if not INTERACTIVE_PLOTTING:\n",
    "    # One figure with all trials\n",
    "    fig, ax = plt.subplots(trials, 1, figsize=(5, 10))\n",
    "    for trial in range(trials):\n",
    "        ax[trial].plot(range_temperature, priors[trial], label='Prior')\n",
    "        ax[trial].plot(range_temperature, likelihoods[trial], label='Likelihood')\n",
    "        ax[trial].plot(range_temperature, posteriors[trial], label='Posterior')\n",
    "        ax[trial].set_title(f'Trial {trial+1}')\n",
    "\n",
    "        # Add x-axis label to the last diagram only\n",
    "        if trial == trials - 1:\n",
    "            ax[trial].set_xlabel('Temperature (°C)')\n",
    "\n",
    "    plt.tight_layout()\n",
    "    plt.show()\n",
    "\n",
    "else:\n",
    "   # reload vs window if plot appears twice\n",
    "    import ipywidgets as widgets \n",
    "    from IPython.display import display\n",
    "\n",
    "    def plot_trial(trial):\n",
    "        plt.clf()\n",
    "        plt.plot(range_temperature, priors[trial], label='Prior')\n",
    "        plt.plot(range_temperature, likelihoods[trial], label='Likelihood')\n",
    "        plt.plot(range_temperature, posteriors[trial], label='Posterior')\n",
    "        plt.title(f'Trial {trial+1} of {trials}')\n",
    "        plt.xlim([min_temperature, max_temperature])\n",
    "        plt.ylim([0, 1])\n",
    "        plt.xlabel('Temperature (°C)')\n",
    "        plt.ylabel('Probability')\n",
    "        plt.xticks(np.arange(min_temperature, max_temperature+1, 1))\n",
    "        plt.legend(bbox_to_anchor=(0.5, -0.15), loc='upper center', ncol=3)\n",
    "\n",
    "    # Create a slider for the trial number\n",
    "    trial_slider = widgets.IntSlider(min=0, max=trials-1, step=1, value=0);\n",
    "\n",
    "    # Create Next and Previous buttons, define click events and link them to the buttons\n",
    "    next_button = widgets.Button(description=\"Next\")\n",
    "    prev_button = widgets.Button(description=\"Previous\")\n",
    "    def next_button_clicked(b): # b is the button instance\n",
    "        if trial_slider.value < trial_slider.max:\n",
    "            trial_slider.value += 1\n",
    "    def prev_button_clicked(b):\n",
    "        if trial_slider.value > trial_slider.min:\n",
    "            trial_slider.value -= 1\n",
    "    next_button.on_click(next_button_clicked)\n",
    "    prev_button.on_click(prev_button_clicked)\n",
    "\n",
    "    # Use the interact function to automatically update the plot when the slider is moved\n",
    "    out = widgets.interactive_output(plot_trial, {'trial': trial_slider});\n",
    "\n",
    "    # Display the slider and the buttons on top of the figure (box on box)\n",
    "    display(widgets.VBox([widgets.HBox([trial_slider, prev_button, next_button]), out]))\n",
    "\n",
    "print(f\"{np.diff(temperatures) = }\")\n"
   ]
  },
  {
   "cell_type": "markdown",
   "metadata": {},
   "source": [
    "## Section 3-4: Rating training (purely instructional)"
   ]
  },
  {
   "cell_type": "markdown",
   "metadata": {},
   "source": [
    "## Section 5: Psychometric-perceptual scaling"
   ]
  },
  {
   "cell_type": "code",
   "execution_count": 11,
   "metadata": {},
   "outputs": [
    {
     "ename": "ValueError",
     "evalue": "invalid literal for int() with base 10: ''",
     "output_type": "error",
     "traceback": [
      "\u001b[1;31m---------------------------------------------------------------------------\u001b[0m",
      "\u001b[1;31mValueError\u001b[0m                                Traceback (most recent call last)",
      "Cell \u001b[1;32mIn[11], line 9\u001b[0m\n\u001b[0;32m      7\u001b[0m \u001b[39mfor\u001b[39;00m temp \u001b[39min\u001b[39;00m fixed_temperatures[\u001b[39m1\u001b[39m:]:\n\u001b[0;32m      8\u001b[0m     vas_response \u001b[39m=\u001b[39m \u001b[39minput\u001b[39m(\u001b[39mf\u001b[39m\u001b[39m'\u001b[39m\u001b[39mHow painful was \u001b[39m\u001b[39m{\u001b[39;00mtemp\u001b[39m}\u001b[39;00m\u001b[39m °C on a scale from 0 to 100?\u001b[39m\u001b[39m'\u001b[39m)\n\u001b[1;32m----> 9\u001b[0m     vas_responses\u001b[39m.\u001b[39mappend(\u001b[39mint\u001b[39;49m(vas_response))\n\u001b[0;32m     10\u001b[0m     logger\u001b[39m.\u001b[39minfo(\u001b[39mf\u001b[39m\u001b[39m\"\u001b[39m\u001b[39mCalibration psychometric-perceptual scaling: \u001b[39m\u001b[39m{\u001b[39;00mtemp\u001b[39m}\u001b[39;00m\u001b[39m °C was rated \u001b[39m\u001b[39m{\u001b[39;00mvas_response\u001b[39m}\u001b[39;00m\u001b[39m on the VAS scale.\u001b[39m\u001b[39m\"\u001b[39m)\n",
      "\u001b[1;31mValueError\u001b[0m: invalid literal for int() with base 10: ''"
     ]
    }
   ],
   "source": [
    "# Collect VAS responses for fixed temperatures\n",
    "# Note that the first temperature is the pain threshold estimate from the previous section\n",
    "fixed_temperatures = (vas_0 + [0.5, 1, 2, 1])\n",
    "fixed_temperatures = np.insert(fixed_temperatures, 0, vas_0)\n",
    "vas_responses = [0]\n",
    "\n",
    "for temp in fixed_temperatures[1:]:\n",
    "    vas_response = input(f'How painful was {temp} °C on a scale from 0 to 100?')\n",
    "    vas_responses.append(int(vas_response))\n",
    "    logger.info(f\"Calibration psychometric-perceptual scaling: {temp} °C was rated {vas_response} on the VAS scale.\")"
   ]
  },
  {
   "cell_type": "code",
   "execution_count": null,
   "metadata": {},
   "outputs": [
    {
     "name": "stdout",
     "output_type": "stream",
     "text": [
      "fixed_temperatures = array([42.7, 43.2, 43.7, 44.7, 43.7])\n",
      "vas_responses = [0, 30, 50, 70, 60]\n"
     ]
    },
    {
     "data": {
      "image/png": "[encoded data removed]",
      "text/plain": [
       "<Figure size 640x480 with 1 Axes>"
      ]
     },
     "metadata": {},
     "output_type": "display_data"
    }
   ],
   "source": [
    "x = fixed_temperatures\n",
    "y = vas_responses\n",
    "print(f\"{fixed_temperatures = }\\n{vas_responses = }\")\n",
    "\n",
    "slope, intercept = np.polyfit(x, y, 1)\n",
    "y_pred = slope * x + intercept\n",
    "\n",
    "plt.scatter(x, y, label='Data')\n",
    "plt.plot(x, y_pred, color='red', label='Fitted line')\n",
    "plt.xlabel('Temperature (°C)')\n",
    "plt.ylabel('VAS response')\n",
    "plt.legend()\n",
    "plt.show()\n"
   ]
  },
  {
   "cell_type": "code",
   "execution_count": null,
   "metadata": {},
   "outputs": [
    {
     "data": {
      "text/plain": [
       "array([42.7, 43.2, 43.7, 44.7, 43.7])"
      ]
     },
     "execution_count": 65,
     "metadata": {},
     "output_type": "execute_result"
    }
   ],
   "source": [
    "fixed_temperatures"
   ]
  },
  {
   "cell_type": "code",
   "execution_count": null,
   "metadata": {},
   "outputs": [
    {
     "name": "stderr",
     "output_type": "stream",
     "text": [
      "INFO: Calibration psychometric-perceptual scaling: 42.7 °C was rated 10 on the VAS scale.\n",
      "INFO: Calibration psychometric-perceptual scaling: 42.7 °C was rated 30 on the VAS scale.\n",
      "C:\\Users\\visser\\AppData\\Local\\Temp\\ipykernel_1764\\1832210150.py:11: RankWarning: Polyfit may be poorly conditioned\n",
      "  slope, intercept = np.polyfit(\n",
      "INFO: Calibration psychometric-perceptual scaling: 187.9 °C was rated 90 on the VAS scale.\n"
     ]
    }
   ],
   "source": [
    "# Collect VAS responses for fixed VAS targets\n",
    "fixed_vas_targets = [10, 30, 90]\n",
    "\n",
    "for target in fixed_vas_targets:\n",
    "    pred_temperature = np.round((target - intercept) / slope,1)\n",
    "    vas_response = input(f'How painful was {pred_temperature} °C on a scale from 0 to 100?')\n",
    "    vas_responses.append(int(vas_response))\n",
    "    temperatures.append(pred_temperature)\n",
    "    logger.info(f\"Calibration psychometric-perceptual scaling: {pred_temperature} °C was rated {vas_response} on the VAS scale.\")\n",
    "    \n",
    "    slope, intercept = np.polyfit(\n",
    "        np.array(temperatures[-len(fixed_vas_targets):]), \n",
    "        np.array(vas_responses[-len(fixed_vas_targets):]), \n",
    "        1)\n"
   ]
  },
  {
   "cell_type": "code",
   "execution_count": null,
   "metadata": {},
   "outputs": [
    {
     "name": "stdout",
     "output_type": "stream",
     "text": [
      "fixed_temperatures = array([42.7, 43.2, 43.7, 44.7, 43.7])\n",
      "vas_responses = [0, 30, 50, 70, 60, 10, 30, 90]\n"
     ]
    },
    {
     "ename": "TypeError",
     "evalue": "expected x and y to have same length",
     "output_type": "error",
     "traceback": [
      "\u001b[1;31m---------------------------------------------------------------------------\u001b[0m",
      "\u001b[1;31mTypeError\u001b[0m                                 Traceback (most recent call last)",
      "Cell \u001b[1;32mIn[72], line 5\u001b[0m\n\u001b[0;32m      2\u001b[0m y \u001b[39m=\u001b[39m vas_responses\n\u001b[0;32m      3\u001b[0m \u001b[39mprint\u001b[39m(\u001b[39mf\u001b[39m\u001b[39m\"\u001b[39m\u001b[39m{\u001b[39;00mfixed_temperatures\u001b[39m \u001b[39m\u001b[39m= }\u001b[39;00m\u001b[39m\\n\u001b[39;00m\u001b[39m{\u001b[39;00mvas_responses\u001b[39m \u001b[39m\u001b[39m= }\u001b[39;00m\u001b[39m\"\u001b[39m)\n\u001b[1;32m----> 5\u001b[0m slope, intercept \u001b[39m=\u001b[39m np\u001b[39m.\u001b[39;49mpolyfit(x, y, \u001b[39m1\u001b[39;49m)\n\u001b[0;32m      6\u001b[0m y_pred \u001b[39m=\u001b[39m slope \u001b[39m*\u001b[39m x \u001b[39m+\u001b[39m intercept\n\u001b[0;32m      8\u001b[0m plt\u001b[39m.\u001b[39mscatter(x, y, label\u001b[39m=\u001b[39m\u001b[39m'\u001b[39m\u001b[39mData\u001b[39m\u001b[39m'\u001b[39m)\n",
      "File \u001b[1;32mc:\\conda\\envs\\learning\\lib\\site-packages\\numpy\\lib\\polynomial.py:643\u001b[0m, in \u001b[0;36mpolyfit\u001b[1;34m(x, y, deg, rcond, full, w, cov)\u001b[0m\n\u001b[0;32m    641\u001b[0m     \u001b[39mraise\u001b[39;00m \u001b[39mTypeError\u001b[39;00m(\u001b[39m\"\u001b[39m\u001b[39mexpected 1D or 2D array for y\u001b[39m\u001b[39m\"\u001b[39m)\n\u001b[0;32m    642\u001b[0m \u001b[39mif\u001b[39;00m x\u001b[39m.\u001b[39mshape[\u001b[39m0\u001b[39m] \u001b[39m!=\u001b[39m y\u001b[39m.\u001b[39mshape[\u001b[39m0\u001b[39m]:\n\u001b[1;32m--> 643\u001b[0m     \u001b[39mraise\u001b[39;00m \u001b[39mTypeError\u001b[39;00m(\u001b[39m\"\u001b[39m\u001b[39mexpected x and y to have same length\u001b[39m\u001b[39m\"\u001b[39m)\n\u001b[0;32m    645\u001b[0m \u001b[39m# set rcond\u001b[39;00m\n\u001b[0;32m    646\u001b[0m \u001b[39mif\u001b[39;00m rcond \u001b[39mis\u001b[39;00m \u001b[39mNone\u001b[39;00m:\n",
      "\u001b[1;31mTypeError\u001b[0m: expected x and y to have same length"
     ]
    }
   ],
   "source": [
    "x = temperatures\n",
    "y = vas_responses\n",
    "print(f\"{fixed_temperatures = }\\n{vas_responses = }\")\n",
    "\n",
    "slope, intercept = np.polyfit(x, y, 1)\n",
    "y_pred = slope * x + intercept\n",
    "\n",
    "plt.scatter(x, y, label='Data')\n",
    "plt.plot(x, y_pred, color='red', label='Fitted line')\n",
    "plt.xlabel('Temperature (°C)')\n",
    "plt.ylabel('VAS response')\n",
    "plt.legend()\n",
    "plt.show()"
   ]
  },
  {
   "cell_type": "code",
   "execution_count": null,
   "metadata": {},
   "outputs": [
    {
     "data": {
      "text/plain": [
       "(array([39. , 40.7, 42. , 43. , 42.4, 42.8, 42.5, 42.7]),)"
      ]
     },
     "execution_count": 67,
     "metadata": {},
     "output_type": "execute_result"
    }
   ],
   "source": [
    "np.array(temperatures[:-len(fixed_vas_targets)]), \n",
    "# np.array(vas_responses[-len(fixed_vas_targets)]), "
   ]
  },
  {
   "cell_type": "code",
   "execution_count": null,
   "metadata": {},
   "outputs": [
    {
     "data": {
      "text/plain": [
       "[342, 4]"
      ]
     },
     "execution_count": 68,
     "metadata": {},
     "output_type": "execute_result"
    }
   ],
   "source": [
    "a = [24,1,234,342,4]\n",
    "a[-2:]"
   ]
  },
  {
   "cell_type": "code",
   "execution_count": null,
   "metadata": {},
   "outputs": [
    {
     "data": {
      "text/plain": [
       "([0, 30, 50, 70, 60, 10, 30, 90],\n",
       " [39.0, 40.7, 42.0, 43.0, 42.4, 42.8, 42.5, 42.7, 42.7, 42.7, 187.9])"
      ]
     },
     "execution_count": 69,
     "metadata": {},
     "output_type": "execute_result"
    }
   ],
   "source": [
    "vas_responses, temperatures"
   ]
  },
  {
   "cell_type": "code",
   "execution_count": null,
   "metadata": {},
   "outputs": [
    {
     "data": {
      "text/plain": [
       "73.81428571428576"
      ]
     },
     "execution_count": 70,
     "metadata": {},
     "output_type": "execute_result"
    }
   ],
   "source": [
    "y_pred = 35\n",
    "(y_pred - intercept) / slope"
   ]
  },
  {
   "cell_type": "markdown",
   "metadata": {},
   "source": [
    "## Section 6: Calibration validation"
   ]
  },
  {
   "cell_type": "markdown",
   "metadata": {},
   "source": [
    "## Module usage: calibration.py"
   ]
  },
  {
   "cell_type": "code",
   "execution_count": null,
   "metadata": {},
   "outputs": [],
   "source": [
    "threshold_estimator = PainThresholdEstimator(mean_temperature=39)\n",
    "\n",
    "for trial in range(threshold_estimator.trials):\n",
    "    response = input(f'Is {threshold_estimator.current_temperature} °C painful? (y/n) ')\n",
    "    threshold_estimator.conduct_trial(response,trial=trial)\n",
    "\n",
    "print(f\"Calibration pain threshold estimate: {threshold_estimator.get_estimate()} °C\")\n"
   ]
  },
  {
   "cell_type": "code",
   "execution_count": null,
   "metadata": {},
   "outputs": [],
   "source": []
  }
 ],
 "metadata": {
  "kernelspec": {
   "display_name": "psychopy",
   "language": "python",
   "name": "python3"
  },
  "language_info": {
   "codemirror_mode": {
    "name": "ipython",
    "version": 3
   },
   "file_extension": ".py",
   "mimetype": "text/x-python",
   "name": "python",
   "nbconvert_exporter": "python",
   "pygments_lexer": "ipython3",
   "version": "3.10.12"
  },
  "orig_nbformat": 4
 },
 "nbformat": 4,
 "nbformat_minor": 2
}
