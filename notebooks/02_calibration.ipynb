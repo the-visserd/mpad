{
 "cells": [
  {
   "cell_type": "code",
   "execution_count": 2,
   "metadata": {},
   "outputs": [],
   "source": [
    "# work in progress"
   ]
  },
  {
   "cell_type": "code",
   "execution_count": 3,
   "metadata": {},
   "outputs": [],
   "source": [
    "import sys\n",
    "from pathlib import Path\n",
    "PROJECT_DIR = Path.cwd()\n",
    "if PROJECT_DIR.stem == 'notebooks':\n",
    "    PROJECT_DIR = PROJECT_DIR.parent\n",
    "    sys.path.insert(0, '..')\n",
    "\n",
    "INTERACTIVE_PLOTTING = True"
   ]
  },
  {
   "cell_type": "markdown",
   "metadata": {},
   "source": [
    "# Overview"
   ]
  },
  {
   "cell_type": "code",
   "execution_count": 4,
   "metadata": {},
   "outputs": [],
   "source": [
    "# NOTE\n",
    "# Calibration consists of multiple sections pertaining:\n",
    "#   - parameter estimation/validation \n",
    "#   - experimental instructions\n",
    "\n",
    "# Pain threshold estimation\n",
    "# Section 1: Preexposure to thermal stimuli\n",
    "#   - familiarize the subject with the thermal stimuli\n",
    "#   - binary responses to thermal stimuli\n",
    "#   - Q: what kind of binary response? -> only asked at the end, if painful, mean is higher\n",
    "#   - how many trials? how many temperatures? do we use the results?\n",
    "# Section 2: Probabilistic pain threshold detection\n",
    "#   - Bayesian adaptive design / sequential Bayesian design to:\n",
    "#        1. update belief about the heat pain threshold and\n",
    "#        2. decide on the temperature for the next trial.\n",
    "#   - binary responses\n",
    "#   - DONE\n",
    "\n",
    "# Purely didactic for rating training\n",
    "# Peri- or suprathreshold calibration\n",
    "# Section 3: Scale translation\n",
    "#   - didactic trials to support the transition from binary responses (Sections 1&2) to VAS responses\n",
    "#   - purely instructional, to be done in psychopy\n",
    "#   - Q: do I need this\n",
    "# Section 4: Rating training\n",
    "#   - Low intensities are applied exclusively to familiarize the subject with the visuomotor demands of the VAS scale\n",
    "#   - Q: do I need this?\n",
    "\n",
    "# Section 5: Psychometric-perceptual scaling\n",
    "#   - (Section 5, includes all steps up to Section 6)\n",
    "#   - Fixed temperature increments to familiarize subject with possible perceptual range\n",
    "#   - Fixed intensity target regression: Perithresholding with fixed temperature increments, e.g. +0.5 °C, +1 °C\n",
    "#   - Fixed VAS target regression: Perithresholding with fixed VAS targets, e.g. inferred temperatures for 30 VAS, 60 VAS\n",
    "#   - Adaptive VAS target regression: Perithresholding to elaborate poorly sampled areas of the VAS range\n",
    "#   - Q: How does this work? What is the difference between fixed intensity target regression and fixed VAS target regression?\n",
    "\n",
    "\n",
    "# Section 6: Calibration validation\n",
    "#   - apply results from Section 5 for a number of trials, e.g. to assess robustness"
   ]
  },
  {
   "cell_type": "code",
   "execution_count": 5,
   "metadata": {},
   "outputs": [],
   "source": [
    "# TODO\n",
    "# - ask andreas for values"
   ]
  },
  {
   "cell_type": "code",
   "execution_count": null,
   "metadata": {},
   "outputs": [],
   "source": [
    "import numpy as np\n",
    "import scipy.stats as stats\n",
    "import matplotlib.pyplot as plt"
   ]
  },
  {
   "cell_type": "markdown",
   "metadata": {},
   "source": [
    "## Section 1: Preexposure to thermal stimuli"
   ]
  },
  {
   "cell_type": "code",
   "execution_count": 6,
   "metadata": {},
   "outputs": [],
   "source": [
    "# Values from matlab setting script:\n",
    "\n",
    "# % Preexposure (e.g. CalibHeat Section 1)\n",
    "# P.calib.heat(n).preexposure.sInitCross  = 5; % forced wait after instructions/transitions\n",
    "# P.calib.heat(n).preexposure.sInitCue    = 2; % in addition to sInitCross\n",
    "# P.calib.heat(n).preexposure.intensities = [42 42.5 43 43.5]; % vector of intensities used for preexposure, intended to lead to binary decision \"were any of these painful y/n\"\n",
    "# P.calib.heat(n).preexposure.sPlateau    = 10; \n",
    "# P.calib.heat(n).preexposure.sMinMaxITIs = [5 5]; \n",
    "# P.calib.heat(n).preexposure.sMinMaxCues = [2 2]; % in addition to sMinMaxITIs                 \n"
   ]
  },
  {
   "cell_type": "code",
   "execution_count": 7,
   "metadata": {},
   "outputs": [],
   "source": [
    "preexposure_temperatures = [33, 34, 35, 36]\n",
    "response = input(f'Were any of the preexposure stimuli ({str(preexposure_temperatures)} °C) painful? (y/n) ')\n",
    "if response == \"y\":\n",
    "    mean_temperature = 37\n",
    "else:\n",
    "    mean_temperature = 39"
   ]
  },
  {
   "cell_type": "markdown",
   "metadata": {},
   "source": [
    "## Section 2: Probabilistic pain threshold estimation"
   ]
  },
  {
   "cell_type": "code",
   "execution_count": 8,
   "metadata": {},
   "outputs": [
    {
     "name": "stdout",
     "output_type": "stream",
     "text": [
      "[38.0, 39.6, 40.8, 41.8, 42.7, 43.5, 44.3, 45.0, 45.0]\n",
      "[1.6 1.2 1.  0.9 0.8 0.8 0.7 0. ]\n"
     ]
    }
   ],
   "source": [
    "# Step 1: Define a prior probability distribution for the heat pain threshold\n",
    "min_temperature = mean_temperature - 6\n",
    "max_temperature = mean_temperature + 6\n",
    "range_temperature = np.arange(min_temperature, max_temperature+0.1, 0.1)\n",
    "std_temperature = 3.5\n",
    "\n",
    "likelihood_std = 1\n",
    "reduction_factor = 0.95\n",
    "\n",
    "prior = stats.norm.pdf(\n",
    "    range_temperature, \n",
    "    loc=mean_temperature, \n",
    "    scale=std_temperature)\n",
    "prior /= np.sum(prior)  # normalize to make it a valid probability distribution\n",
    "\n",
    "# Step 2: Start the experiment with a predetermined temperature\n",
    "current_temperature = np.round(\n",
    "    range_temperature[np.argmax(prior)],\n",
    "    1) # = mean_temperature from prior\n",
    "\n",
    "# Step 3-end: Repeat for each trial\n",
    "temperatures = [current_temperature]\n",
    "priors = []\n",
    "likelihoods = []\n",
    "posteriors = []\n",
    "trials = 8\n",
    "\n",
    "for trial in range(trials):\n",
    "    # Collect the subject's response\n",
    "    response = input(f'Is {current_temperature} °C painful? (y/n) ')\n",
    "\n",
    "    # Define a cdf likelihood function based on the response\n",
    "    if response == 'y':\n",
    "        likelihood = 1 - stats.norm.cdf(\n",
    "            range_temperature, \n",
    "            loc=current_temperature, \n",
    "            scale=likelihood_std)\n",
    "    else:\n",
    "        likelihood = stats.norm.cdf(\n",
    "            range_temperature,\n",
    "            loc=current_temperature, \n",
    "            scale=likelihood_std)\n",
    "\n",
    "    # Decrease the standard deviation of the likelihood function as we gain more information\n",
    "    likelihood_std *= reduction_factor\n",
    "\n",
    "    # Update the prior distribution with the likelihood function to get a posterior distribution\n",
    "    posterior = likelihood * prior\n",
    "    posterior /= np.sum(posterior)  # normalize\n",
    "    \n",
    "    # Choose the temperature for the next trial based on the posterior distribution\n",
    "    current_temperature = np.round(\n",
    "        range_temperature[np.argmax(posterior)],\n",
    "        1) # temperature with highest probability\n",
    "\n",
    "    # Store the distributions and temperature\n",
    "    priors.append(prior)\n",
    "    likelihoods.append(likelihood)\n",
    "    posteriors.append(posterior)\n",
    "    temperatures.append(current_temperature)\n",
    "    \n",
    "    # Update the prior for the next iteration\n",
    "    prior = np.copy(posterior)\n",
    "\n",
    "print(f\"{temperatures}\\n{np.diff(temperatures)}\")\n",
    "vas_0 = temperatures[-1]"
   ]
  },
  {
   "cell_type": "code",
   "execution_count": 17,
   "metadata": {},
   "outputs": [
    {
     "data": {
      "application/vnd.jupyter.widget-view+json": {
       "model_id": "b942356464e6424dbc7b64b571d6ea9d",
       "version_major": 2,
       "version_minor": 0
      },
      "text/plain": [
       "VBox(children=(HBox(children=(IntSlider(value=0, max=7), Button(description='Previous', style=ButtonStyle()), …"
      ]
     },
     "execution_count": 17,
     "metadata": {},
     "output_type": "execute_result"
    }
   ],
   "source": [
    "if INTERACTIVE_PLOTTING:\n",
    "    # reloade vs window if plot appears twice\n",
    "    import ipywidgets as widgets \n",
    "\n",
    "    def plot_trial(trial):\n",
    "        plt.clf()\n",
    "        plt.plot(range_temperature, priors[trial], label='Prior')\n",
    "        plt.plot(range_temperature, likelihoods[trial], label='Likelihood')\n",
    "        plt.plot(range_temperature, posteriors[trial], label='Posterior')\n",
    "        plt.title(f'Trial {trial+1}')\n",
    "        plt.xlim([min_temperature, max_temperature])\n",
    "        plt.ylim([0, 1])\n",
    "        plt.xlabel('Temperature (°C)')\n",
    "        plt.ylabel('Probability')\n",
    "        plt.xticks(np.arange(min_temperature, max_temperature+1, 1))\n",
    "        plt.legend(bbox_to_anchor=(0.5, -0.15), loc='upper center', ncol=3)\n",
    "\n",
    "    # Create a slider for the trial number\n",
    "    trial_slider = widgets.IntSlider(min=0, max=trials-1, step=1, value=0);\n",
    "\n",
    "    # Create Next and Previous buttons, define click events and link them to the buttons\n",
    "    next_button = widgets.Button(description=\"Next\")\n",
    "    prev_button = widgets.Button(description=\"Previous\")\n",
    "    def next_button_clicked(b): # b is the button instance\n",
    "        if trial_slider.value < trial_slider.max:\n",
    "            trial_slider.value += 1\n",
    "    def prev_button_clicked(b):\n",
    "        if trial_slider.value > trial_slider.min:\n",
    "            trial_slider.value -= 1\n",
    "    next_button.on_click(next_button_clicked)\n",
    "    prev_button.on_click(prev_button_clicked)\n",
    "\n",
    "    # Use the interact function to automatically update the plot when the slider is moved\n",
    "    out = widgets.interactive_output(plot_trial, {'trial': trial_slider});\n",
    "\n",
    "    # Display the slider and the buttons on top of the figure (box on box)\n",
    "    widgets.VBox([widgets.HBox([trial_slider, prev_button, next_button]), out])\n",
    "\n",
    "else:\n",
    "    # One figure with all trials\n",
    "    fig, ax = plt.subplots(trials, 1, figsize=(5, 10))\n",
    "    for trial in range(trials):\n",
    "        ax[trial].plot(range_temperature, priors[trial], label='Prior')\n",
    "        ax[trial].plot(range_temperature, likelihoods[trial], label='Likelihood')\n",
    "        ax[trial].plot(range_temperature, posteriors[trial], label='Posterior')\n",
    "        ax[trial].set_title(f'Trial {trial+1}')\n",
    "    plt.tight_layout()\n",
    "    plt.show()"
   ]
  },
  {
   "cell_type": "markdown",
   "metadata": {},
   "source": [
    "## Section 3-4: Rating training (purely instructional)"
   ]
  },
  {
   "cell_type": "markdown",
   "metadata": {},
   "source": [
    "## Section 5: Psychometric-perceptual scaling"
   ]
  },
  {
   "cell_type": "code",
   "execution_count": 22,
   "metadata": {},
   "outputs": [
    {
     "data": {
      "image/png": "[encoded data removed]",
      "text/plain": [
       "<Figure size 640x480 with 1 Axes>"
      ]
     },
     "metadata": {},
     "output_type": "display_data"
    }
   ],
   "source": [
    "x = np.array([0, 1, 2, 3, 4, 5, 6, 7])\n",
    "y = np.array([1, 2, 3, 4, 5, 3, 7, 8])\n",
    "\n",
    "slope, intercept = np.polyfit(x, y, 1)\n",
    "y_pred = slope * x + intercept\n",
    "\n",
    "plt.scatter(x, y, label='Data')\n",
    "plt.plot(x, y_pred, color='red', label='Fitted line')\n",
    "plt.legend()\n",
    "plt.show()"
   ]
  },
  {
   "cell_type": "code",
   "execution_count": null,
   "metadata": {},
   "outputs": [],
   "source": [
    "response = input(f'How painful is it ({} °C) on a scale from 0 to 100?')\n"
   ]
  },
  {
   "cell_type": "markdown",
   "metadata": {},
   "source": [
    "## Section 6: Calibration validation"
   ]
  },
  {
   "cell_type": "code",
   "execution_count": 13,
   "metadata": {},
   "outputs": [
    {
     "data": {
      "text/plain": [
       "9.900000000000007"
      ]
     },
     "execution_count": 13,
     "metadata": {},
     "output_type": "execute_result"
    }
   ],
   "source": [
    "import numpy as np\n",
    "a = np.arange(1,10,0.1)\n",
    "len(a) == a.shape[0]\n",
    "a[90-1]"
   ]
  }
 ],
 "metadata": {
  "kernelspec": {
   "display_name": "psychopy",
   "language": "python",
   "name": "python3"
  },
  "language_info": {
   "codemirror_mode": {
    "name": "ipython",
    "version": 3
   },
   "file_extension": ".py",
   "mimetype": "text/x-python",
   "name": "python",
   "nbconvert_exporter": "python",
   "pygments_lexer": "ipython3",
   "version": "3.10.12"
  },
  "orig_nbformat": 4
 },
 "nbformat": 4,
 "nbformat_minor": 2
}
