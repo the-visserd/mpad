{
 "cells": [
  {
   "cell_type": "code",
   "execution_count": 1,
   "metadata": {},
   "outputs": [],
   "source": [
    "# work in progress"
   ]
  },
  {
   "cell_type": "code",
   "execution_count": 2,
   "metadata": {},
   "outputs": [],
   "source": [
    "import sys\n",
    "from pathlib import Path\n",
    "PROJECT_DIR = Path.cwd()\n",
    "if PROJECT_DIR.stem == 'notebooks':\n",
    "    PROJECT_DIR = PROJECT_DIR.parent\n",
    "    sys.path.insert(0, '..')\n",
    "\n",
    "INTERACTIVE_PLOTTING = True"
   ]
  },
  {
   "cell_type": "code",
   "execution_count": 3,
   "metadata": {},
   "outputs": [],
   "source": [
    "import logging\n",
    "import math\n",
    "import numpy as np\n",
    "import scipy.stats as stats\n",
    "import matplotlib.pyplot as plt\n",
    "\n",
    "from src.experiments.calibration import BayesianEstimatorVAS\n",
    "from src.experiments.log_config import configure_logging\n",
    "configure_logging()"
   ]
  },
  {
   "cell_type": "code",
   "execution_count": 4,
   "metadata": {},
   "outputs": [],
   "source": [
    "def plot_trials(estimator, interactive=True):\n",
    "    \n",
    "    priors = estimator.priors\n",
    "    likelihoods = estimator.likelihoods\n",
    "    posteriors = estimator.posteriors\n",
    "    range_temperature = estimator.range_temp\n",
    "    min_temperature = estimator.min_temp\n",
    "    max_temperature = estimator.max_temp\n",
    "    trials = estimator.trials\n",
    "    \n",
    "    if interactive:\n",
    "    # reload vs window if plot appears twice\n",
    "        import ipywidgets as widgets \n",
    "        from IPython.display import display\n",
    "\n",
    "        def plot_trial(trial):\n",
    "            plt.clf()\n",
    "            plt.plot(range_temperature, priors[trial], label='Prior')\n",
    "            plt.plot(range_temperature, likelihoods[trial], label='Likelihood')\n",
    "            plt.plot(range_temperature, posteriors[trial], label='Posterior')\n",
    "            plt.title(f'Trial {trial+1} of {trials}')\n",
    "            plt.xlim([min_temperature, max_temperature])\n",
    "            plt.ylim([0, 1])\n",
    "            plt.xlabel('Temperature (°C)')\n",
    "            plt.ylabel('Probability')\n",
    "            plt.xticks(np.arange(min_temperature, max_temperature+1, 1))\n",
    "            plt.legend(bbox_to_anchor=(0.5, -0.15), loc='upper center', ncol=3)\n",
    "\n",
    "        # Create a slider for the trial number\n",
    "        trial_slider = widgets.IntSlider(min=0, max=trials-1, step=1, value=0);\n",
    "\n",
    "        # Create Next and Previous buttons, define click events and link them to the buttons\n",
    "        next_button = widgets.Button(description=\"Next\")\n",
    "        prev_button = widgets.Button(description=\"Previous\")\n",
    "        def next_button_clicked(b): # b is the button instance\n",
    "            if trial_slider.value < trial_slider.max:\n",
    "                trial_slider.value += 1\n",
    "        def prev_button_clicked(b):\n",
    "            if trial_slider.value > trial_slider.min:\n",
    "                trial_slider.value -= 1\n",
    "        next_button.on_click(next_button_clicked)\n",
    "        prev_button.on_click(prev_button_clicked)\n",
    "\n",
    "        # Use the interact function to automatically update the plot when the slider is moved\n",
    "        out = widgets.interactive_output(plot_trial, {'trial': trial_slider});\n",
    "\n",
    "        # Display the slider and the buttons on top of the figure (box on box)\n",
    "        display(widgets.VBox([widgets.HBox([trial_slider, prev_button, next_button]), out]))\n",
    "        \n",
    "    else:\n",
    "        # One figure with all trials\n",
    "        fig, ax = plt.subplots(trials, 1, figsize=(5, 10))\n",
    "        for trial in range(trials):\n",
    "            ax[trial].plot(range_temperature, priors[trial], label='Prior')\n",
    "            ax[trial].plot(range_temperature, likelihoods[trial], label='Likelihood')\n",
    "            ax[trial].plot(range_temperature, posteriors[trial], label='Posterior')\n",
    "            ax[trial].set_title(f'Trial {trial+1}')\n",
    "\n",
    "            # Add x-axis label to the last diagram only\n",
    "            if trial == trials - 1:\n",
    "                ax[trial].set_xlabel('Temperature (°C)')\n",
    "        plt.tight_layout()\n",
    "        plt.show()\n"
   ]
  },
  {
   "cell_type": "markdown",
   "metadata": {},
   "source": [
    "# Calibration"
   ]
  },
  {
   "cell_type": "code",
   "execution_count": 5,
   "metadata": {},
   "outputs": [],
   "source": [
    "# Preexposure\n",
    "preexposure_temperatures = [35, 36, 37]\n",
    "correction_after_preexposure = 2\n",
    "\n",
    "# VAS 70 estimation\n",
    "trials_vas70 = 7\n",
    "temp_start_vas70 = 42\n",
    "temp_std_vas70 = 3.5\n",
    "\n",
    "# VAS 0 estimation\n",
    "trials_vas0 = 5\n",
    "temp_start_vas0 = None # based on VAS 70 estimation\n",
    "temp_start_vas0_minus = 3\n",
    "temp_start_vas0_std = 1.5\n"
   ]
  },
  {
   "cell_type": "code",
   "execution_count": 6,
   "metadata": {},
   "outputs": [
    {
     "name": "stderr",
     "output_type": "stream",
     "text": [
      "[19:25:32] [INFO] - Calibration preexposure was not painful. Starting temperature for VAS 70 estimation: 40 °C.\n"
     ]
    }
   ],
   "source": [
    "\n",
    "response = input(f'Were any of the preexposure stimuli ({str(preexposure_temperatures)} °C) painful? (y/n) ')\n",
    "if response == \"y\":\n",
    "    temp_start_vas70 = 40\n",
    "    logging.info(f\"Calibration preexposure was painful. Starting temperature for VAS 70 estimation: {temp_start_vas70} °C.\")\n",
    "else:\n",
    "    temp_start_vas70 = 42 - correction_after_preexposure\n",
    "    logging.info(f\"Calibration preexposure was not painful. Starting temperature for VAS 70 estimation: {temp_start_vas70} °C.\")"
   ]
  },
  {
   "cell_type": "code",
   "execution_count": 9,
   "metadata": {},
   "outputs": [
    {
     "name": "stderr",
     "output_type": "stream",
     "text": [
      "[19:26:02] [INFO] - Calibration trial (1/7): 40 °C was under VAS 70.\n",
      "[19:26:02] [INFO] - Calibration trial (2/7): 41.6 °C was under VAS 70.\n",
      "[19:26:02] [INFO] - Calibration trial (3/7): 42.8 °C was under VAS 70.\n",
      "[19:26:02] [INFO] - Calibration trial (4/7): 43.8 °C was under VAS 70.\n",
      "[19:26:02] [INFO] - Calibration trial (5/7): 44.7 °C was under VAS 70.\n",
      "[19:26:02] [INFO] - Calibration trial (6/7): 45.5 °C was under VAS 70.\n",
      "[19:26:02] [INFO] - Calibration trial (7/7): 46.0 °C was under VAS 70.\n",
      "[19:26:02] [INFO] - Calibration estimate for VAS 70: 46.0 °C.\n",
      "[19:26:02] [INFO] - Calibration steps were (°C): [1.6 1.2 1.  0.9 0.8 0.5 0. ].\n",
      "[19:26:02] [WARNING] - Calibration steps were all in the same direction.\n",
      "[19:26:02] [INFO] - Estimated temperature for VAS 50: 46.0 °C\n"
     ]
    }
   ],
   "source": [
    "# Get estimate for VAS 70\n",
    "trials = 7\n",
    "estimator_vas70 = BayesianEstimatorVAS(\n",
    "    vas_value= 70, \n",
    "    temp_start=temp_start_vas70, \n",
    "    temp_std=temp_std_vas70,\n",
    "    trials=trials)\n",
    "\n",
    "for trial in range(estimator_vas70.trials):\n",
    "    response = input(f'Is this stimulus painful? (y/n) ') \n",
    "    estimator_vas70.conduct_trial(response,trial=trial)\n",
    "\n",
    "logging.info(f\"Estimated temperature for VAS 50: {estimator_vas70.get_estimate()} °C\")"
   ]
  },
  {
   "cell_type": "code",
   "execution_count": 8,
   "metadata": {},
   "outputs": [
    {
     "data": {
      "application/vnd.jupyter.widget-view+json": {
       "model_id": "06e3604deba54d2ca1c085af308752c9",
       "version_major": 2,
       "version_minor": 0
      },
      "text/plain": [
       "VBox(children=(HBox(children=(IntSlider(value=0, max=6), Button(description='Previous', style=ButtonStyle()), …"
      ]
     },
     "metadata": {},
     "output_type": "display_data"
    }
   ],
   "source": [
    "plot_trials(estimator_vas70, interactive=True)"
   ]
  }
 ],
 "metadata": {
  "kernelspec": {
   "display_name": "psychopy",
   "language": "python",
   "name": "python3"
  },
  "language_info": {
   "codemirror_mode": {
    "name": "ipython",
    "version": 3
   },
   "file_extension": ".py",
   "mimetype": "text/x-python",
   "name": "python",
   "nbconvert_exporter": "python",
   "pygments_lexer": "ipython3",
   "version": "3.11.6"
  },
  "orig_nbformat": 4
 },
 "nbformat": 4,
 "nbformat_minor": 2
}
