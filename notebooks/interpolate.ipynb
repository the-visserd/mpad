{
 "cells": [
  {
   "cell_type": "code",
   "execution_count": 132,
   "metadata": {},
   "outputs": [],
   "source": [
    "%%capture\n",
    "from pathlib import Path\n",
    "\n",
    "if Path.cwd().stem == \"notebooks\":\n",
    "    %cd ..\n",
    "    %load_ext autoreload\n",
    "    %autoreload 2"
   ]
  },
  {
   "cell_type": "code",
   "execution_count": 133,
   "metadata": {},
   "outputs": [],
   "source": [
    "import logging\n",
    "from pathlib import Path\n",
    "\n",
    "import altair as alt\n",
    "import holoviews as hv\n",
    "import hvplot.polars  # noqa\n",
    "import matplotlib.pyplot as plt\n",
    "import numpy as np\n",
    "import polars as pl\n",
    "from polars import col\n",
    "\n",
    "from src.data.database_manager import DatabaseManager\n",
    "from src.features.labels import add_labels, process_labels\n",
    "from src.features.resampling import add_timestamp_μs_column, interpolate_and_fill_nulls\n",
    "from src.features.scaling import scale_min_max\n",
    "from src.features.transforming import map_trials, merge_dfs\n",
    "from src.features.utils import to_describe\n",
    "from src.log_config import configure_logging\n",
    "from src.plots.confidence_intervals import plot_confidence_intervals\n",
    "from src.plots.correlations import (\n",
    "    aggregate_correlations_fisher_z,\n",
    "    calculate_correlations_by_trial,\n",
    "    plot_correlations_by_participant,\n",
    "    plot_correlations_by_trial,\n",
    ")\n",
    "from src.plots.utils import prepare_multiline_hvplot\n",
    "\n",
    "logger = logging.getLogger(__name__.rsplit(\".\", maxsplit=1)[-1])\n",
    "configure_logging(\n",
    "    stream_level=logging.DEBUG,\n",
    "    ignore_libs=[\"matplotlib\", \"Comm\", \"bokeh\", \"tornado\", \"param\", \"numba\"],\n",
    ")\n",
    "\n",
    "pl.Config.set_tbl_rows(12)  # for the 12 trials\n",
    "hv.output(widget_location=\"bottom\", size=130)"
   ]
  },
  {
   "cell_type": "code",
   "execution_count": 134,
   "metadata": {},
   "outputs": [],
   "source": [
    "db = DatabaseManager()"
   ]
  },
  {
   "cell_type": "code",
   "execution_count": 135,
   "metadata": {},
   "outputs": [
    {
     "data": {
      "text/html": [
       "<div><style>\n",
       ".dataframe > thead > tr,\n",
       ".dataframe > tbody > tr {\n",
       "  text-align: right;\n",
       "  white-space: pre-wrap;\n",
       "}\n",
       "</style>\n",
       "<small>shape: (1_185_520, 13)</small><table border=\"1\" class=\"dataframe\"><thead><tr><th>trial_id</th><th>trial_number</th><th>participant_id</th><th>rownumber</th><th>timestamp</th><th>samplenumber</th><th>eda_raw</th><th>eda_tonic</th><th>eda_phasic</th><th>timestamp_µs</th><th>temperature</th><th>rating</th><th>timestamp_µs_right</th></tr><tr><td>u16</td><td>u8</td><td>u8</td><td>u32</td><td>f64</td><td>i64</td><td>f64</td><td>f64</td><td>f64</td><td>i64</td><td>f64</td><td>f64</td><td>i64</td></tr></thead><tbody><tr><td>1</td><td>1</td><td>1</td><td>37660</td><td>294210.3603</td><td>57892</td><td>0.743774</td><td>0.743503</td><td>0.000271</td><td>294210360</td><td>null</td><td>null</td><td>null</td></tr><tr><td>1</td><td>1</td><td>1</td><td>null</td><td>294224.331</td><td>null</td><td>null</td><td>null</td><td>null</td><td>294224331</td><td>0.0</td><td>0.425</td><td>294224331</td></tr><tr><td>1</td><td>1</td><td>1</td><td>37673</td><td>294340.0132</td><td>57905</td><td>0.745042</td><td>0.743523</td><td>0.001519</td><td>294340013</td><td>null</td><td>null</td><td>null</td></tr><tr><td>1</td><td>1</td><td>1</td><td>null</td><td>294357.9645</td><td>null</td><td>null</td><td>null</td><td>null</td><td>294357964</td><td>0.000069</td><td>0.425</td><td>294357964</td></tr><tr><td>1</td><td>1</td><td>1</td><td>37687</td><td>294421.1276</td><td>57919</td><td>0.744819</td><td>0.743543</td><td>0.001276</td><td>294421127</td><td>null</td><td>null</td><td>null</td></tr><tr><td>1</td><td>1</td><td>1</td><td>null</td><td>294458.0292</td><td>null</td><td>null</td><td>null</td><td>null</td><td>294458029</td><td>0.000277</td><td>0.35375</td><td>294458029</td></tr><tr><td>&hellip;</td><td>&hellip;</td><td>&hellip;</td><td>&hellip;</td><td>&hellip;</td><td>&hellip;</td><td>&hellip;</td><td>&hellip;</td><td>&hellip;</td><td>&hellip;</td><td>&hellip;</td><td>&hellip;</td><td>&hellip;</td></tr><tr><td>332</td><td>12</td><td>28</td><td>null</td><td>2.7769e6</td><td>null</td><td>null</td><td>null</td><td>null</td><td>2776927121</td><td>0.155637</td><td>0.85</td><td>2776927121</td></tr><tr><td>332</td><td>12</td><td>28</td><td>355456</td><td>2.7769e6</td><td>467053</td><td>13.50079</td><td>13.42346</td><td>-0.025488</td><td>2776943078</td><td>null</td><td>null</td><td>null</td></tr><tr><td>332</td><td>12</td><td>28</td><td>355470</td><td>2.7770e6</td><td>467067</td><td>13.514941</td><td>13.423458</td><td>-0.017623</td><td>2777017878</td><td>null</td><td>null</td><td>null</td></tr><tr><td>332</td><td>12</td><td>28</td><td>null</td><td>2.7770e6</td><td>null</td><td>null</td><td>null</td><td>null</td><td>2777026855</td><td>0.155438</td><td>0.85</td><td>2777026855</td></tr><tr><td>332</td><td>12</td><td>28</td><td>355482</td><td>2.7771e6</td><td>467079</td><td>13.527566</td><td>13.423457</td><td>-0.010244</td><td>2777124822</td><td>null</td><td>null</td><td>null</td></tr><tr><td>332</td><td>12</td><td>28</td><td>null</td><td>2.7771e6</td><td>null</td><td>null</td><td>null</td><td>null</td><td>2777126816</td><td>0.155438</td><td>0.85</td><td>2777126816</td></tr></tbody></table></div>"
      ],
      "text/plain": [
       "shape: (1_185_520, 13)\n",
       "┌──────────┬────────────┬────────────┬───────────┬───┬───────────┬───────────┬─────────┬───────────┐\n",
       "│ trial_id ┆ trial_numb ┆ participan ┆ rownumber ┆ … ┆ timestamp ┆ temperatu ┆ rating  ┆ timestamp │\n",
       "│ ---      ┆ er         ┆ t_id       ┆ ---       ┆   ┆ _µs       ┆ re        ┆ ---     ┆ _µs_right │\n",
       "│ u16      ┆ ---        ┆ ---        ┆ u32       ┆   ┆ ---       ┆ ---       ┆ f64     ┆ ---       │\n",
       "│          ┆ u8         ┆ u8         ┆           ┆   ┆ i64       ┆ f64       ┆         ┆ i64       │\n",
       "╞══════════╪════════════╪════════════╪═══════════╪═══╪═══════════╪═══════════╪═════════╪═══════════╡\n",
       "│ 1        ┆ 1          ┆ 1          ┆ 37660     ┆ … ┆ 294210360 ┆ null      ┆ null    ┆ null      │\n",
       "│ 1        ┆ 1          ┆ 1          ┆ null      ┆ … ┆ 294224331 ┆ 0.0       ┆ 0.425   ┆ 294224331 │\n",
       "│ 1        ┆ 1          ┆ 1          ┆ 37673     ┆ … ┆ 294340013 ┆ null      ┆ null    ┆ null      │\n",
       "│ 1        ┆ 1          ┆ 1          ┆ null      ┆ … ┆ 294357964 ┆ 0.000069  ┆ 0.425   ┆ 294357964 │\n",
       "│ 1        ┆ 1          ┆ 1          ┆ 37687     ┆ … ┆ 294421127 ┆ null      ┆ null    ┆ null      │\n",
       "│ 1        ┆ 1          ┆ 1          ┆ null      ┆ … ┆ 294458029 ┆ 0.000277  ┆ 0.35375 ┆ 294458029 │\n",
       "│ …        ┆ …          ┆ …          ┆ …         ┆ … ┆ …         ┆ …         ┆ …       ┆ …         │\n",
       "│ 332      ┆ 12         ┆ 28         ┆ null      ┆ … ┆ 277692712 ┆ 0.155637  ┆ 0.85    ┆ 277692712 │\n",
       "│          ┆            ┆            ┆           ┆   ┆ 1         ┆           ┆         ┆ 1         │\n",
       "│ 332      ┆ 12         ┆ 28         ┆ 355456    ┆ … ┆ 277694307 ┆ null      ┆ null    ┆ null      │\n",
       "│          ┆            ┆            ┆           ┆   ┆ 8         ┆           ┆         ┆           │\n",
       "│ 332      ┆ 12         ┆ 28         ┆ 355470    ┆ … ┆ 277701787 ┆ null      ┆ null    ┆ null      │\n",
       "│          ┆            ┆            ┆           ┆   ┆ 8         ┆           ┆         ┆           │\n",
       "│ 332      ┆ 12         ┆ 28         ┆ null      ┆ … ┆ 277702685 ┆ 0.155438  ┆ 0.85    ┆ 277702685 │\n",
       "│          ┆            ┆            ┆           ┆   ┆ 5         ┆           ┆         ┆ 5         │\n",
       "│ 332      ┆ 12         ┆ 28         ┆ 355482    ┆ … ┆ 277712482 ┆ null      ┆ null    ┆ null      │\n",
       "│          ┆            ┆            ┆           ┆   ┆ 2         ┆           ┆         ┆           │\n",
       "│ 332      ┆ 12         ┆ 28         ┆ null      ┆ … ┆ 277712681 ┆ 0.155438  ┆ 0.85    ┆ 277712681 │\n",
       "│          ┆            ┆            ┆           ┆   ┆ 6         ┆           ┆         ┆ 6         │\n",
       "└──────────┴────────────┴────────────┴───────────┴───┴───────────┴───────────┴─────────┴───────────┘"
      ]
     },
     "execution_count": 135,
     "metadata": {},
     "output_type": "execute_result"
    }
   ],
   "source": [
    "exclude_invalid_trials = False\n",
    "with db:\n",
    "    eda = db.get_table(\"Feature_EDA\", exclude_invalid_trials)\n",
    "    stimulus = db.get_table(\"Feature_Stimulus\", exclude_invalid_trials)\n",
    "    trials = db.get_table(\"Trials\", exclude_invalid_trials)\n",
    "\n",
    "stimulus = add_timestamp_μs_column(stimulus)\n",
    "eda = add_timestamp_μs_column(eda)\n",
    "\n",
    "df = merge_dfs([eda, stimulus])\n",
    "df = add_timestamp_µs_column(df)\n",
    "df"
   ]
  },
  {
   "cell_type": "code",
   "execution_count": null,
   "metadata": {},
   "outputs": [
    {
     "data": {
      "text/plain": [
       "99.9982537825655"
      ]
     },
     "execution_count": 136,
     "metadata": {},
     "output_type": "execute_result"
    }
   ],
   "source": []
  },
  {
   "cell_type": "code",
   "execution_count": null,
   "metadata": {},
   "outputs": [
    {
     "data": {
      "text/plain": [
       "4.1968711161609304"
      ]
     },
     "execution_count": 137,
     "metadata": {},
     "output_type": "execute_result"
    }
   ],
   "source": [
    "stimulus.with_columns(\n",
    "    col(\"timestamp\").diff().mean().over(\"trial_id\").alias(\"diff_mean\")\n",
    ").get_column(\"diff_mean\").unique().mean()\n",
    "\n",
    "stimulus.with_columns(\n",
    "    col(\"timestamp\").diff().std().over(\"trial_id\").alias(\"diff_std\")\n",
    ").get_column(\"diff_std\").unique().mean()"
   ]
  },
  {
   "cell_type": "code",
   "execution_count": 138,
   "metadata": {},
   "outputs": [
    {
     "data": {
      "text/html": [
       "<div><style>\n",
       ".dataframe > thead > tr,\n",
       ".dataframe > tbody > tr {\n",
       "  text-align: right;\n",
       "  white-space: pre-wrap;\n",
       "}\n",
       "</style>\n",
       "<small>shape: (597_860, 8)</small><table border=\"1\" class=\"dataframe\"><thead><tr><th>trial_id</th><th>trial_number</th><th>participant_id</th><th>rownumber</th><th>timestamp</th><th>temperature</th><th>rating</th><th>timestamp_µs</th></tr><tr><td>u16</td><td>u8</td><td>u8</td><td>u32</td><td>f64</td><td>f64</td><td>f64</td><td>i64</td></tr></thead><tbody><tr><td>1</td><td>1</td><td>1</td><td>0</td><td>294224.331</td><td>0.0</td><td>0.425</td><td>294224331</td></tr><tr><td>1</td><td>1</td><td>1</td><td>1</td><td>294357.9645</td><td>0.000069</td><td>0.425</td><td>294357964</td></tr><tr><td>1</td><td>1</td><td>1</td><td>2</td><td>294458.0292</td><td>0.000277</td><td>0.35375</td><td>294458029</td></tr><tr><td>1</td><td>1</td><td>1</td><td>3</td><td>294558.6006</td><td>0.000622</td><td>0.14875</td><td>294558600</td></tr><tr><td>1</td><td>1</td><td>1</td><td>4</td><td>294658.3354</td><td>0.001106</td><td>0.10125</td><td>294658335</td></tr><tr><td>1</td><td>1</td><td>1</td><td>5</td><td>294758.4957</td><td>0.001728</td><td>0.2275</td><td>294758495</td></tr><tr><td>&hellip;</td><td>&hellip;</td><td>&hellip;</td><td>&hellip;</td><td>&hellip;</td><td>&hellip;</td><td>&hellip;</td><td>&hellip;</td></tr><tr><td>332</td><td>12</td><td>28</td><td>21606</td><td>2.7766e6</td><td>0.158607</td><td>0.85</td><td>2776626924</td></tr><tr><td>332</td><td>12</td><td>28</td><td>21607</td><td>2.7767e6</td><td>0.157223</td><td>0.85</td><td>2776728651</td></tr><tr><td>332</td><td>12</td><td>28</td><td>21608</td><td>2.7768e6</td><td>0.156232</td><td>0.85</td><td>2776826390</td></tr><tr><td>332</td><td>12</td><td>28</td><td>21609</td><td>2.7769e6</td><td>0.155637</td><td>0.85</td><td>2776927121</td></tr><tr><td>332</td><td>12</td><td>28</td><td>21610</td><td>2.7770e6</td><td>0.155438</td><td>0.85</td><td>2777026855</td></tr><tr><td>332</td><td>12</td><td>28</td><td>21611</td><td>2.7771e6</td><td>0.155438</td><td>0.85</td><td>2777126816</td></tr></tbody></table></div>"
      ],
      "text/plain": [
       "shape: (597_860, 8)\n",
       "┌──────────┬─────────────┬────────────┬───────────┬────────────┬────────────┬─────────┬────────────┐\n",
       "│ trial_id ┆ trial_numbe ┆ participan ┆ rownumber ┆ timestamp  ┆ temperatur ┆ rating  ┆ timestamp_ │\n",
       "│ ---      ┆ r           ┆ t_id       ┆ ---       ┆ ---        ┆ e          ┆ ---     ┆ µs         │\n",
       "│ u16      ┆ ---         ┆ ---        ┆ u32       ┆ f64        ┆ ---        ┆ f64     ┆ ---        │\n",
       "│          ┆ u8          ┆ u8         ┆           ┆            ┆ f64        ┆         ┆ i64        │\n",
       "╞══════════╪═════════════╪════════════╪═══════════╪════════════╪════════════╪═════════╪════════════╡\n",
       "│ 1        ┆ 1           ┆ 1          ┆ 0         ┆ 294224.331 ┆ 0.0        ┆ 0.425   ┆ 294224331  │\n",
       "│ 1        ┆ 1           ┆ 1          ┆ 1         ┆ 294357.964 ┆ 0.000069   ┆ 0.425   ┆ 294357964  │\n",
       "│          ┆             ┆            ┆           ┆ 5          ┆            ┆         ┆            │\n",
       "│ 1        ┆ 1           ┆ 1          ┆ 2         ┆ 294458.029 ┆ 0.000277   ┆ 0.35375 ┆ 294458029  │\n",
       "│          ┆             ┆            ┆           ┆ 2          ┆            ┆         ┆            │\n",
       "│ 1        ┆ 1           ┆ 1          ┆ 3         ┆ 294558.600 ┆ 0.000622   ┆ 0.14875 ┆ 294558600  │\n",
       "│          ┆             ┆            ┆           ┆ 6          ┆            ┆         ┆            │\n",
       "│ 1        ┆ 1           ┆ 1          ┆ 4         ┆ 294658.335 ┆ 0.001106   ┆ 0.10125 ┆ 294658335  │\n",
       "│          ┆             ┆            ┆           ┆ 4          ┆            ┆         ┆            │\n",
       "│ 1        ┆ 1           ┆ 1          ┆ 5         ┆ 294758.495 ┆ 0.001728   ┆ 0.2275  ┆ 294758495  │\n",
       "│          ┆             ┆            ┆           ┆ 7          ┆            ┆         ┆            │\n",
       "│ …        ┆ …           ┆ …          ┆ …         ┆ …          ┆ …          ┆ …       ┆ …          │\n",
       "│ 332      ┆ 12          ┆ 28         ┆ 21606     ┆ 2.7766e6   ┆ 0.158607   ┆ 0.85    ┆ 2776626924 │\n",
       "│ 332      ┆ 12          ┆ 28         ┆ 21607     ┆ 2.7767e6   ┆ 0.157223   ┆ 0.85    ┆ 2776728651 │\n",
       "│ 332      ┆ 12          ┆ 28         ┆ 21608     ┆ 2.7768e6   ┆ 0.156232   ┆ 0.85    ┆ 2776826390 │\n",
       "│ 332      ┆ 12          ┆ 28         ┆ 21609     ┆ 2.7769e6   ┆ 0.155637   ┆ 0.85    ┆ 2776927121 │\n",
       "│ 332      ┆ 12          ┆ 28         ┆ 21610     ┆ 2.7770e6   ┆ 0.155438   ┆ 0.85    ┆ 2777026855 │\n",
       "│ 332      ┆ 12          ┆ 28         ┆ 21611     ┆ 2.7771e6   ┆ 0.155438   ┆ 0.85    ┆ 2777126816 │\n",
       "└──────────┴─────────────┴────────────┴───────────┴────────────┴────────────┴─────────┴────────────┘"
      ]
     },
     "execution_count": 138,
     "metadata": {},
     "output_type": "execute_result"
    }
   ],
   "source": [
    "stimulus\n"
   ]
  },
  {
   "cell_type": "code",
   "execution_count": 139,
   "metadata": {},
   "outputs": [
    {
     "data": {
      "text/html": [
       "<div><style>\n",
       ".dataframe > thead > tr,\n",
       ".dataframe > tbody > tr {\n",
       "  text-align: right;\n",
       "  white-space: pre-wrap;\n",
       "}\n",
       "</style>\n",
       "<small>shape: (5_975_372, 10)</small><table border=\"1\" class=\"dataframe\"><thead><tr><th>timestamp_resampling</th><th>trial_id</th><th>trial_number</th><th>participant_id</th><th>rownumber</th><th>timestamp</th><th>temperature</th><th>rating</th><th>timestamp_µs</th><th>original_sampling</th></tr><tr><td>i64</td><td>u16</td><td>u8</td><td>u8</td><td>u32</td><td>f64</td><td>f64</td><td>f64</td><td>i64</td><td>bool</td></tr></thead><tbody><tr><td>294224</td><td>1</td><td>1</td><td>1</td><td>0</td><td>294224.331</td><td>0.0</td><td>0.425</td><td>294224331</td><td>true</td></tr><tr><td>294234</td><td>1</td><td>1</td><td>1</td><td>0</td><td>null</td><td>null</td><td>null</td><td>294224331</td><td>null</td></tr><tr><td>294244</td><td>1</td><td>1</td><td>1</td><td>0</td><td>null</td><td>null</td><td>null</td><td>294224331</td><td>null</td></tr><tr><td>294254</td><td>1</td><td>1</td><td>1</td><td>0</td><td>null</td><td>null</td><td>null</td><td>294224331</td><td>null</td></tr><tr><td>294264</td><td>1</td><td>1</td><td>1</td><td>0</td><td>null</td><td>null</td><td>null</td><td>294224331</td><td>null</td></tr><tr><td>294274</td><td>1</td><td>1</td><td>1</td><td>0</td><td>null</td><td>null</td><td>null</td><td>294224331</td><td>null</td></tr><tr><td>&hellip;</td><td>&hellip;</td><td>&hellip;</td><td>&hellip;</td><td>&hellip;</td><td>&hellip;</td><td>&hellip;</td><td>&hellip;</td><td>&hellip;</td><td>&hellip;</td></tr><tr><td>2777069</td><td>332</td><td>12</td><td>28</td><td>21607</td><td>null</td><td>null</td><td>null</td><td>2776728651</td><td>null</td></tr><tr><td>2777079</td><td>332</td><td>12</td><td>28</td><td>21607</td><td>null</td><td>null</td><td>null</td><td>2776728651</td><td>null</td></tr><tr><td>2777089</td><td>332</td><td>12</td><td>28</td><td>21607</td><td>null</td><td>null</td><td>null</td><td>2776728651</td><td>null</td></tr><tr><td>2777099</td><td>332</td><td>12</td><td>28</td><td>21607</td><td>null</td><td>null</td><td>null</td><td>2776728651</td><td>null</td></tr><tr><td>2777109</td><td>332</td><td>12</td><td>28</td><td>21607</td><td>null</td><td>null</td><td>null</td><td>2776728651</td><td>null</td></tr><tr><td>2777119</td><td>332</td><td>12</td><td>28</td><td>21607</td><td>null</td><td>null</td><td>null</td><td>2776728651</td><td>null</td></tr></tbody></table></div>"
      ],
      "text/plain": [
       "shape: (5_975_372, 10)\n",
       "┌────────────┬──────────┬────────────┬────────────┬───┬───────────┬────────┬───────────┬───────────┐\n",
       "│ timestamp_ ┆ trial_id ┆ trial_numb ┆ participan ┆ … ┆ temperatu ┆ rating ┆ timestamp ┆ original_ │\n",
       "│ resampling ┆ ---      ┆ er         ┆ t_id       ┆   ┆ re        ┆ ---    ┆ _µs       ┆ sampling  │\n",
       "│ ---        ┆ u16      ┆ ---        ┆ ---        ┆   ┆ ---       ┆ f64    ┆ ---       ┆ ---       │\n",
       "│ i64        ┆          ┆ u8         ┆ u8         ┆   ┆ f64       ┆        ┆ i64       ┆ bool      │\n",
       "╞════════════╪══════════╪════════════╪════════════╪═══╪═══════════╪════════╪═══════════╪═══════════╡\n",
       "│ 294224     ┆ 1        ┆ 1          ┆ 1          ┆ … ┆ 0.0       ┆ 0.425  ┆ 294224331 ┆ true      │\n",
       "│ 294234     ┆ 1        ┆ 1          ┆ 1          ┆ … ┆ null      ┆ null   ┆ 294224331 ┆ null      │\n",
       "│ 294244     ┆ 1        ┆ 1          ┆ 1          ┆ … ┆ null      ┆ null   ┆ 294224331 ┆ null      │\n",
       "│ 294254     ┆ 1        ┆ 1          ┆ 1          ┆ … ┆ null      ┆ null   ┆ 294224331 ┆ null      │\n",
       "│ 294264     ┆ 1        ┆ 1          ┆ 1          ┆ … ┆ null      ┆ null   ┆ 294224331 ┆ null      │\n",
       "│ 294274     ┆ 1        ┆ 1          ┆ 1          ┆ … ┆ null      ┆ null   ┆ 294224331 ┆ null      │\n",
       "│ …          ┆ …        ┆ …          ┆ …          ┆ … ┆ …         ┆ …      ┆ …         ┆ …         │\n",
       "│ 2777069    ┆ 332      ┆ 12         ┆ 28         ┆ … ┆ null      ┆ null   ┆ 277672865 ┆ null      │\n",
       "│            ┆          ┆            ┆            ┆   ┆           ┆        ┆ 1         ┆           │\n",
       "│ 2777079    ┆ 332      ┆ 12         ┆ 28         ┆ … ┆ null      ┆ null   ┆ 277672865 ┆ null      │\n",
       "│            ┆          ┆            ┆            ┆   ┆           ┆        ┆ 1         ┆           │\n",
       "│ 2777089    ┆ 332      ┆ 12         ┆ 28         ┆ … ┆ null      ┆ null   ┆ 277672865 ┆ null      │\n",
       "│            ┆          ┆            ┆            ┆   ┆           ┆        ┆ 1         ┆           │\n",
       "│ 2777099    ┆ 332      ┆ 12         ┆ 28         ┆ … ┆ null      ┆ null   ┆ 277672865 ┆ null      │\n",
       "│            ┆          ┆            ┆            ┆   ┆           ┆        ┆ 1         ┆           │\n",
       "│ 2777109    ┆ 332      ┆ 12         ┆ 28         ┆ … ┆ null      ┆ null   ┆ 277672865 ┆ null      │\n",
       "│            ┆          ┆            ┆            ┆   ┆           ┆        ┆ 1         ┆           │\n",
       "│ 2777119    ┆ 332      ┆ 12         ┆ 28         ┆ … ┆ null      ┆ null   ┆ 277672865 ┆ null      │\n",
       "│            ┆          ┆            ┆            ┆   ┆           ┆        ┆ 1         ┆           │\n",
       "└────────────┴──────────┴────────────┴────────────┴───┴───────────┴────────┴───────────┴───────────┘"
      ]
     },
     "execution_count": 139,
     "metadata": {},
     "output_type": "execute_result"
    }
   ],
   "source": [
    "stim = stimulus.with_columns(\n",
    "    col(\"timestamp\").round(0).alias(\"timestamp_resampling\").cast(pl.Int64)\n",
    ")\n",
    "stim = stim.with_columns(original_sampling=pl.lit(True))\n",
    "stim = stim.upsample(\n",
    "    time_column=\"timestamp_resampling\",\n",
    "    every=\"10i\",\n",
    "    maintain_order=True,\n",
    "    group_by=\"trial_id\",\n",
    ").with_columns(\n",
    "    # do not lose crucial information\n",
    "    pl.col(pl.selectors.INTEGER_DTYPES).forward_fill()\n",
    ")\n",
    "\n",
    "stim"
   ]
  },
  {
   "cell_type": "code",
   "execution_count": 178,
   "metadata": {},
   "outputs": [
    {
     "data": {
      "text/html": [
       "<div><style>\n",
       ".dataframe > thead > tr,\n",
       ".dataframe > tbody > tr {\n",
       "  text-align: right;\n",
       "  white-space: pre-wrap;\n",
       "}\n",
       "</style>\n",
       "<small>shape: (5_975_372, 10)</small><table border=\"1\" class=\"dataframe\"><thead><tr><th>timestamp_resampling</th><th>trial_id</th><th>trial_number</th><th>participant_id</th><th>rownumber</th><th>timestamp</th><th>temperature</th><th>rating</th><th>timestamp_µs</th><th>original_sampling</th></tr><tr><td>i64</td><td>u16</td><td>u8</td><td>u8</td><td>u32</td><td>f64</td><td>f64</td><td>f64</td><td>i64</td><td>bool</td></tr></thead><tbody><tr><td>294224</td><td>1</td><td>1</td><td>1</td><td>0</td><td>294224.331</td><td>0.0</td><td>0.425</td><td>294224331</td><td>true</td></tr><tr><td>294234</td><td>1</td><td>1</td><td>1</td><td>0</td><td>294234.329218</td><td>0.000219</td><td>0.425745</td><td>294224331</td><td>false</td></tr><tr><td>294244</td><td>1</td><td>1</td><td>1</td><td>0</td><td>294244.327435</td><td>0.000437</td><td>0.42649</td><td>294224331</td><td>false</td></tr><tr><td>294254</td><td>1</td><td>1</td><td>1</td><td>0</td><td>294254.325653</td><td>0.000656</td><td>0.427234</td><td>294224331</td><td>false</td></tr><tr><td>294264</td><td>1</td><td>1</td><td>1</td><td>0</td><td>294264.323871</td><td>0.000874</td><td>0.427979</td><td>294224331</td><td>false</td></tr><tr><td>294274</td><td>1</td><td>1</td><td>1</td><td>0</td><td>294274.322088</td><td>0.001093</td><td>0.428724</td><td>294224331</td><td>false</td></tr><tr><td>&hellip;</td><td>&hellip;</td><td>&hellip;</td><td>&hellip;</td><td>&hellip;</td><td>&hellip;</td><td>&hellip;</td><td>&hellip;</td><td>&hellip;</td><td>&hellip;</td></tr><tr><td>2777069</td><td>332</td><td>12</td><td>28</td><td>21607</td><td>2.7767e6</td><td>0.157223</td><td>0.85</td><td>2776728651</td><td>false</td></tr><tr><td>2777079</td><td>332</td><td>12</td><td>28</td><td>21607</td><td>2.7767e6</td><td>0.157223</td><td>0.85</td><td>2776728651</td><td>false</td></tr><tr><td>2777089</td><td>332</td><td>12</td><td>28</td><td>21607</td><td>2.7767e6</td><td>0.157223</td><td>0.85</td><td>2776728651</td><td>false</td></tr><tr><td>2777099</td><td>332</td><td>12</td><td>28</td><td>21607</td><td>2.7767e6</td><td>0.157223</td><td>0.85</td><td>2776728651</td><td>false</td></tr><tr><td>2777109</td><td>332</td><td>12</td><td>28</td><td>21607</td><td>2.7767e6</td><td>0.157223</td><td>0.85</td><td>2776728651</td><td>false</td></tr><tr><td>2777119</td><td>332</td><td>12</td><td>28</td><td>21607</td><td>2.7767e6</td><td>0.157223</td><td>0.85</td><td>2776728651</td><td>false</td></tr></tbody></table></div>"
      ],
      "text/plain": [
       "shape: (5_975_372, 10)\n",
       "┌────────────┬──────────┬───────────┬───────────┬───┬───────────┬──────────┬───────────┬───────────┐\n",
       "│ timestamp_ ┆ trial_id ┆ trial_num ┆ participa ┆ … ┆ temperatu ┆ rating   ┆ timestamp ┆ original_ │\n",
       "│ resampling ┆ ---      ┆ ber       ┆ nt_id     ┆   ┆ re        ┆ ---      ┆ _µs       ┆ sampling  │\n",
       "│ ---        ┆ u16      ┆ ---       ┆ ---       ┆   ┆ ---       ┆ f64      ┆ ---       ┆ ---       │\n",
       "│ i64        ┆          ┆ u8        ┆ u8        ┆   ┆ f64       ┆          ┆ i64       ┆ bool      │\n",
       "╞════════════╪══════════╪═══════════╪═══════════╪═══╪═══════════╪══════════╪═══════════╪═══════════╡\n",
       "│ 294224     ┆ 1        ┆ 1         ┆ 1         ┆ … ┆ 0.0       ┆ 0.425    ┆ 294224331 ┆ true      │\n",
       "│ 294234     ┆ 1        ┆ 1         ┆ 1         ┆ … ┆ 0.000219  ┆ 0.425745 ┆ 294224331 ┆ false     │\n",
       "│ 294244     ┆ 1        ┆ 1         ┆ 1         ┆ … ┆ 0.000437  ┆ 0.42649  ┆ 294224331 ┆ false     │\n",
       "│ 294254     ┆ 1        ┆ 1         ┆ 1         ┆ … ┆ 0.000656  ┆ 0.427234 ┆ 294224331 ┆ false     │\n",
       "│ 294264     ┆ 1        ┆ 1         ┆ 1         ┆ … ┆ 0.000874  ┆ 0.427979 ┆ 294224331 ┆ false     │\n",
       "│ 294274     ┆ 1        ┆ 1         ┆ 1         ┆ … ┆ 0.001093  ┆ 0.428724 ┆ 294224331 ┆ false     │\n",
       "│ …          ┆ …        ┆ …         ┆ …         ┆ … ┆ …         ┆ …        ┆ …         ┆ …         │\n",
       "│ 2777069    ┆ 332      ┆ 12        ┆ 28        ┆ … ┆ 0.157223  ┆ 0.85     ┆ 277672865 ┆ false     │\n",
       "│            ┆          ┆           ┆           ┆   ┆           ┆          ┆ 1         ┆           │\n",
       "│ 2777079    ┆ 332      ┆ 12        ┆ 28        ┆ … ┆ 0.157223  ┆ 0.85     ┆ 277672865 ┆ false     │\n",
       "│            ┆          ┆           ┆           ┆   ┆           ┆          ┆ 1         ┆           │\n",
       "│ 2777089    ┆ 332      ┆ 12        ┆ 28        ┆ … ┆ 0.157223  ┆ 0.85     ┆ 277672865 ┆ false     │\n",
       "│            ┆          ┆           ┆           ┆   ┆           ┆          ┆ 1         ┆           │\n",
       "│ 2777099    ┆ 332      ┆ 12        ┆ 28        ┆ … ┆ 0.157223  ┆ 0.85     ┆ 277672865 ┆ false     │\n",
       "│            ┆          ┆           ┆           ┆   ┆           ┆          ┆ 1         ┆           │\n",
       "│ 2777109    ┆ 332      ┆ 12        ┆ 28        ┆ … ┆ 0.157223  ┆ 0.85     ┆ 277672865 ┆ false     │\n",
       "│            ┆          ┆           ┆           ┆   ┆           ┆          ┆ 1         ┆           │\n",
       "│ 2777119    ┆ 332      ┆ 12        ┆ 28        ┆ … ┆ 0.157223  ┆ 0.85     ┆ 277672865 ┆ false     │\n",
       "│            ┆          ┆           ┆           ┆   ┆           ┆          ┆ 1         ┆           │\n",
       "└────────────┴──────────┴───────────┴───────────┴───┴───────────┴──────────┴───────────┴───────────┘"
      ]
     },
     "execution_count": 178,
     "metadata": {},
     "output_type": "execute_result"
    }
   ],
   "source": [
    "st = interpolate_and_fill_nulls(stim, time_column=\"timestamp_resampling\")\n",
    "s = st.with_columns(\n",
    "    pl.when(pl.col(\"original_sampling\"))\n",
    "    .then(pl.col(\"original_sampling\"))\n",
    "    .otherwise(False)\n",
    ")  # .filter(col(\"original_sampling\") == False)\n",
    "s"
   ]
  },
  {
   "cell_type": "code",
   "execution_count": 183,
   "metadata": {},
   "outputs": [
    {
     "data": {
      "text/plain": [
       "0.0"
      ]
     },
     "execution_count": 183,
     "metadata": {},
     "output_type": "execute_result"
    }
   ],
   "source": [
    "s.with_columns(\n",
    "    col(\"timestamp_resampling\").diff().over(\"trial_id\").alias(\"diff\")\n",
    ").get_column(\"diff\").std()\n"
   ]
  },
  {
   "cell_type": "code",
   "execution_count": null,
   "metadata": {},
   "outputs": [],
   "source": [
    "t = eda.filter(col(\"trial_id\") == 1)\n",
    "t = t.with_columns(old_sampling=pl.lit(True))\n",
    "# t = t.with_columns(col(\"timestamp\").cast(pl.Duration(\"ms\")))\n",
    "t = t.upsample(time_column=\"timestamp_µs\", every=\"10i\", maintain_order=True)"
   ]
  },
  {
   "cell_type": "code",
   "execution_count": null,
   "metadata": {},
   "outputs": [
    {
     "data": {
      "text/html": [
       "<div><style>\n",
       ".dataframe > thead > tr,\n",
       ".dataframe > tbody > tr {\n",
       "  text-align: right;\n",
       "  white-space: pre-wrap;\n",
       "}\n",
       "</style>\n",
       "<small>shape: (17_990_161, 11)</small><table border=\"1\" class=\"dataframe\"><thead><tr><th>timestamp_µs</th><th>trial_id</th><th>trial_number</th><th>participant_id</th><th>rownumber</th><th>timestamp</th><th>samplenumber</th><th>eda_raw</th><th>eda_tonic</th><th>eda_phasic</th><th>old_sampling</th></tr><tr><td>i64</td><td>u16</td><td>u8</td><td>u8</td><td>u32</td><td>f64</td><td>i64</td><td>f64</td><td>f64</td><td>f64</td><td>bool</td></tr></thead><tbody><tr><td>294210360</td><td>1</td><td>1</td><td>1</td><td>37660</td><td>294210.3603</td><td>57892</td><td>0.743774</td><td>0.743503</td><td>0.000271</td><td>true</td></tr><tr><td>294210370</td><td>null</td><td>null</td><td>null</td><td>null</td><td>null</td><td>null</td><td>null</td><td>null</td><td>null</td><td>null</td></tr><tr><td>294210380</td><td>null</td><td>null</td><td>null</td><td>null</td><td>null</td><td>null</td><td>null</td><td>null</td><td>null</td><td>null</td></tr><tr><td>294210390</td><td>null</td><td>null</td><td>null</td><td>null</td><td>null</td><td>null</td><td>null</td><td>null</td><td>null</td><td>null</td></tr><tr><td>294210400</td><td>null</td><td>null</td><td>null</td><td>null</td><td>null</td><td>null</td><td>null</td><td>null</td><td>null</td><td>null</td></tr><tr><td>294210410</td><td>null</td><td>null</td><td>null</td><td>null</td><td>null</td><td>null</td><td>null</td><td>null</td><td>null</td><td>null</td></tr><tr><td>&hellip;</td><td>&hellip;</td><td>&hellip;</td><td>&hellip;</td><td>&hellip;</td><td>&hellip;</td><td>&hellip;</td><td>&hellip;</td><td>&hellip;</td><td>&hellip;</td><td>&hellip;</td></tr><tr><td>474111910</td><td>null</td><td>null</td><td>null</td><td>null</td><td>null</td><td>null</td><td>null</td><td>null</td><td>null</td><td>null</td></tr><tr><td>474111920</td><td>null</td><td>null</td><td>null</td><td>null</td><td>null</td><td>null</td><td>null</td><td>null</td><td>null</td><td>null</td></tr><tr><td>474111930</td><td>null</td><td>null</td><td>null</td><td>null</td><td>null</td><td>null</td><td>null</td><td>null</td><td>null</td><td>null</td></tr><tr><td>474111940</td><td>null</td><td>null</td><td>null</td><td>null</td><td>null</td><td>null</td><td>null</td><td>null</td><td>null</td><td>null</td></tr><tr><td>474111950</td><td>null</td><td>null</td><td>null</td><td>null</td><td>null</td><td>null</td><td>null</td><td>null</td><td>null</td><td>null</td></tr><tr><td>474111960</td><td>null</td><td>null</td><td>null</td><td>null</td><td>null</td><td>null</td><td>null</td><td>null</td><td>null</td><td>null</td></tr></tbody></table></div>"
      ],
      "text/plain": [
       "shape: (17_990_161, 11)\n",
       "┌────────────┬──────────┬───────────┬───────────┬───┬──────────┬───────────┬───────────┬───────────┐\n",
       "│ timestamp_ ┆ trial_id ┆ trial_num ┆ participa ┆ … ┆ eda_raw  ┆ eda_tonic ┆ eda_phasi ┆ old_sampl │\n",
       "│ µs         ┆ ---      ┆ ber       ┆ nt_id     ┆   ┆ ---      ┆ ---       ┆ c         ┆ ing       │\n",
       "│ ---        ┆ u16      ┆ ---       ┆ ---       ┆   ┆ f64      ┆ f64       ┆ ---       ┆ ---       │\n",
       "│ i64        ┆          ┆ u8        ┆ u8        ┆   ┆          ┆           ┆ f64       ┆ bool      │\n",
       "╞════════════╪══════════╪═══════════╪═══════════╪═══╪══════════╪═══════════╪═══════════╪═══════════╡\n",
       "│ 294210360  ┆ 1        ┆ 1         ┆ 1         ┆ … ┆ 0.743774 ┆ 0.743503  ┆ 0.000271  ┆ true      │\n",
       "│ 294210370  ┆ null     ┆ null      ┆ null      ┆ … ┆ null     ┆ null      ┆ null      ┆ null      │\n",
       "│ 294210380  ┆ null     ┆ null      ┆ null      ┆ … ┆ null     ┆ null      ┆ null      ┆ null      │\n",
       "│ 294210390  ┆ null     ┆ null      ┆ null      ┆ … ┆ null     ┆ null      ┆ null      ┆ null      │\n",
       "│ 294210400  ┆ null     ┆ null      ┆ null      ┆ … ┆ null     ┆ null      ┆ null      ┆ null      │\n",
       "│ 294210410  ┆ null     ┆ null      ┆ null      ┆ … ┆ null     ┆ null      ┆ null      ┆ null      │\n",
       "│ …          ┆ …        ┆ …         ┆ …         ┆ … ┆ …        ┆ …         ┆ …         ┆ …         │\n",
       "│ 474111910  ┆ null     ┆ null      ┆ null      ┆ … ┆ null     ┆ null      ┆ null      ┆ null      │\n",
       "│ 474111920  ┆ null     ┆ null      ┆ null      ┆ … ┆ null     ┆ null      ┆ null      ┆ null      │\n",
       "│ 474111930  ┆ null     ┆ null      ┆ null      ┆ … ┆ null     ┆ null      ┆ null      ┆ null      │\n",
       "│ 474111940  ┆ null     ┆ null      ┆ null      ┆ … ┆ null     ┆ null      ┆ null      ┆ null      │\n",
       "│ 474111950  ┆ null     ┆ null      ┆ null      ┆ … ┆ null     ┆ null      ┆ null      ┆ null      │\n",
       "│ 474111960  ┆ null     ┆ null      ┆ null      ┆ … ┆ null     ┆ null      ┆ null      ┆ null      │\n",
       "└────────────┴──────────┴───────────┴───────────┴───┴──────────┴───────────┴───────────┴───────────┘"
      ]
     },
     "execution_count": 76,
     "metadata": {},
     "output_type": "execute_result"
    }
   ],
   "source": [
    "t"
   ]
  },
  {
   "cell_type": "code",
   "execution_count": null,
   "metadata": {},
   "outputs": [
    {
     "data": {
      "text/html": [
       "<div><style>\n",
       ".dataframe > thead > tr,\n",
       ".dataframe > tbody > tr {\n",
       "  text-align: right;\n",
       "  white-space: pre-wrap;\n",
       "}\n",
       "</style>\n",
       "<small>shape: (4, 3)</small><table border=\"1\" class=\"dataframe\"><thead><tr><th>time</th><th>groups</th><th>values</th></tr><tr><td>datetime[μs]</td><td>str</td><td>i64</td></tr></thead><tbody><tr><td>2021-02-01 00:00:00</td><td>&quot;A&quot;</td><td>0</td></tr><tr><td>2021-04-01 00:00:00</td><td>&quot;B&quot;</td><td>1</td></tr><tr><td>2021-05-01 00:00:00</td><td>&quot;A&quot;</td><td>2</td></tr><tr><td>2021-06-01 00:00:00</td><td>&quot;B&quot;</td><td>3</td></tr></tbody></table></div>"
      ],
      "text/plain": [
       "shape: (4, 3)\n",
       "┌─────────────────────┬────────┬────────┐\n",
       "│ time                ┆ groups ┆ values │\n",
       "│ ---                 ┆ ---    ┆ ---    │\n",
       "│ datetime[μs]        ┆ str    ┆ i64    │\n",
       "╞═════════════════════╪════════╪════════╡\n",
       "│ 2021-02-01 00:00:00 ┆ A      ┆ 0      │\n",
       "│ 2021-04-01 00:00:00 ┆ B      ┆ 1      │\n",
       "│ 2021-05-01 00:00:00 ┆ A      ┆ 2      │\n",
       "│ 2021-06-01 00:00:00 ┆ B      ┆ 3      │\n",
       "└─────────────────────┴────────┴────────┘"
      ]
     },
     "execution_count": 77,
     "metadata": {},
     "output_type": "execute_result"
    }
   ],
   "source": [
    "from datetime import datetime\n",
    "\n",
    "a = pl.DataFrame(\n",
    "    {\n",
    "        \"time\": [\n",
    "            datetime(2021, 2, 1),\n",
    "            datetime(2021, 4, 1),\n",
    "            datetime(2021, 5, 1),\n",
    "            datetime(2021, 6, 1),\n",
    "        ],\n",
    "        \"groups\": [\"A\", \"B\", \"A\", \"B\"],\n",
    "        \"values\": [0, 1, 2, 3],\n",
    "    }\n",
    ").set_sorted(\"time\")\n",
    "# a.upsample(\n",
    "#     time_column=\"time\", every=\"1mo\", group_by=\"groups\", maintain_order=True\n",
    "# ).select(pl.all().forward_fill())\n",
    "a"
   ]
  },
  {
   "cell_type": "code",
   "execution_count": null,
   "metadata": {},
   "outputs": [
    {
     "data": {
      "text/plain": [
       "294210360"
      ]
     },
     "execution_count": 78,
     "metadata": {},
     "output_type": "execute_result"
    }
   ],
   "source": [
    "294210360"
   ]
  },
  {
   "cell_type": "code",
   "execution_count": null,
   "metadata": {},
   "outputs": [
    {
     "data": {
      "text/html": [
       "<div><style>\n",
       ".dataframe > thead > tr,\n",
       ".dataframe > tbody > tr {\n",
       "  text-align: right;\n",
       "  white-space: pre-wrap;\n",
       "}\n",
       "</style>\n",
       "<small>shape: (7, 3)</small><table border=\"1\" class=\"dataframe\"><thead><tr><th>time</th><th>groups</th><th>values</th></tr><tr><td>datetime[μs]</td><td>str</td><td>i64</td></tr></thead><tbody><tr><td>2021-02-01 00:00:00</td><td>&quot;A&quot;</td><td>0</td></tr><tr><td>2021-03-01 00:00:00</td><td>&quot;A&quot;</td><td>0</td></tr><tr><td>2021-04-01 00:00:00</td><td>&quot;A&quot;</td><td>0</td></tr><tr><td>2021-05-01 00:00:00</td><td>&quot;A&quot;</td><td>2</td></tr><tr><td>2021-04-01 00:00:00</td><td>&quot;B&quot;</td><td>1</td></tr><tr><td>2021-05-01 00:00:00</td><td>&quot;B&quot;</td><td>1</td></tr><tr><td>2021-06-01 00:00:00</td><td>&quot;B&quot;</td><td>3</td></tr></tbody></table></div>"
      ],
      "text/plain": [
       "shape: (7, 3)\n",
       "┌─────────────────────┬────────┬────────┐\n",
       "│ time                ┆ groups ┆ values │\n",
       "│ ---                 ┆ ---    ┆ ---    │\n",
       "│ datetime[μs]        ┆ str    ┆ i64    │\n",
       "╞═════════════════════╪════════╪════════╡\n",
       "│ 2021-02-01 00:00:00 ┆ A      ┆ 0      │\n",
       "│ 2021-03-01 00:00:00 ┆ A      ┆ 0      │\n",
       "│ 2021-04-01 00:00:00 ┆ A      ┆ 0      │\n",
       "│ 2021-05-01 00:00:00 ┆ A      ┆ 2      │\n",
       "│ 2021-04-01 00:00:00 ┆ B      ┆ 1      │\n",
       "│ 2021-05-01 00:00:00 ┆ B      ┆ 1      │\n",
       "│ 2021-06-01 00:00:00 ┆ B      ┆ 3      │\n",
       "└─────────────────────┴────────┴────────┘"
      ]
     },
     "execution_count": 79,
     "metadata": {},
     "output_type": "execute_result"
    }
   ],
   "source": [
    "from datetime import datetime\n",
    "\n",
    "df = pl.DataFrame(\n",
    "    {\n",
    "        \"time\": [\n",
    "            datetime(2021, 2, 1),\n",
    "            datetime(2021, 4, 1),\n",
    "            datetime(2021, 5, 1),\n",
    "            datetime(2021, 6, 1),\n",
    "        ],\n",
    "        \"groups\": [\"A\", \"B\", \"A\", \"B\"],\n",
    "        \"values\": [0, 1, 2, 3],\n",
    "    }\n",
    ").set_sorted(\"time\")\n",
    "df.upsample(\n",
    "    time_column=\"time\", every=\"1mo\", group_by=\"groups\", maintain_order=True\n",
    ").select(pl.all().forward_fill())"
   ]
  },
  {
   "cell_type": "code",
   "execution_count": null,
   "metadata": {},
   "outputs": [],
   "source": []
  },
  {
   "cell_type": "code",
   "execution_count": null,
   "metadata": {},
   "outputs": [],
   "source": []
  },
  {
   "cell_type": "code",
   "execution_count": null,
   "metadata": {},
   "outputs": [],
   "source": []
  }
 ],
 "metadata": {
  "kernelspec": {
   "display_name": "pain",
   "language": "python",
   "name": "python3"
  },
  "language_info": {
   "codemirror_mode": {
    "name": "ipython",
    "version": 3
   },
   "file_extension": ".py",
   "mimetype": "text/x-python",
   "name": "python",
   "nbconvert_exporter": "python",
   "pygments_lexer": "ipython3",
   "version": "3.12.4"
  }
 },
 "nbformat": 4,
 "nbformat_minor": 2
}
