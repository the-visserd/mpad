{
 "cells": [
  {
   "cell_type": "code",
   "execution_count": 66,
   "metadata": {},
   "outputs": [],
   "source": [
    "from pathlib import Path\n",
    "import logging\n",
    "if Path.cwd().stem == 'notebooks':\n",
    "    %cd ..\n",
    "from src.log_config import configure_logging\n",
    "configure_logging(stream_level=logging.DEBUG, ignore_libs=[\"bokeh\",\"matplotlib\",\"tornado\"])"
   ]
  },
  {
   "cell_type": "code",
   "execution_count": 67,
   "metadata": {},
   "outputs": [
    {
     "data": {
      "text/plain": [
       "(100,)"
      ]
     },
     "execution_count": 67,
     "metadata": {},
     "output_type": "execute_result"
    }
   ],
   "source": [
    "import numpy as np\n",
    "from scipy import signal\n",
    "\n",
    "bin_size = 500\n",
    "\n",
    "# Create test array\n",
    "x = np.arange(0, 10, 0.1)\n",
    "sampling_rate = 5\n",
    "x.shape"
   ]
  },
  {
   "cell_type": "code",
   "execution_count": 68,
   "metadata": {},
   "outputs": [
    {
     "name": "stdout",
     "output_type": "stream",
     "text": [
      "20.0\n"
     ]
    }
   ],
   "source": [
    "print(len(x) / sampling_rate)"
   ]
  },
  {
   "cell_type": "code",
   "execution_count": 69,
   "metadata": {},
   "outputs": [
    {
     "name": "stdout",
     "output_type": "stream",
     "text": [
      "22:16:41 | \u001b[92mINFO    \u001b[0m| thermoino | Thermoino for complex time courses initialized.\n",
      "22:16:41 | \u001b[92mINFO    \u001b[0m| thermoino | Connection established.\n",
      "22:16:42 | \u001b[36mDEBUG   \u001b[0m| thermoino | Complex temperature course (CTC)) initialized.\n",
      "22:16:42 | \u001b[36mDEBUG   \u001b[0m| thermoino | Complex temperature course (CTC) created with 49 bins of 500 ms.\n"
     ]
    }
   ],
   "source": [
    "from src.expyriment.thermoino import ThermoinoComplexTimeCourses\n",
    "\n",
    "port = \"COM7\"\n",
    "thermoino = ThermoinoComplexTimeCourses(\n",
    "    port=port,\n",
    "    mms_baseline=28,  # has to be the same as in MMS\n",
    "    mms_rate_of_rise=10,  # has to be the same as in MMS\n",
    ")\n",
    "\n",
    "# Use thermoino for complex temperature courses:\n",
    "thermoino.connect()\n",
    "thermoino.init_ctc(bin_size_ms=bin_size)\n",
    "thermoino.create_ctc(\n",
    "    temp_course=x, sample_rate=sampling_rate\n",
    ")"
   ]
  },
  {
   "cell_type": "code",
   "execution_count": null,
   "metadata": {},
   "outputs": [],
   "source": [
    "temp_course_resampled = x[:: int(sampling_rate / (1000 / bin_size))]\n",
    "temp_course_resampled.shape"
   ]
  },
  {
   "cell_type": "code",
   "execution_count": 77,
   "metadata": {},
   "outputs": [
    {
     "name": "stdout",
     "output_type": "stream",
     "text": [
      "25.0\n"
     ]
    }
   ],
   "source": [
    "print(temp_course_resampled.shape[0] * 500 / 1000)"
   ]
  },
  {
   "cell_type": "code",
   "execution_count": null,
   "metadata": {},
   "outputs": [],
   "source": []
  },
  {
   "cell_type": "code",
   "execution_count": 85,
   "metadata": {},
   "outputs": [],
   "source": [
    "import numpy as np\n",
    "from scipy import signal\n",
    "\n",
    "# Resampling\n",
    "new_sampling_rate = (1000 / bin_size)\n",
    "resample_ratio = sampling_rate / new_sampling_rate\n",
    "resampled_x = signal.resample(x, int(len(x) / resample_ratio))\n",
    "assert len(x) / sampling_rate == len(resampled_x) / new_sampling_rate"
   ]
  },
  {
   "cell_type": "code",
   "execution_count": 84,
   "metadata": {},
   "outputs": [
    {
     "name": "stdout",
     "output_type": "stream",
     "text": [
      "20.0\n"
     ]
    }
   ],
   "source": [
    "print(len(resampled_x) * bin_size / 1000)\n"
   ]
  },
  {
   "cell_type": "code",
   "execution_count": null,
   "metadata": {},
   "outputs": [],
   "source": []
  }
 ],
 "metadata": {
  "kernelspec": {
   "display_name": "expy",
   "language": "python",
   "name": "python3"
  },
  "language_info": {
   "codemirror_mode": {
    "name": "ipython",
    "version": 3
   },
   "file_extension": ".py",
   "mimetype": "text/x-python",
   "name": "python",
   "nbconvert_exporter": "python",
   "pygments_lexer": "ipython3",
   "version": "3.11.7"
  }
 },
 "nbformat": 4,
 "nbformat_minor": 2
}
