{
 "cells": [
  {
   "cell_type": "code",
   "execution_count": 1,
   "metadata": {},
   "outputs": [],
   "source": [
    "# work in progress"
   ]
  },
  {
   "cell_type": "code",
   "execution_count": null,
   "metadata": {},
   "outputs": [],
   "source": [
    "# TODO\n",
    "\n",
    "# General\n",
    "\n",
    "# Exploratory Data Analysis\n",
    "# check out https://github.com/salesforce/Merlion for anomaly detection\n",
    "# check out MNE: https://mne.tools/stable/index.html\n",
    "\n",
    "# Time series packages\n",
    "# - tsfresh\n",
    "# - tslearn \n",
    "# - pyts\n",
    "# - sktime\n",
    "# - aeon \n",
    "# - tsai\n",
    "# - darts\n",
    "# - merlion\n",
    "# - https://github.com/thuml/Time-Series-Library\n",
    "\n",
    "\n",
    "# Preprocessing \n",
    "# - for eeg check out mne: https://mne.tools/stable/index.html and https://github.com/sappelhoff/pyprep\n",
    "# - find a sampling frequency that is high enough to capture the relevant information\n",
    "#  -> thiam et al. 2021: 256 Hz, take a look at section 3.5 for more information and additional steps\n",
    "# see https://pyts.readthedocs.io/en/stable/auto_examples/preprocessing/plot_scalers.html#sphx-glr-auto-examples-preprocessing-plot-scalers-py\n",
    "# add group standardization? or just use robust scaler?\n",
    "# -> could be important for transfer learning\n",
    "# https://stackoverflow.com/questions/55601928/apply-multiple-standardscalers-to-individual-groups\n",
    "\n",
    "# Data\n",
    "# handling imbalanced data\n",
    "#   - https://github.com/scikit-learn-contrib/imbalanced-learn\n",
    "#   - https://www.tensorflow.org/tutorials/structured_data/imbalanced_data\n",
    "#   - oversampling the minority class, undersampling the majority class\n",
    "#   - imblearn.over_sampling import RandomOverSampler\n",
    "#   - SMOTE? https://www.analyticsvidhya.com/blog/2020/10/overcoming-class-imbalance-using-smote-techniques/\n",
    "#   -> quite controversial according to some guy on twitter\n",
    "#   - https://www.tensorflow.org/tutorials/structured_data/imbalanced_data#class_weights\n",
    "#   - https://twitter.com/predict_addict/status/1700467528969879886\n",
    "# synthetic data generation\n",
    "#   - TabDDPM: Modelling Tabular Data with Diffusion Models, https://arxiv.org/abs/2209.15421\n",
    "#   - also see raschkas books\n",
    "# self supervised learning (again raschka)\n",
    "#   - must read https://www.techrxiv.org/articles/preprint/Applications_of_Self-Supervised_Learning_to_Biomedical_Signals_where_are_we_now/22567021/1/files/40045018.pdf\n",
    "\n",
    "# Labels\n",
    "# check out https://dl.acm.org/doi/abs/10.1145/3555776.3577721\n",
    "\n",
    "# Skorch\n",
    "# Define callbacks\n",
    "#  - https://skorch.readthedocs.io/en/stable/callbacks.html\n",
    "#  - email reminder for training\n",
    "# take a look into basic usage notebook from the skorch documentation\n",
    "# also check out mlflow for logging: https://mlflow.org/docs/latest/tracking.html\n",
    "# change the path to the tensorboard logs (runs folder)\n",
    "# check if softmax with default nll-criterion gives the same result as cross-entropy loss (it should)\n",
    "#  -> bad idea for implementation, always use high level functions\n",
    "\n",
    "# Models\n",
    "# systematic literature review: Automatic assessment of pain based on deep learning methods\n",
    "# correct input parameters for the models (see commented code underneath the model definition)\n",
    "#   -> find out how this works with skorch, does it take input parameters from the model definition?\n",
    "# add nn.Flatten() to the beginning of the MLP, simplify pipeline. maybe. or don't. doesn't have to be perfect.\n",
    "#   - note that torch.flatten is not in Fortran order, so the resulting tensor is not contiguous\n",
    "#   -> better question: does this change the performance of the model? (for CNNs pretty sure it does)\n",
    "# and sktime\n",
    "# add CatBoost\n",
    "#  -> try to explain the model, e.g. with SHAP & boruta shap https://github.com/Ekeany/Boruta-Shap\n",
    "#  -> also https://github.com/cerlymarco/shap-hypetune\n",
    "# add MOS-CNN from https://github.com/Wensi-Tang/OS-CNN\n",
    "# add CNN-LSTM\n",
    "# add MLSTM-FCN from https://github.com/alexmelekhin/MLSTM-FCN-Pytorch\n",
    "# time gpt: https://arxiv.org/abs/2310.03589 and https://news.ycombinator.com/item?id=37874891\n",
    "# - https://github.com/thuml/Time-Series-Library\n",
    "\n",
    "# Models (later on)\n",
    "# remain sceptical of architectures that are not specifically designed for time series classification\n",
    "# remain sceptical of transformers for now \n",
    "# take a deep dive: https://robjhyndman.com/hyndsight/python_time_series.html\n",
    "# note that pytorch-forecasting can easily be used for classification\n",
    "#   - https://pytorch-forecasting.readthedocs.io/en/stable/tutorials/building.html#Classification\n",
    "#   - https://pytorch-forecasting.readthedocs.io/en/stable/models.html\n",
    "#   -> work through both sites\n",
    "# also darts: https://unit8co.github.io/darts/index.html\n",
    "# and https://github.com/timeseriesAI/tsai\n",
    "# add TemporalFusionTransformer (later on)\n",
    "#   - may be not possible\n",
    "#   - also see https://stackoverflow.com/questions/76313665/classification-in-pytorch-forecastings-temporal-fusion-transformer\n",
    "# add TodyNet (later on)\n",
    "#   - quite complicated\n",
    "#   - Q: the graph is nice for explaining the model, but will it be used if it does not compete with the best model?\n",
    "# do not use ensemble models for now because they can be too slow in inference for real-time applications and not very interpretable\n",
    "#   - although, some argue for the opposite: https://ai.googleblog.com/2021/11/model-ensembles-are-faster-than-you.html\n",
    "# also, neural networks could be faster in inference than random forests, https://stats.stackexchange.com/a/216126\n",
    "# try out pyts for time series classification\n",
    "# https://www.statsmodels.org/stable/tsa.html\n",
    "# pingouin\n",
    "\n",
    "# Training\n",
    "# check out pycaret first: https://pycaret.org/ to get an overview of what to do / the whole pipeline\n",
    "# use randomizedgridsearch?: https://scikit-learn.org/stable/modules/grid_search.html#grid-search\n",
    "# check out optuna: https://optuna.org/,\n",
    "#   - skorch code: https://github.com/optuna/optuna-examples/blob/main/pytorch/skorch_simple.py\n",
    "#   - paper: https://arxiv.org/pdf/1907.10902.pdf\n",
    "# also check out ray tune: https://docs.ray.io/en/master/tune/index.html\n",
    "#  - https://docs.ray.io/en/master/tune/tutorials/tune-sklearn.html\n",
    "# and bayesian optimization for hyperparameter tuning: botorch in optuna?\n",
    "# - check out https://github.com/pyRiemann/pyRiemann\n",
    "# https://huggingface.co/autotrain\n",
    "\n",
    "# Inference\n",
    "# - winning lottery ticket hypothesis: https://arxiv.org/pdf/1803.03635.pdf\n",
    "# - try pruning to reduce model size and latency: https://pytorch.org/tutorials/intermediate/pruning_tutorial.html\n",
    "\n",
    "# XAI\n",
    "# https://arxiv.org/pdf/2104.00950.pdf\n",
    "# feature selection, feature extraction, feature importance, ...\n",
    "# https://captum.ai/\n",
    "# model agnostic methods like SHAP, LIME, \n",
    "#   - go through https://christophm.github.io/interpretable-ml-book/\n",
    "#   - https://github.com/christophM/shap-book\n",
    "#   - also read SHAPELY paper: https://arxiv.org/pdf/1705.07874.pdf\n",
    "# This could be a perfect fit?!\n",
    "#   - must read: https://arxiv.org/pdf/2208.05280.pdf\n",
    "#   - code: https://github.com/fzi-forschungszentrum-informatik/TSInterpret \n",
    "#   - overview: https://joss.theoj.org/papers/10.21105/joss.05220\n",
    "\n",
    "# Model Comparison\n",
    "# see Raschkas paper section 4 for different ways / metrics https://arxiv.org/pdf/1811.12808.pdf\n",
    "# plus MLxtend\n",
    "\n",
    "# Deployment\n",
    "# take a look at https://github.com/skops-dev/skops\n",
    "\n",
    "# NOTE:\n",
    "# don't just delete stuff from the todo list, put them in the done list here for now (+ git commit message)\n",
    "\n",
    "# DONE\n"
   ]
  },
  {
   "cell_type": "code",
   "execution_count": 1,
   "metadata": {},
   "outputs": [],
   "source": [
    "import sys\n",
    "from pathlib import Path\n",
    "PROJECT_DIR = Path.cwd()\n",
    "if PROJECT_DIR.stem == 'notebooks':\n",
    "    PROJECT_DIR = PROJECT_DIR.parent\n",
    "    sys.path.insert(0, '..')\n",
    "    %load_ext autoreload\n",
    "    %autoreload 2\n",
    "    "
   ]
  },
  {
   "cell_type": "code",
   "execution_count": 2,
   "metadata": {},
   "outputs": [
    {
     "name": "stdout",
     "output_type": "stream",
     "text": [
      "torch.__version__ = '2.0.1'\n",
      "torch.cuda.is_available() = False\n"
     ]
    }
   ],
   "source": [
    "import importlib\n",
    "\n",
    "import pandas as pd\n",
    "import numpy as np\n",
    "import matplotlib.pyplot as plt\n",
    "\n",
    "import torch\n",
    "from torch import nn\n",
    "from skorch import NeuralNetClassifier\n",
    "from skorch.callbacks import TensorBoard\n",
    "from torch.utils.tensorboard import SummaryWriter\n",
    "\n",
    "from sklearn.preprocessing import FunctionTransformer\n",
    "from sklearn.pipeline import make_pipeline\n",
    "from sklearn.model_selection import GroupKFold, cross_val_score\n",
    "\n",
    "\n",
    "from sklearn.metrics import (\n",
    "    accuracy_score,\n",
    "    matthews_corrcoef, \n",
    "    confusion_matrix, \n",
    "    ConfusionMatrixDisplay\n",
    "    )\n",
    "\n",
    "print(f\"{torch.__version__ = }\")\n",
    "print(f\"{torch.cuda.is_available() = }\")\n",
    "\n",
    "from src.features.scalers_3d import StandardScaler3D, MinMaxScaler3D, RobustScaler3D, MaxAbsScaler3D\n",
    "from src.features.reshape_features_to_2d import reshape_features_to_2D\n",
    "\n",
    "DATA_DIR = PROJECT_DIR / 'data' / 'dummy'\n",
    "MODEL_DIR = PROJECT_DIR / 'models' / 'dummy'"
   ]
  },
  {
   "cell_type": "code",
   "execution_count": 6,
   "metadata": {},
   "outputs": [],
   "source": [
    "\n",
    "writer = SummaryWriter()\n",
    "callbacks = []\n",
    "callbacks.append(TensorBoard(writer))"
   ]
  },
  {
   "cell_type": "code",
   "execution_count": 7,
   "metadata": {},
   "outputs": [],
   "source": [
    "# Define MLP in pytorch\n",
    "class MultiLayerPerceptron(nn.Module):\n",
    "    def __init__(self, num_units=100):\n",
    "        super().__init__()\n",
    "\n",
    "        self.dense0 = nn.Linear(data.shape[1]*data.shape[2], num_units)\n",
    "        self.nonlin = nn.ReLU()\n",
    "        self.dropout = nn.Dropout(0.5)\n",
    "        self.dense1 = nn.Linear(num_units, num_units)\n",
    "        self.output = nn.Linear(num_units, 2)\n",
    "        self.softmax = nn.Softmax(dim=-1)\n",
    "\n",
    "    def forward(self, X, **kwargs):\n",
    "        X = self.nonlin(self.dense0(X))\n",
    "        X = self.dropout(X)\n",
    "        X = self.nonlin(self.dense1(X))\n",
    "        X = self.softmax(self.output(X))\n",
    "        return X\n",
    "    \n",
    "\"\"\"\n",
    "# Create a model with non-linear and linear layers\n",
    "class FashionMNISTModelV1(nn.Module):\n",
    "    def __init__(self, input_shape: int, hidden_units: int, output_shape: int):\n",
    "        super().__init__()\n",
    "        self.layer_stack = nn.Sequential(\n",
    "            nn.Flatten(), # flatten inputs into single vector\n",
    "            nn.Linear(in_features=input_shape, out_features=hidden_units),\n",
    "            nn.ReLU(),\n",
    "            nn.Linear(in_features=hidden_units, out_features=output_shape),\n",
    "            nn.ReLU()\n",
    "        )\n",
    "    \n",
    "    def forward(self, x: torch.Tensor):\n",
    "        return self.layer_stack(x)\n",
    "\"\"\"\n",
    "\n",
    "# Create MLP with skorch\n",
    "mlp = NeuralNetClassifier(\n",
    "    MultiLayerPerceptron,\n",
    "    max_epochs=10,\n",
    "    lr=0.1,\n",
    "    # Shuffle training data on each epoch\n",
    "    iterator_train__shuffle=True,\n",
    "    callbacks=callbacks\n",
    ")"
   ]
  },
  {
   "cell_type": "code",
   "execution_count": 10,
   "metadata": {},
   "outputs": [],
   "source": [
    "# Define LSTM with pytorch\n",
    "class LongShortTermMemory(nn.Module):\n",
    "    def __init__(self, num_units=10):\n",
    "        super().__init__()\n",
    "\n",
    "        self.lstm = nn.LSTM(\n",
    "            input_size=data.shape[2],\n",
    "            hidden_size=num_units,\n",
    "            num_layers=1,\n",
    "            batch_first=True\n",
    "        )\n",
    "        self.output = nn.Linear(num_units, 2)\n",
    "        self.softmax = nn.Softmax(dim=-1)\n",
    "\n",
    "    def forward(self, X, **kwargs):\n",
    "        X, _ = self.lstm(X)\n",
    "        X = self.softmax(self.output(X[:, -1, :]))\n",
    "        return X\n",
    "\n",
    "\n",
    "# Create LSTM with skorch\n",
    "lstm = NeuralNetClassifier(\n",
    "    LongShortTermMemory,\n",
    "    max_epochs=10,\n",
    "    lr=0.1,\n",
    "    # Shuffle training data on each epoch\n",
    "    iterator_train__shuffle=True,\n",
    "    callbacks=callbacks\n",
    ")\n",
    "\n",
    "\n"
   ]
  },
  {
   "attachments": {},
   "cell_type": "markdown",
   "metadata": {},
   "source": [
    "### Load data"
   ]
  },
  {
   "cell_type": "code",
   "execution_count": 16,
   "metadata": {},
   "outputs": [
    {
     "name": "stdout",
     "output_type": "stream",
     "text": [
      "data.shape = (4000, 500, 3)\n",
      "target.shape = (4000,)\n",
      "groups.shape = (4000,)\n"
     ]
    }
   ],
   "source": [
    "\n",
    "data = np.load(DATA_DIR / \"data.npy\").astype(np.float32)\n",
    "target = np.load(DATA_DIR / \"target.npy\").astype(np.int64)\n",
    "groups = np.load(DATA_DIR / \"groups.npy\").astype(np.int64)\n",
    "\n",
    "print(f\"{data.shape = }\\n{target.shape = }\\n{groups.shape = }\")\n"
   ]
  },
  {
   "attachments": {},
   "cell_type": "markdown",
   "metadata": {},
   "source": [
    "## Modeling"
   ]
  },
  {
   "cell_type": "code",
   "execution_count": null,
   "metadata": {},
   "outputs": [],
   "source": [
    "# Create pipelines with sklearn\n",
    "mlp_pipe = make_pipeline(\n",
    "    StandardScaler3D(),\n",
    "    FunctionTransformer(reshape_features_to_2D), \n",
    "    mlp)\n",
    "\n",
    "lstm_pipe = make_pipeline(\n",
    "    MinMaxScaler3D(),\n",
    "    lstm)"
   ]
  },
  {
   "cell_type": "code",
   "execution_count": null,
   "metadata": {},
   "outputs": [
    {
     "name": "stdout",
     "output_type": "stream",
     "text": [
      "  epoch    train_loss    valid_acc    valid_loss     dur\n",
      "-------  ------------  -----------  ------------  ------\n",
      "      1        \u001b[36m0.4268\u001b[0m       \u001b[32m0.8300\u001b[0m        \u001b[35m0.2952\u001b[0m  0.2084\n",
      "      2        \u001b[36m0.3573\u001b[0m       0.7725        0.3045  0.1546\n",
      "      3        \u001b[36m0.3523\u001b[0m       0.8037        \u001b[35m0.2928\u001b[0m  0.1546\n",
      "      4        \u001b[36m0.3477\u001b[0m       0.8237        \u001b[35m0.2874\u001b[0m  0.1685\n",
      "      5        0.3487       0.8263        0.2892  0.1496\n",
      "      6        \u001b[36m0.3450\u001b[0m       0.8113        0.2909  0.1496\n",
      "      7        \u001b[36m0.3439\u001b[0m       0.8100        0.2898  0.1626\n",
      "      8        0.3446       0.7738        0.3029  0.1336\n",
      "      9        0.3456       \u001b[32m0.8313\u001b[0m        0.2882  0.1526\n",
      "     10        0.3448       0.7850        0.2943  0.1486\n"
     ]
    },
    {
     "data": {
      "text/html": [
       "<style>#sk-container-id-1 {color: black;background-color: white;}#sk-container-id-1 pre{padding: 0;}#sk-container-id-1 div.sk-toggleable {background-color: white;}#sk-container-id-1 label.sk-toggleable__label {cursor: pointer;display: block;width: 100%;margin-bottom: 0;padding: 0.3em;box-sizing: border-box;text-align: center;}#sk-container-id-1 label.sk-toggleable__label-arrow:before {content: \"▸\";float: left;margin-right: 0.25em;color: #696969;}#sk-container-id-1 label.sk-toggleable__label-arrow:hover:before {color: black;}#sk-container-id-1 div.sk-estimator:hover label.sk-toggleable__label-arrow:before {color: black;}#sk-container-id-1 div.sk-toggleable__content {max-height: 0;max-width: 0;overflow: hidden;text-align: left;background-color: #f0f8ff;}#sk-container-id-1 div.sk-toggleable__content pre {margin: 0.2em;color: black;border-radius: 0.25em;background-color: #f0f8ff;}#sk-container-id-1 input.sk-toggleable__control:checked~div.sk-toggleable__content {max-height: 200px;max-width: 100%;overflow: auto;}#sk-container-id-1 input.sk-toggleable__control:checked~label.sk-toggleable__label-arrow:before {content: \"▾\";}#sk-container-id-1 div.sk-estimator input.sk-toggleable__control:checked~label.sk-toggleable__label {background-color: #d4ebff;}#sk-container-id-1 div.sk-label input.sk-toggleable__control:checked~label.sk-toggleable__label {background-color: #d4ebff;}#sk-container-id-1 input.sk-hidden--visually {border: 0;clip: rect(1px 1px 1px 1px);clip: rect(1px, 1px, 1px, 1px);height: 1px;margin: -1px;overflow: hidden;padding: 0;position: absolute;width: 1px;}#sk-container-id-1 div.sk-estimator {font-family: monospace;background-color: #f0f8ff;border: 1px dotted black;border-radius: 0.25em;box-sizing: border-box;margin-bottom: 0.5em;}#sk-container-id-1 div.sk-estimator:hover {background-color: #d4ebff;}#sk-container-id-1 div.sk-parallel-item::after {content: \"\";width: 100%;border-bottom: 1px solid gray;flex-grow: 1;}#sk-container-id-1 div.sk-label:hover label.sk-toggleable__label {background-color: #d4ebff;}#sk-container-id-1 div.sk-serial::before {content: \"\";position: absolute;border-left: 1px solid gray;box-sizing: border-box;top: 0;bottom: 0;left: 50%;z-index: 0;}#sk-container-id-1 div.sk-serial {display: flex;flex-direction: column;align-items: center;background-color: white;padding-right: 0.2em;padding-left: 0.2em;position: relative;}#sk-container-id-1 div.sk-item {position: relative;z-index: 1;}#sk-container-id-1 div.sk-parallel {display: flex;align-items: stretch;justify-content: center;background-color: white;position: relative;}#sk-container-id-1 div.sk-item::before, #sk-container-id-1 div.sk-parallel-item::before {content: \"\";position: absolute;border-left: 1px solid gray;box-sizing: border-box;top: 0;bottom: 0;left: 50%;z-index: -1;}#sk-container-id-1 div.sk-parallel-item {display: flex;flex-direction: column;z-index: 1;position: relative;background-color: white;}#sk-container-id-1 div.sk-parallel-item:first-child::after {align-self: flex-end;width: 50%;}#sk-container-id-1 div.sk-parallel-item:last-child::after {align-self: flex-start;width: 50%;}#sk-container-id-1 div.sk-parallel-item:only-child::after {width: 0;}#sk-container-id-1 div.sk-dashed-wrapped {border: 1px dashed gray;margin: 0 0.4em 0.5em 0.4em;box-sizing: border-box;padding-bottom: 0.4em;background-color: white;}#sk-container-id-1 div.sk-label label {font-family: monospace;font-weight: bold;display: inline-block;line-height: 1.2em;}#sk-container-id-1 div.sk-label-container {text-align: center;}#sk-container-id-1 div.sk-container {/* jupyter's `normalize.less` sets `[hidden] { display: none; }` but bootstrap.min.css set `[hidden] { display: none !important; }` so we also need the `!important` here to be able to override the default hidden behavior on the sphinx rendered scikit-learn.org. See: https://github.com/scikit-learn/scikit-learn/issues/21755 */display: inline-block !important;position: relative;}#sk-container-id-1 div.sk-text-repr-fallback {display: none;}</style><div id=\"sk-container-id-1\" class=\"sk-top-container\"><div class=\"sk-text-repr-fallback\"><pre>Pipeline(steps=[(&#x27;standardscaler3d&#x27;, StandardScaler3D()),\n",
       "                (&#x27;functiontransformer&#x27;,\n",
       "                 FunctionTransformer(func=&lt;function reshape_features_to_2D at 0x00000232CF4E3010&gt;)),\n",
       "                (&#x27;neuralnetclassifier&#x27;,\n",
       "                 &lt;class &#x27;skorch.classifier.NeuralNetClassifier&#x27;&gt;[initialized](\n",
       "  module_=MultiLayerPerceptron(\n",
       "    (dense0): Linear(in_features=1500, out_features=100, bias=True)\n",
       "    (nonlin): ReLU()\n",
       "    (dropout): Dropout(p=0.5, inplace=False)\n",
       "    (dense1): Linear(in_features=100, out_features=100, bias=True)\n",
       "    (output): Linear(in_features=100, out_features=2, bias=True)\n",
       "    (softmax): Softmax(dim=-1)\n",
       "  ),\n",
       "))])</pre><b>In a Jupyter environment, please rerun this cell to show the HTML representation or trust the notebook. <br />On GitHub, the HTML representation is unable to render, please try loading this page with nbviewer.org.</b></div><div class=\"sk-container\" hidden><div class=\"sk-item sk-dashed-wrapped\"><div class=\"sk-label-container\"><div class=\"sk-label sk-toggleable\"><input class=\"sk-toggleable__control sk-hidden--visually\" id=\"sk-estimator-id-1\" type=\"checkbox\" ><label for=\"sk-estimator-id-1\" class=\"sk-toggleable__label sk-toggleable__label-arrow\">Pipeline</label><div class=\"sk-toggleable__content\"><pre>Pipeline(steps=[(&#x27;standardscaler3d&#x27;, StandardScaler3D()),\n",
       "                (&#x27;functiontransformer&#x27;,\n",
       "                 FunctionTransformer(func=&lt;function reshape_features_to_2D at 0x00000232CF4E3010&gt;)),\n",
       "                (&#x27;neuralnetclassifier&#x27;,\n",
       "                 &lt;class &#x27;skorch.classifier.NeuralNetClassifier&#x27;&gt;[initialized](\n",
       "  module_=MultiLayerPerceptron(\n",
       "    (dense0): Linear(in_features=1500, out_features=100, bias=True)\n",
       "    (nonlin): ReLU()\n",
       "    (dropout): Dropout(p=0.5, inplace=False)\n",
       "    (dense1): Linear(in_features=100, out_features=100, bias=True)\n",
       "    (output): Linear(in_features=100, out_features=2, bias=True)\n",
       "    (softmax): Softmax(dim=-1)\n",
       "  ),\n",
       "))])</pre></div></div></div><div class=\"sk-serial\"><div class=\"sk-item\"><div class=\"sk-estimator sk-toggleable\"><input class=\"sk-toggleable__control sk-hidden--visually\" id=\"sk-estimator-id-2\" type=\"checkbox\" ><label for=\"sk-estimator-id-2\" class=\"sk-toggleable__label sk-toggleable__label-arrow\">StandardScaler3D</label><div class=\"sk-toggleable__content\"><pre>StandardScaler3D()</pre></div></div></div><div class=\"sk-item\"><div class=\"sk-estimator sk-toggleable\"><input class=\"sk-toggleable__control sk-hidden--visually\" id=\"sk-estimator-id-3\" type=\"checkbox\" ><label for=\"sk-estimator-id-3\" class=\"sk-toggleable__label sk-toggleable__label-arrow\">FunctionTransformer</label><div class=\"sk-toggleable__content\"><pre>FunctionTransformer(func=&lt;function reshape_features_to_2D at 0x00000232CF4E3010&gt;)</pre></div></div></div><div class=\"sk-item\"><div class=\"sk-estimator sk-toggleable\"><input class=\"sk-toggleable__control sk-hidden--visually\" id=\"sk-estimator-id-4\" type=\"checkbox\" ><label for=\"sk-estimator-id-4\" class=\"sk-toggleable__label sk-toggleable__label-arrow\">NeuralNetClassifier</label><div class=\"sk-toggleable__content\"><pre>&lt;class &#x27;skorch.classifier.NeuralNetClassifier&#x27;&gt;[initialized](\n",
       "  module_=MultiLayerPerceptron(\n",
       "    (dense0): Linear(in_features=1500, out_features=100, bias=True)\n",
       "    (nonlin): ReLU()\n",
       "    (dropout): Dropout(p=0.5, inplace=False)\n",
       "    (dense1): Linear(in_features=100, out_features=100, bias=True)\n",
       "    (output): Linear(in_features=100, out_features=2, bias=True)\n",
       "    (softmax): Softmax(dim=-1)\n",
       "  ),\n",
       ")</pre></div></div></div></div></div></div></div>"
      ],
      "text/plain": [
       "Pipeline(steps=[('standardscaler3d', StandardScaler3D()),\n",
       "                ('functiontransformer',\n",
       "                 FunctionTransformer(func=<function reshape_features_to_2D at 0x00000232CF4E3010>)),\n",
       "                ('neuralnetclassifier',\n",
       "                 <class 'skorch.classifier.NeuralNetClassifier'>[initialized](\n",
       "  module_=MultiLayerPerceptron(\n",
       "    (dense0): Linear(in_features=1500, out_features=100, bias=True)\n",
       "    (nonlin): ReLU()\n",
       "    (dropout): Dropout(p=0.5, inplace=False)\n",
       "    (dense1): Linear(in_features=100, out_features=100, bias=True)\n",
       "    (output): Linear(in_features=100, out_features=2, bias=True)\n",
       "    (softmax): Softmax(dim=-1)\n",
       "  ),\n",
       "))])"
      ]
     },
     "execution_count": 10,
     "metadata": {},
     "output_type": "execute_result"
    }
   ],
   "source": [
    "mlp_pipe.fit(data, target)"
   ]
  },
  {
   "cell_type": "code",
   "execution_count": null,
   "metadata": {},
   "outputs": [
    {
     "name": "stdout",
     "output_type": "stream",
     "text": [
      "  epoch    train_loss    valid_acc    valid_loss     dur\n",
      "-------  ------------  -----------  ------------  ------\n",
      "      1        \u001b[36m0.6921\u001b[0m       \u001b[32m0.6550\u001b[0m        \u001b[35m0.6883\u001b[0m  2.2476\n",
      "      2        \u001b[36m0.6871\u001b[0m       \u001b[32m0.7638\u001b[0m        \u001b[35m0.6817\u001b[0m  2.1812\n",
      "      3        \u001b[36m0.6806\u001b[0m       0.7500        \u001b[35m0.6730\u001b[0m  2.1839\n",
      "      4        \u001b[36m0.6714\u001b[0m       \u001b[32m0.7825\u001b[0m        \u001b[35m0.6597\u001b[0m  2.1610\n",
      "      5        \u001b[36m0.6564\u001b[0m       0.7550        \u001b[35m0.6362\u001b[0m  2.1294\n",
      "      6        \u001b[36m0.6267\u001b[0m       0.7500        \u001b[35m0.5869\u001b[0m  2.1862\n",
      "      7        \u001b[36m0.5590\u001b[0m       0.7562        \u001b[35m0.4799\u001b[0m  2.0195\n",
      "      8        \u001b[36m0.4840\u001b[0m       \u001b[32m0.8250\u001b[0m        \u001b[35m0.4100\u001b[0m  1.7523\n",
      "      9        \u001b[36m0.4506\u001b[0m       0.8250        \u001b[35m0.3774\u001b[0m  1.7603\n",
      "     10        \u001b[36m0.4312\u001b[0m       0.8063        \u001b[35m0.3633\u001b[0m  1.7906\n"
     ]
    },
    {
     "data": {
      "text/html": [
       "<style>#sk-container-id-2 {color: black;background-color: white;}#sk-container-id-2 pre{padding: 0;}#sk-container-id-2 div.sk-toggleable {background-color: white;}#sk-container-id-2 label.sk-toggleable__label {cursor: pointer;display: block;width: 100%;margin-bottom: 0;padding: 0.3em;box-sizing: border-box;text-align: center;}#sk-container-id-2 label.sk-toggleable__label-arrow:before {content: \"▸\";float: left;margin-right: 0.25em;color: #696969;}#sk-container-id-2 label.sk-toggleable__label-arrow:hover:before {color: black;}#sk-container-id-2 div.sk-estimator:hover label.sk-toggleable__label-arrow:before {color: black;}#sk-container-id-2 div.sk-toggleable__content {max-height: 0;max-width: 0;overflow: hidden;text-align: left;background-color: #f0f8ff;}#sk-container-id-2 div.sk-toggleable__content pre {margin: 0.2em;color: black;border-radius: 0.25em;background-color: #f0f8ff;}#sk-container-id-2 input.sk-toggleable__control:checked~div.sk-toggleable__content {max-height: 200px;max-width: 100%;overflow: auto;}#sk-container-id-2 input.sk-toggleable__control:checked~label.sk-toggleable__label-arrow:before {content: \"▾\";}#sk-container-id-2 div.sk-estimator input.sk-toggleable__control:checked~label.sk-toggleable__label {background-color: #d4ebff;}#sk-container-id-2 div.sk-label input.sk-toggleable__control:checked~label.sk-toggleable__label {background-color: #d4ebff;}#sk-container-id-2 input.sk-hidden--visually {border: 0;clip: rect(1px 1px 1px 1px);clip: rect(1px, 1px, 1px, 1px);height: 1px;margin: -1px;overflow: hidden;padding: 0;position: absolute;width: 1px;}#sk-container-id-2 div.sk-estimator {font-family: monospace;background-color: #f0f8ff;border: 1px dotted black;border-radius: 0.25em;box-sizing: border-box;margin-bottom: 0.5em;}#sk-container-id-2 div.sk-estimator:hover {background-color: #d4ebff;}#sk-container-id-2 div.sk-parallel-item::after {content: \"\";width: 100%;border-bottom: 1px solid gray;flex-grow: 1;}#sk-container-id-2 div.sk-label:hover label.sk-toggleable__label {background-color: #d4ebff;}#sk-container-id-2 div.sk-serial::before {content: \"\";position: absolute;border-left: 1px solid gray;box-sizing: border-box;top: 0;bottom: 0;left: 50%;z-index: 0;}#sk-container-id-2 div.sk-serial {display: flex;flex-direction: column;align-items: center;background-color: white;padding-right: 0.2em;padding-left: 0.2em;position: relative;}#sk-container-id-2 div.sk-item {position: relative;z-index: 1;}#sk-container-id-2 div.sk-parallel {display: flex;align-items: stretch;justify-content: center;background-color: white;position: relative;}#sk-container-id-2 div.sk-item::before, #sk-container-id-2 div.sk-parallel-item::before {content: \"\";position: absolute;border-left: 1px solid gray;box-sizing: border-box;top: 0;bottom: 0;left: 50%;z-index: -1;}#sk-container-id-2 div.sk-parallel-item {display: flex;flex-direction: column;z-index: 1;position: relative;background-color: white;}#sk-container-id-2 div.sk-parallel-item:first-child::after {align-self: flex-end;width: 50%;}#sk-container-id-2 div.sk-parallel-item:last-child::after {align-self: flex-start;width: 50%;}#sk-container-id-2 div.sk-parallel-item:only-child::after {width: 0;}#sk-container-id-2 div.sk-dashed-wrapped {border: 1px dashed gray;margin: 0 0.4em 0.5em 0.4em;box-sizing: border-box;padding-bottom: 0.4em;background-color: white;}#sk-container-id-2 div.sk-label label {font-family: monospace;font-weight: bold;display: inline-block;line-height: 1.2em;}#sk-container-id-2 div.sk-label-container {text-align: center;}#sk-container-id-2 div.sk-container {/* jupyter's `normalize.less` sets `[hidden] { display: none; }` but bootstrap.min.css set `[hidden] { display: none !important; }` so we also need the `!important` here to be able to override the default hidden behavior on the sphinx rendered scikit-learn.org. See: https://github.com/scikit-learn/scikit-learn/issues/21755 */display: inline-block !important;position: relative;}#sk-container-id-2 div.sk-text-repr-fallback {display: none;}</style><div id=\"sk-container-id-2\" class=\"sk-top-container\"><div class=\"sk-text-repr-fallback\"><pre>Pipeline(steps=[(&#x27;minmaxscaler3d&#x27;, MinMaxScaler3D()),\n",
       "                (&#x27;neuralnetclassifier&#x27;,\n",
       "                 &lt;class &#x27;skorch.classifier.NeuralNetClassifier&#x27;&gt;[initialized](\n",
       "  module_=LongShortTermMemory(\n",
       "    (lstm): LSTM(3, 10, batch_first=True)\n",
       "    (output): Linear(in_features=10, out_features=2, bias=True)\n",
       "    (softmax): Softmax(dim=-1)\n",
       "  ),\n",
       "))])</pre><b>In a Jupyter environment, please rerun this cell to show the HTML representation or trust the notebook. <br />On GitHub, the HTML representation is unable to render, please try loading this page with nbviewer.org.</b></div><div class=\"sk-container\" hidden><div class=\"sk-item sk-dashed-wrapped\"><div class=\"sk-label-container\"><div class=\"sk-label sk-toggleable\"><input class=\"sk-toggleable__control sk-hidden--visually\" id=\"sk-estimator-id-5\" type=\"checkbox\" ><label for=\"sk-estimator-id-5\" class=\"sk-toggleable__label sk-toggleable__label-arrow\">Pipeline</label><div class=\"sk-toggleable__content\"><pre>Pipeline(steps=[(&#x27;minmaxscaler3d&#x27;, MinMaxScaler3D()),\n",
       "                (&#x27;neuralnetclassifier&#x27;,\n",
       "                 &lt;class &#x27;skorch.classifier.NeuralNetClassifier&#x27;&gt;[initialized](\n",
       "  module_=LongShortTermMemory(\n",
       "    (lstm): LSTM(3, 10, batch_first=True)\n",
       "    (output): Linear(in_features=10, out_features=2, bias=True)\n",
       "    (softmax): Softmax(dim=-1)\n",
       "  ),\n",
       "))])</pre></div></div></div><div class=\"sk-serial\"><div class=\"sk-item\"><div class=\"sk-estimator sk-toggleable\"><input class=\"sk-toggleable__control sk-hidden--visually\" id=\"sk-estimator-id-6\" type=\"checkbox\" ><label for=\"sk-estimator-id-6\" class=\"sk-toggleable__label sk-toggleable__label-arrow\">MinMaxScaler3D</label><div class=\"sk-toggleable__content\"><pre>MinMaxScaler3D()</pre></div></div></div><div class=\"sk-item\"><div class=\"sk-estimator sk-toggleable\"><input class=\"sk-toggleable__control sk-hidden--visually\" id=\"sk-estimator-id-7\" type=\"checkbox\" ><label for=\"sk-estimator-id-7\" class=\"sk-toggleable__label sk-toggleable__label-arrow\">NeuralNetClassifier</label><div class=\"sk-toggleable__content\"><pre>&lt;class &#x27;skorch.classifier.NeuralNetClassifier&#x27;&gt;[initialized](\n",
       "  module_=LongShortTermMemory(\n",
       "    (lstm): LSTM(3, 10, batch_first=True)\n",
       "    (output): Linear(in_features=10, out_features=2, bias=True)\n",
       "    (softmax): Softmax(dim=-1)\n",
       "  ),\n",
       ")</pre></div></div></div></div></div></div></div>"
      ],
      "text/plain": [
       "Pipeline(steps=[('minmaxscaler3d', MinMaxScaler3D()),\n",
       "                ('neuralnetclassifier',\n",
       "                 <class 'skorch.classifier.NeuralNetClassifier'>[initialized](\n",
       "  module_=LongShortTermMemory(\n",
       "    (lstm): LSTM(3, 10, batch_first=True)\n",
       "    (output): Linear(in_features=10, out_features=2, bias=True)\n",
       "    (softmax): Softmax(dim=-1)\n",
       "  ),\n",
       "))])"
      ]
     },
     "execution_count": 11,
     "metadata": {},
     "output_type": "execute_result"
    }
   ],
   "source": [
    "lstm_pipe.fit(data, target)"
   ]
  },
  {
   "attachments": {},
   "cell_type": "markdown",
   "metadata": {},
   "source": [
    "# Test data"
   ]
  },
  {
   "cell_type": "code",
   "execution_count": null,
   "metadata": {},
   "outputs": [
    {
     "name": "stdout",
     "output_type": "stream",
     "text": [
      "data_test.shape = (800, 500, 3)\n",
      "target_test.shape = (800,)\n"
     ]
    }
   ],
   "source": [
    "# Load data\n",
    "data_test = np.load(DATA_DIR / \"data_test.npy\").astype(np.float32)\n",
    "target_test = np.load(DATA_DIR / \"target_test.npy\").astype(np.float32)\n",
    "\n",
    "print(f\"{data_test.shape = }\\n{target_test.shape = }\")"
   ]
  },
  {
   "cell_type": "code",
   "execution_count": null,
   "metadata": {},
   "outputs": [
    {
     "name": "stdout",
     "output_type": "stream",
     "text": [
      "Metrics for MLP classifier:\n",
      "acc = 0.67375\n",
      "mcc = 0.3919382392457072\n"
     ]
    },
    {
     "data": {
      "image/png": "[encoded data removed]",
      "text/plain": [
       "<Figure size 640x480 with 2 Axes>"
      ]
     },
     "metadata": {},
     "output_type": "display_data"
    }
   ],
   "source": [
    "# Metrics for MLP classifier\n",
    "\n",
    "target_predicted = mlp_pipe.predict(data_test)\n",
    "\n",
    "cm = confusion_matrix(target_test, target_predicted)\n",
    "acc = accuracy_score(target_test, target_predicted)\n",
    "mcc = matthews_corrcoef(target_test, target_predicted)\n",
    "\n",
    "ConfusionMatrixDisplay(\n",
    "    confusion_matrix=cm, \n",
    "    display_labels=mlp_pipe.classes_,\n",
    "    ).plot()\n",
    "\n",
    "print(\"Metrics for MLP classifier:\")\n",
    "print(f\"{acc = }\\n{mcc = }\")\n"
   ]
  },
  {
   "cell_type": "code",
   "execution_count": null,
   "metadata": {},
   "outputs": [
    {
     "name": "stdout",
     "output_type": "stream",
     "text": [
      "mlp_score = 0.67375\n",
      "lstm_score = 0.68625\n"
     ]
    }
   ],
   "source": [
    "mlp_score = mlp_pipe.score(data_test, target_test)\n",
    "print(f\"{mlp_score = }\")\n",
    "\n",
    "lstm_score = lstm_pipe.score(data_test, target_test)\n",
    "print(f\"{lstm_score = }\")\n"
   ]
  },
  {
   "attachments": {},
   "cell_type": "markdown",
   "metadata": {},
   "source": [
    "scores on the test data are much lower than on the train data -> the model clearly overfits non-grouped data"
   ]
  },
  {
   "attachments": {},
   "cell_type": "markdown",
   "metadata": {},
   "source": [
    "# GroupKFold cross-validation \n",
    "(doing it right)"
   ]
  },
  {
   "cell_type": "code",
   "execution_count": null,
   "metadata": {},
   "outputs": [
    {
     "name": "stdout",
     "output_type": "stream",
     "text": [
      "The average accuracy is 0.764 ± 0.029\n"
     ]
    }
   ],
   "source": [
    "cv = GroupKFold(n_splits=5)\n",
    "test_score = cross_val_score(\n",
    "    mlp_pipe,\n",
    "    data, target,\n",
    "    groups=groups,\n",
    "    cv=cv,\n",
    "    n_jobs=5)\n",
    "print(f\"The average accuracy is \"\n",
    "      f\"{test_score.mean():.3f} ± \"\n",
    "      f\"{test_score.std():.3f}\")\n"
   ]
  },
  {
   "cell_type": "code",
   "execution_count": null,
   "metadata": {},
   "outputs": [
    {
     "data": {
      "text/plain": [
       "array([0.7425 , 0.74625, 0.725  , 0.8    , 0.75   ])"
      ]
     },
     "execution_count": 21,
     "metadata": {},
     "output_type": "execute_result"
    }
   ],
   "source": [
    "test_score"
   ]
  },
  {
   "cell_type": "code",
   "execution_count": null,
   "metadata": {},
   "outputs": [
    {
     "name": "stdout",
     "output_type": "stream",
     "text": [
      "The average accuracy is 0.753 ± 0.025\n"
     ]
    }
   ],
   "source": [
    "cv = GroupKFold()\n",
    "test_score = cross_val_score(\n",
    "    lstm_pipe,\n",
    "    data, \n",
    "    target, \n",
    "    groups=groups,\n",
    "    cv=cv, \n",
    "    n_jobs=5)\n",
    "print(f\"The average accuracy is \"\n",
    "      f\"{test_score.mean():.3f} ± \"\n",
    "      f\"{test_score.std():.3f}\")\n"
   ]
  },
  {
   "cell_type": "markdown",
   "metadata": {},
   "source": [
    "## Skorch doctor"
   ]
  },
  {
   "cell_type": "code",
   "execution_count": 4,
   "metadata": {},
   "outputs": [],
   "source": [
    "from skorch.helper import SkorchDoctor\n",
    "import random\n",
    "\n",
    "torch.manual_seed(0)\n",
    "torch.cuda.manual_seed(0)\n",
    "torch.cuda.manual_seed_all(0)\n",
    "np.random.seed(0)\n",
    "random.seed(0)\n",
    "\n"
   ]
  },
  {
   "attachments": {},
   "cell_type": "markdown",
   "metadata": {},
   "source": [
    "# Grid search\n"
   ]
  },
  {
   "attachments": {},
   "cell_type": "markdown",
   "metadata": {},
   "source": [
    "# More stuff (WIP)"
   ]
  },
  {
   "cell_type": "code",
   "execution_count": null,
   "metadata": {},
   "outputs": [
    {
     "name": "stdout",
     "output_type": "stream",
     "text": [
      "Average difference of 0.007581 with std. dev. of 0.007833.\n"
     ]
    },
    {
     "data": {
      "image/png": "[encoded data removed]",
      "text/plain": [
       "<Figure size 640x480 with 2 Axes>"
      ]
     },
     "metadata": {},
     "output_type": "display_data"
    }
   ],
   "source": [
    "from sklearn.datasets import load_iris\n",
    "from matplotlib import pyplot as plt\n",
    "from sklearn.svm import SVC\n",
    "from sklearn.model_selection import GridSearchCV, cross_val_score, KFold\n",
    "import numpy as np\n",
    "\n",
    "# Number of random trials\n",
    "NUM_TRIALS = 30\n",
    "\n",
    "# Load the dataset\n",
    "iris = load_iris()\n",
    "X_iris = iris.data\n",
    "y_iris = iris.target\n",
    "\n",
    "# Set up possible values of parameters to optimize over\n",
    "p_grid = {\"C\": [1, 10, 100], \"gamma\": [0.01, 0.1]}\n",
    "\n",
    "# We will use a Support Vector Classifier with \"rbf\" kernel\n",
    "svm = SVC(kernel=\"rbf\")\n",
    "\n",
    "# Arrays to store scores\n",
    "non_nested_scores = np.zeros(NUM_TRIALS)\n",
    "nested_scores = np.zeros(NUM_TRIALS)\n",
    "\n",
    "# Loop for each trial\n",
    "for i in range(NUM_TRIALS):\n",
    "\n",
    "    # Choose cross-validation techniques for the inner and outer loops,\n",
    "    # independently of the dataset.\n",
    "    # E.g \"GroupKFold\", \"LeaveOneOut\", \"LeaveOneGroupOut\", etc.\n",
    "    inner_cv = KFold(n_splits=4, shuffle=True, random_state=i)\n",
    "    outer_cv = KFold(n_splits=4, shuffle=True, random_state=i)\n",
    "\n",
    "    # Non_nested parameter search and scoring\n",
    "    clf = GridSearchCV(estimator=svm, param_grid=p_grid, cv=outer_cv)\n",
    "    clf.fit(X_iris, y_iris)\n",
    "    non_nested_scores[i] = clf.best_score_\n",
    "\n",
    "    # Nested CV with parameter optimization\n",
    "    clf = GridSearchCV(estimator=svm, param_grid=p_grid, cv=inner_cv)\n",
    "    nested_score = cross_val_score(clf, X=X_iris, y=y_iris, cv=outer_cv)\n",
    "    nested_scores[i] = nested_score.mean()\n",
    "\n",
    "score_difference = non_nested_scores - nested_scores\n",
    "\n",
    "print(\n",
    "    \"Average difference of {:6f} with std. dev. of {:6f}.\".format(\n",
    "        score_difference.mean(), score_difference.std()\n",
    "    )\n",
    ")\n",
    "\n",
    "# Plot scores on each trial for nested and non-nested CV\n",
    "plt.figure()\n",
    "plt.subplot(211)\n",
    "(non_nested_scores_line,) = plt.plot(non_nested_scores, color=\"r\")\n",
    "(nested_line,) = plt.plot(nested_scores, color=\"b\")\n",
    "plt.ylabel(\"score\", fontsize=\"14\")\n",
    "plt.legend(\n",
    "    [non_nested_scores_line, nested_line],\n",
    "    [\"Non-Nested CV\", \"Nested CV\"],\n",
    "    bbox_to_anchor=(0, 0.4, 0.5, 0),\n",
    ")\n",
    "plt.title(\n",
    "    \"Non-Nested and Nested Cross Validation on Iris Dataset\",\n",
    "    x=0.5,\n",
    "    y=1.1,\n",
    "    fontsize=\"15\",\n",
    ")\n",
    "\n",
    "# Plot bar chart of the difference.\n",
    "plt.subplot(212)\n",
    "difference_plot = plt.bar(range(NUM_TRIALS), score_difference)\n",
    "plt.xlabel(\"Individual Trial #\")\n",
    "plt.legend(\n",
    "    [difference_plot],\n",
    "    [\"Non-Nested CV - Nested CV Score\"],\n",
    "    bbox_to_anchor=(0, 1, 0.8, 0),\n",
    ")\n",
    "plt.ylabel(\"score difference\", fontsize=\"14\")\n",
    "\n",
    "plt.show()"
   ]
  },
  {
   "cell_type": "code",
   "execution_count": null,
   "metadata": {},
   "outputs": [],
   "source": [
    "# # with grid search\n",
    "# from sklearn.model_selection import GridSearchCV\n",
    "\n",
    "# # deactivate skorch-internal train-valid split and verbose logging\n",
    "# net.set_params(train_split=False, verbose=0)\n",
    "# params = {\n",
    "#     'lr': [0.01, 0.02],\n",
    "#     'max_epochs': [10, 20],\n",
    "#     'module__num_units': [100, 1000],\n",
    "# }\n",
    "# gs = GridSearchCV(net, params, refit=False, cv=3, scoring='accuracy', verbose=2)\n",
    "\n",
    "# gs.fit(data, target)\n",
    "# print(\"best score: {:.3f}, best params: {}\".format(gs.best_score_, gs.best_params_))"
   ]
  },
  {
   "attachments": {},
   "cell_type": "markdown",
   "metadata": {},
   "source": [
    "# Test set"
   ]
  },
  {
   "cell_type": "code",
   "execution_count": null,
   "metadata": {},
   "outputs": [
    {
     "ename": "FileNotFoundError",
     "evalue": "[Errno 2] No such file or directory: 'data\\\\data_test.npy'",
     "output_type": "error",
     "traceback": [
      "\u001b[1;31m---------------------------------------------------------------------------\u001b[0m",
      "\u001b[1;31mFileNotFoundError\u001b[0m                         Traceback (most recent call last)",
      "Cell \u001b[1;32mIn[19], line 2\u001b[0m\n\u001b[0;32m      1\u001b[0m \u001b[39m# Load data\u001b[39;00m\n\u001b[1;32m----> 2\u001b[0m data_test \u001b[39m=\u001b[39m np\u001b[39m.\u001b[39;49mload(Path(\u001b[39mr\u001b[39;49m\u001b[39m\"\u001b[39;49m\u001b[39mdata/data_test.npy\u001b[39;49m\u001b[39m\"\u001b[39;49m))\n\u001b[0;32m      3\u001b[0m target_test \u001b[39m=\u001b[39m np\u001b[39m.\u001b[39mload(Path(\u001b[39mr\u001b[39m\u001b[39m\"\u001b[39m\u001b[39mdata/target_test.npy\u001b[39m\u001b[39m\"\u001b[39m))\n\u001b[0;32m      5\u001b[0m \u001b[39m# Scale data\u001b[39;00m\n",
      "File \u001b[1;32mc:\\conda\\envs\\learning\\lib\\site-packages\\numpy\\lib\\npyio.py:405\u001b[0m, in \u001b[0;36mload\u001b[1;34m(file, mmap_mode, allow_pickle, fix_imports, encoding, max_header_size)\u001b[0m\n\u001b[0;32m    403\u001b[0m     own_fid \u001b[39m=\u001b[39m \u001b[39mFalse\u001b[39;00m\n\u001b[0;32m    404\u001b[0m \u001b[39melse\u001b[39;00m:\n\u001b[1;32m--> 405\u001b[0m     fid \u001b[39m=\u001b[39m stack\u001b[39m.\u001b[39menter_context(\u001b[39mopen\u001b[39;49m(os_fspath(file), \u001b[39m\"\u001b[39;49m\u001b[39mrb\u001b[39;49m\u001b[39m\"\u001b[39;49m))\n\u001b[0;32m    406\u001b[0m     own_fid \u001b[39m=\u001b[39m \u001b[39mTrue\u001b[39;00m\n\u001b[0;32m    408\u001b[0m \u001b[39m# Code to distinguish from NumPy binary files and pickles.\u001b[39;00m\n",
      "\u001b[1;31mFileNotFoundError\u001b[0m: [Errno 2] No such file or directory: 'data\\\\data_test.npy'"
     ]
    }
   ],
   "source": [
    "# Load data\n",
    "data_test = np.load(Path(r\"data/data_test.npy\"))\n",
    "target_test = np.load(Path(r\"data/target_test.npy\"))\n",
    "\n",
    "# Scale data\n",
    "data_test = StandardScaler3D().fit_transform(data_test)\n",
    "\n",
    "# Reshape X to 1-D for MLP\n",
    "data_test = np.reshape(data_test, (\n",
    "    data_test.shape[0],\n",
    "    data_test.shape[2]*data_test.shape[1]\n",
    "), order=\"F\")\n",
    "\n",
    "plt.plot(data_test[142]);\n",
    "print(f\"{data_test.shape = }\")"
   ]
  },
  {
   "attachments": {},
   "cell_type": "markdown",
   "metadata": {},
   "source": [
    "## Sklearn implementation\n"
   ]
  },
  {
   "cell_type": "code",
   "execution_count": null,
   "metadata": {},
   "outputs": [],
   "source": [
    "from sklearn.neural_network import MLPClassifier\n",
    "from sklearn.model_selection import cross_val_score, GroupKFold\n",
    "\n",
    "model = MLPClassifier(\n",
    "    random_state=1, \n",
    "    max_iter=500, \n",
    "    early_stopping=True)\n",
    "\n",
    "cv = GroupKFold()\n",
    "test_score = cross_val_score(model, data, target, groups=groups, cv=cv,\n",
    "                             n_jobs=5)\n",
    "print(f\"The average accuracy is \"\n",
    "      f\"{test_score.mean():.3f} ± \"\n",
    "      f\"{test_score.std():.3f}\")"
   ]
  },
  {
   "cell_type": "code",
   "execution_count": null,
   "metadata": {},
   "outputs": [],
   "source": [
    "all_scores = pd.DataFrame(\n",
    "    [test_score],\n",
    "    index=[\"KFold with groups\"],\n",
    ").T\n",
    "\n",
    "all_scores.plot.hist(bins=10, edgecolor=\"black\", alpha=0.7)\n",
    "plt.xlabel(\"Accuracy score\")\n",
    "_ = plt.title(\"Distribution of the test scores\")"
   ]
  },
  {
   "attachments": {},
   "cell_type": "markdown",
   "metadata": {},
   "source": [
    "# Tests"
   ]
  },
  {
   "cell_type": "code",
   "execution_count": null,
   "metadata": {},
   "outputs": [],
   "source": [
    "# test for tranform_to_1d\n",
    "\n",
    "# Reshape X to 1-D for MLP\n",
    "data = np.reshape(data, (\n",
    "    data.shape[0],\n",
    "    data.shape[2]*data.shape[1]\n",
    "), order=\"F\")\n",
    "\n",
    "plt.plot(data[142]);\n",
    "print(f\"{data.shape = }\")"
   ]
  },
  {
   "cell_type": "code",
   "execution_count": null,
   "metadata": {},
   "outputs": [],
   "source": [
    "from sklearn.model_selection import GroupKFold\n",
    "X = range(100)\n",
    "y = target[:100]\n",
    "groups_ = groups[:1000:10]\n",
    "gkf = GroupKFold(n_splits=6)\n",
    "for train, test in gkf.split(X, y, groups=groups_):\n",
    "    print(\"%s %s\" % (train, test))\n",
    "    print(f\"{train.shape = }\\n{test.shape = }\")"
   ]
  }
 ],
 "metadata": {
  "kernelspec": {
   "display_name": "Python 3.10.8 ('learning')",
   "language": "python",
   "name": "python3"
  },
  "language_info": {
   "codemirror_mode": {
    "name": "ipython",
    "version": 3
   },
   "file_extension": ".py",
   "mimetype": "text/x-python",
   "name": "python",
   "nbconvert_exporter": "python",
   "pygments_lexer": "ipython3",
   "version": "3.11.6"
  },
  "orig_nbformat": 4,
  "vscode": {
   "interpreter": {
    "hash": "9b99f9135959a9658cb812fe0ba5c4f69cd3d89b5662a926a2ace19e3111ee69"
   }
  }
 },
 "nbformat": 4,
 "nbformat_minor": 2
}
