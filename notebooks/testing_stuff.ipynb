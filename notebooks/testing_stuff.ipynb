{
 "cells": [
  {
   "cell_type": "code",
   "execution_count": 1,
   "metadata": {},
   "outputs": [],
   "source": [
    "import sys\n",
    "from pathlib import Path\n",
    "PROJECT_DIR = Path.cwd()\n",
    "if PROJECT_DIR.stem == 'notebooks':\n",
    "    PROJECT_DIR = PROJECT_DIR.parent\n",
    "    sys.path.insert(0, '..')\n",
    "    %load_ext autoreload\n",
    "    %autoreload 2"
   ]
  },
  {
   "cell_type": "code",
   "execution_count": 2,
   "metadata": {},
   "outputs": [],
   "source": [
    "from src.experiments.thermoino import Thermoino, list_com_ports\n",
    "from src.experiments.stimuli_function import StimuliFunction"
   ]
  },
  {
   "cell_type": "code",
   "execution_count": 3,
   "metadata": {},
   "outputs": [],
   "source": [
    "import numpy as np\n",
    "minimal_desired_duration = 200 # in seconds\n",
    "periods = [67, 20] # [0] is the baseline and [1] the modulation; in seconds\n",
    "frequencies = 1./np.array(periods)\n",
    "amplitudes = [1, 1.5] # temp range is 2 * sum(amplitudes): max @ VAS 70, min @ VAS 0\n",
    "sample_rate = 60\n",
    "seed = 463 # use None for random seed\n",
    "baseline_temp = 39.2 # @ VAS 35\n",
    "\n",
    "stimuli = StimuliFunction(\n",
    "    minimal_desired_duration,\n",
    "    frequencies,\n",
    "    amplitudes,\n",
    "    sample_rate,\n",
    "    random_periods=True,\n",
    "    seed=seed)\n",
    "stimuli.add_baseline_temp(baseline_temp)\n",
    "stimuli.add_plateaus(plateau_duration=20, n_plateaus=4, add_at_start=\"random\", add_at_end=True)\n"
   ]
  },
  {
   "cell_type": "code",
   "execution_count": 4,
   "metadata": {},
   "outputs": [
    {
     "name": "stdout",
     "output_type": "stream",
     "text": [
      "COM3: Serielles USB-Gerät (COM3) [USB VID:PID=2A03:0042 SER=85531303231351519040 LOCATION=1-4]\n"
     ]
    }
   ],
   "source": [
    "list_com_ports()"
   ]
  },
  {
   "cell_type": "code",
   "execution_count": 6,
   "metadata": {},
   "outputs": [
    {
     "name": "stderr",
     "output_type": "stream",
     "text": [
      "INFO: Connected to Thermoino @ COM3\n",
      "INFO: Sent 'INITCTC' (.init_ctc) to Arduino, received output: 1\n",
      "INFO: Loading ctc into Arduino ...\n",
      "INFO: Finished loading ctc into Arduino.\n",
      "INFO: Sent 'START' (.trigger) to Arduino, received output: 1\n",
      "INFO: Preparing ctc for execution. Set starting temperature and wait 1.9 s for the temperature to be reached.\n",
      "INFO: Sent 'MOVE' (.set_temp) to Arduino with temperature 39.2°C, received output: 1\n",
      "INFO: Temperature is 39.2°C. The ctc is ready to be executed.\n",
      "INFO: Sent 'EXECCTC' (.exec_ctc) to Arduino, received output: 1\n",
      "INFO: Set temperature to 39.1°C after the ctc was executed.\n",
      "INFO: Sent 'MOVE' (.set_temp) to Arduino with temperature 32°C, received output: 1\n",
      "INFO: Closed connection to Thermoino @ COM3\n",
      "INFO: Connected to Thermoino @ COM3\n",
      "INFO: Sent 'START' (.trigger) to Arduino, received output: -10\n",
      "INFO: Sent 'MOVE' (.set_temp) to Arduino with temperature 42°C, received output: 1\n",
      "INFO: Sent 'MOVE' (.set_temp) to Arduino with temperature 32°C, received output: 4\n",
      "INFO: Closed connection to Thermoino @ COM3\n"
     ]
    }
   ],
   "source": [
    "import time\n",
    "# list_com_ports() # list all available serial ports\n",
    "port = \"COM3\" # e.g. \"COM12\"\n",
    "luigi = Thermoino(\n",
    "    port=port,\n",
    "    temp_baseline=32, # has to be the same as in MMS\n",
    "    rate_of_rise=5) # has to be the same as in MMS\n",
    "\n",
    "# Use luigi for complex temperature courses:\n",
    "luigi.connect()\n",
    "luigi.init_ctc(bin_size_ms=500)\n",
    "luigi.create_ctc(\n",
    "    temp_course = stimuli.wave,\n",
    "    sample_rate = stimuli.sample_rate,\n",
    "    rate_of_rise_option = \"mms_program\")\n",
    "luigi.load_ctc()\n",
    "luigi.trigger()\n",
    "luigi.prep_ctc()\n",
    "luigi.exec_ctc()\n",
    "luigi.set_temp(32)\n",
    "luigi.close()\n",
    "\n",
    "# Use luigi to set temperatures:\n",
    "luigi.connect()\n",
    "luigi.trigger()\n",
    "luigi.set_temp(42)\n",
    "time.sleep(4)\n",
    "luigi.set_temp(32)\n",
    "luigi.close()\n"
   ]
  },
  {
   "cell_type": "code",
   "execution_count": 91,
   "metadata": {},
   "outputs": [
    {
     "data": {
      "text/plain": [
       "2.0"
      ]
     },
     "execution_count": 91,
     "metadata": {},
     "output_type": "execute_result"
    }
   ],
   "source": [
    "import numpy as np\n",
    "periods = [67, 20] # [0] is the baseline and [1] the modulation; in seconds\n",
    "factor = 0.5\n",
    "n = 100\n",
    "noise = np.random.uniform(\n",
    "        -factor * periods[1], \n",
    "        factor * periods[1],\n",
    "        size = n)\n",
    "noise -= noise.mean()\n",
    "np.random.shuffle(noise)\n",
    "a = np.round(noise)\n",
    "sum(a)"
   ]
  },
  {
   "cell_type": "code",
   "execution_count": 143,
   "metadata": {},
   "outputs": [
    {
     "data": {
      "text/plain": [
       "2"
      ]
     },
     "execution_count": 143,
     "metadata": {},
     "output_type": "execute_result"
    }
   ],
   "source": [
    "2 // 1\n"
   ]
  },
  {
   "cell_type": "code",
   "execution_count": 149,
   "metadata": {},
   "outputs": [
    {
     "name": "stderr",
     "output_type": "stream",
     "text": [
      "C:\\Users\\Leopold\\AppData\\Local\\Temp\\ipykernel_17772\\4106090207.py:4: VisibleDeprecationWarning: Creating an ndarray from ragged nested sequences (which is a list-or-tuple of lists-or-tuples-or ndarrays with different lengths or shapes) is deprecated. If you meant to do this, you must specify 'dtype=object' when creating the ndarray.\n",
      "  a = np.array(a)\n"
     ]
    },
    {
     "data": {
      "text/plain": [
       "array([1, 2, 3, list([4, 5])], dtype=object)"
      ]
     },
     "execution_count": 149,
     "metadata": {},
     "output_type": "execute_result"
    }
   ],
   "source": [
    "a = [1, 2, 3]\n",
    "b = [4, 5]\n",
    "a.append(b)\n",
    "a = np.array(a)\n",
    "a.ravel()"
   ]
  },
  {
   "cell_type": "code",
   "execution_count": 151,
   "metadata": {},
   "outputs": [
    {
     "data": {
      "text/plain": [
       "array([6, 7])"
      ]
     },
     "execution_count": 151,
     "metadata": {},
     "output_type": "execute_result"
    }
   ],
   "source": [
    "a = np.array([1, 2, 3])\n",
    "b = np.array([4, 5])\n",
    "a[1]+b"
   ]
  },
  {
   "cell_type": "code",
   "execution_count": 164,
   "metadata": {},
   "outputs": [
    {
     "data": {
      "text/plain": [
       "False"
      ]
     },
     "execution_count": 164,
     "metadata": {},
     "output_type": "execute_result"
    }
   ],
   "source": [
    "(np.arange(5) % 2) #% 2 == 1"
   ]
  },
  {
   "cell_type": "code",
   "execution_count": 160,
   "metadata": {},
   "outputs": [
    {
     "data": {
      "text/plain": [
       "<function ndarray.any>"
      ]
     },
     "execution_count": 160,
     "metadata": {},
     "output_type": "execute_result"
    }
   ],
   "source": [
    "a.any"
   ]
  },
  {
   "cell_type": "code",
   "execution_count": 81,
   "metadata": {},
   "outputs": [
    {
     "data": {
      "text/plain": [
       "0.0"
      ]
     },
     "execution_count": 81,
     "metadata": {},
     "output_type": "execute_result"
    }
   ],
   "source": [
    "noise = np.random.uniform(\n",
    "    -factor * periods[1], \n",
    "    factor * periods[1],\n",
    "    size = int(n/2))\n",
    "# double the noise with inverted values to sum to 0\n",
    "noise = np.concatenate((noise, -noise))\n",
    "# add 0 if length of n is odd\n",
    "if n % 2 == 1:\n",
    "    noise = np.append(noise, 0)\n",
    "np.random.shuffle(noise)\n",
    "b = np.round(noise)\n",
    "sum(b)"
   ]
  },
  {
   "cell_type": "code",
   "execution_count": 129,
   "metadata": {},
   "outputs": [
    {
     "data": {
      "text/plain": [
       "102"
      ]
     },
     "execution_count": 129,
     "metadata": {},
     "output_type": "execute_result"
    }
   ],
   "source": [
    "# create noise\n",
    "noise = np.random.randint(\n",
    "        -factor * periods[1], \n",
    "        factor * periods[1] + 1,\n",
    "        size = n)\n",
    "# adjust the noise so it sums to 0\n",
    "adj = -int(noise.sum() / n)\n",
    "noise[:n // 2] += adj\n",
    "noise[n // 2:] -= adj\n",
    "np.random.shuffle(noise)"
   ]
  },
  {
   "cell_type": "code",
   "execution_count": 137,
   "metadata": {},
   "outputs": [
    {
     "data": {
      "text/plain": [
       "True"
      ]
     },
     "execution_count": 137,
     "metadata": {},
     "output_type": "execute_result"
    }
   ],
   "source": [
    "int(13/2) == 13//2"
   ]
  },
  {
   "cell_type": "code",
   "execution_count": 165,
   "metadata": {},
   "outputs": [],
   "source": [
    "\n",
    "def psychopy_to_pixel_coordinates(pos, win_size, win_pos):\n",
    "    \"\"\"Converts PsychoPy coordinates to pixel coordinates\"\"\"\n",
    "    x, y = pos\n",
    "    width, height = win_size\n",
    "    win_x, win_y = win_pos\n",
    "    pixel_x = (x + 1) / 2 * width + win_x\n",
    "    pixel_y = (1 - y) / 2 * height + win_y\n",
    "    return pixel_x, pixel_y\n"
   ]
  },
  {
   "cell_type": "code",
   "execution_count": 166,
   "metadata": {},
   "outputs": [
    {
     "data": {
      "text/plain": [
       "(960.0, 540.0)"
      ]
     },
     "execution_count": 166,
     "metadata": {},
     "output_type": "execute_result"
    }
   ],
   "source": [
    "psychopy_to_pixel_coordinates((0, ), (1920, 1080), (0, 0))"
   ]
  },
  {
   "cell_type": "code",
   "execution_count": 201,
   "metadata": {},
   "outputs": [
    {
     "data": {
      "text/plain": [
       "1160"
      ]
     },
     "execution_count": 201,
     "metadata": {},
     "output_type": "execute_result"
    }
   ],
   "source": [
    "import mouse\n",
    "mouse.get_position()[1]\n",
    "# mouse.move(100, 842, absolute=True, duration=0.2)"
   ]
  },
  {
   "cell_type": "code",
   "execution_count": 194,
   "metadata": {},
   "outputs": [
    {
     "name": "stdout",
     "output_type": "stream",
     "text": [
      "2256 1504\n"
     ]
    }
   ],
   "source": [
    "from win32api import GetSystemMetrics\n",
    "import ctypes\n",
    "# needed to get the correct screen resolution (bc of DPI scaling)\n",
    "# this method is safe to use with all types of monitors, whether they use DPI scaling or not\n",
    "user32 = ctypes.windll.user32\n",
    "user32.SetProcessDPIAware()\n",
    "\n",
    "width = user32.GetSystemMetrics(0)\n",
    "height = user32.GetSystemMetrics(1)\n",
    "# in a multi-monitor setup, you can use the screeninfo library, for instance\n",
    "# >>> from screeninfo import get_monitors\n",
    "# >>> for m in get_monitors():\n",
    "# >>>    print(str(m))\n",
    "# this prints out the resolution (width and height), position (x, y), and other information for each monitor \n",
    "print(width, height)\n"
   ]
  },
  {
   "cell_type": "code",
   "execution_count": 229,
   "metadata": {},
   "outputs": [],
   "source": [
    "import mouse\n",
    "\n",
    "mouse.move(mouse.get_position()[0], 872, absolute=True, duration=0)"
   ]
  }
 ],
 "metadata": {
  "kernelspec": {
   "display_name": "Python 3.10.8 ('learning')",
   "language": "python",
   "name": "python3"
  },
  "language_info": {
   "codemirror_mode": {
    "name": "ipython",
    "version": 3
   },
   "file_extension": ".py",
   "mimetype": "text/x-python",
   "name": "python",
   "nbconvert_exporter": "python",
   "pygments_lexer": "ipython3",
   "version": "3.10.9"
  },
  "orig_nbformat": 4,
  "vscode": {
   "interpreter": {
    "hash": "9b99f9135959a9658cb812fe0ba5c4f69cd3d89b5662a926a2ace19e3111ee69"
   }
  }
 },
 "nbformat": 4,
 "nbformat_minor": 2
}
