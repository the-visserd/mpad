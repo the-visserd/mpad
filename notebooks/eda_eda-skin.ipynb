{
    "cells": [
        {
            "cell_type": "code",
            "execution_count": 1,
            "metadata": {},
            "outputs": [],
            "source": [
                "%%capture\n",
                "from pathlib import Path\n",
                "\n",
                "if Path.cwd().stem == \"notebooks\":\n",
                "    %cd ..\n",
                "    %load_ext autoreload\n",
                "    %autoreload 2"
            ]
        },
        {
            "cell_type": "code",
            "execution_count": 21,
            "metadata": {},
            "outputs": [],
            "source": [
                "import logging\n",
                "\n",
                "import duckdb\n",
                "import holoviews as hv\n",
                "import hvplot.polars\n",
                "import neurokit2 as nk\n",
                "import pandas as pd\n",
                "import polars as pl\n",
                "from icecream import ic\n",
                "from polars import col\n",
                "\n",
                "from src.data.database_manager import DatabaseManager\n",
                "from src.features.eda import nk_process_eda\n",
                "from src.features.scaling import scale_min_max\n",
                "from src.features.transformations import map_trials\n",
                "from src.log_config import configure_logging\n",
                "from src.visualization.utils import prepare_multiline_hvplot\n",
                "\n",
                "configure_logging(\n",
                "    stream_level=logging.DEBUG, ignore_libs=(\"Comm\", \"bokeh\", \"tornado\", \"matplotlib\")\n",
                ")\n",
                "logger = logging.getLogger(__name__.rsplit(\".\", maxsplit=1)[-1])\n",
                "\n",
                "pl.Config.set_tbl_rows(12)  # for the 12 trials\n",
                "hv.output(widget_location=\"bottom\", size=130)"
            ]
        },
        {
            "cell_type": "code",
            "execution_count": 22,
            "metadata": {},
            "outputs": [],
            "source": [
                "db = DatabaseManager()"
            ]
        },
        {
            "cell_type": "code",
            "execution_count": 23,
            "metadata": {},
            "outputs": [],
            "source": [
                "with db:\n",
                "    df = db.read_table(\"Raw_eda\")\n",
                "df = df.unique(\"timestamp\").sort(\"timestamp\")  # sample_rate = 100 Hz"
            ]
        },
        {
            "cell_type": "markdown",
            "metadata": {},
            "source": [
                "## Comparing neurokit / biopac / highpass filter (0.05 Hz) vs Median smoothing\n",
                "\n",
                "From the neurokit2 documentation:\n",
                "  * **High-pass filtering**: Method implemented in Biopac's Acqknowledge. The raw EDA signal\n",
                "    is passed through a high pass filter with a cutoff frequency of 0.05 Hz\n",
                "    (cutoff frequency can be adjusted by the ``cutoff`` argument).\n",
                "  * **Median smoothing**: Method implemented in Biopac's Acqknowledge. The raw EDA signal is\n",
                "    passed through a median value smoothing filter, which removes areas of rapid change. The\n",
                "    phasic component is then calculated by subtracting the smoothed signal from the original.\n",
                "    This method is computationally intensive and the processing time depends on the smoothing\n",
                "    factor, which can be controlled by the as ``smoothing_factor`` argument, set by default to\n",
                "    ``4`` seconds. Higher values will produce results more rapidly."
            ]
        },
        {
            "cell_type": "markdown",
            "metadata": {},
            "source": [
                "-> high pass filter is much faster than median smoothing"
            ]
        },
        {
            "cell_type": "code",
            "execution_count": 24,
            "metadata": {},
            "outputs": [
                {
                    "data": {
                        "application/vnd.jupyter.widget-view+json": {
                            "model_id": "c2ea9246cb534150bf1773e7fc10894b",
                            "version_major": 2,
                            "version_minor": 0
                        },
                        "text/plain": [
                            "BokehModel(combine_events=True, render_bundle={'docs_json': {'91f1e3ab-3b33-40a7-8ad1-12a078312c19': {'version…"
                        ]
                    },
                    "execution_count": 24,
                    "metadata": {},
                    "output_type": "execute_result"
                }
            ],
            "source": [
                "scale_min_max(\n",
                "    nk_process_eda(\n",
                "        df,\n",
                "        method=\"neurokit\",\n",
                "    )\n",
                ").plot(\n",
                "    x=\"timestamp\",\n",
                "    y=[\"eda_raw\", \"eda_phasic\", \"eda_tonic\"],\n",
                "    groupby=\"trial_id\",\n",
                ")"
            ]
        },
        {
            "cell_type": "code",
            "execution_count": 6,
            "metadata": {},
            "outputs": [
                {
                    "data": {
                        "application/vnd.jupyter.widget-view+json": {
                            "model_id": "d7b1d18380714120983bb672a995ac64",
                            "version_major": 2,
                            "version_minor": 0
                        },
                        "text/plain": [
                            "BokehModel(combine_events=True, render_bundle={'docs_json': {'a7d2fd9d-11fc-4380-9a68-a5537825b3c6': {'version…"
                        ]
                    },
                    "execution_count": 6,
                    "metadata": {},
                    "output_type": "execute_result"
                }
            ],
            "source": [
                "# median smoothing is much slower, that why we only use it for one trial\n",
                "trial_id = 98\n",
                "\n",
                "scale_min_max(\n",
                "    nk_process_eda(\n",
                "        df.filter(col(\"trial_id\") == trial_id),\n",
                "        method=\"median\",\n",
                "    )\n",
                ").plot(\n",
                "    x=\"timestamp\",\n",
                "    y=[\"eda_raw\", \"eda_phasic\", \"eda_tonic\"],\n",
                "    groupby=\"trial_id\",\n",
                ")"
            ]
        },
        {
            "cell_type": "markdown",
            "metadata": {},
            "source": [
                "## Other available methods:\n",
                "- convex\n",
                "- sparse"
            ]
        },
        {
            "cell_type": "code",
            "execution_count": 7,
            "metadata": {},
            "outputs": [
                {
                    "data": {
                        "application/vnd.jupyter.widget-view+json": {
                            "model_id": "95f2c5ad3805400eb9a1a013b13a8b6e",
                            "version_major": 2,
                            "version_minor": 0
                        },
                        "text/plain": [
                            "BokehModel(combine_events=True, render_bundle={'docs_json': {'cb15c415-3217-44ee-8999-f19d5ef6876a': {'version…"
                        ]
                    },
                    "execution_count": 7,
                    "metadata": {},
                    "output_type": "execute_result"
                }
            ],
            "source": [
                "# convex smoothing is even slower\n",
                "trial_id = 98\n",
                "\n",
                "scale_min_max(\n",
                "    nk_process_eda(\n",
                "        df.filter(col(\"trial_id\") == trial_id),\n",
                "        method=\"convex\",\n",
                "    )\n",
                ").plot(\n",
                "    x=\"timestamp\",\n",
                "    y=[\"eda_raw\", \"eda_phasic\", \"eda_tonic\"],\n",
                "    groupby=\"trial_id\",\n",
                ")"
            ]
        },
        {
            "cell_type": "code",
            "execution_count": 8,
            "metadata": {},
            "outputs": [
                {
                    "data": {
                        "application/vnd.jupyter.widget-view+json": {
                            "model_id": "7c2e3e3d448441f882bd38b42cace2bc",
                            "version_major": 2,
                            "version_minor": 0
                        },
                        "text/plain": [
                            "BokehModel(combine_events=True, render_bundle={'docs_json': {'887a47fd-6051-49f0-a342-90eecfee38f0': {'version…"
                        ]
                    },
                    "execution_count": 8,
                    "metadata": {},
                    "output_type": "execute_result"
                }
            ],
            "source": [
                "# sparse smoothing is even slower\n",
                "trial_id = 98\n",
                "\n",
                "scale_min_max(\n",
                "    nk_process_eda(\n",
                "        df.filter(col(\"trial_id\") == trial_id),\n",
                "        method=\"sparse\",\n",
                "    )\n",
                ").plot(\n",
                "    x=\"timestamp\",\n",
                "    y=[\"eda_raw\", \"eda_phasic\", \"eda_tonic\"],\n",
                "    groupby=\"trial_id\",\n",
                ")"
            ]
        },
        {
            "cell_type": "code",
            "execution_count": null,
            "metadata": {},
            "outputs": [],
            "source": []
        },
        {
            "cell_type": "code",
            "execution_count": null,
            "metadata": {},
            "outputs": [],
            "source": []
        },
        {
            "cell_type": "code",
            "execution_count": null,
            "metadata": {},
            "outputs": [],
            "source": []
        },
        {
            "cell_type": "markdown",
            "metadata": {},
            "source": [
                "## Join with Stimulus data"
            ]
        },
        {
            "cell_type": "code",
            "execution_count": 26,
            "metadata": {},
            "outputs": [
                {
                    "name": "stderr",
                    "output_type": "stream",
                    "text": [
                        "ic| df.height: 5934569, df.unique(\"timestamp\").height: 5934569\n",
                        "ic| df.height - df.unique(\"timestamp\").height: 0\n"
                    ]
                },
                {
                    "data": {
                        "text/html": [
                            "<div><style>\n",
                            ".dataframe > thead > tr,\n",
                            ".dataframe > tbody > tr {\n",
                            "  text-align: right;\n",
                            "  white-space: pre-wrap;\n",
                            "}\n",
                            "</style>\n",
                            "<small>shape: (5_934_569, 11)</small><table border=\"1\" class=\"dataframe\"><thead><tr><th>trial_id</th><th>trial_number</th><th>participant_id</th><th>rownumber</th><th>timestamp</th><th>samplenumber</th><th>eda_d_battery</th><th>eda_raw</th><th>eda_d_packetreceptionrate</th><th>temperature</th><th>rating</th></tr><tr><td>u16</td><td>u8</td><td>u8</td><td>u32</td><td>f64</td><td>i64</td><td>f64</td><td>f64</td><td>i64</td><td>f64</td><td>f64</td></tr></thead><tbody><tr><td>1</td><td>1</td><td>1</td><td>0</td><td>294224.331</td><td>57895</td><td>3677.435897</td><td>0.753247</td><td>100</td><td>45.75</td><td>42.5</td></tr><tr><td>1</td><td>1</td><td>1</td><td>0</td><td>294242.275</td><td>57896</td><td>3687.630769</td><td>0.754135</td><td>100</td><td>45.75</td><td>42.5</td></tr><tr><td>1</td><td>1</td><td>1</td><td>0</td><td>294248.2588</td><td>57898</td><td>3692.0</td><td>0.754135</td><td>100</td><td>45.75</td><td>42.5</td></tr><tr><td>1</td><td>1</td><td>1</td><td>0</td><td>294276.1835</td><td>57899</td><td>3678.892308</td><td>0.754135</td><td>100</td><td>45.75</td><td>42.5</td></tr><tr><td>1</td><td>1</td><td>1</td><td>0</td><td>294277.1819</td><td>57900</td><td>3692.0</td><td>0.752359</td><td>100</td><td>45.75</td><td>42.5</td></tr><tr><td>1</td><td>1</td><td>1</td><td>0</td><td>294309.0952</td><td>57902</td><td>3705.107692</td><td>0.752359</td><td>100</td><td>45.75</td><td>42.5</td></tr><tr><td>&hellip;</td><td>&hellip;</td><td>&hellip;</td><td>&hellip;</td><td>&hellip;</td><td>&hellip;</td><td>&hellip;</td><td>&hellip;</td><td>&hellip;</td><td>&hellip;</td><td>&hellip;</td></tr><tr><td>332</td><td>12</td><td>28</td><td>21610</td><td>2.7771e6</td><td>467073</td><td>3603.158974</td><td>13.679468</td><td>99</td><td>45.582614</td><td>85.0</td></tr><tr><td>332</td><td>12</td><td>28</td><td>21610</td><td>2.7771e6</td><td>467074</td><td>3617.723077</td><td>13.679468</td><td>99</td><td>45.582614</td><td>85.0</td></tr><tr><td>332</td><td>12</td><td>28</td><td>21610</td><td>2.7771e6</td><td>467075</td><td>3582.769231</td><td>13.674363</td><td>99</td><td>45.582614</td><td>85.0</td></tr><tr><td>332</td><td>12</td><td>28</td><td>21610</td><td>2.7771e6</td><td>467076</td><td>3607.528205</td><td>13.679468</td><td>99</td><td>45.582614</td><td>85.0</td></tr><tr><td>332</td><td>12</td><td>28</td><td>21610</td><td>2.7771e6</td><td>467078</td><td>3606.071795</td><td>13.684573</td><td>99</td><td>45.582614</td><td>85.0</td></tr><tr><td>332</td><td>12</td><td>28</td><td>21610</td><td>2.7771e6</td><td>467079</td><td>3582.769231</td><td>13.684573</td><td>99</td><td>45.582614</td><td>85.0</td></tr></tbody></table></div>"
                        ],
                        "text/plain": [
                            "shape: (5_934_569, 11)\n",
                            "┌──────────┬────────────┬────────────┬───────────┬───┬───────────┬────────────┬───────────┬────────┐\n",
                            "│ trial_id ┆ trial_numb ┆ participan ┆ rownumber ┆ … ┆ eda_raw   ┆ eda_d_pack ┆ temperatu ┆ rating │\n",
                            "│ ---      ┆ er         ┆ t_id       ┆ ---       ┆   ┆ ---       ┆ etreceptio ┆ re        ┆ ---    │\n",
                            "│ u16      ┆ ---        ┆ ---        ┆ u32       ┆   ┆ f64       ┆ nrate      ┆ ---       ┆ f64    │\n",
                            "│          ┆ u8         ┆ u8         ┆           ┆   ┆           ┆ ---        ┆ f64       ┆        │\n",
                            "│          ┆            ┆            ┆           ┆   ┆           ┆ i64        ┆           ┆        │\n",
                            "╞══════════╪════════════╪════════════╪═══════════╪═══╪═══════════╪════════════╪═══════════╪════════╡\n",
                            "│ 1        ┆ 1          ┆ 1          ┆ 0         ┆ … ┆ 0.753247  ┆ 100        ┆ 45.75     ┆ 42.5   │\n",
                            "│ 1        ┆ 1          ┆ 1          ┆ 0         ┆ … ┆ 0.754135  ┆ 100        ┆ 45.75     ┆ 42.5   │\n",
                            "│ 1        ┆ 1          ┆ 1          ┆ 0         ┆ … ┆ 0.754135  ┆ 100        ┆ 45.75     ┆ 42.5   │\n",
                            "│ 1        ┆ 1          ┆ 1          ┆ 0         ┆ … ┆ 0.754135  ┆ 100        ┆ 45.75     ┆ 42.5   │\n",
                            "│ 1        ┆ 1          ┆ 1          ┆ 0         ┆ … ┆ 0.752359  ┆ 100        ┆ 45.75     ┆ 42.5   │\n",
                            "│ 1        ┆ 1          ┆ 1          ┆ 0         ┆ … ┆ 0.752359  ┆ 100        ┆ 45.75     ┆ 42.5   │\n",
                            "│ …        ┆ …          ┆ …          ┆ …         ┆ … ┆ …         ┆ …          ┆ …         ┆ …      │\n",
                            "│ 332      ┆ 12         ┆ 28         ┆ 21610     ┆ … ┆ 13.679468 ┆ 99         ┆ 45.582614 ┆ 85.0   │\n",
                            "│ 332      ┆ 12         ┆ 28         ┆ 21610     ┆ … ┆ 13.679468 ┆ 99         ┆ 45.582614 ┆ 85.0   │\n",
                            "│ 332      ┆ 12         ┆ 28         ┆ 21610     ┆ … ┆ 13.674363 ┆ 99         ┆ 45.582614 ┆ 85.0   │\n",
                            "│ 332      ┆ 12         ┆ 28         ┆ 21610     ┆ … ┆ 13.679468 ┆ 99         ┆ 45.582614 ┆ 85.0   │\n",
                            "│ 332      ┆ 12         ┆ 28         ┆ 21610     ┆ … ┆ 13.684573 ┆ 99         ┆ 45.582614 ┆ 85.0   │\n",
                            "│ 332      ┆ 12         ┆ 28         ┆ 21610     ┆ … ┆ 13.684573 ┆ 99         ┆ 45.582614 ┆ 85.0   │\n",
                            "└──────────┴────────────┴────────────┴───────────┴───┴───────────┴────────────┴───────────┴────────┘"
                        ]
                    },
                    "execution_count": 26,
                    "metadata": {},
                    "output_type": "execute_result"
                }
            ],
            "source": [
                "query = \"\"\"\n",
                "SELECT * FROM Preprocess_EDA AS pe\n",
                "ASOF JOIN Raw_Stimulus rs USING (trial_id, timestamp)\n",
                "ORDER BY pe.trial_id, pe.timestamp\n",
                "\"\"\"\n",
                "\n",
                "with db:\n",
                "    df = db.execute(query).pl()\n",
                "df\n",
                "ic(df.height, df.unique(\"timestamp\").height)\n",
                "# ensure that the timestamps are unique\n",
                "ic(df.height - df.unique(\"timestamp\").height)\n",
                "df"
            ]
        },
        {
            "cell_type": "code",
            "execution_count": null,
            "metadata": {},
            "outputs": [],
            "source": []
        }
    ],
    "metadata": {
        "kernelspec": {
            "display_name": "pain",
            "language": "python",
            "name": "python3"
        },
        "language_info": {
            "codemirror_mode": {
                "name": "ipython",
                "version": 3
            },
            "file_extension": ".py",
            "mimetype": "text/x-python",
            "name": "python",
            "nbconvert_exporter": "python",
            "pygments_lexer": "ipython3",
            "version": "3.12.4"
        }
    },
    "nbformat": 4,
    "nbformat_minor": 2
}
