{
    "cells": [
        {
            "cell_type": "code",
            "execution_count": 37,
            "metadata": {},
            "outputs": [],
            "source": [
                "%%capture\n",
                "from pathlib import Path\n",
                "\n",
                "if Path.cwd().stem == \"notebooks\":\n",
                "    %cd ..\n",
                "    %load_ext autoreload\n",
                "    %autoreload 2"
            ]
        },
        {
            "cell_type": "code",
            "execution_count": 60,
            "metadata": {},
            "outputs": [],
            "source": [
                "import logging\n",
                "\n",
                "import duckdb\n",
                "import holoviews as hv\n",
                "import hvplot.polars\n",
                "import neurokit2 as nk\n",
                "import pandas as pd\n",
                "import polars as pl\n",
                "from icecream import ic\n",
                "from polars import col\n",
                "\n",
                "from src.data.database_manager import DatabaseManager\n",
                "from src.features.eda import nk_process_eda\n",
                "from src.features.quality_checks import check_sample_rate\n",
                "from src.features.scaling import scale_min_max\n",
                "from src.features.transformations import map_trials, remove_duplicate_timestamps\n",
                "from src.log_config import configure_logging\n",
                "from src.visualization.utils import prepare_multiline_hvplot\n",
                "\n",
                "configure_logging(\n",
                "    stream_level=logging.DEBUG, ignore_libs=(\"Comm\", \"bokeh\", \"tornado\", \"matplotlib\")\n",
                ")\n",
                "logger = logging.getLogger(__name__.rsplit(\".\", maxsplit=1)[-1])\n",
                "\n",
                "pl.Config.set_tbl_rows(12)  # for the 12 trials\n",
                "hv.output(widget_location=\"bottom\", size=130)"
            ]
        },
        {
            "cell_type": "code",
            "execution_count": 54,
            "metadata": {},
            "outputs": [],
            "source": [
                "db = DatabaseManager()"
            ]
        },
        {
            "cell_type": "code",
            "execution_count": 56,
            "metadata": {},
            "outputs": [
                {
                    "name": "stdout",
                    "output_type": "stream",
                    "text": [
                        "12:37:53 | \u001b[36mDEBUG   \u001b[0m| quality_checks | Sample rate per trial: [ 97.89  98.81  98.71  98.69  98.84  98.98  98.52  98.75  98.61  98.9\n",
                        "  98.54  98.71 100.41 100.75 100.66 100.68 100.7  100.44 100.57 100.63\n",
                        " 100.69 100.48 100.68 100.37  99.03  99.    99.    98.93  99.23  98.69\n",
                        "  99.08  98.84  99.27  98.82  98.93  99.09  99.07  98.93  99.2   99.09\n",
                        "  99.23  99.11  99.31  98.88  98.73  98.78  98.69  98.78  98.52  98.78\n",
                        "  98.59  98.49  98.7   98.63  98.72  98.6   98.7   98.82  99.02  98.66\n",
                        "  98.65  98.63  98.92  98.97  98.9   98.81  98.9   98.85  99.17  99.14\n",
                        "  98.83  98.97  98.98  98.85  99.07  99.    98.79  98.75  98.76  98.7\n",
                        "  98.9   98.73  98.96  98.71  98.91  98.8   98.6   98.88  98.81  98.72\n",
                        "  98.74  98.63 100.51 100.54 100.5  100.51 100.67 100.65 100.65 100.57\n",
                        " 100.63 100.6  100.61 100.61  98.6   98.92  98.54  98.82  98.75  98.72\n",
                        "  98.69  98.85  98.63  98.82  98.57  98.54  98.93  98.83  98.93  98.93\n",
                        "  99.02  98.97  98.98  98.91  98.86  98.8   98.8   98.68  98.9   98.42\n",
                        "  98.72  98.95  98.74  98.97  98.63  98.75  98.95  98.76  98.59  98.72\n",
                        " 100.8  100.51 100.53 100.47 100.59 100.58 100.75 100.5  100.45 100.56\n",
                        " 100.68 100.56  98.73  98.65  98.86  98.78  98.76  98.78  99.03  98.78\n",
                        "  98.58  98.52  98.87  98.86  98.78  98.69  98.88  98.71  98.6   98.76\n",
                        "  98.55  98.81  98.63  98.77  98.77  98.8   98.97  98.81  98.81  98.97\n",
                        "  99.05  98.8   98.76  99.11  98.84  98.84  98.75  98.99 100.68 100.75\n",
                        " 100.56 100.56 100.69 100.53 100.61 100.53 100.64 100.54 100.63 100.51\n",
                        "  98.84  99.07  99.02  98.91  99.05  99.04  98.87  98.89  99.11  98.95\n",
                        "  98.95  99.   100.49 100.73 100.6  100.5  100.59 100.44 100.61 100.67\n",
                        " 100.86 100.53 100.68 100.8   98.98  98.87  98.7   98.82  98.87  98.67\n",
                        "  98.89  98.68  98.81  98.49  98.76  98.83 100.74 100.52 100.55 100.67\n",
                        " 100.62 100.68 100.51 100.7  100.6  100.7  100.69 100.65  98.74  98.73\n",
                        "  98.8   98.83  98.83  98.51  98.84  98.83  98.89  98.84  98.71  98.65\n",
                        "  98.75  98.97  98.46  98.63  98.8   98.82  98.94  98.57  98.66  98.8\n",
                        "  98.59  98.93  98.68  98.66  98.82  98.99  98.92  98.64  98.49  98.98\n",
                        "  98.74  98.78  98.89  98.75  98.99  98.97  98.71  98.8   98.79  98.93\n",
                        "  98.67  98.84  98.6   98.81  98.89  99.28  98.78  98.76  98.71  98.98\n",
                        "  98.74  98.85  98.54  98.67  98.7   98.9   98.83  98.94 100.78 100.44\n",
                        " 100.38 100.53 100.86 100.56 100.71 100.41 100.4  100.7  100.65 100.47\n",
                        " 100.66 100.64 100.81 100.63 100.65 100.68 100.47 100.61 100.6  100.61\n",
                        " 100.69 100.61]\n",
                        "12:37:53 | \u001b[92mINFO    \u001b[0m| quality_checks | The mean sample rate is 99.33.\n",
                        "12:37:53 | \u001b[93mWARNING \u001b[0m| quality_checks | Sample rate varies more than 0.5% between trials: 0.83% (coefficient of variation).\n"
                    ]
                }
            ],
            "source": [
                "with db:\n",
                "    df = db.read_table(\"Raw_eda\")\n",
                "# df = df.unique(\"timestamp\").sort(\"trial_id\",\"timestamp\")  # sample_rate = 100 Hz\n",
                "df = remove_duplicate_timestamps(df)\n",
                "check_sample_rate(df)"
            ]
        },
        {
            "cell_type": "code",
            "execution_count": 57,
            "metadata": {},
            "outputs": [],
            "source": [
                "# @map_trials\n",
                "# def nk_process_eda(\n",
                "#     df: pl.DataFrame,\n",
                "#     sampling_rate: int = 100,\n",
                "#     method: str = \"neurokit\",\n",
                "# ) -> pl.DataFrame:\n",
                "#     \"\"\"\n",
                "#     Process EDA signal using NeuroKit2.\n",
                "\n",
                "#     The default method \"neurokit\" is based on a high-pass filter of 0.05 Hz as used in\n",
                "#     the BIOPAC algorithm.\n",
                "\n",
                "#     https://www.biopac.com/knowledge-base/phasic-eda-issue/,\n",
                "#     https://github.com/neuropsychology/NeuroKit/blob/1aa8deee392f8098df4fd77a23f696c2ff2d29db/neurokit2/eda/eda_phasic.py#L141\n",
                "#     \"\"\"\n",
                "#     eda_raw = df.get_column(\"eda_raw\").to_numpy()\n",
                "#     eda_processed: pd.DataFrame = nk.eda_phasic(\n",
                "#         eda_signal=eda_raw,\n",
                "#         sampling_rate=sampling_rate,\n",
                "#         method=method,\n",
                "#     )  # this returns EDA_Phasic and EDA_Tonic columns\n",
                "#     df = df.hstack(pl.from_pandas(eda_processed))\n",
                "#     return df.select(pl.all().name.to_lowercase())\n",
                "\n",
                "\n",
                "# df = nk_process_eda(df)\n",
                "# df.plot(\n",
                "#     x=\"timestamp\",\n",
                "#     y=[\"eda_raw\", \"eda_tonic\"],\n",
                "#     groupby=\"trial_id\",\n",
                "# )"
            ]
        },
        {
            "cell_type": "markdown",
            "metadata": {},
            "source": [
                "## Comparing neurokit / biopac / highpass filter (0.05 Hz) vs Median smoothing\n",
                "\n",
                "From the neurokit2 documentation:\n",
                "  * **High-pass filtering**: Method implemented in Biopac's Acqknowledge. The raw EDA signal\n",
                "    is passed through a high pass filter with a cutoff frequency of 0.05 Hz\n",
                "    (cutoff frequency can be adjusted by the ``cutoff`` argument).\n",
                "  * **Median smoothing**: Method implemented in Biopac's Acqknowledge. The raw EDA signal is\n",
                "    passed through a median value smoothing filter, which removes areas of rapid change. The\n",
                "    phasic component is then calculated by subtracting the smoothed signal from the original.\n",
                "    This method is computationally intensive and the processing time depends on the smoothing\n",
                "    factor, which can be controlled by the as ``smoothing_factor`` argument, set by default to\n",
                "    ``4`` seconds. Higher values will produce results more rapidly."
            ]
        },
        {
            "cell_type": "markdown",
            "metadata": {},
            "source": [
                "-> high pass filter is much faster than median smoothing"
            ]
        },
        {
            "cell_type": "code",
            "execution_count": 42,
            "metadata": {},
            "outputs": [
                {
                    "data": {
                        "application/vnd.jupyter.widget-view+json": {
                            "model_id": "6e2b31d36dd34d2c8c1326c734d21b84",
                            "version_major": 2,
                            "version_minor": 0
                        },
                        "text/plain": [
                            "BokehModel(combine_events=True, render_bundle={'docs_json': {'052214c4-74d5-461a-8cb5-37a49d8f0110': {'version…"
                        ]
                    },
                    "execution_count": 42,
                    "metadata": {},
                    "output_type": "execute_result"
                }
            ],
            "source": [
                "scale_min_max(\n",
                "    nk_process_eda(\n",
                "        df,\n",
                "        method=\"neurokit\",\n",
                "    )\n",
                ").plot(\n",
                "    x=\"timestamp\",\n",
                "    y=[\"eda_raw\", \"eda_phasic\", \"eda_tonic\"],\n",
                "    groupby=\"trial_id\",\n",
                ")"
            ]
        },
        {
            "cell_type": "code",
            "execution_count": 43,
            "metadata": {},
            "outputs": [
                {
                    "data": {
                        "application/vnd.jupyter.widget-view+json": {
                            "model_id": "3e29e711c06c45b2afd689ed91f50b6a",
                            "version_major": 2,
                            "version_minor": 0
                        },
                        "text/plain": [
                            "BokehModel(combine_events=True, render_bundle={'docs_json': {'fd78ad2d-ac81-4331-a497-f435eca2de42': {'version…"
                        ]
                    },
                    "execution_count": 43,
                    "metadata": {},
                    "output_type": "execute_result"
                }
            ],
            "source": [
                "# median smoothing is much slower, that why we only use it for one trial\n",
                "trial_id = 98\n",
                "\n",
                "scale_min_max(\n",
                "    nk_process_eda(\n",
                "        df.filter(col(\"trial_id\") == trial_id),\n",
                "        method=\"median\",\n",
                "    )\n",
                ").plot(\n",
                "    x=\"timestamp\",\n",
                "    y=[\"eda_raw\", \"eda_phasic\", \"eda_tonic\"],\n",
                "    groupby=\"trial_id\",\n",
                ")"
            ]
        },
        {
            "cell_type": "markdown",
            "metadata": {},
            "source": [
                "## Other available methods:\n",
                "- convex\n",
                "- sparse"
            ]
        },
        {
            "cell_type": "code",
            "execution_count": 44,
            "metadata": {},
            "outputs": [
                {
                    "data": {
                        "application/vnd.jupyter.widget-view+json": {
                            "model_id": "49b242d6eab24813a8ff14453ce958e8",
                            "version_major": 2,
                            "version_minor": 0
                        },
                        "text/plain": [
                            "BokehModel(combine_events=True, render_bundle={'docs_json': {'4c659946-d772-4dcc-8f22-e9681e88f1c6': {'version…"
                        ]
                    },
                    "execution_count": 44,
                    "metadata": {},
                    "output_type": "execute_result"
                }
            ],
            "source": [
                "# convex smoothing is even slower\n",
                "trial_id = 98\n",
                "\n",
                "scale_min_max(\n",
                "    nk_process_eda(\n",
                "        df.filter(col(\"trial_id\") == trial_id),\n",
                "        method=\"convex\",\n",
                "    )\n",
                ").plot(\n",
                "    x=\"timestamp\",\n",
                "    y=[\"eda_raw\", \"eda_phasic\", \"eda_tonic\"],\n",
                "    groupby=\"trial_id\",\n",
                ")"
            ]
        },
        {
            "cell_type": "code",
            "execution_count": 45,
            "metadata": {},
            "outputs": [
                {
                    "data": {
                        "application/vnd.jupyter.widget-view+json": {
                            "model_id": "9a5ad7401e984097a999d555578ce72b",
                            "version_major": 2,
                            "version_minor": 0
                        },
                        "text/plain": [
                            "BokehModel(combine_events=True, render_bundle={'docs_json': {'34f9c8f3-2de4-4054-8671-3f12317ab05c': {'version…"
                        ]
                    },
                    "execution_count": 45,
                    "metadata": {},
                    "output_type": "execute_result"
                }
            ],
            "source": [
                "# sparse smoothing is even slower\n",
                "trial_id = 98\n",
                "\n",
                "scale_min_max(\n",
                "    nk_process_eda(\n",
                "        df.filter(col(\"trial_id\") == trial_id),\n",
                "        method=\"sparse\",\n",
                "    )\n",
                ").plot(\n",
                "    x=\"timestamp\",\n",
                "    y=[\"eda_raw\", \"eda_phasic\", \"eda_tonic\"],\n",
                "    groupby=\"trial_id\",\n",
                ")"
            ]
        },
        {
            "cell_type": "code",
            "execution_count": null,
            "metadata": {},
            "outputs": [],
            "source": []
        },
        {
            "cell_type": "code",
            "execution_count": null,
            "metadata": {},
            "outputs": [],
            "source": []
        },
        {
            "cell_type": "code",
            "execution_count": 46,
            "metadata": {},
            "outputs": [
                {
                    "data": {
                        "application/vnd.jupyter.widget-view+json": {
                            "model_id": "e4ce92e3161b4f6a9f826d1756594a7d",
                            "version_major": 2,
                            "version_minor": 0
                        },
                        "text/plain": [
                            "BokehModel(combine_events=True, render_bundle={'docs_json': {'16d291ca-3a0e-4a7c-aabc-0c622775aa8d': {'version…"
                        ]
                    },
                    "execution_count": 46,
                    "metadata": {},
                    "output_type": "execute_result"
                }
            ],
            "source": [
                "with db:\n",
                "    df = db.read_table(\"Preprocess_eda\")\n",
                "df.plot(\n",
                "    x=\"timestamp\",\n",
                "    y=[\"eda_raw\", \"eda_tonic\"],\n",
                "    groupby=\"trial_id\",\n",
                ")"
            ]
        },
        {
            "cell_type": "markdown",
            "metadata": {},
            "source": [
                "## Join with Stimulus data"
            ]
        },
        {
            "cell_type": "code",
            "execution_count": 47,
            "metadata": {},
            "outputs": [
                {
                    "name": "stderr",
                    "output_type": "stream",
                    "text": [
                        "ic| df.height: 5934569, df.unique(\"timestamp\").height: 5934569\n",
                        "ic| df.height - df.unique(\"timestamp\").height: 0\n"
                    ]
                },
                {
                    "data": {
                        "text/html": [
                            "<div><style>\n",
                            ".dataframe > thead > tr,\n",
                            ".dataframe > tbody > tr {\n",
                            "  text-align: right;\n",
                            "  white-space: pre-wrap;\n",
                            "}\n",
                            "</style>\n",
                            "<small>shape: (5_934_569, 13)</small><table border=\"1\" class=\"dataframe\"><thead><tr><th>trial_id</th><th>trial_number</th><th>participant_id</th><th>rownumber</th><th>timestamp</th><th>samplenumber</th><th>eda_d_battery</th><th>eda_raw</th><th>eda_d_packetreceptionrate</th><th>eda_tonic</th><th>eda_phasic</th><th>temperature</th><th>rating</th></tr><tr><td>u16</td><td>u8</td><td>u8</td><td>u32</td><td>f64</td><td>i64</td><td>f64</td><td>f64</td><td>i64</td><td>f64</td><td>f64</td><td>f64</td><td>f64</td></tr></thead><tbody><tr><td>1</td><td>1</td><td>1</td><td>0</td><td>294224.331</td><td>57895</td><td>3677.435897</td><td>0.753247</td><td>100</td><td>0.752117</td><td>0.00113</td><td>45.75</td><td>42.5</td></tr><tr><td>1</td><td>1</td><td>1</td><td>0</td><td>294242.275</td><td>57896</td><td>3687.630769</td><td>0.754135</td><td>100</td><td>0.752119</td><td>0.002016</td><td>45.75</td><td>42.5</td></tr><tr><td>1</td><td>1</td><td>1</td><td>0</td><td>294248.2588</td><td>57898</td><td>3692.0</td><td>0.754135</td><td>100</td><td>0.752121</td><td>0.002014</td><td>45.75</td><td>42.5</td></tr><tr><td>1</td><td>1</td><td>1</td><td>0</td><td>294276.1835</td><td>57899</td><td>3678.892308</td><td>0.754135</td><td>100</td><td>0.752123</td><td>0.002012</td><td>45.75</td><td>42.5</td></tr><tr><td>1</td><td>1</td><td>1</td><td>0</td><td>294277.1819</td><td>57900</td><td>3692.0</td><td>0.752359</td><td>100</td><td>0.752125</td><td>0.000234</td><td>45.75</td><td>42.5</td></tr><tr><td>1</td><td>1</td><td>1</td><td>0</td><td>294309.0952</td><td>57902</td><td>3705.107692</td><td>0.752359</td><td>100</td><td>0.752127</td><td>0.000232</td><td>45.75</td><td>42.5</td></tr><tr><td>&hellip;</td><td>&hellip;</td><td>&hellip;</td><td>&hellip;</td><td>&hellip;</td><td>&hellip;</td><td>&hellip;</td><td>&hellip;</td><td>&hellip;</td><td>&hellip;</td><td>&hellip;</td><td>&hellip;</td><td>&hellip;</td></tr><tr><td>332</td><td>12</td><td>28</td><td>21610</td><td>2.7771e6</td><td>467073</td><td>3603.158974</td><td>13.679468</td><td>99</td><td>13.578895</td><td>-0.012186</td><td>45.582614</td><td>85.0</td></tr><tr><td>332</td><td>12</td><td>28</td><td>21610</td><td>2.7771e6</td><td>467074</td><td>3617.723077</td><td>13.679468</td><td>99</td><td>13.578895</td><td>-0.012764</td><td>45.582614</td><td>85.0</td></tr><tr><td>332</td><td>12</td><td>28</td><td>21610</td><td>2.7771e6</td><td>467075</td><td>3582.769231</td><td>13.674363</td><td>99</td><td>13.578895</td><td>-0.01845</td><td>45.582614</td><td>85.0</td></tr><tr><td>332</td><td>12</td><td>28</td><td>21610</td><td>2.7771e6</td><td>467076</td><td>3607.528205</td><td>13.679468</td><td>99</td><td>13.578895</td><td>-0.013926</td><td>45.582614</td><td>85.0</td></tr><tr><td>332</td><td>12</td><td>28</td><td>21610</td><td>2.7771e6</td><td>467078</td><td>3606.071795</td><td>13.684573</td><td>99</td><td>13.578895</td><td>-0.009404</td><td>45.582614</td><td>85.0</td></tr><tr><td>332</td><td>12</td><td>28</td><td>21610</td><td>2.7771e6</td><td>467079</td><td>3582.769231</td><td>13.684573</td><td>99</td><td>13.578895</td><td>-0.009989</td><td>45.582614</td><td>85.0</td></tr></tbody></table></div>"
                        ],
                        "text/plain": [
                            "shape: (5_934_569, 13)\n",
                            "┌──────────┬────────────┬────────────┬───────────┬───┬───────────┬────────────┬───────────┬────────┐\n",
                            "│ trial_id ┆ trial_numb ┆ participan ┆ rownumber ┆ … ┆ eda_tonic ┆ eda_phasic ┆ temperatu ┆ rating │\n",
                            "│ ---      ┆ er         ┆ t_id       ┆ ---       ┆   ┆ ---       ┆ ---        ┆ re        ┆ ---    │\n",
                            "│ u16      ┆ ---        ┆ ---        ┆ u32       ┆   ┆ f64       ┆ f64        ┆ ---       ┆ f64    │\n",
                            "│          ┆ u8         ┆ u8         ┆           ┆   ┆           ┆            ┆ f64       ┆        │\n",
                            "╞══════════╪════════════╪════════════╪═══════════╪═══╪═══════════╪════════════╪═══════════╪════════╡\n",
                            "│ 1        ┆ 1          ┆ 1          ┆ 0         ┆ … ┆ 0.752117  ┆ 0.00113    ┆ 45.75     ┆ 42.5   │\n",
                            "│ 1        ┆ 1          ┆ 1          ┆ 0         ┆ … ┆ 0.752119  ┆ 0.002016   ┆ 45.75     ┆ 42.5   │\n",
                            "│ 1        ┆ 1          ┆ 1          ┆ 0         ┆ … ┆ 0.752121  ┆ 0.002014   ┆ 45.75     ┆ 42.5   │\n",
                            "│ 1        ┆ 1          ┆ 1          ┆ 0         ┆ … ┆ 0.752123  ┆ 0.002012   ┆ 45.75     ┆ 42.5   │\n",
                            "│ 1        ┆ 1          ┆ 1          ┆ 0         ┆ … ┆ 0.752125  ┆ 0.000234   ┆ 45.75     ┆ 42.5   │\n",
                            "│ 1        ┆ 1          ┆ 1          ┆ 0         ┆ … ┆ 0.752127  ┆ 0.000232   ┆ 45.75     ┆ 42.5   │\n",
                            "│ …        ┆ …          ┆ …          ┆ …         ┆ … ┆ …         ┆ …          ┆ …         ┆ …      │\n",
                            "│ 332      ┆ 12         ┆ 28         ┆ 21610     ┆ … ┆ 13.578895 ┆ -0.012186  ┆ 45.582614 ┆ 85.0   │\n",
                            "│ 332      ┆ 12         ┆ 28         ┆ 21610     ┆ … ┆ 13.578895 ┆ -0.012764  ┆ 45.582614 ┆ 85.0   │\n",
                            "│ 332      ┆ 12         ┆ 28         ┆ 21610     ┆ … ┆ 13.578895 ┆ -0.01845   ┆ 45.582614 ┆ 85.0   │\n",
                            "│ 332      ┆ 12         ┆ 28         ┆ 21610     ┆ … ┆ 13.578895 ┆ -0.013926  ┆ 45.582614 ┆ 85.0   │\n",
                            "│ 332      ┆ 12         ┆ 28         ┆ 21610     ┆ … ┆ 13.578895 ┆ -0.009404  ┆ 45.582614 ┆ 85.0   │\n",
                            "│ 332      ┆ 12         ┆ 28         ┆ 21610     ┆ … ┆ 13.578895 ┆ -0.009989  ┆ 45.582614 ┆ 85.0   │\n",
                            "└──────────┴────────────┴────────────┴───────────┴───┴───────────┴────────────┴───────────┴────────┘"
                        ]
                    },
                    "execution_count": 47,
                    "metadata": {},
                    "output_type": "execute_result"
                }
            ],
            "source": [
                "query = \"\"\"\n",
                "SELECT * FROM Preprocess_EDA AS pe\n",
                "ASOF JOIN Raw_Stimulus rs USING (trial_id, timestamp)\n",
                "ORDER BY pe.trial_id, pe.timestamp\n",
                "\"\"\"\n",
                "\n",
                "with db:\n",
                "    df = db.execute(query).pl()\n",
                "df\n",
                "ic(df.height, df.unique(\"timestamp\").height)\n",
                "# ensure that the timestamps are unique\n",
                "ic(df.height - df.unique(\"timestamp\").height)\n",
                "df"
            ]
        },
        {
            "cell_type": "code",
            "execution_count": 48,
            "metadata": {},
            "outputs": [
                {
                    "data": {
                        "application/vnd.jupyter.widget-view+json": {
                            "model_id": "221ed91d6c944646bd36cb5e2e6a7269",
                            "version_major": 2,
                            "version_minor": 0
                        },
                        "text/plain": [
                            "BokehModel(combine_events=True, render_bundle={'docs_json': {'23e7ba23-484d-49f6-bf8d-f4ab5d44b4a8': {'version…"
                        ]
                    },
                    "execution_count": 48,
                    "metadata": {},
                    "output_type": "execute_result"
                }
            ],
            "source": [
                "(df).plot(\n",
                "    x=\"timestamp\",\n",
                "    y=[\"eda_raw\", \"eda_tonic\"],\n",
                "    groupby=\"trial_id\",\n",
                ")"
            ]
        },
        {
            "cell_type": "code",
            "execution_count": 49,
            "metadata": {},
            "outputs": [
                {
                    "data": {
                        "application/vnd.jupyter.widget-view+json": {
                            "model_id": "0a87643fd63f4f408787ca5de2cc4e66",
                            "version_major": 2,
                            "version_minor": 0
                        },
                        "text/plain": [
                            "BokehModel(combine_events=True, render_bundle={'docs_json': {'b1483d2d-7c9a-4542-90b4-f39bc0355e5a': {'version…"
                        ]
                    },
                    "execution_count": 49,
                    "metadata": {},
                    "output_type": "execute_result"
                }
            ],
            "source": [
                "scale_min_max(df).plot(\n",
                "    x=\"timestamp\",\n",
                "    y=[\"eda_raw\", \"eda_phasic\", \"eda_tonic\"],\n",
                "    groupby=\"trial_id\",\n",
                ")"
            ]
        }
    ],
    "metadata": {
        "kernelspec": {
            "display_name": "pain",
            "language": "python",
            "name": "python3"
        },
        "language_info": {
            "codemirror_mode": {
                "name": "ipython",
                "version": 3
            },
            "file_extension": ".py",
            "mimetype": "text/x-python",
            "name": "python",
            "nbconvert_exporter": "python",
            "pygments_lexer": "ipython3",
            "version": "3.12.4"
        }
    },
    "nbformat": 4,
    "nbformat_minor": 2
}
