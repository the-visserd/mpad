{
 "cells": [
  {
   "cell_type": "code",
   "execution_count": 57,
   "metadata": {},
   "outputs": [],
   "source": [
    "%%capture\n",
    "from pathlib import Path\n",
    "\n",
    "if Path.cwd().stem == \"notebooks\":\n",
    "    %cd ..\n",
    "    %load_ext autoreload\n",
    "    %autoreload 2"
   ]
  },
  {
   "cell_type": "code",
   "execution_count": 58,
   "metadata": {},
   "outputs": [],
   "source": [
    "import logging\n",
    "\n",
    "import holoviews as hv\n",
    "import hvplot.polars  # noqa\n",
    "import polars as pl\n",
    "from icecream import ic\n",
    "from polars import col\n",
    "\n",
    "from src.data.database_manager import DatabaseManager\n",
    "from src.features.quality_checks import check_sample_rate\n",
    "from src.features.resampling import add_timestamp_μs_column\n",
    "from src.features.scaling import scale_min_max\n",
    "from src.features.transforming import map_trials, merge_data_dfs\n",
    "from src.log_config import configure_logging\n",
    "from src.plots.utils import prepare_multiline_hvplot\n",
    "\n",
    "configure_logging(\n",
    "    stream_level=logging.DEBUG, ignore_libs=(\"Comm\", \"bokeh\", \"tornado\", \"matplotlib\")\n",
    ")\n",
    "logger = logging.getLogger(__name__.rsplit(\".\", maxsplit=1)[-1])\n",
    "\n",
    "pl.Config.set_tbl_rows(12)  # for the 12 trials\n",
    "hv.output(widget_location=\"bottom\", size=130)"
   ]
  },
  {
   "cell_type": "markdown",
   "metadata": {},
   "source": [
    "## Question: What is a good bin size?"
   ]
  },
  {
   "cell_type": "code",
   "execution_count": 72,
   "metadata": {},
   "outputs": [
    {
     "data": {
      "text/html": [
       "<div><style>\n",
       ".dataframe > thead > tr,\n",
       ".dataframe > tbody > tr {\n",
       "  text-align: right;\n",
       "  white-space: pre-wrap;\n",
       "}\n",
       "</style>\n",
       "<small>shape: (597_931, 10)</small><table border=\"1\" class=\"dataframe\"><thead><tr><th>trial_id</th><th>trial_number</th><th>participant_id</th><th>rownumber</th><th>timestamp</th><th>samplenumber</th><th>eda_raw</th><th>eda_tonic</th><th>eda_phasic</th><th>stimulus_seed</th></tr><tr><td>u16</td><td>u8</td><td>u8</td><td>f64</td><td>f64</td><td>f64</td><td>f64</td><td>f64</td><td>f64</td><td>u16</td></tr></thead><tbody><tr><td>1</td><td>1</td><td>1</td><td>37664.142857</td><td>294200.0</td><td>57896.142857</td><td>0.753564</td><td>0.752119</td><td>0.001445</td><td>396</td></tr><tr><td>1</td><td>1</td><td>1</td><td>37676.5</td><td>294300.0</td><td>57908.5</td><td>0.753506</td><td>0.752138</td><td>0.001368</td><td>396</td></tr><tr><td>1</td><td>1</td><td>1</td><td>37690.875</td><td>294400.0</td><td>57922.875</td><td>0.753413</td><td>0.752158</td><td>0.001256</td><td>396</td></tr><tr><td>1</td><td>1</td><td>1</td><td>37704.25</td><td>294500.0</td><td>57936.25</td><td>0.753432</td><td>0.752177</td><td>0.001255</td><td>396</td></tr><tr><td>1</td><td>1</td><td>1</td><td>37714.8</td><td>294600.0</td><td>57946.8</td><td>0.75378</td><td>0.752193</td><td>0.001586</td><td>396</td></tr><tr><td>1</td><td>1</td><td>1</td><td>37727.642857</td><td>294700.0</td><td>57959.642857</td><td>0.753564</td><td>0.752212</td><td>0.001352</td><td>396</td></tr><tr><td>&hellip;</td><td>&hellip;</td><td>&hellip;</td><td>&hellip;</td><td>&hellip;</td><td>&hellip;</td><td>&hellip;</td><td>&hellip;</td><td>&hellip;</td><td>&hellip;</td></tr><tr><td>332</td><td>12</td><td>28</td><td>355422.0</td><td>2.7766e6</td><td>467019.0</td><td>13.60289</td><td>13.578916</td><td>-0.065532</td><td>133</td></tr><tr><td>332</td><td>12</td><td>28</td><td>355433.555556</td><td>2.7767e6</td><td>467030.555556</td><td>13.624445</td><td>13.578906</td><td>-0.048941</td><td>133</td></tr><tr><td>332</td><td>12</td><td>28</td><td>355446.1</td><td>2.7768e6</td><td>467043.1</td><td>13.644242</td><td>13.5789</td><td>-0.034242</td><td>133</td></tr><tr><td>332</td><td>12</td><td>28</td><td>355459.363636</td><td>2.7769e6</td><td>467056.363636</td><td>13.660439</td><td>13.578896</td><td>-0.023833</td><td>133</td></tr><tr><td>332</td><td>12</td><td>28</td><td>355472.6</td><td>2.777e6</td><td>467069.6</td><td>13.672831</td><td>13.578894</td><td>-0.017389</td><td>133</td></tr><tr><td>332</td><td>12</td><td>28</td><td>355480.666667</td><td>2.7771e6</td><td>467077.666667</td><td>13.682872</td><td>13.578894</td><td>-0.011107</td><td>133</td></tr></tbody></table></div>"
      ],
      "text/plain": [
       "shape: (597_931, 10)\n",
       "┌──────────┬───────────┬───────────┬───────────┬───┬───────────┬───────────┬───────────┬───────────┐\n",
       "│ trial_id ┆ trial_num ┆ participa ┆ rownumber ┆ … ┆ eda_raw   ┆ eda_tonic ┆ eda_phasi ┆ stimulus_ │\n",
       "│ ---      ┆ ber       ┆ nt_id     ┆ ---       ┆   ┆ ---       ┆ ---       ┆ c         ┆ seed      │\n",
       "│ u16      ┆ ---       ┆ ---       ┆ f64       ┆   ┆ f64       ┆ f64       ┆ ---       ┆ ---       │\n",
       "│          ┆ u8        ┆ u8        ┆           ┆   ┆           ┆           ┆ f64       ┆ u16       │\n",
       "╞══════════╪═══════════╪═══════════╪═══════════╪═══╪═══════════╪═══════════╪═══════════╪═══════════╡\n",
       "│ 1        ┆ 1         ┆ 1         ┆ 37664.142 ┆ … ┆ 0.753564  ┆ 0.752119  ┆ 0.001445  ┆ 396       │\n",
       "│          ┆           ┆           ┆ 857       ┆   ┆           ┆           ┆           ┆           │\n",
       "│ 1        ┆ 1         ┆ 1         ┆ 37676.5   ┆ … ┆ 0.753506  ┆ 0.752138  ┆ 0.001368  ┆ 396       │\n",
       "│ 1        ┆ 1         ┆ 1         ┆ 37690.875 ┆ … ┆ 0.753413  ┆ 0.752158  ┆ 0.001256  ┆ 396       │\n",
       "│ 1        ┆ 1         ┆ 1         ┆ 37704.25  ┆ … ┆ 0.753432  ┆ 0.752177  ┆ 0.001255  ┆ 396       │\n",
       "│ 1        ┆ 1         ┆ 1         ┆ 37714.8   ┆ … ┆ 0.75378   ┆ 0.752193  ┆ 0.001586  ┆ 396       │\n",
       "│ 1        ┆ 1         ┆ 1         ┆ 37727.642 ┆ … ┆ 0.753564  ┆ 0.752212  ┆ 0.001352  ┆ 396       │\n",
       "│          ┆           ┆           ┆ 857       ┆   ┆           ┆           ┆           ┆           │\n",
       "│ …        ┆ …         ┆ …         ┆ …         ┆ … ┆ …         ┆ …         ┆ …         ┆ …         │\n",
       "│ 332      ┆ 12        ┆ 28        ┆ 355422.0  ┆ … ┆ 13.60289  ┆ 13.578916 ┆ -0.065532 ┆ 133       │\n",
       "│ 332      ┆ 12        ┆ 28        ┆ 355433.55 ┆ … ┆ 13.624445 ┆ 13.578906 ┆ -0.048941 ┆ 133       │\n",
       "│          ┆           ┆           ┆ 5556      ┆   ┆           ┆           ┆           ┆           │\n",
       "│ 332      ┆ 12        ┆ 28        ┆ 355446.1  ┆ … ┆ 13.644242 ┆ 13.5789   ┆ -0.034242 ┆ 133       │\n",
       "│ 332      ┆ 12        ┆ 28        ┆ 355459.36 ┆ … ┆ 13.660439 ┆ 13.578896 ┆ -0.023833 ┆ 133       │\n",
       "│          ┆           ┆           ┆ 3636      ┆   ┆           ┆           ┆           ┆           │\n",
       "│ 332      ┆ 12        ┆ 28        ┆ 355472.6  ┆ … ┆ 13.672831 ┆ 13.578894 ┆ -0.017389 ┆ 133       │\n",
       "│ 332      ┆ 12        ┆ 28        ┆ 355480.66 ┆ … ┆ 13.682872 ┆ 13.578894 ┆ -0.011107 ┆ 133       │\n",
       "│          ┆           ┆           ┆ 6667      ┆   ┆           ┆           ┆           ┆           │\n",
       "└──────────┴───────────┴───────────┴───────────┴───┴───────────┴───────────┴───────────┴───────────┘"
      ]
     },
     "execution_count": 72,
     "metadata": {},
     "output_type": "execute_result"
    }
   ],
   "source": [
    "with DatabaseManager() as db:\n",
    "    stimulus = db.get_table(\"feature_eda\")\n",
    "    trials = db.get_table(\"trials\")  # get trials for stimulus seeds\n",
    "\n",
    "\n",
    "df = merge_data_dfs(\n",
    "    [stimulus, trials],\n",
    "    merge_on=[\"participant_id\", \"trial_id\", \"trial_number\"],\n",
    ").drop(\"duration\", \"skin_area\", \"timestamp_start\", \"timestamp_end\", strict=False)\n",
    "df"
   ]
  },
  {
   "cell_type": "code",
   "execution_count": 61,
   "metadata": {},
   "outputs": [
    {
     "data": {
      "text/html": [
       "<div><style>\n",
       ".dataframe > thead > tr,\n",
       ".dataframe > tbody > tr {\n",
       "  text-align: right;\n",
       "  white-space: pre-wrap;\n",
       "}\n",
       "</style>\n",
       "<small>shape: (2_160, 11)</small><table border=\"1\" class=\"dataframe\"><thead><tr><th>stimulus_seed</th><th>avg_rating</th><th>avg_temperature</th><th>std_rating</th><th>std_temperature</th><th>sample_size</th><th>time_bin</th><th>ci_lower_rating</th><th>ci_lower_temperature</th><th>ci_upper_rating</th><th>ci_upper_temperature</th></tr><tr><td>u16</td><td>f64</td><td>f64</td><td>f64</td><td>f64</td><td>u32</td><td>f64</td><td>f64</td><td>f64</td><td>f64</td><td>f64</td></tr></thead><tbody><tr><td>133</td><td>0.432017</td><td>0.007027</td><td>0.260652</td><td>0.006643</td><td>282</td><td>0.0</td><td>0.401594</td><td>0.006252</td><td>0.462439</td><td>0.007803</td></tr><tr><td>133</td><td>0.580223</td><td>0.052573</td><td>0.219553</td><td>0.01979</td><td>280</td><td>1.0</td><td>0.554506</td><td>0.050255</td><td>0.60594</td><td>0.054891</td></tr><tr><td>133</td><td>0.619137</td><td>0.141308</td><td>0.224974</td><td>0.031273</td><td>281</td><td>2.0</td><td>0.592832</td><td>0.137652</td><td>0.645442</td><td>0.144965</td></tr><tr><td>133</td><td>0.657968</td><td>0.265075</td><td>0.218392</td><td>0.039988</td><td>283</td><td>3.0</td><td>0.632523</td><td>0.260416</td><td>0.683413</td><td>0.269734</td></tr><tr><td>133</td><td>0.697452</td><td>0.412534</td><td>0.204328</td><td>0.045167</td><td>287</td><td>4.0</td><td>0.673812</td><td>0.407309</td><td>0.721092</td><td>0.41776</td></tr><tr><td>133</td><td>0.736053</td><td>0.567752</td><td>0.180708</td><td>0.044726</td><td>285</td><td>5.0</td><td>0.715072</td><td>0.562559</td><td>0.757033</td><td>0.572944</td></tr><tr><td>&hellip;</td><td>&hellip;</td><td>&hellip;</td><td>&hellip;</td><td>&hellip;</td><td>&hellip;</td><td>&hellip;</td><td>&hellip;</td><td>&hellip;</td><td>&hellip;</td><td>&hellip;</td></tr><tr><td>952</td><td>0.147058</td><td>0.212601</td><td>0.212265</td><td>0.016055</td><td>280</td><td>174.0</td><td>0.122195</td><td>0.21072</td><td>0.171921</td><td>0.214481</td></tr><tr><td>952</td><td>0.120062</td><td>0.161466</td><td>0.196615</td><td>0.013631</td><td>280</td><td>175.0</td><td>0.097033</td><td>0.15987</td><td>0.143092</td><td>0.163063</td></tr><tr><td>952</td><td>0.103728</td><td>0.119274</td><td>0.185324</td><td>0.01087</td><td>280</td><td>176.0</td><td>0.08202</td><td>0.118001</td><td>0.125435</td><td>0.120547</td></tr><tr><td>952</td><td>0.09138</td><td>0.087116</td><td>0.176784</td><td>0.007821</td><td>279</td><td>177.0</td><td>0.070636</td><td>0.086199</td><td>0.112124</td><td>0.088034</td></tr><tr><td>952</td><td>0.075502</td><td>0.065747</td><td>0.158728</td><td>0.004628</td><td>279</td><td>178.0</td><td>0.056876</td><td>0.065204</td><td>0.094127</td><td>0.06629</td></tr><tr><td>952</td><td>0.056499</td><td>0.055606</td><td>0.138921</td><td>0.001363</td><td>281</td><td>179.0</td><td>0.040256</td><td>0.055447</td><td>0.072742</td><td>0.055766</td></tr></tbody></table></div>"
      ],
      "text/plain": [
       "shape: (2_160, 11)\n",
       "┌───────────┬───────────┬───────────┬───────────┬───┬───────────┬───────────┬───────────┬──────────┐\n",
       "│ stimulus_ ┆ avg_ratin ┆ avg_tempe ┆ std_ratin ┆ … ┆ ci_lower_ ┆ ci_lower_ ┆ ci_upper_ ┆ ci_upper │\n",
       "│ seed      ┆ g         ┆ rature    ┆ g         ┆   ┆ rating    ┆ temperatu ┆ rating    ┆ _tempera │\n",
       "│ ---       ┆ ---       ┆ ---       ┆ ---       ┆   ┆ ---       ┆ re        ┆ ---       ┆ ture     │\n",
       "│ u16       ┆ f64       ┆ f64       ┆ f64       ┆   ┆ f64       ┆ ---       ┆ f64       ┆ ---      │\n",
       "│           ┆           ┆           ┆           ┆   ┆           ┆ f64       ┆           ┆ f64      │\n",
       "╞═══════════╪═══════════╪═══════════╪═══════════╪═══╪═══════════╪═══════════╪═══════════╪══════════╡\n",
       "│ 133       ┆ 0.432017  ┆ 0.007027  ┆ 0.260652  ┆ … ┆ 0.401594  ┆ 0.006252  ┆ 0.462439  ┆ 0.007803 │\n",
       "│ 133       ┆ 0.580223  ┆ 0.052573  ┆ 0.219553  ┆ … ┆ 0.554506  ┆ 0.050255  ┆ 0.60594   ┆ 0.054891 │\n",
       "│ 133       ┆ 0.619137  ┆ 0.141308  ┆ 0.224974  ┆ … ┆ 0.592832  ┆ 0.137652  ┆ 0.645442  ┆ 0.144965 │\n",
       "│ 133       ┆ 0.657968  ┆ 0.265075  ┆ 0.218392  ┆ … ┆ 0.632523  ┆ 0.260416  ┆ 0.683413  ┆ 0.269734 │\n",
       "│ 133       ┆ 0.697452  ┆ 0.412534  ┆ 0.204328  ┆ … ┆ 0.673812  ┆ 0.407309  ┆ 0.721092  ┆ 0.41776  │\n",
       "│ 133       ┆ 0.736053  ┆ 0.567752  ┆ 0.180708  ┆ … ┆ 0.715072  ┆ 0.562559  ┆ 0.757033  ┆ 0.572944 │\n",
       "│ …         ┆ …         ┆ …         ┆ …         ┆ … ┆ …         ┆ …         ┆ …         ┆ …        │\n",
       "│ 952       ┆ 0.147058  ┆ 0.212601  ┆ 0.212265  ┆ … ┆ 0.122195  ┆ 0.21072   ┆ 0.171921  ┆ 0.214481 │\n",
       "│ 952       ┆ 0.120062  ┆ 0.161466  ┆ 0.196615  ┆ … ┆ 0.097033  ┆ 0.15987   ┆ 0.143092  ┆ 0.163063 │\n",
       "│ 952       ┆ 0.103728  ┆ 0.119274  ┆ 0.185324  ┆ … ┆ 0.08202   ┆ 0.118001  ┆ 0.125435  ┆ 0.120547 │\n",
       "│ 952       ┆ 0.09138   ┆ 0.087116  ┆ 0.176784  ┆ … ┆ 0.070636  ┆ 0.086199  ┆ 0.112124  ┆ 0.088034 │\n",
       "│ 952       ┆ 0.075502  ┆ 0.065747  ┆ 0.158728  ┆ … ┆ 0.056876  ┆ 0.065204  ┆ 0.094127  ┆ 0.06629  │\n",
       "│ 952       ┆ 0.056499  ┆ 0.055606  ┆ 0.138921  ┆ … ┆ 0.040256  ┆ 0.055447  ┆ 0.072742  ┆ 0.055766 │\n",
       "└───────────┴───────────┴───────────┴───────────┴───┴───────────┴───────────┴───────────┴──────────┘"
      ]
     },
     "execution_count": 61,
     "metadata": {},
     "output_type": "execute_result"
    }
   ],
   "source": [
    "modality_map = {\n",
    "    \"stimulus\": [\"rating\", \"temperature\"],\n",
    "}\n",
    "\n",
    "\n",
    "def zero_based_timestamps(df: pl.DataFrame) -> pl.DataFrame:\n",
    "    return df.with_columns(\n",
    "        (col(\"timestamp\") - col(\"timestamp\").min().over(\"trial_id\")).alias(\n",
    "            \"zeroed_timestamp\"\n",
    "        )\n",
    "    )\n",
    "\n",
    "\n",
    "def aggregate_over_seeds(\n",
    "    df: pl.DataFrame,\n",
    "    modality: str = \"stimulus\",\n",
    "    bin_size: int = 1,  # TODO\n",
    ") -> pl.DataFrame:\n",
    "    \"\"\"Aggregate over seeds for each trial using group_by_dynamic.\"\"\"\n",
    "    # Note: without group_by_dynamic, this would be something like\n",
    "    # >>> df.with_columns(\n",
    "    # >>>     [(col(\"zeroed_timestamp\") // 1000).cast(pl.Int32).alias(\"time_bin\")]\n",
    "    # >>>     )\n",
    "    # >>>     .group_by([\"stimulus_seed\", \"time_bin\"])\n",
    "\n",
    "    # Select signals for the given modality\n",
    "    modality = modality.lower()\n",
    "    signals = [signal for signal in modality_map[modality] if signal in df.columns]\n",
    "\n",
    "    # Zero-based timestamp in milliseconds\n",
    "    df = zero_based_timestamps(df)\n",
    "    # Add microsecond timestamp column for better precision as group_by_dynamic uses int\n",
    "    df = add_timestamp_μs_column(df, \"zeroed_timestamp\")\n",
    "    # Time binning\n",
    "    return (\n",
    "        (\n",
    "            df.sort(\"zeroed_timestamp_µs\")\n",
    "            .group_by_dynamic(\n",
    "                \"zeroed_timestamp_µs\",\n",
    "                every=f\"{int((1000 / (1/bin_size))*1000)}i\",\n",
    "                group_by=[\"stimulus_seed\"],\n",
    "            )\n",
    "            .agg(\n",
    "                # Average and standard deviation for each signal\n",
    "                [\n",
    "                    col(signal).mean().alias(f\"avg_{signal.lower()}\")\n",
    "                    for signal in signals\n",
    "                ]\n",
    "                + [\n",
    "                    col(signal).std().alias(f\"std_{signal.lower()}\")\n",
    "                    for signal in signals\n",
    "                ]\n",
    "                # Sample size for each bin\n",
    "                + [pl.len().alias(\"sample_size\")]\n",
    "                # TODO find out why the sample sizes are not constant\n",
    "            )\n",
    "        )\n",
    "        .with_columns((col(\"zeroed_timestamp_µs\") / 1_000_000).alias(\"time_bin\"))\n",
    "        .sort(\"stimulus_seed\", \"time_bin\")\n",
    "        # remove measures at exactly 180s so that they don't get their own bin\n",
    "        .filter(col(\"time_bin\") < 180)\n",
    "        .drop(\"zeroed_timestamp_µs\")\n",
    "    )\n",
    "\n",
    "\n",
    "def add_confidence_interval(\n",
    "    df: pl.DataFrame,\n",
    "    modality: str = \"stimulus\",\n",
    ") -> pl.DataFrame:\n",
    "    return result.with_columns(\n",
    "        [\n",
    "            (\n",
    "                col(f\"avg_{signal}\")\n",
    "                - 1.96 * (col(f\"std_{signal}\") / col(\"sample_size\").sqrt())\n",
    "            ).alias(f\"ci_lower_{signal}\")\n",
    "            for signal in modality_map[modality]\n",
    "        ]\n",
    "        + [\n",
    "            (\n",
    "                col(f\"avg_{signal}\")\n",
    "                + 1.96 * (col(f\"std_{signal}\") / col(\"sample_size\").sqrt())\n",
    "            ).alias(f\"ci_upper_{signal}\")\n",
    "            for signal in modality_map[modality]\n",
    "        ]\n",
    "    ).sort(\"stimulus_seed\", \"time_bin\")\n",
    "\n",
    "\n",
    "result = aggregate_over_seeds(df, bin_size=1)\n",
    "result\n",
    "conf = add_confidence_interval(result)\n",
    "conf"
   ]
  },
  {
   "cell_type": "code",
   "execution_count": 70,
   "metadata": {},
   "outputs": [
    {
     "data": {
      "application/vnd.jupyter.widget-view+json": {
       "model_id": "190fe62c4c074460821cc8a8acc23cb6",
       "version_major": 2,
       "version_minor": 0
      },
      "text/plain": [
       "BokehModel(combine_events=True, render_bundle={'docs_json': {'2b89e9a5-f732-4b2c-884d-a704f3c7b5f7': {'version…"
      ]
     },
     "execution_count": 70,
     "metadata": {},
     "output_type": "execute_result"
    }
   ],
   "source": [
    "variables = [\"rating\", \"temperature\"]\n",
    "\n",
    "all_plots = conf.plot(\n",
    "    x=\"time_bin\",\n",
    "    y=[f\"avg_{var}\" for var in variables],\n",
    "    groupby=\"stimulus_seed\",\n",
    "    kind=\"line\",\n",
    "    grid=True,\n",
    ")\n",
    "\n",
    "\n",
    "for var in variables:\n",
    "    all_plots *= conf.hvplot.area(\n",
    "        x=\"time_bin\",\n",
    "        y=f\"ci_lower_{var}\",\n",
    "        y2=f\"ci_upper_{var}\",\n",
    "        groupby=\"stimulus_seed\",\n",
    "        alpha=0.5,\n",
    "        line_width=0,\n",
    "        fill_color=\"lightblue\",\n",
    "        grid=True,\n",
    "        ylim=(0, 1),\n",
    "    )\n",
    "\n",
    "all_plots\n"
   ]
  },
  {
   "cell_type": "code",
   "execution_count": null,
   "metadata": {},
   "outputs": [],
   "source": []
  },
  {
   "cell_type": "code",
   "execution_count": null,
   "metadata": {},
   "outputs": [],
   "source": []
  }
 ],
 "metadata": {
  "kernelspec": {
   "display_name": "pain",
   "language": "python",
   "name": "python3"
  },
  "language_info": {
   "codemirror_mode": {
    "name": "ipython",
    "version": 3
   },
   "file_extension": ".py",
   "mimetype": "text/x-python",
   "name": "python",
   "nbconvert_exporter": "python",
   "pygments_lexer": "ipython3",
   "version": "3.12.4"
  }
 },
 "nbformat": 4,
 "nbformat_minor": 2
}
