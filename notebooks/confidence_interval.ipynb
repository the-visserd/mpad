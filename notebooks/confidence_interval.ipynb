{
 "cells": [
  {
   "cell_type": "code",
   "execution_count": 1,
   "metadata": {},
   "outputs": [],
   "source": [
    "%%capture\n",
    "from pathlib import Path\n",
    "\n",
    "if Path.cwd().stem == \"notebooks\":\n",
    "    %cd ..\n",
    "    %load_ext autoreload\n",
    "    %autoreload 2"
   ]
  },
  {
   "cell_type": "code",
   "execution_count": 2,
   "metadata": {},
   "outputs": [
    {
     "data": {
      "application/javascript": "(function(root) {\n  function now() {\n    return new Date();\n  }\n\n  var force = true;\n  var py_version = '3.4.2'.replace('rc', '-rc.').replace('.dev', '-dev.');\n  var reloading = false;\n  var Bokeh = root.Bokeh;\n\n  if (typeof (root._bokeh_timeout) === \"undefined\" || force) {\n    root._bokeh_timeout = Date.now() + 5000;\n    root._bokeh_failed_load = false;\n  }\n\n  function run_callbacks() {\n    try {\n      root._bokeh_onload_callbacks.forEach(function(callback) {\n        if (callback != null)\n          callback();\n      });\n    } finally {\n      delete root._bokeh_onload_callbacks;\n    }\n    console.debug(\"Bokeh: all callbacks have finished\");\n  }\n\n  function load_libs(css_urls, js_urls, js_modules, js_exports, callback) {\n    if (css_urls == null) css_urls = [];\n    if (js_urls == null) js_urls = [];\n    if (js_modules == null) js_modules = [];\n    if (js_exports == null) js_exports = {};\n\n    root._bokeh_onload_callbacks.push(callback);\n\n    if (root._bokeh_is_loading > 0) {\n      console.debug(\"Bokeh: BokehJS is being loaded, scheduling callback at\", now());\n      return null;\n    }\n    if (js_urls.length === 0 && js_modules.length === 0 && Object.keys(js_exports).length === 0) {\n      run_callbacks();\n      return null;\n    }\n    if (!reloading) {\n      console.debug(\"Bokeh: BokehJS not loaded, scheduling load and callback at\", now());\n    }\n\n    function on_load() {\n      root._bokeh_is_loading--;\n      if (root._bokeh_is_loading === 0) {\n        console.debug(\"Bokeh: all BokehJS libraries/stylesheets loaded\");\n        run_callbacks()\n      }\n    }\n    window._bokeh_on_load = on_load\n\n    function on_error() {\n      console.error(\"failed to load \" + url);\n    }\n\n    var skip = [];\n    if (window.requirejs) {\n      window.requirejs.config({'packages': {}, 'paths': {}, 'shim': {}});\n      root._bokeh_is_loading = css_urls.length + 0;\n    } else {\n      root._bokeh_is_loading = css_urls.length + js_urls.length + js_modules.length + Object.keys(js_exports).length;\n    }\n\n    var existing_stylesheets = []\n    var links = document.getElementsByTagName('link')\n    for (var i = 0; i < links.length; i++) {\n      var link = links[i]\n      if (link.href != null) {\n\texisting_stylesheets.push(link.href)\n      }\n    }\n    for (var i = 0; i < css_urls.length; i++) {\n      var url = css_urls[i];\n      if (existing_stylesheets.indexOf(url) !== -1) {\n\ton_load()\n\tcontinue;\n      }\n      const element = document.createElement(\"link\");\n      element.onload = on_load;\n      element.onerror = on_error;\n      element.rel = \"stylesheet\";\n      element.type = \"text/css\";\n      element.href = url;\n      console.debug(\"Bokeh: injecting link tag for BokehJS stylesheet: \", url);\n      document.body.appendChild(element);\n    }    var existing_scripts = []\n    var scripts = document.getElementsByTagName('script')\n    for (var i = 0; i < scripts.length; i++) {\n      var script = scripts[i]\n      if (script.src != null) {\n\texisting_scripts.push(script.src)\n      }\n    }\n    for (var i = 0; i < js_urls.length; i++) {\n      var url = js_urls[i];\n      if (skip.indexOf(url) !== -1 || existing_scripts.indexOf(url) !== -1) {\n\tif (!window.requirejs) {\n\t  on_load();\n\t}\n\tcontinue;\n      }\n      var element = document.createElement('script');\n      element.onload = on_load;\n      element.onerror = on_error;\n      element.async = false;\n      element.src = url;\n      console.debug(\"Bokeh: injecting script tag for BokehJS library: \", url);\n      document.head.appendChild(element);\n    }\n    for (var i = 0; i < js_modules.length; i++) {\n      var url = js_modules[i];\n      if (skip.indexOf(url) !== -1 || existing_scripts.indexOf(url) !== -1) {\n\tif (!window.requirejs) {\n\t  on_load();\n\t}\n\tcontinue;\n      }\n      var element = document.createElement('script');\n      element.onload = on_load;\n      element.onerror = on_error;\n      element.async = false;\n      element.src = url;\n      element.type = \"module\";\n      console.debug(\"Bokeh: injecting script tag for BokehJS library: \", url);\n      document.head.appendChild(element);\n    }\n    for (const name in js_exports) {\n      var url = js_exports[name];\n      if (skip.indexOf(url) >= 0 || root[name] != null) {\n\tif (!window.requirejs) {\n\t  on_load();\n\t}\n\tcontinue;\n      }\n      var element = document.createElement('script');\n      element.onerror = on_error;\n      element.async = false;\n      element.type = \"module\";\n      console.debug(\"Bokeh: injecting script tag for BokehJS library: \", url);\n      element.textContent = `\n      import ${name} from \"${url}\"\n      window.${name} = ${name}\n      window._bokeh_on_load()\n      `\n      document.head.appendChild(element);\n    }\n    if (!js_urls.length && !js_modules.length) {\n      on_load()\n    }\n  };\n\n  function inject_raw_css(css) {\n    const element = document.createElement(\"style\");\n    element.appendChild(document.createTextNode(css));\n    document.body.appendChild(element);\n  }\n\n  var js_urls = [\"https://cdn.bokeh.org/bokeh/release/bokeh-3.4.2.min.js\", \"https://cdn.bokeh.org/bokeh/release/bokeh-gl-3.4.2.min.js\", \"https://cdn.bokeh.org/bokeh/release/bokeh-widgets-3.4.2.min.js\", \"https://cdn.bokeh.org/bokeh/release/bokeh-tables-3.4.2.min.js\", \"https://cdn.holoviz.org/panel/1.4.4/dist/panel.min.js\"];\n  var js_modules = [];\n  var js_exports = {};\n  var css_urls = [];\n  var inline_js = [    function(Bokeh) {\n      Bokeh.set_log_level(\"info\");\n    },\nfunction(Bokeh) {} // ensure no trailing comma for IE\n  ];\n\n  function run_inline_js() {\n    if ((root.Bokeh !== undefined) || (force === true)) {\n      for (var i = 0; i < inline_js.length; i++) {\n\ttry {\n          inline_js[i].call(root, root.Bokeh);\n\t} catch(e) {\n\t  if (!reloading) {\n\t    throw e;\n\t  }\n\t}\n      }\n      // Cache old bokeh versions\n      if (Bokeh != undefined && !reloading) {\n\tvar NewBokeh = root.Bokeh;\n\tif (Bokeh.versions === undefined) {\n\t  Bokeh.versions = new Map();\n\t}\n\tif (NewBokeh.version !== Bokeh.version) {\n\t  Bokeh.versions.set(NewBokeh.version, NewBokeh)\n\t}\n\troot.Bokeh = Bokeh;\n      }} else if (Date.now() < root._bokeh_timeout) {\n      setTimeout(run_inline_js, 100);\n    } else if (!root._bokeh_failed_load) {\n      console.log(\"Bokeh: BokehJS failed to load within specified timeout.\");\n      root._bokeh_failed_load = true;\n    }\n    root._bokeh_is_initializing = false\n  }\n\n  function load_or_wait() {\n    // Implement a backoff loop that tries to ensure we do not load multiple\n    // versions of Bokeh and its dependencies at the same time.\n    // In recent versions we use the root._bokeh_is_initializing flag\n    // to determine whether there is an ongoing attempt to initialize\n    // bokeh, however for backward compatibility we also try to ensure\n    // that we do not start loading a newer (Panel>=1.0 and Bokeh>3) version\n    // before older versions are fully initialized.\n    if (root._bokeh_is_initializing && Date.now() > root._bokeh_timeout) {\n      root._bokeh_is_initializing = false;\n      root._bokeh_onload_callbacks = undefined;\n      console.log(\"Bokeh: BokehJS was loaded multiple times but one version failed to initialize.\");\n      load_or_wait();\n    } else if (root._bokeh_is_initializing || (typeof root._bokeh_is_initializing === \"undefined\" && root._bokeh_onload_callbacks !== undefined)) {\n      setTimeout(load_or_wait, 100);\n    } else {\n      root._bokeh_is_initializing = true\n      root._bokeh_onload_callbacks = []\n      var bokeh_loaded = Bokeh != null && (Bokeh.version === py_version || (Bokeh.versions !== undefined && Bokeh.versions.has(py_version)));\n      if (!reloading && !bokeh_loaded) {\n\troot.Bokeh = undefined;\n      }\n      load_libs(css_urls, js_urls, js_modules, js_exports, function() {\n\tconsole.debug(\"Bokeh: BokehJS plotting callback run at\", now());\n\trun_inline_js();\n      });\n    }\n  }\n  // Give older versions of the autoload script a head-start to ensure\n  // they initialize before we start loading newer version.\n  setTimeout(load_or_wait, 100)\n}(window));",
      "application/vnd.holoviews_load.v0+json": ""
     },
     "metadata": {},
     "output_type": "display_data"
    },
    {
     "data": {
      "application/javascript": "\nif ((window.PyViz === undefined) || (window.PyViz instanceof HTMLElement)) {\n  window.PyViz = {comms: {}, comm_status:{}, kernels:{}, receivers: {}, plot_index: []}\n}\n\n\n    function JupyterCommManager() {\n    }\n\n    JupyterCommManager.prototype.register_target = function(plot_id, comm_id, msg_handler) {\n      if (window.comm_manager || ((window.Jupyter !== undefined) && (Jupyter.notebook.kernel != null))) {\n        var comm_manager = window.comm_manager || Jupyter.notebook.kernel.comm_manager;\n        comm_manager.register_target(comm_id, function(comm) {\n          comm.on_msg(msg_handler);\n        });\n      } else if ((plot_id in window.PyViz.kernels) && (window.PyViz.kernels[plot_id])) {\n        window.PyViz.kernels[plot_id].registerCommTarget(comm_id, function(comm) {\n          comm.onMsg = msg_handler;\n        });\n      } else if (typeof google != 'undefined' && google.colab.kernel != null) {\n        google.colab.kernel.comms.registerTarget(comm_id, (comm) => {\n          var messages = comm.messages[Symbol.asyncIterator]();\n          function processIteratorResult(result) {\n            var message = result.value;\n            console.log(message)\n            var content = {data: message.data, comm_id};\n            var buffers = []\n            for (var buffer of message.buffers || []) {\n              buffers.push(new DataView(buffer))\n            }\n            var metadata = message.metadata || {};\n            var msg = {content, buffers, metadata}\n            msg_handler(msg);\n            return messages.next().then(processIteratorResult);\n          }\n          return messages.next().then(processIteratorResult);\n        })\n      }\n    }\n\n    JupyterCommManager.prototype.get_client_comm = function(plot_id, comm_id, msg_handler) {\n      if (comm_id in window.PyViz.comms) {\n        return window.PyViz.comms[comm_id];\n      } else if (window.comm_manager || ((window.Jupyter !== undefined) && (Jupyter.notebook.kernel != null))) {\n        var comm_manager = window.comm_manager || Jupyter.notebook.kernel.comm_manager;\n        var comm = comm_manager.new_comm(comm_id, {}, {}, {}, comm_id);\n        if (msg_handler) {\n          comm.on_msg(msg_handler);\n        }\n      } else if ((plot_id in window.PyViz.kernels) && (window.PyViz.kernels[plot_id])) {\n        var comm = window.PyViz.kernels[plot_id].connectToComm(comm_id);\n        comm.open();\n        if (msg_handler) {\n          comm.onMsg = msg_handler;\n        }\n      } else if (typeof google != 'undefined' && google.colab.kernel != null) {\n        var comm_promise = google.colab.kernel.comms.open(comm_id)\n        comm_promise.then((comm) => {\n          window.PyViz.comms[comm_id] = comm;\n          if (msg_handler) {\n            var messages = comm.messages[Symbol.asyncIterator]();\n            function processIteratorResult(result) {\n              var message = result.value;\n              var content = {data: message.data};\n              var metadata = message.metadata || {comm_id};\n              var msg = {content, metadata}\n              msg_handler(msg);\n              return messages.next().then(processIteratorResult);\n            }\n            return messages.next().then(processIteratorResult);\n          }\n        }) \n        var sendClosure = (data, metadata, buffers, disposeOnDone) => {\n          return comm_promise.then((comm) => {\n            comm.send(data, metadata, buffers, disposeOnDone);\n          });\n        };\n        var comm = {\n          send: sendClosure\n        };\n      }\n      window.PyViz.comms[comm_id] = comm;\n      return comm;\n    }\n    window.PyViz.comm_manager = new JupyterCommManager();\n    \n\n\nvar JS_MIME_TYPE = 'application/javascript';\nvar HTML_MIME_TYPE = 'text/html';\nvar EXEC_MIME_TYPE = 'application/vnd.holoviews_exec.v0+json';\nvar CLASS_NAME = 'output';\n\n/**\n * Render data to the DOM node\n */\nfunction render(props, node) {\n  var div = document.createElement(\"div\");\n  var script = document.createElement(\"script\");\n  node.appendChild(div);\n  node.appendChild(script);\n}\n\n/**\n * Handle when a new output is added\n */\nfunction handle_add_output(event, handle) {\n  var output_area = handle.output_area;\n  var output = handle.output;\n  if ((output.data == undefined) || (!output.data.hasOwnProperty(EXEC_MIME_TYPE))) {\n    return\n  }\n  var id = output.metadata[EXEC_MIME_TYPE][\"id\"];\n  var toinsert = output_area.element.find(\".\" + CLASS_NAME.split(' ')[0]);\n  if (id !== undefined) {\n    var nchildren = toinsert.length;\n    var html_node = toinsert[nchildren-1].children[0];\n    html_node.innerHTML = output.data[HTML_MIME_TYPE];\n    var scripts = [];\n    var nodelist = html_node.querySelectorAll(\"script\");\n    for (var i in nodelist) {\n      if (nodelist.hasOwnProperty(i)) {\n        scripts.push(nodelist[i])\n      }\n    }\n\n    scripts.forEach( function (oldScript) {\n      var newScript = document.createElement(\"script\");\n      var attrs = [];\n      var nodemap = oldScript.attributes;\n      for (var j in nodemap) {\n        if (nodemap.hasOwnProperty(j)) {\n          attrs.push(nodemap[j])\n        }\n      }\n      attrs.forEach(function(attr) { newScript.setAttribute(attr.name, attr.value) });\n      newScript.appendChild(document.createTextNode(oldScript.innerHTML));\n      oldScript.parentNode.replaceChild(newScript, oldScript);\n    });\n    if (JS_MIME_TYPE in output.data) {\n      toinsert[nchildren-1].children[1].textContent = output.data[JS_MIME_TYPE];\n    }\n    output_area._hv_plot_id = id;\n    if ((window.Bokeh !== undefined) && (id in Bokeh.index)) {\n      window.PyViz.plot_index[id] = Bokeh.index[id];\n    } else {\n      window.PyViz.plot_index[id] = null;\n    }\n  } else if (output.metadata[EXEC_MIME_TYPE][\"server_id\"] !== undefined) {\n    var bk_div = document.createElement(\"div\");\n    bk_div.innerHTML = output.data[HTML_MIME_TYPE];\n    var script_attrs = bk_div.children[0].attributes;\n    for (var i = 0; i < script_attrs.length; i++) {\n      toinsert[toinsert.length - 1].childNodes[1].setAttribute(script_attrs[i].name, script_attrs[i].value);\n    }\n    // store reference to server id on output_area\n    output_area._bokeh_server_id = output.metadata[EXEC_MIME_TYPE][\"server_id\"];\n  }\n}\n\n/**\n * Handle when an output is cleared or removed\n */\nfunction handle_clear_output(event, handle) {\n  var id = handle.cell.output_area._hv_plot_id;\n  var server_id = handle.cell.output_area._bokeh_server_id;\n  if (((id === undefined) || !(id in PyViz.plot_index)) && (server_id !== undefined)) { return; }\n  var comm = window.PyViz.comm_manager.get_client_comm(\"hv-extension-comm\", \"hv-extension-comm\", function () {});\n  if (server_id !== null) {\n    comm.send({event_type: 'server_delete', 'id': server_id});\n    return;\n  } else if (comm !== null) {\n    comm.send({event_type: 'delete', 'id': id});\n  }\n  delete PyViz.plot_index[id];\n  if ((window.Bokeh !== undefined) & (id in window.Bokeh.index)) {\n    var doc = window.Bokeh.index[id].model.document\n    doc.clear();\n    const i = window.Bokeh.documents.indexOf(doc);\n    if (i > -1) {\n      window.Bokeh.documents.splice(i, 1);\n    }\n  }\n}\n\n/**\n * Handle kernel restart event\n */\nfunction handle_kernel_cleanup(event, handle) {\n  delete PyViz.comms[\"hv-extension-comm\"];\n  window.PyViz.plot_index = {}\n}\n\n/**\n * Handle update_display_data messages\n */\nfunction handle_update_output(event, handle) {\n  handle_clear_output(event, {cell: {output_area: handle.output_area}})\n  handle_add_output(event, handle)\n}\n\nfunction register_renderer(events, OutputArea) {\n  function append_mime(data, metadata, element) {\n    // create a DOM node to render to\n    var toinsert = this.create_output_subarea(\n    metadata,\n    CLASS_NAME,\n    EXEC_MIME_TYPE\n    );\n    this.keyboard_manager.register_events(toinsert);\n    // Render to node\n    var props = {data: data, metadata: metadata[EXEC_MIME_TYPE]};\n    render(props, toinsert[0]);\n    element.append(toinsert);\n    return toinsert\n  }\n\n  events.on('output_added.OutputArea', handle_add_output);\n  events.on('output_updated.OutputArea', handle_update_output);\n  events.on('clear_output.CodeCell', handle_clear_output);\n  events.on('delete.Cell', handle_clear_output);\n  events.on('kernel_ready.Kernel', handle_kernel_cleanup);\n\n  OutputArea.prototype.register_mime_type(EXEC_MIME_TYPE, append_mime, {\n    safe: true,\n    index: 0\n  });\n}\n\nif (window.Jupyter !== undefined) {\n  try {\n    var events = require('base/js/events');\n    var OutputArea = require('notebook/js/outputarea').OutputArea;\n    if (OutputArea.prototype.mime_types().indexOf(EXEC_MIME_TYPE) == -1) {\n      register_renderer(events, OutputArea);\n    }\n  } catch(err) {\n  }\n}\n",
      "application/vnd.holoviews_load.v0+json": ""
     },
     "metadata": {},
     "output_type": "display_data"
    },
    {
     "data": {
      "text/html": [
       "<style>*[data-root-id],\n",
       "*[data-root-id] > * {\n",
       "  box-sizing: border-box;\n",
       "  font-family: var(--jp-ui-font-family);\n",
       "  font-size: var(--jp-ui-font-size1);\n",
       "  color: var(--vscode-editor-foreground, var(--jp-ui-font-color1));\n",
       "}\n",
       "\n",
       "/* Override VSCode background color */\n",
       ".cell-output-ipywidget-background:has(\n",
       "    > .cell-output-ipywidget-background > .lm-Widget > *[data-root-id]\n",
       "  ),\n",
       ".cell-output-ipywidget-background:has(> .lm-Widget > *[data-root-id]) {\n",
       "  background-color: transparent !important;\n",
       "}\n",
       "</style>"
      ]
     },
     "metadata": {},
     "output_type": "display_data"
    },
    {
     "data": {
      "application/vnd.holoviews_exec.v0+json": "",
      "text/html": [
       "<div id='p1002'>\n",
       "  <div id=\"aafdb682-101f-41de-ae89-a9e71891714b\" data-root-id=\"p1002\" style=\"display: contents;\"></div>\n",
       "</div>\n",
       "<script type=\"application/javascript\">(function(root) {\n",
       "  var docs_json = {\"1ee03137-6c29-4c9f-b596-53ded2107a9b\":{\"version\":\"3.4.2\",\"title\":\"Bokeh Application\",\"roots\":[{\"type\":\"object\",\"name\":\"panel.models.browser.BrowserInfo\",\"id\":\"p1002\"},{\"type\":\"object\",\"name\":\"panel.models.comm_manager.CommManager\",\"id\":\"p1003\",\"attributes\":{\"plot_id\":\"p1002\",\"comm_id\":\"73a06d78c18a467fade77455c73f4490\",\"client_comm_id\":\"f2ee6364f33847dcad40ed21817464c1\"}}],\"defs\":[{\"type\":\"model\",\"name\":\"ReactiveHTML1\"},{\"type\":\"model\",\"name\":\"FlexBox1\",\"properties\":[{\"name\":\"align_content\",\"kind\":\"Any\",\"default\":\"flex-start\"},{\"name\":\"align_items\",\"kind\":\"Any\",\"default\":\"flex-start\"},{\"name\":\"flex_direction\",\"kind\":\"Any\",\"default\":\"row\"},{\"name\":\"flex_wrap\",\"kind\":\"Any\",\"default\":\"wrap\"},{\"name\":\"gap\",\"kind\":\"Any\",\"default\":\"\"},{\"name\":\"justify_content\",\"kind\":\"Any\",\"default\":\"flex-start\"}]},{\"type\":\"model\",\"name\":\"FloatPanel1\",\"properties\":[{\"name\":\"config\",\"kind\":\"Any\",\"default\":{\"type\":\"map\"}},{\"name\":\"contained\",\"kind\":\"Any\",\"default\":true},{\"name\":\"position\",\"kind\":\"Any\",\"default\":\"right-top\"},{\"name\":\"offsetx\",\"kind\":\"Any\",\"default\":null},{\"name\":\"offsety\",\"kind\":\"Any\",\"default\":null},{\"name\":\"theme\",\"kind\":\"Any\",\"default\":\"primary\"},{\"name\":\"status\",\"kind\":\"Any\",\"default\":\"normalized\"}]},{\"type\":\"model\",\"name\":\"GridStack1\",\"properties\":[{\"name\":\"mode\",\"kind\":\"Any\",\"default\":\"warn\"},{\"name\":\"ncols\",\"kind\":\"Any\",\"default\":null},{\"name\":\"nrows\",\"kind\":\"Any\",\"default\":null},{\"name\":\"allow_resize\",\"kind\":\"Any\",\"default\":true},{\"name\":\"allow_drag\",\"kind\":\"Any\",\"default\":true},{\"name\":\"state\",\"kind\":\"Any\",\"default\":[]}]},{\"type\":\"model\",\"name\":\"drag1\",\"properties\":[{\"name\":\"slider_width\",\"kind\":\"Any\",\"default\":5},{\"name\":\"slider_color\",\"kind\":\"Any\",\"default\":\"black\"},{\"name\":\"value\",\"kind\":\"Any\",\"default\":50}]},{\"type\":\"model\",\"name\":\"click1\",\"properties\":[{\"name\":\"terminal_output\",\"kind\":\"Any\",\"default\":\"\"},{\"name\":\"debug_name\",\"kind\":\"Any\",\"default\":\"\"},{\"name\":\"clears\",\"kind\":\"Any\",\"default\":0}]},{\"type\":\"model\",\"name\":\"FastWrapper1\",\"properties\":[{\"name\":\"object\",\"kind\":\"Any\",\"default\":null},{\"name\":\"style\",\"kind\":\"Any\",\"default\":null}]},{\"type\":\"model\",\"name\":\"NotificationAreaBase1\",\"properties\":[{\"name\":\"js_events\",\"kind\":\"Any\",\"default\":{\"type\":\"map\"}},{\"name\":\"position\",\"kind\":\"Any\",\"default\":\"bottom-right\"},{\"name\":\"_clear\",\"kind\":\"Any\",\"default\":0}]},{\"type\":\"model\",\"name\":\"NotificationArea1\",\"properties\":[{\"name\":\"js_events\",\"kind\":\"Any\",\"default\":{\"type\":\"map\"}},{\"name\":\"notifications\",\"kind\":\"Any\",\"default\":[]},{\"name\":\"position\",\"kind\":\"Any\",\"default\":\"bottom-right\"},{\"name\":\"_clear\",\"kind\":\"Any\",\"default\":0},{\"name\":\"types\",\"kind\":\"Any\",\"default\":[{\"type\":\"map\",\"entries\":[[\"type\",\"warning\"],[\"background\",\"#ffc107\"],[\"icon\",{\"type\":\"map\",\"entries\":[[\"className\",\"fas fa-exclamation-triangle\"],[\"tagName\",\"i\"],[\"color\",\"white\"]]}]]},{\"type\":\"map\",\"entries\":[[\"type\",\"info\"],[\"background\",\"#007bff\"],[\"icon\",{\"type\":\"map\",\"entries\":[[\"className\",\"fas fa-info-circle\"],[\"tagName\",\"i\"],[\"color\",\"white\"]]}]]}]}]},{\"type\":\"model\",\"name\":\"Notification\",\"properties\":[{\"name\":\"background\",\"kind\":\"Any\",\"default\":null},{\"name\":\"duration\",\"kind\":\"Any\",\"default\":3000},{\"name\":\"icon\",\"kind\":\"Any\",\"default\":null},{\"name\":\"message\",\"kind\":\"Any\",\"default\":\"\"},{\"name\":\"notification_type\",\"kind\":\"Any\",\"default\":null},{\"name\":\"_destroyed\",\"kind\":\"Any\",\"default\":false}]},{\"type\":\"model\",\"name\":\"TemplateActions1\",\"properties\":[{\"name\":\"open_modal\",\"kind\":\"Any\",\"default\":0},{\"name\":\"close_modal\",\"kind\":\"Any\",\"default\":0}]},{\"type\":\"model\",\"name\":\"BootstrapTemplateActions1\",\"properties\":[{\"name\":\"open_modal\",\"kind\":\"Any\",\"default\":0},{\"name\":\"close_modal\",\"kind\":\"Any\",\"default\":0}]},{\"type\":\"model\",\"name\":\"TemplateEditor1\",\"properties\":[{\"name\":\"layout\",\"kind\":\"Any\",\"default\":[]}]},{\"type\":\"model\",\"name\":\"MaterialTemplateActions1\",\"properties\":[{\"name\":\"open_modal\",\"kind\":\"Any\",\"default\":0},{\"name\":\"close_modal\",\"kind\":\"Any\",\"default\":0}]},{\"type\":\"model\",\"name\":\"copy_to_clipboard1\",\"properties\":[{\"name\":\"fill\",\"kind\":\"Any\",\"default\":\"none\"},{\"name\":\"value\",\"kind\":\"Any\",\"default\":null}]}]}};\n",
       "  var render_items = [{\"docid\":\"1ee03137-6c29-4c9f-b596-53ded2107a9b\",\"roots\":{\"p1002\":\"aafdb682-101f-41de-ae89-a9e71891714b\"},\"root_ids\":[\"p1002\"]}];\n",
       "  var docs = Object.values(docs_json)\n",
       "  if (!docs) {\n",
       "    return\n",
       "  }\n",
       "  const py_version = docs[0].version.replace('rc', '-rc.').replace('.dev', '-dev.')\n",
       "  async function embed_document(root) {\n",
       "    var Bokeh = get_bokeh(root)\n",
       "    await Bokeh.embed.embed_items_notebook(docs_json, render_items);\n",
       "    for (const render_item of render_items) {\n",
       "      for (const root_id of render_item.root_ids) {\n",
       "\tconst id_el = document.getElementById(root_id)\n",
       "\tif (id_el.children.length && id_el.children[0].hasAttribute('data-root-id')) {\n",
       "\t  const root_el = id_el.children[0]\n",
       "\t  root_el.id = root_el.id + '-rendered'\n",
       "\t  for (const child of root_el.children) {\n",
       "            // Ensure JupyterLab does not capture keyboard shortcuts\n",
       "            // see: https://jupyterlab.readthedocs.io/en/4.1.x/extension/notebook.html#keyboard-interaction-model\n",
       "\t    child.setAttribute('data-lm-suppress-shortcuts', 'true')\n",
       "\t  }\n",
       "\t}\n",
       "      }\n",
       "    }\n",
       "  }\n",
       "  function get_bokeh(root) {\n",
       "    if (root.Bokeh === undefined) {\n",
       "      return null\n",
       "    } else if (root.Bokeh.version !== py_version) {\n",
       "      if (root.Bokeh.versions === undefined || !root.Bokeh.versions.has(py_version)) {\n",
       "\treturn null\n",
       "      }\n",
       "      return root.Bokeh.versions.get(py_version);\n",
       "    } else if (root.Bokeh.version === py_version) {\n",
       "      return root.Bokeh\n",
       "    }\n",
       "    return null\n",
       "  }\n",
       "  function is_loaded(root) {\n",
       "    var Bokeh = get_bokeh(root)\n",
       "    return (Bokeh != null && Bokeh.Panel !== undefined)\n",
       "  }\n",
       "  if (is_loaded(root)) {\n",
       "    embed_document(root);\n",
       "  } else {\n",
       "    var attempts = 0;\n",
       "    var timer = setInterval(function(root) {\n",
       "      if (is_loaded(root)) {\n",
       "        clearInterval(timer);\n",
       "        embed_document(root);\n",
       "      } else if (document.readyState == \"complete\") {\n",
       "        attempts++;\n",
       "        if (attempts > 200) {\n",
       "          clearInterval(timer);\n",
       "\t  var Bokeh = get_bokeh(root)\n",
       "\t  if (Bokeh == null || Bokeh.Panel == null) {\n",
       "            console.warn(\"Panel: ERROR: Unable to run Panel code because Bokeh or Panel library is missing\");\n",
       "\t  } else {\n",
       "\t    console.warn(\"Panel: WARNING: Attempting to render but not all required libraries could be resolved.\")\n",
       "\t    embed_document(root)\n",
       "\t  }\n",
       "        }\n",
       "      }\n",
       "    }, 25, root)\n",
       "  }\n",
       "})(window);</script>"
      ]
     },
     "metadata": {
      "application/vnd.holoviews_exec.v0+json": {
       "id": "p1002"
      }
     },
     "output_type": "display_data"
    }
   ],
   "source": [
    "import logging\n",
    "\n",
    "import holoviews as hv\n",
    "import hvplot.polars  # noqa\n",
    "import neurokit2 as nk\n",
    "import pandas as pd\n",
    "import polars as pl\n",
    "from icecream import ic\n",
    "from polars import col\n",
    "\n",
    "from src.data.database_manager import DatabaseManager\n",
    "from src.features.quality_checks import check_sample_rate\n",
    "from src.features.resampling import add_timestamp_μs_column\n",
    "from src.features.scaling import scale_min_max\n",
    "from src.features.transforming import map_trials, merge_data_dfs\n",
    "from src.log_config import configure_logging\n",
    "from src.plots.utils import prepare_multiline_hvplot\n",
    "\n",
    "configure_logging(\n",
    "    stream_level=logging.DEBUG, ignore_libs=(\"Comm\", \"bokeh\", \"tornado\", \"matplotlib\")\n",
    ")\n",
    "logger = logging.getLogger(__name__.rsplit(\".\", maxsplit=1)[-1])\n",
    "\n",
    "pl.Config.set_tbl_rows(12)  # for the 12 trials\n",
    "hv.output(widget_location=\"bottom\", size=130)"
   ]
  },
  {
   "cell_type": "code",
   "execution_count": 3,
   "metadata": {},
   "outputs": [],
   "source": [
    "db = DatabaseManager()"
   ]
  },
  {
   "cell_type": "code",
   "execution_count": 54,
   "metadata": {},
   "outputs": [
    {
     "data": {
      "text/html": [
       "<div><style>\n",
       ".dataframe > thead > tr,\n",
       ".dataframe > tbody > tr {\n",
       "  text-align: right;\n",
       "  white-space: pre-wrap;\n",
       "}\n",
       "</style>\n",
       "<small>shape: (597_860, 8)</small><table border=\"1\" class=\"dataframe\"><thead><tr><th>trial_id</th><th>trial_number</th><th>participant_id</th><th>rownumber</th><th>timestamp</th><th>temperature</th><th>rating</th><th>stimulus_seed</th></tr><tr><td>u16</td><td>u8</td><td>u8</td><td>u32</td><td>f64</td><td>f64</td><td>f64</td><td>u16</td></tr></thead><tbody><tr><td>1</td><td>1</td><td>1</td><td>0</td><td>294224.331</td><td>0.0</td><td>0.425</td><td>396</td></tr><tr><td>1</td><td>1</td><td>1</td><td>1</td><td>294357.9645</td><td>0.000069</td><td>0.425</td><td>396</td></tr><tr><td>1</td><td>1</td><td>1</td><td>2</td><td>294458.0292</td><td>0.000277</td><td>0.35375</td><td>396</td></tr><tr><td>1</td><td>1</td><td>1</td><td>3</td><td>294558.6006</td><td>0.000622</td><td>0.14875</td><td>396</td></tr><tr><td>1</td><td>1</td><td>1</td><td>4</td><td>294658.3354</td><td>0.001106</td><td>0.10125</td><td>396</td></tr><tr><td>1</td><td>1</td><td>1</td><td>5</td><td>294758.4957</td><td>0.001728</td><td>0.2275</td><td>396</td></tr><tr><td>&hellip;</td><td>&hellip;</td><td>&hellip;</td><td>&hellip;</td><td>&hellip;</td><td>&hellip;</td><td>&hellip;</td><td>&hellip;</td></tr><tr><td>332</td><td>12</td><td>28</td><td>21606</td><td>2.7766e6</td><td>0.158607</td><td>0.85</td><td>133</td></tr><tr><td>332</td><td>12</td><td>28</td><td>21607</td><td>2.7767e6</td><td>0.157223</td><td>0.85</td><td>133</td></tr><tr><td>332</td><td>12</td><td>28</td><td>21608</td><td>2.7768e6</td><td>0.156232</td><td>0.85</td><td>133</td></tr><tr><td>332</td><td>12</td><td>28</td><td>21609</td><td>2.7769e6</td><td>0.155637</td><td>0.85</td><td>133</td></tr><tr><td>332</td><td>12</td><td>28</td><td>21610</td><td>2.7770e6</td><td>0.155438</td><td>0.85</td><td>133</td></tr><tr><td>332</td><td>12</td><td>28</td><td>21611</td><td>2.7771e6</td><td>0.155438</td><td>0.85</td><td>133</td></tr></tbody></table></div>"
      ],
      "text/plain": [
       "shape: (597_860, 8)\n",
       "┌──────────┬─────────────┬────────────┬───────────┬────────────┬────────────┬─────────┬────────────┐\n",
       "│ trial_id ┆ trial_numbe ┆ participan ┆ rownumber ┆ timestamp  ┆ temperatur ┆ rating  ┆ stimulus_s │\n",
       "│ ---      ┆ r           ┆ t_id       ┆ ---       ┆ ---        ┆ e          ┆ ---     ┆ eed        │\n",
       "│ u16      ┆ ---         ┆ ---        ┆ u32       ┆ f64        ┆ ---        ┆ f64     ┆ ---        │\n",
       "│          ┆ u8          ┆ u8         ┆           ┆            ┆ f64        ┆         ┆ u16        │\n",
       "╞══════════╪═════════════╪════════════╪═══════════╪════════════╪════════════╪═════════╪════════════╡\n",
       "│ 1        ┆ 1           ┆ 1          ┆ 0         ┆ 294224.331 ┆ 0.0        ┆ 0.425   ┆ 396        │\n",
       "│ 1        ┆ 1           ┆ 1          ┆ 1         ┆ 294357.964 ┆ 0.000069   ┆ 0.425   ┆ 396        │\n",
       "│          ┆             ┆            ┆           ┆ 5          ┆            ┆         ┆            │\n",
       "│ 1        ┆ 1           ┆ 1          ┆ 2         ┆ 294458.029 ┆ 0.000277   ┆ 0.35375 ┆ 396        │\n",
       "│          ┆             ┆            ┆           ┆ 2          ┆            ┆         ┆            │\n",
       "│ 1        ┆ 1           ┆ 1          ┆ 3         ┆ 294558.600 ┆ 0.000622   ┆ 0.14875 ┆ 396        │\n",
       "│          ┆             ┆            ┆           ┆ 6          ┆            ┆         ┆            │\n",
       "│ 1        ┆ 1           ┆ 1          ┆ 4         ┆ 294658.335 ┆ 0.001106   ┆ 0.10125 ┆ 396        │\n",
       "│          ┆             ┆            ┆           ┆ 4          ┆            ┆         ┆            │\n",
       "│ 1        ┆ 1           ┆ 1          ┆ 5         ┆ 294758.495 ┆ 0.001728   ┆ 0.2275  ┆ 396        │\n",
       "│          ┆             ┆            ┆           ┆ 7          ┆            ┆         ┆            │\n",
       "│ …        ┆ …           ┆ …          ┆ …         ┆ …          ┆ …          ┆ …       ┆ …          │\n",
       "│ 332      ┆ 12          ┆ 28         ┆ 21606     ┆ 2.7766e6   ┆ 0.158607   ┆ 0.85    ┆ 133        │\n",
       "│ 332      ┆ 12          ┆ 28         ┆ 21607     ┆ 2.7767e6   ┆ 0.157223   ┆ 0.85    ┆ 133        │\n",
       "│ 332      ┆ 12          ┆ 28         ┆ 21608     ┆ 2.7768e6   ┆ 0.156232   ┆ 0.85    ┆ 133        │\n",
       "│ 332      ┆ 12          ┆ 28         ┆ 21609     ┆ 2.7769e6   ┆ 0.155637   ┆ 0.85    ┆ 133        │\n",
       "│ 332      ┆ 12          ┆ 28         ┆ 21610     ┆ 2.7770e6   ┆ 0.155438   ┆ 0.85    ┆ 133        │\n",
       "│ 332      ┆ 12          ┆ 28         ┆ 21611     ┆ 2.7771e6   ┆ 0.155438   ┆ 0.85    ┆ 133        │\n",
       "└──────────┴─────────────┴────────────┴───────────┴────────────┴────────────┴─────────┴────────────┘"
      ]
     },
     "execution_count": 54,
     "metadata": {},
     "output_type": "execute_result"
    }
   ],
   "source": [
    "with db:\n",
    "    stimulus = db.get_table(\"feature_stimulus\")\n",
    "    trials = db.get_table(\"trials\")  # get trials for stimulus seeds\n",
    "\n",
    "\n",
    "df = merge_data_dfs(\n",
    "    [stimulus, trials],\n",
    "    merge_on=[\"participant_id\", \"trial_id\", \"trial_number\"],\n",
    ").drop(\"duration\", \"skin_area\", \"timestamp_start\", \"timestamp_end\", strict=False)\n",
    "df"
   ]
  },
  {
   "cell_type": "code",
   "execution_count": 55,
   "metadata": {},
   "outputs": [
    {
     "data": {
      "text/html": [
       "<div><style>\n",
       ".dataframe > thead > tr,\n",
       ".dataframe > tbody > tr {\n",
       "  text-align: right;\n",
       "  white-space: pre-wrap;\n",
       "}\n",
       "</style>\n",
       "<small>shape: (2_160, 6)</small><table border=\"1\" class=\"dataframe\"><thead><tr><th>stimulus_seed</th><th>avg_rating</th><th>avg_temperature</th><th>std_dev</th><th>sample_size</th><th>time_bin</th></tr><tr><td>u16</td><td>f64</td><td>f64</td><td>f64</td><td>u32</td><td>i16</td></tr></thead><tbody><tr><td>133</td><td>0.432017</td><td>0.007027</td><td>0.260652</td><td>282</td><td>0</td></tr><tr><td>133</td><td>0.580223</td><td>0.052573</td><td>0.219553</td><td>280</td><td>1</td></tr><tr><td>133</td><td>0.619137</td><td>0.141308</td><td>0.224974</td><td>281</td><td>2</td></tr><tr><td>133</td><td>0.657968</td><td>0.265075</td><td>0.218392</td><td>283</td><td>3</td></tr><tr><td>133</td><td>0.697452</td><td>0.412534</td><td>0.204328</td><td>287</td><td>4</td></tr><tr><td>133</td><td>0.736053</td><td>0.567752</td><td>0.180708</td><td>285</td><td>5</td></tr><tr><td>&hellip;</td><td>&hellip;</td><td>&hellip;</td><td>&hellip;</td><td>&hellip;</td><td>&hellip;</td></tr><tr><td>952</td><td>0.147058</td><td>0.212601</td><td>0.212265</td><td>280</td><td>174</td></tr><tr><td>952</td><td>0.120062</td><td>0.161466</td><td>0.196615</td><td>280</td><td>175</td></tr><tr><td>952</td><td>0.103728</td><td>0.119274</td><td>0.185324</td><td>280</td><td>176</td></tr><tr><td>952</td><td>0.09138</td><td>0.087116</td><td>0.176784</td><td>279</td><td>177</td></tr><tr><td>952</td><td>0.075502</td><td>0.065747</td><td>0.158728</td><td>279</td><td>178</td></tr><tr><td>952</td><td>0.056499</td><td>0.055606</td><td>0.138921</td><td>281</td><td>179</td></tr></tbody></table></div>"
      ],
      "text/plain": [
       "shape: (2_160, 6)\n",
       "┌───────────────┬────────────┬─────────────────┬──────────┬─────────────┬──────────┐\n",
       "│ stimulus_seed ┆ avg_rating ┆ avg_temperature ┆ std_dev  ┆ sample_size ┆ time_bin │\n",
       "│ ---           ┆ ---        ┆ ---             ┆ ---      ┆ ---         ┆ ---      │\n",
       "│ u16           ┆ f64        ┆ f64             ┆ f64      ┆ u32         ┆ i16      │\n",
       "╞═══════════════╪════════════╪═════════════════╪══════════╪═════════════╪══════════╡\n",
       "│ 133           ┆ 0.432017   ┆ 0.007027        ┆ 0.260652 ┆ 282         ┆ 0        │\n",
       "│ 133           ┆ 0.580223   ┆ 0.052573        ┆ 0.219553 ┆ 280         ┆ 1        │\n",
       "│ 133           ┆ 0.619137   ┆ 0.141308        ┆ 0.224974 ┆ 281         ┆ 2        │\n",
       "│ 133           ┆ 0.657968   ┆ 0.265075        ┆ 0.218392 ┆ 283         ┆ 3        │\n",
       "│ 133           ┆ 0.697452   ┆ 0.412534        ┆ 0.204328 ┆ 287         ┆ 4        │\n",
       "│ 133           ┆ 0.736053   ┆ 0.567752        ┆ 0.180708 ┆ 285         ┆ 5        │\n",
       "│ …             ┆ …          ┆ …               ┆ …        ┆ …           ┆ …        │\n",
       "│ 952           ┆ 0.147058   ┆ 0.212601        ┆ 0.212265 ┆ 280         ┆ 174      │\n",
       "│ 952           ┆ 0.120062   ┆ 0.161466        ┆ 0.196615 ┆ 280         ┆ 175      │\n",
       "│ 952           ┆ 0.103728   ┆ 0.119274        ┆ 0.185324 ┆ 280         ┆ 176      │\n",
       "│ 952           ┆ 0.09138    ┆ 0.087116        ┆ 0.176784 ┆ 279         ┆ 177      │\n",
       "│ 952           ┆ 0.075502   ┆ 0.065747        ┆ 0.158728 ┆ 279         ┆ 178      │\n",
       "│ 952           ┆ 0.056499   ┆ 0.055606        ┆ 0.138921 ┆ 281         ┆ 179      │\n",
       "└───────────────┴────────────┴─────────────────┴──────────┴─────────────┴──────────┘"
      ]
     },
     "execution_count": 55,
     "metadata": {},
     "output_type": "execute_result"
    }
   ],
   "source": [
    "def zero_based_timestamps(df: pl.DataFrame) -> pl.DataFrame:\n",
    "    return df.with_columns(\n",
    "        (col(\"timestamp\") - col(\"timestamp\").min().over(\"trial_id\")).alias(\n",
    "            \"zeroed_timestamp\"\n",
    "        )\n",
    "    )\n",
    "\n",
    "\n",
    "def aggregate_over_seeds(\n",
    "    df: pl.DataFrame,\n",
    "    bin_size: int = 1,  # TODO\n",
    ") -> pl.DataFrame:\n",
    "    \"\"\"Aggregate over seeds for each trial using group_by_dynamic.\"\"\"\n",
    "    # Note: without group_by_dynamic, this would be something like\n",
    "    # >>> df.with_columns(\n",
    "    # >>>     [(col(\"zeroed_timestamp\") // 1000).cast(pl.Int32).alias(\"time_bin\")]\n",
    "    # >>>     )\n",
    "    # >>>     .group_by([\"stimulus_seed\", \"time_bin\"])\n",
    "\n",
    "    # Zero-based timestamp in milliseconds\n",
    "    df = zero_based_timestamps(df)\n",
    "    # Add microsecond timestamp column for better precision as group_by_dynamic uses int\n",
    "    df = add_timestamp_μs_column(df, \"zeroed_timestamp\")\n",
    "    return (\n",
    "        (\n",
    "            df.sort(\"zeroed_timestamp_µs\")\n",
    "            .group_by_dynamic(\n",
    "                \"zeroed_timestamp_µs\",\n",
    "                every=f\"{int((1000 / 1)*1000)}i\",\n",
    "                group_by=[\"stimulus_seed\"],\n",
    "            )\n",
    "            .agg(\n",
    "                [\n",
    "                    col(\"rating\").mean().alias(\"avg_rating\"),\n",
    "                    col(\"temperature\").mean().alias(\"avg_temperature\"),\n",
    "                    col(\"rating\").std().alias(\"std_dev\"),\n",
    "                    pl.len().alias(\"sample_size\"),\n",
    "                ]\n",
    "            )\n",
    "        )\n",
    "        .with_columns(\n",
    "            (col(\"zeroed_timestamp_µs\") / 1_000_000).cast(pl.Int16).alias(\"time_bin\")\n",
    "        )\n",
    "        .sort(\"stimulus_seed\", \"time_bin\")\n",
    "        # remove measures at exactly 180s so that they don't get their own bin\n",
    "        .filter(col(\"time_bin\") < 180)\n",
    "        .drop(\"zeroed_timestamp_µs\")\n",
    "    )\n",
    "\n",
    "\n",
    "aggregate_over_seeds(df)"
   ]
  },
  {
   "cell_type": "code",
   "execution_count": null,
   "metadata": {},
   "outputs": [
    {
     "data": {
      "text/html": [
       "<div><style>\n",
       ".dataframe > thead > tr,\n",
       ".dataframe > tbody > tr {\n",
       "  text-align: right;\n",
       "  white-space: pre-wrap;\n",
       "}\n",
       "</style>\n",
       "<small>shape: (2_160, 6)</small><table border=\"1\" class=\"dataframe\"><thead><tr><th>stimulus_seed</th><th>time_bin</th><th>avg_rating</th><th>avg_temperature</th><th>std_dev</th><th>sample_size</th></tr><tr><td>u16</td><td>f64</td><td>f64</td><td>f64</td><td>f64</td><td>u32</td></tr></thead><tbody><tr><td>133</td><td>0.0</td><td>0.432017</td><td>0.007027</td><td>0.260652</td><td>282</td></tr><tr><td>133</td><td>1000.0</td><td>0.580223</td><td>0.052573</td><td>0.219553</td><td>280</td></tr><tr><td>133</td><td>2000.0</td><td>0.619137</td><td>0.141308</td><td>0.224974</td><td>281</td></tr><tr><td>133</td><td>3000.0</td><td>0.657968</td><td>0.265075</td><td>0.218392</td><td>283</td></tr><tr><td>133</td><td>4000.0</td><td>0.697452</td><td>0.412534</td><td>0.204328</td><td>287</td></tr><tr><td>133</td><td>5000.0</td><td>0.736053</td><td>0.567752</td><td>0.180708</td><td>285</td></tr><tr><td>&hellip;</td><td>&hellip;</td><td>&hellip;</td><td>&hellip;</td><td>&hellip;</td><td>&hellip;</td></tr><tr><td>952</td><td>174000.0</td><td>0.147058</td><td>0.212601</td><td>0.212265</td><td>280</td></tr><tr><td>952</td><td>175000.0</td><td>0.120062</td><td>0.161466</td><td>0.196615</td><td>280</td></tr><tr><td>952</td><td>176000.0</td><td>0.103728</td><td>0.119274</td><td>0.185324</td><td>280</td></tr><tr><td>952</td><td>177000.0</td><td>0.09138</td><td>0.087116</td><td>0.176784</td><td>279</td></tr><tr><td>952</td><td>178000.0</td><td>0.075502</td><td>0.065747</td><td>0.158728</td><td>279</td></tr><tr><td>952</td><td>179000.0</td><td>0.056499</td><td>0.055606</td><td>0.138921</td><td>281</td></tr></tbody></table></div>"
      ],
      "text/plain": [
       "shape: (2_160, 6)\n",
       "┌───────────────┬──────────┬────────────┬─────────────────┬──────────┬─────────────┐\n",
       "│ stimulus_seed ┆ time_bin ┆ avg_rating ┆ avg_temperature ┆ std_dev  ┆ sample_size │\n",
       "│ ---           ┆ ---      ┆ ---        ┆ ---             ┆ ---      ┆ ---         │\n",
       "│ u16           ┆ f64      ┆ f64        ┆ f64             ┆ f64      ┆ u32         │\n",
       "╞═══════════════╪══════════╪════════════╪═════════════════╪══════════╪═════════════╡\n",
       "│ 133           ┆ 0.0      ┆ 0.432017   ┆ 0.007027        ┆ 0.260652 ┆ 282         │\n",
       "│ 133           ┆ 1000.0   ┆ 0.580223   ┆ 0.052573        ┆ 0.219553 ┆ 280         │\n",
       "│ 133           ┆ 2000.0   ┆ 0.619137   ┆ 0.141308        ┆ 0.224974 ┆ 281         │\n",
       "│ 133           ┆ 3000.0   ┆ 0.657968   ┆ 0.265075        ┆ 0.218392 ┆ 283         │\n",
       "│ 133           ┆ 4000.0   ┆ 0.697452   ┆ 0.412534        ┆ 0.204328 ┆ 287         │\n",
       "│ 133           ┆ 5000.0   ┆ 0.736053   ┆ 0.567752        ┆ 0.180708 ┆ 285         │\n",
       "│ …             ┆ …        ┆ …          ┆ …               ┆ …        ┆ …           │\n",
       "│ 952           ┆ 174000.0 ┆ 0.147058   ┆ 0.212601        ┆ 0.212265 ┆ 280         │\n",
       "│ 952           ┆ 175000.0 ┆ 0.120062   ┆ 0.161466        ┆ 0.196615 ┆ 280         │\n",
       "│ 952           ┆ 176000.0 ┆ 0.103728   ┆ 0.119274        ┆ 0.185324 ┆ 280         │\n",
       "│ 952           ┆ 177000.0 ┆ 0.09138    ┆ 0.087116        ┆ 0.176784 ┆ 279         │\n",
       "│ 952           ┆ 178000.0 ┆ 0.075502   ┆ 0.065747        ┆ 0.158728 ┆ 279         │\n",
       "│ 952           ┆ 179000.0 ┆ 0.056499   ┆ 0.055606        ┆ 0.138921 ┆ 281         │\n",
       "└───────────────┴──────────┴────────────┴─────────────────┴──────────┴─────────────┘"
      ]
     },
     "execution_count": 36,
     "metadata": {},
     "output_type": "execute_result"
    }
   ],
   "source": [
    "result = (\n",
    "    (\n",
    "        df.with_columns([(col(\"zeroed_timestamp\") // 1000 * 1000).alias(\"time_bin\")])\n",
    "        .group_by([\"stimulus_seed\", \"time_bin\"])\n",
    "        .agg(\n",
    "            [\n",
    "                col(\"rating\").mean().alias(\"avg_rating\"),\n",
    "                col(\"temperature\").mean().alias(\"avg_temperature\"),\n",
    "                col(\"rating\").std().alias(\"std_dev\"),\n",
    "                pl.len().alias(\"sample_size\"),\n",
    "            ]\n",
    "        )\n",
    "    )\n",
    "    .sort(\"stimulus_seed\", \"time_bin\")\n",
    "    .filter(\n",
    "        col(\"time_bin\") < 180000\n",
    "    )  # remove measures at exactly 180s so that they don't get their own bin\n",
    ")\n",
    "result"
   ]
  },
  {
   "cell_type": "code",
   "execution_count": 17,
   "metadata": {},
   "outputs": [
    {
     "data": {
      "application/vnd.jupyter.widget-view+json": {
       "model_id": "b3e45d4a18ec4b4e864a1e68b823e0bb",
       "version_major": 2,
       "version_minor": 0
      },
      "text/plain": [
       "BokehModel(combine_events=True, render_bundle={'docs_json': {'922462a6-7952-4dee-95e9-fa8cf1e5e7c4': {'version…"
      ]
     },
     "execution_count": 17,
     "metadata": {},
     "output_type": "execute_result"
    }
   ],
   "source": [
    "# NOTE: in some edge cases, there is aexactly one sample for timestamp=180s.\n",
    "# TODO: Maybe they should be removed.\n",
    "\n",
    "result = (\n",
    "    df.with_columns([(col(\"zeroed_timestamp\") // 1000 * 1000).alias(\"time_bin\")])\n",
    "    .group_by([\"stimulus_seed\", \"time_bin\"])\n",
    "    .agg(\n",
    "        [\n",
    "            col(\"rating\").mean().alias(\"avg_rating\"),\n",
    "            col(\"temperature\").mean().alias(\"avg_temperature\"),\n",
    "            col(\"rating\").std().alias(\"std_dev\"),\n",
    "            pl.len().alias(\"sample_size\"),\n",
    "        ]\n",
    "    )\n",
    "    .with_columns(\n",
    "        [\n",
    "            (\n",
    "                col(\"avg_rating\") - 1.96 * (col(\"std_dev\") / col(\"sample_size\").sqrt())\n",
    "            ).alias(\"ci_lower\"),\n",
    "            (\n",
    "                col(\"avg_rating\") + 1.96 * (col(\"std_dev\") / col(\"sample_size\").sqrt())\n",
    "            ).alias(\"ci_upper\"),\n",
    "        ]\n",
    "    )\n",
    "    .select(\n",
    "        [\n",
    "            \"stimulus_seed\",\n",
    "            \"time_bin\",\n",
    "            \"avg_rating\",\n",
    "            \"ci_lower\",\n",
    "            \"ci_upper\",\n",
    "            \"avg_temperature\",\n",
    "        ]\n",
    "    )\n",
    "    .sort([\"stimulus_seed\", \"time_bin\"])\n",
    ")\n",
    "results = result.with_columns(col(\"time_bin\"))\n",
    "\n",
    "result.plot(\n",
    "    x=\"time_bin\",\n",
    "    y=[\"avg_rating\", \"avg_temperature\"],\n",
    "    groupby=\"stimulus_seed\",\n",
    "    kind=\"line\",\n",
    "    grid=True,\n",
    ") * result.hvplot.area(\n",
    "    x=\"time_bin\",\n",
    "    y=\"ci_lower\",\n",
    "    y2=\"ci_upper\",\n",
    "    groupby=\"stimulus_seed\",\n",
    "    alpha=0.5,\n",
    "    line_width=0,\n",
    "    fill_color=\"lightblue\",\n",
    "    grid=True,\n",
    "    ylim=(0, 1),\n",
    "    xlim=(0, 180 * 1000),\n",
    ")"
   ]
  },
  {
   "cell_type": "code",
   "execution_count": null,
   "metadata": {},
   "outputs": [
    {
     "data": {
      "text/html": [
       "<div><style>\n",
       ".dataframe > thead > tr,\n",
       ".dataframe > tbody > tr {\n",
       "  text-align: right;\n",
       "  white-space: pre-wrap;\n",
       "}\n",
       "</style>\n",
       "<small>shape: (2_171, 6)</small><table border=\"1\" class=\"dataframe\"><thead><tr><th>stimulus_seed</th><th>time_bin</th><th>avg_rating</th><th>ci_lower</th><th>ci_upper</th><th>avg_temperature</th></tr><tr><td>u16</td><td>f64</td><td>f64</td><td>f64</td><td>f64</td><td>f64</td></tr></thead><tbody><tr><td>133</td><td>0.0</td><td>0.432017</td><td>0.401594</td><td>0.462439</td><td>0.007027</td></tr><tr><td>133</td><td>1000.0</td><td>0.580223</td><td>0.554506</td><td>0.60594</td><td>0.052573</td></tr><tr><td>133</td><td>2000.0</td><td>0.619137</td><td>0.592832</td><td>0.645442</td><td>0.141308</td></tr><tr><td>133</td><td>3000.0</td><td>0.657968</td><td>0.632523</td><td>0.683413</td><td>0.265075</td></tr><tr><td>133</td><td>4000.0</td><td>0.697452</td><td>0.673812</td><td>0.721092</td><td>0.412534</td></tr><tr><td>133</td><td>5000.0</td><td>0.736053</td><td>0.715072</td><td>0.757033</td><td>0.567752</td></tr><tr><td>&hellip;</td><td>&hellip;</td><td>&hellip;</td><td>&hellip;</td><td>&hellip;</td><td>&hellip;</td></tr><tr><td>952</td><td>175000.0</td><td>0.120062</td><td>0.097033</td><td>0.143092</td><td>0.161466</td></tr><tr><td>952</td><td>176000.0</td><td>0.103728</td><td>0.08202</td><td>0.125435</td><td>0.119274</td></tr><tr><td>952</td><td>177000.0</td><td>0.09138</td><td>0.070636</td><td>0.112124</td><td>0.087116</td></tr><tr><td>952</td><td>178000.0</td><td>0.075502</td><td>0.056876</td><td>0.094127</td><td>0.065747</td></tr><tr><td>952</td><td>179000.0</td><td>0.056499</td><td>0.040256</td><td>0.072742</td><td>0.055606</td></tr><tr><td>952</td><td>180000.0</td><td>0.005</td><td>null</td><td>null</td><td>0.054291</td></tr></tbody></table></div>"
      ],
      "text/plain": [
       "shape: (2_171, 6)\n",
       "┌───────────────┬──────────┬────────────┬──────────┬──────────┬─────────────────┐\n",
       "│ stimulus_seed ┆ time_bin ┆ avg_rating ┆ ci_lower ┆ ci_upper ┆ avg_temperature │\n",
       "│ ---           ┆ ---      ┆ ---        ┆ ---      ┆ ---      ┆ ---             │\n",
       "│ u16           ┆ f64      ┆ f64        ┆ f64      ┆ f64      ┆ f64             │\n",
       "╞═══════════════╪══════════╪════════════╪══════════╪══════════╪═════════════════╡\n",
       "│ 133           ┆ 0.0      ┆ 0.432017   ┆ 0.401594 ┆ 0.462439 ┆ 0.007027        │\n",
       "│ 133           ┆ 1000.0   ┆ 0.580223   ┆ 0.554506 ┆ 0.60594  ┆ 0.052573        │\n",
       "│ 133           ┆ 2000.0   ┆ 0.619137   ┆ 0.592832 ┆ 0.645442 ┆ 0.141308        │\n",
       "│ 133           ┆ 3000.0   ┆ 0.657968   ┆ 0.632523 ┆ 0.683413 ┆ 0.265075        │\n",
       "│ 133           ┆ 4000.0   ┆ 0.697452   ┆ 0.673812 ┆ 0.721092 ┆ 0.412534        │\n",
       "│ 133           ┆ 5000.0   ┆ 0.736053   ┆ 0.715072 ┆ 0.757033 ┆ 0.567752        │\n",
       "│ …             ┆ …        ┆ …          ┆ …        ┆ …        ┆ …               │\n",
       "│ 952           ┆ 175000.0 ┆ 0.120062   ┆ 0.097033 ┆ 0.143092 ┆ 0.161466        │\n",
       "│ 952           ┆ 176000.0 ┆ 0.103728   ┆ 0.08202  ┆ 0.125435 ┆ 0.119274        │\n",
       "│ 952           ┆ 177000.0 ┆ 0.09138    ┆ 0.070636 ┆ 0.112124 ┆ 0.087116        │\n",
       "│ 952           ┆ 178000.0 ┆ 0.075502   ┆ 0.056876 ┆ 0.094127 ┆ 0.065747        │\n",
       "│ 952           ┆ 179000.0 ┆ 0.056499   ┆ 0.040256 ┆ 0.072742 ┆ 0.055606        │\n",
       "│ 952           ┆ 180000.0 ┆ 0.005      ┆ null     ┆ null     ┆ 0.054291        │\n",
       "└───────────────┴──────────┴────────────┴──────────┴──────────┴─────────────────┘"
      ]
     },
     "execution_count": 23,
     "metadata": {},
     "output_type": "execute_result"
    }
   ],
   "source": [
    "results"
   ]
  },
  {
   "cell_type": "code",
   "execution_count": null,
   "metadata": {},
   "outputs": [],
   "source": []
  },
  {
   "cell_type": "code",
   "execution_count": null,
   "metadata": {},
   "outputs": [],
   "source": []
  },
  {
   "cell_type": "code",
   "execution_count": null,
   "metadata": {},
   "outputs": [],
   "source": []
  }
 ],
 "metadata": {
  "kernelspec": {
   "display_name": "pain",
   "language": "python",
   "name": "python3"
  },
  "language_info": {
   "codemirror_mode": {
    "name": "ipython",
    "version": 3
   },
   "file_extension": ".py",
   "mimetype": "text/x-python",
   "name": "python",
   "nbconvert_exporter": "python",
   "pygments_lexer": "ipython3",
   "version": "3.12.4"
  }
 },
 "nbformat": 4,
 "nbformat_minor": 2
}
