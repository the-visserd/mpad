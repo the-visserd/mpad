{
 "cells": [
  {
   "cell_type": "code",
   "execution_count": 1,
   "metadata": {},
   "outputs": [],
   "source": [
    "%%capture\n",
    "from pathlib import Path\n",
    "\n",
    "if Path.cwd().stem == \"notebooks\":\n",
    "    %cd ..\n",
    "    %load_ext autoreload\n",
    "    %autoreload 2"
   ]
  },
  {
   "cell_type": "code",
   "execution_count": 2,
   "metadata": {},
   "outputs": [
    {
     "data": {
      "application/javascript": "(function(root) {\n  function now() {\n    return new Date();\n  }\n\n  var force = true;\n  var py_version = '3.4.2'.replace('rc', '-rc.').replace('.dev', '-dev.');\n  var reloading = false;\n  var Bokeh = root.Bokeh;\n\n  if (typeof (root._bokeh_timeout) === \"undefined\" || force) {\n    root._bokeh_timeout = Date.now() + 5000;\n    root._bokeh_failed_load = false;\n  }\n\n  function run_callbacks() {\n    try {\n      root._bokeh_onload_callbacks.forEach(function(callback) {\n        if (callback != null)\n          callback();\n      });\n    } finally {\n      delete root._bokeh_onload_callbacks;\n    }\n    console.debug(\"Bokeh: all callbacks have finished\");\n  }\n\n  function load_libs(css_urls, js_urls, js_modules, js_exports, callback) {\n    if (css_urls == null) css_urls = [];\n    if (js_urls == null) js_urls = [];\n    if (js_modules == null) js_modules = [];\n    if (js_exports == null) js_exports = {};\n\n    root._bokeh_onload_callbacks.push(callback);\n\n    if (root._bokeh_is_loading > 0) {\n      console.debug(\"Bokeh: BokehJS is being loaded, scheduling callback at\", now());\n      return null;\n    }\n    if (js_urls.length === 0 && js_modules.length === 0 && Object.keys(js_exports).length === 0) {\n      run_callbacks();\n      return null;\n    }\n    if (!reloading) {\n      console.debug(\"Bokeh: BokehJS not loaded, scheduling load and callback at\", now());\n    }\n\n    function on_load() {\n      root._bokeh_is_loading--;\n      if (root._bokeh_is_loading === 0) {\n        console.debug(\"Bokeh: all BokehJS libraries/stylesheets loaded\");\n        run_callbacks()\n      }\n    }\n    window._bokeh_on_load = on_load\n\n    function on_error() {\n      console.error(\"failed to load \" + url);\n    }\n\n    var skip = [];\n    if (window.requirejs) {\n      window.requirejs.config({'packages': {}, 'paths': {}, 'shim': {}});\n      root._bokeh_is_loading = css_urls.length + 0;\n    } else {\n      root._bokeh_is_loading = css_urls.length + js_urls.length + js_modules.length + Object.keys(js_exports).length;\n    }\n\n    var existing_stylesheets = []\n    var links = document.getElementsByTagName('link')\n    for (var i = 0; i < links.length; i++) {\n      var link = links[i]\n      if (link.href != null) {\n\texisting_stylesheets.push(link.href)\n      }\n    }\n    for (var i = 0; i < css_urls.length; i++) {\n      var url = css_urls[i];\n      if (existing_stylesheets.indexOf(url) !== -1) {\n\ton_load()\n\tcontinue;\n      }\n      const element = document.createElement(\"link\");\n      element.onload = on_load;\n      element.onerror = on_error;\n      element.rel = \"stylesheet\";\n      element.type = \"text/css\";\n      element.href = url;\n      console.debug(\"Bokeh: injecting link tag for BokehJS stylesheet: \", url);\n      document.body.appendChild(element);\n    }    var existing_scripts = []\n    var scripts = document.getElementsByTagName('script')\n    for (var i = 0; i < scripts.length; i++) {\n      var script = scripts[i]\n      if (script.src != null) {\n\texisting_scripts.push(script.src)\n      }\n    }\n    for (var i = 0; i < js_urls.length; i++) {\n      var url = js_urls[i];\n      if (skip.indexOf(url) !== -1 || existing_scripts.indexOf(url) !== -1) {\n\tif (!window.requirejs) {\n\t  on_load();\n\t}\n\tcontinue;\n      }\n      var element = document.createElement('script');\n      element.onload = on_load;\n      element.onerror = on_error;\n      element.async = false;\n      element.src = url;\n      console.debug(\"Bokeh: injecting script tag for BokehJS library: \", url);\n      document.head.appendChild(element);\n    }\n    for (var i = 0; i < js_modules.length; i++) {\n      var url = js_modules[i];\n      if (skip.indexOf(url) !== -1 || existing_scripts.indexOf(url) !== -1) {\n\tif (!window.requirejs) {\n\t  on_load();\n\t}\n\tcontinue;\n      }\n      var element = document.createElement('script');\n      element.onload = on_load;\n      element.onerror = on_error;\n      element.async = false;\n      element.src = url;\n      element.type = \"module\";\n      console.debug(\"Bokeh: injecting script tag for BokehJS library: \", url);\n      document.head.appendChild(element);\n    }\n    for (const name in js_exports) {\n      var url = js_exports[name];\n      if (skip.indexOf(url) >= 0 || root[name] != null) {\n\tif (!window.requirejs) {\n\t  on_load();\n\t}\n\tcontinue;\n      }\n      var element = document.createElement('script');\n      element.onerror = on_error;\n      element.async = false;\n      element.type = \"module\";\n      console.debug(\"Bokeh: injecting script tag for BokehJS library: \", url);\n      element.textContent = `\n      import ${name} from \"${url}\"\n      window.${name} = ${name}\n      window._bokeh_on_load()\n      `\n      document.head.appendChild(element);\n    }\n    if (!js_urls.length && !js_modules.length) {\n      on_load()\n    }\n  };\n\n  function inject_raw_css(css) {\n    const element = document.createElement(\"style\");\n    element.appendChild(document.createTextNode(css));\n    document.body.appendChild(element);\n  }\n\n  var js_urls = [\"https://cdn.bokeh.org/bokeh/release/bokeh-3.4.2.min.js\", \"https://cdn.bokeh.org/bokeh/release/bokeh-gl-3.4.2.min.js\", \"https://cdn.bokeh.org/bokeh/release/bokeh-widgets-3.4.2.min.js\", \"https://cdn.bokeh.org/bokeh/release/bokeh-tables-3.4.2.min.js\", \"https://cdn.holoviz.org/panel/1.4.4/dist/panel.min.js\"];\n  var js_modules = [];\n  var js_exports = {};\n  var css_urls = [];\n  var inline_js = [    function(Bokeh) {\n      Bokeh.set_log_level(\"info\");\n    },\nfunction(Bokeh) {} // ensure no trailing comma for IE\n  ];\n\n  function run_inline_js() {\n    if ((root.Bokeh !== undefined) || (force === true)) {\n      for (var i = 0; i < inline_js.length; i++) {\n\ttry {\n          inline_js[i].call(root, root.Bokeh);\n\t} catch(e) {\n\t  if (!reloading) {\n\t    throw e;\n\t  }\n\t}\n      }\n      // Cache old bokeh versions\n      if (Bokeh != undefined && !reloading) {\n\tvar NewBokeh = root.Bokeh;\n\tif (Bokeh.versions === undefined) {\n\t  Bokeh.versions = new Map();\n\t}\n\tif (NewBokeh.version !== Bokeh.version) {\n\t  Bokeh.versions.set(NewBokeh.version, NewBokeh)\n\t}\n\troot.Bokeh = Bokeh;\n      }} else if (Date.now() < root._bokeh_timeout) {\n      setTimeout(run_inline_js, 100);\n    } else if (!root._bokeh_failed_load) {\n      console.log(\"Bokeh: BokehJS failed to load within specified timeout.\");\n      root._bokeh_failed_load = true;\n    }\n    root._bokeh_is_initializing = false\n  }\n\n  function load_or_wait() {\n    // Implement a backoff loop that tries to ensure we do not load multiple\n    // versions of Bokeh and its dependencies at the same time.\n    // In recent versions we use the root._bokeh_is_initializing flag\n    // to determine whether there is an ongoing attempt to initialize\n    // bokeh, however for backward compatibility we also try to ensure\n    // that we do not start loading a newer (Panel>=1.0 and Bokeh>3) version\n    // before older versions are fully initialized.\n    if (root._bokeh_is_initializing && Date.now() > root._bokeh_timeout) {\n      root._bokeh_is_initializing = false;\n      root._bokeh_onload_callbacks = undefined;\n      console.log(\"Bokeh: BokehJS was loaded multiple times but one version failed to initialize.\");\n      load_or_wait();\n    } else if (root._bokeh_is_initializing || (typeof root._bokeh_is_initializing === \"undefined\" && root._bokeh_onload_callbacks !== undefined)) {\n      setTimeout(load_or_wait, 100);\n    } else {\n      root._bokeh_is_initializing = true\n      root._bokeh_onload_callbacks = []\n      var bokeh_loaded = Bokeh != null && (Bokeh.version === py_version || (Bokeh.versions !== undefined && Bokeh.versions.has(py_version)));\n      if (!reloading && !bokeh_loaded) {\n\troot.Bokeh = undefined;\n      }\n      load_libs(css_urls, js_urls, js_modules, js_exports, function() {\n\tconsole.debug(\"Bokeh: BokehJS plotting callback run at\", now());\n\trun_inline_js();\n      });\n    }\n  }\n  // Give older versions of the autoload script a head-start to ensure\n  // they initialize before we start loading newer version.\n  setTimeout(load_or_wait, 100)\n}(window));",
      "application/vnd.holoviews_load.v0+json": ""
     },
     "metadata": {},
     "output_type": "display_data"
    },
    {
     "data": {
      "application/javascript": "\nif ((window.PyViz === undefined) || (window.PyViz instanceof HTMLElement)) {\n  window.PyViz = {comms: {}, comm_status:{}, kernels:{}, receivers: {}, plot_index: []}\n}\n\n\n    function JupyterCommManager() {\n    }\n\n    JupyterCommManager.prototype.register_target = function(plot_id, comm_id, msg_handler) {\n      if (window.comm_manager || ((window.Jupyter !== undefined) && (Jupyter.notebook.kernel != null))) {\n        var comm_manager = window.comm_manager || Jupyter.notebook.kernel.comm_manager;\n        comm_manager.register_target(comm_id, function(comm) {\n          comm.on_msg(msg_handler);\n        });\n      } else if ((plot_id in window.PyViz.kernels) && (window.PyViz.kernels[plot_id])) {\n        window.PyViz.kernels[plot_id].registerCommTarget(comm_id, function(comm) {\n          comm.onMsg = msg_handler;\n        });\n      } else if (typeof google != 'undefined' && google.colab.kernel != null) {\n        google.colab.kernel.comms.registerTarget(comm_id, (comm) => {\n          var messages = comm.messages[Symbol.asyncIterator]();\n          function processIteratorResult(result) {\n            var message = result.value;\n            console.log(message)\n            var content = {data: message.data, comm_id};\n            var buffers = []\n            for (var buffer of message.buffers || []) {\n              buffers.push(new DataView(buffer))\n            }\n            var metadata = message.metadata || {};\n            var msg = {content, buffers, metadata}\n            msg_handler(msg);\n            return messages.next().then(processIteratorResult);\n          }\n          return messages.next().then(processIteratorResult);\n        })\n      }\n    }\n\n    JupyterCommManager.prototype.get_client_comm = function(plot_id, comm_id, msg_handler) {\n      if (comm_id in window.PyViz.comms) {\n        return window.PyViz.comms[comm_id];\n      } else if (window.comm_manager || ((window.Jupyter !== undefined) && (Jupyter.notebook.kernel != null))) {\n        var comm_manager = window.comm_manager || Jupyter.notebook.kernel.comm_manager;\n        var comm = comm_manager.new_comm(comm_id, {}, {}, {}, comm_id);\n        if (msg_handler) {\n          comm.on_msg(msg_handler);\n        }\n      } else if ((plot_id in window.PyViz.kernels) && (window.PyViz.kernels[plot_id])) {\n        var comm = window.PyViz.kernels[plot_id].connectToComm(comm_id);\n        comm.open();\n        if (msg_handler) {\n          comm.onMsg = msg_handler;\n        }\n      } else if (typeof google != 'undefined' && google.colab.kernel != null) {\n        var comm_promise = google.colab.kernel.comms.open(comm_id)\n        comm_promise.then((comm) => {\n          window.PyViz.comms[comm_id] = comm;\n          if (msg_handler) {\n            var messages = comm.messages[Symbol.asyncIterator]();\n            function processIteratorResult(result) {\n              var message = result.value;\n              var content = {data: message.data};\n              var metadata = message.metadata || {comm_id};\n              var msg = {content, metadata}\n              msg_handler(msg);\n              return messages.next().then(processIteratorResult);\n            }\n            return messages.next().then(processIteratorResult);\n          }\n        }) \n        var sendClosure = (data, metadata, buffers, disposeOnDone) => {\n          return comm_promise.then((comm) => {\n            comm.send(data, metadata, buffers, disposeOnDone);\n          });\n        };\n        var comm = {\n          send: sendClosure\n        };\n      }\n      window.PyViz.comms[comm_id] = comm;\n      return comm;\n    }\n    window.PyViz.comm_manager = new JupyterCommManager();\n    \n\n\nvar JS_MIME_TYPE = 'application/javascript';\nvar HTML_MIME_TYPE = 'text/html';\nvar EXEC_MIME_TYPE = 'application/vnd.holoviews_exec.v0+json';\nvar CLASS_NAME = 'output';\n\n/**\n * Render data to the DOM node\n */\nfunction render(props, node) {\n  var div = document.createElement(\"div\");\n  var script = document.createElement(\"script\");\n  node.appendChild(div);\n  node.appendChild(script);\n}\n\n/**\n * Handle when a new output is added\n */\nfunction handle_add_output(event, handle) {\n  var output_area = handle.output_area;\n  var output = handle.output;\n  if ((output.data == undefined) || (!output.data.hasOwnProperty(EXEC_MIME_TYPE))) {\n    return\n  }\n  var id = output.metadata[EXEC_MIME_TYPE][\"id\"];\n  var toinsert = output_area.element.find(\".\" + CLASS_NAME.split(' ')[0]);\n  if (id !== undefined) {\n    var nchildren = toinsert.length;\n    var html_node = toinsert[nchildren-1].children[0];\n    html_node.innerHTML = output.data[HTML_MIME_TYPE];\n    var scripts = [];\n    var nodelist = html_node.querySelectorAll(\"script\");\n    for (var i in nodelist) {\n      if (nodelist.hasOwnProperty(i)) {\n        scripts.push(nodelist[i])\n      }\n    }\n\n    scripts.forEach( function (oldScript) {\n      var newScript = document.createElement(\"script\");\n      var attrs = [];\n      var nodemap = oldScript.attributes;\n      for (var j in nodemap) {\n        if (nodemap.hasOwnProperty(j)) {\n          attrs.push(nodemap[j])\n        }\n      }\n      attrs.forEach(function(attr) { newScript.setAttribute(attr.name, attr.value) });\n      newScript.appendChild(document.createTextNode(oldScript.innerHTML));\n      oldScript.parentNode.replaceChild(newScript, oldScript);\n    });\n    if (JS_MIME_TYPE in output.data) {\n      toinsert[nchildren-1].children[1].textContent = output.data[JS_MIME_TYPE];\n    }\n    output_area._hv_plot_id = id;\n    if ((window.Bokeh !== undefined) && (id in Bokeh.index)) {\n      window.PyViz.plot_index[id] = Bokeh.index[id];\n    } else {\n      window.PyViz.plot_index[id] = null;\n    }\n  } else if (output.metadata[EXEC_MIME_TYPE][\"server_id\"] !== undefined) {\n    var bk_div = document.createElement(\"div\");\n    bk_div.innerHTML = output.data[HTML_MIME_TYPE];\n    var script_attrs = bk_div.children[0].attributes;\n    for (var i = 0; i < script_attrs.length; i++) {\n      toinsert[toinsert.length - 1].childNodes[1].setAttribute(script_attrs[i].name, script_attrs[i].value);\n    }\n    // store reference to server id on output_area\n    output_area._bokeh_server_id = output.metadata[EXEC_MIME_TYPE][\"server_id\"];\n  }\n}\n\n/**\n * Handle when an output is cleared or removed\n */\nfunction handle_clear_output(event, handle) {\n  var id = handle.cell.output_area._hv_plot_id;\n  var server_id = handle.cell.output_area._bokeh_server_id;\n  if (((id === undefined) || !(id in PyViz.plot_index)) && (server_id !== undefined)) { return; }\n  var comm = window.PyViz.comm_manager.get_client_comm(\"hv-extension-comm\", \"hv-extension-comm\", function () {});\n  if (server_id !== null) {\n    comm.send({event_type: 'server_delete', 'id': server_id});\n    return;\n  } else if (comm !== null) {\n    comm.send({event_type: 'delete', 'id': id});\n  }\n  delete PyViz.plot_index[id];\n  if ((window.Bokeh !== undefined) & (id in window.Bokeh.index)) {\n    var doc = window.Bokeh.index[id].model.document\n    doc.clear();\n    const i = window.Bokeh.documents.indexOf(doc);\n    if (i > -1) {\n      window.Bokeh.documents.splice(i, 1);\n    }\n  }\n}\n\n/**\n * Handle kernel restart event\n */\nfunction handle_kernel_cleanup(event, handle) {\n  delete PyViz.comms[\"hv-extension-comm\"];\n  window.PyViz.plot_index = {}\n}\n\n/**\n * Handle update_display_data messages\n */\nfunction handle_update_output(event, handle) {\n  handle_clear_output(event, {cell: {output_area: handle.output_area}})\n  handle_add_output(event, handle)\n}\n\nfunction register_renderer(events, OutputArea) {\n  function append_mime(data, metadata, element) {\n    // create a DOM node to render to\n    var toinsert = this.create_output_subarea(\n    metadata,\n    CLASS_NAME,\n    EXEC_MIME_TYPE\n    );\n    this.keyboard_manager.register_events(toinsert);\n    // Render to node\n    var props = {data: data, metadata: metadata[EXEC_MIME_TYPE]};\n    render(props, toinsert[0]);\n    element.append(toinsert);\n    return toinsert\n  }\n\n  events.on('output_added.OutputArea', handle_add_output);\n  events.on('output_updated.OutputArea', handle_update_output);\n  events.on('clear_output.CodeCell', handle_clear_output);\n  events.on('delete.Cell', handle_clear_output);\n  events.on('kernel_ready.Kernel', handle_kernel_cleanup);\n\n  OutputArea.prototype.register_mime_type(EXEC_MIME_TYPE, append_mime, {\n    safe: true,\n    index: 0\n  });\n}\n\nif (window.Jupyter !== undefined) {\n  try {\n    var events = require('base/js/events');\n    var OutputArea = require('notebook/js/outputarea').OutputArea;\n    if (OutputArea.prototype.mime_types().indexOf(EXEC_MIME_TYPE) == -1) {\n      register_renderer(events, OutputArea);\n    }\n  } catch(err) {\n  }\n}\n",
      "application/vnd.holoviews_load.v0+json": ""
     },
     "metadata": {},
     "output_type": "display_data"
    },
    {
     "data": {
      "text/html": [
       "<style>*[data-root-id],\n",
       "*[data-root-id] > * {\n",
       "  box-sizing: border-box;\n",
       "  font-family: var(--jp-ui-font-family);\n",
       "  font-size: var(--jp-ui-font-size1);\n",
       "  color: var(--vscode-editor-foreground, var(--jp-ui-font-color1));\n",
       "}\n",
       "\n",
       "/* Override VSCode background color */\n",
       ".cell-output-ipywidget-background:has(\n",
       "    > .cell-output-ipywidget-background > .lm-Widget > *[data-root-id]\n",
       "  ),\n",
       ".cell-output-ipywidget-background:has(> .lm-Widget > *[data-root-id]) {\n",
       "  background-color: transparent !important;\n",
       "}\n",
       "</style>"
      ]
     },
     "metadata": {},
     "output_type": "display_data"
    },
    {
     "data": {
      "application/vnd.holoviews_exec.v0+json": "",
      "text/html": [
       "<div id='p1002'>\n",
       "  <div id=\"e89579ed-3d96-492f-9315-c6e442d3b53d\" data-root-id=\"p1002\" style=\"display: contents;\"></div>\n",
       "</div>\n",
       "<script type=\"application/javascript\">(function(root) {\n",
       "  var docs_json = {\"666c039c-83e6-43e4-983d-e7a0720d4a90\":{\"version\":\"3.4.2\",\"title\":\"Bokeh Application\",\"roots\":[{\"type\":\"object\",\"name\":\"panel.models.browser.BrowserInfo\",\"id\":\"p1002\"},{\"type\":\"object\",\"name\":\"panel.models.comm_manager.CommManager\",\"id\":\"p1003\",\"attributes\":{\"plot_id\":\"p1002\",\"comm_id\":\"acf29f2f18ec4e38b65f3c0505ee2fdb\",\"client_comm_id\":\"71df9de661744ad19b42b821a9d53365\"}}],\"defs\":[{\"type\":\"model\",\"name\":\"ReactiveHTML1\"},{\"type\":\"model\",\"name\":\"FlexBox1\",\"properties\":[{\"name\":\"align_content\",\"kind\":\"Any\",\"default\":\"flex-start\"},{\"name\":\"align_items\",\"kind\":\"Any\",\"default\":\"flex-start\"},{\"name\":\"flex_direction\",\"kind\":\"Any\",\"default\":\"row\"},{\"name\":\"flex_wrap\",\"kind\":\"Any\",\"default\":\"wrap\"},{\"name\":\"gap\",\"kind\":\"Any\",\"default\":\"\"},{\"name\":\"justify_content\",\"kind\":\"Any\",\"default\":\"flex-start\"}]},{\"type\":\"model\",\"name\":\"FloatPanel1\",\"properties\":[{\"name\":\"config\",\"kind\":\"Any\",\"default\":{\"type\":\"map\"}},{\"name\":\"contained\",\"kind\":\"Any\",\"default\":true},{\"name\":\"position\",\"kind\":\"Any\",\"default\":\"right-top\"},{\"name\":\"offsetx\",\"kind\":\"Any\",\"default\":null},{\"name\":\"offsety\",\"kind\":\"Any\",\"default\":null},{\"name\":\"theme\",\"kind\":\"Any\",\"default\":\"primary\"},{\"name\":\"status\",\"kind\":\"Any\",\"default\":\"normalized\"}]},{\"type\":\"model\",\"name\":\"GridStack1\",\"properties\":[{\"name\":\"mode\",\"kind\":\"Any\",\"default\":\"warn\"},{\"name\":\"ncols\",\"kind\":\"Any\",\"default\":null},{\"name\":\"nrows\",\"kind\":\"Any\",\"default\":null},{\"name\":\"allow_resize\",\"kind\":\"Any\",\"default\":true},{\"name\":\"allow_drag\",\"kind\":\"Any\",\"default\":true},{\"name\":\"state\",\"kind\":\"Any\",\"default\":[]}]},{\"type\":\"model\",\"name\":\"drag1\",\"properties\":[{\"name\":\"slider_width\",\"kind\":\"Any\",\"default\":5},{\"name\":\"slider_color\",\"kind\":\"Any\",\"default\":\"black\"},{\"name\":\"value\",\"kind\":\"Any\",\"default\":50}]},{\"type\":\"model\",\"name\":\"click1\",\"properties\":[{\"name\":\"terminal_output\",\"kind\":\"Any\",\"default\":\"\"},{\"name\":\"debug_name\",\"kind\":\"Any\",\"default\":\"\"},{\"name\":\"clears\",\"kind\":\"Any\",\"default\":0}]},{\"type\":\"model\",\"name\":\"FastWrapper1\",\"properties\":[{\"name\":\"object\",\"kind\":\"Any\",\"default\":null},{\"name\":\"style\",\"kind\":\"Any\",\"default\":null}]},{\"type\":\"model\",\"name\":\"NotificationAreaBase1\",\"properties\":[{\"name\":\"js_events\",\"kind\":\"Any\",\"default\":{\"type\":\"map\"}},{\"name\":\"position\",\"kind\":\"Any\",\"default\":\"bottom-right\"},{\"name\":\"_clear\",\"kind\":\"Any\",\"default\":0}]},{\"type\":\"model\",\"name\":\"NotificationArea1\",\"properties\":[{\"name\":\"js_events\",\"kind\":\"Any\",\"default\":{\"type\":\"map\"}},{\"name\":\"notifications\",\"kind\":\"Any\",\"default\":[]},{\"name\":\"position\",\"kind\":\"Any\",\"default\":\"bottom-right\"},{\"name\":\"_clear\",\"kind\":\"Any\",\"default\":0},{\"name\":\"types\",\"kind\":\"Any\",\"default\":[{\"type\":\"map\",\"entries\":[[\"type\",\"warning\"],[\"background\",\"#ffc107\"],[\"icon\",{\"type\":\"map\",\"entries\":[[\"className\",\"fas fa-exclamation-triangle\"],[\"tagName\",\"i\"],[\"color\",\"white\"]]}]]},{\"type\":\"map\",\"entries\":[[\"type\",\"info\"],[\"background\",\"#007bff\"],[\"icon\",{\"type\":\"map\",\"entries\":[[\"className\",\"fas fa-info-circle\"],[\"tagName\",\"i\"],[\"color\",\"white\"]]}]]}]}]},{\"type\":\"model\",\"name\":\"Notification\",\"properties\":[{\"name\":\"background\",\"kind\":\"Any\",\"default\":null},{\"name\":\"duration\",\"kind\":\"Any\",\"default\":3000},{\"name\":\"icon\",\"kind\":\"Any\",\"default\":null},{\"name\":\"message\",\"kind\":\"Any\",\"default\":\"\"},{\"name\":\"notification_type\",\"kind\":\"Any\",\"default\":null},{\"name\":\"_destroyed\",\"kind\":\"Any\",\"default\":false}]},{\"type\":\"model\",\"name\":\"TemplateActions1\",\"properties\":[{\"name\":\"open_modal\",\"kind\":\"Any\",\"default\":0},{\"name\":\"close_modal\",\"kind\":\"Any\",\"default\":0}]},{\"type\":\"model\",\"name\":\"BootstrapTemplateActions1\",\"properties\":[{\"name\":\"open_modal\",\"kind\":\"Any\",\"default\":0},{\"name\":\"close_modal\",\"kind\":\"Any\",\"default\":0}]},{\"type\":\"model\",\"name\":\"TemplateEditor1\",\"properties\":[{\"name\":\"layout\",\"kind\":\"Any\",\"default\":[]}]},{\"type\":\"model\",\"name\":\"MaterialTemplateActions1\",\"properties\":[{\"name\":\"open_modal\",\"kind\":\"Any\",\"default\":0},{\"name\":\"close_modal\",\"kind\":\"Any\",\"default\":0}]},{\"type\":\"model\",\"name\":\"copy_to_clipboard1\",\"properties\":[{\"name\":\"fill\",\"kind\":\"Any\",\"default\":\"none\"},{\"name\":\"value\",\"kind\":\"Any\",\"default\":null}]}]}};\n",
       "  var render_items = [{\"docid\":\"666c039c-83e6-43e4-983d-e7a0720d4a90\",\"roots\":{\"p1002\":\"e89579ed-3d96-492f-9315-c6e442d3b53d\"},\"root_ids\":[\"p1002\"]}];\n",
       "  var docs = Object.values(docs_json)\n",
       "  if (!docs) {\n",
       "    return\n",
       "  }\n",
       "  const py_version = docs[0].version.replace('rc', '-rc.').replace('.dev', '-dev.')\n",
       "  async function embed_document(root) {\n",
       "    var Bokeh = get_bokeh(root)\n",
       "    await Bokeh.embed.embed_items_notebook(docs_json, render_items);\n",
       "    for (const render_item of render_items) {\n",
       "      for (const root_id of render_item.root_ids) {\n",
       "\tconst id_el = document.getElementById(root_id)\n",
       "\tif (id_el.children.length && id_el.children[0].hasAttribute('data-root-id')) {\n",
       "\t  const root_el = id_el.children[0]\n",
       "\t  root_el.id = root_el.id + '-rendered'\n",
       "\t  for (const child of root_el.children) {\n",
       "            // Ensure JupyterLab does not capture keyboard shortcuts\n",
       "            // see: https://jupyterlab.readthedocs.io/en/4.1.x/extension/notebook.html#keyboard-interaction-model\n",
       "\t    child.setAttribute('data-lm-suppress-shortcuts', 'true')\n",
       "\t  }\n",
       "\t}\n",
       "      }\n",
       "    }\n",
       "  }\n",
       "  function get_bokeh(root) {\n",
       "    if (root.Bokeh === undefined) {\n",
       "      return null\n",
       "    } else if (root.Bokeh.version !== py_version) {\n",
       "      if (root.Bokeh.versions === undefined || !root.Bokeh.versions.has(py_version)) {\n",
       "\treturn null\n",
       "      }\n",
       "      return root.Bokeh.versions.get(py_version);\n",
       "    } else if (root.Bokeh.version === py_version) {\n",
       "      return root.Bokeh\n",
       "    }\n",
       "    return null\n",
       "  }\n",
       "  function is_loaded(root) {\n",
       "    var Bokeh = get_bokeh(root)\n",
       "    return (Bokeh != null && Bokeh.Panel !== undefined)\n",
       "  }\n",
       "  if (is_loaded(root)) {\n",
       "    embed_document(root);\n",
       "  } else {\n",
       "    var attempts = 0;\n",
       "    var timer = setInterval(function(root) {\n",
       "      if (is_loaded(root)) {\n",
       "        clearInterval(timer);\n",
       "        embed_document(root);\n",
       "      } else if (document.readyState == \"complete\") {\n",
       "        attempts++;\n",
       "        if (attempts > 200) {\n",
       "          clearInterval(timer);\n",
       "\t  var Bokeh = get_bokeh(root)\n",
       "\t  if (Bokeh == null || Bokeh.Panel == null) {\n",
       "            console.warn(\"Panel: ERROR: Unable to run Panel code because Bokeh or Panel library is missing\");\n",
       "\t  } else {\n",
       "\t    console.warn(\"Panel: WARNING: Attempting to render but not all required libraries could be resolved.\")\n",
       "\t    embed_document(root)\n",
       "\t  }\n",
       "        }\n",
       "      }\n",
       "    }, 25, root)\n",
       "  }\n",
       "})(window);</script>"
      ]
     },
     "metadata": {
      "application/vnd.holoviews_exec.v0+json": {
       "id": "p1002"
      }
     },
     "output_type": "display_data"
    }
   ],
   "source": [
    "import logging\n",
    "\n",
    "import holoviews as hv\n",
    "import hvplot.polars  # noqa\n",
    "import polars as pl\n",
    "from icecream import ic\n",
    "from polars import col\n",
    "\n",
    "from src.data.database_manager import DatabaseManager\n",
    "from src.data.quality_checks import check_sample_rate\n",
    "from src.features.resampling import add_timestamp_μs_column\n",
    "from src.features.scaling import scale_min_max\n",
    "from src.features.transforming import map_trials, merge_data_dfs\n",
    "from src.log_config import configure_logging\n",
    "from src.plots.confidence_intervals import plot_confidence_intervals\n",
    "from src.plots.utils import prepare_multiline_hvplot\n",
    "\n",
    "configure_logging(\n",
    "    stream_level=logging.DEBUG,\n",
    "    ignore_libs=(\"Comm\", \"bokeh\", \"tornado\", \"matplotlib\"),\n",
    ")\n",
    "logger = logging.getLogger(__name__.rsplit(\".\", maxsplit=1)[-1])\n",
    "\n",
    "pl.Config.set_tbl_rows(12)  # for the 12 trials\n",
    "hv.output(widget_location=\"bottom\", size=150)"
   ]
  },
  {
   "cell_type": "code",
   "execution_count": 9,
   "metadata": {},
   "outputs": [
    {
     "data": {
      "application/vnd.jupyter.widget-view+json": {
       "model_id": "eb6a4aee17294140b79c56d8b05ebd6b",
       "version_major": 2,
       "version_minor": 0
      },
      "text/plain": [
       "BokehModel(combine_events=True, render_bundle={'docs_json': {'9e43c613-26b1-4284-8cbc-059991cb2a11': {'version…"
      ]
     },
     "execution_count": 9,
     "metadata": {},
     "output_type": "execute_result"
    }
   ],
   "source": [
    "(\n",
    "    plot_confidence_intervals(\"stimulus\")\n",
    "    # * plot_confidence_intervals(\"pupil\")\n",
    "    # * plot_confidence_intervals(\"eda\")#, signals=[\"eda_tonic\"])\n",
    "    * plot_confidence_intervals(\"ppg\")  # , signals=[\"ppg_rate\"])\n",
    ")\n",
    "# TODO: add bin_size parameter, signal parameter, etc.\n",
    "# NOTE: pupil looks weird because of left free outliers, improve pipeline"
   ]
  },
  {
   "cell_type": "code",
   "execution_count": 4,
   "metadata": {},
   "outputs": [
    {
     "data": {
      "application/vnd.jupyter.widget-view+json": {
       "model_id": "cb17621192f6420092478c6d6a708b0a",
       "version_major": 2,
       "version_minor": 0
      },
      "text/plain": [
       "BokehModel(combine_events=True, render_bundle={'docs_json': {'713d5ee7-351b-4e44-9381-22275057c07f': {'version…"
      ]
     },
     "execution_count": 4,
     "metadata": {},
     "output_type": "execute_result"
    }
   ],
   "source": [
    "with DatabaseManager() as db:\n",
    "    df = db.get_table(\"preprocess_eda\")\n",
    "scale_min_max(df).plot(\n",
    "    x=\"timestamp\",\n",
    "    y=[\"eda_raw\", \"eda_tonic\", \"eda_phasic\"],\n",
    "    groupby=\"trial_id\",\n",
    ")"
   ]
  },
  {
   "cell_type": "markdown",
   "metadata": {},
   "source": [
    "## Question: What is a good bin size?"
   ]
  },
  {
   "cell_type": "code",
   "execution_count": 5,
   "metadata": {},
   "outputs": [
    {
     "ename": "NameError",
     "evalue": "name 'aggregate_over_seeds' is not defined",
     "output_type": "error",
     "traceback": [
      "\u001b[0;31m---------------------------------------------------------------------------\u001b[0m",
      "\u001b[0;31mNameError\u001b[0m                                 Traceback (most recent call last)",
      "Cell \u001b[0;32mIn[5], line 51\u001b[0m\n\u001b[1;32m     37\u001b[0m         plots \u001b[38;5;241m*\u001b[39m\u001b[38;5;241m=\u001b[39m df\u001b[38;5;241m.\u001b[39mhvplot\u001b[38;5;241m.\u001b[39marea(\n\u001b[1;32m     38\u001b[0m             x\u001b[38;5;241m=\u001b[39m\u001b[38;5;124m\"\u001b[39m\u001b[38;5;124mtime_bin\u001b[39m\u001b[38;5;124m\"\u001b[39m,\n\u001b[1;32m     39\u001b[0m             y\u001b[38;5;241m=\u001b[39m\u001b[38;5;124mf\u001b[39m\u001b[38;5;124m\"\u001b[39m\u001b[38;5;124mci_lower_\u001b[39m\u001b[38;5;132;01m{\u001b[39;00msignal\u001b[38;5;132;01m}\u001b[39;00m\u001b[38;5;124m\"\u001b[39m,\n\u001b[0;32m   (...)\u001b[0m\n\u001b[1;32m     45\u001b[0m             grid\u001b[38;5;241m=\u001b[39m\u001b[38;5;28;01mTrue\u001b[39;00m,\n\u001b[1;32m     46\u001b[0m         )\n\u001b[1;32m     48\u001b[0m     \u001b[38;5;28;01mreturn\u001b[39;00m plots\n\u001b[0;32m---> 51\u001b[0m \u001b[43mplot_confidence_interval_over_seeds\u001b[49m\u001b[43m(\u001b[49m\u001b[38;5;124;43m\"\u001b[39;49m\u001b[38;5;124;43mstimulus\u001b[39;49m\u001b[38;5;124;43m\"\u001b[39;49m\u001b[43m)\u001b[49m \u001b[38;5;241m*\u001b[39m plot_confidence_interval_over_seeds(\n\u001b[1;32m     52\u001b[0m     \u001b[38;5;124m\"\u001b[39m\u001b[38;5;124meda\u001b[39m\u001b[38;5;124m\"\u001b[39m\n\u001b[1;32m     53\u001b[0m )\n",
      "Cell \u001b[0;32mIn[5], line 19\u001b[0m, in \u001b[0;36mplot_confidence_interval_over_seeds\u001b[0;34m(modality)\u001b[0m\n\u001b[1;32m     13\u001b[0m df \u001b[38;5;241m=\u001b[39m merge_data_dfs(\n\u001b[1;32m     14\u001b[0m     [df, trials],\n\u001b[1;32m     15\u001b[0m     merge_on\u001b[38;5;241m=\u001b[39m[\u001b[38;5;124m\"\u001b[39m\u001b[38;5;124mparticipant_id\u001b[39m\u001b[38;5;124m\"\u001b[39m, \u001b[38;5;124m\"\u001b[39m\u001b[38;5;124mtrial_id\u001b[39m\u001b[38;5;124m\"\u001b[39m, \u001b[38;5;124m\"\u001b[39m\u001b[38;5;124mtrial_number\u001b[39m\u001b[38;5;124m\"\u001b[39m],\n\u001b[1;32m     16\u001b[0m )\u001b[38;5;241m.\u001b[39mdrop(\u001b[38;5;124m\"\u001b[39m\u001b[38;5;124mduration\u001b[39m\u001b[38;5;124m\"\u001b[39m, \u001b[38;5;124m\"\u001b[39m\u001b[38;5;124mskin_area\u001b[39m\u001b[38;5;124m\"\u001b[39m, \u001b[38;5;124m\"\u001b[39m\u001b[38;5;124mtimestamp_start\u001b[39m\u001b[38;5;124m\"\u001b[39m, \u001b[38;5;124m\"\u001b[39m\u001b[38;5;124mtimestamp_end\u001b[39m\u001b[38;5;124m\"\u001b[39m, strict\u001b[38;5;241m=\u001b[39m\u001b[38;5;28;01mFalse\u001b[39;00m)\n\u001b[1;32m     18\u001b[0m \u001b[38;5;66;03m#\u001b[39;00m\n\u001b[0;32m---> 19\u001b[0m df \u001b[38;5;241m=\u001b[39m \u001b[43maggregate_over_seeds\u001b[49m(df, modality, bin_size\u001b[38;5;241m=\u001b[39m\u001b[38;5;241m1\u001b[39m)\n\u001b[1;32m     20\u001b[0m \u001b[38;5;66;03m# scale for better visualization, must come before adding confidence intervals\u001b[39;00m\n\u001b[1;32m     21\u001b[0m df \u001b[38;5;241m=\u001b[39m scale_min_max(\n\u001b[1;32m     22\u001b[0m     df, exclude_additional_columns\u001b[38;5;241m=\u001b[39m[\u001b[38;5;124m\"\u001b[39m\u001b[38;5;124mtime_bin\u001b[39m\u001b[38;5;124m\"\u001b[39m, \u001b[38;5;124m\"\u001b[39m\u001b[38;5;124mrating\u001b[39m\u001b[38;5;124m\"\u001b[39m, \u001b[38;5;124m\"\u001b[39m\u001b[38;5;124mtemperature\u001b[39m\u001b[38;5;124m\"\u001b[39m]\n\u001b[1;32m     23\u001b[0m )\n",
      "\u001b[0;31mNameError\u001b[0m: name 'aggregate_over_seeds' is not defined"
     ]
    }
   ],
   "source": [
    "modality_map = {\n",
    "    \"stimulus\": [\"rating\", \"temperature\"],\n",
    "    \"eda\": [\"eda_tonic\", \"eda_phasic\"],\n",
    "}\n",
    "\n",
    "\n",
    "def plot_confidence_interval_over_seeds(modality: str):\n",
    "    signals = modality_map[modality]\n",
    "    # As we plot for each stimulus seed, we need trial metadata first\n",
    "    with DatabaseManager() as db:\n",
    "        df = db.get_table(\"feature_\" + modality)\n",
    "        trials = db.get_table(\"trials\")  # get trials for stimulus seeds\n",
    "    df = merge_data_dfs(\n",
    "        [df, trials],\n",
    "        merge_on=[\"participant_id\", \"trial_id\", \"trial_number\"],\n",
    "    ).drop(\"duration\", \"skin_area\", \"timestamp_start\", \"timestamp_end\", strict=False)\n",
    "\n",
    "    #\n",
    "    df = aggregate_over_seeds(df, modality, bin_size=1)\n",
    "    # scale for better visualization, must come before adding confidence intervals\n",
    "    df = scale_min_max(\n",
    "        df, exclude_additional_columns=[\"time_bin\", \"rating\", \"temperature\"]\n",
    "    )\n",
    "    df = add_confidence_interval(df, modality)\n",
    "\n",
    "    # Create plot\n",
    "    plots = df.plot(\n",
    "        x=\"time_bin\",\n",
    "        y=[f\"avg_{signal}\" for signal in signals],\n",
    "        groupby=\"stimulus_seed\",\n",
    "        kind=\"line\",\n",
    "        xlabel=\"Time (s)\",\n",
    "        ylabel=\"Normalized value\",\n",
    "        grid=True,\n",
    "    )\n",
    "    for signal in signals:\n",
    "        plots *= df.hvplot.area(\n",
    "            x=\"time_bin\",\n",
    "            y=f\"ci_lower_{signal}\",\n",
    "            y2=f\"ci_upper_{signal}\",\n",
    "            groupby=\"stimulus_seed\",\n",
    "            alpha=0.5,\n",
    "            line_width=0,\n",
    "            fill_color=\"lightblue\",\n",
    "            grid=True,\n",
    "        )\n",
    "\n",
    "    return plots\n",
    "\n",
    "\n",
    "plot_confidence_interval_over_seeds(\"stimulus\") * plot_confidence_interval_over_seeds(\n",
    "    \"eda\"\n",
    ")\n"
   ]
  },
  {
   "cell_type": "code",
   "execution_count": null,
   "metadata": {},
   "outputs": [
    {
     "data": {
      "text/html": [
       "<div><style>\n",
       ".dataframe > thead > tr,\n",
       ".dataframe > tbody > tr {\n",
       "  text-align: right;\n",
       "  white-space: pre-wrap;\n",
       "}\n",
       "</style>\n",
       "<small>shape: (597_931, 10)</small><table border=\"1\" class=\"dataframe\"><thead><tr><th>trial_id</th><th>trial_number</th><th>participant_id</th><th>rownumber</th><th>timestamp</th><th>samplenumber</th><th>eda_raw</th><th>eda_tonic</th><th>eda_phasic</th><th>stimulus_seed</th></tr><tr><td>u16</td><td>u8</td><td>u8</td><td>f64</td><td>f64</td><td>f64</td><td>f64</td><td>f64</td><td>f64</td><td>u16</td></tr></thead><tbody><tr><td>1</td><td>1</td><td>1</td><td>37664.142857</td><td>294200.0</td><td>57896.142857</td><td>0.753564</td><td>0.752119</td><td>0.001445</td><td>396</td></tr><tr><td>1</td><td>1</td><td>1</td><td>37676.5</td><td>294300.0</td><td>57908.5</td><td>0.753506</td><td>0.752138</td><td>0.001368</td><td>396</td></tr><tr><td>1</td><td>1</td><td>1</td><td>37690.875</td><td>294400.0</td><td>57922.875</td><td>0.753413</td><td>0.752158</td><td>0.001256</td><td>396</td></tr><tr><td>1</td><td>1</td><td>1</td><td>37704.25</td><td>294500.0</td><td>57936.25</td><td>0.753432</td><td>0.752177</td><td>0.001255</td><td>396</td></tr><tr><td>1</td><td>1</td><td>1</td><td>37714.8</td><td>294600.0</td><td>57946.8</td><td>0.75378</td><td>0.752193</td><td>0.001586</td><td>396</td></tr><tr><td>1</td><td>1</td><td>1</td><td>37727.642857</td><td>294700.0</td><td>57959.642857</td><td>0.753564</td><td>0.752212</td><td>0.001352</td><td>396</td></tr><tr><td>&hellip;</td><td>&hellip;</td><td>&hellip;</td><td>&hellip;</td><td>&hellip;</td><td>&hellip;</td><td>&hellip;</td><td>&hellip;</td><td>&hellip;</td><td>&hellip;</td></tr><tr><td>332</td><td>12</td><td>28</td><td>355422.0</td><td>2.7766e6</td><td>467019.0</td><td>13.60289</td><td>13.578916</td><td>-0.065532</td><td>133</td></tr><tr><td>332</td><td>12</td><td>28</td><td>355433.555556</td><td>2.7767e6</td><td>467030.555556</td><td>13.624445</td><td>13.578906</td><td>-0.048941</td><td>133</td></tr><tr><td>332</td><td>12</td><td>28</td><td>355446.1</td><td>2.7768e6</td><td>467043.1</td><td>13.644242</td><td>13.5789</td><td>-0.034242</td><td>133</td></tr><tr><td>332</td><td>12</td><td>28</td><td>355459.363636</td><td>2.7769e6</td><td>467056.363636</td><td>13.660439</td><td>13.578896</td><td>-0.023833</td><td>133</td></tr><tr><td>332</td><td>12</td><td>28</td><td>355472.6</td><td>2.777e6</td><td>467069.6</td><td>13.672831</td><td>13.578894</td><td>-0.017389</td><td>133</td></tr><tr><td>332</td><td>12</td><td>28</td><td>355480.666667</td><td>2.7771e6</td><td>467077.666667</td><td>13.682872</td><td>13.578894</td><td>-0.011107</td><td>133</td></tr></tbody></table></div>"
      ],
      "text/plain": [
       "shape: (597_931, 10)\n",
       "┌──────────┬───────────┬───────────┬───────────┬───┬───────────┬───────────┬───────────┬───────────┐\n",
       "│ trial_id ┆ trial_num ┆ participa ┆ rownumber ┆ … ┆ eda_raw   ┆ eda_tonic ┆ eda_phasi ┆ stimulus_ │\n",
       "│ ---      ┆ ber       ┆ nt_id     ┆ ---       ┆   ┆ ---       ┆ ---       ┆ c         ┆ seed      │\n",
       "│ u16      ┆ ---       ┆ ---       ┆ f64       ┆   ┆ f64       ┆ f64       ┆ ---       ┆ ---       │\n",
       "│          ┆ u8        ┆ u8        ┆           ┆   ┆           ┆           ┆ f64       ┆ u16       │\n",
       "╞══════════╪═══════════╪═══════════╪═══════════╪═══╪═══════════╪═══════════╪═══════════╪═══════════╡\n",
       "│ 1        ┆ 1         ┆ 1         ┆ 37664.142 ┆ … ┆ 0.753564  ┆ 0.752119  ┆ 0.001445  ┆ 396       │\n",
       "│          ┆           ┆           ┆ 857       ┆   ┆           ┆           ┆           ┆           │\n",
       "│ 1        ┆ 1         ┆ 1         ┆ 37676.5   ┆ … ┆ 0.753506  ┆ 0.752138  ┆ 0.001368  ┆ 396       │\n",
       "│ 1        ┆ 1         ┆ 1         ┆ 37690.875 ┆ … ┆ 0.753413  ┆ 0.752158  ┆ 0.001256  ┆ 396       │\n",
       "│ 1        ┆ 1         ┆ 1         ┆ 37704.25  ┆ … ┆ 0.753432  ┆ 0.752177  ┆ 0.001255  ┆ 396       │\n",
       "│ 1        ┆ 1         ┆ 1         ┆ 37714.8   ┆ … ┆ 0.75378   ┆ 0.752193  ┆ 0.001586  ┆ 396       │\n",
       "│ 1        ┆ 1         ┆ 1         ┆ 37727.642 ┆ … ┆ 0.753564  ┆ 0.752212  ┆ 0.001352  ┆ 396       │\n",
       "│          ┆           ┆           ┆ 857       ┆   ┆           ┆           ┆           ┆           │\n",
       "│ …        ┆ …         ┆ …         ┆ …         ┆ … ┆ …         ┆ …         ┆ …         ┆ …         │\n",
       "│ 332      ┆ 12        ┆ 28        ┆ 355422.0  ┆ … ┆ 13.60289  ┆ 13.578916 ┆ -0.065532 ┆ 133       │\n",
       "│ 332      ┆ 12        ┆ 28        ┆ 355433.55 ┆ … ┆ 13.624445 ┆ 13.578906 ┆ -0.048941 ┆ 133       │\n",
       "│          ┆           ┆           ┆ 5556      ┆   ┆           ┆           ┆           ┆           │\n",
       "│ 332      ┆ 12        ┆ 28        ┆ 355446.1  ┆ … ┆ 13.644242 ┆ 13.5789   ┆ -0.034242 ┆ 133       │\n",
       "│ 332      ┆ 12        ┆ 28        ┆ 355459.36 ┆ … ┆ 13.660439 ┆ 13.578896 ┆ -0.023833 ┆ 133       │\n",
       "│          ┆           ┆           ┆ 3636      ┆   ┆           ┆           ┆           ┆           │\n",
       "│ 332      ┆ 12        ┆ 28        ┆ 355472.6  ┆ … ┆ 13.672831 ┆ 13.578894 ┆ -0.017389 ┆ 133       │\n",
       "│ 332      ┆ 12        ┆ 28        ┆ 355480.66 ┆ … ┆ 13.682872 ┆ 13.578894 ┆ -0.011107 ┆ 133       │\n",
       "│          ┆           ┆           ┆ 6667      ┆   ┆           ┆           ┆           ┆           │\n",
       "└──────────┴───────────┴───────────┴───────────┴───┴───────────┴───────────┴───────────┴───────────┘"
      ]
     },
     "execution_count": 73,
     "metadata": {},
     "output_type": "execute_result"
    }
   ],
   "source": [
    "with DatabaseManager() as db:\n",
    "    stimulus = db.get_table(\"feature_eda\")\n",
    "    trials = db.get_table(\"trials\")  # get trials for stimulus seeds\n",
    "\n",
    "\n",
    "df = merge_data_dfs(\n",
    "    [stimulus, trials],\n",
    "    merge_on=[\"participant_id\", \"trial_id\", \"trial_number\"],\n",
    ").drop(\"duration\", \"skin_area\", \"timestamp_start\", \"timestamp_end\", strict=False)\n",
    "df"
   ]
  },
  {
   "cell_type": "code",
   "execution_count": null,
   "metadata": {},
   "outputs": [
    {
     "name": "stdout",
     "output_type": "stream",
     "text": [
      "16:38:57 | \u001b[93mWARNING \u001b[0m| transforming | No 'trial_id' column found. Applying function scale_min_max to the entire DataFrame.\n"
     ]
    },
    {
     "data": {
      "text/html": [
       "<div><style>\n",
       ".dataframe > thead > tr,\n",
       ".dataframe > tbody > tr {\n",
       "  text-align: right;\n",
       "  white-space: pre-wrap;\n",
       "}\n",
       "</style>\n",
       "<small>shape: (2_160, 11)</small><table border=\"1\" class=\"dataframe\"><thead><tr><th>stimulus_seed</th><th>avg_rating</th><th>avg_temperature</th><th>std_rating</th><th>std_temperature</th><th>sample_size</th><th>time_bin</th><th>ci_lower_rating</th><th>ci_lower_temperature</th><th>ci_upper_rating</th><th>ci_upper_temperature</th></tr><tr><td>u16</td><td>f64</td><td>f64</td><td>f64</td><td>f64</td><td>u32</td><td>f64</td><td>f64</td><td>f64</td><td>f64</td><td>f64</td></tr></thead><tbody><tr><td>133</td><td>0.436889</td><td>0.005348</td><td>0.693159</td><td>0.073292</td><td>282</td><td>0.0</td><td>0.355986</td><td>-0.003207</td><td>0.517792</td><td>0.013902</td></tr><tr><td>133</td><td>0.593096</td><td>0.051038</td><td>0.567941</td><td>0.218349</td><td>280</td><td>1.0</td><td>0.526572</td><td>0.025462</td><td>0.659621</td><td>0.076614</td></tr><tr><td>133</td><td>0.634111</td><td>0.140056</td><td>0.584458</td><td>0.345046</td><td>281</td><td>2.0</td><td>0.565774</td><td>0.099712</td><td>0.702448</td><td>0.1804</td></tr><tr><td>133</td><td>0.675038</td><td>0.264217</td><td>0.564405</td><td>0.441206</td><td>283</td><td>3.0</td><td>0.60928</td><td>0.212812</td><td>0.740797</td><td>0.315622</td></tr><tr><td>133</td><td>0.716654</td><td>0.412146</td><td>0.521555</td><td>0.498346</td><td>287</td><td>4.0</td><td>0.656312</td><td>0.35449</td><td>0.776995</td><td>0.469802</td></tr><tr><td>133</td><td>0.757338</td><td>0.567857</td><td>0.449593</td><td>0.493479</td><td>285</td><td>5.0</td><td>0.70514</td><td>0.510564</td><td>0.809536</td><td>0.62515</td></tr><tr><td>&hellip;</td><td>&hellip;</td><td>&hellip;</td><td>&hellip;</td><td>&hellip;</td><td>&hellip;</td><td>&hellip;</td><td>&hellip;</td><td>&hellip;</td><td>&hellip;</td><td>&hellip;</td></tr><tr><td>952</td><td>0.136547</td><td>0.211576</td><td>0.545738</td><td>0.17714</td><td>280</td><td>174.0</td><td>0.072624</td><td>0.190827</td><td>0.200471</td><td>0.232324</td></tr><tr><td>952</td><td>0.108094</td><td>0.160278</td><td>0.498057</td><td>0.150399</td><td>280</td><td>175.0</td><td>0.049756</td><td>0.142662</td><td>0.166433</td><td>0.177895</td></tr><tr><td>952</td><td>0.090878</td><td>0.117952</td><td>0.463657</td><td>0.119929</td><td>280</td><td>176.0</td><td>0.036568</td><td>0.103904</td><td>0.145187</td><td>0.131999</td></tr><tr><td>952</td><td>0.077863</td><td>0.085692</td><td>0.437639</td><td>0.086289</td><td>279</td><td>177.0</td><td>0.02651</td><td>0.075566</td><td>0.129217</td><td>0.095817</td></tr><tr><td>952</td><td>0.061128</td><td>0.064254</td><td>0.382629</td><td>0.051061</td><td>279</td><td>178.0</td><td>0.01623</td><td>0.058263</td><td>0.106027</td><td>0.070246</td></tr><tr><td>952</td><td>0.0411</td><td>0.054081</td><td>0.322281</td><td>0.015036</td><td>281</td><td>179.0</td><td>0.003417</td><td>0.052323</td><td>0.078782</td><td>0.055839</td></tr></tbody></table></div>"
      ],
      "text/plain": [
       "shape: (2_160, 11)\n",
       "┌───────────┬───────────┬───────────┬───────────┬───┬───────────┬───────────┬───────────┬──────────┐\n",
       "│ stimulus_ ┆ avg_ratin ┆ avg_tempe ┆ std_ratin ┆ … ┆ ci_lower_ ┆ ci_lower_ ┆ ci_upper_ ┆ ci_upper │\n",
       "│ seed      ┆ g         ┆ rature    ┆ g         ┆   ┆ rating    ┆ temperatu ┆ rating    ┆ _tempera │\n",
       "│ ---       ┆ ---       ┆ ---       ┆ ---       ┆   ┆ ---       ┆ re        ┆ ---       ┆ ture     │\n",
       "│ u16       ┆ f64       ┆ f64       ┆ f64       ┆   ┆ f64       ┆ ---       ┆ f64       ┆ ---      │\n",
       "│           ┆           ┆           ┆           ┆   ┆           ┆ f64       ┆           ┆ f64      │\n",
       "╞═══════════╪═══════════╪═══════════╪═══════════╪═══╪═══════════╪═══════════╪═══════════╪══════════╡\n",
       "│ 133       ┆ 0.436889  ┆ 0.005348  ┆ 0.693159  ┆ … ┆ 0.355986  ┆ -0.003207 ┆ 0.517792  ┆ 0.013902 │\n",
       "│ 133       ┆ 0.593096  ┆ 0.051038  ┆ 0.567941  ┆ … ┆ 0.526572  ┆ 0.025462  ┆ 0.659621  ┆ 0.076614 │\n",
       "│ 133       ┆ 0.634111  ┆ 0.140056  ┆ 0.584458  ┆ … ┆ 0.565774  ┆ 0.099712  ┆ 0.702448  ┆ 0.1804   │\n",
       "│ 133       ┆ 0.675038  ┆ 0.264217  ┆ 0.564405  ┆ … ┆ 0.60928   ┆ 0.212812  ┆ 0.740797  ┆ 0.315622 │\n",
       "│ 133       ┆ 0.716654  ┆ 0.412146  ┆ 0.521555  ┆ … ┆ 0.656312  ┆ 0.35449   ┆ 0.776995  ┆ 0.469802 │\n",
       "│ 133       ┆ 0.757338  ┆ 0.567857  ┆ 0.449593  ┆ … ┆ 0.70514   ┆ 0.510564  ┆ 0.809536  ┆ 0.62515  │\n",
       "│ …         ┆ …         ┆ …         ┆ …         ┆ … ┆ …         ┆ …         ┆ …         ┆ …        │\n",
       "│ 952       ┆ 0.136547  ┆ 0.211576  ┆ 0.545738  ┆ … ┆ 0.072624  ┆ 0.190827  ┆ 0.200471  ┆ 0.232324 │\n",
       "│ 952       ┆ 0.108094  ┆ 0.160278  ┆ 0.498057  ┆ … ┆ 0.049756  ┆ 0.142662  ┆ 0.166433  ┆ 0.177895 │\n",
       "│ 952       ┆ 0.090878  ┆ 0.117952  ┆ 0.463657  ┆ … ┆ 0.036568  ┆ 0.103904  ┆ 0.145187  ┆ 0.131999 │\n",
       "│ 952       ┆ 0.077863  ┆ 0.085692  ┆ 0.437639  ┆ … ┆ 0.02651   ┆ 0.075566  ┆ 0.129217  ┆ 0.095817 │\n",
       "│ 952       ┆ 0.061128  ┆ 0.064254  ┆ 0.382629  ┆ … ┆ 0.01623   ┆ 0.058263  ┆ 0.106027  ┆ 0.070246 │\n",
       "│ 952       ┆ 0.0411    ┆ 0.054081  ┆ 0.322281  ┆ … ┆ 0.003417  ┆ 0.052323  ┆ 0.078782  ┆ 0.055839 │\n",
       "└───────────┴───────────┴───────────┴───────────┴───┴───────────┴───────────┴───────────┴──────────┘"
      ]
     },
     "execution_count": 130,
     "metadata": {},
     "output_type": "execute_result"
    }
   ],
   "source": [
    "with DatabaseManager() as db:\n",
    "    stimulus = db.get_table(\"feature_stimulus\")\n",
    "    trials = db.get_table(\"trials\")  # get trials for stimulus seeds\n",
    "\n",
    "\n",
    "stim = merge_data_dfs(\n",
    "    [stimulus, trials],\n",
    "    merge_on=[\"participant_id\", \"trial_id\", \"trial_number\"],\n",
    ").drop(\"duration\", \"skin_area\", \"timestamp_start\", \"timestamp_end\", strict=False)\n",
    "stim\n",
    "stim = aggregate_over_seeds(stim, bin_size=1, modality=\"stimulus\")\n",
    "stim\n",
    "# scale for better visualization, must come before adding confidence intervals\n",
    "stim = scale_min_max(\n",
    "    stim, exclude_additional_columns=[\"time_bin\", \"rating\", \"temperature\"]\n",
    ")\n",
    "stim = add_confidence_interval(stim, modality=\"stimulus\")\n",
    "stim"
   ]
  },
  {
   "cell_type": "code",
   "execution_count": null,
   "metadata": {},
   "outputs": [
    {
     "name": "stdout",
     "output_type": "stream",
     "text": [
      "16:58:43 | \u001b[93mWARNING \u001b[0m| transforming | No 'trial_id' column found. Applying function scale_min_max to the entire DataFrame.\n"
     ]
    },
    {
     "data": {
      "text/html": [
       "<div><style>\n",
       ".dataframe > thead > tr,\n",
       ".dataframe > tbody > tr {\n",
       "  text-align: right;\n",
       "  white-space: pre-wrap;\n",
       "}\n",
       "</style>\n",
       "<small>shape: (2_160, 11)</small><table border=\"1\" class=\"dataframe\"><thead><tr><th>stimulus_seed</th><th>avg_eda_tonic</th><th>avg_eda_phasic</th><th>std_eda_tonic</th><th>std_eda_phasic</th><th>sample_size</th><th>time_bin</th><th>ci_lower_eda_tonic</th><th>ci_lower_eda_phasic</th><th>ci_upper_eda_tonic</th><th>ci_upper_eda_phasic</th></tr><tr><td>u16</td><td>f64</td><td>f64</td><td>f64</td><td>f64</td><td>u32</td><td>f64</td><td>f64</td><td>f64</td><td>f64</td><td>f64</td></tr></thead><tbody><tr><td>133</td><td>0.811622</td><td>0.635856</td><td>0.609608</td><td>0.361577</td><td>280</td><td>0.0</td><td>0.740217</td><td>0.593504</td><td>0.883027</td><td>0.678209</td></tr><tr><td>133</td><td>0.811483</td><td>0.898172</td><td>0.601589</td><td>0.519109</td><td>280</td><td>1.0</td><td>0.741017</td><td>0.837368</td><td>0.881948</td><td>0.958977</td></tr><tr><td>133</td><td>0.808668</td><td>0.738668</td><td>0.591169</td><td>0.371447</td><td>280</td><td>2.0</td><td>0.739423</td><td>0.695159</td><td>0.877913</td><td>0.782176</td></tr><tr><td>133</td><td>0.803703</td><td>0.430211</td><td>0.579055</td><td>0.281552</td><td>280</td><td>3.0</td><td>0.735877</td><td>0.397232</td><td>0.871529</td><td>0.46319</td></tr><tr><td>133</td><td>0.798057</td><td>0.273332</td><td>0.567652</td><td>0.328337</td><td>280</td><td>4.0</td><td>0.731566</td><td>0.234873</td><td>0.864547</td><td>0.311791</td></tr><tr><td>133</td><td>0.79298</td><td>0.242776</td><td>0.558477</td><td>0.338503</td><td>280</td><td>5.0</td><td>0.727565</td><td>0.203126</td><td>0.858396</td><td>0.282426</td></tr><tr><td>&hellip;</td><td>&hellip;</td><td>&hellip;</td><td>&hellip;</td><td>&hellip;</td><td>&hellip;</td><td>&hellip;</td><td>&hellip;</td><td>&hellip;</td><td>&hellip;</td><td>&hellip;</td></tr><tr><td>952</td><td>0.272081</td><td>0.501009</td><td>0.635495</td><td>0.167498</td><td>280</td><td>174.0</td><td>0.197643</td><td>0.481389</td><td>0.346518</td><td>0.520628</td></tr><tr><td>952</td><td>0.261934</td><td>0.485828</td><td>0.620165</td><td>0.063436</td><td>280</td><td>175.0</td><td>0.189293</td><td>0.478398</td><td>0.334576</td><td>0.493259</td></tr><tr><td>952</td><td>0.254477</td><td>0.474188</td><td>0.608833</td><td>0.00555</td><td>280</td><td>176.0</td><td>0.183163</td><td>0.473538</td><td>0.325791</td><td>0.474838</td></tr><tr><td>952</td><td>0.24954</td><td>0.467745</td><td>0.601325</td><td>0.006057</td><td>280</td><td>177.0</td><td>0.179105</td><td>0.467036</td><td>0.319975</td><td>0.468455</td></tr><tr><td>952</td><td>0.246914</td><td>0.458054</td><td>0.597364</td><td>0.03175</td><td>280</td><td>178.0</td><td>0.176943</td><td>0.454335</td><td>0.316885</td><td>0.461773</td></tr><tr><td>952</td><td>0.245996</td><td>0.453586</td><td>0.595976</td><td>0.037131</td><td>280</td><td>179.0</td><td>0.176188</td><td>0.449237</td><td>0.315804</td><td>0.457935</td></tr></tbody></table></div>"
      ],
      "text/plain": [
       "shape: (2_160, 11)\n",
       "┌───────────┬───────────┬───────────┬───────────┬───┬───────────┬───────────┬───────────┬──────────┐\n",
       "│ stimulus_ ┆ avg_eda_t ┆ avg_eda_p ┆ std_eda_t ┆ … ┆ ci_lower_ ┆ ci_lower_ ┆ ci_upper_ ┆ ci_upper │\n",
       "│ seed      ┆ onic      ┆ hasic     ┆ onic      ┆   ┆ eda_tonic ┆ eda_phasi ┆ eda_tonic ┆ _eda_pha │\n",
       "│ ---       ┆ ---       ┆ ---       ┆ ---       ┆   ┆ ---       ┆ c         ┆ ---       ┆ sic      │\n",
       "│ u16       ┆ f64       ┆ f64       ┆ f64       ┆   ┆ f64       ┆ ---       ┆ f64       ┆ ---      │\n",
       "│           ┆           ┆           ┆           ┆   ┆           ┆ f64       ┆           ┆ f64      │\n",
       "╞═══════════╪═══════════╪═══════════╪═══════════╪═══╪═══════════╪═══════════╪═══════════╪══════════╡\n",
       "│ 133       ┆ 0.811622  ┆ 0.635856  ┆ 0.609608  ┆ … ┆ 0.740217  ┆ 0.593504  ┆ 0.883027  ┆ 0.678209 │\n",
       "│ 133       ┆ 0.811483  ┆ 0.898172  ┆ 0.601589  ┆ … ┆ 0.741017  ┆ 0.837368  ┆ 0.881948  ┆ 0.958977 │\n",
       "│ 133       ┆ 0.808668  ┆ 0.738668  ┆ 0.591169  ┆ … ┆ 0.739423  ┆ 0.695159  ┆ 0.877913  ┆ 0.782176 │\n",
       "│ 133       ┆ 0.803703  ┆ 0.430211  ┆ 0.579055  ┆ … ┆ 0.735877  ┆ 0.397232  ┆ 0.871529  ┆ 0.46319  │\n",
       "│ 133       ┆ 0.798057  ┆ 0.273332  ┆ 0.567652  ┆ … ┆ 0.731566  ┆ 0.234873  ┆ 0.864547  ┆ 0.311791 │\n",
       "│ 133       ┆ 0.79298   ┆ 0.242776  ┆ 0.558477  ┆ … ┆ 0.727565  ┆ 0.203126  ┆ 0.858396  ┆ 0.282426 │\n",
       "│ …         ┆ …         ┆ …         ┆ …         ┆ … ┆ …         ┆ …         ┆ …         ┆ …        │\n",
       "│ 952       ┆ 0.272081  ┆ 0.501009  ┆ 0.635495  ┆ … ┆ 0.197643  ┆ 0.481389  ┆ 0.346518  ┆ 0.520628 │\n",
       "│ 952       ┆ 0.261934  ┆ 0.485828  ┆ 0.620165  ┆ … ┆ 0.189293  ┆ 0.478398  ┆ 0.334576  ┆ 0.493259 │\n",
       "│ 952       ┆ 0.254477  ┆ 0.474188  ┆ 0.608833  ┆ … ┆ 0.183163  ┆ 0.473538  ┆ 0.325791  ┆ 0.474838 │\n",
       "│ 952       ┆ 0.24954   ┆ 0.467745  ┆ 0.601325  ┆ … ┆ 0.179105  ┆ 0.467036  ┆ 0.319975  ┆ 0.468455 │\n",
       "│ 952       ┆ 0.246914  ┆ 0.458054  ┆ 0.597364  ┆ … ┆ 0.176943  ┆ 0.454335  ┆ 0.316885  ┆ 0.461773 │\n",
       "│ 952       ┆ 0.245996  ┆ 0.453586  ┆ 0.595976  ┆ … ┆ 0.176188  ┆ 0.449237  ┆ 0.315804  ┆ 0.457935 │\n",
       "└───────────┴───────────┴───────────┴───────────┴───┴───────────┴───────────┴───────────┴──────────┘"
      ]
     },
     "execution_count": 141,
     "metadata": {},
     "output_type": "execute_result"
    }
   ],
   "source": [
    "def _zero_based_timestamps(df: pl.DataFrame) -> pl.DataFrame:\n",
    "    return df.with_columns(\n",
    "        (col(\"timestamp\") - col(\"timestamp\").min().over(\"trial_id\")).alias(\n",
    "            \"zeroed_timestamp\"\n",
    "        )\n",
    "    )\n",
    "\n",
    "\n",
    "def aggregate_over_seeds(\n",
    "    df: pl.DataFrame,\n",
    "    modality: str,\n",
    "    bin_size: int = 1,  # TODO\n",
    ") -> pl.DataFrame:\n",
    "    \"\"\"Aggregate over seeds for each trial using group_by_dynamic.\"\"\"\n",
    "    # Note: without group_by_dynamic, this would be something like\n",
    "    # >>> df.with_columns(\n",
    "    # >>>     [(col(\"zeroed_timestamp\") // 1000).cast(pl.Int32).alias(\"time_bin\")]\n",
    "    # >>>     )\n",
    "    # >>>     .group_by([\"stimulus_seed\", \"time_bin\"])\n",
    "\n",
    "    # Select signals for the given modality\n",
    "    modality = modality.lower()\n",
    "    signals = [signal for signal in modality_map[modality] if signal in df.columns]\n",
    "\n",
    "    # Zero-based timestamp in milliseconds\n",
    "    df = _zero_based_timestamps(df)\n",
    "    # Add microsecond timestamp column for better precision as group_by_dynamic uses int\n",
    "    df = add_timestamp_μs_column(df, \"zeroed_timestamp\")\n",
    "    # Time binning\n",
    "    return (\n",
    "        (\n",
    "            df.sort(\"zeroed_timestamp_µs\")\n",
    "            .group_by_dynamic(\n",
    "                \"zeroed_timestamp_µs\",\n",
    "                every=f\"{int((1000 / (1/bin_size))*1000)}i\",\n",
    "                group_by=[\"stimulus_seed\"],\n",
    "            )\n",
    "            .agg(\n",
    "                # Average and standard deviation for each signal\n",
    "                [\n",
    "                    col(signal).mean().alias(f\"avg_{signal.lower()}\")\n",
    "                    for signal in signals\n",
    "                ]\n",
    "                + [\n",
    "                    col(signal).std().alias(f\"std_{signal.lower()}\")\n",
    "                    for signal in signals\n",
    "                ]\n",
    "                # Sample size for each bin\n",
    "                + [pl.len().alias(\"sample_size\")]\n",
    "                # TODO find out why the sample sizes are not constant\n",
    "            )\n",
    "        )\n",
    "        .with_columns((col(\"zeroed_timestamp_µs\") / 1_000_000).alias(\"time_bin\"))\n",
    "        .sort(\"stimulus_seed\", \"time_bin\")\n",
    "        # remove measures at exactly 180s so that they don't get their own bin\n",
    "        .filter(col(\"time_bin\") < 180)\n",
    "        .drop(\"zeroed_timestamp_µs\")\n",
    "    )\n",
    "\n",
    "\n",
    "def add_confidence_interval(\n",
    "    df: pl.DataFrame,\n",
    "    modality: str,\n",
    ") -> pl.DataFrame:\n",
    "    return df.with_columns(\n",
    "        [\n",
    "            (\n",
    "                col(f\"avg_{signal}\")\n",
    "                - 1.96 * (col(f\"std_{signal}\") / col(\"sample_size\").sqrt())\n",
    "            ).alias(f\"ci_lower_{signal}\")\n",
    "            for signal in modality_map[modality]\n",
    "        ]\n",
    "        + [\n",
    "            (\n",
    "                col(f\"avg_{signal}\")\n",
    "                + 1.96 * (col(f\"std_{signal}\") / col(\"sample_size\").sqrt())\n",
    "            ).alias(f\"ci_upper_{signal}\")\n",
    "            for signal in modality_map[modality]\n",
    "        ]\n",
    "    ).sort(\"stimulus_seed\", \"time_bin\")\n",
    "\n",
    "\n",
    "result = aggregate_over_seeds(df, bin_size=1, modality=\"eda\")\n",
    "# scale for better visualization, must come before adding confidence intervals\n",
    "result = scale_min_max(result, exclude_additional_columns=[\"time_bin\"])\n",
    "conf = add_confidence_interval(result, modality=\"eda\")\n",
    "conf"
   ]
  },
  {
   "cell_type": "code",
   "execution_count": null,
   "metadata": {},
   "outputs": [
    {
     "data": {
      "application/vnd.jupyter.widget-view+json": {
       "model_id": "e2997055a36347298094499e09910ac1",
       "version_major": 2,
       "version_minor": 0
      },
      "text/plain": [
       "BokehModel(combine_events=True, render_bundle={'docs_json': {'2b5090ee-7305-4c02-8d2e-63a24852eeed': {'version…"
      ]
     },
     "execution_count": 89,
     "metadata": {},
     "output_type": "execute_result"
    }
   ],
   "source": [
    "variables = modality_map[\"eda\"]\n",
    "\n",
    "all_plots = conf.plot(\n",
    "    x=\"time_bin\",\n",
    "    y=[f\"avg_{var}\" for var in variables],\n",
    "    groupby=\"stimulus_seed\",\n",
    "    kind=\"line\",\n",
    "    grid=True,\n",
    ")\n",
    "\n",
    "\n",
    "for var in variables:\n",
    "    all_plots *= conf.hvplot.area(\n",
    "        x=\"time_bin\",\n",
    "        y=f\"ci_lower_{var}\",\n",
    "        y2=f\"ci_upper_{var}\",\n",
    "        groupby=\"stimulus_seed\",\n",
    "        alpha=0.5,\n",
    "        line_width=0,\n",
    "        fill_color=\"lightblue\",\n",
    "        grid=True,\n",
    "    )\n",
    "\n",
    "all_plots\n"
   ]
  },
  {
   "cell_type": "code",
   "execution_count": null,
   "metadata": {},
   "outputs": [
    {
     "data": {
      "application/vnd.jupyter.widget-view+json": {
       "model_id": "0572992be11d412a8016acc948ae50ad",
       "version_major": 2,
       "version_minor": 0
      },
      "text/plain": [
       "BokehModel(combine_events=True, render_bundle={'docs_json': {'3c51fcff-5143-4469-999a-0288ac6b2197': {'version…"
      ]
     },
     "execution_count": 129,
     "metadata": {},
     "output_type": "execute_result"
    }
   ],
   "source": [
    "variables = modality_map[\"eda\"]\n",
    "\n",
    "all_plots = conf.plot(\n",
    "    x=\"time_bin\",\n",
    "    y=[f\"avg_{var}\" for var in variables],\n",
    "    groupby=\"stimulus_seed\",\n",
    "    kind=\"line\",\n",
    "    grid=True,\n",
    ")\n",
    "\n",
    "\n",
    "for var in variables:\n",
    "    all_plots *= conf.hvplot.area(\n",
    "        x=\"time_bin\",\n",
    "        y=f\"ci_lower_{var}\",\n",
    "        y2=f\"ci_upper_{var}\",\n",
    "        groupby=\"stimulus_seed\",\n",
    "        alpha=0.5,\n",
    "        line_width=0,\n",
    "        fill_color=\"lightblue\",\n",
    "        grid=True,\n",
    "    )\n",
    "\n",
    "\n",
    "all_plots *= stim.hvplot.area(\n",
    "    x=\"time_bin\",\n",
    "    y=\"ci_lower_rating\",\n",
    "    y2=\"ci_upper_rating\",\n",
    "    groupby=\"stimulus_seed\",\n",
    "    alpha=0.5,\n",
    "    line_width=0,\n",
    "    fill_color=\"yellow\",\n",
    "    grid=True,\n",
    ")\n",
    "\n",
    "all_plots * stim.plot(\n",
    "    x=\"time_bin\",\n",
    "    y=\"avg_rating\",\n",
    "    groupby=\"stimulus_seed\",\n",
    "    kind=\"line\",\n",
    "    grid=True,\n",
    ")\n"
   ]
  },
  {
   "cell_type": "code",
   "execution_count": null,
   "metadata": {},
   "outputs": [
    {
     "data": {
      "text/html": [
       "<div><style>\n",
       ".dataframe > thead > tr,\n",
       ".dataframe > tbody > tr {\n",
       "  text-align: right;\n",
       "  white-space: pre-wrap;\n",
       "}\n",
       "</style>\n",
       "<small>shape: (2_160, 11)</small><table border=\"1\" class=\"dataframe\"><thead><tr><th>stimulus_seed</th><th>avg_eda_tonic</th><th>avg_eda_phasic</th><th>std_eda_tonic</th><th>std_eda_phasic</th><th>sample_size</th><th>time_bin</th><th>ci_lower_eda_tonic</th><th>ci_lower_eda_phasic</th><th>ci_upper_eda_tonic</th><th>ci_upper_eda_phasic</th></tr><tr><td>u16</td><td>f64</td><td>f64</td><td>f64</td><td>f64</td><td>u32</td><td>f64</td><td>f64</td><td>f64</td><td>f64</td><td>f64</td></tr></thead><tbody><tr><td>133</td><td>0.811622</td><td>0.635856</td><td>0.609608</td><td>0.361577</td><td>280</td><td>0.0</td><td>0.740217</td><td>0.593504</td><td>0.883027</td><td>0.678209</td></tr><tr><td>133</td><td>0.811483</td><td>0.898172</td><td>0.601589</td><td>0.519109</td><td>280</td><td>1.0</td><td>0.741017</td><td>0.837368</td><td>0.881948</td><td>0.958977</td></tr><tr><td>133</td><td>0.808668</td><td>0.738668</td><td>0.591169</td><td>0.371447</td><td>280</td><td>2.0</td><td>0.739423</td><td>0.695159</td><td>0.877913</td><td>0.782176</td></tr><tr><td>133</td><td>0.803703</td><td>0.430211</td><td>0.579055</td><td>0.281552</td><td>280</td><td>3.0</td><td>0.735877</td><td>0.397232</td><td>0.871529</td><td>0.46319</td></tr><tr><td>133</td><td>0.798057</td><td>0.273332</td><td>0.567652</td><td>0.328337</td><td>280</td><td>4.0</td><td>0.731566</td><td>0.234873</td><td>0.864547</td><td>0.311791</td></tr><tr><td>133</td><td>0.79298</td><td>0.242776</td><td>0.558477</td><td>0.338503</td><td>280</td><td>5.0</td><td>0.727565</td><td>0.203126</td><td>0.858396</td><td>0.282426</td></tr><tr><td>&hellip;</td><td>&hellip;</td><td>&hellip;</td><td>&hellip;</td><td>&hellip;</td><td>&hellip;</td><td>&hellip;</td><td>&hellip;</td><td>&hellip;</td><td>&hellip;</td><td>&hellip;</td></tr><tr><td>952</td><td>0.272081</td><td>0.501009</td><td>0.635495</td><td>0.167498</td><td>280</td><td>174.0</td><td>0.197643</td><td>0.481389</td><td>0.346518</td><td>0.520628</td></tr><tr><td>952</td><td>0.261934</td><td>0.485828</td><td>0.620165</td><td>0.063436</td><td>280</td><td>175.0</td><td>0.189293</td><td>0.478398</td><td>0.334576</td><td>0.493259</td></tr><tr><td>952</td><td>0.254477</td><td>0.474188</td><td>0.608833</td><td>0.00555</td><td>280</td><td>176.0</td><td>0.183163</td><td>0.473538</td><td>0.325791</td><td>0.474838</td></tr><tr><td>952</td><td>0.24954</td><td>0.467745</td><td>0.601325</td><td>0.006057</td><td>280</td><td>177.0</td><td>0.179105</td><td>0.467036</td><td>0.319975</td><td>0.468455</td></tr><tr><td>952</td><td>0.246914</td><td>0.458054</td><td>0.597364</td><td>0.03175</td><td>280</td><td>178.0</td><td>0.176943</td><td>0.454335</td><td>0.316885</td><td>0.461773</td></tr><tr><td>952</td><td>0.245996</td><td>0.453586</td><td>0.595976</td><td>0.037131</td><td>280</td><td>179.0</td><td>0.176188</td><td>0.449237</td><td>0.315804</td><td>0.457935</td></tr></tbody></table></div>"
      ],
      "text/plain": [
       "shape: (2_160, 11)\n",
       "┌───────────┬───────────┬───────────┬───────────┬───┬───────────┬───────────┬───────────┬──────────┐\n",
       "│ stimulus_ ┆ avg_eda_t ┆ avg_eda_p ┆ std_eda_t ┆ … ┆ ci_lower_ ┆ ci_lower_ ┆ ci_upper_ ┆ ci_upper │\n",
       "│ seed      ┆ onic      ┆ hasic     ┆ onic      ┆   ┆ eda_tonic ┆ eda_phasi ┆ eda_tonic ┆ _eda_pha │\n",
       "│ ---       ┆ ---       ┆ ---       ┆ ---       ┆   ┆ ---       ┆ c         ┆ ---       ┆ sic      │\n",
       "│ u16       ┆ f64       ┆ f64       ┆ f64       ┆   ┆ f64       ┆ ---       ┆ f64       ┆ ---      │\n",
       "│           ┆           ┆           ┆           ┆   ┆           ┆ f64       ┆           ┆ f64      │\n",
       "╞═══════════╪═══════════╪═══════════╪═══════════╪═══╪═══════════╪═══════════╪═══════════╪══════════╡\n",
       "│ 133       ┆ 0.811622  ┆ 0.635856  ┆ 0.609608  ┆ … ┆ 0.740217  ┆ 0.593504  ┆ 0.883027  ┆ 0.678209 │\n",
       "│ 133       ┆ 0.811483  ┆ 0.898172  ┆ 0.601589  ┆ … ┆ 0.741017  ┆ 0.837368  ┆ 0.881948  ┆ 0.958977 │\n",
       "│ 133       ┆ 0.808668  ┆ 0.738668  ┆ 0.591169  ┆ … ┆ 0.739423  ┆ 0.695159  ┆ 0.877913  ┆ 0.782176 │\n",
       "│ 133       ┆ 0.803703  ┆ 0.430211  ┆ 0.579055  ┆ … ┆ 0.735877  ┆ 0.397232  ┆ 0.871529  ┆ 0.46319  │\n",
       "│ 133       ┆ 0.798057  ┆ 0.273332  ┆ 0.567652  ┆ … ┆ 0.731566  ┆ 0.234873  ┆ 0.864547  ┆ 0.311791 │\n",
       "│ 133       ┆ 0.79298   ┆ 0.242776  ┆ 0.558477  ┆ … ┆ 0.727565  ┆ 0.203126  ┆ 0.858396  ┆ 0.282426 │\n",
       "│ …         ┆ …         ┆ …         ┆ …         ┆ … ┆ …         ┆ …         ┆ …         ┆ …        │\n",
       "│ 952       ┆ 0.272081  ┆ 0.501009  ┆ 0.635495  ┆ … ┆ 0.197643  ┆ 0.481389  ┆ 0.346518  ┆ 0.520628 │\n",
       "│ 952       ┆ 0.261934  ┆ 0.485828  ┆ 0.620165  ┆ … ┆ 0.189293  ┆ 0.478398  ┆ 0.334576  ┆ 0.493259 │\n",
       "│ 952       ┆ 0.254477  ┆ 0.474188  ┆ 0.608833  ┆ … ┆ 0.183163  ┆ 0.473538  ┆ 0.325791  ┆ 0.474838 │\n",
       "│ 952       ┆ 0.24954   ┆ 0.467745  ┆ 0.601325  ┆ … ┆ 0.179105  ┆ 0.467036  ┆ 0.319975  ┆ 0.468455 │\n",
       "│ 952       ┆ 0.246914  ┆ 0.458054  ┆ 0.597364  ┆ … ┆ 0.176943  ┆ 0.454335  ┆ 0.316885  ┆ 0.461773 │\n",
       "│ 952       ┆ 0.245996  ┆ 0.453586  ┆ 0.595976  ┆ … ┆ 0.176188  ┆ 0.449237  ┆ 0.315804  ┆ 0.457935 │\n",
       "└───────────┴───────────┴───────────┴───────────┴───┴───────────┴───────────┴───────────┴──────────┘"
      ]
     },
     "execution_count": 95,
     "metadata": {},
     "output_type": "execute_result"
    }
   ],
   "source": [
    "stim"
   ]
  },
  {
   "cell_type": "code",
   "execution_count": null,
   "metadata": {},
   "outputs": [],
   "source": []
  },
  {
   "cell_type": "code",
   "execution_count": null,
   "metadata": {},
   "outputs": [],
   "source": []
  }
 ],
 "metadata": {
  "kernelspec": {
   "display_name": "pain",
   "language": "python",
   "name": "python3"
  },
  "language_info": {
   "codemirror_mode": {
    "name": "ipython",
    "version": 3
   },
   "file_extension": ".py",
   "mimetype": "text/x-python",
   "name": "python",
   "nbconvert_exporter": "python",
   "pygments_lexer": "ipython3",
   "version": "3.12.4"
  }
 },
 "nbformat": 4,
 "nbformat_minor": 2
}
