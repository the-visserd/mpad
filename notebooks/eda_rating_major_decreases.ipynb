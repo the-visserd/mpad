{
    "cells": [
        {
            "cell_type": "code",
            "execution_count": 2,
            "metadata": {},
            "outputs": [],
            "source": [
                "%%capture\n",
                "from pathlib import Path\n",
                "\n",
                "if Path.cwd().stem == \"notebooks\":\n",
                "    %cd ..\n",
                "    %load_ext autoreload\n",
                "    %autoreload 2"
            ]
        },
        {
            "cell_type": "code",
            "execution_count": 3,
            "metadata": {},
            "outputs": [],
            "source": [
                "import logging\n",
                "\n",
                "import holoviews as hv\n",
                "import hvplot.polars  # noqa\n",
                "import matplotlib.pyplot as plt\n",
                "import polars as pl\n",
                "from polars import col\n",
                "\n",
                "from src.data.database_manager import DatabaseManager\n",
                "from src.log_config import configure_logging\n",
                "from src.visualization.utils import prepare_multiline_hvplot\n",
                "\n",
                "configure_logging(stream_level=logging.DEBUG, ignore_libs=(\"Comm\", \"bokeh\", \"tornado\"))\n",
                "logger = logging.getLogger(__name__.rsplit(\".\", maxsplit=1)[-1])\n",
                "\n",
                "\n",
                "hv.output(widget_location=\"bottom\", size=130)"
            ]
        },
        {
            "cell_type": "code",
            "execution_count": 3,
            "metadata": {},
            "outputs": [],
            "source": [
                "db = DatabaseManager()"
            ]
        },
        {
            "cell_type": "code",
            "execution_count": 4,
            "metadata": {},
            "outputs": [
                {
                    "ename": "AttributeError",
                    "evalue": "'DatabaseManager' object has no attribute 'conn'",
                    "output_type": "error",
                    "traceback": [
                        "\u001b[0;31m---------------------------------------------------------------------------\u001b[0m",
                        "\u001b[0;31mAttributeError\u001b[0m                            Traceback (most recent call last)",
                        "Cell \u001b[0;32mIn[4], line 60\u001b[0m\n\u001b[1;32m      1\u001b[0m query \u001b[38;5;241m=\u001b[39m \u001b[38;5;124m\"\"\"\u001b[39m\n\u001b[1;32m      2\u001b[0m \u001b[38;5;124m-- Collect all relevant information in a temporary table\u001b[39m\n\u001b[1;32m      3\u001b[0m \u001b[38;5;124mCREATE OR REPLACE TEMPORARY TABLE temp_joined AS\u001b[39m\n\u001b[0;32m   (...)\u001b[0m\n\u001b[1;32m     58\u001b[0m \u001b[38;5;124m;\u001b[39m\n\u001b[1;32m     59\u001b[0m \u001b[38;5;124m\"\"\"\u001b[39m\n\u001b[0;32m---> 60\u001b[0m \u001b[38;5;28;43;01mwith\u001b[39;49;00m\u001b[43m \u001b[49m\u001b[43mdb\u001b[49m\u001b[43m:\u001b[49m\n\u001b[1;32m     61\u001b[0m \u001b[43m    \u001b[49m\u001b[43mdf\u001b[49m\u001b[43m \u001b[49m\u001b[38;5;241;43m=\u001b[39;49m\u001b[43m \u001b[49m\u001b[43mdb\u001b[49m\u001b[38;5;241;43m.\u001b[39;49m\u001b[43mexecute\u001b[49m\u001b[43m(\u001b[49m\u001b[43mquery\u001b[49m\u001b[43m)\u001b[49m\u001b[38;5;241;43m.\u001b[39;49m\u001b[43mpl\u001b[49m\u001b[43m(\u001b[49m\u001b[43m)\u001b[49m\n\u001b[1;32m     62\u001b[0m df\n",
                        "File \u001b[0;32m~/Dropbox/PhD/Code/pain-measurement/src/data/database_manager.py:133\u001b[0m, in \u001b[0;36mDatabaseManager.__enter__\u001b[0;34m(self)\u001b[0m\n\u001b[1;32m    132\u001b[0m \u001b[38;5;28;01mdef\u001b[39;00m \u001b[38;5;21m__enter__\u001b[39m(\u001b[38;5;28mself\u001b[39m):\n\u001b[0;32m--> 133\u001b[0m     \u001b[38;5;28;01mif\u001b[39;00m \u001b[38;5;129;01mnot\u001b[39;00m \u001b[38;5;28;43mself\u001b[39;49m\u001b[38;5;241;43m.\u001b[39;49m\u001b[43mconn\u001b[49m:\n\u001b[1;32m    134\u001b[0m         \u001b[38;5;28mself\u001b[39m\u001b[38;5;241m.\u001b[39mconnect()\n",
                        "\u001b[0;31mAttributeError\u001b[0m: 'DatabaseManager' object has no attribute 'conn'"
                    ]
                }
            ],
            "source": [
                "query = \"\"\"\n",
                "-- Collect all relevant information in a temporary table\n",
                "CREATE OR REPLACE TEMPORARY TABLE temp_joined AS\n",
                "SELECT \n",
                "    t.trial_id,\n",
                "    t.stimulus_seed,\n",
                "    t.participant_id,\n",
                "    s.major_decreasing_intervals,\n",
                "    rs.timestamp-t.timestamp_start as normalized_timestamp,\n",
                "    rs.temperature,\n",
                "    rs.rating\n",
                "FROM \n",
                "    Trials t\n",
                "    JOIN Seeds s ON t.stimulus_seed = s.seed\n",
                "    JOIN Raw_Stimulus rs ON t.trial_id = rs.trial_id\n",
                "WHERE t.participant_id != 5 -- exclude participant 5  (incomplete data, TODO)\n",
                "ORDER BY t.trial_id, normalized_timestamp;\n",
                "from temp_joined\n",
                ";\n",
                "\n",
                "\n",
                "-- Create a temporary table with interval IDs and normalized normalized_timestamp\n",
                "CREATE OR REPLACE TEMPORARY TABLE tmp AS\n",
                "WITH interval_ids AS (\n",
                "  SELECT \n",
                "    *,\n",
                "    ROW_NUMBER() OVER (PARTITION BY trial_id ORDER BY interval[1]) AS trial_specific_interval_id,\n",
                "    ROW_NUMBER() OVER (ORDER BY trial_id, interval[1]) AS continuous_interval_id\n",
                "  FROM (\n",
                "    SELECT DISTINCT trial_id, unnest(major_decreasing_intervals) AS interval\n",
                "    FROM temp_joined\n",
                "  ) t\n",
                "),\n",
                "intervals_with_start_time AS (\n",
                "  SELECT \n",
                "    tj.*,\n",
                "    i.trial_specific_interval_id,\n",
                "    i.continuous_interval_id,\n",
                "    FIRST_VALUE(tj.normalized_timestamp) OVER (\n",
                "      PARTITION BY tj.trial_id, i.continuous_interval_id \n",
                "      ORDER BY tj.normalized_timestamp\n",
                "    ) AS interval_start_time\n",
                "  FROM temp_joined tj\n",
                "  JOIN interval_ids i ON \n",
                "    tj.trial_id = i.trial_id AND\n",
                "    tj.normalized_timestamp >= i.interval[1] AND \n",
                "    tj.normalized_timestamp <= i.interval[2]\n",
                ")\n",
                "SELECT \n",
                "  *,\n",
                "  normalized_timestamp - interval_start_time AS normalized_time  -- rename stuff TODO\n",
                "FROM intervals_with_start_time\n",
                "ORDER BY participant_id, trial_id, normalized_timestamp;\n",
                "\n",
                "-- Query from the temporary table\n",
                "SELECT * EXCLUDE (major_decreasing_intervals) FROM tmp\n",
                "ORDER BY participant_id, trial_id, normalized_timestamp;\n",
                ";\n",
                "\"\"\"\n",
                "with db:\n",
                "    df = db.execute(query).pl()\n",
                "df"
            ]
        },
        {
            "cell_type": "code",
            "execution_count": null,
            "metadata": {},
            "outputs": [],
            "source": [
                "df = prepare_multiline_hvplot(df, \"normalized_time\", \"continuous_interval_id\")"
            ]
        },
        {
            "cell_type": "code",
            "execution_count": null,
            "metadata": {},
            "outputs": [
                {
                    "data": {
                        "application/vnd.jupyter.widget-view+json": {
                            "model_id": "f558a92cead447d38cd2a538ffa7d7ff",
                            "version_major": 2,
                            "version_minor": 0
                        },
                        "text/plain": [
                            "BokehModel(combine_events=True, render_bundle={'docs_json': {'8b62c744-c134-42d1-aafc-297167a8911d': {'version…"
                        ]
                    },
                    "execution_count": 6,
                    "metadata": {},
                    "output_type": "execute_result"
                }
            ],
            "source": [
                "df.hvplot(\n",
                "    x=\"normalized_time\",\n",
                "    y=[\"rating\"],\n",
                "    ylim=(0, 100),\n",
                "    groupby=\"participant_id\",\n",
                "    kind=\"step\",\n",
                "    width=800,\n",
                "    height=400,\n",
                "    widget_type=\"scrubber\",\n",
                "    widget_location=\"bottom\",\n",
                ")"
            ]
        },
        {
            "cell_type": "code",
            "execution_count": null,
            "metadata": {},
            "outputs": [
                {
                    "data": {
                        "application/vnd.jupyter.widget-view+json": {
                            "model_id": "1747975091564e70b5b68f04fd22b6f0",
                            "version_major": 2,
                            "version_minor": 0
                        },
                        "text/plain": [
                            "BokehModel(combine_events=True, render_bundle={'docs_json': {'20569c8e-82e2-4503-ae53-4933a5c34517': {'version…"
                        ]
                    },
                    "execution_count": 7,
                    "metadata": {},
                    "output_type": "execute_result"
                }
            ],
            "source": [
                "df.hvplot(\n",
                "    x=\"normalized_time\",\n",
                "    y=[\"rating\"],\n",
                "    ylim=(0, 100),\n",
                "    groupby=[\"stimulus_seed\", \"trial_specific_interval_id\"],\n",
                "    kind=\"step\",\n",
                ")"
            ]
        },
        {
            "cell_type": "code",
            "execution_count": null,
            "metadata": {},
            "outputs": [
                {
                    "data": {
                        "text/html": [
                            "<div><style>\n",
                            ".dataframe > thead > tr,\n",
                            ".dataframe > tbody > tr {\n",
                            "  text-align: right;\n",
                            "  white-space: pre-wrap;\n",
                            "}\n",
                            "</style>\n",
                            "<small>shape: (192_962, 10)</small><table border=\"1\" class=\"dataframe\"><thead><tr><th>trial_id</th><th>stimulus_seed</th><th>participant_id</th><th>normalized_timestamp</th><th>temperature</th><th>rating</th><th>trial_specific_interval_id</th><th>continuous_interval_id</th><th>interval_start_time</th><th>normalized_time</th></tr><tr><td>u16</td><td>u16</td><td>u16</td><td>f64</td><td>f64</td><td>f64</td><td>i64</td><td>i64</td><td>f64</td><td>f64</td></tr></thead><tbody><tr><td>1</td><td>396</td><td>1</td><td>69035.6035</td><td>47.184339</td><td>100.0</td><td>1</td><td>1</td><td>69035.6035</td><td>0.0</td></tr><tr><td>1</td><td>396</td><td>1</td><td>69134.3401</td><td>47.184253</td><td>100.0</td><td>1</td><td>1</td><td>69035.6035</td><td>98.7366</td></tr><tr><td>1</td><td>396</td><td>1</td><td>69235.0699</td><td>47.183993</td><td>100.0</td><td>1</td><td>1</td><td>69035.6035</td><td>199.4664</td></tr><tr><td>1</td><td>396</td><td>1</td><td>69336.8015</td><td>47.183561</td><td>100.0</td><td>1</td><td>1</td><td>69035.6035</td><td>301.198</td></tr><tr><td>1</td><td>396</td><td>1</td><td>69436.5315</td><td>47.182956</td><td>100.0</td><td>1</td><td>1</td><td>69035.6035</td><td>400.928</td></tr><tr><td>&hellip;</td><td>&hellip;</td><td>&hellip;</td><td>&hellip;</td><td>&hellip;</td><td>&hellip;</td><td>&hellip;</td><td>&hellip;</td><td>&hellip;</td><td>&hellip;</td></tr><tr><td>332</td><td>133</td><td>28</td><td>166615.0306</td><td>45.459782</td><td>60.0</td><td>3</td><td>960</td><td>147032.6267</td><td>19582.4039</td></tr><tr><td>332</td><td>133</td><td>28</td><td>166714.7639</td><td>45.45935</td><td>60.0</td><td>3</td><td>960</td><td>147032.6267</td><td>19682.1372</td></tr><tr><td>332</td><td>133</td><td>28</td><td>166815.4953</td><td>45.459091</td><td>60.0</td><td>3</td><td>960</td><td>147032.6267</td><td>19782.8686</td></tr><tr><td>332</td><td>133</td><td>28</td><td>166915.2289</td><td>45.459004</td><td>60.0</td><td>3</td><td>960</td><td>147032.6267</td><td>19882.6022</td></tr><tr><td>332</td><td>133</td><td>28</td><td>NaN</td><td>NaN</td><td>NaN</td><td>3</td><td>960</td><td>NaN</td><td>NaN</td></tr></tbody></table></div>"
                        ],
                        "text/plain": [
                            "shape: (192_962, 10)\n",
                            "┌──────────┬───────────┬───────────┬───────────┬───┬───────────┬───────────┬───────────┬───────────┐\n",
                            "│ trial_id ┆ stimulus_ ┆ participa ┆ normalize ┆ … ┆ trial_spe ┆ continuou ┆ interval_ ┆ normalize │\n",
                            "│ ---      ┆ seed      ┆ nt_id     ┆ d_timesta ┆   ┆ cific_int ┆ s_interva ┆ start_tim ┆ d_time    │\n",
                            "│ u16      ┆ ---       ┆ ---       ┆ mp        ┆   ┆ erval_id  ┆ l_id      ┆ e         ┆ ---       │\n",
                            "│          ┆ u16       ┆ u16       ┆ ---       ┆   ┆ ---       ┆ ---       ┆ ---       ┆ f64       │\n",
                            "│          ┆           ┆           ┆ f64       ┆   ┆ i64       ┆ i64       ┆ f64       ┆           │\n",
                            "╞══════════╪═══════════╪═══════════╪═══════════╪═══╪═══════════╪═══════════╪═══════════╪═══════════╡\n",
                            "│ 1        ┆ 396       ┆ 1         ┆ 69035.603 ┆ … ┆ 1         ┆ 1         ┆ 69035.603 ┆ 0.0       │\n",
                            "│          ┆           ┆           ┆ 5         ┆   ┆           ┆           ┆ 5         ┆           │\n",
                            "│ 1        ┆ 396       ┆ 1         ┆ 69134.340 ┆ … ┆ 1         ┆ 1         ┆ 69035.603 ┆ 98.7366   │\n",
                            "│          ┆           ┆           ┆ 1         ┆   ┆           ┆           ┆ 5         ┆           │\n",
                            "│ 1        ┆ 396       ┆ 1         ┆ 69235.069 ┆ … ┆ 1         ┆ 1         ┆ 69035.603 ┆ 199.4664  │\n",
                            "│          ┆           ┆           ┆ 9         ┆   ┆           ┆           ┆ 5         ┆           │\n",
                            "│ 1        ┆ 396       ┆ 1         ┆ 69336.801 ┆ … ┆ 1         ┆ 1         ┆ 69035.603 ┆ 301.198   │\n",
                            "│          ┆           ┆           ┆ 5         ┆   ┆           ┆           ┆ 5         ┆           │\n",
                            "│ 1        ┆ 396       ┆ 1         ┆ 69436.531 ┆ … ┆ 1         ┆ 1         ┆ 69035.603 ┆ 400.928   │\n",
                            "│          ┆           ┆           ┆ 5         ┆   ┆           ┆           ┆ 5         ┆           │\n",
                            "│ …        ┆ …         ┆ …         ┆ …         ┆ … ┆ …         ┆ …         ┆ …         ┆ …         │\n",
                            "│ 332      ┆ 133       ┆ 28        ┆ 166615.03 ┆ … ┆ 3         ┆ 960       ┆ 147032.62 ┆ 19582.403 │\n",
                            "│          ┆           ┆           ┆ 06        ┆   ┆           ┆           ┆ 67        ┆ 9         │\n",
                            "│ 332      ┆ 133       ┆ 28        ┆ 166714.76 ┆ … ┆ 3         ┆ 960       ┆ 147032.62 ┆ 19682.137 │\n",
                            "│          ┆           ┆           ┆ 39        ┆   ┆           ┆           ┆ 67        ┆ 2         │\n",
                            "│ 332      ┆ 133       ┆ 28        ┆ 166815.49 ┆ … ┆ 3         ┆ 960       ┆ 147032.62 ┆ 19782.868 │\n",
                            "│          ┆           ┆           ┆ 53        ┆   ┆           ┆           ┆ 67        ┆ 6         │\n",
                            "│ 332      ┆ 133       ┆ 28        ┆ 166915.22 ┆ … ┆ 3         ┆ 960       ┆ 147032.62 ┆ 19882.602 │\n",
                            "│          ┆           ┆           ┆ 89        ┆   ┆           ┆           ┆ 67        ┆ 2         │\n",
                            "│ 332      ┆ 133       ┆ 28        ┆ NaN       ┆ … ┆ 3         ┆ 960       ┆ NaN       ┆ NaN       │\n",
                            "└──────────┴───────────┴───────────┴───────────┴───┴───────────┴───────────┴───────────┴───────────┘"
                        ]
                    },
                    "execution_count": 8,
                    "metadata": {},
                    "output_type": "execute_result"
                }
            ],
            "source": [
                "df"
            ]
        },
        {
            "cell_type": "code",
            "execution_count": null,
            "metadata": {},
            "outputs": [
                {
                    "data": {
                        "text/html": [
                            "<div><style>\n",
                            ".dataframe > thead > tr,\n",
                            ".dataframe > tbody > tr {\n",
                            "  text-align: right;\n",
                            "  white-space: pre-wrap;\n",
                            "}\n",
                            "</style>\n",
                            "<small>shape: (428, 3)</small><table border=\"1\" class=\"dataframe\"><thead><tr><th>continuous_interval_id</th><th>min_rating</th><th>max_rating</th></tr><tr><td>i64</td><td>f64</td><td>f64</td></tr></thead><tbody><tr><td>1</td><td>0.0</td><td>100.0</td></tr><tr><td>2</td><td>0.0</td><td>100.0</td></tr><tr><td>4</td><td>0.0</td><td>100.0</td></tr><tr><td>5</td><td>0.0</td><td>100.0</td></tr><tr><td>6</td><td>0.0</td><td>100.0</td></tr><tr><td>&hellip;</td><td>&hellip;</td><td>&hellip;</td></tr><tr><td>888</td><td>0.0</td><td>100.0</td></tr><tr><td>919</td><td>0.0</td><td>100.0</td></tr><tr><td>939</td><td>0.0</td><td>100.0</td></tr><tr><td>945</td><td>0.0</td><td>100.0</td></tr><tr><td>947</td><td>0.0</td><td>100.0</td></tr></tbody></table></div>"
                        ],
                        "text/plain": [
                            "shape: (428, 3)\n",
                            "┌────────────────────────┬────────────┬────────────┐\n",
                            "│ continuous_interval_id ┆ min_rating ┆ max_rating │\n",
                            "│ ---                    ┆ ---        ┆ ---        │\n",
                            "│ i64                    ┆ f64        ┆ f64        │\n",
                            "╞════════════════════════╪════════════╪════════════╡\n",
                            "│ 1                      ┆ 0.0        ┆ 100.0      │\n",
                            "│ 2                      ┆ 0.0        ┆ 100.0      │\n",
                            "│ 4                      ┆ 0.0        ┆ 100.0      │\n",
                            "│ 5                      ┆ 0.0        ┆ 100.0      │\n",
                            "│ 6                      ┆ 0.0        ┆ 100.0      │\n",
                            "│ …                      ┆ …          ┆ …          │\n",
                            "│ 888                    ┆ 0.0        ┆ 100.0      │\n",
                            "│ 919                    ┆ 0.0        ┆ 100.0      │\n",
                            "│ 939                    ┆ 0.0        ┆ 100.0      │\n",
                            "│ 945                    ┆ 0.0        ┆ 100.0      │\n",
                            "│ 947                    ┆ 0.0        ┆ 100.0      │\n",
                            "└────────────────────────┴────────────┴────────────┘"
                        ]
                    },
                    "execution_count": 9,
                    "metadata": {},
                    "output_type": "execute_result"
                }
            ],
            "source": [
                "# filter all intervals out that do not cover the whole rating spectrum ranging from 0 to 100\n",
                "agg_ratings = df.group_by(\"continuous_interval_id\", maintain_order=True).agg(\n",
                "    min_rating=col(\"rating\").min(),\n",
                "    max_rating=col(\"rating\").max(),\n",
                ")\n",
                "agg_ratings\n",
                "\n",
                "agg_ratings = agg_ratings.filter(col(\"min_rating\") == 0).filter(\n",
                "    col(\"max_rating\") == 100\n",
                ")\n",
                "agg_ratings"
            ]
        },
        {
            "cell_type": "code",
            "execution_count": null,
            "metadata": {},
            "outputs": [],
            "source": []
        }
    ],
    "metadata": {
        "kernelspec": {
            "display_name": "pain",
            "language": "python",
            "name": "python3"
        },
        "language_info": {
            "codemirror_mode": {
                "name": "ipython",
                "version": 3
            },
            "file_extension": ".py",
            "mimetype": "text/x-python",
            "name": "python",
            "nbconvert_exporter": "python",
            "pygments_lexer": "ipython3",
            "version": "3.12.4"
        }
    },
    "nbformat": 4,
    "nbformat_minor": 2
}
