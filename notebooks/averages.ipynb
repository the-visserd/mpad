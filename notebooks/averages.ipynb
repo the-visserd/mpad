{
    "cells": [
        {
            "cell_type": "code",
            "execution_count": 1,
            "metadata": {},
            "outputs": [],
            "source": [
                "%%capture\n",
                "from pathlib import Path\n",
                "\n",
                "if Path.cwd().stem == \"notebooks\":\n",
                "    %cd ..\n",
                "    %load_ext autoreload\n",
                "    %autoreload 2"
            ]
        },
        {
            "cell_type": "code",
            "execution_count": null,
            "metadata": {},
            "outputs": [],
            "source": [
                "import logging\n",
                "\n",
                "import holoviews as hv\n",
                "import hvplot.polars  # noqa\n",
                "import matplotlib.pyplot as plt\n",
                "import numpy as np\n",
                "import polars as pl\n",
                "import scipy.signal as signal\n",
                "\n",
                "from src.data.database_manager import DatabaseManager\n",
                "from src.features.scaling import scale_min_max\n",
                "from src.log_config import configure_logging\n",
                "from src.plots.averages import (\n",
                "    add_ci_to_averages,\n",
                "    average_over_stimulus_seeds,\n",
                "    calculate_max_crosscorr_lag_over_averages,\n",
                "    plot_averages_with_ci,\n",
                ")\n",
                "\n",
                "logger = logging.getLogger(__name__)\n",
                "\n",
                "configure_logging(\n",
                "    ignore_libs=(\"Comm\", \"bokeh\", \"tornado\", \"matplotlib\"),\n",
                ")\n",
                "\n",
                "pl.Config.set_tbl_rows(12)  # for 12 seeds\n",
                "hv.output(widget_location=\"bottom\", size=150)"
            ]
        },
        {
            "cell_type": "code",
            "execution_count": 18,
            "metadata": {},
            "outputs": [],
            "source": [
                "db = DatabaseManager()"
            ]
        },
        {
            "cell_type": "code",
            "execution_count": 19,
            "metadata": {},
            "outputs": [
                {
                    "data": {
                        "text/html": [
                            "<div><style>\n",
                            ".dataframe > thead > tr,\n",
                            ".dataframe > tbody > tr {\n",
                            "  text-align: right;\n",
                            "  white-space: pre-wrap;\n",
                            "}\n",
                            "</style>\n",
                            "<small>shape: (819_455, 33)</small><table border=\"1\" class=\"dataframe\"><thead><tr><th>trial_id</th><th>trial_number</th><th>participant_id</th><th>timestamp</th><th>temperature</th><th>rating</th><th>eda_raw</th><th>eda_tonic</th><th>eda_phasic</th><th>ppg_raw</th><th>ppg_ibi_shimmer</th><th>heartrate</th><th>pupil_l_raw</th><th>pupil_r_raw</th><th>pupil_r</th><th>pupil_l</th><th>pupil_mean</th><th>pupil_mean_tonic</th><th>brow_furrow</th><th>cheek_raise</th><th>mouth_open</th><th>upper_lip_raise</th><th>nose_wrinkle</th><th>normalized_timestamp</th><th>stimulus_seed</th><th>skin_patch</th><th>decreasing_intervals</th><th>major_decreasing_intervals</th><th>increasing_intervals</th><th>strictly_increasing_intervals</th><th>strictly_increasing_intervals_without_plateaus</th><th>plateau_intervals</th><th>prolonged_minima_intervals</th></tr><tr><td>u16</td><td>u8</td><td>u8</td><td>f64</td><td>f64</td><td>f64</td><td>f64</td><td>f64</td><td>f64</td><td>f64</td><td>f64</td><td>f64</td><td>f64</td><td>f64</td><td>f64</td><td>f64</td><td>f64</td><td>f64</td><td>f64</td><td>f64</td><td>f64</td><td>f64</td><td>f64</td><td>f64</td><td>u16</td><td>u8</td><td>u16</td><td>u16</td><td>u16</td><td>u16</td><td>u16</td><td>u16</td><td>u16</td></tr></thead><tbody><tr><td>23</td><td>1</td><td>3</td><td>184809.3687</td><td>0.0</td><td>0.93625</td><td>3.855469</td><td>4.417003</td><td>-0.561535</td><td>1318.503562</td><td>-2.847329</td><td>69.330443</td><td>4.021351</td><td>4.492471</td><td>4.491222</td><td>4.022056</td><td>4.256639</td><td>4.309533</td><td>0.00008</td><td>0.00185</td><td>0.00251</td><td>0.0033</td><td>0.01223</td><td>0.0</td><td>658</td><td>1</td><td>0</td><td>0</td><td>111</td><td>111</td><td>67</td><td>0</td><td>0</td></tr><tr><td>23</td><td>1</td><td>3</td><td>184909.3687</td><td>0.000081</td><td>0.93625</td><td>3.87526</td><td>4.434407</td><td>-0.559147</td><td>1427.801949</td><td>-0.98335</td><td>69.314627</td><td>4.041885</td><td>4.502159</td><td>4.50269</td><td>4.0408</td><td>4.271745</td><td>4.316037</td><td>0.000037</td><td>0.000965</td><td>0.001661</td><td>0.001437</td><td>0.006411</td><td>100.0</td><td>658</td><td>1</td><td>0</td><td>0</td><td>111</td><td>111</td><td>67</td><td>0</td><td>0</td></tr><tr><td>23</td><td>1</td><td>3</td><td>185009.3687</td><td>0.000325</td><td>0.93625</td><td>3.897236</td><td>4.453884</td><td>-0.556648</td><td>1488.690007</td><td>0.783387</td><td>69.24965</td><td>4.059964</td><td>4.527155</td><td>4.527178</td><td>4.061328</td><td>4.294253</td><td>4.322598</td><td>0.000047</td><td>0.000486</td><td>0.001811</td><td>0.000719</td><td>0.006277</td><td>200.0</td><td>658</td><td>1</td><td>0</td><td>0</td><td>111</td><td>111</td><td>67</td><td>0</td><td>0</td></tr><tr><td>23</td><td>1</td><td>3</td><td>185109.3687</td><td>0.000887</td><td>0.93625</td><td>3.916581</td><td>4.472846</td><td>-0.556266</td><td>1459.485729</td><td>-5.07083</td><td>69.105468</td><td>4.087014</td><td>4.564178</td><td>4.563636</td><td>4.085616</td><td>4.324626</td><td>4.328764</td><td>0.00004</td><td>0.000528</td><td>0.000901</td><td>0.002076</td><td>0.006666</td><td>300.0</td><td>658</td><td>1</td><td>0</td><td>0</td><td>111</td><td>111</td><td>67</td><td>0</td><td>0</td></tr><tr><td>23</td><td>1</td><td>3</td><td>185209.3687</td><td>0.001743</td><td>0.93625</td><td>3.940876</td><td>4.489759</td><td>-0.548884</td><td>1433.276657</td><td>3.82947</td><td>68.885211</td><td>4.127938</td><td>4.581748</td><td>4.582575</td><td>4.12897</td><td>4.355773</td><td>4.334565</td><td>0.000049</td><td>0.000496</td><td>0.000628</td><td>0.001315</td><td>0.007096</td><td>400.0</td><td>658</td><td>1</td><td>0</td><td>0</td><td>111</td><td>111</td><td>67</td><td>0</td><td>0</td></tr><tr><td>23</td><td>1</td><td>3</td><td>185309.3687</td><td>0.0029</td><td>0.93625</td><td>3.973437</td><td>4.507247</td><td>-0.53381</td><td>1409.203397</td><td>-5.340423</td><td>68.558235</td><td>4.185911</td><td>4.589515</td><td>4.58934</td><td>4.186352</td><td>4.387846</td><td>4.339762</td><td>0.00001</td><td>0.000251</td><td>0.000542</td><td>0.000527</td><td>0.003068</td><td>500.0</td><td>658</td><td>1</td><td>0</td><td>0</td><td>111</td><td>111</td><td>67</td><td>0</td><td>0</td></tr><tr><td>&hellip;</td><td>&hellip;</td><td>&hellip;</td><td>&hellip;</td><td>&hellip;</td><td>&hellip;</td><td>&hellip;</td><td>&hellip;</td><td>&hellip;</td><td>&hellip;</td><td>&hellip;</td><td>&hellip;</td><td>&hellip;</td><td>&hellip;</td><td>&hellip;</td><td>&hellip;</td><td>&hellip;</td><td>&hellip;</td><td>&hellip;</td><td>&hellip;</td><td>&hellip;</td><td>&hellip;</td><td>&hellip;</td><td>&hellip;</td><td>&hellip;</td><td>&hellip;</td><td>&hellip;</td><td>&hellip;</td><td>&hellip;</td><td>&hellip;</td><td>&hellip;</td><td>&hellip;</td><td>&hellip;</td></tr><tr><td>513</td><td>12</td><td>50</td><td>2.6956e6</td><td>0.031312</td><td>0.0</td><td>26.688608</td><td>26.716225</td><td>0.003169</td><td>1323.813266</td><td>-5.036073</td><td>59.279672</td><td>5.166699</td><td>4.766597</td><td>4.768156</td><td>5.167254</td><td>4.967705</td><td>5.180142</td><td>0.000465</td><td>0.001124</td><td>0.007081</td><td>0.00022</td><td>0.004168</td><td>179500.0</td><td>806</td><td>1</td><td>2565</td><td>1539</td><td>0</td><td>0</td><td>0</td><td>0</td><td>0</td></tr><tr><td>513</td><td>12</td><td>50</td><td>2.6957e6</td><td>0.030874</td><td>0.0</td><td>26.68499</td><td>26.716212</td><td>0.000389</td><td>1244.871959</td><td>44.337204</td><td>58.673362</td><td>5.026438</td><td>4.683481</td><td>4.690238</td><td>5.025632</td><td>4.857935</td><td>5.174284</td><td>0.000698</td><td>0.000846</td><td>0.007044</td><td>0.000348</td><td>0.004289</td><td>179600.0</td><td>806</td><td>1</td><td>2565</td><td>1539</td><td>0</td><td>0</td><td>0</td><td>0</td><td>0</td></tr><tr><td>513</td><td>12</td><td>50</td><td>2.6958e6</td><td>0.030555</td><td>0.0</td><td>26.683944</td><td>26.716204</td><td>0.000132</td><td>1223.099413</td><td>55.805969</td><td>58.073701</td><td>4.929092</td><td>4.633568</td><td>4.655852</td><td>4.930955</td><td>4.793404</td><td>5.169684</td><td>0.001266</td><td>0.000706</td><td>0.011259</td><td>0.000379</td><td>0.006841</td><td>179700.0</td><td>806</td><td>1</td><td>2565</td><td>1539</td><td>0</td><td>0</td><td>0</td><td>0</td><td>0</td></tr><tr><td>513</td><td>12</td><td>50</td><td>2.6959e6</td><td>0.030355</td><td>0.0</td><td>26.67662</td><td>26.716199</td><td>-0.006472</td><td>1209.194684</td><td>3.987454</td><td>57.589289</td><td>4.892469</td><td>4.615016</td><td>4.639233</td><td>4.892883</td><td>4.766058</td><td>5.166363</td><td>0.000538</td><td>0.000713</td><td>0.007119</td><td>0.000194</td><td>0.004404</td><td>179800.0</td><td>806</td><td>1</td><td>2565</td><td>1539</td><td>0</td><td>0</td><td>0</td><td>0</td><td>0</td></tr><tr><td>513</td><td>12</td><td>50</td><td>2.6960e6</td><td>0.030266</td><td>0.0</td><td>26.673635</td><td>26.716196</td><td>-0.008718</td><td>1185.269861</td><td>-8.486648</td><td>57.260022</td><td>4.884521</td><td>4.629964</td><td>4.622166</td><td>4.886672</td><td>4.754419</td><td>5.164178</td><td>0.000372</td><td>0.00049</td><td>0.006667</td><td>0.000138</td><td>0.003204</td><td>179900.0</td><td>806</td><td>1</td><td>2565</td><td>1539</td><td>0</td><td>0</td><td>0</td><td>0</td><td>0</td></tr><tr><td>513</td><td>12</td><td>50</td><td>2.6961e6</td><td>0.030251</td><td>0.0</td><td>26.676667</td><td>26.716195</td><td>-0.005103</td><td>1176.373587</td><td>8.110077</td><td>57.105773</td><td>4.882422</td><td>4.648883</td><td>4.610538</td><td>4.884064</td><td>4.747301</td><td>5.16335</td><td>0.000121</td><td>0.00074</td><td>0.015191</td><td>0.000349</td><td>0.001363</td><td>180000.0</td><td>806</td><td>1</td><td>2565</td><td>1539</td><td>0</td><td>0</td><td>0</td><td>0</td><td>0</td></tr></tbody></table></div>"
                        ],
                        "text/plain": [
                            "shape: (819_455, 33)\n",
                            "┌──────────┬───────────┬───────────┬───────────┬───┬───────────┬───────────┬───────────┬───────────┐\n",
                            "│ trial_id ┆ trial_num ┆ participa ┆ timestamp ┆ … ┆ strictly_ ┆ strictly_ ┆ plateau_i ┆ prolonged │\n",
                            "│ ---      ┆ ber       ┆ nt_id     ┆ ---       ┆   ┆ increasin ┆ increasin ┆ ntervals  ┆ _minima_i │\n",
                            "│ u16      ┆ ---       ┆ ---       ┆ f64       ┆   ┆ g_interva ┆ g_interva ┆ ---       ┆ ntervals  │\n",
                            "│          ┆ u8        ┆ u8        ┆           ┆   ┆ ls        ┆ ls_…      ┆ u16       ┆ ---       │\n",
                            "│          ┆           ┆           ┆           ┆   ┆ ---       ┆ ---       ┆           ┆ u16       │\n",
                            "│          ┆           ┆           ┆           ┆   ┆ u16       ┆ u16       ┆           ┆           │\n",
                            "╞══════════╪═══════════╪═══════════╪═══════════╪═══╪═══════════╪═══════════╪═══════════╪═══════════╡\n",
                            "│ 23       ┆ 1         ┆ 3         ┆ 184809.36 ┆ … ┆ 111       ┆ 67        ┆ 0         ┆ 0         │\n",
                            "│          ┆           ┆           ┆ 87        ┆   ┆           ┆           ┆           ┆           │\n",
                            "│ 23       ┆ 1         ┆ 3         ┆ 184909.36 ┆ … ┆ 111       ┆ 67        ┆ 0         ┆ 0         │\n",
                            "│          ┆           ┆           ┆ 87        ┆   ┆           ┆           ┆           ┆           │\n",
                            "│ 23       ┆ 1         ┆ 3         ┆ 185009.36 ┆ … ┆ 111       ┆ 67        ┆ 0         ┆ 0         │\n",
                            "│          ┆           ┆           ┆ 87        ┆   ┆           ┆           ┆           ┆           │\n",
                            "│ 23       ┆ 1         ┆ 3         ┆ 185109.36 ┆ … ┆ 111       ┆ 67        ┆ 0         ┆ 0         │\n",
                            "│          ┆           ┆           ┆ 87        ┆   ┆           ┆           ┆           ┆           │\n",
                            "│ 23       ┆ 1         ┆ 3         ┆ 185209.36 ┆ … ┆ 111       ┆ 67        ┆ 0         ┆ 0         │\n",
                            "│          ┆           ┆           ┆ 87        ┆   ┆           ┆           ┆           ┆           │\n",
                            "│ 23       ┆ 1         ┆ 3         ┆ 185309.36 ┆ … ┆ 111       ┆ 67        ┆ 0         ┆ 0         │\n",
                            "│          ┆           ┆           ┆ 87        ┆   ┆           ┆           ┆           ┆           │\n",
                            "│ …        ┆ …         ┆ …         ┆ …         ┆ … ┆ …         ┆ …         ┆ …         ┆ …         │\n",
                            "│ 513      ┆ 12        ┆ 50        ┆ 2.6956e6  ┆ … ┆ 0         ┆ 0         ┆ 0         ┆ 0         │\n",
                            "│ 513      ┆ 12        ┆ 50        ┆ 2.6957e6  ┆ … ┆ 0         ┆ 0         ┆ 0         ┆ 0         │\n",
                            "│ 513      ┆ 12        ┆ 50        ┆ 2.6958e6  ┆ … ┆ 0         ┆ 0         ┆ 0         ┆ 0         │\n",
                            "│ 513      ┆ 12        ┆ 50        ┆ 2.6959e6  ┆ … ┆ 0         ┆ 0         ┆ 0         ┆ 0         │\n",
                            "│ 513      ┆ 12        ┆ 50        ┆ 2.6960e6  ┆ … ┆ 0         ┆ 0         ┆ 0         ┆ 0         │\n",
                            "│ 513      ┆ 12        ┆ 50        ┆ 2.6961e6  ┆ … ┆ 0         ┆ 0         ┆ 0         ┆ 0         │\n",
                            "└──────────┴───────────┴───────────┴───────────┴───┴───────────┴───────────┴───────────┴───────────┘"
                        ]
                    },
                    "execution_count": 19,
                    "metadata": {},
                    "output_type": "execute_result"
                }
            ],
            "source": [
                "# Get data\n",
                "with db:\n",
                "    df = db.get_table(\n",
                "        \"Merged_and_Labeled_Data\",\n",
                "        exclude_trials_with_measurement_problems=True,\n",
                "    )\n",
                "df"
            ]
        },
        {
            "cell_type": "code",
            "execution_count": 20,
            "metadata": {},
            "outputs": [],
            "source": [
                "signals = [\n",
                "    \"temperature\",\n",
                "    \"rating\",\n",
                "    \"heartrate\",\n",
                "    \"pupil_mean\",\n",
                "    \"pupil_mean_tonic\",\n",
                "    \"eda_tonic\",\n",
                "    \"eda_phasic\",\n",
                "]"
            ]
        },
        {
            "cell_type": "markdown",
            "metadata": {},
            "source": [
                "## Single trial"
            ]
        },
        {
            "cell_type": "code",
            "execution_count": 21,
            "metadata": {},
            "outputs": [
                {
                    "data": {
                        "application/vnd.jupyter.widget-view+json": {
                            "model_id": "8b4b6b3ae4cc4986b6730aaa62c083cc",
                            "version_major": 2,
                            "version_minor": 0
                        },
                        "text/plain": [
                            "BokehModel(combine_events=True, render_bundle={'docs_json': {'720e8035-fb5d-40e4-b7ee-03b85d1b7a45': {'version…"
                        ]
                    },
                    "execution_count": 21,
                    "metadata": {},
                    "output_type": "execute_result"
                }
            ],
            "source": [
                "scale_min_max(df).hvplot(x=\"timestamp\", y=signals, groupby=\"trial_id\", muted_alpha=0)"
            ]
        },
        {
            "cell_type": "markdown",
            "metadata": {},
            "source": [
                "## Averaged trials over stimulus seeds with confidence intervals"
            ]
        },
        {
            "cell_type": "code",
            "execution_count": 22,
            "metadata": {},
            "outputs": [
                {
                    "data": {
                        "application/vnd.jupyter.widget-view+json": {
                            "model_id": "ecde2b34574d4fd8bbee3485ef83b9a3",
                            "version_major": 2,
                            "version_minor": 0
                        },
                        "text/plain": [
                            "BokehModel(combine_events=True, render_bundle={'docs_json': {'a6b78d15-2b51-4e17-b54d-95d08bfd99cf': {'version…"
                        ]
                    },
                    "execution_count": 22,
                    "metadata": {},
                    "output_type": "execute_result"
                }
            ],
            "source": [
                "averages = average_over_stimulus_seeds(df, signals)\n",
                "conf = add_ci_to_averages(\n",
                "    averages,\n",
                "    signals,\n",
                "    confidence_level=0.95,\n",
                ")\n",
                "plot_averages_with_ci(\n",
                "    conf,\n",
                "    signals,\n",
                ")"
            ]
        },
        {
            "cell_type": "markdown",
            "metadata": {},
            "source": []
        },
        {
            "cell_type": "code",
            "execution_count": 29,
            "metadata": {},
            "outputs": [
                {
                    "name": "stdout",
                    "output_type": "stream",
                    "text": [
                        "14:30:01 | \u001b[92mINFO    \u001b[0m| averages | avg_temperature : avg_temperature | mean lag: 0.00, std lag: 0.00\n",
                        "14:30:01 | \u001b[92mINFO    \u001b[0m| averages | avg_temperature : avg_rating | mean lag: -0.64, std lag: 0.45\n",
                        "14:30:01 | \u001b[92mINFO    \u001b[0m| averages | avg_temperature : avg_heartrate | mean lag: 0.27, std lag: 2.10\n",
                        "14:30:01 | \u001b[92mINFO    \u001b[0m| averages | avg_temperature : avg_pupil_mean | mean lag: 1.31, std lag: 0.71\n",
                        "14:30:01 | \u001b[92mINFO    \u001b[0m| averages | avg_temperature : avg_pupil_mean_tonic | mean lag: 1.33, std lag: 0.72\n",
                        "14:30:01 | \u001b[92mINFO    \u001b[0m| averages | avg_temperature : avg_eda_tonic | mean lag: -0.11, std lag: 0.81\n",
                        "14:30:01 | \u001b[92mINFO    \u001b[0m| averages | avg_temperature : avg_eda_phasic | mean lag: -2.48, std lag: 0.90\n"
                    ]
                }
            ],
            "source": [
                "for sig in signals:\n",
                "    col1 = \"avg_temperature\"\n",
                "    col2 = f\"avg_{sig}\"\n",
                "    calculate_max_crosscorr_lag_over_averages(\n",
                "        averages,\n",
                "        col1,\n",
                "        col2,\n",
                "        fs=10,\n",
                "        plot=False,\n",
                "    )"
            ]
        },
        {
            "cell_type": "code",
            "execution_count": null,
            "metadata": {},
            "outputs": [],
            "source": []
        },
        {
            "cell_type": "code",
            "execution_count": null,
            "metadata": {},
            "outputs": [],
            "source": []
        },
        {
            "cell_type": "code",
            "execution_count": null,
            "metadata": {},
            "outputs": [
                {
                    "ename": "AssertionError",
                    "evalue": "The data DataFrame needs to have a column 'normalized_timestamp' for each trial, see resampling.py.",
                    "output_type": "error",
                    "traceback": [
                        "\u001b[0;31m---------------------------------------------------------------------------\u001b[0m",
                        "\u001b[0;31mAssertionError\u001b[0m                            Traceback (most recent call last)",
                        "Cell \u001b[0;32mIn[15], line 6\u001b[0m\n\u001b[1;32m      3\u001b[0m \u001b[38;5;28;01mwith\u001b[39;00m db:\n\u001b[1;32m      4\u001b[0m     trials \u001b[38;5;241m=\u001b[39m db\u001b[38;5;241m.\u001b[39mget_table(\u001b[38;5;124m\"\u001b[39m\u001b[38;5;124mTrials\u001b[39m\u001b[38;5;124m\"\u001b[39m)\n\u001b[0;32m----> 6\u001b[0m \u001b[43madd_labels\u001b[49m\u001b[43m(\u001b[49m\u001b[43mconf\u001b[49m\u001b[43m,\u001b[49m\u001b[43m \u001b[49m\u001b[43mtrials\u001b[49m\u001b[43m)\u001b[49m\n",
                        "File \u001b[0;32m~/Dropbox/PhD/Code/pain-measurement/src/features/labels.py:19\u001b[0m, in \u001b[0;36madd_labels\u001b[0;34m(data_df, trials_df, based_on)\u001b[0m\n\u001b[1;32m     11\u001b[0m \u001b[38;5;28;01mdef\u001b[39;00m \u001b[38;5;21madd_labels\u001b[39m(\n\u001b[1;32m     12\u001b[0m     data_df: pl\u001b[38;5;241m.\u001b[39mDataFrame,\n\u001b[1;32m     13\u001b[0m     trials_df: pl\u001b[38;5;241m.\u001b[39mDataFrame,\n\u001b[1;32m     14\u001b[0m     based_on: \u001b[38;5;28mstr\u001b[39m \u001b[38;5;241m=\u001b[39m \u001b[38;5;124m\"\u001b[39m\u001b[38;5;124mstimulus\u001b[39m\u001b[38;5;124m\"\u001b[39m,  \u001b[38;5;66;03m# TODO: add rating option, etc.\u001b[39;00m\n\u001b[1;32m     15\u001b[0m ) \u001b[38;5;241m-\u001b[39m\u001b[38;5;241m>\u001b[39m pl\u001b[38;5;241m.\u001b[39mDataFrame:\n\u001b[1;32m     16\u001b[0m \u001b[38;5;250m    \u001b[39m\u001b[38;5;124;03m\"\"\"Add labels to the data DataFrame.\u001b[39;00m\n\u001b[1;32m     17\u001b[0m \n\u001b[1;32m     18\u001b[0m \u001b[38;5;124;03m    Note: Needs normalized timestamps for each trial.\"\"\"\u001b[39;00m\n\u001b[0;32m---> 19\u001b[0m     \u001b[38;5;28;01massert\u001b[39;00m \u001b[38;5;124m\"\u001b[39m\u001b[38;5;124mnormalized_timestamp\u001b[39m\u001b[38;5;124m\"\u001b[39m \u001b[38;5;129;01min\u001b[39;00m data_df\u001b[38;5;241m.\u001b[39mcolumns, (\n\u001b[1;32m     20\u001b[0m         \u001b[38;5;124m\"\u001b[39m\u001b[38;5;124mThe data DataFrame needs to have a column \u001b[39m\u001b[38;5;124m'\u001b[39m\u001b[38;5;124mnormalized_timestamp\u001b[39m\u001b[38;5;124m'\u001b[39m\u001b[38;5;124m \u001b[39m\u001b[38;5;124m\"\u001b[39m\n\u001b[1;32m     21\u001b[0m         \u001b[38;5;124m\"\u001b[39m\u001b[38;5;124mfor each trial, see resampling.py.\u001b[39m\u001b[38;5;124m\"\u001b[39m\n\u001b[1;32m     22\u001b[0m     )\n\u001b[1;32m     23\u001b[0m     \u001b[38;5;66;03m# Add temporary markers so that we can remove rows from trials from the real data\u001b[39;00m\n\u001b[1;32m     24\u001b[0m     trials_df \u001b[38;5;241m=\u001b[39m trials_df\u001b[38;5;241m.\u001b[39mwith_columns(marker\u001b[38;5;241m=\u001b[39m\u001b[38;5;241m0\u001b[39m)\n",
                        "\u001b[0;31mAssertionError\u001b[0m: The data DataFrame needs to have a column 'normalized_timestamp' for each trial, see resampling.py."
                    ]
                }
            ],
            "source": [
                "from src.features.labels import add_labels\n",
                "\n",
                "with db:\n",
                "    trials = db.get_table(\"Trials\")\n",
                "\n",
                "add_labels(conf, trials)"
            ]
        }
    ],
    "metadata": {
        "kernelspec": {
            "display_name": "pain",
            "language": "python",
            "name": "python3"
        },
        "language_info": {
            "codemirror_mode": {
                "name": "ipython",
                "version": 3
            },
            "file_extension": ".py",
            "mimetype": "text/x-python",
            "name": "python",
            "nbconvert_exporter": "python",
            "pygments_lexer": "ipython3",
            "version": "3.12.4"
        }
    },
    "nbformat": 4,
    "nbformat_minor": 2
}
