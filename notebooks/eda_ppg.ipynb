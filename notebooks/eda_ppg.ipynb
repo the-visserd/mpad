{
    "cells": [
        {
            "cell_type": "code",
            "execution_count": 9,
            "metadata": {},
            "outputs": [],
            "source": [
                "%%capture\n",
                "from pathlib import Path\n",
                "\n",
                "if Path.cwd().stem == \"notebooks\":\n",
                "    %cd ..\n",
                "    %load_ext autoreload\n",
                "    %autoreload 2"
            ]
        },
        {
            "cell_type": "code",
            "execution_count": 10,
            "metadata": {},
            "outputs": [],
            "source": [
                "import logging\n",
                "\n",
                "import duckdb\n",
                "import holoviews as hv\n",
                "import hvplot.polars  # noqa\n",
                "import polars as pl\n",
                "from polars import col\n",
                "\n",
                "from src.data.database_manager import DatabaseManager\n",
                "from src.data.quality_checks import check_sample_rate\n",
                "from src.features.scaling import scale_min_max\n",
                "from src.features.transforming import map_trials\n",
                "from src.log_config import configure_logging\n",
                "from src.plots.plot_modality import plot_modality_over_trials\n",
                "from src.plots.utils import prepare_multiline_hvplot\n",
                "\n",
                "configure_logging(\n",
                "    stream_level=logging.DEBUG, ignore_libs=(\"Comm\", \"bokeh\", \"tornado\", \"matplotlib\")\n",
                ")\n",
                "logger = logging.getLogger(__name__.rsplit(\".\", maxsplit=1)[-1])\n",
                "\n",
                "pl.Config.set_tbl_rows(12)  # for the 12 trials\n",
                "hv.output(widget_location=\"bottom\", size=130)"
            ]
        },
        {
            "cell_type": "code",
            "execution_count": 12,
            "metadata": {},
            "outputs": [
                {
                    "data": {
                        "application/vnd.jupyter.widget-view+json": {
                            "model_id": "a82e8426dc694a199f3777a40e3399c7",
                            "version_major": 2,
                            "version_minor": 0
                        },
                        "text/plain": [
                            "BokehModel(combine_events=True, render_bundle={'docs_json': {'acbeeef7-49cc-48ba-b0c0-3c984905102c': {'version…"
                        ]
                    },
                    "execution_count": 12,
                    "metadata": {},
                    "output_type": "execute_result"
                }
            ],
            "source": [
                "plot_modality_over_trials(\"ppg\", signals=[\"ppg_raw\", \"ppg_rate\", \"ppg_quality\"])"
            ]
        },
        {
            "cell_type": "code",
            "execution_count": 4,
            "metadata": {},
            "outputs": [],
            "source": [
                "db = DatabaseManager()"
            ]
        },
        {
            "cell_type": "code",
            "execution_count": 5,
            "metadata": {},
            "outputs": [
                {
                    "data": {
                        "text/html": [
                            "<div><style>\n",
                            ".dataframe > thead > tr,\n",
                            ".dataframe > tbody > tr {\n",
                            "  text-align: right;\n",
                            "  white-space: pre-wrap;\n",
                            "}\n",
                            "</style>\n",
                            "<small>shape: (597_931, 13)</small><table border=\"1\" class=\"dataframe\"><thead><tr><th>trial_id</th><th>trial_number</th><th>participant_id</th><th>rownumber</th><th>timestamp</th><th>samplenumber</th><th>ppg_raw</th><th>ppg_heartrate</th><th>ppg_ibi</th><th>ppg_clean</th><th>ppg_rate</th><th>ppg_quality</th><th>ppg_peaks</th></tr><tr><td>u16</td><td>u8</td><td>u8</td><td>f64</td><td>f64</td><td>f64</td><td>f64</td><td>f64</td><td>f64</td><td>f64</td><td>f64</td><td>f64</td><td>f64</td></tr></thead><tbody><tr><td>1</td><td>1</td><td>1</td><td>37664.142857</td><td>294200.0</td><td>57896.142857</td><td>1416.012559</td><td>-1.0</td><td>-1.0</td><td>-25.366688</td><td>65.896546</td><td>0.975548</td><td>0.0</td></tr><tr><td>1</td><td>1</td><td>1</td><td>37676.5</td><td>294300.0</td><td>57908.5</td><td>1376.495726</td><td>-1.0</td><td>-1.0</td><td>-61.841532</td><td>65.896546</td><td>0.975548</td><td>0.0</td></tr><tr><td>1</td><td>1</td><td>1</td><td>37690.875</td><td>294400.0</td><td>57922.875</td><td>1466.941392</td><td>-1.0</td><td>-1.0</td><td>27.796478</td><td>65.896546</td><td>0.975548</td><td>0.0</td></tr><tr><td>1</td><td>1</td><td>1</td><td>37704.25</td><td>294500.0</td><td>57936.25</td><td>1522.710623</td><td>-1.0</td><td>-1.0</td><td>88.741595</td><td>65.783256</td><td>0.974676</td><td>0.083333</td></tr><tr><td>1</td><td>1</td><td>1</td><td>37714.8</td><td>294600.0</td><td>57946.8</td><td>1516.483516</td><td>-1.0</td><td>-1.0</td><td>77.180253</td><td>65.34652</td><td>0.971103</td><td>0.0</td></tr><tr><td>1</td><td>1</td><td>1</td><td>37727.642857</td><td>294700.0</td><td>57959.642857</td><td>1457.613815</td><td>-1.0</td><td>-1.0</td><td>30.559659</td><td>64.893857</td><td>0.96658</td><td>0.0</td></tr><tr><td>&hellip;</td><td>&hellip;</td><td>&hellip;</td><td>&hellip;</td><td>&hellip;</td><td>&hellip;</td><td>&hellip;</td><td>&hellip;</td><td>&hellip;</td><td>&hellip;</td><td>&hellip;</td><td>&hellip;</td><td>&hellip;</td></tr><tr><td>332</td><td>12</td><td>28</td><td>355422.0</td><td>2.7766e6</td><td>467019.0</td><td>1384.102564</td><td>73.0</td><td>-1.0</td><td>3.861983</td><td>65.934066</td><td>0.987849</td><td>0.0</td></tr><tr><td>332</td><td>12</td><td>28</td><td>355433.555556</td><td>2.7767e6</td><td>467030.555556</td><td>1343.996744</td><td>73.0</td><td>-1.0</td><td>-47.397796</td><td>65.934066</td><td>0.987849</td><td>0.0</td></tr><tr><td>332</td><td>12</td><td>28</td><td>355446.1</td><td>2.7768e6</td><td>467043.1</td><td>1342.417582</td><td>73.0</td><td>-1.0</td><td>-80.640675</td><td>65.934066</td><td>0.987849</td><td>0.0</td></tr><tr><td>332</td><td>12</td><td>28</td><td>355459.363636</td><td>2.7769e6</td><td>467056.363636</td><td>1352.514153</td><td>72.0</td><td>74.375</td><td>-149.729767</td><td>65.934066</td><td>0.987849</td><td>0.0</td></tr><tr><td>332</td><td>12</td><td>28</td><td>355472.6</td><td>2.777e6</td><td>467069.6</td><td>1693.699634</td><td>72.0</td><td>-1.0</td><td>63.515115</td><td>65.934066</td><td>0.987849</td><td>0.0</td></tr><tr><td>332</td><td>12</td><td>28</td><td>355480.666667</td><td>2.7771e6</td><td>467077.666667</td><td>1796.336996</td><td>72.0</td><td>-1.0</td><td>41.542434</td><td>65.934066</td><td>0.987849</td><td>0.0</td></tr></tbody></table></div>"
                        ],
                        "text/plain": [
                            "shape: (597_931, 13)\n",
                            "┌──────────┬───────────┬───────────┬───────────┬───┬───────────┬───────────┬───────────┬───────────┐\n",
                            "│ trial_id ┆ trial_num ┆ participa ┆ rownumber ┆ … ┆ ppg_clean ┆ ppg_rate  ┆ ppg_quali ┆ ppg_peaks │\n",
                            "│ ---      ┆ ber       ┆ nt_id     ┆ ---       ┆   ┆ ---       ┆ ---       ┆ ty        ┆ ---       │\n",
                            "│ u16      ┆ ---       ┆ ---       ┆ f64       ┆   ┆ f64       ┆ f64       ┆ ---       ┆ f64       │\n",
                            "│          ┆ u8        ┆ u8        ┆           ┆   ┆           ┆           ┆ f64       ┆           │\n",
                            "╞══════════╪═══════════╪═══════════╪═══════════╪═══╪═══════════╪═══════════╪═══════════╪═══════════╡\n",
                            "│ 1        ┆ 1         ┆ 1         ┆ 37664.142 ┆ … ┆ -25.36668 ┆ 65.896546 ┆ 0.975548  ┆ 0.0       │\n",
                            "│          ┆           ┆           ┆ 857       ┆   ┆ 8         ┆           ┆           ┆           │\n",
                            "│ 1        ┆ 1         ┆ 1         ┆ 37676.5   ┆ … ┆ -61.84153 ┆ 65.896546 ┆ 0.975548  ┆ 0.0       │\n",
                            "│          ┆           ┆           ┆           ┆   ┆ 2         ┆           ┆           ┆           │\n",
                            "│ 1        ┆ 1         ┆ 1         ┆ 37690.875 ┆ … ┆ 27.796478 ┆ 65.896546 ┆ 0.975548  ┆ 0.0       │\n",
                            "│ 1        ┆ 1         ┆ 1         ┆ 37704.25  ┆ … ┆ 88.741595 ┆ 65.783256 ┆ 0.974676  ┆ 0.083333  │\n",
                            "│ 1        ┆ 1         ┆ 1         ┆ 37714.8   ┆ … ┆ 77.180253 ┆ 65.34652  ┆ 0.971103  ┆ 0.0       │\n",
                            "│ 1        ┆ 1         ┆ 1         ┆ 37727.642 ┆ … ┆ 30.559659 ┆ 64.893857 ┆ 0.96658   ┆ 0.0       │\n",
                            "│          ┆           ┆           ┆ 857       ┆   ┆           ┆           ┆           ┆           │\n",
                            "│ …        ┆ …         ┆ …         ┆ …         ┆ … ┆ …         ┆ …         ┆ …         ┆ …         │\n",
                            "│ 332      ┆ 12        ┆ 28        ┆ 355422.0  ┆ … ┆ 3.861983  ┆ 65.934066 ┆ 0.987849  ┆ 0.0       │\n",
                            "│ 332      ┆ 12        ┆ 28        ┆ 355433.55 ┆ … ┆ -47.39779 ┆ 65.934066 ┆ 0.987849  ┆ 0.0       │\n",
                            "│          ┆           ┆           ┆ 5556      ┆   ┆ 6         ┆           ┆           ┆           │\n",
                            "│ 332      ┆ 12        ┆ 28        ┆ 355446.1  ┆ … ┆ -80.64067 ┆ 65.934066 ┆ 0.987849  ┆ 0.0       │\n",
                            "│          ┆           ┆           ┆           ┆   ┆ 5         ┆           ┆           ┆           │\n",
                            "│ 332      ┆ 12        ┆ 28        ┆ 355459.36 ┆ … ┆ -149.7297 ┆ 65.934066 ┆ 0.987849  ┆ 0.0       │\n",
                            "│          ┆           ┆           ┆ 3636      ┆   ┆ 67        ┆           ┆           ┆           │\n",
                            "│ 332      ┆ 12        ┆ 28        ┆ 355472.6  ┆ … ┆ 63.515115 ┆ 65.934066 ┆ 0.987849  ┆ 0.0       │\n",
                            "│ 332      ┆ 12        ┆ 28        ┆ 355480.66 ┆ … ┆ 41.542434 ┆ 65.934066 ┆ 0.987849  ┆ 0.0       │\n",
                            "│          ┆           ┆           ┆ 6667      ┆   ┆           ┆           ┆           ┆           │\n",
                            "└──────────┴───────────┴───────────┴───────────┴───┴───────────┴───────────┴───────────┴───────────┘"
                        ]
                    },
                    "execution_count": 5,
                    "metadata": {},
                    "output_type": "execute_result"
                }
            ],
            "source": [
                "with db:\n",
                "    df = db.get_table(\"Feature_PPG\")\n",
                "df"
            ]
        },
        {
            "cell_type": "code",
            "execution_count": 9,
            "metadata": {},
            "outputs": [
                {
                    "data": {
                        "application/vnd.jupyter.widget-view+json": {
                            "model_id": "5d48f3bf889c415eac2cc5e371bc414f",
                            "version_major": 2,
                            "version_minor": 0
                        },
                        "text/plain": [
                            "BokehModel(combine_events=True, render_bundle={'docs_json': {'1995cf83-eeaa-4a48-92ed-0ca9cb0e6df6': {'version…"
                        ]
                    },
                    "execution_count": 9,
                    "metadata": {},
                    "output_type": "execute_result"
                }
            ],
            "source": [
                "df.hvplot(x=\"timestamp\", y=[\"ppg_rate\", \"ppg_quality\"], groupby=\"trial_id\", kind=\"line\")"
            ]
        }
    ],
    "metadata": {
        "kernelspec": {
            "display_name": "pain",
            "language": "python",
            "name": "python3"
        },
        "language_info": {
            "codemirror_mode": {
                "name": "ipython",
                "version": 3
            },
            "file_extension": ".py",
            "mimetype": "text/x-python",
            "name": "python",
            "nbconvert_exporter": "python",
            "pygments_lexer": "ipython3",
            "version": "3.12.4"
        }
    },
    "nbformat": 4,
    "nbformat_minor": 2
}