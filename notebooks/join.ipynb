{
    "cells": [
        {
            "cell_type": "code",
            "execution_count": 18,
            "metadata": {},
            "outputs": [],
            "source": [
                "%%capture\n",
                "from pathlib import Path\n",
                "\n",
                "if Path.cwd().stem == \"notebooks\":\n",
                "    %cd ..\n",
                "    %load_ext autoreload\n",
                "    %autoreload 2"
            ]
        },
        {
            "cell_type": "code",
            "execution_count": 19,
            "metadata": {},
            "outputs": [],
            "source": [
                "import logging\n",
                "from functools import reduce\n",
                "\n",
                "import holoviews as hv\n",
                "import hvplot.polars  # noqa\n",
                "import neurokit2 as nk\n",
                "import pandas as pd\n",
                "import polars as pl\n",
                "from icecream import ic\n",
                "from polars import col\n",
                "\n",
                "from src.data.data_config import DataConfig\n",
                "from src.data.database_manager import DatabaseManager\n",
                "from src.data.quality_checks import check_sample_rate\n",
                "from src.features.eda import nk_process_eda\n",
                "from src.features.scaling import scale_min_max\n",
                "from src.features.transforming import map_trials\n",
                "from src.log_config import configure_logging\n",
                "from src.plots.utils import prepare_multiline_hvplot\n",
                "\n",
                "configure_logging(\n",
                "    stream_level=logging.DEBUG, ignore_libs=(\"Comm\", \"bokeh\", \"tornado\", \"matplotlib\")\n",
                ")\n",
                "logger = logging.getLogger(__name__.rsplit(\".\", maxsplit=1)[-1])\n",
                "\n",
                "pl.Config.set_tbl_rows(12)  # for the 12 trials\n",
                "hv.output(widget_location=\"bottom\", size=130)"
            ]
        },
        {
            "cell_type": "code",
            "execution_count": 20,
            "metadata": {},
            "outputs": [],
            "source": [
                "db = DatabaseManager()\n",
                "modalities = DataConfig().MODALITIES"
            ]
        },
        {
            "cell_type": "markdown",
            "metadata": {},
            "source": [
                "### Note that asof join uses a fill method if the right df is sampled at a lower frequency than the left df. In that case, the values are not interpolated."
            ]
        },
        {
            "cell_type": "markdown",
            "metadata": {},
            "source": [
                "### Note that interpolating should always depend on the time vector.\n",
                "https://github.com/pola-rs/polars/issues/9616\n",
                "\n",
                "https://docs.pola.rs/api/python/stable/reference/expressions/api/polars.Expr.interpolate_by.html"
            ]
        },
        {
            "cell_type": "code",
            "execution_count": 21,
            "metadata": {},
            "outputs": [
                {
                    "data": {
                        "text/html": [
                            "<div><style>\n",
                            ".dataframe > thead > tr,\n",
                            ".dataframe > tbody > tr {\n",
                            "  text-align: right;\n",
                            "  white-space: pre-wrap;\n",
                            "}\n",
                            "</style>\n",
                            "<small>shape: (5_935_133, 11)</small><table border=\"1\" class=\"dataframe\"><thead><tr><th>trial_id</th><th>trial_number</th><th>participant_id</th><th>rownumber</th><th>timestamp</th><th>samplenumber</th><th>eda_raw</th><th>eda_tonic</th><th>eda_phasic</th><th>temperature</th><th>rating</th></tr><tr><td>u16</td><td>u8</td><td>u8</td><td>u32</td><td>f64</td><td>i64</td><td>f64</td><td>f64</td><td>f64</td><td>f64</td><td>f64</td></tr></thead><tbody><tr><td>1</td><td>1</td><td>1</td><td>0</td><td>294224.331</td><td>57895</td><td>0.753247</td><td>0.752117</td><td>0.00113</td><td>45.75</td><td>42.5</td></tr><tr><td>1</td><td>1</td><td>1</td><td>0</td><td>294242.275</td><td>57896</td><td>0.754135</td><td>0.752119</td><td>0.002016</td><td>45.75</td><td>42.5</td></tr><tr><td>1</td><td>1</td><td>1</td><td>0</td><td>294248.2588</td><td>57898</td><td>0.754135</td><td>0.752121</td><td>0.002014</td><td>45.75</td><td>42.5</td></tr><tr><td>1</td><td>1</td><td>1</td><td>0</td><td>294276.1835</td><td>57899</td><td>0.754135</td><td>0.752123</td><td>0.002012</td><td>45.75</td><td>42.5</td></tr><tr><td>1</td><td>1</td><td>1</td><td>0</td><td>294277.1819</td><td>57900</td><td>0.752359</td><td>0.752125</td><td>0.000234</td><td>45.75</td><td>42.5</td></tr><tr><td>1</td><td>1</td><td>1</td><td>0</td><td>294309.0952</td><td>57902</td><td>0.752359</td><td>0.752127</td><td>0.000232</td><td>45.75</td><td>42.5</td></tr><tr><td>&hellip;</td><td>&hellip;</td><td>&hellip;</td><td>&hellip;</td><td>&hellip;</td><td>&hellip;</td><td>&hellip;</td><td>&hellip;</td><td>&hellip;</td><td>&hellip;</td><td>&hellip;</td></tr><tr><td>332</td><td>12</td><td>28</td><td>21610</td><td>2.7771e6</td><td>467073</td><td>13.679468</td><td>13.578894</td><td>-0.012187</td><td>45.582614</td><td>85.0</td></tr><tr><td>332</td><td>12</td><td>28</td><td>21610</td><td>2.7771e6</td><td>467074</td><td>13.679468</td><td>13.578894</td><td>-0.012765</td><td>45.582614</td><td>85.0</td></tr><tr><td>332</td><td>12</td><td>28</td><td>21610</td><td>2.7771e6</td><td>467075</td><td>13.674363</td><td>13.578894</td><td>-0.018451</td><td>45.582614</td><td>85.0</td></tr><tr><td>332</td><td>12</td><td>28</td><td>21610</td><td>2.7771e6</td><td>467076</td><td>13.679468</td><td>13.578894</td><td>-0.013927</td><td>45.582614</td><td>85.0</td></tr><tr><td>332</td><td>12</td><td>28</td><td>21610</td><td>2.7771e6</td><td>467078</td><td>13.684573</td><td>13.578894</td><td>-0.009405</td><td>45.582614</td><td>85.0</td></tr><tr><td>332</td><td>12</td><td>28</td><td>21610</td><td>2.7771e6</td><td>467079</td><td>13.684573</td><td>13.578894</td><td>-0.009989</td><td>45.582614</td><td>85.0</td></tr></tbody></table></div>"
                        ],
                        "text/plain": [
                            "shape: (5_935_133, 11)\n",
                            "┌──────────┬────────────┬────────────┬───────────┬───┬───────────┬────────────┬───────────┬────────┐\n",
                            "│ trial_id ┆ trial_numb ┆ participan ┆ rownumber ┆ … ┆ eda_tonic ┆ eda_phasic ┆ temperatu ┆ rating │\n",
                            "│ ---      ┆ er         ┆ t_id       ┆ ---       ┆   ┆ ---       ┆ ---        ┆ re        ┆ ---    │\n",
                            "│ u16      ┆ ---        ┆ ---        ┆ u32       ┆   ┆ f64       ┆ f64        ┆ ---       ┆ f64    │\n",
                            "│          ┆ u8         ┆ u8         ┆           ┆   ┆           ┆            ┆ f64       ┆        │\n",
                            "╞══════════╪════════════╪════════════╪═══════════╪═══╪═══════════╪════════════╪═══════════╪════════╡\n",
                            "│ 1        ┆ 1          ┆ 1          ┆ 0         ┆ … ┆ 0.752117  ┆ 0.00113    ┆ 45.75     ┆ 42.5   │\n",
                            "│ 1        ┆ 1          ┆ 1          ┆ 0         ┆ … ┆ 0.752119  ┆ 0.002016   ┆ 45.75     ┆ 42.5   │\n",
                            "│ 1        ┆ 1          ┆ 1          ┆ 0         ┆ … ┆ 0.752121  ┆ 0.002014   ┆ 45.75     ┆ 42.5   │\n",
                            "│ 1        ┆ 1          ┆ 1          ┆ 0         ┆ … ┆ 0.752123  ┆ 0.002012   ┆ 45.75     ┆ 42.5   │\n",
                            "│ 1        ┆ 1          ┆ 1          ┆ 0         ┆ … ┆ 0.752125  ┆ 0.000234   ┆ 45.75     ┆ 42.5   │\n",
                            "│ 1        ┆ 1          ┆ 1          ┆ 0         ┆ … ┆ 0.752127  ┆ 0.000232   ┆ 45.75     ┆ 42.5   │\n",
                            "│ …        ┆ …          ┆ …          ┆ …         ┆ … ┆ …         ┆ …          ┆ …         ┆ …      │\n",
                            "│ 332      ┆ 12         ┆ 28         ┆ 21610     ┆ … ┆ 13.578894 ┆ -0.012187  ┆ 45.582614 ┆ 85.0   │\n",
                            "│ 332      ┆ 12         ┆ 28         ┆ 21610     ┆ … ┆ 13.578894 ┆ -0.012765  ┆ 45.582614 ┆ 85.0   │\n",
                            "│ 332      ┆ 12         ┆ 28         ┆ 21610     ┆ … ┆ 13.578894 ┆ -0.018451  ┆ 45.582614 ┆ 85.0   │\n",
                            "│ 332      ┆ 12         ┆ 28         ┆ 21610     ┆ … ┆ 13.578894 ┆ -0.013927  ┆ 45.582614 ┆ 85.0   │\n",
                            "│ 332      ┆ 12         ┆ 28         ┆ 21610     ┆ … ┆ 13.578894 ┆ -0.009405  ┆ 45.582614 ┆ 85.0   │\n",
                            "│ 332      ┆ 12         ┆ 28         ┆ 21610     ┆ … ┆ 13.578894 ┆ -0.009989  ┆ 45.582614 ┆ 85.0   │\n",
                            "└──────────┴────────────┴────────────┴───────────┴───┴───────────┴────────────┴───────────┴────────┘"
                        ]
                    },
                    "execution_count": 21,
                    "metadata": {},
                    "output_type": "execute_result"
                }
            ],
            "source": [
                "query = \"\"\"\n",
                "SELECT * FROM Preprocess_EDA AS pe\n",
                "ASOF JOIN Raw_Stimulus rs USING (trial_id, timestamp)\n",
                "ORDER BY pe.trial_id, pe.timestamp\n",
                "\"\"\"\n",
                "\n",
                "with db:\n",
                "    df = db.execute(query).pl()\n",
                "df"
            ]
        },
        {
            "cell_type": "code",
            "execution_count": 22,
            "metadata": {},
            "outputs": [
                {
                    "data": {
                        "text/html": [
                            "<div><style>\n",
                            ".dataframe > thead > tr,\n",
                            ".dataframe > tbody > tr {\n",
                            "  text-align: right;\n",
                            "  white-space: pre-wrap;\n",
                            "}\n",
                            "</style>\n",
                            "<small>shape: (5_936_076, 12)</small><table border=\"1\" class=\"dataframe\"><thead><tr><th>trial_id</th><th>trial_number</th><th>participant_id</th><th>rownumber</th><th>timestamp</th><th>samplenumber</th><th>eda_raw</th><th>eda_tonic</th><th>eda_phasic</th><th>rownumber_right</th><th>temperature</th><th>rating</th></tr><tr><td>u16</td><td>u8</td><td>u8</td><td>u32</td><td>f64</td><td>i64</td><td>f64</td><td>f64</td><td>f64</td><td>u32</td><td>f64</td><td>f64</td></tr></thead><tbody><tr><td>1</td><td>1</td><td>1</td><td>37660</td><td>294210.3603</td><td>57892</td><td>0.752359</td><td>0.752113</td><td>0.000246</td><td>0</td><td>45.75</td><td>42.5</td></tr><tr><td>1</td><td>1</td><td>1</td><td>37661</td><td>294211.3575</td><td>57893</td><td>0.754579</td><td>0.752115</td><td>0.002464</td><td>0</td><td>45.75</td><td>42.5</td></tr><tr><td>1</td><td>1</td><td>1</td><td>37663</td><td>294224.331</td><td>57895</td><td>0.753247</td><td>0.752117</td><td>0.00113</td><td>0</td><td>45.75</td><td>42.5</td></tr><tr><td>1</td><td>1</td><td>1</td><td>37664</td><td>294242.275</td><td>57896</td><td>0.754135</td><td>0.752119</td><td>0.002016</td><td>0</td><td>45.75</td><td>42.5</td></tr><tr><td>1</td><td>1</td><td>1</td><td>37666</td><td>294248.2588</td><td>57898</td><td>0.754135</td><td>0.752121</td><td>0.002014</td><td>0</td><td>45.75</td><td>42.5</td></tr><tr><td>1</td><td>1</td><td>1</td><td>37667</td><td>294276.1835</td><td>57899</td><td>0.754135</td><td>0.752123</td><td>0.002012</td><td>0</td><td>45.75</td><td>42.5</td></tr><tr><td>&hellip;</td><td>&hellip;</td><td>&hellip;</td><td>&hellip;</td><td>&hellip;</td><td>&hellip;</td><td>&hellip;</td><td>&hellip;</td><td>&hellip;</td><td>&hellip;</td><td>&hellip;</td><td>&hellip;</td></tr><tr><td>332</td><td>12</td><td>28</td><td>355476</td><td>2.7771e6</td><td>467073</td><td>13.679468</td><td>13.578894</td><td>-0.012187</td><td>21610</td><td>45.582614</td><td>85.0</td></tr><tr><td>332</td><td>12</td><td>28</td><td>355477</td><td>2.7771e6</td><td>467074</td><td>13.679468</td><td>13.578894</td><td>-0.012765</td><td>21611</td><td>45.582614</td><td>85.0</td></tr><tr><td>332</td><td>12</td><td>28</td><td>355478</td><td>2.7771e6</td><td>467075</td><td>13.674363</td><td>13.578894</td><td>-0.018451</td><td>21611</td><td>45.582614</td><td>85.0</td></tr><tr><td>332</td><td>12</td><td>28</td><td>355479</td><td>2.7771e6</td><td>467076</td><td>13.679468</td><td>13.578894</td><td>-0.013927</td><td>21611</td><td>45.582614</td><td>85.0</td></tr><tr><td>332</td><td>12</td><td>28</td><td>355481</td><td>2.7771e6</td><td>467078</td><td>13.684573</td><td>13.578894</td><td>-0.009405</td><td>21611</td><td>45.582614</td><td>85.0</td></tr><tr><td>332</td><td>12</td><td>28</td><td>355482</td><td>2.7771e6</td><td>467079</td><td>13.684573</td><td>13.578894</td><td>-0.009989</td><td>21611</td><td>45.582614</td><td>85.0</td></tr></tbody></table></div>"
                        ],
                        "text/plain": [
                            "shape: (5_936_076, 12)\n",
                            "┌──────────┬────────────┬────────────┬───────────┬───┬────────────┬───────────┬───────────┬────────┐\n",
                            "│ trial_id ┆ trial_numb ┆ participan ┆ rownumber ┆ … ┆ eda_phasic ┆ rownumber ┆ temperatu ┆ rating │\n",
                            "│ ---      ┆ er         ┆ t_id       ┆ ---       ┆   ┆ ---        ┆ _right    ┆ re        ┆ ---    │\n",
                            "│ u16      ┆ ---        ┆ ---        ┆ u32       ┆   ┆ f64        ┆ ---       ┆ ---       ┆ f64    │\n",
                            "│          ┆ u8         ┆ u8         ┆           ┆   ┆            ┆ u32       ┆ f64       ┆        │\n",
                            "╞══════════╪════════════╪════════════╪═══════════╪═══╪════════════╪═══════════╪═══════════╪════════╡\n",
                            "│ 1        ┆ 1          ┆ 1          ┆ 37660     ┆ … ┆ 0.000246   ┆ 0         ┆ 45.75     ┆ 42.5   │\n",
                            "│ 1        ┆ 1          ┆ 1          ┆ 37661     ┆ … ┆ 0.002464   ┆ 0         ┆ 45.75     ┆ 42.5   │\n",
                            "│ 1        ┆ 1          ┆ 1          ┆ 37663     ┆ … ┆ 0.00113    ┆ 0         ┆ 45.75     ┆ 42.5   │\n",
                            "│ 1        ┆ 1          ┆ 1          ┆ 37664     ┆ … ┆ 0.002016   ┆ 0         ┆ 45.75     ┆ 42.5   │\n",
                            "│ 1        ┆ 1          ┆ 1          ┆ 37666     ┆ … ┆ 0.002014   ┆ 0         ┆ 45.75     ┆ 42.5   │\n",
                            "│ 1        ┆ 1          ┆ 1          ┆ 37667     ┆ … ┆ 0.002012   ┆ 0         ┆ 45.75     ┆ 42.5   │\n",
                            "│ …        ┆ …          ┆ …          ┆ …         ┆ … ┆ …          ┆ …         ┆ …         ┆ …      │\n",
                            "│ 332      ┆ 12         ┆ 28         ┆ 355476    ┆ … ┆ -0.012187  ┆ 21610     ┆ 45.582614 ┆ 85.0   │\n",
                            "│ 332      ┆ 12         ┆ 28         ┆ 355477    ┆ … ┆ -0.012765  ┆ 21611     ┆ 45.582614 ┆ 85.0   │\n",
                            "│ 332      ┆ 12         ┆ 28         ┆ 355478    ┆ … ┆ -0.018451  ┆ 21611     ┆ 45.582614 ┆ 85.0   │\n",
                            "│ 332      ┆ 12         ┆ 28         ┆ 355479    ┆ … ┆ -0.013927  ┆ 21611     ┆ 45.582614 ┆ 85.0   │\n",
                            "│ 332      ┆ 12         ┆ 28         ┆ 355481    ┆ … ┆ -0.009405  ┆ 21611     ┆ 45.582614 ┆ 85.0   │\n",
                            "│ 332      ┆ 12         ┆ 28         ┆ 355482    ┆ … ┆ -0.009989  ┆ 21611     ┆ 45.582614 ┆ 85.0   │\n",
                            "└──────────┴────────────┴────────────┴───────────┴───┴────────────┴───────────┴───────────┴────────┘"
                        ]
                    },
                    "execution_count": 22,
                    "metadata": {},
                    "output_type": "execute_result"
                }
            ],
            "source": [
                "with db:\n",
                "    eda = db.get_table(\"Preprocess_EDA\")\n",
                "    stim = db.get_table(\"Raw_Stimulus\")\n",
                "\n",
                "d = eda.join_asof(\n",
                "    stim,\n",
                "    on=\"timestamp\",\n",
                "    by=[\"trial_id\", \"trial_number\", \"participant_id\"],\n",
                "    strategy=\"nearest\",\n",
                "    coalesce=True,\n",
                ")\n",
                "d"
            ]
        },
        {
            "cell_type": "code",
            "execution_count": 23,
            "metadata": {},
            "outputs": [
                {
                    "data": {
                        "text/html": [
                            "<div><style>\n",
                            ".dataframe > thead > tr,\n",
                            ".dataframe > tbody > tr {\n",
                            "  text-align: right;\n",
                            "  white-space: pre-wrap;\n",
                            "}\n",
                            "</style>\n",
                            "<small>shape: (6_473_968, 13)</small><table border=\"1\" class=\"dataframe\"><thead><tr><th>trial_id</th><th>trial_number</th><th>participant_id</th><th>rownumber</th><th>timestamp</th><th>samplenumber</th><th>eda_raw</th><th>eda_tonic</th><th>eda_phasic</th><th>trial_number_right</th><th>rownumber_right</th><th>temperature</th><th>rating</th></tr><tr><td>u16</td><td>u8</td><td>u8</td><td>u32</td><td>f64</td><td>i64</td><td>f64</td><td>f64</td><td>f64</td><td>u8</td><td>u32</td><td>f64</td><td>f64</td></tr></thead><tbody><tr><td>1</td><td>1</td><td>1</td><td>37660</td><td>294210.3603</td><td>57892</td><td>0.752359</td><td>0.752113</td><td>0.000246</td><td>null</td><td>null</td><td>null</td><td>null</td></tr><tr><td>1</td><td>1</td><td>1</td><td>37661</td><td>294211.3575</td><td>57893</td><td>0.754579</td><td>0.752115</td><td>0.002464</td><td>null</td><td>null</td><td>null</td><td>null</td></tr><tr><td>1</td><td>1</td><td>1</td><td>37663</td><td>294224.331</td><td>57895</td><td>0.753247</td><td>0.752117</td><td>0.00113</td><td>1</td><td>0</td><td>45.75</td><td>42.5</td></tr><tr><td>1</td><td>1</td><td>1</td><td>37664</td><td>294242.275</td><td>57896</td><td>0.754135</td><td>0.752119</td><td>0.002016</td><td>null</td><td>null</td><td>null</td><td>null</td></tr><tr><td>1</td><td>1</td><td>1</td><td>37666</td><td>294248.2588</td><td>57898</td><td>0.754135</td><td>0.752121</td><td>0.002014</td><td>null</td><td>null</td><td>null</td><td>null</td></tr><tr><td>1</td><td>1</td><td>1</td><td>37667</td><td>294276.1835</td><td>57899</td><td>0.754135</td><td>0.752123</td><td>0.002012</td><td>null</td><td>null</td><td>null</td><td>null</td></tr><tr><td>&hellip;</td><td>&hellip;</td><td>&hellip;</td><td>&hellip;</td><td>&hellip;</td><td>&hellip;</td><td>&hellip;</td><td>&hellip;</td><td>&hellip;</td><td>&hellip;</td><td>&hellip;</td><td>&hellip;</td><td>&hellip;</td></tr><tr><td>112</td><td>null</td><td>10</td><td>null</td><td>1.9068e6</td><td>null</td><td>null</td><td>null</td><td>null</td><td>8</td><td>13466</td><td>46.115596</td><td>0.0</td></tr><tr><td>281</td><td>null</td><td>24</td><td>null</td><td>2.1922e6</td><td>null</td><td>null</td><td>null</td><td>null</td><td>9</td><td>14912</td><td>46.129921</td><td>85.0</td></tr><tr><td>249</td><td>null</td><td>22</td><td>null</td><td>322302.795</td><td>null</td><td>null</td><td>null</td><td>null</td><td>1</td><td>974</td><td>42.911697</td><td>0.0</td></tr><tr><td>43</td><td>null</td><td>4</td><td>null</td><td>2.2079e6</td><td>null</td><td>null</td><td>null</td><td>null</td><td>7</td><td>11841</td><td>46.675174</td><td>48.625</td></tr><tr><td>154</td><td>null</td><td>14</td><td>null</td><td>517281.9444</td><td>null</td><td>null</td><td>null</td><td>null</td><td>2</td><td>1982</td><td>47.322536</td><td>92.125</td></tr><tr><td>243</td><td>null</td><td>21</td><td>null</td><td>1.6681e6</td><td>null</td><td>null</td><td>null</td><td>null</td><td>7</td><td>11513</td><td>44.522712</td><td>14.75</td></tr></tbody></table></div>"
                        ],
                        "text/plain": [
                            "shape: (6_473_968, 13)\n",
                            "┌──────────┬────────────┬────────────┬───────────┬───┬────────────┬───────────┬───────────┬────────┐\n",
                            "│ trial_id ┆ trial_numb ┆ participan ┆ rownumber ┆ … ┆ trial_numb ┆ rownumber ┆ temperatu ┆ rating │\n",
                            "│ ---      ┆ er         ┆ t_id       ┆ ---       ┆   ┆ er_right   ┆ _right    ┆ re        ┆ ---    │\n",
                            "│ u16      ┆ ---        ┆ ---        ┆ u32       ┆   ┆ ---        ┆ ---       ┆ ---       ┆ f64    │\n",
                            "│          ┆ u8         ┆ u8         ┆           ┆   ┆ u8         ┆ u32       ┆ f64       ┆        │\n",
                            "╞══════════╪════════════╪════════════╪═══════════╪═══╪════════════╪═══════════╪═══════════╪════════╡\n",
                            "│ 1        ┆ 1          ┆ 1          ┆ 37660     ┆ … ┆ null       ┆ null      ┆ null      ┆ null   │\n",
                            "│ 1        ┆ 1          ┆ 1          ┆ 37661     ┆ … ┆ null       ┆ null      ┆ null      ┆ null   │\n",
                            "│ 1        ┆ 1          ┆ 1          ┆ 37663     ┆ … ┆ 1          ┆ 0         ┆ 45.75     ┆ 42.5   │\n",
                            "│ 1        ┆ 1          ┆ 1          ┆ 37664     ┆ … ┆ null       ┆ null      ┆ null      ┆ null   │\n",
                            "│ 1        ┆ 1          ┆ 1          ┆ 37666     ┆ … ┆ null       ┆ null      ┆ null      ┆ null   │\n",
                            "│ 1        ┆ 1          ┆ 1          ┆ 37667     ┆ … ┆ null       ┆ null      ┆ null      ┆ null   │\n",
                            "│ …        ┆ …          ┆ …          ┆ …         ┆ … ┆ …          ┆ …         ┆ …         ┆ …      │\n",
                            "│ 112      ┆ null       ┆ 10         ┆ null      ┆ … ┆ 8          ┆ 13466     ┆ 46.115596 ┆ 0.0    │\n",
                            "│ 281      ┆ null       ┆ 24         ┆ null      ┆ … ┆ 9          ┆ 14912     ┆ 46.129921 ┆ 85.0   │\n",
                            "│ 249      ┆ null       ┆ 22         ┆ null      ┆ … ┆ 1          ┆ 974       ┆ 42.911697 ┆ 0.0    │\n",
                            "│ 43       ┆ null       ┆ 4          ┆ null      ┆ … ┆ 7          ┆ 11841     ┆ 46.675174 ┆ 48.625 │\n",
                            "│ 154      ┆ null       ┆ 14         ┆ null      ┆ … ┆ 2          ┆ 1982      ┆ 47.322536 ┆ 92.125 │\n",
                            "│ 243      ┆ null       ┆ 21         ┆ null      ┆ … ┆ 7          ┆ 11513     ┆ 44.522712 ┆ 14.75  │\n",
                            "└──────────┴────────────┴────────────┴───────────┴───┴────────────┴───────────┴───────────┴────────┘"
                        ]
                    },
                    "execution_count": 23,
                    "metadata": {},
                    "output_type": "execute_result"
                }
            ],
            "source": [
                "e = eda.join(\n",
                "    stim,\n",
                "    on=[\"timestamp\", \"trial_id\", \"participant_id\"],\n",
                "    # by=[\"trial_id\", \"trial_number\", \"participant_id\"],\n",
                "    how=\"full\",\n",
                "    coalesce=True,\n",
                ")\n",
                "e"
            ]
        },
        {
            "cell_type": "code",
            "execution_count": 24,
            "metadata": {},
            "outputs": [],
            "source": [
                "def merge_dfs(\n",
                "    dfs: list[pl.DataFrame],\n",
                "    merge_on: list[str] = [\"participant_id\", \"trial_id\", \"trial_number\", \"timestamp\"],\n",
                "    sort_by: list[str] = [\"trial_id\", \"timestamp\"],\n",
                ") -> pl.DataFrame:\n",
                "    \"\"\"\n",
                "    Merge multiple DataFrames into a single DataFrame.\n",
                "    \"\"\"\n",
                "    if len(dfs) < 2:\n",
                "        return dfs[0]\n",
                "\n",
                "    df = reduce(\n",
                "        lambda left, right: left.join(\n",
                "            right,\n",
                "            on=merge_on,\n",
                "            how=\"full\",\n",
                "            coalesce=True,\n",
                "        )\n",
                "        .sort(sort_by)\n",
                "        .drop([\"rownumber_right\", \"samplenumber_right\"], strict=False),\n",
                "        dfs,\n",
                "    )\n",
                "    return df\n",
                "\n",
                "\n",
                "modalities = [\"EDA\", \"PPG\"]\n",
                "modalities = DataConfig().MODALITIES\n",
                "\n",
                "with db:\n",
                "    dfs = [db.get_table(\"Feature_\" + modality) for modality in modalities]\n"
            ]
        },
        {
            "cell_type": "code",
            "execution_count": 25,
            "metadata": {},
            "outputs": [
                {
                    "data": {
                        "text/html": [
                            "<div><style>\n",
                            ".dataframe > thead > tr,\n",
                            ".dataframe > tbody > tr {\n",
                            "  text-align: right;\n",
                            "  white-space: pre-wrap;\n",
                            "}\n",
                            "</style>\n",
                            "<small>shape: (1_776_892, 65)</small><table border=\"1\" class=\"dataframe\"><thead><tr><th>trial_id</th><th>trial_number</th><th>participant_id</th><th>rownumber</th><th>timestamp</th><th>temperature</th><th>rating</th><th>samplenumber</th><th>eda_raw</th><th>eda_tonic</th><th>eda_phasic</th><th>ch1</th><th>ch2</th><th>ch3</th><th>ch4</th><th>ch5</th><th>ch6</th><th>ch7</th><th>ch8</th><th>ppg_raw</th><th>ppg_heartrate</th><th>ppg_ibi</th><th>pupil_l</th><th>pupil_r</th><th>pupil_r_filtered</th><th>pupil_l_filtered</th><th>anger</th><th>contempt</th><th>disgust</th><th>fear</th><th>joy</th><th>sadness</th><th>surprise</th><th>engagement</th><th>valence</th><th>sentimentality</th><th>confusion</th><th>neutral</th><th>attention</th><th>brow_furrow</th><th>brow_raise</th><th>cheek_raise</th><th>chin_raise</th><th>dimpler</th><th>eye_closure</th><th>eye_widen</th><th>inner_brow_raise</th><th>jaw_drop</th><th>lip_corner_depressor</th><th>lip_press</th><th>lip_pucker</th><th>lip_stretch</th><th>lip_suck</th><th>lid_tighten</th><th>mouth_open</th><th>nose_wrinkle</th><th>smile</th><th>smirk</th><th>upper_lip_raise</th><th>blink</th><th>blinkrate</th><th>pitch</th><th>yaw</th><th>roll</th><th>interocular_distance</th></tr><tr><td>u16</td><td>u8</td><td>u8</td><td>u32</td><td>f64</td><td>f64</td><td>f64</td><td>f64</td><td>f64</td><td>f64</td><td>f64</td><td>f64</td><td>f64</td><td>f64</td><td>f64</td><td>f64</td><td>f64</td><td>f64</td><td>f64</td><td>f64</td><td>f64</td><td>f64</td><td>f64</td><td>f64</td><td>f64</td><td>f64</td><td>f64</td><td>f64</td><td>f64</td><td>f64</td><td>f64</td><td>f64</td><td>f64</td><td>f64</td><td>f64</td><td>f64</td><td>f64</td><td>f64</td><td>f64</td><td>f64</td><td>f64</td><td>f64</td><td>f64</td><td>f64</td><td>f64</td><td>f64</td><td>f64</td><td>f64</td><td>f64</td><td>f64</td><td>f64</td><td>f64</td><td>f64</td><td>f64</td><td>f64</td><td>f64</td><td>f64</td><td>f64</td><td>f64</td><td>i64</td><td>i64</td><td>f64</td><td>f64</td><td>f64</td><td>f64</td></tr></thead><tbody><tr><td>1</td><td>1</td><td>1</td><td>0</td><td>294100.0</td><td>0.0</td><td>0.425</td><td>57896.142857</td><td>0.753564</td><td>0.752119</td><td>0.001445</td><td>9948.540039</td><td>12283.850586</td><td>5801.344238</td><td>18263.294922</td><td>12240.93457</td><td>17119.123047</td><td>13553.095703</td><td>5451.536133</td><td>1416.012559</td><td>-1.0</td><td>-1.0</td><td>5.73628</td><td>6.245389</td><td>6.013662</td><td>5.558055</td><td>0.00125</td><td>0.00182</td><td>0.00024</td><td>0.00024</td><td>0.00026</td><td>0.00125</td><td>0.00061</td><td>0.00329</td><td>0.0</td><td>0.00036</td><td>0.00036</td><td>0.99636</td><td>0.98485</td><td>0.00036</td><td>0.00436</td><td>0.00286</td><td>0.0</td><td>0.00341</td><td>0.0</td><td>0.00066</td><td>0.00086</td><td>0.01865</td><td>0.0</td><td>0.00002</td><td>0.0</td><td>0.00006</td><td>0.00001</td><td>0.0</td><td>0.0048</td><td>0.00007</td><td>0.00642</td><td>0.0</td><td>0.0</td><td>0</td><td>18</td><td>-0.2371</td><td>-0.01128</td><td>0.03344</td><td>99.168541</td></tr><tr><td>1</td><td>1</td><td>1</td><td>0</td><td>294200.0</td><td>0.0</td><td>0.425</td><td>57896.142857</td><td>0.753564</td><td>0.752119</td><td>0.001445</td><td>9970.474824</td><td>12306.00459</td><td>5792.134512</td><td>18260.699883</td><td>12252.623574</td><td>17113.822773</td><td>13547.498867</td><td>5446.654512</td><td>1416.012559</td><td>-1.0</td><td>-1.0</td><td>5.697124</td><td>6.225716</td><td>5.994456</td><td>5.539501</td><td>0.00125</td><td>0.00182</td><td>0.00024</td><td>0.00024</td><td>0.00026</td><td>0.00125</td><td>0.00061</td><td>0.00329</td><td>0.0</td><td>0.00036</td><td>0.00036</td><td>0.99636</td><td>0.98485</td><td>0.00036</td><td>0.00436</td><td>0.00286</td><td>0.0</td><td>0.00341</td><td>0.0</td><td>0.00066</td><td>0.00086</td><td>0.01865</td><td>0.0</td><td>0.00002</td><td>0.0</td><td>0.00006</td><td>0.00001</td><td>0.0</td><td>0.0048</td><td>0.00007</td><td>0.00642</td><td>0.0</td><td>0.0</td><td>0</td><td>18</td><td>-0.2371</td><td>-0.01128</td><td>0.03344</td><td>99.168541</td></tr><tr><td>1</td><td>1</td><td>1</td><td>0</td><td>294224.331</td><td>0.0</td><td>0.425</td><td>57902.321429</td><td>0.753535</td><td>0.752128</td><td>0.001407</td><td>9966.447959</td><td>12305.027012</td><td>5790.673486</td><td>18257.995391</td><td>12252.077129</td><td>17114.441172</td><td>13547.30335</td><td>5447.133188</td><td>1396.254143</td><td>-1.0</td><td>-1.0</td><td>5.657676</td><td>6.201457</td><td>5.977658</td><td>5.523324</td><td>0.00125</td><td>0.00182</td><td>0.00024</td><td>0.00024</td><td>0.00026</td><td>0.00125</td><td>0.00061</td><td>0.00329</td><td>0.0</td><td>0.00036</td><td>0.00036</td><td>0.99636</td><td>0.98485</td><td>0.00036</td><td>0.00436</td><td>0.00286</td><td>0.0</td><td>0.00341</td><td>0.0</td><td>0.00066</td><td>0.00086</td><td>0.01865</td><td>0.0</td><td>0.00002</td><td>0.0</td><td>0.00006</td><td>0.00001</td><td>0.0</td><td>0.0048</td><td>0.00007</td><td>0.00642</td><td>0.0</td><td>0.0</td><td>0</td><td>18</td><td>-0.2371</td><td>-0.01128</td><td>0.03344</td><td>99.168541</td></tr><tr><td>1</td><td>1</td><td>1</td><td>0</td><td>294300.0</td><td>0.000023</td><td>0.425</td><td>57908.5</td><td>0.753506</td><td>0.752138</td><td>0.001368</td><td>9962.421094</td><td>12304.049434</td><td>5789.212461</td><td>18255.290898</td><td>12251.530684</td><td>17115.05957</td><td>13547.107832</td><td>5447.611865</td><td>1376.495726</td><td>-1.0</td><td>-1.0</td><td>5.618228</td><td>6.177197</td><td>5.96086</td><td>5.507147</td><td>0.00125</td><td>0.00182</td><td>0.00024</td><td>0.00024</td><td>0.00026</td><td>0.00125</td><td>0.00061</td><td>0.00329</td><td>0.0</td><td>0.00036</td><td>0.00036</td><td>0.99636</td><td>0.98485</td><td>0.00036</td><td>0.00436</td><td>0.00286</td><td>0.0</td><td>0.00341</td><td>0.0</td><td>0.00066</td><td>0.00086</td><td>0.01865</td><td>0.0</td><td>0.00002</td><td>0.0</td><td>0.00006</td><td>0.00001</td><td>0.0</td><td>0.0048</td><td>0.00007</td><td>0.00642</td><td>0.0</td><td>0.0</td><td>0</td><td>18</td><td>-0.2371</td><td>-0.01128</td><td>0.03344</td><td>99.168541</td></tr><tr><td>1</td><td>1</td><td>1</td><td>0</td><td>294350.9838</td><td>0.000046</td><td>0.425</td><td>57913.291667</td><td>0.753475</td><td>0.752144</td><td>0.001331</td><td>9962.341374</td><td>12306.027415</td><td>5790.438558</td><td>18258.331224</td><td>12254.625977</td><td>17116.528529</td><td>13550.302031</td><td>5449.578083</td><td>1406.644282</td><td>-1.0</td><td>-1.0</td><td>5.583938</td><td>6.141867</td><td>5.949447</td><td>5.496201</td><td>0.00125</td><td>0.00182</td><td>0.00024</td><td>0.00024</td><td>0.00026</td><td>0.00125</td><td>0.00061</td><td>0.00329</td><td>0.0</td><td>0.00036</td><td>0.00036</td><td>0.99636</td><td>0.98485</td><td>0.00036</td><td>0.00436</td><td>0.00286</td><td>0.0</td><td>0.00341</td><td>0.0</td><td>0.00066</td><td>0.00086</td><td>0.01865</td><td>0.0</td><td>0.00002</td><td>0.0</td><td>0.00006</td><td>0.00001</td><td>0.0</td><td>0.0048</td><td>0.00007</td><td>0.00642</td><td>0.0</td><td>0.0</td><td>0</td><td>18</td><td>-0.2371</td><td>-0.01128</td><td>0.03344</td><td>99.168541</td></tr><tr><td>1</td><td>1</td><td>1</td><td>1</td><td>294357.9645</td><td>0.000069</td><td>0.425</td><td>57918.083333</td><td>0.753444</td><td>0.752151</td><td>0.001293</td><td>9962.261654</td><td>12308.005397</td><td>5791.664655</td><td>18261.371549</td><td>12257.72127</td><td>17117.997487</td><td>13553.49623</td><td>5451.5443</td><td>1436.792837</td><td>-1.0</td><td>-1.0</td><td>5.549648</td><td>6.106537</td><td>5.938035</td><td>5.485255</td><td>0.001253</td><td>0.001827</td><td>0.00024</td><td>0.00024</td><td>0.00026</td><td>0.00125</td><td>0.00061</td><td>0.00329</td><td>0.0</td><td>0.000347</td><td>0.000347</td><td>0.996343</td><td>0.985317</td><td>0.000347</td><td>0.00417</td><td>0.002493</td><td>0.0</td><td>0.00244</td><td>0.0</td><td>0.00078</td><td>0.000743</td><td>0.018433</td><td>0.0</td><td>0.000017</td><td>0.0</td><td>0.00005</td><td>0.00001</td><td>0.0</td><td>0.004387</td><td>0.000067</td><td>0.005843</td><td>0.0</td><td>0.0</td><td>0</td><td>18</td><td>-0.240617</td><td>-0.00964</td><td>0.03041</td><td>98.977119</td></tr><tr><td>&hellip;</td><td>&hellip;</td><td>&hellip;</td><td>&hellip;</td><td>&hellip;</td><td>&hellip;</td><td>&hellip;</td><td>&hellip;</td><td>&hellip;</td><td>&hellip;</td><td>&hellip;</td><td>&hellip;</td><td>&hellip;</td><td>&hellip;</td><td>&hellip;</td><td>&hellip;</td><td>&hellip;</td><td>&hellip;</td><td>&hellip;</td><td>&hellip;</td><td>&hellip;</td><td>&hellip;</td><td>&hellip;</td><td>&hellip;</td><td>&hellip;</td><td>&hellip;</td><td>&hellip;</td><td>&hellip;</td><td>&hellip;</td><td>&hellip;</td><td>&hellip;</td><td>&hellip;</td><td>&hellip;</td><td>&hellip;</td><td>&hellip;</td><td>&hellip;</td><td>&hellip;</td><td>&hellip;</td><td>&hellip;</td><td>&hellip;</td><td>&hellip;</td><td>&hellip;</td><td>&hellip;</td><td>&hellip;</td><td>&hellip;</td><td>&hellip;</td><td>&hellip;</td><td>&hellip;</td><td>&hellip;</td><td>&hellip;</td><td>&hellip;</td><td>&hellip;</td><td>&hellip;</td><td>&hellip;</td><td>&hellip;</td><td>&hellip;</td><td>&hellip;</td><td>&hellip;</td><td>&hellip;</td><td>&hellip;</td><td>&hellip;</td><td>&hellip;</td><td>&hellip;</td><td>&hellip;</td><td>&hellip;</td></tr><tr><td>332</td><td>12</td><td>28</td><td>21609</td><td>2.7770e6</td><td>0.155571</td><td>0.85</td><td>467065.187879</td><td>13.668701</td><td>13.578895</td><td>-0.019537</td><td>-25075.839352</td><td>-25399.273645</td><td>-23847.429885</td><td>-20807.704739</td><td>-23084.115875</td><td>-26667.363497</td><td>-26580.206911</td><td>-24035.833048</td><td>1579.97114</td><td>72.0</td><td>24.125</td><td>4.155845</td><td>4.041419</td><td>3.965991</td><td>4.014051</td><td>0.00416</td><td>0.00411</td><td>0.00027</td><td>0.00058</td><td>0.00024</td><td>0.00495</td><td>0.00063</td><td>0.0087</td><td>-0.02842</td><td>0.0</td><td>0.03276</td><td>0.99009</td><td>0.98525</td><td>0.30386</td><td>0.0</td><td>0.00001</td><td>0.0</td><td>0.0</td><td>0.0</td><td>0.00001</td><td>0.0</td><td>0.03276</td><td>0.0</td><td>0.0</td><td>0.00001</td><td>0.0</td><td>0.0</td><td>0.00051</td><td>0.0331</td><td>0.00215</td><td>0.0</td><td>0.00002</td><td>0.00005</td><td>0</td><td>36</td><td>-0.13019</td><td>-0.00993</td><td>-0.01892</td><td>105.746185</td></tr><tr><td>332</td><td>12</td><td>28</td><td>21609</td><td>2.777e6</td><td>0.155504</td><td>0.85</td><td>467069.6</td><td>13.672831</td><td>13.578894</td><td>-0.017389</td><td>-25074.633281</td><td>-25398.124297</td><td>-23847.370586</td><td>-20806.829531</td><td>-23083.218906</td><td>-26667.958906</td><td>-26579.725195</td><td>-24034.985977</td><td>1693.699634</td><td>72.0</td><td>-1.0</td><td>4.143909</td><td>4.03194</td><td>3.965874</td><td>4.013927</td><td>0.00408</td><td>0.004033</td><td>0.000273</td><td>0.00057</td><td>0.00024</td><td>0.004793</td><td>0.00063</td><td>0.00845</td><td>-0.024117</td><td>0.0</td><td>0.032033</td><td>0.99041</td><td>0.98526</td><td>0.296327</td><td>0.0</td><td>0.00001</td><td>0.0</td><td>0.0</td><td>0.0</td><td>0.00001</td><td>0.000003</td><td>0.032033</td><td>0.0</td><td>0.0</td><td>0.00001</td><td>0.0</td><td>0.0</td><td>0.000473</td><td>0.036433</td><td>0.00218</td><td>0.0</td><td>0.000017</td><td>0.00005</td><td>0</td><td>36</td><td>-0.130567</td><td>-0.009897</td><td>-0.018767</td><td>105.834084</td></tr><tr><td>332</td><td>12</td><td>28</td><td>21610</td><td>2.7770e6</td><td>0.155438</td><td>0.85</td><td>467072.288889</td><td>13.676178</td><td>13.578894</td><td>-0.015295</td><td>-25071.247057</td><td>-25391.894964</td><td>-23844.100873</td><td>-20799.967434</td><td>-23077.114337</td><td>-26666.796723</td><td>-26574.34389</td><td>-24033.445479</td><td>1727.912088</td><td>72.0</td><td>-1.0</td><td>4.128057</td><td>4.015512</td><td>3.965834</td><td>4.013886</td><td>0.004</td><td>0.003957</td><td>0.000277</td><td>0.00056</td><td>0.00024</td><td>0.004637</td><td>0.00063</td><td>0.0082</td><td>-0.019813</td><td>0.0</td><td>0.031307</td><td>0.99073</td><td>0.98527</td><td>0.288793</td><td>0.0</td><td>0.00001</td><td>0.0</td><td>0.0</td><td>0.0</td><td>0.00001</td><td>0.000007</td><td>0.031307</td><td>0.0</td><td>0.0</td><td>0.00001</td><td>0.0</td><td>0.0</td><td>0.000437</td><td>0.039767</td><td>0.00221</td><td>0.0</td><td>0.000013</td><td>0.00005</td><td>0</td><td>36</td><td>-0.130943</td><td>-0.009863</td><td>-0.018613</td><td>105.921982</td></tr><tr><td>332</td><td>12</td><td>28</td><td>21610</td><td>2.7771e6</td><td>0.155438</td><td>0.85</td><td>467074.977778</td><td>13.679525</td><td>13.578894</td><td>-0.013201</td><td>-25067.860833</td><td>-25385.665631</td><td>-23840.831161</td><td>-20793.105337</td><td>-23071.009768</td><td>-26665.634539</td><td>-26568.962585</td><td>-24031.904981</td><td>1762.124542</td><td>72.0</td><td>-1.0</td><td>4.112206</td><td>3.999084</td><td>3.965794</td><td>4.013846</td><td>0.00392</td><td>0.00388</td><td>0.00028</td><td>0.00055</td><td>0.00024</td><td>0.00448</td><td>0.00063</td><td>0.00795</td><td>-0.01551</td><td>0.0</td><td>0.03058</td><td>0.99105</td><td>0.98528</td><td>0.28126</td><td>0.0</td><td>0.00001</td><td>0.0</td><td>0.0</td><td>0.0</td><td>0.00001</td><td>0.00001</td><td>0.03058</td><td>0.0</td><td>0.0</td><td>0.00001</td><td>0.0</td><td>0.0</td><td>0.0004</td><td>0.0431</td><td>0.00224</td><td>0.0</td><td>0.00001</td><td>0.00005</td><td>0</td><td>36</td><td>-0.13132</td><td>-0.00983</td><td>-0.01846</td><td>106.00988</td></tr><tr><td>332</td><td>12</td><td>28</td><td>21610</td><td>2.7771e6</td><td>0.155438</td><td>0.85</td><td>467077.666667</td><td>13.682872</td><td>13.578894</td><td>-0.011107</td><td>-25064.474609</td><td>-25379.436298</td><td>-23837.561448</td><td>-20786.243239</td><td>-23064.905198</td><td>-26664.472356</td><td>-26563.58128</td><td>-24030.364483</td><td>1796.336996</td><td>72.0</td><td>-1.0</td><td>4.096355</td><td>3.982656</td><td>3.965753</td><td>4.013805</td><td>0.00392</td><td>0.00388</td><td>0.00028</td><td>0.00055</td><td>0.00024</td><td>0.00448</td><td>0.00063</td><td>0.00795</td><td>-0.01551</td><td>0.0</td><td>0.03058</td><td>0.99105</td><td>0.98528</td><td>0.28126</td><td>0.0</td><td>0.00001</td><td>0.0</td><td>0.0</td><td>0.0</td><td>0.00001</td><td>0.00001</td><td>0.03058</td><td>0.0</td><td>0.0</td><td>0.00001</td><td>0.0</td><td>0.0</td><td>0.0004</td><td>0.0431</td><td>0.00224</td><td>0.0</td><td>0.00001</td><td>0.00005</td><td>0</td><td>36</td><td>-0.13132</td><td>-0.00983</td><td>-0.01846</td><td>106.00988</td></tr><tr><td>332</td><td>12</td><td>28</td><td>21611</td><td>2.7771e6</td><td>0.155438</td><td>0.85</td><td>467077.666667</td><td>13.682872</td><td>13.578894</td><td>-0.011107</td><td>-25064.474609</td><td>-25379.436298</td><td>-23837.561448</td><td>-20786.243239</td><td>-23064.905198</td><td>-26664.472356</td><td>-26563.58128</td><td>-24030.364483</td><td>1796.336996</td><td>72.0</td><td>-1.0</td><td>4.096355</td><td>3.982656</td><td>3.965753</td><td>4.013805</td><td>0.00392</td><td>0.00388</td><td>0.00028</td><td>0.00055</td><td>0.00024</td><td>0.00448</td><td>0.00063</td><td>0.00795</td><td>-0.01551</td><td>0.0</td><td>0.03058</td><td>0.99105</td><td>0.98528</td><td>0.28126</td><td>0.0</td><td>0.00001</td><td>0.0</td><td>0.0</td><td>0.0</td><td>0.00001</td><td>0.00001</td><td>0.03058</td><td>0.0</td><td>0.0</td><td>0.00001</td><td>0.0</td><td>0.0</td><td>0.0004</td><td>0.0431</td><td>0.00224</td><td>0.0</td><td>0.00001</td><td>0.00005</td><td>0</td><td>36</td><td>-0.13132</td><td>-0.00983</td><td>-0.01846</td><td>106.00988</td></tr></tbody></table></div>"
                        ],
                        "text/plain": [
                            "shape: (1_776_892, 65)\n",
                            "┌──────────┬───────────┬───────────┬───────────┬───┬───────────┬───────────┬───────────┬───────────┐\n",
                            "│ trial_id ┆ trial_num ┆ participa ┆ rownumber ┆ … ┆ pitch     ┆ yaw       ┆ roll      ┆ interocul │\n",
                            "│ ---      ┆ ber       ┆ nt_id     ┆ ---       ┆   ┆ ---       ┆ ---       ┆ ---       ┆ ar_distan │\n",
                            "│ u16      ┆ ---       ┆ ---       ┆ u32       ┆   ┆ f64       ┆ f64       ┆ f64       ┆ ce        │\n",
                            "│          ┆ u8        ┆ u8        ┆           ┆   ┆           ┆           ┆           ┆ ---       │\n",
                            "│          ┆           ┆           ┆           ┆   ┆           ┆           ┆           ┆ f64       │\n",
                            "╞══════════╪═══════════╪═══════════╪═══════════╪═══╪═══════════╪═══════════╪═══════════╪═══════════╡\n",
                            "│ 1        ┆ 1         ┆ 1         ┆ 0         ┆ … ┆ -0.2371   ┆ -0.01128  ┆ 0.03344   ┆ 99.168541 │\n",
                            "│ 1        ┆ 1         ┆ 1         ┆ 0         ┆ … ┆ -0.2371   ┆ -0.01128  ┆ 0.03344   ┆ 99.168541 │\n",
                            "│ 1        ┆ 1         ┆ 1         ┆ 0         ┆ … ┆ -0.2371   ┆ -0.01128  ┆ 0.03344   ┆ 99.168541 │\n",
                            "│ 1        ┆ 1         ┆ 1         ┆ 0         ┆ … ┆ -0.2371   ┆ -0.01128  ┆ 0.03344   ┆ 99.168541 │\n",
                            "│ 1        ┆ 1         ┆ 1         ┆ 0         ┆ … ┆ -0.2371   ┆ -0.01128  ┆ 0.03344   ┆ 99.168541 │\n",
                            "│ 1        ┆ 1         ┆ 1         ┆ 1         ┆ … ┆ -0.240617 ┆ -0.00964  ┆ 0.03041   ┆ 98.977119 │\n",
                            "│ …        ┆ …         ┆ …         ┆ …         ┆ … ┆ …         ┆ …         ┆ …         ┆ …         │\n",
                            "│ 332      ┆ 12        ┆ 28        ┆ 21609     ┆ … ┆ -0.13019  ┆ -0.00993  ┆ -0.01892  ┆ 105.74618 │\n",
                            "│          ┆           ┆           ┆           ┆   ┆           ┆           ┆           ┆ 5         │\n",
                            "│ 332      ┆ 12        ┆ 28        ┆ 21609     ┆ … ┆ -0.130567 ┆ -0.009897 ┆ -0.018767 ┆ 105.83408 │\n",
                            "│          ┆           ┆           ┆           ┆   ┆           ┆           ┆           ┆ 4         │\n",
                            "│ 332      ┆ 12        ┆ 28        ┆ 21610     ┆ … ┆ -0.130943 ┆ -0.009863 ┆ -0.018613 ┆ 105.92198 │\n",
                            "│          ┆           ┆           ┆           ┆   ┆           ┆           ┆           ┆ 2         │\n",
                            "│ 332      ┆ 12        ┆ 28        ┆ 21610     ┆ … ┆ -0.13132  ┆ -0.00983  ┆ -0.01846  ┆ 106.00988 │\n",
                            "│ 332      ┆ 12        ┆ 28        ┆ 21610     ┆ … ┆ -0.13132  ┆ -0.00983  ┆ -0.01846  ┆ 106.00988 │\n",
                            "│ 332      ┆ 12        ┆ 28        ┆ 21611     ┆ … ┆ -0.13132  ┆ -0.00983  ┆ -0.01846  ┆ 106.00988 │\n",
                            "└──────────┴───────────┴───────────┴───────────┴───┴───────────┴───────────┴───────────┴───────────┘"
                        ]
                    },
                    "execution_count": 25,
                    "metadata": {},
                    "output_type": "execute_result"
                }
            ],
            "source": [
                "@map_trials\n",
                "def interpolate_and_fill_nulls(df: pl.DataFrame) -> pl.DataFrame:\n",
                "    \"\"\"\n",
                "    Interpolate and fill null values in a DataFrame.\n",
                "    \"\"\"\n",
                "    return (\n",
                "        df.with_columns(df.select(pl.selectors.by_dtype(pl.Float64)).interpolate())\n",
                "        .fill_null(strategy=\"forward\")\n",
                "        .fill_null(strategy=\"backward\")\n",
                "    )\n",
                "\n",
                "\n",
                "df = merge_dfs(dfs)\n",
                "df = interpolate_and_fill_nulls(df)\n",
                "df"
            ]
        },
        {
            "cell_type": "code",
            "execution_count": 26,
            "metadata": {},
            "outputs": [
                {
                    "data": {
                        "text/html": [
                            "<div><style>\n",
                            ".dataframe > thead > tr,\n",
                            ".dataframe > tbody > tr {\n",
                            "  text-align: right;\n",
                            "  white-space: pre-wrap;\n",
                            "}\n",
                            "</style>\n",
                            "<small>shape: (1_776_892, 65)</small><table border=\"1\" class=\"dataframe\"><thead><tr><th>trial_id</th><th>trial_number</th><th>participant_id</th><th>rownumber</th><th>timestamp</th><th>temperature</th><th>rating</th><th>samplenumber</th><th>eda_raw</th><th>eda_tonic</th><th>eda_phasic</th><th>ch1</th><th>ch2</th><th>ch3</th><th>ch4</th><th>ch5</th><th>ch6</th><th>ch7</th><th>ch8</th><th>ppg_raw</th><th>ppg_heartrate</th><th>ppg_ibi</th><th>pupil_l</th><th>pupil_r</th><th>pupil_r_filtered</th><th>pupil_l_filtered</th><th>anger</th><th>contempt</th><th>disgust</th><th>fear</th><th>joy</th><th>sadness</th><th>surprise</th><th>engagement</th><th>valence</th><th>sentimentality</th><th>confusion</th><th>neutral</th><th>attention</th><th>brow_furrow</th><th>brow_raise</th><th>cheek_raise</th><th>chin_raise</th><th>dimpler</th><th>eye_closure</th><th>eye_widen</th><th>inner_brow_raise</th><th>jaw_drop</th><th>lip_corner_depressor</th><th>lip_press</th><th>lip_pucker</th><th>lip_stretch</th><th>lip_suck</th><th>lid_tighten</th><th>mouth_open</th><th>nose_wrinkle</th><th>smile</th><th>smirk</th><th>upper_lip_raise</th><th>blink</th><th>blinkrate</th><th>pitch</th><th>yaw</th><th>roll</th><th>interocular_distance</th></tr><tr><td>u16</td><td>u8</td><td>u8</td><td>u32</td><td>f64</td><td>f64</td><td>f64</td><td>f64</td><td>f64</td><td>f64</td><td>f64</td><td>f64</td><td>f64</td><td>f64</td><td>f64</td><td>f64</td><td>f64</td><td>f64</td><td>f64</td><td>f64</td><td>f64</td><td>f64</td><td>f64</td><td>f64</td><td>f64</td><td>f64</td><td>f64</td><td>f64</td><td>f64</td><td>f64</td><td>f64</td><td>f64</td><td>f64</td><td>f64</td><td>f64</td><td>f64</td><td>f64</td><td>f64</td><td>f64</td><td>f64</td><td>f64</td><td>f64</td><td>f64</td><td>f64</td><td>f64</td><td>f64</td><td>f64</td><td>f64</td><td>f64</td><td>f64</td><td>f64</td><td>f64</td><td>f64</td><td>f64</td><td>f64</td><td>f64</td><td>f64</td><td>f64</td><td>f64</td><td>i64</td><td>i64</td><td>f64</td><td>f64</td><td>f64</td><td>f64</td></tr></thead><tbody><tr><td>1</td><td>1</td><td>1</td><td>0</td><td>294100.0</td><td>0.0</td><td>0.425</td><td>57896.142857</td><td>0.753564</td><td>0.752119</td><td>0.001445</td><td>9948.540039</td><td>12283.850586</td><td>5801.344238</td><td>18263.294922</td><td>12240.93457</td><td>17119.123047</td><td>13553.095703</td><td>5451.536133</td><td>1416.012559</td><td>-1.0</td><td>-1.0</td><td>5.73628</td><td>6.245389</td><td>6.013662</td><td>5.558055</td><td>0.00125</td><td>0.00182</td><td>0.00024</td><td>0.00024</td><td>0.00026</td><td>0.00125</td><td>0.00061</td><td>0.00329</td><td>0.0</td><td>0.00036</td><td>0.00036</td><td>0.99636</td><td>0.98485</td><td>0.00036</td><td>0.00436</td><td>0.00286</td><td>0.0</td><td>0.00341</td><td>0.0</td><td>0.00066</td><td>0.00086</td><td>0.01865</td><td>0.0</td><td>0.00002</td><td>0.0</td><td>0.00006</td><td>0.00001</td><td>0.0</td><td>0.0048</td><td>0.00007</td><td>0.00642</td><td>0.0</td><td>0.0</td><td>0</td><td>18</td><td>-0.2371</td><td>-0.01128</td><td>0.03344</td><td>99.168541</td></tr><tr><td>1</td><td>1</td><td>1</td><td>0</td><td>294200.0</td><td>0.0</td><td>0.425</td><td>57896.142857</td><td>0.753564</td><td>0.752119</td><td>0.001445</td><td>9970.474824</td><td>12306.00459</td><td>5792.134512</td><td>18260.699883</td><td>12252.623574</td><td>17113.822773</td><td>13547.498867</td><td>5446.654512</td><td>1416.012559</td><td>-1.0</td><td>-1.0</td><td>5.697124</td><td>6.225716</td><td>5.994456</td><td>5.539501</td><td>0.00125</td><td>0.00182</td><td>0.00024</td><td>0.00024</td><td>0.00026</td><td>0.00125</td><td>0.00061</td><td>0.00329</td><td>0.0</td><td>0.00036</td><td>0.00036</td><td>0.99636</td><td>0.98485</td><td>0.00036</td><td>0.00436</td><td>0.00286</td><td>0.0</td><td>0.00341</td><td>0.0</td><td>0.00066</td><td>0.00086</td><td>0.01865</td><td>0.0</td><td>0.00002</td><td>0.0</td><td>0.00006</td><td>0.00001</td><td>0.0</td><td>0.0048</td><td>0.00007</td><td>0.00642</td><td>0.0</td><td>0.0</td><td>0</td><td>18</td><td>-0.2371</td><td>-0.01128</td><td>0.03344</td><td>99.168541</td></tr><tr><td>1</td><td>1</td><td>1</td><td>0</td><td>294224.331</td><td>0.0</td><td>0.425</td><td>57902.321429</td><td>0.753535</td><td>0.752128</td><td>0.001407</td><td>9966.447959</td><td>12305.027012</td><td>5790.673486</td><td>18257.995391</td><td>12252.077129</td><td>17114.441172</td><td>13547.30335</td><td>5447.133188</td><td>1396.254143</td><td>-1.0</td><td>-1.0</td><td>5.657676</td><td>6.201457</td><td>5.977658</td><td>5.523324</td><td>0.00125</td><td>0.00182</td><td>0.00024</td><td>0.00024</td><td>0.00026</td><td>0.00125</td><td>0.00061</td><td>0.00329</td><td>0.0</td><td>0.00036</td><td>0.00036</td><td>0.99636</td><td>0.98485</td><td>0.00036</td><td>0.00436</td><td>0.00286</td><td>0.0</td><td>0.00341</td><td>0.0</td><td>0.00066</td><td>0.00086</td><td>0.01865</td><td>0.0</td><td>0.00002</td><td>0.0</td><td>0.00006</td><td>0.00001</td><td>0.0</td><td>0.0048</td><td>0.00007</td><td>0.00642</td><td>0.0</td><td>0.0</td><td>0</td><td>18</td><td>-0.2371</td><td>-0.01128</td><td>0.03344</td><td>99.168541</td></tr><tr><td>1</td><td>1</td><td>1</td><td>0</td><td>294300.0</td><td>0.000023</td><td>0.425</td><td>57908.5</td><td>0.753506</td><td>0.752138</td><td>0.001368</td><td>9962.421094</td><td>12304.049434</td><td>5789.212461</td><td>18255.290898</td><td>12251.530684</td><td>17115.05957</td><td>13547.107832</td><td>5447.611865</td><td>1376.495726</td><td>-1.0</td><td>-1.0</td><td>5.618228</td><td>6.177197</td><td>5.96086</td><td>5.507147</td><td>0.00125</td><td>0.00182</td><td>0.00024</td><td>0.00024</td><td>0.00026</td><td>0.00125</td><td>0.00061</td><td>0.00329</td><td>0.0</td><td>0.00036</td><td>0.00036</td><td>0.99636</td><td>0.98485</td><td>0.00036</td><td>0.00436</td><td>0.00286</td><td>0.0</td><td>0.00341</td><td>0.0</td><td>0.00066</td><td>0.00086</td><td>0.01865</td><td>0.0</td><td>0.00002</td><td>0.0</td><td>0.00006</td><td>0.00001</td><td>0.0</td><td>0.0048</td><td>0.00007</td><td>0.00642</td><td>0.0</td><td>0.0</td><td>0</td><td>18</td><td>-0.2371</td><td>-0.01128</td><td>0.03344</td><td>99.168541</td></tr><tr><td>1</td><td>1</td><td>1</td><td>0</td><td>294350.9838</td><td>0.000046</td><td>0.425</td><td>57913.291667</td><td>0.753475</td><td>0.752144</td><td>0.001331</td><td>9962.341374</td><td>12306.027415</td><td>5790.438558</td><td>18258.331224</td><td>12254.625977</td><td>17116.528529</td><td>13550.302031</td><td>5449.578083</td><td>1406.644282</td><td>-1.0</td><td>-1.0</td><td>5.583938</td><td>6.141867</td><td>5.949447</td><td>5.496201</td><td>0.00125</td><td>0.00182</td><td>0.00024</td><td>0.00024</td><td>0.00026</td><td>0.00125</td><td>0.00061</td><td>0.00329</td><td>0.0</td><td>0.00036</td><td>0.00036</td><td>0.99636</td><td>0.98485</td><td>0.00036</td><td>0.00436</td><td>0.00286</td><td>0.0</td><td>0.00341</td><td>0.0</td><td>0.00066</td><td>0.00086</td><td>0.01865</td><td>0.0</td><td>0.00002</td><td>0.0</td><td>0.00006</td><td>0.00001</td><td>0.0</td><td>0.0048</td><td>0.00007</td><td>0.00642</td><td>0.0</td><td>0.0</td><td>0</td><td>18</td><td>-0.2371</td><td>-0.01128</td><td>0.03344</td><td>99.168541</td></tr><tr><td>1</td><td>1</td><td>1</td><td>1</td><td>294357.9645</td><td>0.000069</td><td>0.425</td><td>57918.083333</td><td>0.753444</td><td>0.752151</td><td>0.001293</td><td>9962.261654</td><td>12308.005397</td><td>5791.664655</td><td>18261.371549</td><td>12257.72127</td><td>17117.997487</td><td>13553.49623</td><td>5451.5443</td><td>1436.792837</td><td>-1.0</td><td>-1.0</td><td>5.549648</td><td>6.106537</td><td>5.938035</td><td>5.485255</td><td>0.001253</td><td>0.001827</td><td>0.00024</td><td>0.00024</td><td>0.00026</td><td>0.00125</td><td>0.00061</td><td>0.00329</td><td>0.0</td><td>0.000347</td><td>0.000347</td><td>0.996343</td><td>0.985317</td><td>0.000347</td><td>0.00417</td><td>0.002493</td><td>0.0</td><td>0.00244</td><td>0.0</td><td>0.00078</td><td>0.000743</td><td>0.018433</td><td>0.0</td><td>0.000017</td><td>0.0</td><td>0.00005</td><td>0.00001</td><td>0.0</td><td>0.004387</td><td>0.000067</td><td>0.005843</td><td>0.0</td><td>0.0</td><td>0</td><td>18</td><td>-0.240617</td><td>-0.00964</td><td>0.03041</td><td>98.977119</td></tr><tr><td>&hellip;</td><td>&hellip;</td><td>&hellip;</td><td>&hellip;</td><td>&hellip;</td><td>&hellip;</td><td>&hellip;</td><td>&hellip;</td><td>&hellip;</td><td>&hellip;</td><td>&hellip;</td><td>&hellip;</td><td>&hellip;</td><td>&hellip;</td><td>&hellip;</td><td>&hellip;</td><td>&hellip;</td><td>&hellip;</td><td>&hellip;</td><td>&hellip;</td><td>&hellip;</td><td>&hellip;</td><td>&hellip;</td><td>&hellip;</td><td>&hellip;</td><td>&hellip;</td><td>&hellip;</td><td>&hellip;</td><td>&hellip;</td><td>&hellip;</td><td>&hellip;</td><td>&hellip;</td><td>&hellip;</td><td>&hellip;</td><td>&hellip;</td><td>&hellip;</td><td>&hellip;</td><td>&hellip;</td><td>&hellip;</td><td>&hellip;</td><td>&hellip;</td><td>&hellip;</td><td>&hellip;</td><td>&hellip;</td><td>&hellip;</td><td>&hellip;</td><td>&hellip;</td><td>&hellip;</td><td>&hellip;</td><td>&hellip;</td><td>&hellip;</td><td>&hellip;</td><td>&hellip;</td><td>&hellip;</td><td>&hellip;</td><td>&hellip;</td><td>&hellip;</td><td>&hellip;</td><td>&hellip;</td><td>&hellip;</td><td>&hellip;</td><td>&hellip;</td><td>&hellip;</td><td>&hellip;</td><td>&hellip;</td></tr><tr><td>332</td><td>12</td><td>28</td><td>21609</td><td>2.7770e6</td><td>0.155571</td><td>0.85</td><td>467065.187879</td><td>13.668701</td><td>13.578895</td><td>-0.019537</td><td>-25075.839352</td><td>-25399.273645</td><td>-23847.429885</td><td>-20807.704739</td><td>-23084.115875</td><td>-26667.363497</td><td>-26580.206911</td><td>-24035.833048</td><td>1579.97114</td><td>72.0</td><td>24.125</td><td>4.155845</td><td>4.041419</td><td>3.965991</td><td>4.014051</td><td>0.00416</td><td>0.00411</td><td>0.00027</td><td>0.00058</td><td>0.00024</td><td>0.00495</td><td>0.00063</td><td>0.0087</td><td>-0.02842</td><td>0.0</td><td>0.03276</td><td>0.99009</td><td>0.98525</td><td>0.30386</td><td>0.0</td><td>0.00001</td><td>0.0</td><td>0.0</td><td>0.0</td><td>0.00001</td><td>0.0</td><td>0.03276</td><td>0.0</td><td>0.0</td><td>0.00001</td><td>0.0</td><td>0.0</td><td>0.00051</td><td>0.0331</td><td>0.00215</td><td>0.0</td><td>0.00002</td><td>0.00005</td><td>0</td><td>36</td><td>-0.13019</td><td>-0.00993</td><td>-0.01892</td><td>105.746185</td></tr><tr><td>332</td><td>12</td><td>28</td><td>21609</td><td>2.777e6</td><td>0.155504</td><td>0.85</td><td>467069.6</td><td>13.672831</td><td>13.578894</td><td>-0.017389</td><td>-25074.633281</td><td>-25398.124297</td><td>-23847.370586</td><td>-20806.829531</td><td>-23083.218906</td><td>-26667.958906</td><td>-26579.725195</td><td>-24034.985977</td><td>1693.699634</td><td>72.0</td><td>-1.0</td><td>4.143909</td><td>4.03194</td><td>3.965874</td><td>4.013927</td><td>0.00408</td><td>0.004033</td><td>0.000273</td><td>0.00057</td><td>0.00024</td><td>0.004793</td><td>0.00063</td><td>0.00845</td><td>-0.024117</td><td>0.0</td><td>0.032033</td><td>0.99041</td><td>0.98526</td><td>0.296327</td><td>0.0</td><td>0.00001</td><td>0.0</td><td>0.0</td><td>0.0</td><td>0.00001</td><td>0.000003</td><td>0.032033</td><td>0.0</td><td>0.0</td><td>0.00001</td><td>0.0</td><td>0.0</td><td>0.000473</td><td>0.036433</td><td>0.00218</td><td>0.0</td><td>0.000017</td><td>0.00005</td><td>0</td><td>36</td><td>-0.130567</td><td>-0.009897</td><td>-0.018767</td><td>105.834084</td></tr><tr><td>332</td><td>12</td><td>28</td><td>21610</td><td>2.7770e6</td><td>0.155438</td><td>0.85</td><td>467072.288889</td><td>13.676178</td><td>13.578894</td><td>-0.015295</td><td>-25071.247057</td><td>-25391.894964</td><td>-23844.100873</td><td>-20799.967434</td><td>-23077.114337</td><td>-26666.796723</td><td>-26574.34389</td><td>-24033.445479</td><td>1727.912088</td><td>72.0</td><td>-1.0</td><td>4.128057</td><td>4.015512</td><td>3.965834</td><td>4.013886</td><td>0.004</td><td>0.003957</td><td>0.000277</td><td>0.00056</td><td>0.00024</td><td>0.004637</td><td>0.00063</td><td>0.0082</td><td>-0.019813</td><td>0.0</td><td>0.031307</td><td>0.99073</td><td>0.98527</td><td>0.288793</td><td>0.0</td><td>0.00001</td><td>0.0</td><td>0.0</td><td>0.0</td><td>0.00001</td><td>0.000007</td><td>0.031307</td><td>0.0</td><td>0.0</td><td>0.00001</td><td>0.0</td><td>0.0</td><td>0.000437</td><td>0.039767</td><td>0.00221</td><td>0.0</td><td>0.000013</td><td>0.00005</td><td>0</td><td>36</td><td>-0.130943</td><td>-0.009863</td><td>-0.018613</td><td>105.921982</td></tr><tr><td>332</td><td>12</td><td>28</td><td>21610</td><td>2.7771e6</td><td>0.155438</td><td>0.85</td><td>467074.977778</td><td>13.679525</td><td>13.578894</td><td>-0.013201</td><td>-25067.860833</td><td>-25385.665631</td><td>-23840.831161</td><td>-20793.105337</td><td>-23071.009768</td><td>-26665.634539</td><td>-26568.962585</td><td>-24031.904981</td><td>1762.124542</td><td>72.0</td><td>-1.0</td><td>4.112206</td><td>3.999084</td><td>3.965794</td><td>4.013846</td><td>0.00392</td><td>0.00388</td><td>0.00028</td><td>0.00055</td><td>0.00024</td><td>0.00448</td><td>0.00063</td><td>0.00795</td><td>-0.01551</td><td>0.0</td><td>0.03058</td><td>0.99105</td><td>0.98528</td><td>0.28126</td><td>0.0</td><td>0.00001</td><td>0.0</td><td>0.0</td><td>0.0</td><td>0.00001</td><td>0.00001</td><td>0.03058</td><td>0.0</td><td>0.0</td><td>0.00001</td><td>0.0</td><td>0.0</td><td>0.0004</td><td>0.0431</td><td>0.00224</td><td>0.0</td><td>0.00001</td><td>0.00005</td><td>0</td><td>36</td><td>-0.13132</td><td>-0.00983</td><td>-0.01846</td><td>106.00988</td></tr><tr><td>332</td><td>12</td><td>28</td><td>21610</td><td>2.7771e6</td><td>0.155438</td><td>0.85</td><td>467077.666667</td><td>13.682872</td><td>13.578894</td><td>-0.011107</td><td>-25064.474609</td><td>-25379.436298</td><td>-23837.561448</td><td>-20786.243239</td><td>-23064.905198</td><td>-26664.472356</td><td>-26563.58128</td><td>-24030.364483</td><td>1796.336996</td><td>72.0</td><td>-1.0</td><td>4.096355</td><td>3.982656</td><td>3.965753</td><td>4.013805</td><td>0.00392</td><td>0.00388</td><td>0.00028</td><td>0.00055</td><td>0.00024</td><td>0.00448</td><td>0.00063</td><td>0.00795</td><td>-0.01551</td><td>0.0</td><td>0.03058</td><td>0.99105</td><td>0.98528</td><td>0.28126</td><td>0.0</td><td>0.00001</td><td>0.0</td><td>0.0</td><td>0.0</td><td>0.00001</td><td>0.00001</td><td>0.03058</td><td>0.0</td><td>0.0</td><td>0.00001</td><td>0.0</td><td>0.0</td><td>0.0004</td><td>0.0431</td><td>0.00224</td><td>0.0</td><td>0.00001</td><td>0.00005</td><td>0</td><td>36</td><td>-0.13132</td><td>-0.00983</td><td>-0.01846</td><td>106.00988</td></tr><tr><td>332</td><td>12</td><td>28</td><td>21611</td><td>2.7771e6</td><td>0.155438</td><td>0.85</td><td>467077.666667</td><td>13.682872</td><td>13.578894</td><td>-0.011107</td><td>-25064.474609</td><td>-25379.436298</td><td>-23837.561448</td><td>-20786.243239</td><td>-23064.905198</td><td>-26664.472356</td><td>-26563.58128</td><td>-24030.364483</td><td>1796.336996</td><td>72.0</td><td>-1.0</td><td>4.096355</td><td>3.982656</td><td>3.965753</td><td>4.013805</td><td>0.00392</td><td>0.00388</td><td>0.00028</td><td>0.00055</td><td>0.00024</td><td>0.00448</td><td>0.00063</td><td>0.00795</td><td>-0.01551</td><td>0.0</td><td>0.03058</td><td>0.99105</td><td>0.98528</td><td>0.28126</td><td>0.0</td><td>0.00001</td><td>0.0</td><td>0.0</td><td>0.0</td><td>0.00001</td><td>0.00001</td><td>0.03058</td><td>0.0</td><td>0.0</td><td>0.00001</td><td>0.0</td><td>0.0</td><td>0.0004</td><td>0.0431</td><td>0.00224</td><td>0.0</td><td>0.00001</td><td>0.00005</td><td>0</td><td>36</td><td>-0.13132</td><td>-0.00983</td><td>-0.01846</td><td>106.00988</td></tr></tbody></table></div>"
                        ],
                        "text/plain": [
                            "shape: (1_776_892, 65)\n",
                            "┌──────────┬───────────┬───────────┬───────────┬───┬───────────┬───────────┬───────────┬───────────┐\n",
                            "│ trial_id ┆ trial_num ┆ participa ┆ rownumber ┆ … ┆ pitch     ┆ yaw       ┆ roll      ┆ interocul │\n",
                            "│ ---      ┆ ber       ┆ nt_id     ┆ ---       ┆   ┆ ---       ┆ ---       ┆ ---       ┆ ar_distan │\n",
                            "│ u16      ┆ ---       ┆ ---       ┆ u32       ┆   ┆ f64       ┆ f64       ┆ f64       ┆ ce        │\n",
                            "│          ┆ u8        ┆ u8        ┆           ┆   ┆           ┆           ┆           ┆ ---       │\n",
                            "│          ┆           ┆           ┆           ┆   ┆           ┆           ┆           ┆ f64       │\n",
                            "╞══════════╪═══════════╪═══════════╪═══════════╪═══╪═══════════╪═══════════╪═══════════╪═══════════╡\n",
                            "│ 1        ┆ 1         ┆ 1         ┆ 0         ┆ … ┆ -0.2371   ┆ -0.01128  ┆ 0.03344   ┆ 99.168541 │\n",
                            "│ 1        ┆ 1         ┆ 1         ┆ 0         ┆ … ┆ -0.2371   ┆ -0.01128  ┆ 0.03344   ┆ 99.168541 │\n",
                            "│ 1        ┆ 1         ┆ 1         ┆ 0         ┆ … ┆ -0.2371   ┆ -0.01128  ┆ 0.03344   ┆ 99.168541 │\n",
                            "│ 1        ┆ 1         ┆ 1         ┆ 0         ┆ … ┆ -0.2371   ┆ -0.01128  ┆ 0.03344   ┆ 99.168541 │\n",
                            "│ 1        ┆ 1         ┆ 1         ┆ 0         ┆ … ┆ -0.2371   ┆ -0.01128  ┆ 0.03344   ┆ 99.168541 │\n",
                            "│ 1        ┆ 1         ┆ 1         ┆ 1         ┆ … ┆ -0.240617 ┆ -0.00964  ┆ 0.03041   ┆ 98.977119 │\n",
                            "│ …        ┆ …         ┆ …         ┆ …         ┆ … ┆ …         ┆ …         ┆ …         ┆ …         │\n",
                            "│ 332      ┆ 12        ┆ 28        ┆ 21609     ┆ … ┆ -0.13019  ┆ -0.00993  ┆ -0.01892  ┆ 105.74618 │\n",
                            "│          ┆           ┆           ┆           ┆   ┆           ┆           ┆           ┆ 5         │\n",
                            "│ 332      ┆ 12        ┆ 28        ┆ 21609     ┆ … ┆ -0.130567 ┆ -0.009897 ┆ -0.018767 ┆ 105.83408 │\n",
                            "│          ┆           ┆           ┆           ┆   ┆           ┆           ┆           ┆ 4         │\n",
                            "│ 332      ┆ 12        ┆ 28        ┆ 21610     ┆ … ┆ -0.130943 ┆ -0.009863 ┆ -0.018613 ┆ 105.92198 │\n",
                            "│          ┆           ┆           ┆           ┆   ┆           ┆           ┆           ┆ 2         │\n",
                            "│ 332      ┆ 12        ┆ 28        ┆ 21610     ┆ … ┆ -0.13132  ┆ -0.00983  ┆ -0.01846  ┆ 106.00988 │\n",
                            "│ 332      ┆ 12        ┆ 28        ┆ 21610     ┆ … ┆ -0.13132  ┆ -0.00983  ┆ -0.01846  ┆ 106.00988 │\n",
                            "│ 332      ┆ 12        ┆ 28        ┆ 21611     ┆ … ┆ -0.13132  ┆ -0.00983  ┆ -0.01846  ┆ 106.00988 │\n",
                            "└──────────┴───────────┴───────────┴───────────┴───┴───────────┴───────────┴───────────┴───────────┘"
                        ]
                    },
                    "execution_count": 26,
                    "metadata": {},
                    "output_type": "execute_result"
                }
            ],
            "source": [
                "with db:\n",
                "    df = db.get_final_feature_data()\n",
                "\n",
                "df"
            ]
        },
        {
            "cell_type": "code",
            "execution_count": null,
            "metadata": {},
            "outputs": [],
            "source": []
        },
        {
            "cell_type": "code",
            "execution_count": 27,
            "metadata": {},
            "outputs": [
                {
                    "data": {
                        "application/vnd.jupyter.widget-view+json": {
                            "model_id": "fcd404b19df04c31ba70b0340e4b8907",
                            "version_major": 2,
                            "version_minor": 0
                        },
                        "text/plain": [
                            "BokehModel(combine_events=True, render_bundle={'docs_json': {'cb84d8d1-c2d3-4927-a099-7b83c7dbf6d3': {'version…"
                        ]
                    },
                    "execution_count": 27,
                    "metadata": {},
                    "output_type": "execute_result"
                }
            ],
            "source": [
                "df.hvplot(\n",
                "    x=\"timestamp\",\n",
                "    y=[\n",
                "        \"eda_tonic\",\n",
                "        \"eda_phasic\",\n",
                "        \"ppg_raw\",\n",
                "        \"rating\",\n",
                "    ],\n",
                "    kind=\"line\",\n",
                "    groupby=\"trial_id\",\n",
                ")"
            ]
        },
        {
            "cell_type": "code",
            "execution_count": null,
            "metadata": {},
            "outputs": [],
            "source": []
        },
        {
            "cell_type": "code",
            "execution_count": 28,
            "metadata": {},
            "outputs": [
                {
                    "name": "stdout",
                    "output_type": "stream",
                    "text": [
                        "shape: (2, 1)\n",
                        "┌───────┐\n",
                        "│ value │\n",
                        "│ ---   │\n",
                        "│ f64   │\n",
                        "╞═══════╡\n",
                        "│ 1.0   │\n",
                        "│ null  │\n",
                        "└───────┘\n"
                    ]
                }
            ],
            "source": [
                "df = pl.DataFrame(\n",
                "    {\n",
                "        \"value\": [1.0, None],\n",
                "    },\n",
                ")\n",
                "print(df)\n"
            ]
        },
        {
            "cell_type": "code",
            "execution_count": 29,
            "metadata": {},
            "outputs": [
                {
                    "data": {
                        "text/html": [
                            "<div><style>\n",
                            ".dataframe > thead > tr,\n",
                            ".dataframe > tbody > tr {\n",
                            "  text-align: right;\n",
                            "  white-space: pre-wrap;\n",
                            "}\n",
                            "</style>\n",
                            "<small>shape: (1_195_791, 12)</small><table border=\"1\" class=\"dataframe\"><thead><tr><th>trial_id</th><th>trial_number</th><th>participant_id</th><th>rownumber</th><th>timestamp</th><th>samplenumber</th><th>eda_raw</th><th>eda_tonic</th><th>eda_phasic</th><th>rownumber_right</th><th>temperature</th><th>rating</th></tr><tr><td>u16</td><td>u8</td><td>u8</td><td>f64</td><td>f64</td><td>f64</td><td>f64</td><td>f64</td><td>f64</td><td>u32</td><td>f64</td><td>f64</td></tr></thead><tbody><tr><td>1</td><td>1</td><td>1</td><td>37664.142857</td><td>294200.0</td><td>57896.142857</td><td>0.753564</td><td>0.752119</td><td>0.001445</td><td>null</td><td>null</td><td>null</td></tr><tr><td>1</td><td>1</td><td>1</td><td>null</td><td>294224.331</td><td>null</td><td>null</td><td>null</td><td>null</td><td>0</td><td>0.0</td><td>0.425</td></tr><tr><td>1</td><td>1</td><td>1</td><td>37676.5</td><td>294300.0</td><td>57908.5</td><td>0.753506</td><td>0.752138</td><td>0.001368</td><td>null</td><td>null</td><td>null</td></tr><tr><td>1</td><td>1</td><td>1</td><td>null</td><td>294357.9645</td><td>null</td><td>null</td><td>null</td><td>null</td><td>1</td><td>0.000069</td><td>0.425</td></tr><tr><td>1</td><td>1</td><td>1</td><td>37690.875</td><td>294400.0</td><td>57922.875</td><td>0.753413</td><td>0.752158</td><td>0.001256</td><td>null</td><td>null</td><td>null</td></tr><tr><td>1</td><td>1</td><td>1</td><td>null</td><td>294458.0292</td><td>null</td><td>null</td><td>null</td><td>null</td><td>2</td><td>0.000277</td><td>0.35375</td></tr><tr><td>&hellip;</td><td>&hellip;</td><td>&hellip;</td><td>&hellip;</td><td>&hellip;</td><td>&hellip;</td><td>&hellip;</td><td>&hellip;</td><td>&hellip;</td><td>&hellip;</td><td>&hellip;</td><td>&hellip;</td></tr><tr><td>332</td><td>12</td><td>28</td><td>355459.363636</td><td>2.7769e6</td><td>467056.363636</td><td>13.660439</td><td>13.578896</td><td>-0.023833</td><td>null</td><td>null</td><td>null</td></tr><tr><td>332</td><td>12</td><td>28</td><td>null</td><td>2.7769e6</td><td>null</td><td>null</td><td>null</td><td>null</td><td>21609</td><td>0.155637</td><td>0.85</td></tr><tr><td>332</td><td>12</td><td>28</td><td>355472.6</td><td>2.777e6</td><td>467069.6</td><td>13.672831</td><td>13.578894</td><td>-0.017389</td><td>null</td><td>null</td><td>null</td></tr><tr><td>332</td><td>12</td><td>28</td><td>null</td><td>2.7770e6</td><td>null</td><td>null</td><td>null</td><td>null</td><td>21610</td><td>0.155438</td><td>0.85</td></tr><tr><td>332</td><td>12</td><td>28</td><td>355480.666667</td><td>2.7771e6</td><td>467077.666667</td><td>13.682872</td><td>13.578894</td><td>-0.011107</td><td>null</td><td>null</td><td>null</td></tr><tr><td>332</td><td>12</td><td>28</td><td>null</td><td>2.7771e6</td><td>null</td><td>null</td><td>null</td><td>null</td><td>21611</td><td>0.155438</td><td>0.85</td></tr></tbody></table></div>"
                        ],
                        "text/plain": [
                            "shape: (1_195_791, 12)\n",
                            "┌──────────┬────────────┬────────────┬───────────┬───┬───────────┬───────────┬───────────┬─────────┐\n",
                            "│ trial_id ┆ trial_numb ┆ participan ┆ rownumber ┆ … ┆ eda_phasi ┆ rownumber ┆ temperatu ┆ rating  │\n",
                            "│ ---      ┆ er         ┆ t_id       ┆ ---       ┆   ┆ c         ┆ _right    ┆ re        ┆ ---     │\n",
                            "│ u16      ┆ ---        ┆ ---        ┆ f64       ┆   ┆ ---       ┆ ---       ┆ ---       ┆ f64     │\n",
                            "│          ┆ u8         ┆ u8         ┆           ┆   ┆ f64       ┆ u32       ┆ f64       ┆         │\n",
                            "╞══════════╪════════════╪════════════╪═══════════╪═══╪═══════════╪═══════════╪═══════════╪═════════╡\n",
                            "│ 1        ┆ 1          ┆ 1          ┆ 37664.142 ┆ … ┆ 0.001445  ┆ null      ┆ null      ┆ null    │\n",
                            "│          ┆            ┆            ┆ 857       ┆   ┆           ┆           ┆           ┆         │\n",
                            "│ 1        ┆ 1          ┆ 1          ┆ null      ┆ … ┆ null      ┆ 0         ┆ 0.0       ┆ 0.425   │\n",
                            "│ 1        ┆ 1          ┆ 1          ┆ 37676.5   ┆ … ┆ 0.001368  ┆ null      ┆ null      ┆ null    │\n",
                            "│ 1        ┆ 1          ┆ 1          ┆ null      ┆ … ┆ null      ┆ 1         ┆ 0.000069  ┆ 0.425   │\n",
                            "│ 1        ┆ 1          ┆ 1          ┆ 37690.875 ┆ … ┆ 0.001256  ┆ null      ┆ null      ┆ null    │\n",
                            "│ 1        ┆ 1          ┆ 1          ┆ null      ┆ … ┆ null      ┆ 2         ┆ 0.000277  ┆ 0.35375 │\n",
                            "│ …        ┆ …          ┆ …          ┆ …         ┆ … ┆ …         ┆ …         ┆ …         ┆ …       │\n",
                            "│ 332      ┆ 12         ┆ 28         ┆ 355459.36 ┆ … ┆ -0.023833 ┆ null      ┆ null      ┆ null    │\n",
                            "│          ┆            ┆            ┆ 3636      ┆   ┆           ┆           ┆           ┆         │\n",
                            "│ 332      ┆ 12         ┆ 28         ┆ null      ┆ … ┆ null      ┆ 21609     ┆ 0.155637  ┆ 0.85    │\n",
                            "│ 332      ┆ 12         ┆ 28         ┆ 355472.6  ┆ … ┆ -0.017389 ┆ null      ┆ null      ┆ null    │\n",
                            "│ 332      ┆ 12         ┆ 28         ┆ null      ┆ … ┆ null      ┆ 21610     ┆ 0.155438  ┆ 0.85    │\n",
                            "│ 332      ┆ 12         ┆ 28         ┆ 355480.66 ┆ … ┆ -0.011107 ┆ null      ┆ null      ┆ null    │\n",
                            "│          ┆            ┆            ┆ 6667      ┆   ┆           ┆           ┆           ┆         │\n",
                            "│ 332      ┆ 12         ┆ 28         ┆ null      ┆ … ┆ null      ┆ 21611     ┆ 0.155438  ┆ 0.85    │\n",
                            "└──────────┴────────────┴────────────┴───────────┴───┴───────────┴───────────┴───────────┴─────────┘"
                        ]
                    },
                    "execution_count": 29,
                    "metadata": {},
                    "output_type": "execute_result"
                }
            ],
            "source": [
                "modalities = DataConfig().MODALITIES\n",
                "modalities = [\"EDA\", \"PPG\"]\n",
                "\n",
                "merge_on: list[str] = [\"participant_id\", \"trial_id\", \"trial_number\", \"timestamp\"]\n",
                "sort_by: list[str] = [\"trial_id\", \"timestamp\"]\n",
                "\n",
                "with db:\n",
                "    eda = db.get_table(\"Feature_EDA\")\n",
                "    stimulus = db.get_table(\"Feature_Stimulus\")\n",
                "\n",
                "df = eda.join(\n",
                "    stimulus,\n",
                "    on=merge_on,\n",
                "    how=\"full\",\n",
                "    coalesce=True,\n",
                ").sort(sort_by)\n",
                "\n",
                "df"
            ]
        },
        {
            "cell_type": "code",
            "execution_count": 30,
            "metadata": {},
            "outputs": [
                {
                    "data": {
                        "application/vnd.jupyter.widget-view+json": {
                            "model_id": "ff79dd6483f4454cb287d900a4945181",
                            "version_major": 2,
                            "version_minor": 0
                        },
                        "text/plain": [
                            "BokehModel(combine_events=True, render_bundle={'docs_json': {'a3c2bed1-37da-4d24-89fc-3fd495447637': {'version…"
                        ]
                    },
                    "execution_count": 30,
                    "metadata": {},
                    "output_type": "execute_result"
                }
            ],
            "source": [
                "df.fill_null(strategy=\"forward\").plot(\n",
                "    x=\"timestamp\", y=[\"eda_tonic\", \"temperature\"], groupby=\"trial_id\"\n",
                ")"
            ]
        },
        {
            "cell_type": "code",
            "execution_count": 31,
            "metadata": {},
            "outputs": [
                {
                    "data": {
                        "application/vnd.jupyter.widget-view+json": {
                            "model_id": "81c340315b8c47a0962a921087bddff0",
                            "version_major": 2,
                            "version_minor": 0
                        },
                        "text/plain": [
                            "BokehModel(combine_events=True, render_bundle={'docs_json': {'f6448d8a-c98b-406c-93d4-68e02874e0ed': {'version…"
                        ]
                    },
                    "execution_count": 31,
                    "metadata": {},
                    "output_type": "execute_result"
                }
            ],
            "source": [
                "stimulus.plot(x=\"timestamp\", y=\"rating\", groupby=\"trial_id\")"
            ]
        },
        {
            "cell_type": "code",
            "execution_count": 32,
            "metadata": {},
            "outputs": [],
            "source": [
                "with db:\n",
                "    # db.get_table(\"Raw_Stimulus\")\n",
                "    db.get_table(\"Preprocess_EDA\")"
            ]
        },
        {
            "cell_type": "code",
            "execution_count": 33,
            "metadata": {},
            "outputs": [],
            "source": [
                "# note that this is not an ASOF join TODO\n",
                "def merge_datasets(\n",
                "    dfs: list[pl.DataFrame],\n",
                "    merge_on: list[str] = [\"Timestamp\", \"Trial\", \"Participant\"],\n",
                "    sort_by: list[str] = [\"Timestamp\"],\n",
                ") -> pl.DataFrame:\n",
                "    \"\"\"\n",
                "    Merge multiple DataFrames into a single DataFrame.\n",
                "\n",
                "    The default merge_on and sort_by columns are for merging different modalities of\n",
                "    one participant.\n",
                "\n",
                "    The function can also be used to merge multiple participants' modalities with\n",
                "    a different merge_on and sort_by column.\n",
                "\n",
                "    Examples:\n",
                "\n",
                "    Merge two datasets of different modalities of one participant:\n",
                "    >>> dfs = load_participant_datasets(PARTICIPANT_LIST[0], INTERIM_LIST)\n",
                "    >>> eda_plus_rating = merge_datasets([dfs.eda, dfs.stimulus])\n",
                "\n",
                "\n",
                "    Merge multiple participants' modalities:\n",
                "    ````python\n",
                "    # The load function loads one modality for multiple participants\n",
                "    stimuli = load_modality_data(PARTICIPANT_LIST, INTERIM_DICT[\"stimulus\"])\n",
                "    eda = load_modality_data(PARTICIPANT_LIST, INTERIM_DICT[\"eda\"])\n",
                "    multiple_eda_plus_rating = merge_datasets(\n",
                "        [stimuli, eda],\n",
                "        on=[\"Timestamp\", \"Participant\", \"Trial\"],\n",
                "        sort_by=[\"Participant\", \"Trial\", \"Timestamp\"],\n",
                "    )\n",
                "    # Normalzing, plotting, etc.\n",
                "    features = [\"Temperature\", \"Rating\", \"EDA_Tonic\"]\n",
                "    multiple_eda_plus_rating = interpolate(multiple_eda_plus_rating)\n",
                "    multiple_eda_plus_rating = scale_min_max(\n",
                "        multiple_eda_plus_rating, exclude_additional_columns=[\"Temperature\", \"Rating\"]\n",
                "    )\n",
                "    multiple_eda_plus_rating.hvplot(\n",
                "        x=\"Timestamp\",\n",
                "        y=features,\n",
                "        groupby=[\"Participant\", \"Trial\"],\n",
                "        kind=\"line\",\n",
                "        width=800,\n",
                "        height=400,\n",
                "        ylim=(0, 1),\n",
                "    )\n",
                "    ````\n",
                "    \"\"\"\n",
                "    if len(dfs) < 2:\n",
                "        return dfs[0]\n",
                "\n",
                "    df = reduce(\n",
                "        lambda left, right: left.join(\n",
                "            right,\n",
                "            on=merge_on,\n",
                "            how=\"outer_coalesce\",\n",
                "        ).sort(sort_by),\n",
                "        dfs,\n",
                "    )\n",
                "    return df"
            ]
        }
    ],
    "metadata": {
        "kernelspec": {
            "display_name": "pain",
            "language": "python",
            "name": "python3"
        },
        "language_info": {
            "codemirror_mode": {
                "name": "ipython",
                "version": 3
            },
            "file_extension": ".py",
            "mimetype": "text/x-python",
            "name": "python",
            "nbconvert_exporter": "python",
            "pygments_lexer": "ipython3",
            "version": "3.12.4"
        }
    },
    "nbformat": 4,
    "nbformat_minor": 2
}