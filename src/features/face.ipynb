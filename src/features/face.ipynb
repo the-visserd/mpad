{
 "cells": [
  {
   "cell_type": "code",
   "execution_count": 5,
   "metadata": {},
   "outputs": [],
   "source": [
    "%%capture\n",
    "from pathlib import Path\n",
    "\n",
    "if Path.cwd().stem == \"features\":\n",
    "    %cd ../..\n",
    "    %load_ext autoreload\n",
    "    %autoreload 2"
   ]
  },
  {
   "cell_type": "code",
   "execution_count": 6,
   "metadata": {},
   "outputs": [],
   "source": [
    "import logging\n",
    "\n",
    "import holoviews as hv\n",
    "import hvplot.pandas  # noqa\n",
    "import neurokit2 as nk\n",
    "import pandas as pd\n",
    "import polars as pl\n",
    "from icecream import ic\n",
    "from polars import col\n",
    "\n",
    "from src.data.database_manager import DatabaseManager\n",
    "from src.features.quality_checks import check_sample_rate\n",
    "from src.features.scaling import scale_min_max\n",
    "from src.features.transformations import add_time_column, map_trials\n",
    "from src.log_config import configure_logging\n",
    "\n",
    "configure_logging(\n",
    "    stream_level=logging.DEBUG,\n",
    "    ignore_libs=[\"matplotlib\", \"Comm\", \"bokeh\", \"tornado\"],\n",
    ")\n",
    "\n",
    "pl.Config.set_tbl_rows(12)  # for the 12 trials\n",
    "hv.output(widget_location=\"bottom\", size=130)"
   ]
  },
  {
   "cell_type": "code",
   "execution_count": 7,
   "metadata": {},
   "outputs": [],
   "source": [
    "db = DatabaseManager()"
   ]
  },
  {
   "cell_type": "code",
   "execution_count": 9,
   "metadata": {},
   "outputs": [
    {
     "data": {
      "text/html": [
       "<div><style>\n",
       ".dataframe > thead > tr,\n",
       ".dataframe > tbody > tr {\n",
       "  text-align: right;\n",
       "  white-space: pre-wrap;\n",
       "}\n",
       "</style>\n",
       "<small>shape: (583_007, 45)</small><table border=\"1\" class=\"dataframe\"><thead><tr><th>trial_id</th><th>trial_number</th><th>participant_id</th><th>rownumber</th><th>timestamp</th><th>samplenumber</th><th>anger</th><th>contempt</th><th>disgust</th><th>fear</th><th>joy</th><th>sadness</th><th>surprise</th><th>engagement</th><th>valence</th><th>sentimentality</th><th>confusion</th><th>neutral</th><th>attention</th><th>brow_furrow</th><th>brow_raise</th><th>cheek_raise</th><th>chin_raise</th><th>dimpler</th><th>eye_closure</th><th>eye_widen</th><th>inner_brow_raise</th><th>jaw_drop</th><th>lip_corner_depressor</th><th>lip_press</th><th>lip_pucker</th><th>lip_stretch</th><th>lip_suck</th><th>lid_tighten</th><th>mouth_open</th><th>nose_wrinkle</th><th>smile</th><th>smirk</th><th>upper_lip_raise</th><th>blink</th><th>blinkrate</th><th>pitch</th><th>yaw</th><th>roll</th><th>interocular_distance</th></tr><tr><td>u16</td><td>u8</td><td>u8</td><td>u32</td><td>f64</td><td>i64</td><td>f64</td><td>f64</td><td>f64</td><td>f64</td><td>f64</td><td>f64</td><td>f64</td><td>f64</td><td>f64</td><td>f64</td><td>f64</td><td>f64</td><td>f64</td><td>f64</td><td>f64</td><td>f64</td><td>f64</td><td>f64</td><td>f64</td><td>f64</td><td>f64</td><td>f64</td><td>f64</td><td>f64</td><td>f64</td><td>f64</td><td>f64</td><td>f64</td><td>f64</td><td>f64</td><td>f64</td><td>f64</td><td>f64</td><td>i64</td><td>i64</td><td>f64</td><td>f64</td><td>f64</td><td>f64</td></tr></thead><tbody><tr><td>1</td><td>1</td><td>1</td><td>8811</td><td>294350.9838</td><td>8803</td><td>0.12518</td><td>0.181806</td><td>0.023876</td><td>0.024252</td><td>0.02624</td><td>0.124534</td><td>0.061223</td><td>0.328766</td><td>0.0</td><td>0.036173</td><td>0.036173</td><td>99.636383</td><td>98.484863</td><td>0.036173</td><td>0.435721</td><td>0.286314</td><td>0.000047</td><td>0.341293</td><td>0.000226</td><td>0.065865</td><td>0.086099</td><td>1.865428</td><td>2.3786e-7</td><td>0.002053</td><td>4.7822e-7</td><td>0.006318</td><td>0.000696</td><td>0.000105</td><td>0.479706</td><td>0.007313</td><td>0.642375</td><td>0.0</td><td>0.000326</td><td>0</td><td>18</td><td>-23.710371</td><td>-1.128007</td><td>3.344138</td><td>99.168541</td></tr><tr><td>1</td><td>1</td><td>1</td><td>8814</td><td>294450.0503</td><td>8806</td><td>0.125883</td><td>0.184421</td><td>0.023928</td><td>0.02429</td><td>0.025578</td><td>0.125019</td><td>0.060915</td><td>0.328766</td><td>0.0</td><td>0.032122</td><td>0.032122</td><td>99.631157</td><td>98.625015</td><td>0.032122</td><td>0.378975</td><td>0.176308</td><td>0.000043</td><td>0.049774</td><td>0.000485</td><td>0.102114</td><td>0.05119</td><td>1.799533</td><td>1.9135e-7</td><td>0.001091</td><td>0.000001</td><td>0.00288</td><td>0.00058</td><td>0.000139</td><td>0.356424</td><td>0.006213</td><td>0.469142</td><td>0.0</td><td>0.000254</td><td>0</td><td>18</td><td>-24.764748</td><td>-0.635587</td><td>2.434715</td><td>98.594276</td></tr><tr><td>1</td><td>1</td><td>1</td><td>8817</td><td>294549.6316</td><td>8809</td><td>0.126686</td><td>0.188357</td><td>0.023969</td><td>0.02443</td><td>0.024682</td><td>0.126219</td><td>0.058203</td><td>0.328766</td><td>0.0</td><td>0.070808</td><td>0.070808</td><td>99.623291</td><td>98.602272</td><td>0.070808</td><td>0.361488</td><td>0.065987</td><td>0.000024</td><td>0.0</td><td>0.000516</td><td>0.126224</td><td>0.048451</td><td>0.702215</td><td>0.000001</td><td>0.000179</td><td>0.000005</td><td>0.001249</td><td>0.000078</td><td>0.000076</td><td>0.1413</td><td>0.007088</td><td>0.205794</td><td>0.0</td><td>0.000226</td><td>0</td><td>18</td><td>-23.246853</td><td>0.718773</td><td>2.603575</td><td>97.55748</td></tr><tr><td>1</td><td>1</td><td>1</td><td>8820</td><td>294634.3984</td><td>8812</td><td>0.127169</td><td>0.189015</td><td>0.024152</td><td>0.024633</td><td>0.024491</td><td>0.126433</td><td>0.061399</td><td>0.328766</td><td>0.0</td><td>0.131433</td><td>0.131433</td><td>99.621964</td><td>98.427483</td><td>0.131433</td><td>0.50136</td><td>0.072655</td><td>0.000024</td><td>0.0</td><td>0.000723</td><td>0.070128</td><td>0.02319</td><td>1.927209</td><td>0.000003</td><td>0.000121</td><td>0.000007</td><td>0.000954</td><td>0.000056</td><td>0.000321</td><td>0.276765</td><td>0.010896</td><td>0.132758</td><td>0.0</td><td>0.001234</td><td>0</td><td>18</td><td>-23.466768</td><td>1.316812</td><td>2.526687</td><td>98.262718</td></tr><tr><td>1</td><td>1</td><td>1</td><td>8823</td><td>294732.1368</td><td>8815</td><td>0.127182</td><td>0.190517</td><td>0.024137</td><td>0.024605</td><td>0.024171</td><td>0.126702</td><td>0.065395</td><td>0.328766</td><td>0.0</td><td>0.027317</td><td>0.105077</td><td>99.618958</td><td>98.354904</td><td>0.105077</td><td>0.474149</td><td>0.048332</td><td>0.000021</td><td>0.0</td><td>0.000477</td><td>0.064493</td><td>0.012793</td><td>3.484773</td><td>0.000009</td><td>0.000079</td><td>0.000007</td><td>0.000176</td><td>0.000142</td><td>0.000424</td><td>0.151191</td><td>0.007597</td><td>0.027317</td><td>0.0</td><td>0.001685</td><td>0</td><td>18</td><td>-24.3141</td><td>1.546099</td><td>2.309833</td><td>98.153336</td></tr><tr><td>1</td><td>1</td><td>1</td><td>8825</td><td>294819.3329</td><td>8817</td><td>0.127375</td><td>0.190466</td><td>0.024132</td><td>0.024714</td><td>0.024196</td><td>0.127041</td><td>0.062274</td><td>0.328766</td><td>0.0</td><td>0.037742</td><td>0.208099</td><td>99.619064</td><td>98.472748</td><td>0.208099</td><td>0.556748</td><td>0.046347</td><td>0.00003</td><td>0.0</td><td>0.000897</td><td>0.055136</td><td>0.009925</td><td>2.239793</td><td>0.000019</td><td>0.000066</td><td>0.000014</td><td>0.000259</td><td>0.00005</td><td>0.000514</td><td>0.142796</td><td>0.013089</td><td>0.037742</td><td>0.0</td><td>0.004319</td><td>0</td><td>18</td><td>-25.109367</td><td>1.168442</td><td>2.90777</td><td>95.516327</td></tr><tr><td>&hellip;</td><td>&hellip;</td><td>&hellip;</td><td>&hellip;</td><td>&hellip;</td><td>&hellip;</td><td>&hellip;</td><td>&hellip;</td><td>&hellip;</td><td>&hellip;</td><td>&hellip;</td><td>&hellip;</td><td>&hellip;</td><td>&hellip;</td><td>&hellip;</td><td>&hellip;</td><td>&hellip;</td><td>&hellip;</td><td>&hellip;</td><td>&hellip;</td><td>&hellip;</td><td>&hellip;</td><td>&hellip;</td><td>&hellip;</td><td>&hellip;</td><td>&hellip;</td><td>&hellip;</td><td>&hellip;</td><td>&hellip;</td><td>&hellip;</td><td>&hellip;</td><td>&hellip;</td><td>&hellip;</td><td>&hellip;</td><td>&hellip;</td><td>&hellip;</td><td>&hellip;</td><td>&hellip;</td><td>&hellip;</td><td>&hellip;</td><td>&hellip;</td><td>&hellip;</td><td>&hellip;</td><td>&hellip;</td><td>&hellip;</td></tr><tr><td>332</td><td>12</td><td>28</td><td>83102</td><td>2.7765e6</td><td>83092</td><td>2.185745</td><td>1.1203</td><td>0.034979</td><td>0.174728</td><td>0.024038</td><td>2.860603</td><td>0.058569</td><td>22.391489</td><td>-27.112289</td><td>0.000141</td><td>1.388582</td><td>94.278793</td><td>98.692047</td><td>70.784744</td><td>0.000114</td><td>0.004958</td><td>0.000001</td><td>0.0</td><td>0.211655</td><td>0.00008</td><td>0.000088</td><td>1.388582</td><td>0.000141</td><td>7.1548e-8</td><td>0.000992</td><td>0.000002</td><td>0.000002</td><td>3.990463</td><td>7.080192</td><td>2.628992</td><td>0.000125</td><td>0.000814</td><td>0.160832</td><td>0</td><td>36</td><td>-10.047065</td><td>0.382295</td><td>-2.44476</td><td>105.601097</td></tr><tr><td>332</td><td>12</td><td>28</td><td>83108</td><td>2.7767e6</td><td>83098</td><td>0.398232</td><td>0.399259</td><td>0.027236</td><td>0.055606</td><td>0.024033</td><td>0.469361</td><td>0.059506</td><td>0.798126</td><td>-2.224098</td><td>0.000043</td><td>1.76764</td><td>99.061279</td><td>98.787117</td><td>29.224678</td><td>0.000416</td><td>0.00104</td><td>0.000001</td><td>0.0</td><td>0.000109</td><td>0.001432</td><td>0.00029</td><td>1.76764</td><td>0.000043</td><td>4.0419e-7</td><td>0.000469</td><td>0.000005</td><td>0.000003</td><td>0.060905</td><td>3.258281</td><td>0.318643</td><td>0.000037</td><td>0.000768</td><td>0.013712</td><td>0</td><td>36</td><td>-12.295136</td><td>0.000177</td><td>-2.797651</td><td>106.322632</td></tr><tr><td>332</td><td>12</td><td>28</td><td>83111</td><td>2.7768e6</td><td>83101</td><td>0.338212</td><td>0.354203</td><td>0.028105</td><td>0.049393</td><td>0.024033</td><td>0.37715</td><td>0.061712</td><td>0.594023</td><td>0.0</td><td>0.000041</td><td>2.641749</td><td>99.245697</td><td>98.534729</td><td>24.41519</td><td>0.00046</td><td>0.001269</td><td>0.000002</td><td>0.0</td><td>0.000116</td><td>0.001541</td><td>0.00019</td><td>2.641749</td><td>0.000025</td><td>5.3460e-7</td><td>0.001035</td><td>0.000003</td><td>0.000006</td><td>0.073516</td><td>3.90411</td><td>0.512026</td><td>0.000041</td><td>0.001206</td><td>0.018322</td><td>0</td><td>36</td><td>-14.677032</td><td>-0.958164</td><td>-2.256958</td><td>105.994217</td></tr><tr><td>332</td><td>12</td><td>28</td><td>83114</td><td>2.7769e6</td><td>83104</td><td>0.533028</td><td>0.475925</td><td>0.028463</td><td>0.069099</td><td>0.024033</td><td>0.644185</td><td>0.060576</td><td>1.464217</td><td>-6.242935</td><td>0.000037</td><td>2.195475</td><td>98.711624</td><td>98.450569</td><td>36.278469</td><td>0.000328</td><td>0.001014</td><td>8.3931e-7</td><td>0.0</td><td>0.000126</td><td>0.001528</td><td>0.000586</td><td>2.195475</td><td>0.000017</td><td>5.0753e-7</td><td>0.000917</td><td>0.000005</td><td>0.000003</td><td>0.070721</td><td>4.674962</td><td>0.262316</td><td>0.000037</td><td>0.001463</td><td>0.007083</td><td>0</td><td>36</td><td>-14.98389</td><td>-1.24165</td><td>-1.782436</td><td>106.573822</td></tr><tr><td>332</td><td>12</td><td>28</td><td>83117</td><td>2.7770e6</td><td>83107</td><td>0.416491</td><td>0.411006</td><td>0.027131</td><td>0.057511</td><td>0.024033</td><td>0.495264</td><td>0.063364</td><td>0.86971</td><td>-2.842476</td><td>0.000041</td><td>3.276485</td><td>99.009476</td><td>98.524521</td><td>30.385834</td><td>0.000308</td><td>0.001018</td><td>8.7852e-7</td><td>0.0</td><td>0.000189</td><td>0.001173</td><td>0.000378</td><td>3.276485</td><td>0.000023</td><td>5.9922e-7</td><td>0.000915</td><td>0.000005</td><td>0.000003</td><td>0.051265</td><td>3.309745</td><td>0.21522</td><td>0.000041</td><td>0.001552</td><td>0.005426</td><td>0</td><td>36</td><td>-13.019298</td><td>-0.993393</td><td>-1.891891</td><td>105.746185</td></tr><tr><td>332</td><td>12</td><td>28</td><td>83120</td><td>2.7771e6</td><td>83110</td><td>0.392301</td><td>0.388496</td><td>0.028063</td><td>0.055236</td><td>0.024033</td><td>0.447529</td><td>0.062789</td><td>0.795497</td><td>-1.550537</td><td>0.000046</td><td>3.057664</td><td>99.104942</td><td>98.527565</td><td>28.125937</td><td>0.000269</td><td>0.001088</td><td>9.0273e-7</td><td>0.0</td><td>0.000176</td><td>0.001312</td><td>0.000509</td><td>3.057664</td><td>0.000023</td><td>5.8496e-7</td><td>0.000722</td><td>0.000008</td><td>0.000003</td><td>0.039611</td><td>4.310461</td><td>0.223676</td><td>0.000046</td><td>0.001057</td><td>0.005338</td><td>0</td><td>36</td><td>-13.132092</td><td>-0.982912</td><td>-1.846236</td><td>106.00988</td></tr></tbody></table></div>"
      ],
      "text/plain": [
       "shape: (583_007, 45)\n",
       "┌──────────┬───────────┬───────────┬───────────┬───┬───────────┬───────────┬───────────┬───────────┐\n",
       "│ trial_id ┆ trial_num ┆ participa ┆ rownumber ┆ … ┆ pitch     ┆ yaw       ┆ roll      ┆ interocul │\n",
       "│ ---      ┆ ber       ┆ nt_id     ┆ ---       ┆   ┆ ---       ┆ ---       ┆ ---       ┆ ar_distan │\n",
       "│ u16      ┆ ---       ┆ ---       ┆ u32       ┆   ┆ f64       ┆ f64       ┆ f64       ┆ ce        │\n",
       "│          ┆ u8        ┆ u8        ┆           ┆   ┆           ┆           ┆           ┆ ---       │\n",
       "│          ┆           ┆           ┆           ┆   ┆           ┆           ┆           ┆ f64       │\n",
       "╞══════════╪═══════════╪═══════════╪═══════════╪═══╪═══════════╪═══════════╪═══════════╪═══════════╡\n",
       "│ 1        ┆ 1         ┆ 1         ┆ 8811      ┆ … ┆ -23.71037 ┆ -1.128007 ┆ 3.344138  ┆ 99.168541 │\n",
       "│          ┆           ┆           ┆           ┆   ┆ 1         ┆           ┆           ┆           │\n",
       "│ 1        ┆ 1         ┆ 1         ┆ 8814      ┆ … ┆ -24.76474 ┆ -0.635587 ┆ 2.434715  ┆ 98.594276 │\n",
       "│          ┆           ┆           ┆           ┆   ┆ 8         ┆           ┆           ┆           │\n",
       "│ 1        ┆ 1         ┆ 1         ┆ 8817      ┆ … ┆ -23.24685 ┆ 0.718773  ┆ 2.603575  ┆ 97.55748  │\n",
       "│          ┆           ┆           ┆           ┆   ┆ 3         ┆           ┆           ┆           │\n",
       "│ 1        ┆ 1         ┆ 1         ┆ 8820      ┆ … ┆ -23.46676 ┆ 1.316812  ┆ 2.526687  ┆ 98.262718 │\n",
       "│          ┆           ┆           ┆           ┆   ┆ 8         ┆           ┆           ┆           │\n",
       "│ 1        ┆ 1         ┆ 1         ┆ 8823      ┆ … ┆ -24.3141  ┆ 1.546099  ┆ 2.309833  ┆ 98.153336 │\n",
       "│ 1        ┆ 1         ┆ 1         ┆ 8825      ┆ … ┆ -25.10936 ┆ 1.168442  ┆ 2.90777   ┆ 95.516327 │\n",
       "│          ┆           ┆           ┆           ┆   ┆ 7         ┆           ┆           ┆           │\n",
       "│ …        ┆ …         ┆ …         ┆ …         ┆ … ┆ …         ┆ …         ┆ …         ┆ …         │\n",
       "│ 332      ┆ 12        ┆ 28        ┆ 83102     ┆ … ┆ -10.04706 ┆ 0.382295  ┆ -2.44476  ┆ 105.60109 │\n",
       "│          ┆           ┆           ┆           ┆   ┆ 5         ┆           ┆           ┆ 7         │\n",
       "│ 332      ┆ 12        ┆ 28        ┆ 83108     ┆ … ┆ -12.29513 ┆ 0.000177  ┆ -2.797651 ┆ 106.32263 │\n",
       "│          ┆           ┆           ┆           ┆   ┆ 6         ┆           ┆           ┆ 2         │\n",
       "│ 332      ┆ 12        ┆ 28        ┆ 83111     ┆ … ┆ -14.67703 ┆ -0.958164 ┆ -2.256958 ┆ 105.99421 │\n",
       "│          ┆           ┆           ┆           ┆   ┆ 2         ┆           ┆           ┆ 7         │\n",
       "│ 332      ┆ 12        ┆ 28        ┆ 83114     ┆ … ┆ -14.98389 ┆ -1.24165  ┆ -1.782436 ┆ 106.57382 │\n",
       "│          ┆           ┆           ┆           ┆   ┆           ┆           ┆           ┆ 2         │\n",
       "│ 332      ┆ 12        ┆ 28        ┆ 83117     ┆ … ┆ -13.01929 ┆ -0.993393 ┆ -1.891891 ┆ 105.74618 │\n",
       "│          ┆           ┆           ┆           ┆   ┆ 8         ┆           ┆           ┆ 5         │\n",
       "│ 332      ┆ 12        ┆ 28        ┆ 83120     ┆ … ┆ -13.13209 ┆ -0.982912 ┆ -1.846236 ┆ 106.00988 │\n",
       "│          ┆           ┆           ┆           ┆   ┆ 2         ┆           ┆           ┆           │\n",
       "└──────────┴───────────┴───────────┴───────────┴───┴───────────┴───────────┴───────────┴───────────┘"
      ]
     },
     "execution_count": 9,
     "metadata": {},
     "output_type": "execute_result"
    }
   ],
   "source": [
    "with db:\n",
    "    df = db.read_table(\"Raw_Face\")\n",
    "df"
   ]
  },
  {
   "cell_type": "code",
   "execution_count": 11,
   "metadata": {},
   "outputs": [
    {
     "name": "stderr",
     "output_type": "stream",
     "text": [
      "ic| df.height: 5935133\n",
      "    df.unique(subset=[\"trial_id\",\"timestamp\"]).height: 5935133\n",
      "ic| df.height - df.unique(subset=[\"trial_id\",\"timestamp\"]).height: 0\n"
     ]
    },
    {
     "data": {
      "text/html": [
       "<div><style>\n",
       ".dataframe > thead > tr,\n",
       ".dataframe > tbody > tr {\n",
       "  text-align: right;\n",
       "  white-space: pre-wrap;\n",
       "}\n",
       "</style>\n",
       "<small>shape: (5_935_133, 13)</small><table border=\"1\" class=\"dataframe\"><thead><tr><th>trial_id</th><th>trial_number</th><th>participant_id</th><th>rownumber</th><th>timestamp</th><th>samplenumber</th><th>eda_d_battery</th><th>eda_raw</th><th>eda_d_packetreceptionrate</th><th>eda_tonic</th><th>eda_phasic</th><th>temperature</th><th>rating</th></tr><tr><td>u16</td><td>u8</td><td>u8</td><td>u32</td><td>f64</td><td>i64</td><td>f64</td><td>f64</td><td>i64</td><td>f64</td><td>f64</td><td>f64</td><td>f64</td></tr></thead><tbody><tr><td>1</td><td>1</td><td>1</td><td>0</td><td>294224.331</td><td>57895</td><td>3677.435897</td><td>0.753247</td><td>100</td><td>0.752117</td><td>0.00113</td><td>45.75</td><td>42.5</td></tr><tr><td>1</td><td>1</td><td>1</td><td>0</td><td>294242.275</td><td>57896</td><td>3687.630769</td><td>0.754135</td><td>100</td><td>0.752119</td><td>0.002016</td><td>45.75</td><td>42.5</td></tr><tr><td>1</td><td>1</td><td>1</td><td>0</td><td>294248.2588</td><td>57898</td><td>3692.0</td><td>0.754135</td><td>100</td><td>0.752121</td><td>0.002014</td><td>45.75</td><td>42.5</td></tr><tr><td>1</td><td>1</td><td>1</td><td>0</td><td>294276.1835</td><td>57899</td><td>3678.892308</td><td>0.754135</td><td>100</td><td>0.752123</td><td>0.002012</td><td>45.75</td><td>42.5</td></tr><tr><td>1</td><td>1</td><td>1</td><td>0</td><td>294277.1819</td><td>57900</td><td>3692.0</td><td>0.752359</td><td>100</td><td>0.752125</td><td>0.000234</td><td>45.75</td><td>42.5</td></tr><tr><td>1</td><td>1</td><td>1</td><td>0</td><td>294309.0952</td><td>57902</td><td>3705.107692</td><td>0.752359</td><td>100</td><td>0.752127</td><td>0.000232</td><td>45.75</td><td>42.5</td></tr><tr><td>&hellip;</td><td>&hellip;</td><td>&hellip;</td><td>&hellip;</td><td>&hellip;</td><td>&hellip;</td><td>&hellip;</td><td>&hellip;</td><td>&hellip;</td><td>&hellip;</td><td>&hellip;</td><td>&hellip;</td><td>&hellip;</td></tr><tr><td>332</td><td>12</td><td>28</td><td>21610</td><td>2.7771e6</td><td>467073</td><td>3603.158974</td><td>13.679468</td><td>99</td><td>13.578894</td><td>-0.012187</td><td>45.582614</td><td>85.0</td></tr><tr><td>332</td><td>12</td><td>28</td><td>21610</td><td>2.7771e6</td><td>467074</td><td>3617.723077</td><td>13.679468</td><td>99</td><td>13.578894</td><td>-0.012765</td><td>45.582614</td><td>85.0</td></tr><tr><td>332</td><td>12</td><td>28</td><td>21610</td><td>2.7771e6</td><td>467075</td><td>3582.769231</td><td>13.674363</td><td>99</td><td>13.578894</td><td>-0.018451</td><td>45.582614</td><td>85.0</td></tr><tr><td>332</td><td>12</td><td>28</td><td>21610</td><td>2.7771e6</td><td>467076</td><td>3607.528205</td><td>13.679468</td><td>99</td><td>13.578894</td><td>-0.013927</td><td>45.582614</td><td>85.0</td></tr><tr><td>332</td><td>12</td><td>28</td><td>21610</td><td>2.7771e6</td><td>467078</td><td>3606.071795</td><td>13.684573</td><td>99</td><td>13.578894</td><td>-0.009405</td><td>45.582614</td><td>85.0</td></tr><tr><td>332</td><td>12</td><td>28</td><td>21610</td><td>2.7771e6</td><td>467079</td><td>3582.769231</td><td>13.684573</td><td>99</td><td>13.578894</td><td>-0.009989</td><td>45.582614</td><td>85.0</td></tr></tbody></table></div>"
      ],
      "text/plain": [
       "shape: (5_935_133, 13)\n",
       "┌──────────┬────────────┬────────────┬───────────┬───┬───────────┬────────────┬───────────┬────────┐\n",
       "│ trial_id ┆ trial_numb ┆ participan ┆ rownumber ┆ … ┆ eda_tonic ┆ eda_phasic ┆ temperatu ┆ rating │\n",
       "│ ---      ┆ er         ┆ t_id       ┆ ---       ┆   ┆ ---       ┆ ---        ┆ re        ┆ ---    │\n",
       "│ u16      ┆ ---        ┆ ---        ┆ u32       ┆   ┆ f64       ┆ f64        ┆ ---       ┆ f64    │\n",
       "│          ┆ u8         ┆ u8         ┆           ┆   ┆           ┆            ┆ f64       ┆        │\n",
       "╞══════════╪════════════╪════════════╪═══════════╪═══╪═══════════╪════════════╪═══════════╪════════╡\n",
       "│ 1        ┆ 1          ┆ 1          ┆ 0         ┆ … ┆ 0.752117  ┆ 0.00113    ┆ 45.75     ┆ 42.5   │\n",
       "│ 1        ┆ 1          ┆ 1          ┆ 0         ┆ … ┆ 0.752119  ┆ 0.002016   ┆ 45.75     ┆ 42.5   │\n",
       "│ 1        ┆ 1          ┆ 1          ┆ 0         ┆ … ┆ 0.752121  ┆ 0.002014   ┆ 45.75     ┆ 42.5   │\n",
       "│ 1        ┆ 1          ┆ 1          ┆ 0         ┆ … ┆ 0.752123  ┆ 0.002012   ┆ 45.75     ┆ 42.5   │\n",
       "│ 1        ┆ 1          ┆ 1          ┆ 0         ┆ … ┆ 0.752125  ┆ 0.000234   ┆ 45.75     ┆ 42.5   │\n",
       "│ 1        ┆ 1          ┆ 1          ┆ 0         ┆ … ┆ 0.752127  ┆ 0.000232   ┆ 45.75     ┆ 42.5   │\n",
       "│ …        ┆ …          ┆ …          ┆ …         ┆ … ┆ …         ┆ …          ┆ …         ┆ …      │\n",
       "│ 332      ┆ 12         ┆ 28         ┆ 21610     ┆ … ┆ 13.578894 ┆ -0.012187  ┆ 45.582614 ┆ 85.0   │\n",
       "│ 332      ┆ 12         ┆ 28         ┆ 21610     ┆ … ┆ 13.578894 ┆ -0.012765  ┆ 45.582614 ┆ 85.0   │\n",
       "│ 332      ┆ 12         ┆ 28         ┆ 21610     ┆ … ┆ 13.578894 ┆ -0.018451  ┆ 45.582614 ┆ 85.0   │\n",
       "│ 332      ┆ 12         ┆ 28         ┆ 21610     ┆ … ┆ 13.578894 ┆ -0.013927  ┆ 45.582614 ┆ 85.0   │\n",
       "│ 332      ┆ 12         ┆ 28         ┆ 21610     ┆ … ┆ 13.578894 ┆ -0.009405  ┆ 45.582614 ┆ 85.0   │\n",
       "│ 332      ┆ 12         ┆ 28         ┆ 21610     ┆ … ┆ 13.578894 ┆ -0.009989  ┆ 45.582614 ┆ 85.0   │\n",
       "└──────────┴────────────┴────────────┴───────────┴───┴───────────┴────────────┴───────────┴────────┘"
      ]
     },
     "execution_count": 11,
     "metadata": {},
     "output_type": "execute_result"
    }
   ],
   "source": [
    "query = \"\"\"\n",
    "SELECT * FROM Preprocess_EDA AS ce\n",
    "ASOF JOIN Raw_Stimulus rs USING (trial_id, timestamp)\n",
    "ORDER BY ce.trial_id, ce.timestamp\n",
    "\"\"\"\n",
    "\n",
    "with db:\n",
    "    df = db.execute(query).pl()\n",
    "df\n",
    "ic(df.height, df.unique(subset=[\"trial_id\", \"timestamp\"], maintain_order=True).height)\n",
    "ic(df.height - df.unique(subset=[\"trial_id\", \"timestamp\"], maintain_order=True).height)\n",
    "df"
   ]
  },
  {
   "cell_type": "code",
   "execution_count": 10,
   "metadata": {},
   "outputs": [
    {
     "name": "stderr",
     "output_type": "stream",
     "text": [
      "ic| df.height: 5935133, df.unique(\"timestamp\").height: 5934569\n",
      "ic| df.height - df.unique(\"timestamp\").height: 564\n"
     ]
    },
    {
     "data": {
      "text/html": [
       "<div><style>\n",
       ".dataframe > thead > tr,\n",
       ".dataframe > tbody > tr {\n",
       "  text-align: right;\n",
       "  white-space: pre-wrap;\n",
       "}\n",
       "</style>\n",
       "<small>shape: (5_935_133, 13)</small><table border=\"1\" class=\"dataframe\"><thead><tr><th>trial_id</th><th>trial_number</th><th>participant_id</th><th>rownumber</th><th>timestamp</th><th>samplenumber</th><th>eda_d_battery</th><th>eda_raw</th><th>eda_d_packetreceptionrate</th><th>eda_tonic</th><th>eda_phasic</th><th>temperature</th><th>rating</th></tr><tr><td>u16</td><td>u8</td><td>u8</td><td>u32</td><td>f64</td><td>i64</td><td>f64</td><td>f64</td><td>i64</td><td>f64</td><td>f64</td><td>f64</td><td>f64</td></tr></thead><tbody><tr><td>1</td><td>1</td><td>1</td><td>0</td><td>294224.331</td><td>57895</td><td>3677.435897</td><td>0.753247</td><td>100</td><td>0.752117</td><td>0.00113</td><td>45.75</td><td>42.5</td></tr><tr><td>1</td><td>1</td><td>1</td><td>0</td><td>294242.275</td><td>57896</td><td>3687.630769</td><td>0.754135</td><td>100</td><td>0.752119</td><td>0.002016</td><td>45.75</td><td>42.5</td></tr><tr><td>1</td><td>1</td><td>1</td><td>0</td><td>294248.2588</td><td>57898</td><td>3692.0</td><td>0.754135</td><td>100</td><td>0.752121</td><td>0.002014</td><td>45.75</td><td>42.5</td></tr><tr><td>1</td><td>1</td><td>1</td><td>0</td><td>294276.1835</td><td>57899</td><td>3678.892308</td><td>0.754135</td><td>100</td><td>0.752123</td><td>0.002012</td><td>45.75</td><td>42.5</td></tr><tr><td>1</td><td>1</td><td>1</td><td>0</td><td>294277.1819</td><td>57900</td><td>3692.0</td><td>0.752359</td><td>100</td><td>0.752125</td><td>0.000234</td><td>45.75</td><td>42.5</td></tr><tr><td>1</td><td>1</td><td>1</td><td>0</td><td>294309.0952</td><td>57902</td><td>3705.107692</td><td>0.752359</td><td>100</td><td>0.752127</td><td>0.000232</td><td>45.75</td><td>42.5</td></tr><tr><td>&hellip;</td><td>&hellip;</td><td>&hellip;</td><td>&hellip;</td><td>&hellip;</td><td>&hellip;</td><td>&hellip;</td><td>&hellip;</td><td>&hellip;</td><td>&hellip;</td><td>&hellip;</td><td>&hellip;</td><td>&hellip;</td></tr><tr><td>332</td><td>12</td><td>28</td><td>21610</td><td>2.7771e6</td><td>467073</td><td>3603.158974</td><td>13.679468</td><td>99</td><td>13.578894</td><td>-0.012187</td><td>45.582614</td><td>85.0</td></tr><tr><td>332</td><td>12</td><td>28</td><td>21610</td><td>2.7771e6</td><td>467074</td><td>3617.723077</td><td>13.679468</td><td>99</td><td>13.578894</td><td>-0.012765</td><td>45.582614</td><td>85.0</td></tr><tr><td>332</td><td>12</td><td>28</td><td>21610</td><td>2.7771e6</td><td>467075</td><td>3582.769231</td><td>13.674363</td><td>99</td><td>13.578894</td><td>-0.018451</td><td>45.582614</td><td>85.0</td></tr><tr><td>332</td><td>12</td><td>28</td><td>21610</td><td>2.7771e6</td><td>467076</td><td>3607.528205</td><td>13.679468</td><td>99</td><td>13.578894</td><td>-0.013927</td><td>45.582614</td><td>85.0</td></tr><tr><td>332</td><td>12</td><td>28</td><td>21610</td><td>2.7771e6</td><td>467078</td><td>3606.071795</td><td>13.684573</td><td>99</td><td>13.578894</td><td>-0.009405</td><td>45.582614</td><td>85.0</td></tr><tr><td>332</td><td>12</td><td>28</td><td>21610</td><td>2.7771e6</td><td>467079</td><td>3582.769231</td><td>13.684573</td><td>99</td><td>13.578894</td><td>-0.009989</td><td>45.582614</td><td>85.0</td></tr></tbody></table></div>"
      ],
      "text/plain": [
       "shape: (5_935_133, 13)\n",
       "┌──────────┬────────────┬────────────┬───────────┬───┬───────────┬────────────┬───────────┬────────┐\n",
       "│ trial_id ┆ trial_numb ┆ participan ┆ rownumber ┆ … ┆ eda_tonic ┆ eda_phasic ┆ temperatu ┆ rating │\n",
       "│ ---      ┆ er         ┆ t_id       ┆ ---       ┆   ┆ ---       ┆ ---        ┆ re        ┆ ---    │\n",
       "│ u16      ┆ ---        ┆ ---        ┆ u32       ┆   ┆ f64       ┆ f64        ┆ ---       ┆ f64    │\n",
       "│          ┆ u8         ┆ u8         ┆           ┆   ┆           ┆            ┆ f64       ┆        │\n",
       "╞══════════╪════════════╪════════════╪═══════════╪═══╪═══════════╪════════════╪═══════════╪════════╡\n",
       "│ 1        ┆ 1          ┆ 1          ┆ 0         ┆ … ┆ 0.752117  ┆ 0.00113    ┆ 45.75     ┆ 42.5   │\n",
       "│ 1        ┆ 1          ┆ 1          ┆ 0         ┆ … ┆ 0.752119  ┆ 0.002016   ┆ 45.75     ┆ 42.5   │\n",
       "│ 1        ┆ 1          ┆ 1          ┆ 0         ┆ … ┆ 0.752121  ┆ 0.002014   ┆ 45.75     ┆ 42.5   │\n",
       "│ 1        ┆ 1          ┆ 1          ┆ 0         ┆ … ┆ 0.752123  ┆ 0.002012   ┆ 45.75     ┆ 42.5   │\n",
       "│ 1        ┆ 1          ┆ 1          ┆ 0         ┆ … ┆ 0.752125  ┆ 0.000234   ┆ 45.75     ┆ 42.5   │\n",
       "│ 1        ┆ 1          ┆ 1          ┆ 0         ┆ … ┆ 0.752127  ┆ 0.000232   ┆ 45.75     ┆ 42.5   │\n",
       "│ …        ┆ …          ┆ …          ┆ …         ┆ … ┆ …         ┆ …          ┆ …         ┆ …      │\n",
       "│ 332      ┆ 12         ┆ 28         ┆ 21610     ┆ … ┆ 13.578894 ┆ -0.012187  ┆ 45.582614 ┆ 85.0   │\n",
       "│ 332      ┆ 12         ┆ 28         ┆ 21610     ┆ … ┆ 13.578894 ┆ -0.012765  ┆ 45.582614 ┆ 85.0   │\n",
       "│ 332      ┆ 12         ┆ 28         ┆ 21610     ┆ … ┆ 13.578894 ┆ -0.018451  ┆ 45.582614 ┆ 85.0   │\n",
       "│ 332      ┆ 12         ┆ 28         ┆ 21610     ┆ … ┆ 13.578894 ┆ -0.013927  ┆ 45.582614 ┆ 85.0   │\n",
       "│ 332      ┆ 12         ┆ 28         ┆ 21610     ┆ … ┆ 13.578894 ┆ -0.009405  ┆ 45.582614 ┆ 85.0   │\n",
       "│ 332      ┆ 12         ┆ 28         ┆ 21610     ┆ … ┆ 13.578894 ┆ -0.009989  ┆ 45.582614 ┆ 85.0   │\n",
       "└──────────┴────────────┴────────────┴───────────┴───┴───────────┴────────────┴───────────┴────────┘"
      ]
     },
     "execution_count": 10,
     "metadata": {},
     "output_type": "execute_result"
    }
   ],
   "source": [
    "query = \"\"\"\n",
    "SELECT * FROM Preprocess_EDA AS ce\n",
    "ASOF JOIN Raw_Stimulus rs USING (trial_id, timestamp)\n",
    "ORDER BY ce.trial_id, ce.timestamp\n",
    "\"\"\"\n",
    "\n",
    "with db:\n",
    "    df = db.execute(query).pl()\n",
    "df\n",
    "ic(df.height, df.unique(\"timestamp\").height)\n",
    "ic(df.height - df.unique(\"timestamp\").height)\n",
    "df"
   ]
  },
  {
   "cell_type": "code",
   "execution_count": null,
   "metadata": {},
   "outputs": [],
   "source": []
  },
  {
   "cell_type": "code",
   "execution_count": null,
   "metadata": {},
   "outputs": [],
   "source": []
  },
  {
   "cell_type": "code",
   "execution_count": null,
   "metadata": {},
   "outputs": [],
   "source": []
  },
  {
   "cell_type": "code",
   "execution_count": 56,
   "metadata": {},
   "outputs": [],
   "source": [
    "# Time columns"
   ]
  }
 ],
 "metadata": {
  "kernelspec": {
   "display_name": "learning",
   "language": "python",
   "name": "python3"
  },
  "language_info": {
   "codemirror_mode": {
    "name": "ipython",
    "version": 3
   },
   "file_extension": ".py",
   "mimetype": "text/x-python",
   "name": "python",
   "nbconvert_exporter": "python",
   "pygments_lexer": "ipython3",
   "version": "3.12.4"
  },
  "orig_nbformat": 4
 },
 "nbformat": 4,
 "nbformat_minor": 2
}
