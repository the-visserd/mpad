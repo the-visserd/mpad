{
    "cells": [
        {
            "cell_type": "code",
            "execution_count": 1,
            "metadata": {},
            "outputs": [],
            "source": [
                "%%capture\n",
                "from pathlib import Path\n",
                "\n",
                "if Path.cwd().stem == \"features\":\n",
                "    %cd ../..\n",
                "    %load_ext autoreload\n",
                "    %autoreload 2"
            ]
        },
        {
            "cell_type": "code",
            "execution_count": 26,
            "metadata": {},
            "outputs": [],
            "source": [
                "import logging\n",
                "\n",
                "import holoviews as hv\n",
                "import hvplot.pandas  # noqa\n",
                "import polars as pl\n",
                "from icecream import ic\n",
                "from polars import col\n",
                "\n",
                "from src.data.database_manager import DatabaseManager\n",
                "from src.data.quality_checks import check_sample_rate\n",
                "from src.features.resampling import add_time_column, downsample\n",
                "from src.features.scaling import scale_min_max\n",
                "from src.features.transforming import map_trials\n",
                "from src.log_config import configure_logging\n",
                "\n",
                "configure_logging(\n",
                "    stream_level=logging.DEBUG,\n",
                "    ignore_libs=[\"matplotlib\", \"Comm\", \"bokeh\", \"tornado\"],\n",
                ")\n",
                "\n",
                "pl.Config.set_tbl_rows(12)  # for the 12 trials\n",
                "hv.output(widget_location=\"bottom\", size=130)"
            ]
        },
        {
            "cell_type": "code",
            "execution_count": 27,
            "metadata": {},
            "outputs": [],
            "source": [
                "db = DatabaseManager()"
            ]
        },
        {
            "cell_type": "code",
            "execution_count": 28,
            "metadata": {},
            "outputs": [
                {
                    "data": {
                        "text/html": [
                            "<div><style>\n",
                            ".dataframe > thead > tr,\n",
                            ".dataframe > tbody > tr {\n",
                            "  text-align: right;\n",
                            "  white-space: pre-wrap;\n",
                            "}\n",
                            "</style>\n",
                            "<small>shape: (583_005, 46)</small><table border=\"1\" class=\"dataframe\"><thead><tr><th>trial_id</th><th>trial_number</th><th>participant_id</th><th>rownumber</th><th>timestamp</th><th>samplenumber</th><th>anger</th><th>contempt</th><th>disgust</th><th>fear</th><th>joy</th><th>sadness</th><th>surprise</th><th>engagement</th><th>valence</th><th>sentimentality</th><th>confusion</th><th>neutral</th><th>attention</th><th>brow_furrow</th><th>brow_raise</th><th>cheek_raise</th><th>chin_raise</th><th>dimpler</th><th>eye_closure</th><th>eye_widen</th><th>inner_brow_raise</th><th>jaw_drop</th><th>lip_corner_depressor</th><th>lip_press</th><th>lip_pucker</th><th>lip_stretch</th><th>lip_suck</th><th>lid_tighten</th><th>mouth_open</th><th>nose_wrinkle</th><th>smile</th><th>smirk</th><th>upper_lip_raise</th><th>blink</th><th>blinkrate</th><th>pitch</th><th>yaw</th><th>roll</th><th>interocular_distance</th><th>time</th></tr><tr><td>u16</td><td>u8</td><td>u8</td><td>u32</td><td>f64</td><td>i64</td><td>f64</td><td>f64</td><td>f64</td><td>f64</td><td>f64</td><td>f64</td><td>f64</td><td>f64</td><td>f64</td><td>f64</td><td>f64</td><td>f64</td><td>f64</td><td>f64</td><td>f64</td><td>f64</td><td>f64</td><td>f64</td><td>f64</td><td>f64</td><td>f64</td><td>f64</td><td>f64</td><td>f64</td><td>f64</td><td>f64</td><td>f64</td><td>f64</td><td>f64</td><td>f64</td><td>f64</td><td>f64</td><td>f64</td><td>i64</td><td>i64</td><td>f64</td><td>f64</td><td>f64</td><td>f64</td><td>duration[ms]</td></tr></thead><tbody><tr><td>1</td><td>1</td><td>1</td><td>8811</td><td>294350.9838</td><td>8803</td><td>0.00125</td><td>0.00182</td><td>0.00024</td><td>0.00024</td><td>0.00026</td><td>0.00125</td><td>0.00061</td><td>0.00329</td><td>0.0</td><td>0.00036</td><td>0.00036</td><td>0.99636</td><td>0.98485</td><td>0.00036</td><td>0.00436</td><td>0.00286</td><td>0.0</td><td>0.00341</td><td>0.0</td><td>0.00066</td><td>0.00086</td><td>0.01865</td><td>0.0</td><td>0.00002</td><td>0.0</td><td>0.00006</td><td>0.00001</td><td>0.0</td><td>0.0048</td><td>0.00007</td><td>0.00642</td><td>0.0</td><td>0.0</td><td>0</td><td>18</td><td>-0.2371</td><td>-0.01128</td><td>0.03344</td><td>99.168541</td><td>4m 54s 350ms</td></tr><tr><td>1</td><td>1</td><td>1</td><td>8814</td><td>294450.0503</td><td>8806</td><td>0.00126</td><td>0.00184</td><td>0.00024</td><td>0.00024</td><td>0.00026</td><td>0.00125</td><td>0.00061</td><td>0.00329</td><td>0.0</td><td>0.00032</td><td>0.00032</td><td>0.99631</td><td>0.98625</td><td>0.00032</td><td>0.00379</td><td>0.00176</td><td>0.0</td><td>0.0005</td><td>0.0</td><td>0.00102</td><td>0.00051</td><td>0.018</td><td>0.0</td><td>0.00001</td><td>0.0</td><td>0.00003</td><td>0.00001</td><td>0.0</td><td>0.00356</td><td>0.00006</td><td>0.00469</td><td>0.0</td><td>0.0</td><td>0</td><td>18</td><td>-0.24765</td><td>-0.00636</td><td>0.02435</td><td>98.594276</td><td>4m 54s 450ms</td></tr><tr><td>1</td><td>1</td><td>1</td><td>8817</td><td>294549.6316</td><td>8809</td><td>0.00127</td><td>0.00188</td><td>0.00024</td><td>0.00024</td><td>0.00025</td><td>0.00126</td><td>0.00058</td><td>0.00329</td><td>0.0</td><td>0.00071</td><td>0.00071</td><td>0.99623</td><td>0.98602</td><td>0.00071</td><td>0.00361</td><td>0.00066</td><td>0.0</td><td>0.0</td><td>0.00001</td><td>0.00126</td><td>0.00048</td><td>0.00702</td><td>0.0</td><td>0.0</td><td>0.0</td><td>0.00001</td><td>0.0</td><td>0.0</td><td>0.00141</td><td>0.00007</td><td>0.00206</td><td>0.0</td><td>0.0</td><td>0</td><td>18</td><td>-0.23247</td><td>0.00719</td><td>0.02604</td><td>97.55748</td><td>4m 54s 549ms</td></tr><tr><td>1</td><td>1</td><td>1</td><td>8820</td><td>294634.3984</td><td>8812</td><td>0.00127</td><td>0.00189</td><td>0.00024</td><td>0.00025</td><td>0.00024</td><td>0.00126</td><td>0.00061</td><td>0.00329</td><td>0.0</td><td>0.00131</td><td>0.00131</td><td>0.99622</td><td>0.98427</td><td>0.00131</td><td>0.00501</td><td>0.00073</td><td>0.0</td><td>0.0</td><td>0.00001</td><td>0.0007</td><td>0.00023</td><td>0.01927</td><td>0.0</td><td>0.0</td><td>0.0</td><td>0.00001</td><td>0.0</td><td>0.0</td><td>0.00277</td><td>0.00011</td><td>0.00133</td><td>0.0</td><td>0.00001</td><td>0</td><td>18</td><td>-0.23467</td><td>0.01317</td><td>0.02527</td><td>98.262718</td><td>4m 54s 634ms</td></tr><tr><td>1</td><td>1</td><td>1</td><td>8823</td><td>294732.1368</td><td>8815</td><td>0.00127</td><td>0.00191</td><td>0.00024</td><td>0.00025</td><td>0.00024</td><td>0.00127</td><td>0.00065</td><td>0.00329</td><td>0.0</td><td>0.00027</td><td>0.00105</td><td>0.99619</td><td>0.98355</td><td>0.00105</td><td>0.00474</td><td>0.00048</td><td>0.0</td><td>0.0</td><td>0.0</td><td>0.00064</td><td>0.00013</td><td>0.03485</td><td>0.0</td><td>0.0</td><td>0.0</td><td>0.0</td><td>0.0</td><td>0.0</td><td>0.00151</td><td>0.00008</td><td>0.00027</td><td>0.0</td><td>0.00002</td><td>0</td><td>18</td><td>-0.24314</td><td>0.01546</td><td>0.0231</td><td>98.153336</td><td>4m 54s 732ms</td></tr><tr><td>1</td><td>1</td><td>1</td><td>8825</td><td>294819.3329</td><td>8817</td><td>0.00127</td><td>0.0019</td><td>0.00024</td><td>0.00025</td><td>0.00024</td><td>0.00127</td><td>0.00062</td><td>0.00329</td><td>0.0</td><td>0.00038</td><td>0.00208</td><td>0.99619</td><td>0.98473</td><td>0.00208</td><td>0.00557</td><td>0.00046</td><td>0.0</td><td>0.0</td><td>0.00001</td><td>0.00055</td><td>0.0001</td><td>0.0224</td><td>0.0</td><td>0.0</td><td>0.0</td><td>0.0</td><td>0.0</td><td>0.00001</td><td>0.00143</td><td>0.00013</td><td>0.00038</td><td>0.0</td><td>0.00004</td><td>0</td><td>18</td><td>-0.25109</td><td>0.01168</td><td>0.02908</td><td>95.516327</td><td>4m 54s 819ms</td></tr><tr><td>&hellip;</td><td>&hellip;</td><td>&hellip;</td><td>&hellip;</td><td>&hellip;</td><td>&hellip;</td><td>&hellip;</td><td>&hellip;</td><td>&hellip;</td><td>&hellip;</td><td>&hellip;</td><td>&hellip;</td><td>&hellip;</td><td>&hellip;</td><td>&hellip;</td><td>&hellip;</td><td>&hellip;</td><td>&hellip;</td><td>&hellip;</td><td>&hellip;</td><td>&hellip;</td><td>&hellip;</td><td>&hellip;</td><td>&hellip;</td><td>&hellip;</td><td>&hellip;</td><td>&hellip;</td><td>&hellip;</td><td>&hellip;</td><td>&hellip;</td><td>&hellip;</td><td>&hellip;</td><td>&hellip;</td><td>&hellip;</td><td>&hellip;</td><td>&hellip;</td><td>&hellip;</td><td>&hellip;</td><td>&hellip;</td><td>&hellip;</td><td>&hellip;</td><td>&hellip;</td><td>&hellip;</td><td>&hellip;</td><td>&hellip;</td><td>&hellip;</td></tr><tr><td>332</td><td>12</td><td>28</td><td>83102</td><td>2.7765e6</td><td>83092</td><td>0.02186</td><td>0.0112</td><td>0.00035</td><td>0.00175</td><td>0.00024</td><td>0.02861</td><td>0.00059</td><td>0.22391</td><td>-0.27112</td><td>0.0</td><td>0.01389</td><td>0.94279</td><td>0.98692</td><td>0.70785</td><td>0.0</td><td>0.00005</td><td>0.0</td><td>0.0</td><td>0.00212</td><td>0.0</td><td>0.0</td><td>0.01389</td><td>0.0</td><td>0.0</td><td>0.00001</td><td>0.0</td><td>0.0</td><td>0.0399</td><td>0.0708</td><td>0.02629</td><td>0.0</td><td>0.00001</td><td>0.00161</td><td>0</td><td>36</td><td>-0.10047</td><td>0.00382</td><td>-0.02445</td><td>105.601097</td><td>46m 16s 486ms</td></tr><tr><td>332</td><td>12</td><td>28</td><td>83108</td><td>2.7767e6</td><td>83098</td><td>0.00398</td><td>0.00399</td><td>0.00027</td><td>0.00056</td><td>0.00024</td><td>0.00469</td><td>0.0006</td><td>0.00798</td><td>-0.02224</td><td>0.0</td><td>0.01768</td><td>0.99061</td><td>0.98787</td><td>0.29225</td><td>0.0</td><td>0.00001</td><td>0.0</td><td>0.0</td><td>0.0</td><td>0.00001</td><td>0.0</td><td>0.01768</td><td>0.0</td><td>0.0</td><td>0.0</td><td>0.0</td><td>0.0</td><td>0.00061</td><td>0.03258</td><td>0.00319</td><td>0.0</td><td>0.00001</td><td>0.00014</td><td>0</td><td>36</td><td>-0.12295</td><td>0.0</td><td>-0.02798</td><td>106.322632</td><td>46m 16s 675ms</td></tr><tr><td>332</td><td>12</td><td>28</td><td>83111</td><td>2.7768e6</td><td>83101</td><td>0.00338</td><td>0.00354</td><td>0.00028</td><td>0.00049</td><td>0.00024</td><td>0.00377</td><td>0.00062</td><td>0.00594</td><td>0.0</td><td>0.0</td><td>0.02642</td><td>0.99246</td><td>0.98535</td><td>0.24415</td><td>0.0</td><td>0.00001</td><td>0.0</td><td>0.0</td><td>0.0</td><td>0.00002</td><td>0.0</td><td>0.02642</td><td>0.0</td><td>0.0</td><td>0.00001</td><td>0.0</td><td>0.0</td><td>0.00074</td><td>0.03904</td><td>0.00512</td><td>0.0</td><td>0.00001</td><td>0.00018</td><td>0</td><td>36</td><td>-0.14677</td><td>-0.00958</td><td>-0.02257</td><td>105.994217</td><td>46m 16s 772ms</td></tr><tr><td>332</td><td>12</td><td>28</td><td>83114</td><td>2.7769e6</td><td>83104</td><td>0.00533</td><td>0.00476</td><td>0.00028</td><td>0.00069</td><td>0.00024</td><td>0.00644</td><td>0.00061</td><td>0.01464</td><td>-0.06243</td><td>0.0</td><td>0.02195</td><td>0.98712</td><td>0.98451</td><td>0.36278</td><td>0.0</td><td>0.00001</td><td>0.0</td><td>0.0</td><td>0.0</td><td>0.00002</td><td>0.00001</td><td>0.02195</td><td>0.0</td><td>0.0</td><td>0.00001</td><td>0.0</td><td>0.0</td><td>0.00071</td><td>0.04675</td><td>0.00262</td><td>0.0</td><td>0.00001</td><td>0.00007</td><td>0</td><td>36</td><td>-0.14984</td><td>-0.01242</td><td>-0.01782</td><td>106.573822</td><td>46m 16s 870ms</td></tr><tr><td>332</td><td>12</td><td>28</td><td>83117</td><td>2.7770e6</td><td>83107</td><td>0.00416</td><td>0.00411</td><td>0.00027</td><td>0.00058</td><td>0.00024</td><td>0.00495</td><td>0.00063</td><td>0.0087</td><td>-0.02842</td><td>0.0</td><td>0.03276</td><td>0.99009</td><td>0.98525</td><td>0.30386</td><td>0.0</td><td>0.00001</td><td>0.0</td><td>0.0</td><td>0.0</td><td>0.00001</td><td>0.0</td><td>0.03276</td><td>0.0</td><td>0.0</td><td>0.00001</td><td>0.0</td><td>0.0</td><td>0.00051</td><td>0.0331</td><td>0.00215</td><td>0.0</td><td>0.00002</td><td>0.00005</td><td>0</td><td>36</td><td>-0.13019</td><td>-0.00993</td><td>-0.01892</td><td>105.746185</td><td>46m 16s 967ms</td></tr><tr><td>332</td><td>12</td><td>28</td><td>83120</td><td>2.7771e6</td><td>83110</td><td>0.00392</td><td>0.00388</td><td>0.00028</td><td>0.00055</td><td>0.00024</td><td>0.00448</td><td>0.00063</td><td>0.00795</td><td>-0.01551</td><td>0.0</td><td>0.03058</td><td>0.99105</td><td>0.98528</td><td>0.28126</td><td>0.0</td><td>0.00001</td><td>0.0</td><td>0.0</td><td>0.0</td><td>0.00001</td><td>0.00001</td><td>0.03058</td><td>0.0</td><td>0.0</td><td>0.00001</td><td>0.0</td><td>0.0</td><td>0.0004</td><td>0.0431</td><td>0.00224</td><td>0.0</td><td>0.00001</td><td>0.00005</td><td>0</td><td>36</td><td>-0.13132</td><td>-0.00983</td><td>-0.01846</td><td>106.00988</td><td>46m 17s 64ms</td></tr></tbody></table></div>"
                        ],
                        "text/plain": [
                            "shape: (583_005, 46)\n",
                            "┌──────────┬────────────┬────────────┬───────────┬───┬──────────┬──────────┬───────────┬───────────┐\n",
                            "│ trial_id ┆ trial_numb ┆ participan ┆ rownumber ┆ … ┆ yaw      ┆ roll     ┆ interocul ┆ time      │\n",
                            "│ ---      ┆ er         ┆ t_id       ┆ ---       ┆   ┆ ---      ┆ ---      ┆ ar_distan ┆ ---       │\n",
                            "│ u16      ┆ ---        ┆ ---        ┆ u32       ┆   ┆ f64      ┆ f64      ┆ ce        ┆ duration[ │\n",
                            "│          ┆ u8         ┆ u8         ┆           ┆   ┆          ┆          ┆ ---       ┆ ms]       │\n",
                            "│          ┆            ┆            ┆           ┆   ┆          ┆          ┆ f64       ┆           │\n",
                            "╞══════════╪════════════╪════════════╪═══════════╪═══╪══════════╪══════════╪═══════════╪═══════════╡\n",
                            "│ 1        ┆ 1          ┆ 1          ┆ 8811      ┆ … ┆ -0.01128 ┆ 0.03344  ┆ 99.168541 ┆ 4m 54s    │\n",
                            "│          ┆            ┆            ┆           ┆   ┆          ┆          ┆           ┆ 350ms     │\n",
                            "│ 1        ┆ 1          ┆ 1          ┆ 8814      ┆ … ┆ -0.00636 ┆ 0.02435  ┆ 98.594276 ┆ 4m 54s    │\n",
                            "│          ┆            ┆            ┆           ┆   ┆          ┆          ┆           ┆ 450ms     │\n",
                            "│ 1        ┆ 1          ┆ 1          ┆ 8817      ┆ … ┆ 0.00719  ┆ 0.02604  ┆ 97.55748  ┆ 4m 54s    │\n",
                            "│          ┆            ┆            ┆           ┆   ┆          ┆          ┆           ┆ 549ms     │\n",
                            "│ 1        ┆ 1          ┆ 1          ┆ 8820      ┆ … ┆ 0.01317  ┆ 0.02527  ┆ 98.262718 ┆ 4m 54s    │\n",
                            "│          ┆            ┆            ┆           ┆   ┆          ┆          ┆           ┆ 634ms     │\n",
                            "│ 1        ┆ 1          ┆ 1          ┆ 8823      ┆ … ┆ 0.01546  ┆ 0.0231   ┆ 98.153336 ┆ 4m 54s    │\n",
                            "│          ┆            ┆            ┆           ┆   ┆          ┆          ┆           ┆ 732ms     │\n",
                            "│ 1        ┆ 1          ┆ 1          ┆ 8825      ┆ … ┆ 0.01168  ┆ 0.02908  ┆ 95.516327 ┆ 4m 54s    │\n",
                            "│          ┆            ┆            ┆           ┆   ┆          ┆          ┆           ┆ 819ms     │\n",
                            "│ …        ┆ …          ┆ …          ┆ …         ┆ … ┆ …        ┆ …        ┆ …         ┆ …         │\n",
                            "│ 332      ┆ 12         ┆ 28         ┆ 83102     ┆ … ┆ 0.00382  ┆ -0.02445 ┆ 105.60109 ┆ 46m 16s   │\n",
                            "│          ┆            ┆            ┆           ┆   ┆          ┆          ┆ 7         ┆ 486ms     │\n",
                            "│ 332      ┆ 12         ┆ 28         ┆ 83108     ┆ … ┆ 0.0      ┆ -0.02798 ┆ 106.32263 ┆ 46m 16s   │\n",
                            "│          ┆            ┆            ┆           ┆   ┆          ┆          ┆ 2         ┆ 675ms     │\n",
                            "│ 332      ┆ 12         ┆ 28         ┆ 83111     ┆ … ┆ -0.00958 ┆ -0.02257 ┆ 105.99421 ┆ 46m 16s   │\n",
                            "│          ┆            ┆            ┆           ┆   ┆          ┆          ┆ 7         ┆ 772ms     │\n",
                            "│ 332      ┆ 12         ┆ 28         ┆ 83114     ┆ … ┆ -0.01242 ┆ -0.01782 ┆ 106.57382 ┆ 46m 16s   │\n",
                            "│          ┆            ┆            ┆           ┆   ┆          ┆          ┆ 2         ┆ 870ms     │\n",
                            "│ 332      ┆ 12         ┆ 28         ┆ 83117     ┆ … ┆ -0.00993 ┆ -0.01892 ┆ 105.74618 ┆ 46m 16s   │\n",
                            "│          ┆            ┆            ┆           ┆   ┆          ┆          ┆ 5         ┆ 967ms     │\n",
                            "│ 332      ┆ 12         ┆ 28         ┆ 83120     ┆ … ┆ -0.00983 ┆ -0.01846 ┆ 106.00988 ┆ 46m 17s   │\n",
                            "│          ┆            ┆            ┆           ┆   ┆          ┆          ┆           ┆ 64ms      │\n",
                            "└──────────┴────────────┴────────────┴───────────┴───┴──────────┴──────────┴───────────┴───────────┘"
                        ]
                    },
                    "execution_count": 28,
                    "metadata": {},
                    "output_type": "execute_result"
                }
            ],
            "source": [
                "with db:\n",
                "    df = db.get_table(\"Raw_Face\")\n",
                "    df = db.get_table(\"Preprocess_Face\")\n",
                "df = add_time_column(df)\n",
                "df"
            ]
        },
        {
            "cell_type": "code",
            "execution_count": 31,
            "metadata": {},
            "outputs": [
                {
                    "name": "stdout",
                    "output_type": "stream",
                    "text": [
                        "101.36292390078917\n",
                        "9.865540194743874\n"
                    ]
                }
            ],
            "source": [
                "print(df.filter(col(\"trial_id\") == 1)[\"timestamp\"].diff().mean())\n",
                "print(1000 / df.filter(col(\"trial_id\") == 1)[\"timestamp\"].diff().mean())"
            ]
        },
        {
            "cell_type": "code",
            "execution_count": 30,
            "metadata": {},
            "outputs": [
                {
                    "name": "stderr",
                    "output_type": "stream",
                    "text": [
                        "thread '<unnamed>' panicked at py-polars/src/dataframe/general.rs:352:31:\n",
                        "UDF failed: New sample rate 10 must be smaller than current sample rate 10\n",
                        "note: run with `RUST_BACKTRACE=1` environment variable to display a backtrace\n"
                    ]
                },
                {
                    "ename": "PanicException",
                    "evalue": "UDF failed: New sample rate 10 must be smaller than current sample rate 10",
                    "output_type": "error",
                    "traceback": [
                        "\u001b[0;31m---------------------------------------------------------------------------\u001b[0m",
                        "\u001b[0;31mPanicException\u001b[0m                            Traceback (most recent call last)",
                        "Cell \u001b[0;32mIn[30], line 1\u001b[0m\n\u001b[0;32m----> 1\u001b[0m \u001b[43mdownsample\u001b[49m\u001b[43m(\u001b[49m\u001b[43mdf\u001b[49m\u001b[43m,\u001b[49m\u001b[43m \u001b[49m\u001b[38;5;241;43m10\u001b[39;49m\u001b[43m)\u001b[49m\n",
                        "File \u001b[0;32m~/Dropbox/PhD/Code/pain-measurement/src/features/transformations.py:31\u001b[0m, in \u001b[0;36mmap_trials.<locals>.wrapper\u001b[0;34m(df, *args, **kwargs)\u001b[0m\n\u001b[1;32m     24\u001b[0m \u001b[38;5;129m@wraps\u001b[39m(func)\n\u001b[1;32m     25\u001b[0m \u001b[38;5;28;01mdef\u001b[39;00m \u001b[38;5;21mwrapper\u001b[39m(\n\u001b[1;32m     26\u001b[0m     df: pl\u001b[38;5;241m.\u001b[39mDataFrame,\n\u001b[1;32m     27\u001b[0m     \u001b[38;5;241m*\u001b[39margs,\n\u001b[1;32m     28\u001b[0m     \u001b[38;5;241m*\u001b[39m\u001b[38;5;241m*\u001b[39mkwargs,\n\u001b[1;32m     29\u001b[0m ) \u001b[38;5;241m-\u001b[39m\u001b[38;5;241m>\u001b[39m pl\u001b[38;5;241m.\u001b[39mDataFrame:\n\u001b[1;32m     30\u001b[0m     \u001b[38;5;28;01mtry\u001b[39;00m:\n\u001b[0;32m---> 31\u001b[0m         df \u001b[38;5;241m=\u001b[39m \u001b[43mdf\u001b[49m\u001b[38;5;241;43m.\u001b[39;49m\u001b[43mgroup_by\u001b[49m\u001b[43m(\u001b[49m\u001b[38;5;124;43m\"\u001b[39;49m\u001b[38;5;124;43mtrial_id\u001b[39;49m\u001b[38;5;124;43m\"\u001b[39;49m\u001b[43m,\u001b[49m\u001b[43m \u001b[49m\u001b[43mmaintain_order\u001b[49m\u001b[38;5;241;43m=\u001b[39;49m\u001b[38;5;28;43;01mTrue\u001b[39;49;00m\u001b[43m)\u001b[49m\u001b[38;5;241;43m.\u001b[39;49m\u001b[43mmap_groups\u001b[49m\u001b[43m(\u001b[49m\n\u001b[1;32m     32\u001b[0m \u001b[43m            \u001b[49m\u001b[38;5;28;43;01mlambda\u001b[39;49;00m\u001b[43m \u001b[49m\u001b[43mgroup\u001b[49m\u001b[43m:\u001b[49m\u001b[43m \u001b[49m\u001b[43mfunc\u001b[49m\u001b[43m(\u001b[49m\u001b[43mgroup\u001b[49m\u001b[43m,\u001b[49m\u001b[43m \u001b[49m\u001b[38;5;241;43m*\u001b[39;49m\u001b[43margs\u001b[49m\u001b[43m,\u001b[49m\u001b[43m \u001b[49m\u001b[38;5;241;43m*\u001b[39;49m\u001b[38;5;241;43m*\u001b[39;49m\u001b[43mkwargs\u001b[49m\u001b[43m)\u001b[49m\n\u001b[1;32m     33\u001b[0m \u001b[43m        \u001b[49m\u001b[43m)\u001b[49m\n\u001b[1;32m     34\u001b[0m     \u001b[38;5;28;01mexcept\u001b[39;00m ColumnNotFoundError:\n\u001b[1;32m     35\u001b[0m         logger\u001b[38;5;241m.\u001b[39mwarning(\n\u001b[1;32m     36\u001b[0m             \u001b[38;5;124m\"\u001b[39m\u001b[38;5;124mNo \u001b[39m\u001b[38;5;124m'\u001b[39m\u001b[38;5;124mtrial_id\u001b[39m\u001b[38;5;124m'\u001b[39m\u001b[38;5;124m column found. Applying function to the entire DataFrame.\u001b[39m\u001b[38;5;124m\"\u001b[39m\n\u001b[1;32m     37\u001b[0m         )\n",
                        "File \u001b[0;32m~/miniforge3/envs/pain/lib/python3.12/site-packages/polars/dataframe/group_by.py:303\u001b[0m, in \u001b[0;36mGroupBy.map_groups\u001b[0;34m(self, function)\u001b[0m\n\u001b[1;32m    299\u001b[0m     msg \u001b[38;5;241m=\u001b[39m \u001b[38;5;124m\"\u001b[39m\u001b[38;5;124mcannot call `map_groups` when grouping by an expression\u001b[39m\u001b[38;5;124m\"\u001b[39m\n\u001b[1;32m    300\u001b[0m     \u001b[38;5;28;01mraise\u001b[39;00m \u001b[38;5;167;01mTypeError\u001b[39;00m(msg)\n\u001b[1;32m    302\u001b[0m \u001b[38;5;28;01mreturn\u001b[39;00m \u001b[38;5;28mself\u001b[39m\u001b[38;5;241m.\u001b[39mdf\u001b[38;5;241m.\u001b[39m\u001b[38;5;18m__class__\u001b[39m\u001b[38;5;241m.\u001b[39m_from_pydf(\n\u001b[0;32m--> 303\u001b[0m     \u001b[38;5;28;43mself\u001b[39;49m\u001b[38;5;241;43m.\u001b[39;49m\u001b[43mdf\u001b[49m\u001b[38;5;241;43m.\u001b[39;49m\u001b[43m_df\u001b[49m\u001b[38;5;241;43m.\u001b[39;49m\u001b[43mgroup_by_map_groups\u001b[49m\u001b[43m(\u001b[49m\n\u001b[1;32m    304\u001b[0m \u001b[43m        \u001b[49m\u001b[38;5;28;43mlist\u001b[39;49m\u001b[43m(\u001b[49m\u001b[38;5;28;43mself\u001b[39;49m\u001b[38;5;241;43m.\u001b[39;49m\u001b[43mby\u001b[49m\u001b[43m)\u001b[49m\u001b[43m,\u001b[49m\u001b[43m \u001b[49m\u001b[43mfunction\u001b[49m\u001b[43m,\u001b[49m\u001b[43m \u001b[49m\u001b[38;5;28;43mself\u001b[39;49m\u001b[38;5;241;43m.\u001b[39;49m\u001b[43mmaintain_order\u001b[49m\n\u001b[1;32m    305\u001b[0m \u001b[43m    \u001b[49m\u001b[43m)\u001b[49m\n\u001b[1;32m    306\u001b[0m )\n",
                        "\u001b[0;31mPanicException\u001b[0m: UDF failed: New sample rate 10 must be smaller than current sample rate 10"
                    ]
                }
            ],
            "source": [
                "downsample(df, 10)"
            ]
        },
        {
            "cell_type": "code",
            "execution_count": 22,
            "metadata": {},
            "outputs": [
                {
                    "data": {
                        "text/html": [
                            "<div><style>\n",
                            ".dataframe > thead > tr,\n",
                            ".dataframe > tbody > tr {\n",
                            "  text-align: right;\n",
                            "  white-space: pre-wrap;\n",
                            "}\n",
                            "</style>\n",
                            "<small>shape: (1_787, 46)</small><table border=\"1\" class=\"dataframe\"><thead><tr><th>trial_id</th><th>trial_number</th><th>participant_id</th><th>rownumber</th><th>timestamp</th><th>samplenumber</th><th>anger</th><th>contempt</th><th>disgust</th><th>fear</th><th>joy</th><th>sadness</th><th>surprise</th><th>engagement</th><th>valence</th><th>sentimentality</th><th>confusion</th><th>neutral</th><th>attention</th><th>brow_furrow</th><th>brow_raise</th><th>cheek_raise</th><th>chin_raise</th><th>dimpler</th><th>eye_closure</th><th>eye_widen</th><th>inner_brow_raise</th><th>jaw_drop</th><th>lip_corner_depressor</th><th>lip_press</th><th>lip_pucker</th><th>lip_stretch</th><th>lip_suck</th><th>lid_tighten</th><th>mouth_open</th><th>nose_wrinkle</th><th>smile</th><th>smirk</th><th>upper_lip_raise</th><th>blink</th><th>blinkrate</th><th>pitch</th><th>yaw</th><th>roll</th><th>interocular_distance</th><th>time</th></tr><tr><td>u16</td><td>u8</td><td>u8</td><td>u32</td><td>f64</td><td>i64</td><td>f64</td><td>f64</td><td>f64</td><td>f64</td><td>f64</td><td>f64</td><td>f64</td><td>f64</td><td>f64</td><td>f64</td><td>f64</td><td>f64</td><td>f64</td><td>f64</td><td>f64</td><td>f64</td><td>f64</td><td>f64</td><td>f64</td><td>f64</td><td>f64</td><td>f64</td><td>f64</td><td>f64</td><td>f64</td><td>f64</td><td>f64</td><td>f64</td><td>f64</td><td>f64</td><td>f64</td><td>f64</td><td>f64</td><td>i64</td><td>i64</td><td>f64</td><td>f64</td><td>f64</td><td>f64</td><td>duration[ms]</td></tr></thead><tbody><tr><td>10</td><td>10</td><td>1</td><td>71868</td><td>2.4011e6</td><td>71860</td><td>0.127487</td><td>0.190916</td><td>0.024053</td><td>0.024395</td><td>0.024272</td><td>0.126869</td><td>0.057337</td><td>0.328766</td><td>0.0</td><td>0.069741</td><td>0.069741</td><td>99.618172</td><td>98.550827</td><td>0.069741</td><td>0.226616</td><td>0.037792</td><td>0.000083</td><td>0.0</td><td>0.00016</td><td>0.148086</td><td>0.023806</td><td>0.479644</td><td>0.00003</td><td>0.001118</td><td>5.6415e-8</td><td>0.001274</td><td>0.000397</td><td>0.000603</td><td>0.076417</td><td>0.018546</td><td>0.07015</td><td>0.0</td><td>0.002928</td><td>0</td><td>30</td><td>-24.569769</td><td>-0.902114</td><td>5.054742</td><td>92.630722</td><td>40m 1s 82ms</td></tr><tr><td>10</td><td>10</td><td>1</td><td>71870</td><td>2.4012e6</td><td>71862</td><td>0.127914</td><td>0.190201</td><td>0.024092</td><td>0.024654</td><td>0.024271</td><td>0.126431</td><td>0.058352</td><td>0.328766</td><td>0.0</td><td>0.05941</td><td>0.05941</td><td>99.619598</td><td>98.750511</td><td>0.05941</td><td>0.371026</td><td>0.040081</td><td>0.000107</td><td>0.0</td><td>0.000278</td><td>0.298905</td><td>0.01342</td><td>0.616223</td><td>0.000032</td><td>0.001613</td><td>8.8736e-8</td><td>0.000565</td><td>0.000475</td><td>0.000745</td><td>0.100799</td><td>0.030594</td><td>0.068661</td><td>0.0</td><td>0.00291</td><td>0</td><td>30</td><td>-24.592367</td><td>-0.150717</td><td>5.369899</td><td>91.002571</td><td>40m 1s 177ms</td></tr><tr><td>10</td><td>10</td><td>1</td><td>71874</td><td>2.4013e6</td><td>71866</td><td>0.128262</td><td>0.190164</td><td>0.024086</td><td>0.024865</td><td>0.024169</td><td>0.126317</td><td>0.059554</td><td>0.328766</td><td>0.0</td><td>0.03375</td><td>0.060448</td><td>99.619675</td><td>98.726997</td><td>0.060448</td><td>0.484564</td><td>0.034195</td><td>0.000025</td><td>0.0</td><td>0.000103</td><td>0.404417</td><td>0.006324</td><td>0.893932</td><td>0.00002</td><td>0.000182</td><td>9.7650e-7</td><td>0.00036</td><td>0.000131</td><td>0.000383</td><td>0.071352</td><td>0.020919</td><td>0.03375</td><td>0.0</td><td>0.00192</td><td>0</td><td>30</td><td>-26.423512</td><td>-0.245101</td><td>4.983922</td><td>90.283669</td><td>40m 1s 282ms</td></tr><tr><td>10</td><td>10</td><td>1</td><td>71876</td><td>2.4014e6</td><td>71868</td><td>0.128771</td><td>0.188046</td><td>0.024082</td><td>0.025329</td><td>0.024326</td><td>0.12552</td><td>0.060998</td><td>0.328766</td><td>0.0</td><td>0.044369</td><td>0.044369</td><td>99.623909</td><td>98.639122</td><td>0.044369</td><td>0.748467</td><td>0.037516</td><td>0.000038</td><td>0.0</td><td>0.000069</td><td>0.657472</td><td>0.017564</td><td>0.94127</td><td>0.000016</td><td>0.000775</td><td>1.6875e-7</td><td>0.001163</td><td>0.000189</td><td>0.000332</td><td>0.140108</td><td>0.013238</td><td>0.09008</td><td>0.0</td><td>0.001897</td><td>0</td><td>30</td><td>-23.903025</td><td>-0.583318</td><td>4.048125</td><td>91.313148</td><td>40m 1s 366ms</td></tr><tr><td>10</td><td>10</td><td>1</td><td>71879</td><td>2.4015e6</td><td>71871</td><td>0.128779</td><td>0.188414</td><td>0.024107</td><td>0.025465</td><td>0.024157</td><td>0.125571</td><td>0.061987</td><td>0.328766</td><td>0.0</td><td>0.032269</td><td>0.065495</td><td>99.623169</td><td>98.760185</td><td>0.065495</td><td>0.864647</td><td>0.028559</td><td>0.00001</td><td>0.0</td><td>0.000037</td><td>0.660009</td><td>0.009053</td><td>1.217274</td><td>0.000013</td><td>0.000084</td><td>0.000001</td><td>0.000201</td><td>0.000067</td><td>0.00026</td><td>0.103126</td><td>0.017054</td><td>0.032269</td><td>0.0</td><td>0.001984</td><td>0</td><td>30</td><td>-25.551376</td><td>0.11133</td><td>4.717494</td><td>90.73027</td><td>40m 1s 460ms</td></tr><tr><td>10</td><td>10</td><td>1</td><td>71882</td><td>2.4016e6</td><td>71874</td><td>0.129057</td><td>0.188033</td><td>0.024069</td><td>0.025556</td><td>0.024196</td><td>0.125373</td><td>0.060011</td><td>0.328766</td><td>0.0</td><td>0.041966</td><td>0.041966</td><td>99.623932</td><td>98.752525</td><td>0.041966</td><td>0.876473</td><td>0.027248</td><td>0.000054</td><td>0.0</td><td>0.000043</td><td>0.77608</td><td>0.011511</td><td>0.308851</td><td>0.000017</td><td>0.000583</td><td>2.7800e-7</td><td>0.000674</td><td>0.000318</td><td>0.000309</td><td>0.077705</td><td>0.012101</td><td>0.04754</td><td>0.0</td><td>0.002853</td><td>0</td><td>30</td><td>-24.035711</td><td>-0.142557</td><td>4.964402</td><td>91.051819</td><td>40m 1s 562ms</td></tr><tr><td>&hellip;</td><td>&hellip;</td><td>&hellip;</td><td>&hellip;</td><td>&hellip;</td><td>&hellip;</td><td>&hellip;</td><td>&hellip;</td><td>&hellip;</td><td>&hellip;</td><td>&hellip;</td><td>&hellip;</td><td>&hellip;</td><td>&hellip;</td><td>&hellip;</td><td>&hellip;</td><td>&hellip;</td><td>&hellip;</td><td>&hellip;</td><td>&hellip;</td><td>&hellip;</td><td>&hellip;</td><td>&hellip;</td><td>&hellip;</td><td>&hellip;</td><td>&hellip;</td><td>&hellip;</td><td>&hellip;</td><td>&hellip;</td><td>&hellip;</td><td>&hellip;</td><td>&hellip;</td><td>&hellip;</td><td>&hellip;</td><td>&hellip;</td><td>&hellip;</td><td>&hellip;</td><td>&hellip;</td><td>&hellip;</td><td>&hellip;</td><td>&hellip;</td><td>&hellip;</td><td>&hellip;</td><td>&hellip;</td><td>&hellip;</td><td>&hellip;</td></tr><tr><td>10</td><td>10</td><td>1</td><td>77241</td><td>2.5806e6</td><td>77233</td><td>0.126481</td><td>0.188433</td><td>0.023982</td><td>0.023993</td><td>0.025108</td><td>0.126429</td><td>0.057278</td><td>0.328766</td><td>0.0</td><td>0.15843</td><td>0.15843</td><td>99.623131</td><td>97.318314</td><td>0.15843</td><td>0.098415</td><td>0.148522</td><td>0.000073</td><td>0.0</td><td>0.014605</td><td>0.033702</td><td>0.002774</td><td>0.718605</td><td>0.000009</td><td>0.000315</td><td>0.000007</td><td>0.012437</td><td>0.000267</td><td>0.002508</td><td>0.085775</td><td>0.110081</td><td>0.317328</td><td>0.0</td><td>0.003775</td><td>0</td><td>24</td><td>-29.319355</td><td>4.042294</td><td>1.425686</td><td>90.206665</td><td>43m 607ms</td></tr><tr><td>10</td><td>10</td><td>1</td><td>77244</td><td>2.5807e6</td><td>77236</td><td>0.126475</td><td>0.188861</td><td>0.023961</td><td>0.023978</td><td>0.024989</td><td>0.126459</td><td>0.056824</td><td>0.328766</td><td>0.0</td><td>0.125038</td><td>0.125038</td><td>99.622284</td><td>97.465309</td><td>0.125038</td><td>0.081372</td><td>0.134966</td><td>0.000061</td><td>0.0</td><td>0.015676</td><td>0.026312</td><td>0.001626</td><td>0.553159</td><td>0.000006</td><td>0.000221</td><td>0.000004</td><td>0.008476</td><td>0.000295</td><td>0.002584</td><td>0.065182</td><td>0.083348</td><td>0.281528</td><td>0.0</td><td>0.002642</td><td>0</td><td>24</td><td>-29.727606</td><td>3.752884</td><td>1.495865</td><td>90.286819</td><td>43m 697ms</td></tr><tr><td>10</td><td>10</td><td>1</td><td>77247</td><td>2.5808e6</td><td>77239</td><td>0.126232</td><td>0.188161</td><td>0.023924</td><td>0.023992</td><td>0.025094</td><td>0.126176</td><td>0.056983</td><td>0.328766</td><td>0.0</td><td>0.110285</td><td>0.110285</td><td>99.62368</td><td>97.451393</td><td>0.110285</td><td>0.125237</td><td>0.149831</td><td>0.000081</td><td>0.0</td><td>0.014747</td><td>0.048078</td><td>0.002166</td><td>0.554236</td><td>0.000008</td><td>0.000292</td><td>0.000005</td><td>0.007931</td><td>0.000371</td><td>0.002534</td><td>0.046679</td><td>0.084366</td><td>0.311612</td><td>0.0</td><td>0.003313</td><td>0</td><td>24</td><td>-30.056351</td><td>3.780961</td><td>1.609186</td><td>90.367027</td><td>43m 792ms</td></tr><tr><td>10</td><td>10</td><td>1</td><td>77249</td><td>2.5809e6</td><td>77241</td><td>0.126033</td><td>0.187376</td><td>0.023878</td><td>0.023863</td><td>0.025327</td><td>0.125945</td><td>0.056449</td><td>0.328766</td><td>0.0</td><td>0.098056</td><td>0.098056</td><td>99.625244</td><td>97.735802</td><td>0.098056</td><td>0.047283</td><td>0.159862</td><td>0.000048</td><td>0.0</td><td>0.006957</td><td>0.047694</td><td>0.002025</td><td>0.406468</td><td>0.000009</td><td>0.000277</td><td>0.000005</td><td>0.005513</td><td>0.000713</td><td>0.001368</td><td>0.059697</td><td>0.089467</td><td>0.389325</td><td>0.0</td><td>0.002912</td><td>0</td><td>24</td><td>-28.877855</td><td>3.174763</td><td>1.601981</td><td>90.477547</td><td>43m 886ms</td></tr><tr><td>10</td><td>10</td><td>1</td><td>77252</td><td>2.5810e6</td><td>77244</td><td>0.131886</td><td>0.19416</td><td>0.023944</td><td>0.024702</td><td>0.02502</td><td>0.13328</td><td>0.055756</td><td>0.328766</td><td>0.0</td><td>0.312131</td><td>0.112312</td><td>99.611679</td><td>97.840073</td><td>1.333572</td><td>0.089188</td><td>0.096435</td><td>0.000042</td><td>0.0</td><td>9.122537</td><td>0.001539</td><td>0.003842</td><td>0.112312</td><td>0.000012</td><td>0.000058</td><td>0.000012</td><td>0.0013</td><td>0.000376</td><td>0.017162</td><td>0.045798</td><td>0.103714</td><td>0.312131</td><td>0.0</td><td>0.002064</td><td>0</td><td>24</td><td>-28.140913</td><td>2.933706</td><td>1.670637</td><td>91.652061</td><td>43m 981ms</td></tr><tr><td>10</td><td>10</td><td>1</td><td>77255</td><td>2.5811e6</td><td>77247</td><td>0.129848</td><td>0.19315</td><td>0.024508</td><td>0.024685</td><td>0.024347</td><td>0.12936</td><td>0.056079</td><td>0.328766</td><td>0.0</td><td>0.074561</td><td>0.073952</td><td>99.613693</td><td>97.249954</td><td>0.590781</td><td>0.268186</td><td>0.083538</td><td>0.000026</td><td>0.0</td><td>98.146645</td><td>0.000327</td><td>0.003202</td><td>0.073952</td><td>0.000171</td><td>0.000009</td><td>0.000192</td><td>0.00005</td><td>0.000124</td><td>0.020225</td><td>0.375654</td><td>0.179225</td><td>0.074561</td><td>0.0</td><td>0.014466</td><td>0</td><td>24</td><td>-30.031139</td><td>4.171662</td><td>1.512101</td><td>91.327682</td><td>43m 1s 76ms</td></tr></tbody></table></div>"
                        ],
                        "text/plain": [
                            "shape: (1_787, 46)\n",
                            "┌──────────┬────────────┬───────────┬───────────┬───┬───────────┬──────────┬───────────┬───────────┐\n",
                            "│ trial_id ┆ trial_numb ┆ participa ┆ rownumber ┆ … ┆ yaw       ┆ roll     ┆ interocul ┆ time      │\n",
                            "│ ---      ┆ er         ┆ nt_id     ┆ ---       ┆   ┆ ---       ┆ ---      ┆ ar_distan ┆ ---       │\n",
                            "│ u16      ┆ ---        ┆ ---       ┆ u32       ┆   ┆ f64       ┆ f64      ┆ ce        ┆ duration[ │\n",
                            "│          ┆ u8         ┆ u8        ┆           ┆   ┆           ┆          ┆ ---       ┆ ms]       │\n",
                            "│          ┆            ┆           ┆           ┆   ┆           ┆          ┆ f64       ┆           │\n",
                            "╞══════════╪════════════╪═══════════╪═══════════╪═══╪═══════════╪══════════╪═══════════╪═══════════╡\n",
                            "│ 10       ┆ 10         ┆ 1         ┆ 71868     ┆ … ┆ -0.902114 ┆ 5.054742 ┆ 92.630722 ┆ 40m 1s    │\n",
                            "│          ┆            ┆           ┆           ┆   ┆           ┆          ┆           ┆ 82ms      │\n",
                            "│ 10       ┆ 10         ┆ 1         ┆ 71870     ┆ … ┆ -0.150717 ┆ 5.369899 ┆ 91.002571 ┆ 40m 1s    │\n",
                            "│          ┆            ┆           ┆           ┆   ┆           ┆          ┆           ┆ 177ms     │\n",
                            "│ 10       ┆ 10         ┆ 1         ┆ 71874     ┆ … ┆ -0.245101 ┆ 4.983922 ┆ 90.283669 ┆ 40m 1s    │\n",
                            "│          ┆            ┆           ┆           ┆   ┆           ┆          ┆           ┆ 282ms     │\n",
                            "│ 10       ┆ 10         ┆ 1         ┆ 71876     ┆ … ┆ -0.583318 ┆ 4.048125 ┆ 91.313148 ┆ 40m 1s    │\n",
                            "│          ┆            ┆           ┆           ┆   ┆           ┆          ┆           ┆ 366ms     │\n",
                            "│ 10       ┆ 10         ┆ 1         ┆ 71879     ┆ … ┆ 0.11133   ┆ 4.717494 ┆ 90.73027  ┆ 40m 1s    │\n",
                            "│          ┆            ┆           ┆           ┆   ┆           ┆          ┆           ┆ 460ms     │\n",
                            "│ 10       ┆ 10         ┆ 1         ┆ 71882     ┆ … ┆ -0.142557 ┆ 4.964402 ┆ 91.051819 ┆ 40m 1s    │\n",
                            "│          ┆            ┆           ┆           ┆   ┆           ┆          ┆           ┆ 562ms     │\n",
                            "│ …        ┆ …          ┆ …         ┆ …         ┆ … ┆ …         ┆ …        ┆ …         ┆ …         │\n",
                            "│ 10       ┆ 10         ┆ 1         ┆ 77241     ┆ … ┆ 4.042294  ┆ 1.425686 ┆ 90.206665 ┆ 43m 607ms │\n",
                            "│ 10       ┆ 10         ┆ 1         ┆ 77244     ┆ … ┆ 3.752884  ┆ 1.495865 ┆ 90.286819 ┆ 43m 697ms │\n",
                            "│ 10       ┆ 10         ┆ 1         ┆ 77247     ┆ … ┆ 3.780961  ┆ 1.609186 ┆ 90.367027 ┆ 43m 792ms │\n",
                            "│ 10       ┆ 10         ┆ 1         ┆ 77249     ┆ … ┆ 3.174763  ┆ 1.601981 ┆ 90.477547 ┆ 43m 886ms │\n",
                            "│ 10       ┆ 10         ┆ 1         ┆ 77252     ┆ … ┆ 2.933706  ┆ 1.670637 ┆ 91.652061 ┆ 43m 981ms │\n",
                            "│ 10       ┆ 10         ┆ 1         ┆ 77255     ┆ … ┆ 4.171662  ┆ 1.512101 ┆ 91.327682 ┆ 43m 1s    │\n",
                            "│          ┆            ┆           ┆           ┆   ┆           ┆          ┆           ┆ 76ms      │\n",
                            "└──────────┴────────────┴───────────┴───────────┴───┴───────────┴──────────┴───────────┴───────────┘"
                        ]
                    },
                    "execution_count": 22,
                    "metadata": {},
                    "output_type": "execute_result"
                }
            ],
            "source": [
                "df.filter(col(\"trial_id\") == 10)"
            ]
        },
        {
            "cell_type": "code",
            "execution_count": 11,
            "metadata": {},
            "outputs": [
                {
                    "name": "stderr",
                    "output_type": "stream",
                    "text": [
                        "ic| df.height: 5935133\n",
                        "    df.unique(subset=[\"trial_id\",\"timestamp\"]).height: 5935133\n",
                        "ic| df.height - df.unique(subset=[\"trial_id\",\"timestamp\"]).height: 0\n"
                    ]
                },
                {
                    "data": {
                        "text/html": [
                            "<div><style>\n",
                            ".dataframe > thead > tr,\n",
                            ".dataframe > tbody > tr {\n",
                            "  text-align: right;\n",
                            "  white-space: pre-wrap;\n",
                            "}\n",
                            "</style>\n",
                            "<small>shape: (5_935_133, 13)</small><table border=\"1\" class=\"dataframe\"><thead><tr><th>trial_id</th><th>trial_number</th><th>participant_id</th><th>rownumber</th><th>timestamp</th><th>samplenumber</th><th>eda_d_battery</th><th>eda_raw</th><th>eda_d_packetreceptionrate</th><th>eda_tonic</th><th>eda_phasic</th><th>temperature</th><th>rating</th></tr><tr><td>u16</td><td>u8</td><td>u8</td><td>u32</td><td>f64</td><td>i64</td><td>f64</td><td>f64</td><td>i64</td><td>f64</td><td>f64</td><td>f64</td><td>f64</td></tr></thead><tbody><tr><td>1</td><td>1</td><td>1</td><td>0</td><td>294224.331</td><td>57895</td><td>3677.435897</td><td>0.753247</td><td>100</td><td>0.752117</td><td>0.00113</td><td>45.75</td><td>42.5</td></tr><tr><td>1</td><td>1</td><td>1</td><td>0</td><td>294242.275</td><td>57896</td><td>3687.630769</td><td>0.754135</td><td>100</td><td>0.752119</td><td>0.002016</td><td>45.75</td><td>42.5</td></tr><tr><td>1</td><td>1</td><td>1</td><td>0</td><td>294248.2588</td><td>57898</td><td>3692.0</td><td>0.754135</td><td>100</td><td>0.752121</td><td>0.002014</td><td>45.75</td><td>42.5</td></tr><tr><td>1</td><td>1</td><td>1</td><td>0</td><td>294276.1835</td><td>57899</td><td>3678.892308</td><td>0.754135</td><td>100</td><td>0.752123</td><td>0.002012</td><td>45.75</td><td>42.5</td></tr><tr><td>1</td><td>1</td><td>1</td><td>0</td><td>294277.1819</td><td>57900</td><td>3692.0</td><td>0.752359</td><td>100</td><td>0.752125</td><td>0.000234</td><td>45.75</td><td>42.5</td></tr><tr><td>1</td><td>1</td><td>1</td><td>0</td><td>294309.0952</td><td>57902</td><td>3705.107692</td><td>0.752359</td><td>100</td><td>0.752127</td><td>0.000232</td><td>45.75</td><td>42.5</td></tr><tr><td>&hellip;</td><td>&hellip;</td><td>&hellip;</td><td>&hellip;</td><td>&hellip;</td><td>&hellip;</td><td>&hellip;</td><td>&hellip;</td><td>&hellip;</td><td>&hellip;</td><td>&hellip;</td><td>&hellip;</td><td>&hellip;</td></tr><tr><td>332</td><td>12</td><td>28</td><td>21610</td><td>2.7771e6</td><td>467073</td><td>3603.158974</td><td>13.679468</td><td>99</td><td>13.578894</td><td>-0.012187</td><td>45.582614</td><td>85.0</td></tr><tr><td>332</td><td>12</td><td>28</td><td>21610</td><td>2.7771e6</td><td>467074</td><td>3617.723077</td><td>13.679468</td><td>99</td><td>13.578894</td><td>-0.012765</td><td>45.582614</td><td>85.0</td></tr><tr><td>332</td><td>12</td><td>28</td><td>21610</td><td>2.7771e6</td><td>467075</td><td>3582.769231</td><td>13.674363</td><td>99</td><td>13.578894</td><td>-0.018451</td><td>45.582614</td><td>85.0</td></tr><tr><td>332</td><td>12</td><td>28</td><td>21610</td><td>2.7771e6</td><td>467076</td><td>3607.528205</td><td>13.679468</td><td>99</td><td>13.578894</td><td>-0.013927</td><td>45.582614</td><td>85.0</td></tr><tr><td>332</td><td>12</td><td>28</td><td>21610</td><td>2.7771e6</td><td>467078</td><td>3606.071795</td><td>13.684573</td><td>99</td><td>13.578894</td><td>-0.009405</td><td>45.582614</td><td>85.0</td></tr><tr><td>332</td><td>12</td><td>28</td><td>21610</td><td>2.7771e6</td><td>467079</td><td>3582.769231</td><td>13.684573</td><td>99</td><td>13.578894</td><td>-0.009989</td><td>45.582614</td><td>85.0</td></tr></tbody></table></div>"
                        ],
                        "text/plain": [
                            "shape: (5_935_133, 13)\n",
                            "┌──────────┬────────────┬────────────┬───────────┬───┬───────────┬────────────┬───────────┬────────┐\n",
                            "│ trial_id ┆ trial_numb ┆ participan ┆ rownumber ┆ … ┆ eda_tonic ┆ eda_phasic ┆ temperatu ┆ rating │\n",
                            "│ ---      ┆ er         ┆ t_id       ┆ ---       ┆   ┆ ---       ┆ ---        ┆ re        ┆ ---    │\n",
                            "│ u16      ┆ ---        ┆ ---        ┆ u32       ┆   ┆ f64       ┆ f64        ┆ ---       ┆ f64    │\n",
                            "│          ┆ u8         ┆ u8         ┆           ┆   ┆           ┆            ┆ f64       ┆        │\n",
                            "╞══════════╪════════════╪════════════╪═══════════╪═══╪═══════════╪════════════╪═══════════╪════════╡\n",
                            "│ 1        ┆ 1          ┆ 1          ┆ 0         ┆ … ┆ 0.752117  ┆ 0.00113    ┆ 45.75     ┆ 42.5   │\n",
                            "│ 1        ┆ 1          ┆ 1          ┆ 0         ┆ … ┆ 0.752119  ┆ 0.002016   ┆ 45.75     ┆ 42.5   │\n",
                            "│ 1        ┆ 1          ┆ 1          ┆ 0         ┆ … ┆ 0.752121  ┆ 0.002014   ┆ 45.75     ┆ 42.5   │\n",
                            "│ 1        ┆ 1          ┆ 1          ┆ 0         ┆ … ┆ 0.752123  ┆ 0.002012   ┆ 45.75     ┆ 42.5   │\n",
                            "│ 1        ┆ 1          ┆ 1          ┆ 0         ┆ … ┆ 0.752125  ┆ 0.000234   ┆ 45.75     ┆ 42.5   │\n",
                            "│ 1        ┆ 1          ┆ 1          ┆ 0         ┆ … ┆ 0.752127  ┆ 0.000232   ┆ 45.75     ┆ 42.5   │\n",
                            "│ …        ┆ …          ┆ …          ┆ …         ┆ … ┆ …         ┆ …          ┆ …         ┆ …      │\n",
                            "│ 332      ┆ 12         ┆ 28         ┆ 21610     ┆ … ┆ 13.578894 ┆ -0.012187  ┆ 45.582614 ┆ 85.0   │\n",
                            "│ 332      ┆ 12         ┆ 28         ┆ 21610     ┆ … ┆ 13.578894 ┆ -0.012765  ┆ 45.582614 ┆ 85.0   │\n",
                            "│ 332      ┆ 12         ┆ 28         ┆ 21610     ┆ … ┆ 13.578894 ┆ -0.018451  ┆ 45.582614 ┆ 85.0   │\n",
                            "│ 332      ┆ 12         ┆ 28         ┆ 21610     ┆ … ┆ 13.578894 ┆ -0.013927  ┆ 45.582614 ┆ 85.0   │\n",
                            "│ 332      ┆ 12         ┆ 28         ┆ 21610     ┆ … ┆ 13.578894 ┆ -0.009405  ┆ 45.582614 ┆ 85.0   │\n",
                            "│ 332      ┆ 12         ┆ 28         ┆ 21610     ┆ … ┆ 13.578894 ┆ -0.009989  ┆ 45.582614 ┆ 85.0   │\n",
                            "└──────────┴────────────┴────────────┴───────────┴───┴───────────┴────────────┴───────────┴────────┘"
                        ]
                    },
                    "execution_count": 11,
                    "metadata": {},
                    "output_type": "execute_result"
                }
            ],
            "source": [
                "query = \"\"\"\n",
                "SELECT * FROM Preprocess_EDA AS ce\n",
                "ASOF JOIN Raw_Stimulus rs USING (trial_id, timestamp)\n",
                "ORDER BY ce.trial_id, ce.timestamp\n",
                "\"\"\"\n",
                "\n",
                "with db:\n",
                "    df = db.execute(query).pl()\n",
                "df\n",
                "ic(df.height, df.unique(subset=[\"trial_id\", \"timestamp\"], maintain_order=True).height)\n",
                "ic(df.height - df.unique(subset=[\"trial_id\", \"timestamp\"], maintain_order=True).height)\n",
                "df"
            ]
        },
        {
            "cell_type": "code",
            "execution_count": 10,
            "metadata": {},
            "outputs": [
                {
                    "name": "stderr",
                    "output_type": "stream",
                    "text": [
                        "ic| df.height: 5935133, df.unique(\"timestamp\").height: 5934569\n",
                        "ic| df.height - df.unique(\"timestamp\").height: 564\n"
                    ]
                },
                {
                    "data": {
                        "text/html": [
                            "<div><style>\n",
                            ".dataframe > thead > tr,\n",
                            ".dataframe > tbody > tr {\n",
                            "  text-align: right;\n",
                            "  white-space: pre-wrap;\n",
                            "}\n",
                            "</style>\n",
                            "<small>shape: (5_935_133, 13)</small><table border=\"1\" class=\"dataframe\"><thead><tr><th>trial_id</th><th>trial_number</th><th>participant_id</th><th>rownumber</th><th>timestamp</th><th>samplenumber</th><th>eda_d_battery</th><th>eda_raw</th><th>eda_d_packetreceptionrate</th><th>eda_tonic</th><th>eda_phasic</th><th>temperature</th><th>rating</th></tr><tr><td>u16</td><td>u8</td><td>u8</td><td>u32</td><td>f64</td><td>i64</td><td>f64</td><td>f64</td><td>i64</td><td>f64</td><td>f64</td><td>f64</td><td>f64</td></tr></thead><tbody><tr><td>1</td><td>1</td><td>1</td><td>0</td><td>294224.331</td><td>57895</td><td>3677.435897</td><td>0.753247</td><td>100</td><td>0.752117</td><td>0.00113</td><td>45.75</td><td>42.5</td></tr><tr><td>1</td><td>1</td><td>1</td><td>0</td><td>294242.275</td><td>57896</td><td>3687.630769</td><td>0.754135</td><td>100</td><td>0.752119</td><td>0.002016</td><td>45.75</td><td>42.5</td></tr><tr><td>1</td><td>1</td><td>1</td><td>0</td><td>294248.2588</td><td>57898</td><td>3692.0</td><td>0.754135</td><td>100</td><td>0.752121</td><td>0.002014</td><td>45.75</td><td>42.5</td></tr><tr><td>1</td><td>1</td><td>1</td><td>0</td><td>294276.1835</td><td>57899</td><td>3678.892308</td><td>0.754135</td><td>100</td><td>0.752123</td><td>0.002012</td><td>45.75</td><td>42.5</td></tr><tr><td>1</td><td>1</td><td>1</td><td>0</td><td>294277.1819</td><td>57900</td><td>3692.0</td><td>0.752359</td><td>100</td><td>0.752125</td><td>0.000234</td><td>45.75</td><td>42.5</td></tr><tr><td>1</td><td>1</td><td>1</td><td>0</td><td>294309.0952</td><td>57902</td><td>3705.107692</td><td>0.752359</td><td>100</td><td>0.752127</td><td>0.000232</td><td>45.75</td><td>42.5</td></tr><tr><td>&hellip;</td><td>&hellip;</td><td>&hellip;</td><td>&hellip;</td><td>&hellip;</td><td>&hellip;</td><td>&hellip;</td><td>&hellip;</td><td>&hellip;</td><td>&hellip;</td><td>&hellip;</td><td>&hellip;</td><td>&hellip;</td></tr><tr><td>332</td><td>12</td><td>28</td><td>21610</td><td>2.7771e6</td><td>467073</td><td>3603.158974</td><td>13.679468</td><td>99</td><td>13.578894</td><td>-0.012187</td><td>45.582614</td><td>85.0</td></tr><tr><td>332</td><td>12</td><td>28</td><td>21610</td><td>2.7771e6</td><td>467074</td><td>3617.723077</td><td>13.679468</td><td>99</td><td>13.578894</td><td>-0.012765</td><td>45.582614</td><td>85.0</td></tr><tr><td>332</td><td>12</td><td>28</td><td>21610</td><td>2.7771e6</td><td>467075</td><td>3582.769231</td><td>13.674363</td><td>99</td><td>13.578894</td><td>-0.018451</td><td>45.582614</td><td>85.0</td></tr><tr><td>332</td><td>12</td><td>28</td><td>21610</td><td>2.7771e6</td><td>467076</td><td>3607.528205</td><td>13.679468</td><td>99</td><td>13.578894</td><td>-0.013927</td><td>45.582614</td><td>85.0</td></tr><tr><td>332</td><td>12</td><td>28</td><td>21610</td><td>2.7771e6</td><td>467078</td><td>3606.071795</td><td>13.684573</td><td>99</td><td>13.578894</td><td>-0.009405</td><td>45.582614</td><td>85.0</td></tr><tr><td>332</td><td>12</td><td>28</td><td>21610</td><td>2.7771e6</td><td>467079</td><td>3582.769231</td><td>13.684573</td><td>99</td><td>13.578894</td><td>-0.009989</td><td>45.582614</td><td>85.0</td></tr></tbody></table></div>"
                        ],
                        "text/plain": [
                            "shape: (5_935_133, 13)\n",
                            "┌──────────┬────────────┬────────────┬───────────┬───┬───────────┬────────────┬───────────┬────────┐\n",
                            "│ trial_id ┆ trial_numb ┆ participan ┆ rownumber ┆ … ┆ eda_tonic ┆ eda_phasic ┆ temperatu ┆ rating │\n",
                            "│ ---      ┆ er         ┆ t_id       ┆ ---       ┆   ┆ ---       ┆ ---        ┆ re        ┆ ---    │\n",
                            "│ u16      ┆ ---        ┆ ---        ┆ u32       ┆   ┆ f64       ┆ f64        ┆ ---       ┆ f64    │\n",
                            "│          ┆ u8         ┆ u8         ┆           ┆   ┆           ┆            ┆ f64       ┆        │\n",
                            "╞══════════╪════════════╪════════════╪═══════════╪═══╪═══════════╪════════════╪═══════════╪════════╡\n",
                            "│ 1        ┆ 1          ┆ 1          ┆ 0         ┆ … ┆ 0.752117  ┆ 0.00113    ┆ 45.75     ┆ 42.5   │\n",
                            "│ 1        ┆ 1          ┆ 1          ┆ 0         ┆ … ┆ 0.752119  ┆ 0.002016   ┆ 45.75     ┆ 42.5   │\n",
                            "│ 1        ┆ 1          ┆ 1          ┆ 0         ┆ … ┆ 0.752121  ┆ 0.002014   ┆ 45.75     ┆ 42.5   │\n",
                            "│ 1        ┆ 1          ┆ 1          ┆ 0         ┆ … ┆ 0.752123  ┆ 0.002012   ┆ 45.75     ┆ 42.5   │\n",
                            "│ 1        ┆ 1          ┆ 1          ┆ 0         ┆ … ┆ 0.752125  ┆ 0.000234   ┆ 45.75     ┆ 42.5   │\n",
                            "│ 1        ┆ 1          ┆ 1          ┆ 0         ┆ … ┆ 0.752127  ┆ 0.000232   ┆ 45.75     ┆ 42.5   │\n",
                            "│ …        ┆ …          ┆ …          ┆ …         ┆ … ┆ …         ┆ …          ┆ …         ┆ …      │\n",
                            "│ 332      ┆ 12         ┆ 28         ┆ 21610     ┆ … ┆ 13.578894 ┆ -0.012187  ┆ 45.582614 ┆ 85.0   │\n",
                            "│ 332      ┆ 12         ┆ 28         ┆ 21610     ┆ … ┆ 13.578894 ┆ -0.012765  ┆ 45.582614 ┆ 85.0   │\n",
                            "│ 332      ┆ 12         ┆ 28         ┆ 21610     ┆ … ┆ 13.578894 ┆ -0.018451  ┆ 45.582614 ┆ 85.0   │\n",
                            "│ 332      ┆ 12         ┆ 28         ┆ 21610     ┆ … ┆ 13.578894 ┆ -0.013927  ┆ 45.582614 ┆ 85.0   │\n",
                            "│ 332      ┆ 12         ┆ 28         ┆ 21610     ┆ … ┆ 13.578894 ┆ -0.009405  ┆ 45.582614 ┆ 85.0   │\n",
                            "│ 332      ┆ 12         ┆ 28         ┆ 21610     ┆ … ┆ 13.578894 ┆ -0.009989  ┆ 45.582614 ┆ 85.0   │\n",
                            "└──────────┴────────────┴────────────┴───────────┴───┴───────────┴────────────┴───────────┴────────┘"
                        ]
                    },
                    "execution_count": 10,
                    "metadata": {},
                    "output_type": "execute_result"
                }
            ],
            "source": [
                "query = \"\"\"\n",
                "SELECT * FROM Preprocess_EDA AS ce\n",
                "ASOF JOIN Raw_Stimulus rs USING (trial_id, timestamp)\n",
                "ORDER BY ce.trial_id, ce.timestamp\n",
                "\"\"\"\n",
                "\n",
                "with db:\n",
                "    df = db.execute(query).pl()\n",
                "df\n",
                "ic(df.height, df.unique(\"timestamp\").height)\n",
                "ic(df.height - df.unique(\"timestamp\").height)\n",
                "df"
            ]
        },
        {
            "cell_type": "code",
            "execution_count": null,
            "metadata": {},
            "outputs": [],
            "source": []
        },
        {
            "cell_type": "code",
            "execution_count": null,
            "metadata": {},
            "outputs": [],
            "source": []
        },
        {
            "cell_type": "code",
            "execution_count": null,
            "metadata": {},
            "outputs": [],
            "source": []
        },
        {
            "cell_type": "code",
            "execution_count": 56,
            "metadata": {},
            "outputs": [],
            "source": [
                "# Time columns"
            ]
        }
    ],
    "metadata": {
        "kernelspec": {
            "display_name": "pain",
            "language": "python",
            "name": "python3"
        },
        "language_info": {
            "codemirror_mode": {
                "name": "ipython",
                "version": 3
            },
            "file_extension": ".py",
            "mimetype": "text/x-python",
            "name": "python",
            "nbconvert_exporter": "python",
            "pygments_lexer": "ipython3",
            "version": "3.12.4"
        },
        "orig_nbformat": 4
    },
    "nbformat": 4,
    "nbformat_minor": 2
}
