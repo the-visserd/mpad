{
 "cells": [
  {
   "cell_type": "code",
   "execution_count": 1,
   "metadata": {},
   "outputs": [],
   "source": [
    "%%capture\n",
    "from pathlib import Path\n",
    "\n",
    "if Path.cwd().stem == \"features\":\n",
    "    %cd ../..\n",
    "    %load_ext autoreload\n",
    "    %autoreload 2"
   ]
  },
  {
   "cell_type": "code",
   "execution_count": 2,
   "metadata": {},
   "outputs": [
    {
     "data": {
      "text/plain": [
       "polars.config.Config"
      ]
     },
     "execution_count": 2,
     "metadata": {},
     "output_type": "execute_result"
    }
   ],
   "source": [
    "import logging\n",
    "from pathlib import Path\n",
    "\n",
    "import polars as pl\n",
    "from polars import col\n",
    "\n",
    "from src.data.database_manager import DatabaseManager\n",
    "from src.features.scaling import scale_min_max\n",
    "from src.features.transformations import (\n",
    "    add_time_column,\n",
    ")\n",
    "from src.helpers import to_describe\n",
    "from src.log_config import configure_logging\n",
    "\n",
    "configure_logging(\n",
    "    stream_level=logging.DEBUG,\n",
    "    ignore_libs=[\"matplotlib\", \"Comm\", \"bokeh\", \"tornado\"],\n",
    ")\n",
    "\n",
    "pl.Config.set_tbl_rows(12)  # for the 12 trials\n",
    "# plt.rcParams[\"figure.figsize\"] = [15, 5]  # default is [6, 4]"
   ]
  },
  {
   "cell_type": "code",
   "execution_count": 3,
   "metadata": {},
   "outputs": [],
   "source": [
    "db = DatabaseManager()"
   ]
  },
  {
   "cell_type": "code",
   "execution_count": 4,
   "metadata": {},
   "outputs": [
    {
     "data": {
      "text/html": [
       "<div><style>\n",
       ".dataframe > thead > tr,\n",
       ".dataframe > tbody > tr {\n",
       "  text-align: right;\n",
       "  white-space: pre-wrap;\n",
       "}\n",
       "</style>\n",
       "<small>shape: (7_650_323, 9)</small><table border=\"1\" class=\"dataframe\"><thead><tr><th>trial_id</th><th>trial_number</th><th>participant_id</th><th>rownumber</th><th>timestamp</th><th>samplenumber</th><th>eda_d_battery</th><th>eda_raw</th><th>eda_d_packetreceptionrate</th></tr><tr><td>u16</td><td>u8</td><td>u8</td><td>u32</td><td>f64</td><td>i64</td><td>f64</td><td>f64</td><td>i64</td></tr></thead><tbody><tr><td>1</td><td>1</td><td>1</td><td>37660</td><td>294210.3603</td><td>57892</td><td>3686.174359</td><td>0.752359</td><td>100</td></tr><tr><td>1</td><td>1</td><td>1</td><td>37661</td><td>294211.3575</td><td>57893</td><td>3693.45641</td><td>0.754579</td><td>100</td></tr><tr><td>1</td><td>1</td><td>1</td><td>37662</td><td>294211.3575</td><td>57894</td><td>3687.630769</td><td>0.753247</td><td>100</td></tr><tr><td>1</td><td>1</td><td>1</td><td>37663</td><td>294224.331</td><td>57895</td><td>3677.435897</td><td>0.753247</td><td>100</td></tr><tr><td>1</td><td>1</td><td>1</td><td>37664</td><td>294242.275</td><td>57896</td><td>3687.630769</td><td>0.754135</td><td>100</td></tr><tr><td>1</td><td>1</td><td>1</td><td>37665</td><td>294242.275</td><td>57897</td><td>3694.912821</td><td>0.752359</td><td>100</td></tr><tr><td>&hellip;</td><td>&hellip;</td><td>&hellip;</td><td>&hellip;</td><td>&hellip;</td><td>&hellip;</td><td>&hellip;</td><td>&hellip;</td><td>&hellip;</td></tr><tr><td>332</td><td>12</td><td>28</td><td>355477</td><td>2.7771e6</td><td>467074</td><td>3617.723077</td><td>13.679468</td><td>99</td></tr><tr><td>332</td><td>12</td><td>28</td><td>355478</td><td>2.7771e6</td><td>467075</td><td>3582.769231</td><td>13.674363</td><td>99</td></tr><tr><td>332</td><td>12</td><td>28</td><td>355479</td><td>2.7771e6</td><td>467076</td><td>3607.528205</td><td>13.679468</td><td>99</td></tr><tr><td>332</td><td>12</td><td>28</td><td>355480</td><td>2.7771e6</td><td>467077</td><td>3598.789744</td><td>13.679468</td><td>99</td></tr><tr><td>332</td><td>12</td><td>28</td><td>355481</td><td>2.7771e6</td><td>467078</td><td>3606.071795</td><td>13.684573</td><td>99</td></tr><tr><td>332</td><td>12</td><td>28</td><td>355482</td><td>2.7771e6</td><td>467079</td><td>3582.769231</td><td>13.684573</td><td>99</td></tr></tbody></table></div>"
      ],
      "text/plain": [
       "shape: (7_650_323, 9)\n",
       "┌──────────┬───────────┬───────────┬───────────┬───┬───────────┬───────────┬───────────┬───────────┐\n",
       "│ trial_id ┆ trial_num ┆ participa ┆ rownumber ┆ … ┆ samplenum ┆ eda_d_bat ┆ eda_raw   ┆ eda_d_pac │\n",
       "│ ---      ┆ ber       ┆ nt_id     ┆ ---       ┆   ┆ ber       ┆ tery      ┆ ---       ┆ ketrecept │\n",
       "│ u16      ┆ ---       ┆ ---       ┆ u32       ┆   ┆ ---       ┆ ---       ┆ f64       ┆ ionrate   │\n",
       "│          ┆ u8        ┆ u8        ┆           ┆   ┆ i64       ┆ f64       ┆           ┆ ---       │\n",
       "│          ┆           ┆           ┆           ┆   ┆           ┆           ┆           ┆ i64       │\n",
       "╞══════════╪═══════════╪═══════════╪═══════════╪═══╪═══════════╪═══════════╪═══════════╪═══════════╡\n",
       "│ 1        ┆ 1         ┆ 1         ┆ 37660     ┆ … ┆ 57892     ┆ 3686.1743 ┆ 0.752359  ┆ 100       │\n",
       "│          ┆           ┆           ┆           ┆   ┆           ┆ 59        ┆           ┆           │\n",
       "│ 1        ┆ 1         ┆ 1         ┆ 37661     ┆ … ┆ 57893     ┆ 3693.4564 ┆ 0.754579  ┆ 100       │\n",
       "│          ┆           ┆           ┆           ┆   ┆           ┆ 1         ┆           ┆           │\n",
       "│ 1        ┆ 1         ┆ 1         ┆ 37662     ┆ … ┆ 57894     ┆ 3687.6307 ┆ 0.753247  ┆ 100       │\n",
       "│          ┆           ┆           ┆           ┆   ┆           ┆ 69        ┆           ┆           │\n",
       "│ 1        ┆ 1         ┆ 1         ┆ 37663     ┆ … ┆ 57895     ┆ 3677.4358 ┆ 0.753247  ┆ 100       │\n",
       "│          ┆           ┆           ┆           ┆   ┆           ┆ 97        ┆           ┆           │\n",
       "│ 1        ┆ 1         ┆ 1         ┆ 37664     ┆ … ┆ 57896     ┆ 3687.6307 ┆ 0.754135  ┆ 100       │\n",
       "│          ┆           ┆           ┆           ┆   ┆           ┆ 69        ┆           ┆           │\n",
       "│ 1        ┆ 1         ┆ 1         ┆ 37665     ┆ … ┆ 57897     ┆ 3694.9128 ┆ 0.752359  ┆ 100       │\n",
       "│          ┆           ┆           ┆           ┆   ┆           ┆ 21        ┆           ┆           │\n",
       "│ …        ┆ …         ┆ …         ┆ …         ┆ … ┆ …         ┆ …         ┆ …         ┆ …         │\n",
       "│ 332      ┆ 12        ┆ 28        ┆ 355477    ┆ … ┆ 467074    ┆ 3617.7230 ┆ 13.679468 ┆ 99        │\n",
       "│          ┆           ┆           ┆           ┆   ┆           ┆ 77        ┆           ┆           │\n",
       "│ 332      ┆ 12        ┆ 28        ┆ 355478    ┆ … ┆ 467075    ┆ 3582.7692 ┆ 13.674363 ┆ 99        │\n",
       "│          ┆           ┆           ┆           ┆   ┆           ┆ 31        ┆           ┆           │\n",
       "│ 332      ┆ 12        ┆ 28        ┆ 355479    ┆ … ┆ 467076    ┆ 3607.5282 ┆ 13.679468 ┆ 99        │\n",
       "│          ┆           ┆           ┆           ┆   ┆           ┆ 05        ┆           ┆           │\n",
       "│ 332      ┆ 12        ┆ 28        ┆ 355480    ┆ … ┆ 467077    ┆ 3598.7897 ┆ 13.679468 ┆ 99        │\n",
       "│          ┆           ┆           ┆           ┆   ┆           ┆ 44        ┆           ┆           │\n",
       "│ 332      ┆ 12        ┆ 28        ┆ 355481    ┆ … ┆ 467078    ┆ 3606.0717 ┆ 13.684573 ┆ 99        │\n",
       "│          ┆           ┆           ┆           ┆   ┆           ┆ 95        ┆           ┆           │\n",
       "│ 332      ┆ 12        ┆ 28        ┆ 355482    ┆ … ┆ 467079    ┆ 3582.7692 ┆ 13.684573 ┆ 99        │\n",
       "│          ┆           ┆           ┆           ┆   ┆           ┆ 31        ┆           ┆           │\n",
       "└──────────┴───────────┴───────────┴───────────┴───┴───────────┴───────────┴───────────┴───────────┘"
      ]
     },
     "execution_count": 4,
     "metadata": {},
     "output_type": "execute_result"
    }
   ],
   "source": [
    "with db:\n",
    "    df = db.read_table(\"Raw_EDA\")\n",
    "df"
   ]
  },
  {
   "cell_type": "code",
   "execution_count": 7,
   "metadata": {},
   "outputs": [],
   "source": [
    "df = df.unique(\"timestamp\").sort([\"trial_id\", \"timestamp\"])\n",
    "df = add_time_column(df)"
   ]
  },
  {
   "cell_type": "code",
   "execution_count": 51,
   "metadata": {},
   "outputs": [],
   "source": [
    "df = df.with_columns(\n",
    "    (col(\"timestamp\") * 1000).cast(pl.Int64).alias(\"timestamp_us\"),\n",
    ")"
   ]
  },
  {
   "cell_type": "code",
   "execution_count": null,
   "metadata": {},
   "outputs": [],
   "source": []
  }
 ],
 "metadata": {
  "kernelspec": {
   "display_name": "learning",
   "language": "python",
   "name": "python3"
  },
  "language_info": {
   "codemirror_mode": {
    "name": "ipython",
    "version": 3
   },
   "file_extension": ".py",
   "mimetype": "text/x-python",
   "name": "python",
   "nbconvert_exporter": "python",
   "pygments_lexer": "ipython3",
   "version": "3.12.4"
  },
  "orig_nbformat": 4
 },
 "nbformat": 4,
 "nbformat_minor": 2
}
