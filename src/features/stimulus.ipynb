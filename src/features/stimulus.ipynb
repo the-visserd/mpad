{
    "cells": [
        {
            "cell_type": "code",
            "execution_count": 1,
            "metadata": {},
            "outputs": [],
            "source": [
                "%%capture\n",
                "from pathlib import Path\n",
                "\n",
                "if Path.cwd().stem == \"features\":\n",
                "    %cd ../..\n",
                "    %load_ext autoreload\n",
                "    %autoreload 2"
            ]
        },
        {
            "cell_type": "code",
            "execution_count": 2,
            "metadata": {},
            "outputs": [
                {
                    "data": {
                        "application/javascript": "(function(root) {\n  function now() {\n    return new Date();\n  }\n\n  var force = true;\n  var py_version = '3.4.2'.replace('rc', '-rc.').replace('.dev', '-dev.');\n  var reloading = false;\n  var Bokeh = root.Bokeh;\n\n  if (typeof (root._bokeh_timeout) === \"undefined\" || force) {\n    root._bokeh_timeout = Date.now() + 5000;\n    root._bokeh_failed_load = false;\n  }\n\n  function run_callbacks() {\n    try {\n      root._bokeh_onload_callbacks.forEach(function(callback) {\n        if (callback != null)\n          callback();\n      });\n    } finally {\n      delete root._bokeh_onload_callbacks;\n    }\n    console.debug(\"Bokeh: all callbacks have finished\");\n  }\n\n  function load_libs(css_urls, js_urls, js_modules, js_exports, callback) {\n    if (css_urls == null) css_urls = [];\n    if (js_urls == null) js_urls = [];\n    if (js_modules == null) js_modules = [];\n    if (js_exports == null) js_exports = {};\n\n    root._bokeh_onload_callbacks.push(callback);\n\n    if (root._bokeh_is_loading > 0) {\n      console.debug(\"Bokeh: BokehJS is being loaded, scheduling callback at\", now());\n      return null;\n    }\n    if (js_urls.length === 0 && js_modules.length === 0 && Object.keys(js_exports).length === 0) {\n      run_callbacks();\n      return null;\n    }\n    if (!reloading) {\n      console.debug(\"Bokeh: BokehJS not loaded, scheduling load and callback at\", now());\n    }\n\n    function on_load() {\n      root._bokeh_is_loading--;\n      if (root._bokeh_is_loading === 0) {\n        console.debug(\"Bokeh: all BokehJS libraries/stylesheets loaded\");\n        run_callbacks()\n      }\n    }\n    window._bokeh_on_load = on_load\n\n    function on_error() {\n      console.error(\"failed to load \" + url);\n    }\n\n    var skip = [];\n    if (window.requirejs) {\n      window.requirejs.config({'packages': {}, 'paths': {}, 'shim': {}});\n      root._bokeh_is_loading = css_urls.length + 0;\n    } else {\n      root._bokeh_is_loading = css_urls.length + js_urls.length + js_modules.length + Object.keys(js_exports).length;\n    }\n\n    var existing_stylesheets = []\n    var links = document.getElementsByTagName('link')\n    for (var i = 0; i < links.length; i++) {\n      var link = links[i]\n      if (link.href != null) {\n\texisting_stylesheets.push(link.href)\n      }\n    }\n    for (var i = 0; i < css_urls.length; i++) {\n      var url = css_urls[i];\n      if (existing_stylesheets.indexOf(url) !== -1) {\n\ton_load()\n\tcontinue;\n      }\n      const element = document.createElement(\"link\");\n      element.onload = on_load;\n      element.onerror = on_error;\n      element.rel = \"stylesheet\";\n      element.type = \"text/css\";\n      element.href = url;\n      console.debug(\"Bokeh: injecting link tag for BokehJS stylesheet: \", url);\n      document.body.appendChild(element);\n    }    var existing_scripts = []\n    var scripts = document.getElementsByTagName('script')\n    for (var i = 0; i < scripts.length; i++) {\n      var script = scripts[i]\n      if (script.src != null) {\n\texisting_scripts.push(script.src)\n      }\n    }\n    for (var i = 0; i < js_urls.length; i++) {\n      var url = js_urls[i];\n      if (skip.indexOf(url) !== -1 || existing_scripts.indexOf(url) !== -1) {\n\tif (!window.requirejs) {\n\t  on_load();\n\t}\n\tcontinue;\n      }\n      var element = document.createElement('script');\n      element.onload = on_load;\n      element.onerror = on_error;\n      element.async = false;\n      element.src = url;\n      console.debug(\"Bokeh: injecting script tag for BokehJS library: \", url);\n      document.head.appendChild(element);\n    }\n    for (var i = 0; i < js_modules.length; i++) {\n      var url = js_modules[i];\n      if (skip.indexOf(url) !== -1 || existing_scripts.indexOf(url) !== -1) {\n\tif (!window.requirejs) {\n\t  on_load();\n\t}\n\tcontinue;\n      }\n      var element = document.createElement('script');\n      element.onload = on_load;\n      element.onerror = on_error;\n      element.async = false;\n      element.src = url;\n      element.type = \"module\";\n      console.debug(\"Bokeh: injecting script tag for BokehJS library: \", url);\n      document.head.appendChild(element);\n    }\n    for (const name in js_exports) {\n      var url = js_exports[name];\n      if (skip.indexOf(url) >= 0 || root[name] != null) {\n\tif (!window.requirejs) {\n\t  on_load();\n\t}\n\tcontinue;\n      }\n      var element = document.createElement('script');\n      element.onerror = on_error;\n      element.async = false;\n      element.type = \"module\";\n      console.debug(\"Bokeh: injecting script tag for BokehJS library: \", url);\n      element.textContent = `\n      import ${name} from \"${url}\"\n      window.${name} = ${name}\n      window._bokeh_on_load()\n      `\n      document.head.appendChild(element);\n    }\n    if (!js_urls.length && !js_modules.length) {\n      on_load()\n    }\n  };\n\n  function inject_raw_css(css) {\n    const element = document.createElement(\"style\");\n    element.appendChild(document.createTextNode(css));\n    document.body.appendChild(element);\n  }\n\n  var js_urls = [\"https://cdn.bokeh.org/bokeh/release/bokeh-3.4.2.min.js\", \"https://cdn.bokeh.org/bokeh/release/bokeh-gl-3.4.2.min.js\", \"https://cdn.bokeh.org/bokeh/release/bokeh-widgets-3.4.2.min.js\", \"https://cdn.bokeh.org/bokeh/release/bokeh-tables-3.4.2.min.js\", \"https://cdn.holoviz.org/panel/1.4.4/dist/panel.min.js\"];\n  var js_modules = [];\n  var js_exports = {};\n  var css_urls = [];\n  var inline_js = [    function(Bokeh) {\n      Bokeh.set_log_level(\"info\");\n    },\nfunction(Bokeh) {} // ensure no trailing comma for IE\n  ];\n\n  function run_inline_js() {\n    if ((root.Bokeh !== undefined) || (force === true)) {\n      for (var i = 0; i < inline_js.length; i++) {\n\ttry {\n          inline_js[i].call(root, root.Bokeh);\n\t} catch(e) {\n\t  if (!reloading) {\n\t    throw e;\n\t  }\n\t}\n      }\n      // Cache old bokeh versions\n      if (Bokeh != undefined && !reloading) {\n\tvar NewBokeh = root.Bokeh;\n\tif (Bokeh.versions === undefined) {\n\t  Bokeh.versions = new Map();\n\t}\n\tif (NewBokeh.version !== Bokeh.version) {\n\t  Bokeh.versions.set(NewBokeh.version, NewBokeh)\n\t}\n\troot.Bokeh = Bokeh;\n      }} else if (Date.now() < root._bokeh_timeout) {\n      setTimeout(run_inline_js, 100);\n    } else if (!root._bokeh_failed_load) {\n      console.log(\"Bokeh: BokehJS failed to load within specified timeout.\");\n      root._bokeh_failed_load = true;\n    }\n    root._bokeh_is_initializing = false\n  }\n\n  function load_or_wait() {\n    // Implement a backoff loop that tries to ensure we do not load multiple\n    // versions of Bokeh and its dependencies at the same time.\n    // In recent versions we use the root._bokeh_is_initializing flag\n    // to determine whether there is an ongoing attempt to initialize\n    // bokeh, however for backward compatibility we also try to ensure\n    // that we do not start loading a newer (Panel>=1.0 and Bokeh>3) version\n    // before older versions are fully initialized.\n    if (root._bokeh_is_initializing && Date.now() > root._bokeh_timeout) {\n      root._bokeh_is_initializing = false;\n      root._bokeh_onload_callbacks = undefined;\n      console.log(\"Bokeh: BokehJS was loaded multiple times but one version failed to initialize.\");\n      load_or_wait();\n    } else if (root._bokeh_is_initializing || (typeof root._bokeh_is_initializing === \"undefined\" && root._bokeh_onload_callbacks !== undefined)) {\n      setTimeout(load_or_wait, 100);\n    } else {\n      root._bokeh_is_initializing = true\n      root._bokeh_onload_callbacks = []\n      var bokeh_loaded = Bokeh != null && (Bokeh.version === py_version || (Bokeh.versions !== undefined && Bokeh.versions.has(py_version)));\n      if (!reloading && !bokeh_loaded) {\n\troot.Bokeh = undefined;\n      }\n      load_libs(css_urls, js_urls, js_modules, js_exports, function() {\n\tconsole.debug(\"Bokeh: BokehJS plotting callback run at\", now());\n\trun_inline_js();\n      });\n    }\n  }\n  // Give older versions of the autoload script a head-start to ensure\n  // they initialize before we start loading newer version.\n  setTimeout(load_or_wait, 100)\n}(window));",
                        "application/vnd.holoviews_load.v0+json": ""
                    },
                    "metadata": {},
                    "output_type": "display_data"
                },
                {
                    "data": {
                        "application/javascript": "\nif ((window.PyViz === undefined) || (window.PyViz instanceof HTMLElement)) {\n  window.PyViz = {comms: {}, comm_status:{}, kernels:{}, receivers: {}, plot_index: []}\n}\n\n\n    function JupyterCommManager() {\n    }\n\n    JupyterCommManager.prototype.register_target = function(plot_id, comm_id, msg_handler) {\n      if (window.comm_manager || ((window.Jupyter !== undefined) && (Jupyter.notebook.kernel != null))) {\n        var comm_manager = window.comm_manager || Jupyter.notebook.kernel.comm_manager;\n        comm_manager.register_target(comm_id, function(comm) {\n          comm.on_msg(msg_handler);\n        });\n      } else if ((plot_id in window.PyViz.kernels) && (window.PyViz.kernels[plot_id])) {\n        window.PyViz.kernels[plot_id].registerCommTarget(comm_id, function(comm) {\n          comm.onMsg = msg_handler;\n        });\n      } else if (typeof google != 'undefined' && google.colab.kernel != null) {\n        google.colab.kernel.comms.registerTarget(comm_id, (comm) => {\n          var messages = comm.messages[Symbol.asyncIterator]();\n          function processIteratorResult(result) {\n            var message = result.value;\n            console.log(message)\n            var content = {data: message.data, comm_id};\n            var buffers = []\n            for (var buffer of message.buffers || []) {\n              buffers.push(new DataView(buffer))\n            }\n            var metadata = message.metadata || {};\n            var msg = {content, buffers, metadata}\n            msg_handler(msg);\n            return messages.next().then(processIteratorResult);\n          }\n          return messages.next().then(processIteratorResult);\n        })\n      }\n    }\n\n    JupyterCommManager.prototype.get_client_comm = function(plot_id, comm_id, msg_handler) {\n      if (comm_id in window.PyViz.comms) {\n        return window.PyViz.comms[comm_id];\n      } else if (window.comm_manager || ((window.Jupyter !== undefined) && (Jupyter.notebook.kernel != null))) {\n        var comm_manager = window.comm_manager || Jupyter.notebook.kernel.comm_manager;\n        var comm = comm_manager.new_comm(comm_id, {}, {}, {}, comm_id);\n        if (msg_handler) {\n          comm.on_msg(msg_handler);\n        }\n      } else if ((plot_id in window.PyViz.kernels) && (window.PyViz.kernels[plot_id])) {\n        var comm = window.PyViz.kernels[plot_id].connectToComm(comm_id);\n        comm.open();\n        if (msg_handler) {\n          comm.onMsg = msg_handler;\n        }\n      } else if (typeof google != 'undefined' && google.colab.kernel != null) {\n        var comm_promise = google.colab.kernel.comms.open(comm_id)\n        comm_promise.then((comm) => {\n          window.PyViz.comms[comm_id] = comm;\n          if (msg_handler) {\n            var messages = comm.messages[Symbol.asyncIterator]();\n            function processIteratorResult(result) {\n              var message = result.value;\n              var content = {data: message.data};\n              var metadata = message.metadata || {comm_id};\n              var msg = {content, metadata}\n              msg_handler(msg);\n              return messages.next().then(processIteratorResult);\n            }\n            return messages.next().then(processIteratorResult);\n          }\n        }) \n        var sendClosure = (data, metadata, buffers, disposeOnDone) => {\n          return comm_promise.then((comm) => {\n            comm.send(data, metadata, buffers, disposeOnDone);\n          });\n        };\n        var comm = {\n          send: sendClosure\n        };\n      }\n      window.PyViz.comms[comm_id] = comm;\n      return comm;\n    }\n    window.PyViz.comm_manager = new JupyterCommManager();\n    \n\n\nvar JS_MIME_TYPE = 'application/javascript';\nvar HTML_MIME_TYPE = 'text/html';\nvar EXEC_MIME_TYPE = 'application/vnd.holoviews_exec.v0+json';\nvar CLASS_NAME = 'output';\n\n/**\n * Render data to the DOM node\n */\nfunction render(props, node) {\n  var div = document.createElement(\"div\");\n  var script = document.createElement(\"script\");\n  node.appendChild(div);\n  node.appendChild(script);\n}\n\n/**\n * Handle when a new output is added\n */\nfunction handle_add_output(event, handle) {\n  var output_area = handle.output_area;\n  var output = handle.output;\n  if ((output.data == undefined) || (!output.data.hasOwnProperty(EXEC_MIME_TYPE))) {\n    return\n  }\n  var id = output.metadata[EXEC_MIME_TYPE][\"id\"];\n  var toinsert = output_area.element.find(\".\" + CLASS_NAME.split(' ')[0]);\n  if (id !== undefined) {\n    var nchildren = toinsert.length;\n    var html_node = toinsert[nchildren-1].children[0];\n    html_node.innerHTML = output.data[HTML_MIME_TYPE];\n    var scripts = [];\n    var nodelist = html_node.querySelectorAll(\"script\");\n    for (var i in nodelist) {\n      if (nodelist.hasOwnProperty(i)) {\n        scripts.push(nodelist[i])\n      }\n    }\n\n    scripts.forEach( function (oldScript) {\n      var newScript = document.createElement(\"script\");\n      var attrs = [];\n      var nodemap = oldScript.attributes;\n      for (var j in nodemap) {\n        if (nodemap.hasOwnProperty(j)) {\n          attrs.push(nodemap[j])\n        }\n      }\n      attrs.forEach(function(attr) { newScript.setAttribute(attr.name, attr.value) });\n      newScript.appendChild(document.createTextNode(oldScript.innerHTML));\n      oldScript.parentNode.replaceChild(newScript, oldScript);\n    });\n    if (JS_MIME_TYPE in output.data) {\n      toinsert[nchildren-1].children[1].textContent = output.data[JS_MIME_TYPE];\n    }\n    output_area._hv_plot_id = id;\n    if ((window.Bokeh !== undefined) && (id in Bokeh.index)) {\n      window.PyViz.plot_index[id] = Bokeh.index[id];\n    } else {\n      window.PyViz.plot_index[id] = null;\n    }\n  } else if (output.metadata[EXEC_MIME_TYPE][\"server_id\"] !== undefined) {\n    var bk_div = document.createElement(\"div\");\n    bk_div.innerHTML = output.data[HTML_MIME_TYPE];\n    var script_attrs = bk_div.children[0].attributes;\n    for (var i = 0; i < script_attrs.length; i++) {\n      toinsert[toinsert.length - 1].childNodes[1].setAttribute(script_attrs[i].name, script_attrs[i].value);\n    }\n    // store reference to server id on output_area\n    output_area._bokeh_server_id = output.metadata[EXEC_MIME_TYPE][\"server_id\"];\n  }\n}\n\n/**\n * Handle when an output is cleared or removed\n */\nfunction handle_clear_output(event, handle) {\n  var id = handle.cell.output_area._hv_plot_id;\n  var server_id = handle.cell.output_area._bokeh_server_id;\n  if (((id === undefined) || !(id in PyViz.plot_index)) && (server_id !== undefined)) { return; }\n  var comm = window.PyViz.comm_manager.get_client_comm(\"hv-extension-comm\", \"hv-extension-comm\", function () {});\n  if (server_id !== null) {\n    comm.send({event_type: 'server_delete', 'id': server_id});\n    return;\n  } else if (comm !== null) {\n    comm.send({event_type: 'delete', 'id': id});\n  }\n  delete PyViz.plot_index[id];\n  if ((window.Bokeh !== undefined) & (id in window.Bokeh.index)) {\n    var doc = window.Bokeh.index[id].model.document\n    doc.clear();\n    const i = window.Bokeh.documents.indexOf(doc);\n    if (i > -1) {\n      window.Bokeh.documents.splice(i, 1);\n    }\n  }\n}\n\n/**\n * Handle kernel restart event\n */\nfunction handle_kernel_cleanup(event, handle) {\n  delete PyViz.comms[\"hv-extension-comm\"];\n  window.PyViz.plot_index = {}\n}\n\n/**\n * Handle update_display_data messages\n */\nfunction handle_update_output(event, handle) {\n  handle_clear_output(event, {cell: {output_area: handle.output_area}})\n  handle_add_output(event, handle)\n}\n\nfunction register_renderer(events, OutputArea) {\n  function append_mime(data, metadata, element) {\n    // create a DOM node to render to\n    var toinsert = this.create_output_subarea(\n    metadata,\n    CLASS_NAME,\n    EXEC_MIME_TYPE\n    );\n    this.keyboard_manager.register_events(toinsert);\n    // Render to node\n    var props = {data: data, metadata: metadata[EXEC_MIME_TYPE]};\n    render(props, toinsert[0]);\n    element.append(toinsert);\n    return toinsert\n  }\n\n  events.on('output_added.OutputArea', handle_add_output);\n  events.on('output_updated.OutputArea', handle_update_output);\n  events.on('clear_output.CodeCell', handle_clear_output);\n  events.on('delete.Cell', handle_clear_output);\n  events.on('kernel_ready.Kernel', handle_kernel_cleanup);\n\n  OutputArea.prototype.register_mime_type(EXEC_MIME_TYPE, append_mime, {\n    safe: true,\n    index: 0\n  });\n}\n\nif (window.Jupyter !== undefined) {\n  try {\n    var events = require('base/js/events');\n    var OutputArea = require('notebook/js/outputarea').OutputArea;\n    if (OutputArea.prototype.mime_types().indexOf(EXEC_MIME_TYPE) == -1) {\n      register_renderer(events, OutputArea);\n    }\n  } catch(err) {\n  }\n}\n",
                        "application/vnd.holoviews_load.v0+json": ""
                    },
                    "metadata": {},
                    "output_type": "display_data"
                },
                {
                    "data": {
                        "text/html": [
                            "<style>*[data-root-id],\n",
                            "*[data-root-id] > * {\n",
                            "  box-sizing: border-box;\n",
                            "  font-family: var(--jp-ui-font-family);\n",
                            "  font-size: var(--jp-ui-font-size1);\n",
                            "  color: var(--vscode-editor-foreground, var(--jp-ui-font-color1));\n",
                            "}\n",
                            "\n",
                            "/* Override VSCode background color */\n",
                            ".cell-output-ipywidget-background:has(\n",
                            "    > .cell-output-ipywidget-background > .lm-Widget > *[data-root-id]\n",
                            "  ),\n",
                            ".cell-output-ipywidget-background:has(> .lm-Widget > *[data-root-id]) {\n",
                            "  background-color: transparent !important;\n",
                            "}\n",
                            "</style>"
                        ]
                    },
                    "metadata": {},
                    "output_type": "display_data"
                },
                {
                    "data": {
                        "application/vnd.holoviews_exec.v0+json": "",
                        "text/html": [
                            "<div id='p1002'>\n",
                            "  <div id=\"e95145cf-ef09-4fbb-9882-82a6a2dcb51a\" data-root-id=\"p1002\" style=\"display: contents;\"></div>\n",
                            "</div>\n",
                            "<script type=\"application/javascript\">(function(root) {\n",
                            "  var docs_json = {\"e48a314e-0242-411e-b2d3-bd98d9189bab\":{\"version\":\"3.4.2\",\"title\":\"Bokeh Application\",\"roots\":[{\"type\":\"object\",\"name\":\"panel.models.browser.BrowserInfo\",\"id\":\"p1002\"},{\"type\":\"object\",\"name\":\"panel.models.comm_manager.CommManager\",\"id\":\"p1003\",\"attributes\":{\"plot_id\":\"p1002\",\"comm_id\":\"e12a07a645034ad3a333121219194f52\",\"client_comm_id\":\"953cc27a70dc41d18f3b1ea8fd9ef108\"}}],\"defs\":[{\"type\":\"model\",\"name\":\"ReactiveHTML1\"},{\"type\":\"model\",\"name\":\"FlexBox1\",\"properties\":[{\"name\":\"align_content\",\"kind\":\"Any\",\"default\":\"flex-start\"},{\"name\":\"align_items\",\"kind\":\"Any\",\"default\":\"flex-start\"},{\"name\":\"flex_direction\",\"kind\":\"Any\",\"default\":\"row\"},{\"name\":\"flex_wrap\",\"kind\":\"Any\",\"default\":\"wrap\"},{\"name\":\"gap\",\"kind\":\"Any\",\"default\":\"\"},{\"name\":\"justify_content\",\"kind\":\"Any\",\"default\":\"flex-start\"}]},{\"type\":\"model\",\"name\":\"FloatPanel1\",\"properties\":[{\"name\":\"config\",\"kind\":\"Any\",\"default\":{\"type\":\"map\"}},{\"name\":\"contained\",\"kind\":\"Any\",\"default\":true},{\"name\":\"position\",\"kind\":\"Any\",\"default\":\"right-top\"},{\"name\":\"offsetx\",\"kind\":\"Any\",\"default\":null},{\"name\":\"offsety\",\"kind\":\"Any\",\"default\":null},{\"name\":\"theme\",\"kind\":\"Any\",\"default\":\"primary\"},{\"name\":\"status\",\"kind\":\"Any\",\"default\":\"normalized\"}]},{\"type\":\"model\",\"name\":\"GridStack1\",\"properties\":[{\"name\":\"mode\",\"kind\":\"Any\",\"default\":\"warn\"},{\"name\":\"ncols\",\"kind\":\"Any\",\"default\":null},{\"name\":\"nrows\",\"kind\":\"Any\",\"default\":null},{\"name\":\"allow_resize\",\"kind\":\"Any\",\"default\":true},{\"name\":\"allow_drag\",\"kind\":\"Any\",\"default\":true},{\"name\":\"state\",\"kind\":\"Any\",\"default\":[]}]},{\"type\":\"model\",\"name\":\"drag1\",\"properties\":[{\"name\":\"slider_width\",\"kind\":\"Any\",\"default\":5},{\"name\":\"slider_color\",\"kind\":\"Any\",\"default\":\"black\"},{\"name\":\"value\",\"kind\":\"Any\",\"default\":50}]},{\"type\":\"model\",\"name\":\"click1\",\"properties\":[{\"name\":\"terminal_output\",\"kind\":\"Any\",\"default\":\"\"},{\"name\":\"debug_name\",\"kind\":\"Any\",\"default\":\"\"},{\"name\":\"clears\",\"kind\":\"Any\",\"default\":0}]},{\"type\":\"model\",\"name\":\"FastWrapper1\",\"properties\":[{\"name\":\"object\",\"kind\":\"Any\",\"default\":null},{\"name\":\"style\",\"kind\":\"Any\",\"default\":null}]},{\"type\":\"model\",\"name\":\"NotificationAreaBase1\",\"properties\":[{\"name\":\"js_events\",\"kind\":\"Any\",\"default\":{\"type\":\"map\"}},{\"name\":\"position\",\"kind\":\"Any\",\"default\":\"bottom-right\"},{\"name\":\"_clear\",\"kind\":\"Any\",\"default\":0}]},{\"type\":\"model\",\"name\":\"NotificationArea1\",\"properties\":[{\"name\":\"js_events\",\"kind\":\"Any\",\"default\":{\"type\":\"map\"}},{\"name\":\"notifications\",\"kind\":\"Any\",\"default\":[]},{\"name\":\"position\",\"kind\":\"Any\",\"default\":\"bottom-right\"},{\"name\":\"_clear\",\"kind\":\"Any\",\"default\":0},{\"name\":\"types\",\"kind\":\"Any\",\"default\":[{\"type\":\"map\",\"entries\":[[\"type\",\"warning\"],[\"background\",\"#ffc107\"],[\"icon\",{\"type\":\"map\",\"entries\":[[\"className\",\"fas fa-exclamation-triangle\"],[\"tagName\",\"i\"],[\"color\",\"white\"]]}]]},{\"type\":\"map\",\"entries\":[[\"type\",\"info\"],[\"background\",\"#007bff\"],[\"icon\",{\"type\":\"map\",\"entries\":[[\"className\",\"fas fa-info-circle\"],[\"tagName\",\"i\"],[\"color\",\"white\"]]}]]}]}]},{\"type\":\"model\",\"name\":\"Notification\",\"properties\":[{\"name\":\"background\",\"kind\":\"Any\",\"default\":null},{\"name\":\"duration\",\"kind\":\"Any\",\"default\":3000},{\"name\":\"icon\",\"kind\":\"Any\",\"default\":null},{\"name\":\"message\",\"kind\":\"Any\",\"default\":\"\"},{\"name\":\"notification_type\",\"kind\":\"Any\",\"default\":null},{\"name\":\"_destroyed\",\"kind\":\"Any\",\"default\":false}]},{\"type\":\"model\",\"name\":\"TemplateActions1\",\"properties\":[{\"name\":\"open_modal\",\"kind\":\"Any\",\"default\":0},{\"name\":\"close_modal\",\"kind\":\"Any\",\"default\":0}]},{\"type\":\"model\",\"name\":\"BootstrapTemplateActions1\",\"properties\":[{\"name\":\"open_modal\",\"kind\":\"Any\",\"default\":0},{\"name\":\"close_modal\",\"kind\":\"Any\",\"default\":0}]},{\"type\":\"model\",\"name\":\"TemplateEditor1\",\"properties\":[{\"name\":\"layout\",\"kind\":\"Any\",\"default\":[]}]},{\"type\":\"model\",\"name\":\"MaterialTemplateActions1\",\"properties\":[{\"name\":\"open_modal\",\"kind\":\"Any\",\"default\":0},{\"name\":\"close_modal\",\"kind\":\"Any\",\"default\":0}]},{\"type\":\"model\",\"name\":\"copy_to_clipboard1\",\"properties\":[{\"name\":\"fill\",\"kind\":\"Any\",\"default\":\"none\"},{\"name\":\"value\",\"kind\":\"Any\",\"default\":null}]}]}};\n",
                            "  var render_items = [{\"docid\":\"e48a314e-0242-411e-b2d3-bd98d9189bab\",\"roots\":{\"p1002\":\"e95145cf-ef09-4fbb-9882-82a6a2dcb51a\"},\"root_ids\":[\"p1002\"]}];\n",
                            "  var docs = Object.values(docs_json)\n",
                            "  if (!docs) {\n",
                            "    return\n",
                            "  }\n",
                            "  const py_version = docs[0].version.replace('rc', '-rc.').replace('.dev', '-dev.')\n",
                            "  async function embed_document(root) {\n",
                            "    var Bokeh = get_bokeh(root)\n",
                            "    await Bokeh.embed.embed_items_notebook(docs_json, render_items);\n",
                            "    for (const render_item of render_items) {\n",
                            "      for (const root_id of render_item.root_ids) {\n",
                            "\tconst id_el = document.getElementById(root_id)\n",
                            "\tif (id_el.children.length && id_el.children[0].hasAttribute('data-root-id')) {\n",
                            "\t  const root_el = id_el.children[0]\n",
                            "\t  root_el.id = root_el.id + '-rendered'\n",
                            "\t  for (const child of root_el.children) {\n",
                            "            // Ensure JupyterLab does not capture keyboard shortcuts\n",
                            "            // see: https://jupyterlab.readthedocs.io/en/4.1.x/extension/notebook.html#keyboard-interaction-model\n",
                            "\t    child.setAttribute('data-lm-suppress-shortcuts', 'true')\n",
                            "\t  }\n",
                            "\t}\n",
                            "      }\n",
                            "    }\n",
                            "  }\n",
                            "  function get_bokeh(root) {\n",
                            "    if (root.Bokeh === undefined) {\n",
                            "      return null\n",
                            "    } else if (root.Bokeh.version !== py_version) {\n",
                            "      if (root.Bokeh.versions === undefined || !root.Bokeh.versions.has(py_version)) {\n",
                            "\treturn null\n",
                            "      }\n",
                            "      return root.Bokeh.versions.get(py_version);\n",
                            "    } else if (root.Bokeh.version === py_version) {\n",
                            "      return root.Bokeh\n",
                            "    }\n",
                            "    return null\n",
                            "  }\n",
                            "  function is_loaded(root) {\n",
                            "    var Bokeh = get_bokeh(root)\n",
                            "    return (Bokeh != null && Bokeh.Panel !== undefined)\n",
                            "  }\n",
                            "  if (is_loaded(root)) {\n",
                            "    embed_document(root);\n",
                            "  } else {\n",
                            "    var attempts = 0;\n",
                            "    var timer = setInterval(function(root) {\n",
                            "      if (is_loaded(root)) {\n",
                            "        clearInterval(timer);\n",
                            "        embed_document(root);\n",
                            "      } else if (document.readyState == \"complete\") {\n",
                            "        attempts++;\n",
                            "        if (attempts > 200) {\n",
                            "          clearInterval(timer);\n",
                            "\t  var Bokeh = get_bokeh(root)\n",
                            "\t  if (Bokeh == null || Bokeh.Panel == null) {\n",
                            "            console.warn(\"Panel: ERROR: Unable to run Panel code because Bokeh or Panel library is missing\");\n",
                            "\t  } else {\n",
                            "\t    console.warn(\"Panel: WARNING: Attempting to render but not all required libraries could be resolved.\")\n",
                            "\t    embed_document(root)\n",
                            "\t  }\n",
                            "        }\n",
                            "      }\n",
                            "    }, 25, root)\n",
                            "  }\n",
                            "})(window);</script>"
                        ]
                    },
                    "metadata": {
                        "application/vnd.holoviews_exec.v0+json": {
                            "id": "p1002"
                        }
                    },
                    "output_type": "display_data"
                }
            ],
            "source": [
                "import logging\n",
                "from pathlib import Path\n",
                "\n",
                "import holoviews as hv\n",
                "import hvplot.polars  # noqa\n",
                "import polars as pl\n",
                "from icecream import ic\n",
                "from matplotlib import pyplot as plt\n",
                "from polars import col\n",
                "\n",
                "from src.data.database_manager import DatabaseManager\n",
                "from src.data.quality_checks import check_sample_rate\n",
                "from src.features.resampling import add_time_column, add_timestamp_µs_column\n",
                "from src.features.scaling import scale_min_max\n",
                "from src.features.transforming import map_participants, map_trials\n",
                "from src.log_config import configure_logging\n",
                "from src.plots.plot_modality import plot_modality_over_trials\n",
                "\n",
                "logger = logging.getLogger(__name__.rsplit(\".\", maxsplit=1)[-1])\n",
                "configure_logging(\n",
                "    stream_level=logging.DEBUG, ignore_libs=[\"matplotlib\", \"Comm\", \"bokeh\", \"tornado\"]\n",
                ")\n",
                "\n",
                "pl.Config.set_tbl_rows(12)  # for the 12 trials\n",
                "hv.output(widget_location=\"bottom\", size=130)"
            ]
        },
        {
            "cell_type": "code",
            "execution_count": 3,
            "metadata": {},
            "outputs": [],
            "source": [
                "db = DatabaseManager()"
            ]
        },
        {
            "cell_type": "code",
            "execution_count": 4,
            "metadata": {},
            "outputs": [
                {
                    "data": {
                        "application/vnd.jupyter.widget-view+json": {
                            "model_id": "788d9f377b1242dba755baf9fc9a887b",
                            "version_major": 2,
                            "version_minor": 0
                        },
                        "text/plain": [
                            "BokehModel(combine_events=True, render_bundle={'docs_json': {'dfcbf103-93e7-460c-9ab6-aac2ddec4407': {'version…"
                        ]
                    },
                    "execution_count": 4,
                    "metadata": {},
                    "output_type": "execute_result"
                }
            ],
            "source": [
                "with db:\n",
                "    df = db.get_table(\"raw_stimulus\")\n",
                "df = add_time_column(df)\n",
                "df.hvplot(x=\"time\", y=\"temperature\", groupby=[\"participant_id\", \"trial_number\"])"
            ]
        },
        {
            "cell_type": "code",
            "execution_count": 5,
            "metadata": {},
            "outputs": [
                {
                    "name": "stderr",
                    "output_type": "stream",
                    "text": [
                        "thread '<unnamed>' panicked at crates/polars-python/src/dataframe/general.rs:356:31:\n",
                        "UDF failed: NameError: name 'signal' is not defined\n",
                        "note: run with `RUST_BACKTRACE=1` environment variable to display a backtrace\n"
                    ]
                },
                {
                    "ename": "PanicException",
                    "evalue": "UDF failed: NameError: name 'signal' is not defined",
                    "output_type": "error",
                    "traceback": [
                        "\u001b[0;31m---------------------------------------------------------------------------\u001b[0m",
                        "\u001b[0;31mPanicException\u001b[0m                            Traceback (most recent call last)",
                        "Cell \u001b[0;32mIn[5], line 27\u001b[0m\n\u001b[1;32m     22\u001b[0m             \u001b[38;5;28;01mreturn\u001b[39;00m col\u001b[38;5;241m.\u001b[39mgather_every(\u001b[38;5;241m10\u001b[39m)\n\u001b[1;32m     24\u001b[0m     \u001b[38;5;28;01mreturn\u001b[39;00m df\u001b[38;5;241m.\u001b[39mselect(pl\u001b[38;5;241m.\u001b[39mall()\u001b[38;5;241m.\u001b[39mmap_batches(decimate_column))\n\u001b[0;32m---> 27\u001b[0m df \u001b[38;5;241m=\u001b[39m \u001b[43mdecimate\u001b[49m\u001b[43m(\u001b[49m\u001b[43mdf\u001b[49m\u001b[43m)\u001b[49m\n",
                        "File \u001b[0;32m~/Dropbox/PhD/Code/pain-measurement/src/features/transforming.py:31\u001b[0m, in \u001b[0;36mmap_trials.<locals>.wrapper\u001b[0;34m(df, *args, **kwargs)\u001b[0m\n\u001b[1;32m     24\u001b[0m \u001b[38;5;129m@wraps\u001b[39m(func)\n\u001b[1;32m     25\u001b[0m \u001b[38;5;28;01mdef\u001b[39;00m \u001b[38;5;21mwrapper\u001b[39m(\n\u001b[1;32m     26\u001b[0m     df: pl\u001b[38;5;241m.\u001b[39mDataFrame,\n\u001b[1;32m     27\u001b[0m     \u001b[38;5;241m*\u001b[39margs,\n\u001b[1;32m     28\u001b[0m     \u001b[38;5;241m*\u001b[39m\u001b[38;5;241m*\u001b[39mkwargs,\n\u001b[1;32m     29\u001b[0m ) \u001b[38;5;241m-\u001b[39m\u001b[38;5;241m>\u001b[39m pl\u001b[38;5;241m.\u001b[39mDataFrame:\n\u001b[1;32m     30\u001b[0m     \u001b[38;5;28;01mtry\u001b[39;00m:\n\u001b[0;32m---> 31\u001b[0m         df \u001b[38;5;241m=\u001b[39m \u001b[43mdf\u001b[49m\u001b[38;5;241;43m.\u001b[39;49m\u001b[43mgroup_by\u001b[49m\u001b[43m(\u001b[49m\u001b[38;5;124;43m\"\u001b[39;49m\u001b[38;5;124;43mtrial_id\u001b[39;49m\u001b[38;5;124;43m\"\u001b[39;49m\u001b[43m,\u001b[49m\u001b[43m \u001b[49m\u001b[43mmaintain_order\u001b[49m\u001b[38;5;241;43m=\u001b[39;49m\u001b[38;5;28;43;01mTrue\u001b[39;49;00m\u001b[43m)\u001b[49m\u001b[38;5;241;43m.\u001b[39;49m\u001b[43mmap_groups\u001b[49m\u001b[43m(\u001b[49m\n\u001b[1;32m     32\u001b[0m \u001b[43m            \u001b[49m\u001b[38;5;28;43;01mlambda\u001b[39;49;00m\u001b[43m \u001b[49m\u001b[43mgroup\u001b[49m\u001b[43m:\u001b[49m\u001b[43m \u001b[49m\u001b[43mfunc\u001b[49m\u001b[43m(\u001b[49m\u001b[43mgroup\u001b[49m\u001b[43m,\u001b[49m\u001b[43m \u001b[49m\u001b[38;5;241;43m*\u001b[39;49m\u001b[43margs\u001b[49m\u001b[43m,\u001b[49m\u001b[43m \u001b[49m\u001b[38;5;241;43m*\u001b[39;49m\u001b[38;5;241;43m*\u001b[39;49m\u001b[43mkwargs\u001b[49m\u001b[43m)\u001b[49m\n\u001b[1;32m     33\u001b[0m \u001b[43m        \u001b[49m\u001b[43m)\u001b[49m\n\u001b[1;32m     34\u001b[0m     \u001b[38;5;28;01mexcept\u001b[39;00m ColumnNotFoundError:\n\u001b[1;32m     35\u001b[0m         logger\u001b[38;5;241m.\u001b[39mwarning(\n\u001b[1;32m     36\u001b[0m             \u001b[38;5;124mf\u001b[39m\u001b[38;5;124m\"\u001b[39m\u001b[38;5;124mNo \u001b[39m\u001b[38;5;124m'\u001b[39m\u001b[38;5;124mtrial_id\u001b[39m\u001b[38;5;124m'\u001b[39m\u001b[38;5;124m column found. Applying function \u001b[39m\u001b[38;5;132;01m{\u001b[39;00mfunc\u001b[38;5;241m.\u001b[39m\u001b[38;5;18m__name__\u001b[39m\u001b[38;5;132;01m}\u001b[39;00m\u001b[38;5;124m to the \u001b[39m\u001b[38;5;124m\"\u001b[39m\n\u001b[1;32m     37\u001b[0m             \u001b[38;5;124m\"\u001b[39m\u001b[38;5;124mentire DataFrame.\u001b[39m\u001b[38;5;124m\"\u001b[39m\n\u001b[1;32m     38\u001b[0m         )\n",
                        "File \u001b[0;32m~/miniforge3/envs/pain/lib/python3.12/site-packages/polars/dataframe/group_by.py:303\u001b[0m, in \u001b[0;36mGroupBy.map_groups\u001b[0;34m(self, function)\u001b[0m\n\u001b[1;32m    299\u001b[0m     msg \u001b[38;5;241m=\u001b[39m \u001b[38;5;124m\"\u001b[39m\u001b[38;5;124mcannot call `map_groups` when grouping by an expression\u001b[39m\u001b[38;5;124m\"\u001b[39m\n\u001b[1;32m    300\u001b[0m     \u001b[38;5;28;01mraise\u001b[39;00m \u001b[38;5;167;01mTypeError\u001b[39;00m(msg)\n\u001b[1;32m    302\u001b[0m \u001b[38;5;28;01mreturn\u001b[39;00m \u001b[38;5;28mself\u001b[39m\u001b[38;5;241m.\u001b[39mdf\u001b[38;5;241m.\u001b[39m\u001b[38;5;18m__class__\u001b[39m\u001b[38;5;241m.\u001b[39m_from_pydf(\n\u001b[0;32m--> 303\u001b[0m     \u001b[38;5;28;43mself\u001b[39;49m\u001b[38;5;241;43m.\u001b[39;49m\u001b[43mdf\u001b[49m\u001b[38;5;241;43m.\u001b[39;49m\u001b[43m_df\u001b[49m\u001b[38;5;241;43m.\u001b[39;49m\u001b[43mgroup_by_map_groups\u001b[49m\u001b[43m(\u001b[49m\n\u001b[1;32m    304\u001b[0m \u001b[43m        \u001b[49m\u001b[38;5;28;43mlist\u001b[39;49m\u001b[43m(\u001b[49m\u001b[38;5;28;43mself\u001b[39;49m\u001b[38;5;241;43m.\u001b[39;49m\u001b[43mby\u001b[49m\u001b[43m)\u001b[49m\u001b[43m,\u001b[49m\u001b[43m \u001b[49m\u001b[43mfunction\u001b[49m\u001b[43m,\u001b[49m\u001b[43m \u001b[49m\u001b[38;5;28;43mself\u001b[39;49m\u001b[38;5;241;43m.\u001b[39;49m\u001b[43mmaintain_order\u001b[49m\n\u001b[1;32m    305\u001b[0m \u001b[43m    \u001b[49m\u001b[43m)\u001b[49m\n\u001b[1;32m    306\u001b[0m )\n",
                        "\u001b[0;31mPanicException\u001b[0m: UDF failed: NameError: name 'signal' is not defined"
                    ]
                }
            ],
            "source": [
                "@map_trials\n",
                "def decimate(\n",
                "    df: pl.DataFrame,\n",
                "    factor: int = 10,\n",
                ") -> pl.DataFrame:\n",
                "    \"\"\"Decimate all float columns by a factor of 10.\n",
                "\n",
                "    This function applies scipy.signal.decimate to all float columns in the DataFrame\n",
                "    and gathers every 10th row for all other columns.\n",
                "    \"\"\"\n",
                "\n",
                "    def decimate_column(col):\n",
                "        if col.dtype in [pl.Float32, pl.Float64]:\n",
                "            return pl.from_numpy(\n",
                "                signal.decimate(\n",
                "                    col.to_numpy(),\n",
                "                    factor,\n",
                "                    ftype=\"iir\",\n",
                "                )\n",
                "            ).to_series()\n",
                "        else:\n",
                "            return col.gather_every(10)\n",
                "\n",
                "    return df.select(pl.all().map_batches(decimate_column))\n",
                "\n",
                "\n",
                "df = decimate(df)\n"
            ]
        },
        {
            "cell_type": "code",
            "execution_count": 8,
            "metadata": {},
            "outputs": [
                {
                    "data": {
                        "application/vnd.jupyter.widget-view+json": {
                            "model_id": "d109606767bc4c86a9f43a507e264205",
                            "version_major": 2,
                            "version_minor": 0
                        },
                        "text/plain": [
                            "BokehModel(combine_events=True, render_bundle={'docs_json': {'a4068348-eeae-4a6c-90a5-62c70bb939cc': {'version…"
                        ]
                    },
                    "execution_count": 8,
                    "metadata": {},
                    "output_type": "execute_result"
                }
            ],
            "source": [
                "df.hvplot(x=\"time\", y=\"rating\", groupby=[\"trial_id\"])"
            ]
        },
        {
            "cell_type": "code",
            "execution_count": 25,
            "metadata": {},
            "outputs": [
                {
                    "data": {
                        "text/html": [
                            "<div><style>\n",
                            ".dataframe > thead > tr,\n",
                            ".dataframe > tbody > tr {\n",
                            "  text-align: right;\n",
                            "  white-space: pre-wrap;\n",
                            "}\n",
                            "</style>\n",
                            "<small>shape: (60_020, 8)</small><table border=\"1\" class=\"dataframe\"><thead><tr><th>trial_id</th><th>trial_number</th><th>participant_id</th><th>rownumber</th><th>timestamp</th><th>temperature</th><th>rating</th><th>time</th></tr><tr><td>u16</td><td>u8</td><td>u8</td><td>u32</td><td>f64</td><td>f64</td><td>f64</td><td>duration[ms]</td></tr></thead><tbody><tr><td>1</td><td>1</td><td>1</td><td>0</td><td>290836.153318</td><td>45.224758</td><td>42.660354</td><td>4m 54s 224ms</td></tr><tr><td>1</td><td>1</td><td>1</td><td>10</td><td>291881.091755</td><td>45.235349</td><td>45.990028</td><td>4m 55s 261ms</td></tr><tr><td>1</td><td>1</td><td>1</td><td>20</td><td>292863.224662</td><td>45.265408</td><td>71.160729</td><td>4m 56s 260ms</td></tr><tr><td>1</td><td>1</td><td>1</td><td>30</td><td>293854.06379</td><td>45.313314</td><td>65.174978</td><td>4m 57s 263ms</td></tr><tr><td>1</td><td>1</td><td>1</td><td>40</td><td>294852.941015</td><td>45.381109</td><td>66.602879</td><td>4m 58s 261ms</td></tr><tr><td>1</td><td>1</td><td>1</td><td>50</td><td>295830.895198</td><td>45.460249</td><td>68.291577</td><td>4m 59s 262ms</td></tr><tr><td>&hellip;</td><td>&hellip;</td><td>&hellip;</td><td>&hellip;</td><td>&hellip;</td><td>&hellip;</td><td>&hellip;</td><td>&hellip;</td></tr><tr><td>332</td><td>12</td><td>28</td><td>21561</td><td>2.7404e6</td><td>45.520961</td><td>72.422329</td><td>46m 12s 122ms</td></tr><tr><td>332</td><td>12</td><td>28</td><td>21571</td><td>2.7414e6</td><td>45.40331</td><td>75.899436</td><td>46m 13s 123ms</td></tr><tr><td>332</td><td>12</td><td>28</td><td>21581</td><td>2.7424e6</td><td>45.27455</td><td>78.263742</td><td>46m 14s 126ms</td></tr><tr><td>332</td><td>12</td><td>28</td><td>21591</td><td>2.7433e6</td><td>45.159205</td><td>81.753044</td><td>46m 15s 125ms</td></tr><tr><td>332</td><td>12</td><td>28</td><td>21601</td><td>2.7444e6</td><td>45.083738</td><td>84.179992</td><td>46m 16s 126ms</td></tr><tr><td>332</td><td>12</td><td>28</td><td>21611</td><td>2.7453e6</td><td>45.055545</td><td>84.058444</td><td>46m 17s 126ms</td></tr></tbody></table></div>"
                        ],
                        "text/plain": [
                            "shape: (60_020, 8)\n",
                            "┌──────────┬────────────┬────────────┬───────────┬────────────┬────────────┬───────────┬───────────┐\n",
                            "│ trial_id ┆ trial_numb ┆ participan ┆ rownumber ┆ timestamp  ┆ temperatur ┆ rating    ┆ time      │\n",
                            "│ ---      ┆ er         ┆ t_id       ┆ ---       ┆ ---        ┆ e          ┆ ---       ┆ ---       │\n",
                            "│ u16      ┆ ---        ┆ ---        ┆ u32       ┆ f64        ┆ ---        ┆ f64       ┆ duration[ │\n",
                            "│          ┆ u8         ┆ u8         ┆           ┆            ┆ f64        ┆           ┆ ms]       │\n",
                            "╞══════════╪════════════╪════════════╪═══════════╪════════════╪════════════╪═══════════╪═══════════╡\n",
                            "│ 1        ┆ 1          ┆ 1          ┆ 0         ┆ 290836.153 ┆ 45.224758  ┆ 42.660354 ┆ 4m 54s    │\n",
                            "│          ┆            ┆            ┆           ┆ 318        ┆            ┆           ┆ 224ms     │\n",
                            "│ 1        ┆ 1          ┆ 1          ┆ 10        ┆ 291881.091 ┆ 45.235349  ┆ 45.990028 ┆ 4m 55s    │\n",
                            "│          ┆            ┆            ┆           ┆ 755        ┆            ┆           ┆ 261ms     │\n",
                            "│ 1        ┆ 1          ┆ 1          ┆ 20        ┆ 292863.224 ┆ 45.265408  ┆ 71.160729 ┆ 4m 56s    │\n",
                            "│          ┆            ┆            ┆           ┆ 662        ┆            ┆           ┆ 260ms     │\n",
                            "│ 1        ┆ 1          ┆ 1          ┆ 30        ┆ 293854.063 ┆ 45.313314  ┆ 65.174978 ┆ 4m 57s    │\n",
                            "│          ┆            ┆            ┆           ┆ 79         ┆            ┆           ┆ 263ms     │\n",
                            "│ 1        ┆ 1          ┆ 1          ┆ 40        ┆ 294852.941 ┆ 45.381109  ┆ 66.602879 ┆ 4m 58s    │\n",
                            "│          ┆            ┆            ┆           ┆ 015        ┆            ┆           ┆ 261ms     │\n",
                            "│ 1        ┆ 1          ┆ 1          ┆ 50        ┆ 295830.895 ┆ 45.460249  ┆ 68.291577 ┆ 4m 59s    │\n",
                            "│          ┆            ┆            ┆           ┆ 198        ┆            ┆           ┆ 262ms     │\n",
                            "│ …        ┆ …          ┆ …          ┆ …         ┆ …          ┆ …          ┆ …         ┆ …         │\n",
                            "│ 332      ┆ 12         ┆ 28         ┆ 21561     ┆ 2.7404e6   ┆ 45.520961  ┆ 72.422329 ┆ 46m 12s   │\n",
                            "│          ┆            ┆            ┆           ┆            ┆            ┆           ┆ 122ms     │\n",
                            "│ 332      ┆ 12         ┆ 28         ┆ 21571     ┆ 2.7414e6   ┆ 45.40331   ┆ 75.899436 ┆ 46m 13s   │\n",
                            "│          ┆            ┆            ┆           ┆            ┆            ┆           ┆ 123ms     │\n",
                            "│ 332      ┆ 12         ┆ 28         ┆ 21581     ┆ 2.7424e6   ┆ 45.27455   ┆ 78.263742 ┆ 46m 14s   │\n",
                            "│          ┆            ┆            ┆           ┆            ┆            ┆           ┆ 126ms     │\n",
                            "│ 332      ┆ 12         ┆ 28         ┆ 21591     ┆ 2.7433e6   ┆ 45.159205  ┆ 81.753044 ┆ 46m 15s   │\n",
                            "│          ┆            ┆            ┆           ┆            ┆            ┆           ┆ 125ms     │\n",
                            "│ 332      ┆ 12         ┆ 28         ┆ 21601     ┆ 2.7444e6   ┆ 45.083738  ┆ 84.179992 ┆ 46m 16s   │\n",
                            "│          ┆            ┆            ┆           ┆            ┆            ┆           ┆ 126ms     │\n",
                            "│ 332      ┆ 12         ┆ 28         ┆ 21611     ┆ 2.7453e6   ┆ 45.055545  ┆ 84.058444 ┆ 46m 17s   │\n",
                            "│          ┆            ┆            ┆           ┆            ┆            ┆           ┆ 126ms     │\n",
                            "└──────────┴────────────┴────────────┴───────────┴────────────┴────────────┴───────────┴───────────┘"
                        ]
                    },
                    "execution_count": 25,
                    "metadata": {},
                    "output_type": "execute_result"
                }
            ],
            "source": [
                "df"
            ]
        },
        {
            "cell_type": "code",
            "execution_count": 13,
            "metadata": {},
            "outputs": [
                {
                    "data": {
                        "text/plain": [
                            "[<matplotlib.lines.Line2D at 0x30d7bd880>]"
                        ]
                    },
                    "execution_count": 13,
                    "metadata": {},
                    "output_type": "execute_result"
                },
                {
                    "data": {
                        "image/png": "[encoded data removed]",
                        "text/plain": [
                            "<Figure size 640x480 with 1 Axes>"
                        ]
                    },
                    "metadata": {},
                    "output_type": "display_data"
                }
            ],
            "source": [
                "from scipy import signal\n",
                "\n",
                "# q: int The downsampling factor. When using IIR downsampling, it is recommended to call decimate multiple times for downsampling factors higher than\n",
                "\n",
                "\n",
                "da = signal.decimate(df[\"participant_id\"], 10, ftype=\"iir\")\n",
                "plt.plot(da[:10000])"
            ]
        },
        {
            "cell_type": "code",
            "execution_count": 20,
            "metadata": {},
            "outputs": [
                {
                    "data": {
                        "text/html": [
                            "<div><style>\n",
                            ".dataframe > thead > tr,\n",
                            ".dataframe > tbody > tr {\n",
                            "  text-align: right;\n",
                            "  white-space: pre-wrap;\n",
                            "}\n",
                            "</style>\n",
                            "<small>shape: (59_786,)</small><table border=\"1\" class=\"dataframe\"><thead><tr><th>column_0</th></tr><tr><td>f64</td></tr></thead><tbody><tr><td>0.988553</td></tr><tr><td>0.988553</td></tr><tr><td>0.988553</td></tr><tr><td>0.988553</td></tr><tr><td>0.988553</td></tr><tr><td>0.988553</td></tr><tr><td>&hellip;</td></tr><tr><td>27.679487</td></tr><tr><td>27.679487</td></tr><tr><td>27.679487</td></tr><tr><td>27.679487</td></tr><tr><td>27.679487</td></tr><tr><td>27.679487</td></tr></tbody></table></div>"
                        ],
                        "text/plain": [
                            "shape: (59_786,)\n",
                            "Series: 'column_0' [f64]\n",
                            "[\n",
                            "\t0.988553\n",
                            "\t0.988553\n",
                            "\t0.988553\n",
                            "\t0.988553\n",
                            "\t0.988553\n",
                            "\t0.988553\n",
                            "\t…\n",
                            "\t27.679487\n",
                            "\t27.679487\n",
                            "\t27.679487\n",
                            "\t27.679487\n",
                            "\t27.679487\n",
                            "\t27.679487\n",
                            "]"
                        ]
                    },
                    "execution_count": 20,
                    "metadata": {},
                    "output_type": "execute_result"
                }
            ],
            "source": [
                "pl.from_numpy(da).to_series()"
            ]
        },
        {
            "cell_type": "code",
            "execution_count": 15,
            "metadata": {},
            "outputs": [
                {
                    "data": {
                        "text/plain": [
                            "numpy.ndarray"
                        ]
                    },
                    "execution_count": 15,
                    "metadata": {},
                    "output_type": "execute_result"
                }
            ],
            "source": [
                "type(da)"
            ]
        },
        {
            "cell_type": "code",
            "execution_count": 16,
            "metadata": {},
            "outputs": [
                {
                    "data": {
                        "text/plain": [
                            "array([ 0.98855309,  0.98855309,  0.98855309, ..., 27.67948665,\n",
                            "       27.67948665, 27.67948665])"
                        ]
                    },
                    "execution_count": 16,
                    "metadata": {},
                    "output_type": "execute_result"
                }
            ],
            "source": [
                "da"
            ]
        },
        {
            "cell_type": "code",
            "execution_count": 23,
            "metadata": {},
            "outputs": [
                {
                    "name": "stdout",
                    "output_type": "stream",
                    "text": [
                        "12:08:58 | \u001b[36mDEBUG   \u001b[0m| quality_checks | Sample rate per trial: [ 97.89  98.81  98.71  98.69  98.84  98.98  98.52  98.75  98.61  98.9\n",
                        "  98.54  98.71 100.41 100.75 100.66 100.68 100.7  100.44 100.57 100.63\n",
                        " 100.69 100.48 100.68 100.37  99.03  99.    99.    98.93  99.23  98.69\n",
                        "  99.08  98.84  99.27  98.82  98.93  99.09  99.07  98.93  99.2   99.09\n",
                        "  99.23  99.11  99.31  98.88  98.73  98.78  98.69  98.78  98.52  98.78\n",
                        "  98.59  98.49  98.7   98.63  98.72  98.6   98.7   98.82  99.02  98.66\n",
                        "  98.65  98.63  98.92  98.97  98.9   98.81  98.9   98.85  99.17  99.14\n",
                        "  98.83  98.97  98.98  98.85  99.07  99.    98.79  98.75  98.76  98.7\n",
                        "  98.9   98.73  98.96  98.71  98.91  98.8   98.6   98.88  98.81  98.72\n",
                        "  98.74  98.63 100.51 100.54 100.5  100.51 100.67 100.65 100.65 100.57\n",
                        " 100.63 100.6  100.61 100.61  98.6   98.92  98.54  98.82  98.75  98.72\n",
                        "  98.69  98.85  98.63  98.82  98.57  98.54  98.93  98.83  98.93  98.93\n",
                        "  99.02  98.97  98.98  98.91  98.86  98.8   98.8   98.68  98.9   98.42\n",
                        "  98.72  98.95  98.74  98.97  98.63  98.75  98.95  98.76  98.59  98.72\n",
                        " 100.8  100.51 100.53 100.47 100.59 100.58 100.75 100.5  100.45 100.56\n",
                        " 100.68 100.56  98.73  98.65  98.86  98.78  98.76  98.78  99.03  98.78\n",
                        "  98.58  98.52  98.87  98.86  98.78  98.69  98.88  98.71  98.6   98.76\n",
                        "  98.55  98.81  98.63  98.77  98.77  98.8   98.97  98.81  98.81  98.97\n",
                        "  99.05  98.8   98.76  99.11  98.84  98.84  98.75  98.99 100.68 100.75\n",
                        " 100.56 100.56 100.69 100.53 100.61 100.53 100.64 100.54 100.63 100.51\n",
                        "  98.84  99.07  99.02  98.91  99.05  99.04  98.87  98.89  99.11  98.95\n",
                        "  98.95  99.   100.49 100.73 100.6  100.5  100.59 100.44 100.61 100.67\n",
                        " 100.86 100.53 100.68 100.8   98.98  98.87  98.7   98.82  98.87  98.67\n",
                        "  98.89  98.68  98.81  98.49  98.76  98.83 100.74 100.52 100.55 100.67\n",
                        " 100.62 100.68 100.51 100.7  100.6  100.7  100.69 100.65  98.74  98.73\n",
                        "  98.8   98.83  98.83  98.51  98.84  98.83  98.89  98.84  98.71  98.65\n",
                        "  98.75  98.97  98.46  98.63  98.8   98.82  98.94  98.57  98.66  98.8\n",
                        "  98.59  98.93  98.68  98.66  98.82  98.99  98.92  98.64  98.49  98.98\n",
                        "  98.74  98.78  98.89  98.75  98.99  98.97  98.71  98.8   98.79  98.93\n",
                        "  98.67  98.84  98.6   98.81  98.89  99.28  98.78  98.76  98.71  98.98\n",
                        "  98.74  98.85  98.54  98.67  98.7   98.9   98.83  98.94 100.78 100.44\n",
                        " 100.38 100.53 100.86 100.56 100.71 100.41 100.4  100.7  100.65 100.47\n",
                        " 100.66 100.64 100.81 100.63 100.65 100.68 100.47 100.61 100.6  100.61\n",
                        " 100.69 100.61]\n",
                        "12:08:58 | \u001b[92mINFO    \u001b[0m| quality_checks | The mean sample rate is 99.33.\n",
                        "12:08:58 | \u001b[93mWARNING \u001b[0m| quality_checks | Sample rate varies more than 0.5% between trials: 0.83% (coefficient of variation).\n"
                    ]
                }
            ],
            "source": [
                "with db:\n",
                "    df = db.get_table(\"RAW_EDA\")\n",
                "df = add_timestamp_µs_column(df)\n",
                "check_sample_rate(df)"
            ]
        },
        {
            "cell_type": "code",
            "execution_count": 17,
            "metadata": {},
            "outputs": [
                {
                    "name": "stdout",
                    "output_type": "stream",
                    "text": [
                        "12:07:37 | \u001b[36mDEBUG   \u001b[0m| quality_checks | Sample rate per trial: [10.   10.   10.   10.   10.   10.   10.   10.   10.   10.   10.   10.\n",
                        " 10.   10.   10.   10.   10.   10.   10.   10.   10.   10.   10.   10.\n",
                        " 10.   10.   10.   10.   10.   10.   10.   10.   10.   10.   10.   10.\n",
                        " 10.   10.   10.   10.   10.   10.   10.   10.   10.   10.   10.   10.\n",
                        " 10.   10.   10.   10.   10.   10.   10.   10.   10.   10.   10.   10.\n",
                        " 10.   10.   10.   10.   10.   10.   10.   10.   10.01 10.01 10.01 10.01\n",
                        " 10.01 10.01 10.01 10.01 10.   10.01 10.01 10.01 10.01 10.01 10.01 10.01\n",
                        " 10.01 10.01 10.01 10.01 10.01 10.01 10.01 10.01 10.01 10.01 10.01 10.01\n",
                        " 10.01 10.01 10.01 10.01 10.01 10.01 10.01 10.01 10.01 10.01 10.01 10.01\n",
                        " 10.01 10.01 10.01 10.01 10.01 10.01 10.01 10.01 10.01 10.01 10.01 10.01\n",
                        " 10.01 10.01 10.01 10.01 10.01 10.01 10.01 10.01 10.01 10.01 10.01 10.01\n",
                        " 10.01 10.01 10.01 10.01 10.01 10.01 10.01 10.01 10.01 10.01 10.01 10.01\n",
                        " 10.01 10.01 10.01 10.01 10.01 10.01 10.01 10.01 10.01 10.01 10.01 10.01\n",
                        " 10.01 10.01 10.01 10.01 10.01 10.01 10.01 10.01 10.01 10.01 10.01 10.01\n",
                        " 10.01 10.01 10.01 10.01 10.01 10.01 10.01 10.01 10.01 10.01 10.01 10.01\n",
                        " 10.01 10.01 10.01 10.01 10.01 10.01 10.01 10.01 10.01 10.01 10.01 10.01\n",
                        " 10.01 10.01 10.01 10.01 10.01 10.01 10.01 10.01 10.01 10.01 10.01 10.01\n",
                        " 10.01 10.01 10.01 10.01 10.01 10.01 10.01 10.01 10.01 10.01 10.01 10.01\n",
                        " 10.01 10.01 10.01 10.01 10.01 10.01 10.01 10.01 10.01 10.01 10.01 10.01\n",
                        " 10.01 10.01 10.01 10.01 10.01 10.01 10.01 10.01 10.01 10.01 10.01 10.01\n",
                        " 10.01 10.01 10.01 10.01 10.01 10.01 10.01 10.01 10.01 10.01 10.01 10.01\n",
                        " 10.01 10.01 10.01 10.01 10.01 10.01 10.01 10.01 10.01 10.01 10.01 10.01\n",
                        " 10.01 10.01 10.01 10.01 10.01 10.01 10.01 10.01 10.01 10.01 10.01 10.01\n",
                        " 10.01 10.01 10.01 10.01 10.01 10.01 10.01 10.01 10.01 10.01 10.01 10.01\n",
                        " 10.01 10.01 10.01 10.01 10.01 10.01 10.01 10.01 10.01 10.01 10.01 10.01\n",
                        " 10.01 10.01 10.01 10.01 10.01 10.01 10.01 10.01 10.01 10.01 10.01 10.01\n",
                        " 10.01 10.01 10.01 10.01 10.01 10.01 10.01 10.01 10.01 10.01 10.01 10.01\n",
                        " 10.01 10.01 10.01 10.01 10.01 10.01 10.01 10.01]\n",
                        "12:07:37 | \u001b[92mINFO    \u001b[0m| quality_checks | The mean sample rate is 10.01.\n"
                    ]
                }
            ],
            "source": [
                "check_sample_rate(df)"
            ]
        },
        {
            "cell_type": "code",
            "execution_count": 18,
            "metadata": {},
            "outputs": [
                {
                    "data": {
                        "application/vnd.jupyter.widget-view+json": {
                            "model_id": "67cd116dcd49455aac0b9b329e33fd30",
                            "version_major": 2,
                            "version_minor": 0
                        },
                        "text/plain": [
                            "BokehModel(combine_events=True, render_bundle={'docs_json': {'13a0ea2f-2b07-4b04-bc75-76d6c1a053f6': {'version…"
                        ]
                    },
                    "execution_count": 18,
                    "metadata": {},
                    "output_type": "execute_result"
                }
            ],
            "source": [
                "scale_min_max(df).plot(\n",
                "    x=\"timestamp\",\n",
                "    y=[\"rating\", \"temperature\"],\n",
                "    groupby=\"trial_id\",\n",
                ")"
            ]
        },
        {
            "cell_type": "code",
            "execution_count": 6,
            "metadata": {},
            "outputs": [],
            "source": [
                "data = df.filter([col(\"trial_id\") == 1])"
            ]
        },
        {
            "cell_type": "code",
            "execution_count": 13,
            "metadata": {},
            "outputs": [
                {
                    "data": {
                        "application/vnd.jupyter.widget-view+json": {
                            "model_id": "6924bcb272114ae7b11202af7952d07e",
                            "version_major": 2,
                            "version_minor": 0
                        },
                        "text/plain": [
                            "BokehModel(combine_events=True, render_bundle={'docs_json': {'76542f09-57ad-445d-8fae-730ed262bea3': {'version…"
                        ]
                    },
                    "execution_count": 13,
                    "metadata": {},
                    "output_type": "execute_result"
                }
            ],
            "source": [
                "scale_min_max(df).plot(\n",
                "    x=\"time\",\n",
                "    y=[\"rating\", \"temperature\"],\n",
                "    groupby=\"trial_id\",\n",
                ")"
            ]
        },
        {
            "cell_type": "code",
            "execution_count": 182,
            "metadata": {},
            "outputs": [
                {
                    "data": {
                        "text/plain": [
                            "True"
                        ]
                    },
                    "execution_count": 182,
                    "metadata": {},
                    "output_type": "execute_result"
                }
            ],
            "source": [
                "data[\"timestamp_µs\"].is_sorted()"
            ]
        },
        {
            "cell_type": "code",
            "execution_count": null,
            "metadata": {},
            "outputs": [],
            "source": []
        }
    ],
    "metadata": {
        "kernelspec": {
            "display_name": "learning",
            "language": "python",
            "name": "python3"
        },
        "language_info": {
            "codemirror_mode": {
                "name": "ipython",
                "version": 3
            },
            "file_extension": ".py",
            "mimetype": "text/x-python",
            "name": "python",
            "nbconvert_exporter": "python",
            "pygments_lexer": "ipython3",
            "version": "3.12.4"
        },
        "orig_nbformat": 4
    },
    "nbformat": 4,
    "nbformat_minor": 2
}
