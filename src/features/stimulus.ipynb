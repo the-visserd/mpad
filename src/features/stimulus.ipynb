{
 "cells": [
  {
   "cell_type": "code",
   "execution_count": 1,
   "metadata": {},
   "outputs": [],
   "source": [
    "%%capture\n",
    "from pathlib import Path\n",
    "\n",
    "if Path.cwd().stem == \"features\":\n",
    "    %cd ../..\n",
    "    %load_ext autoreload\n",
    "    %autoreload 2"
   ]
  },
  {
   "cell_type": "code",
   "execution_count": 2,
   "metadata": {},
   "outputs": [
    {
     "data": {
      "text/plain": [
       "polars.config.Config"
      ]
     },
     "execution_count": 2,
     "metadata": {},
     "output_type": "execute_result"
    }
   ],
   "source": [
    "import logging\n",
    "from pathlib import Path\n",
    "\n",
    "import holoviews as hv\n",
    "import plotly.io as pio\n",
    "import polars as pl\n",
    "from polars import col\n",
    "\n",
    "from src.data.database_manager import DatabaseManager\n",
    "from src.features.scaling import scale_min_max\n",
    "from src.features.transformations import (\n",
    "    add_time_column,\n",
    ")\n",
    "from src.helpers import to_describe\n",
    "from src.log_config import configure_logging\n",
    "\n",
    "configure_logging(\n",
    "    stream_level=logging.DEBUG,\n",
    "    ignore_libs=[\"matplotlib\", \"Comm\", \"bokeh\", \"tornado\"],\n",
    ")\n",
    "\n",
    "pl.Config.set_tbl_rows(12)  # for the 12 trials\n",
    "hv.output(widget_location=\"bottom\", size=130)"
   ]
  },
  {
   "cell_type": "code",
   "execution_count": 3,
   "metadata": {},
   "outputs": [],
   "source": [
    "db = DatabaseManager()"
   ]
  },
  {
   "cell_type": "code",
   "execution_count": 4,
   "metadata": {},
   "outputs": [
    {
     "data": {
      "text/html": [
       "<div><style>\n",
       ".dataframe > thead > tr,\n",
       ".dataframe > tbody > tr {\n",
       "  text-align: right;\n",
       "  white-space: pre-wrap;\n",
       "}\n",
       "</style>\n",
       "<small>shape: (597_860, 7)</small><table border=\"1\" class=\"dataframe\"><thead><tr><th>trial_id</th><th>trial_number</th><th>participant_id</th><th>rownumber</th><th>timestamp</th><th>temperature</th><th>rating</th></tr><tr><td>u16</td><td>u8</td><td>u8</td><td>u32</td><td>f64</td><td>f64</td><td>f64</td></tr></thead><tbody><tr><td>1</td><td>1</td><td>1</td><td>0</td><td>294224.331</td><td>45.75</td><td>42.5</td></tr><tr><td>1</td><td>1</td><td>1</td><td>1</td><td>294357.9645</td><td>45.750102</td><td>42.5</td></tr><tr><td>1</td><td>1</td><td>1</td><td>2</td><td>294458.0292</td><td>45.75041</td><td>35.375</td></tr><tr><td>1</td><td>1</td><td>1</td><td>3</td><td>294558.6006</td><td>45.750922</td><td>14.875</td></tr><tr><td>1</td><td>1</td><td>1</td><td>4</td><td>294658.3354</td><td>45.751639</td><td>10.125</td></tr><tr><td>1</td><td>1</td><td>1</td><td>5</td><td>294758.4957</td><td>45.75256</td><td>22.75</td></tr><tr><td>&hellip;</td><td>&hellip;</td><td>&hellip;</td><td>&hellip;</td><td>&hellip;</td><td>&hellip;</td><td>&hellip;</td></tr><tr><td>332</td><td>12</td><td>28</td><td>21606</td><td>2.7766e6</td><td>45.587356</td><td>85.0</td></tr><tr><td>332</td><td>12</td><td>28</td><td>21607</td><td>2.7767e6</td><td>45.585285</td><td>85.0</td></tr><tr><td>332</td><td>12</td><td>28</td><td>21608</td><td>2.7768e6</td><td>45.583802</td><td>85.0</td></tr><tr><td>332</td><td>12</td><td>28</td><td>21609</td><td>2.7769e6</td><td>45.582911</td><td>85.0</td></tr><tr><td>332</td><td>12</td><td>28</td><td>21610</td><td>2.7770e6</td><td>45.582614</td><td>85.0</td></tr><tr><td>332</td><td>12</td><td>28</td><td>21611</td><td>2.7771e6</td><td>45.582614</td><td>85.0</td></tr></tbody></table></div>"
      ],
      "text/plain": [
       "shape: (597_860, 7)\n",
       "┌──────────┬──────────────┬────────────────┬───────────┬─────────────┬─────────────┬────────┐\n",
       "│ trial_id ┆ trial_number ┆ participant_id ┆ rownumber ┆ timestamp   ┆ temperature ┆ rating │\n",
       "│ ---      ┆ ---          ┆ ---            ┆ ---       ┆ ---         ┆ ---         ┆ ---    │\n",
       "│ u16      ┆ u8           ┆ u8             ┆ u32       ┆ f64         ┆ f64         ┆ f64    │\n",
       "╞══════════╪══════════════╪════════════════╪═══════════╪═════════════╪═════════════╪════════╡\n",
       "│ 1        ┆ 1            ┆ 1              ┆ 0         ┆ 294224.331  ┆ 45.75       ┆ 42.5   │\n",
       "│ 1        ┆ 1            ┆ 1              ┆ 1         ┆ 294357.9645 ┆ 45.750102   ┆ 42.5   │\n",
       "│ 1        ┆ 1            ┆ 1              ┆ 2         ┆ 294458.0292 ┆ 45.75041    ┆ 35.375 │\n",
       "│ 1        ┆ 1            ┆ 1              ┆ 3         ┆ 294558.6006 ┆ 45.750922   ┆ 14.875 │\n",
       "│ 1        ┆ 1            ┆ 1              ┆ 4         ┆ 294658.3354 ┆ 45.751639   ┆ 10.125 │\n",
       "│ 1        ┆ 1            ┆ 1              ┆ 5         ┆ 294758.4957 ┆ 45.75256    ┆ 22.75  │\n",
       "│ …        ┆ …            ┆ …              ┆ …         ┆ …           ┆ …           ┆ …      │\n",
       "│ 332      ┆ 12           ┆ 28             ┆ 21606     ┆ 2.7766e6    ┆ 45.587356   ┆ 85.0   │\n",
       "│ 332      ┆ 12           ┆ 28             ┆ 21607     ┆ 2.7767e6    ┆ 45.585285   ┆ 85.0   │\n",
       "│ 332      ┆ 12           ┆ 28             ┆ 21608     ┆ 2.7768e6    ┆ 45.583802   ┆ 85.0   │\n",
       "│ 332      ┆ 12           ┆ 28             ┆ 21609     ┆ 2.7769e6    ┆ 45.582911   ┆ 85.0   │\n",
       "│ 332      ┆ 12           ┆ 28             ┆ 21610     ┆ 2.7770e6    ┆ 45.582614   ┆ 85.0   │\n",
       "│ 332      ┆ 12           ┆ 28             ┆ 21611     ┆ 2.7771e6    ┆ 45.582614   ┆ 85.0   │\n",
       "└──────────┴──────────────┴────────────────┴───────────┴─────────────┴─────────────┴────────┘"
      ]
     },
     "execution_count": 4,
     "metadata": {},
     "output_type": "execute_result"
    }
   ],
   "source": [
    "with db:\n",
    "    df = db.read_table(\"Raw_Stimulus\")\n",
    "df"
   ]
  },
  {
   "cell_type": "code",
   "execution_count": null,
   "metadata": {},
   "outputs": [],
   "source": []
  }
 ],
 "metadata": {
  "kernelspec": {
   "display_name": "learning",
   "language": "python",
   "name": "python3"
  },
  "language_info": {
   "codemirror_mode": {
    "name": "ipython",
    "version": 3
   },
   "file_extension": ".py",
   "mimetype": "text/x-python",
   "name": "python",
   "nbconvert_exporter": "python",
   "pygments_lexer": "ipython3",
   "version": "3.12.4"
  },
  "orig_nbformat": 4
 },
 "nbformat": 4,
 "nbformat_minor": 2
}
