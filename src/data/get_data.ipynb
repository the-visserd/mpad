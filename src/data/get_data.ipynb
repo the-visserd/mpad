{
 "cells": [
  {
   "cell_type": "markdown",
   "metadata": {},
   "source": [
    "## Sample Script for 1 df\n"
   ]
  },
  {
   "cell_type": "markdown",
   "metadata": {},
   "source": [
    "- hz for each to_csv#\n",
    "- anfangen mit preprocessing :)"
   ]
  },
  {
   "cell_type": "markdown",
   "metadata": {},
   "source": [
    "# TODO\n",
    "- find out how red marked stimuli section in imotions are saved in the data"
   ]
  },
  {
   "cell_type": "code",
   "execution_count": 1,
   "metadata": {},
   "outputs": [],
   "source": [
    "# TODO: Round all timestamps to remove floating point weirdness\n",
    "# 447,929.23030000000006, ...\n",
    "# 448,929.2894, ...\n",
    "# -> add as function to transformations of raw data, even imotions data?"
   ]
  },
  {
   "cell_type": "code",
   "execution_count": 2,
   "metadata": {},
   "outputs": [],
   "source": [
    "import os\n",
    "import sys\n",
    "from pathlib import Path\n",
    "\n",
    "\n",
    "PROJECT_DIR = Path.cwd()\n",
    "if PROJECT_DIR.stem == 'data':\n",
    "    PROJECT_DIR = PROJECT_DIR.parents[1]\n",
    "    sys.path.insert(0, PROJECT_DIR.as_posix())\n",
    "    os.chdir(PROJECT_DIR.as_posix())\n",
    "    %load_ext autoreload\n",
    "    %autoreload 2"
   ]
  },
  {
   "cell_type": "code",
   "execution_count": 3,
   "metadata": {},
   "outputs": [],
   "source": [
    "from typing import List, Union, Optional, Tuple, Dict, Any\n",
    "\n",
    "import pandas as pd\n",
    "import numpy as np\n",
    "import matplotlib.pyplot as plt\n",
    "import plotly.express as px\n",
    "\n",
    "from src.helper_func import flatten_list, print_size\n",
    "from src.data.config_participant import PARTICIPANT_LIST, ParticipantConfig\n",
    "from src.data.config_data import DataConfigBase\n",
    "from src.data.config_data_imotions import IMOTIONS_LIST, iMotionsConfig\n",
    "from src.data.config_data_raw import RAW_LIST, RawConfig\n",
    "from src.data.config_data_trial import TRIAL_LIST, TrialConfig\n",
    "from src.data.process_data import load_participant_datasets, load_participant_datasets_pl, Participant, Data, save_participant_datasets\n",
    "from src.data.transform_data import apply_func_participant, create_trial_index, reorder_multiindex, interpolate, resample, resample_to_500hz, standardize, normalize\n",
    "\n",
    "pd.options.mode.chained_assignment = 'warn'  # default='warn'\n"
   ]
  },
  {
   "cell_type": "code",
   "execution_count": 4,
   "metadata": {},
   "outputs": [],
   "source": [
    "# participant_raw = load_participant_datasets_pl(PARTICIPANT_LIST[0], RAW_LIST)\n",
    "participant = load_participant_datasets(PARTICIPANT_LIST[0], TRIAL_LIST)"
   ]
  },
  {
   "cell_type": "code",
   "execution_count": 17,
   "metadata": {},
   "outputs": [
    {
     "data": {
      "text/plain": [
       "FrozenList([None])"
      ]
     },
     "execution_count": 17,
     "metadata": {},
     "output_type": "execute_result"
    }
   ],
   "source": [
    "participant.eeg.index.names"
   ]
  },
  {
   "cell_type": "code",
   "execution_count": null,
   "metadata": {},
   "outputs": [
    {
     "data": {
      "text/plain": [
       "Time         0\n",
       "Timestamp    0\n",
       "Rating       0\n",
       "dtype: int64"
      ]
     },
     "execution_count": 12,
     "metadata": {},
     "output_type": "execute_result"
    }
   ],
   "source": [
    "def interpolate(df, method='linear'):\n",
    "    columns_to_interpolate = df.columns[(df.dtypes == float)]\n",
    "    if 'Trial' in df.index.names:\n",
    "        df[columns_to_interpolate] = df.groupby('Trial')[columns_to_interpolate].transform(lambda x: x.interpolate(method=method))\n",
    "    else:\n",
    "        df[columns_to_interpolate] = df[columns_to_interpolate].interpolate(method=method)\n",
    "    return df\n",
    "\n",
    "a = interpolate(participant.rating)\n",
    "# count nan values\n",
    "a.isna().sum()"
   ]
  },
  {
   "cell_type": "code",
   "execution_count": null,
   "metadata": {},
   "outputs": [
    {
     "data": {
      "text/html": [
       "<div>\n",
       "<style scoped>\n",
       "    .dataframe tbody tr th:only-of-type {\n",
       "        vertical-align: middle;\n",
       "    }\n",
       "\n",
       "    .dataframe tbody tr th {\n",
       "        vertical-align: top;\n",
       "    }\n",
       "\n",
       "    .dataframe thead th {\n",
       "        text-align: right;\n",
       "    }\n",
       "</style>\n",
       "<table border=\"1\" class=\"dataframe\">\n",
       "  <thead>\n",
       "    <tr style=\"text-align: right;\">\n",
       "      <th></th>\n",
       "      <th>Timestamp</th>\n",
       "      <th>EDA_d_Battery</th>\n",
       "      <th>EDA_RAW</th>\n",
       "      <th>EDA_d_PacketReceptionRate</th>\n",
       "      <th>Stimuli_Seed</th>\n",
       "    </tr>\n",
       "    <tr>\n",
       "      <th>Trial</th>\n",
       "      <th></th>\n",
       "      <th></th>\n",
       "      <th></th>\n",
       "      <th></th>\n",
       "      <th></th>\n",
       "    </tr>\n",
       "  </thead>\n",
       "  <tbody>\n",
       "    <tr>\n",
       "      <th>1</th>\n",
       "      <td>1.880411e+05</td>\n",
       "      <td>NaN</td>\n",
       "      <td>NaN</td>\n",
       "      <td>NaN</td>\n",
       "      <td>1</td>\n",
       "    </tr>\n",
       "    <tr>\n",
       "      <th>1</th>\n",
       "      <td>1.880461e+05</td>\n",
       "      <td>3638.112821</td>\n",
       "      <td>6.057357</td>\n",
       "      <td>100.0</td>\n",
       "      <td>1</td>\n",
       "    </tr>\n",
       "    <tr>\n",
       "      <th>1</th>\n",
       "      <td>1.880491e+05</td>\n",
       "      <td>3659.958974</td>\n",
       "      <td>6.062463</td>\n",
       "      <td>100.0</td>\n",
       "      <td>1</td>\n",
       "    </tr>\n",
       "    <tr>\n",
       "      <th>1</th>\n",
       "      <td>1.880491e+05</td>\n",
       "      <td>3655.589744</td>\n",
       "      <td>6.057357</td>\n",
       "      <td>100.0</td>\n",
       "      <td>1</td>\n",
       "    </tr>\n",
       "    <tr>\n",
       "      <th>1</th>\n",
       "      <td>1.880640e+05</td>\n",
       "      <td>3620.635897</td>\n",
       "      <td>6.057357</td>\n",
       "      <td>100.0</td>\n",
       "      <td>1</td>\n",
       "    </tr>\n",
       "    <tr>\n",
       "      <th>...</th>\n",
       "      <td>...</td>\n",
       "      <td>...</td>\n",
       "      <td>...</td>\n",
       "      <td>...</td>\n",
       "      <td>...</td>\n",
       "    </tr>\n",
       "    <tr>\n",
       "      <th>6</th>\n",
       "      <td>2.303530e+06</td>\n",
       "      <td>3617.723077</td>\n",
       "      <td>4.520683</td>\n",
       "      <td>99.0</td>\n",
       "      <td>6</td>\n",
       "    </tr>\n",
       "    <tr>\n",
       "      <th>6</th>\n",
       "      <td>2.303537e+06</td>\n",
       "      <td>3630.830769</td>\n",
       "      <td>4.515577</td>\n",
       "      <td>99.0</td>\n",
       "      <td>6</td>\n",
       "    </tr>\n",
       "    <tr>\n",
       "      <th>6</th>\n",
       "      <td>2.303552e+06</td>\n",
       "      <td>3617.723077</td>\n",
       "      <td>4.520683</td>\n",
       "      <td>99.0</td>\n",
       "      <td>6</td>\n",
       "    </tr>\n",
       "    <tr>\n",
       "      <th>6</th>\n",
       "      <td>2.303552e+06</td>\n",
       "      <td>3616.266667</td>\n",
       "      <td>4.520683</td>\n",
       "      <td>99.0</td>\n",
       "      <td>6</td>\n",
       "    </tr>\n",
       "    <tr>\n",
       "      <th>6</th>\n",
       "      <td>2.303572e+06</td>\n",
       "      <td>NaN</td>\n",
       "      <td>NaN</td>\n",
       "      <td>NaN</td>\n",
       "      <td>6</td>\n",
       "    </tr>\n",
       "  </tbody>\n",
       "</table>\n",
       "<p>215089 rows × 5 columns</p>\n",
       "</div>"
      ],
      "text/plain": [
       "          Timestamp  EDA_d_Battery   EDA_RAW  EDA_d_PacketReceptionRate  \\\n",
       "Trial                                                                     \n",
       "1      1.880411e+05            NaN       NaN                        NaN   \n",
       "1      1.880461e+05    3638.112821  6.057357                      100.0   \n",
       "1      1.880491e+05    3659.958974  6.062463                      100.0   \n",
       "1      1.880491e+05    3655.589744  6.057357                      100.0   \n",
       "1      1.880640e+05    3620.635897  6.057357                      100.0   \n",
       "...             ...            ...       ...                        ...   \n",
       "6      2.303530e+06    3617.723077  4.520683                       99.0   \n",
       "6      2.303537e+06    3630.830769  4.515577                       99.0   \n",
       "6      2.303552e+06    3617.723077  4.520683                       99.0   \n",
       "6      2.303552e+06    3616.266667  4.520683                       99.0   \n",
       "6      2.303572e+06            NaN       NaN                        NaN   \n",
       "\n",
       "       Stimuli_Seed  \n",
       "Trial                \n",
       "1                 1  \n",
       "1                 1  \n",
       "1                 1  \n",
       "1                 1  \n",
       "1                 1  \n",
       "...             ...  \n",
       "6                 6  \n",
       "6                 6  \n",
       "6                 6  \n",
       "6                 6  \n",
       "6                 6  \n",
       "\n",
       "[215089 rows x 5 columns]"
      ]
     },
     "metadata": {},
     "output_type": "display_data"
    },
    {
     "data": {
      "text/html": [
       "<div>\n",
       "<style scoped>\n",
       "    .dataframe tbody tr th:only-of-type {\n",
       "        vertical-align: middle;\n",
       "    }\n",
       "\n",
       "    .dataframe tbody tr th {\n",
       "        vertical-align: top;\n",
       "    }\n",
       "\n",
       "    .dataframe thead th {\n",
       "        text-align: right;\n",
       "    }\n",
       "</style>\n",
       "<table border=\"1\" class=\"dataframe\">\n",
       "  <thead>\n",
       "    <tr style=\"text-align: right;\">\n",
       "      <th></th>\n",
       "      <th>Timestamp</th>\n",
       "      <th>Temperature</th>\n",
       "      <th>Stimuli_Seed</th>\n",
       "    </tr>\n",
       "    <tr>\n",
       "      <th>Trial</th>\n",
       "      <th></th>\n",
       "      <th></th>\n",
       "      <th></th>\n",
       "    </tr>\n",
       "  </thead>\n",
       "  <tbody>\n",
       "    <tr>\n",
       "      <th>1</th>\n",
       "      <td>1.880411e+05</td>\n",
       "      <td>NaN</td>\n",
       "      <td>1</td>\n",
       "    </tr>\n",
       "    <tr>\n",
       "      <th>1</th>\n",
       "      <td>1.880471e+05</td>\n",
       "      <td>38.600</td>\n",
       "      <td>1</td>\n",
       "    </tr>\n",
       "    <tr>\n",
       "      <th>1</th>\n",
       "      <td>1.880820e+05</td>\n",
       "      <td>38.600</td>\n",
       "      <td>1</td>\n",
       "    </tr>\n",
       "    <tr>\n",
       "      <th>1</th>\n",
       "      <td>1.880979e+05</td>\n",
       "      <td>38.600</td>\n",
       "      <td>1</td>\n",
       "    </tr>\n",
       "    <tr>\n",
       "      <th>1</th>\n",
       "      <td>1.881139e+05</td>\n",
       "      <td>38.600</td>\n",
       "      <td>1</td>\n",
       "    </tr>\n",
       "    <tr>\n",
       "      <th>...</th>\n",
       "      <td>...</td>\n",
       "      <td>...</td>\n",
       "      <td>...</td>\n",
       "    </tr>\n",
       "    <tr>\n",
       "      <th>6</th>\n",
       "      <td>2.303465e+06</td>\n",
       "      <td>40.982</td>\n",
       "      <td>6</td>\n",
       "    </tr>\n",
       "    <tr>\n",
       "      <th>6</th>\n",
       "      <td>2.303482e+06</td>\n",
       "      <td>40.983</td>\n",
       "      <td>6</td>\n",
       "    </tr>\n",
       "    <tr>\n",
       "      <th>6</th>\n",
       "      <td>2.303499e+06</td>\n",
       "      <td>40.983</td>\n",
       "      <td>6</td>\n",
       "    </tr>\n",
       "    <tr>\n",
       "      <th>6</th>\n",
       "      <td>2.303515e+06</td>\n",
       "      <td>40.984</td>\n",
       "      <td>6</td>\n",
       "    </tr>\n",
       "    <tr>\n",
       "      <th>6</th>\n",
       "      <td>2.303572e+06</td>\n",
       "      <td>NaN</td>\n",
       "      <td>6</td>\n",
       "    </tr>\n",
       "  </tbody>\n",
       "</table>\n",
       "<p>96527 rows × 3 columns</p>\n",
       "</div>"
      ],
      "text/plain": [
       "          Timestamp  Temperature  Stimuli_Seed\n",
       "Trial                                         \n",
       "1      1.880411e+05          NaN             1\n",
       "1      1.880471e+05       38.600             1\n",
       "1      1.880820e+05       38.600             1\n",
       "1      1.880979e+05       38.600             1\n",
       "1      1.881139e+05       38.600             1\n",
       "...             ...          ...           ...\n",
       "6      2.303465e+06       40.982             6\n",
       "6      2.303482e+06       40.983             6\n",
       "6      2.303499e+06       40.983             6\n",
       "6      2.303515e+06       40.984             6\n",
       "6      2.303572e+06          NaN             6\n",
       "\n",
       "[96527 rows x 3 columns]"
      ]
     },
     "metadata": {},
     "output_type": "display_data"
    }
   ],
   "source": [
    "\n",
    "\n",
    "def create_trial_index(df):\n",
    "    \"\"\"Create a trial index based on the stimuli seed which is originally send once at the start and end of each trial.\"\"\"\n",
    "    # Check if the trial index already exists\n",
    "    if 'Trial' in df.index.names:\n",
    "        return df\n",
    "    # 0. Check if all trials are complete  # TODO\n",
    "    # 1. Forward fill and backward fill columns\n",
    "    ffill = df['Stimuli_Seed'].ffill()\n",
    "    bfill = df['Stimuli_Seed'].bfill()\n",
    "    # 2. Where forward fill and backward fill are equal, replace the NaNs in the original Stimuli_Seed\n",
    "    df['Stimuli_Seed'] = np.where(ffill == bfill, ffill, df['Stimuli_Seed'])\n",
    "    # 3. Only keep rows where the Stimuli_Seed is not NaN\n",
    "    df = df[df['Stimuli_Seed'].notna()]\n",
    "    df['Stimuli_Seed'] = df['Stimuli_Seed'].astype(int)\n",
    "    # Create a new column that contains the trial number\n",
    "    df['Trial'] = df.Stimuli_Seed.diff().ne(0).cumsum()\n",
    "    # Add Trial to the index\n",
    "    df.set_index('Trial', append=True if 'Time' in df.index.names else False, inplace=True)\n",
    "    return df\n",
    "\n",
    "participant = add_stimuli_seed_column_participant(participant)\n",
    "display(participant.eda)\n",
    "participant_ = apply_func_participant(participant, create_trial_index)\n",
    "display(participant_.temperature)"
   ]
  },
  {
   "cell_type": "code",
   "execution_count": null,
   "metadata": {},
   "outputs": [],
   "source": [
    "def apply_func_participant(participant, func):\n",
    "    #TODO: use map instead, e.g.:\n",
    "    # dict(zip(a, map(f, a.values())))\n",
    "    # dict(map(lambda item: (item[0], f(item[1])), my_dictionary.items()\n",
    "    for data in participant.datasets:\n",
    "        participant.datasets[data].dataset = func(participant.datasets[data].dataset)\n",
    "    return participant\n"
   ]
  },
  {
   "cell_type": "code",
   "execution_count": null,
   "metadata": {},
   "outputs": [
    {
     "data": {
      "text/plain": [
       "Participant(id='001_pilot_bjoern', datasets={'trial': Data(name='trial', dataset=                           Timestamp  Stimuli_Seed\n",
       "Time                                              \n",
       "0 days 00:03:08.041000  1.880411e+05             1\n",
       "0 days 00:07:48.086000  4.680859e+05             1\n",
       "0 days 00:09:09.707000  5.497068e+05             2\n",
       "0 days 00:13:49.753000  8.297534e+05             2\n",
       "0 days 00:14:59.310000  8.993097e+05             3\n",
       "0 days 00:19:39.322000  1.179322e+06             3\n",
       "0 days 00:21:36.641000  1.296641e+06             4\n",
       "0 days 00:26:16.673000  1.576673e+06             4\n",
       "0 days 00:28:19.855000  1.699855e+06             5\n",
       "0 days 00:32:59.885000  1.979885e+06             5\n",
       "0 days 00:33:43.541000  2.023541e+06             6\n",
       "0 days 00:38:23.572000  2.303572e+06             6), 'temperature': Data(name='temperature', dataset=                           Timestamp  Temperature\n",
       "Time                                             \n",
       "0 days 00:03:08.047000  1.880471e+05       38.600\n",
       "0 days 00:03:08.082000  1.880820e+05       38.600\n",
       "0 days 00:03:08.098000  1.880979e+05       38.600\n",
       "0 days 00:03:08.114000  1.881139e+05       38.600\n",
       "0 days 00:03:08.131000  1.881308e+05       38.600\n",
       "...                              ...          ...\n",
       "0 days 00:38:23.449000  2.303449e+06       40.981\n",
       "0 days 00:38:23.465000  2.303465e+06       40.982\n",
       "0 days 00:38:23.482000  2.303482e+06       40.983\n",
       "0 days 00:38:23.499000  2.303499e+06       40.983\n",
       "0 days 00:38:23.515000  2.303515e+06       40.984\n",
       "\n",
       "[96515 rows x 2 columns]), 'rating': Data(name='rating', dataset=                           Timestamp  Rating\n",
       "Time                                        \n",
       "0 days 00:03:08.047000  1.880471e+05  48.083\n",
       "0 days 00:03:08.081000  1.880810e+05  48.083\n",
       "0 days 00:03:08.098000  1.880979e+05  48.083\n",
       "0 days 00:03:08.114000  1.881139e+05  48.083\n",
       "0 days 00:03:08.131000  1.881308e+05  48.083\n",
       "...                              ...     ...\n",
       "0 days 00:38:23.482000  2.303482e+06  27.000\n",
       "0 days 00:38:23.499000  2.303499e+06  27.000\n",
       "0 days 00:38:23.515000  2.303515e+06  27.000\n",
       "0 days 00:38:23.549000  2.303549e+06  27.000\n",
       "0 days 00:38:23.565000  2.303565e+06  27.000\n",
       "\n",
       "[96528 rows x 2 columns]), 'eda': Data(name='eda', dataset=                           Timestamp  EDA_d_Battery   EDA_RAW  \\\n",
       "Time                                                            \n",
       "0 days 00:00:00.051000  5.086220e+01    3648.307692  7.343876   \n",
       "0 days 00:00:00.052000  5.186180e+01    3654.133333  7.338770   \n",
       "0 days 00:00:00.077000  7.679510e+01    3638.112821  7.333665   \n",
       "0 days 00:00:00.079000  7.878750e+01    3642.482051  7.333665   \n",
       "0 days 00:00:00.082000  8.178160e+01    3665.784615  7.333665   \n",
       "...                              ...            ...       ...   \n",
       "0 days 00:40:02.573000  2.402573e+06    3627.917949  0.009990   \n",
       "0 days 00:40:02.574000  2.402574e+06    3617.723077  0.009990   \n",
       "0 days 00:40:02.588000  2.402588e+06    3616.266667  0.009546   \n",
       "0 days 00:40:02.590000  2.402590e+06    3627.917949  0.009990   \n",
       "0 days 00:40:02.592000  2.402592e+06    3625.005128  0.009990   \n",
       "\n",
       "                        EDA_d_PacketReceptionRate  \n",
       "Time                                               \n",
       "0 days 00:00:00.051000                        100  \n",
       "0 days 00:00:00.052000                        100  \n",
       "0 days 00:00:00.077000                        100  \n",
       "0 days 00:00:00.079000                        100  \n",
       "0 days 00:00:00.082000                        100  \n",
       "...                                           ...  \n",
       "0 days 00:40:02.573000                         99  \n",
       "0 days 00:40:02.574000                         99  \n",
       "0 days 00:40:02.588000                         99  \n",
       "0 days 00:40:02.590000                         99  \n",
       "0 days 00:40:02.592000                         99  \n",
       "\n",
       "[240373 rows x 4 columns]), 'ecg': Data(name='ecg', dataset=                           Timestamp  ECG_d_Battery  ECG_LL-RA  ECG_LA-RA  \\\n",
       "Time                                                                        \n",
       "0 days 00:00:00.031000  3.091710e+01    3756.082051  -1.135844  -1.051389   \n",
       "0 days 00:00:00.032000  3.191310e+01    3758.994872  -1.071150  -0.916161   \n",
       "0 days 00:00:00.091000  9.137120e+01    3756.082051  -1.064010  -0.881759   \n",
       "0 days 00:00:00.164000  1.641774e+02    3757.538462  -1.019367  -0.854425   \n",
       "0 days 00:00:00.165000  1.651748e+02    3758.994872  -1.016050  -0.854209   \n",
       "...                              ...            ...        ...        ...   \n",
       "0 days 00:40:02.562000  2.402562e+06    3747.343590  -2.382250  -1.163106   \n",
       "0 days 00:40:02.563000  2.402563e+06    3716.758974  -2.410738  -1.161086   \n",
       "0 days 00:40:02.577000  2.402577e+06    3747.343590  -2.369412  -1.140171   \n",
       "0 days 00:40:02.578000  2.402578e+06    3745.887179  -2.344097  -1.149330   \n",
       "0 days 00:40:02.579000  2.402579e+06    3745.887179  -2.335370  -1.125602   \n",
       "\n",
       "                         ECG_Vx-RL  ECG_LL-RA_HeartRate  ECG_LL-RA_IBI  \\\n",
       "Time                                                                     \n",
       "0 days 00:00:00.031000 -603.606394            61.440000           -1.0   \n",
       "0 days 00:00:00.032000 -603.563698            61.440000           -1.0   \n",
       "0 days 00:00:00.091000 -603.575598            61.440000           -1.0   \n",
       "0 days 00:00:00.164000 -603.580863            61.440000           -1.0   \n",
       "0 days 00:00:00.165000 -603.577545            61.440000           -1.0   \n",
       "...                            ...                  ...            ...   \n",
       "0 days 00:40:02.562000 -602.938475            84.164384           -1.0   \n",
       "0 days 00:40:02.563000 -602.945543            84.164384           -1.0   \n",
       "0 days 00:40:02.577000 -602.939990            84.164384           -1.0   \n",
       "0 days 00:40:02.578000 -602.931768            84.164384           -1.0   \n",
       "0 days 00:40:02.579000 -602.921094            84.164384           -1.0   \n",
       "\n",
       "                        ECG_d_PacketReceptionRate  \n",
       "Time                                               \n",
       "0 days 00:00:00.031000                         99  \n",
       "0 days 00:00:00.032000                         99  \n",
       "0 days 00:00:00.091000                         99  \n",
       "0 days 00:00:00.164000                         99  \n",
       "0 days 00:00:00.165000                         99  \n",
       "...                                           ...  \n",
       "0 days 00:40:02.562000                         74  \n",
       "0 days 00:40:02.563000                         74  \n",
       "0 days 00:40:02.577000                         74  \n",
       "0 days 00:40:02.578000                         74  \n",
       "0 days 00:40:02.579000                         74  \n",
       "\n",
       "[121990 rows x 8 columns]), 'eeg': Data(name='eeg', dataset=                           Timestamp  EEG_RAW_Ch1  EEG_RAW_Ch2   EEG_RAW_Ch3  \\\n",
       "Time                                                                           \n",
       "0 days 00:00:00.060000  5.982810e+01 -4361.342773 -6395.005859  12318.420898   \n",
       "0 days 00:00:00.061000  6.073260e+01 -4378.127930 -6398.058105  12304.640625   \n",
       "0 days 00:00:00.062000  6.153330e+01 -4371.070801 -6392.098145  12302.114258   \n",
       "0 days 00:00:00.085000  8.528460e+01 -4367.304199 -6371.784180  12318.660156   \n",
       "0 days 00:00:00.086000  8.560350e+01 -4364.299805 -6376.695801  12313.272461   \n",
       "...                              ...          ...          ...           ...   \n",
       "0 days 00:40:02.553000  2.402553e+06 -3965.711914 -6132.173828  17762.138672   \n",
       "0 days 00:40:02.554000  2.402554e+06 -3967.810059 -6117.249023  17771.341797   \n",
       "0 days 00:40:02.587000  2.402587e+06 -3970.528076 -6125.832031  17759.371094   \n",
       "0 days 00:40:02.588000  2.402588e+06 -3966.999023 -6141.949219  17753.554688   \n",
       "0 days 00:40:02.589000  2.402589e+06 -4020.405029 -6156.349121  17736.007812   \n",
       "\n",
       "                        EEG_RAW_Ch4  EEG_RAW_Ch5  EEG_RAW_Ch6  EEG_RAW_Ch7  \\\n",
       "Time                                                                         \n",
       "0 days 00:00:00.060000 -2381.229004  1936.005981  6634.855957 -3910.541992   \n",
       "0 days 00:00:00.061000 -2397.156006  1917.362061  6626.082031 -3919.648926   \n",
       "0 days 00:00:00.062000 -2395.200928  1909.685059  6622.314941 -3924.561035   \n",
       "0 days 00:00:00.085000 -2379.226074  1930.618042  6636.857910 -3904.437988   \n",
       "0 days 00:00:00.086000 -2384.614990  1926.469971  6631.088867 -3908.968018   \n",
       "...                             ...          ...          ...          ...   \n",
       "0 days 00:40:02.553000 -2062.606934  2934.933105  6535.625977 -4683.304199   \n",
       "0 days 00:40:02.554000 -2061.604980  2956.152100  6540.107910 -4678.583008   \n",
       "0 days 00:40:02.587000 -2079.295898  2938.080078  6530.713867 -4701.948242   \n",
       "0 days 00:40:02.588000 -2082.156982  2927.208008  6516.457031 -4702.758789   \n",
       "0 days 00:40:02.589000 -2098.368896  2915.048096  6500.196777 -4713.964844   \n",
       "\n",
       "                        EEG_RAW_Ch8  \n",
       "Time                                 \n",
       "0 days 00:00:00.060000 -2543.639893  \n",
       "0 days 00:00:00.061000 -2557.373047  \n",
       "0 days 00:00:00.062000 -2567.434082  \n",
       "0 days 00:00:00.085000 -2546.072021  \n",
       "0 days 00:00:00.086000 -2547.835938  \n",
       "...                             ...  \n",
       "0 days 00:40:02.553000 -2131.414062  \n",
       "0 days 00:40:02.554000 -2119.684082  \n",
       "0 days 00:40:02.587000 -2132.462891  \n",
       "0 days 00:40:02.588000 -2143.812012  \n",
       "0 days 00:40:02.589000 -2159.405029  \n",
       "\n",
       "[253062 rows x 9 columns]), 'pupillometry': Data(name='pupillometry', dataset=                           Timestamp  Pupillometry_L  Pupillometry_R  \\\n",
       "Time                                                                   \n",
       "0 days 00:00:00.002000  1.938900e+00        2.762118        2.707741   \n",
       "0 days 00:00:00.019000  1.869250e+01        2.756662        2.711636   \n",
       "0 days 00:00:00.035000  3.538050e+01        2.755117        2.708117   \n",
       "0 days 00:00:00.052000  5.209090e+01        2.747745        2.707350   \n",
       "0 days 00:00:00.069000  6.869730e+01        2.745060        2.701643   \n",
       "...                              ...             ...             ...   \n",
       "0 days 00:40:02.533000  2.402533e+06       -1.000000       -1.000000   \n",
       "0 days 00:40:02.549000  2.402549e+06       -1.000000       -1.000000   \n",
       "0 days 00:40:02.566000  2.402566e+06       -1.000000       -1.000000   \n",
       "0 days 00:40:02.583000  2.402583e+06       -1.000000       -1.000000   \n",
       "0 days 00:40:02.600000  2.402600e+06       -1.000000       -1.000000   \n",
       "\n",
       "                        Pupillometry_L_Distance  Pupillometry_R_Distance  \n",
       "Time                                                                      \n",
       "0 days 00:00:00.002000               672.352112               676.247864  \n",
       "0 days 00:00:00.019000               672.289917               676.189270  \n",
       "0 days 00:00:00.035000               672.204529               676.030701  \n",
       "0 days 00:00:00.052000               672.198669               676.033203  \n",
       "0 days 00:00:00.069000               672.148315               675.933899  \n",
       "...                                         ...                      ...  \n",
       "0 days 00:40:02.533000                -1.000000                -1.000000  \n",
       "0 days 00:40:02.549000                -1.000000                -1.000000  \n",
       "0 days 00:40:02.566000                -1.000000                -1.000000  \n",
       "0 days 00:40:02.583000                -1.000000                -1.000000  \n",
       "0 days 00:40:02.600000                -1.000000                -1.000000  \n",
       "\n",
       "[143981 rows x 5 columns]), 'affectiva': Data(name='affectiva', dataset=                             Timestamp  Anger  Contempt  Disgust  Fear  Joy  \\\n",
       "Time                                                                          \n",
       "-1 days +23:59:59.917000 -8.277890e+01    NaN       NaN      NaN   NaN  NaN   \n",
       "-1 days +23:59:59.968000 -3.191680e+01    NaN       NaN      NaN   NaN  NaN   \n",
       "0 days 00:00:00.008000    7.977300e+00    NaN       NaN      NaN   NaN  NaN   \n",
       "0 days 00:00:00.017000    1.695290e+01    NaN       NaN      NaN   NaN  NaN   \n",
       "0 days 00:00:00.165000    1.651748e+02    NaN       NaN      NaN   NaN  NaN   \n",
       "...                                ...    ...       ...      ...   ...  ...   \n",
       "0 days 00:40:02.443000    2.402443e+06    NaN       NaN      NaN   NaN  NaN   \n",
       "0 days 00:40:02.448000    2.402448e+06    NaN       NaN      NaN   NaN  NaN   \n",
       "0 days 00:40:02.489000    2.402489e+06    NaN       NaN      NaN   NaN  NaN   \n",
       "0 days 00:40:02.492000    2.402492e+06    NaN       NaN      NaN   NaN  NaN   \n",
       "0 days 00:40:02.534000    2.402534e+06    NaN       NaN      NaN   NaN  NaN   \n",
       "\n",
       "                          Sadness  Surprise  Engagement  Valence  ...  \\\n",
       "Time                                                              ...   \n",
       "-1 days +23:59:59.917000      NaN       NaN         NaN      NaN  ...   \n",
       "-1 days +23:59:59.968000      NaN       NaN         NaN      NaN  ...   \n",
       "0 days 00:00:00.008000        NaN       NaN         NaN      NaN  ...   \n",
       "0 days 00:00:00.017000        NaN       NaN         NaN      NaN  ...   \n",
       "0 days 00:00:00.165000        NaN       NaN         NaN      NaN  ...   \n",
       "...                           ...       ...         ...      ...  ...   \n",
       "0 days 00:40:02.443000        NaN       NaN         NaN      NaN  ...   \n",
       "0 days 00:40:02.448000        NaN       NaN         NaN      NaN  ...   \n",
       "0 days 00:40:02.489000        NaN       NaN         NaN      NaN  ...   \n",
       "0 days 00:40:02.492000        NaN       NaN         NaN      NaN  ...   \n",
       "0 days 00:40:02.534000        NaN       NaN         NaN      NaN  ...   \n",
       "\n",
       "                          Nose Wrinkle  Smile  Smirk  Upper Lip Raise  Blink  \\\n",
       "Time                                                                           \n",
       "-1 days +23:59:59.917000           NaN    NaN    NaN              NaN    NaN   \n",
       "-1 days +23:59:59.968000           NaN    NaN    NaN              NaN    NaN   \n",
       "0 days 00:00:00.008000             NaN    NaN    NaN              NaN    NaN   \n",
       "0 days 00:00:00.017000             NaN    NaN    NaN              NaN    NaN   \n",
       "0 days 00:00:00.165000             NaN    NaN    NaN              NaN    NaN   \n",
       "...                                ...    ...    ...              ...    ...   \n",
       "0 days 00:40:02.443000             NaN    NaN    NaN              NaN    NaN   \n",
       "0 days 00:40:02.448000             NaN    NaN    NaN              NaN    NaN   \n",
       "0 days 00:40:02.489000             NaN    NaN    NaN              NaN    NaN   \n",
       "0 days 00:40:02.492000             NaN    NaN    NaN              NaN    NaN   \n",
       "0 days 00:40:02.534000             NaN    NaN    NaN              NaN    NaN   \n",
       "\n",
       "                          BlinkRate  Pitch  Yaw  Roll  Interocular Distance  \n",
       "Time                                                                         \n",
       "-1 days +23:59:59.917000        NaN    NaN  NaN   NaN                   NaN  \n",
       "-1 days +23:59:59.968000        NaN    NaN  NaN   NaN                   NaN  \n",
       "0 days 00:00:00.008000          NaN    NaN  NaN   NaN                   NaN  \n",
       "0 days 00:00:00.017000          NaN    NaN  NaN   NaN                   NaN  \n",
       "0 days 00:00:00.165000          NaN    NaN  NaN   NaN                   NaN  \n",
       "...                             ...    ...  ...   ...                   ...  \n",
       "0 days 00:40:02.443000          NaN    NaN  NaN   NaN                   NaN  \n",
       "0 days 00:40:02.448000          NaN    NaN  NaN   NaN                   NaN  \n",
       "0 days 00:40:02.489000          NaN    NaN  NaN   NaN                   NaN  \n",
       "0 days 00:40:02.492000          NaN    NaN  NaN   NaN                   NaN  \n",
       "0 days 00:40:02.534000          NaN    NaN  NaN   NaN                   NaN  \n",
       "\n",
       "[72098 rows x 40 columns]), 'system': Data(name='system', dataset=                           Timestamp    CPU Sys  Memory Sys   CPU Proc  \\\n",
       "Time                                                                     \n",
       "0 days 00:00:00.321000  3.208624e+02  24.681252   19.582543  10.238974   \n",
       "0 days 00:00:01.344000  1.344253e+03  23.769661   19.604389  12.050711   \n",
       "0 days 00:00:02.379000  2.379348e+03  25.332542   19.604078  12.399673   \n",
       "0 days 00:00:03.407000  3.406930e+03  21.311052   19.619986   9.231981   \n",
       "0 days 00:00:04.444000  4.444271e+03  24.794809   19.612652  12.856924   \n",
       "...                              ...        ...         ...        ...   \n",
       "0 days 00:39:58.077000  2.398077e+06  25.676521   21.604834  15.301468   \n",
       "0 days 00:39:59.111000  2.399111e+06  31.976570   21.628710  20.390863   \n",
       "0 days 00:40:00.149000  2.400149e+06  33.364365   21.630638  23.107569   \n",
       "0 days 00:40:01.169000  2.401169e+06  26.072187   21.614305  13.844325   \n",
       "0 days 00:40:02.203000  2.402203e+06  27.538660   21.624723  15.874536   \n",
       "\n",
       "                        Memory Proc  \n",
       "Time                                 \n",
       "0 days 00:00:00.321000   641.375000  \n",
       "0 days 00:00:01.344000   649.855469  \n",
       "0 days 00:00:02.379000   654.226562  \n",
       "0 days 00:00:03.407000   663.632812  \n",
       "0 days 00:00:04.444000   648.679688  \n",
       "...                             ...  \n",
       "0 days 00:39:58.077000  1920.765625  \n",
       "0 days 00:39:59.111000  1936.664062  \n",
       "0 days 00:40:00.149000  1943.386719  \n",
       "0 days 00:40:01.169000  1943.437500  \n",
       "0 days 00:40:02.203000  1943.527344  \n",
       "\n",
       "[2329 rows x 5 columns])})"
      ]
     },
     "execution_count": 5,
     "metadata": {},
     "output_type": "execute_result"
    }
   ],
   "source": [
    "def create_timedelta_index(df):\n",
    "    \"\"\"Convert the time stamp to time delta and set it as index.\"\"\"\n",
    "    # just casting to timedelta64[ms] is faster but less accurate\n",
    "    df[\"Time\"] = pd.to_timedelta(df[\"Timestamp\"], unit='ms').round('ms').astype('timedelta64[ms]')\n",
    "    df.set_index(\"Time\", append=True if 'Trial' in df.index.names else False, inplace=True)\n",
    "    # Remove duplicate index\n",
    "    df = df[~df.index.duplicated(keep='first')]\n",
    "    return df\n",
    "\n",
    "def create_timedelta_index_participant(participant):\n",
    "    participant.datasets = {k: create_timedelta_index(v) for k, v in participant.datasets.items()}\n",
    "    return participant\n",
    "\n",
    "\n",
    "participant = apply_func_participant(participant, create_timedelta_index)\n",
    "participant"
   ]
  },
  {
   "cell_type": "code",
   "execution_count": null,
   "metadata": {},
   "outputs": [],
   "source": []
  },
  {
   "cell_type": "code",
   "execution_count": null,
   "metadata": {},
   "outputs": [
    {
     "ename": "NameError",
     "evalue": "name 'df' is not defined",
     "output_type": "error",
     "traceback": [
      "\u001b[0;31m---------------------------------------------------------------------------\u001b[0m",
      "\u001b[0;31mNameError\u001b[0m                                 Traceback (most recent call last)",
      "Cell \u001b[0;32mIn[8], line 10\u001b[0m\n\u001b[1;32m      6\u001b[0m     sampling_rate \u001b[38;5;241m=\u001b[39m \u001b[38;5;28mlen\u001b[39m(df) \u001b[38;5;241m/\u001b[39m duration_in_s\n\u001b[1;32m      7\u001b[0m     \u001b[38;5;28;01mreturn\u001b[39;00m sampling_rate\n\u001b[0;32m---> 10\u001b[0m get_sampling_rate_of_df(\u001b[43mdf\u001b[49m)\n",
      "\u001b[0;31mNameError\u001b[0m: name 'df' is not defined"
     ]
    }
   ],
   "source": [
    "def get_sampling_rate_of_df(df):\n",
    "    start = pd.to_timedelta(df['Timestamp'].iloc[0])\n",
    "    end = pd.to_timedelta(df['Timestamp'].iloc[-1])\n",
    "    duration = end - start\n",
    "    duration_in_s = duration.total_seconds()\n",
    "    sampling_rate = len(df) / duration_in_s\n",
    "    return sampling_rate\n",
    "\n",
    "\n",
    "get_sampling_rate_of_df(df)"
   ]
  },
  {
   "cell_type": "code",
   "execution_count": null,
   "metadata": {},
   "outputs": [],
   "source": [
    "# Write code for quality check based on raw data\n",
    "# - packet reception rate\n",
    "# - battery level\n",
    "# - constant sample rate over each trial"
   ]
  },
  {
   "cell_type": "code",
   "execution_count": null,
   "metadata": {},
   "outputs": [
    {
     "ename": "ModuleNotFoundError",
     "evalue": "No module named 'src.data.info_external'",
     "output_type": "error",
     "traceback": [
      "\u001b[0;31m---------------------------------------------------------------------------\u001b[0m",
      "\u001b[0;31mModuleNotFoundError\u001b[0m                       Traceback (most recent call last)",
      "Cell \u001b[0;32mIn[7], line 7\u001b[0m\n\u001b[1;32m      2\u001b[0m base_path \u001b[38;5;241m=\u001b[39m \u001b[38;5;124m'\u001b[39m\u001b[38;5;124mdata/external/\u001b[39m\u001b[38;5;124m'\u001b[39m\n\u001b[1;32m      3\u001b[0m participant_ids \u001b[38;5;241m=\u001b[39m  [\n\u001b[1;32m      4\u001b[0m     \u001b[38;5;124m'\u001b[39m\u001b[38;5;124m001_pilot_bjoern\u001b[39m\u001b[38;5;124m'\u001b[39m,\n\u001b[1;32m      5\u001b[0m     \u001b[38;5;66;03m#'002_pilot_melis'\u001b[39;00m\n\u001b[1;32m      6\u001b[0m     ]\n\u001b[0;32m----> 7\u001b[0m \u001b[38;5;28;01mfrom\u001b[39;00m \u001b[38;5;21;01msrc\u001b[39;00m\u001b[38;5;21;01m.\u001b[39;00m\u001b[38;5;21;01mdata\u001b[39;00m\u001b[38;5;21;01m.\u001b[39;00m\u001b[38;5;21;01minfo_external\u001b[39;00m \u001b[38;5;28;01mimport\u001b[39;00m EXTERNAL_LIST\n\u001b[1;32m      9\u001b[0m data_infos \u001b[38;5;241m=\u001b[39m [\n\u001b[1;32m     10\u001b[0m     TRIAL,\n\u001b[1;32m     11\u001b[0m     RATING,\n\u001b[0;32m   (...)\u001b[0m\n\u001b[1;32m     18\u001b[0m     SYSTEM\n\u001b[1;32m     19\u001b[0m ]\n\u001b[1;32m     22\u001b[0m participants \u001b[38;5;241m=\u001b[39m [load_participant_data(participant_id, base_path, data_infos) \u001b[38;5;28;01mfor\u001b[39;00m participant_id \u001b[38;5;129;01min\u001b[39;00m participant_ids]\n",
      "\u001b[0;31mModuleNotFoundError\u001b[0m: No module named 'src.data.info_external'"
     ]
    }
   ],
   "source": [
    "# Example usage\n",
    "base_path = 'data/external/'\n",
    "participant_ids =  [\n",
    "    '001_pilot_bjoern',\n",
    "    #'002_pilot_melis'\n",
    "    ]\n",
    "from src.data.info_external import EXTERNAL_LIST\n",
    "\n",
    "data_infos = [\n",
    "    TRIAL,\n",
    "    RATING,\n",
    "    TEMPERATURE,\n",
    "    EDA,\n",
    "    ECG,\n",
    "    EEG,\n",
    "    PUPILLOMETRY,\n",
    "    AFFECTIVA,\n",
    "    SYSTEM\n",
    "]\n",
    "\n",
    "\n",
    "participants = [load_participant_data(participant_id, base_path, data_infos) for participant_id in participant_ids]\n",
    "participants_df = {participant.id: participant.to_dataframe() for participant in participants}\n",
    "\n",
    "sampling_rate = 128\n",
    "\n",
    "df = participants_df[list(participants_df)[0]]\n",
    "#df = create_timedelta_index(df)\n",
    "#df = create_trial_index(df)\n",
    "# df = reorder_multiindex(df)\n",
    "# df = resample_to_500hz(df)\n",
    "# df = resample(df, ms=1000/sampling_rate)\n",
    "# df = interpolate(df)\n",
    "# df = normalize(df)\n",
    "#df = standardize(df)\n",
    "print('df size:', round(sys.getsizeof(df) / 1024**2), 'MB')\n",
    "df.isna().sum()"
   ]
  },
  {
   "cell_type": "code",
   "execution_count": null,
   "metadata": {},
   "outputs": [
    {
     "data": {
      "text/plain": [
       "dict_values([ExternalInfo(name='trial', path='ExternalMarker_ET_EventAPI_ExternDevice.csv', imotions_columns=['RowNumber', 'Timestamp', 'MarkerName', 'MarkerDescription', 'MarkerType', 'SceneType'], keep_columns=['Timestamp', 'MarkerDescription'], rename_columns=None, device_sampling_rate=None, notes='MarkerDescription will be renamed to Stimuli_Seed,         it originally contains the stimulus seed and is send once at the start and end of each trial.'), ExternalInfo(name='temperature', path='TemperatureCurve_TemperatureCurve@1_ET_EventAPI_ExternDevice.csv', imotions_columns=['RowNumber', 'Timestamp', 'Temperature'], keep_columns=['Timestamp', 'Temperature'], rename_columns=None, device_sampling_rate=None, notes=None), ExternalInfo(name='rating', path='RatingCurve_RatingCurve@1_ET_EventAPI_ExternDevice.csv', imotions_columns=['RowNumber', 'Timestamp', 'Rating'], keep_columns=['Timestamp', 'Rating'], rename_columns=None, device_sampling_rate=None, notes=None), ExternalInfo(name='eda', path='Shimmer3_GSR+_&_EDA_(D200)_Shimmer3_GSR+_&_EDA_(D200)_ET_Shimmer_ShimmerDevice.csv', imotions_columns=['RowNumber', 'Timestamp', 'SampleNumber', 'Timestamp RAW', 'Timestamp CAL', 'System Timestamp CAL', 'VSenseBatt RAW', 'VSenseBatt CAL', 'GSR RAW', 'GSR Resistance CAL', 'GSR Conductance CAL', 'Packet reception rate RAW'], keep_columns=['Timestamp', 'GSR Conductance CAL', 'VSenseBatt CAL', 'Packet reception rate RAW'], rename_columns={'GSR Conductance CAL': 'EDA_RAW', 'VSenseBatt CAL': 'EDA_d_Battery', 'Packet reception rate RAW': 'EDA_d_PacketReceptionRate'}, device_sampling_rate=128, notes=None), ExternalInfo(name='ecg', path='Shimmer3_ECG_(68BF)_Shimmer3_ECG_(68BF)_ET_Shimmer_ShimmerDevice.csv', imotions_columns=['RowNumber', 'Timestamp', 'SampleNumber', 'Timestamp RAW', 'Timestamp CAL', 'System Timestamp CAL', 'VSenseBatt RAW', 'VSenseBatt CAL', 'EXG1 Status RAW', 'ECG LL-RA RAW', 'ECG LL-RA CAL', 'ECG LA-RA RAW', 'ECG LA-RA CAL', 'EXG2 Status RAW', 'ECG Vx-RL RAW', 'ECG Vx-RL CAL', 'Heart Rate ECG LL-RA ALG', 'IBI ECG LL-RA ALG', 'Packet reception rate RAW'], keep_columns=['Timestamp', 'ECG LL-RA CAL', 'ECG LA-RA CAL', 'ECG Vx-RL CAL', 'Heart Rate ECG LL-RA ALG', 'IBI ECG LL-RA ALG', 'VSenseBatt CAL', 'Packet reception rate RAW'], rename_columns={'ECG LL-RA CAL': 'ECG_LL-RA', 'ECG LA-RA CAL': 'ECG_LA-RA', 'ECG Vx-RL CAL': 'ECG_Vx-RL', 'Heart Rate ECG LL-RA ALG': 'ECG_LL-RA_HeartRate', 'IBI ECG LL-RA ALG': 'ECG_LL-RA_IBI', 'VSenseBatt CAL': 'ECG_d_Battery', 'Packet reception rate RAW': 'ECG_d_PacketReceptionRate'}, device_sampling_rate=512, notes=None), ExternalInfo(name='eeg', path='EEG_Enobio-Wifi_ENOBIO-8-NE-Wifi(00_07_80_0D_82_F7)_ET_Lsl_LslSensor.csv', imotions_columns=['RowNumber', 'Timestamp', 'LSL Timestamp', 'Ch1', 'Ch2', 'Ch3', 'Ch4', 'Ch5', 'Ch6', 'Ch7', 'Ch8'], keep_columns=['Timestamp', 'Ch1', 'Ch2', 'Ch3', 'Ch4', 'Ch5', 'Ch6', 'Ch7', 'Ch8'], rename_columns={'Ch1': 'EEG_RAW_Ch1', 'Ch2': 'EEG_RAW_Ch2', 'Ch3': 'EEG_RAW_Ch3', 'Ch4': 'EEG_RAW_Ch4', 'Ch5': 'EEG_RAW_Ch5', 'Ch6': 'EEG_RAW_Ch6', 'Ch7': 'EEG_RAW_Ch7', 'Ch8': 'EEG_RAW_Ch8'}, device_sampling_rate=500, notes=None), ExternalInfo(name='pupillometry', path='ET_Eyetracker.csv', imotions_columns=['RowNumber', 'Timestamp', 'ET_GazeLeftx', 'ET_GazeLefty', 'ET_GazeRightx', 'ET_GazeRighty', 'ET_PupilLeft', 'ET_PupilRight', 'ET_TimeSignal', 'ET_DistanceLeft', 'ET_DistanceRight', 'ET_CameraLeftX', 'ET_CameraLeftY', 'ET_CameraRightX', 'ET_CameraRightY'], keep_columns=['Timestamp', 'ET_PupilLeft', 'ET_PupilRight', 'ET_DistanceLeft', 'ET_DistanceRight'], rename_columns={'ET_PupilLeft': 'Pupillometry_L', 'ET_PupilRight': 'Pupillometry_R', 'ET_DistanceLeft': 'Pupillometry_L_Distance', 'ET_DistanceRight': 'Pupillometry_R_Distance'}, device_sampling_rate=60, notes=None), ExternalInfo(name='affectiva', path='Affectiva_AFFDEX_ET_Affectiva_AffectivaCameraDevice.csv', imotions_columns=['RowNumber', 'Timestamp', 'SampleNumber', 'Anger', 'Contempt', 'Disgust', 'Fear', 'Joy', 'Sadness', 'Surprise', 'Engagement', 'Valence', 'Sentimentality', 'Confusion', 'Neutral', 'Attention', 'Brow Furrow', 'Brow Raise', 'Cheek Raise', 'Chin Raise', 'Dimpler', 'Eye Closure', 'Eye Widen', 'Inner Brow Raise', 'Jaw Drop', 'Lip Corner Depressor', 'Lip Press', 'Lip Pucker', 'Lip Stretch', 'Lip Suck', 'Lid Tighten', 'Mouth Open', 'Nose Wrinkle', 'Smile', 'Smirk', 'Upper Lip Raise', 'Blink', 'BlinkRate', 'Pitch', 'Yaw', 'Roll', 'Interocular Distance'], keep_columns=['Timestamp', 'Anger', 'Contempt', 'Disgust', 'Fear', 'Joy', 'Sadness', 'Surprise', 'Engagement', 'Valence', 'Sentimentality', 'Confusion', 'Neutral', 'Attention', 'Brow Furrow', 'Brow Raise', 'Cheek Raise', 'Chin Raise', 'Dimpler', 'Eye Closure', 'Eye Widen', 'Inner Brow Raise', 'Jaw Drop', 'Lip Corner Depressor', 'Lip Press', 'Lip Pucker', 'Lip Stretch', 'Lip Suck', 'Lid Tighten', 'Mouth Open', 'Nose Wrinkle', 'Smile', 'Smirk', 'Upper Lip Raise', 'Blink', 'BlinkRate', 'Pitch', 'Yaw', 'Roll', 'Interocular Distance'], rename_columns=None, device_sampling_rate=None, notes='Affectiva data is not sampled at a constant rate and can contain NaNs.'), ExternalInfo(name='system', path='System_Load_Monitor_iMotions.SysMonitor@1_ET_EventAPI_ExternDevice.csv', imotions_columns=['RowNumber', 'Timestamp', 'CPU Sys', 'Memory Sys', 'CPU Proc', 'Memory Proc'], keep_columns=['Timestamp', 'CPU Sys', 'Memory Sys', 'CPU Proc', 'Memory Proc'], rename_columns=None, device_sampling_rate=None, notes=None)])"
      ]
     },
     "execution_count": 20,
     "metadata": {},
     "output_type": "execute_result"
    }
   ],
   "source": [
    "EXTERNAL_DICT.values()"
   ]
  },
  {
   "cell_type": "code",
   "execution_count": null,
   "metadata": {},
   "outputs": [
    {
     "ename": "TypeError",
     "evalue": "reduce() of empty iterable with no initial value",
     "output_type": "error",
     "traceback": [
      "\u001b[0;31m---------------------------------------------------------------------------\u001b[0m",
      "\u001b[0;31mTypeError\u001b[0m                                 Traceback (most recent call last)",
      "Cell \u001b[0;32mIn[21], line 21\u001b[0m\n\u001b[1;32m      8\u001b[0m data_infos \u001b[38;5;241m=\u001b[39m [\n\u001b[1;32m      9\u001b[0m     \u001b[38;5;66;03m#TRIAL,\u001b[39;00m\n\u001b[1;32m     10\u001b[0m     \u001b[38;5;66;03m#RATING,\u001b[39;00m\n\u001b[0;32m   (...)\u001b[0m\n\u001b[1;32m     17\u001b[0m     \u001b[38;5;66;03m#SYSTEM\u001b[39;00m\n\u001b[1;32m     18\u001b[0m ]\n\u001b[1;32m     20\u001b[0m participants \u001b[38;5;241m=\u001b[39m [load_participant_data(participant_id, base_path, data_infos) \u001b[38;5;28;01mfor\u001b[39;00m participant_id \u001b[38;5;129;01min\u001b[39;00m participant_ids]\n\u001b[0;32m---> 21\u001b[0m participants_df \u001b[38;5;241m=\u001b[39m \u001b[43m{\u001b[49m\u001b[43mparticipant\u001b[49m\u001b[38;5;241;43m.\u001b[39;49m\u001b[43mid\u001b[49m\u001b[43m:\u001b[49m\u001b[43m \u001b[49m\u001b[43mparticipant\u001b[49m\u001b[38;5;241;43m.\u001b[39;49m\u001b[43mto_dataframe\u001b[49m\u001b[43m(\u001b[49m\u001b[43m)\u001b[49m\u001b[43m \u001b[49m\u001b[38;5;28;43;01mfor\u001b[39;49;00m\u001b[43m \u001b[49m\u001b[43mparticipant\u001b[49m\u001b[43m \u001b[49m\u001b[38;5;129;43;01min\u001b[39;49;00m\u001b[43m \u001b[49m\u001b[43mparticipants\u001b[49m\u001b[43m}\u001b[49m\n\u001b[1;32m     23\u001b[0m sampling_rate \u001b[38;5;241m=\u001b[39m \u001b[38;5;241m128\u001b[39m\n\u001b[1;32m     25\u001b[0m df \u001b[38;5;241m=\u001b[39m participants_df[\u001b[38;5;28mlist\u001b[39m(participants_df)[\u001b[38;5;241m0\u001b[39m]]\n",
      "Cell \u001b[0;32mIn[21], line 21\u001b[0m, in \u001b[0;36m<dictcomp>\u001b[0;34m(.0)\u001b[0m\n\u001b[1;32m      8\u001b[0m data_infos \u001b[38;5;241m=\u001b[39m [\n\u001b[1;32m      9\u001b[0m     \u001b[38;5;66;03m#TRIAL,\u001b[39;00m\n\u001b[1;32m     10\u001b[0m     \u001b[38;5;66;03m#RATING,\u001b[39;00m\n\u001b[0;32m   (...)\u001b[0m\n\u001b[1;32m     17\u001b[0m     \u001b[38;5;66;03m#SYSTEM\u001b[39;00m\n\u001b[1;32m     18\u001b[0m ]\n\u001b[1;32m     20\u001b[0m participants \u001b[38;5;241m=\u001b[39m [load_participant_data(participant_id, base_path, data_infos) \u001b[38;5;28;01mfor\u001b[39;00m participant_id \u001b[38;5;129;01min\u001b[39;00m participant_ids]\n\u001b[0;32m---> 21\u001b[0m participants_df \u001b[38;5;241m=\u001b[39m {participant\u001b[38;5;241m.\u001b[39mid: \u001b[43mparticipant\u001b[49m\u001b[38;5;241;43m.\u001b[39;49m\u001b[43mto_dataframe\u001b[49m\u001b[43m(\u001b[49m\u001b[43m)\u001b[49m \u001b[38;5;28;01mfor\u001b[39;00m participant \u001b[38;5;129;01min\u001b[39;00m participants}\n\u001b[1;32m     23\u001b[0m sampling_rate \u001b[38;5;241m=\u001b[39m \u001b[38;5;241m128\u001b[39m\n\u001b[1;32m     25\u001b[0m df \u001b[38;5;241m=\u001b[39m participants_df[\u001b[38;5;28mlist\u001b[39m(participants_df)[\u001b[38;5;241m0\u001b[39m]]\n",
      "File \u001b[0;32m~/drive/PhD/Code/pain-measurement/src/data/process_raw.py:24\u001b[0m, in \u001b[0;36mParticipant.to_dataframe\u001b[0;34m(self)\u001b[0m\n\u001b[1;32m     22\u001b[0m data_frames \u001b[38;5;241m=\u001b[39m [data\u001b[38;5;241m.\u001b[39mdataset \u001b[38;5;28;01mfor\u001b[39;00m data \u001b[38;5;129;01min\u001b[39;00m \u001b[38;5;28mself\u001b[39m\u001b[38;5;241m.\u001b[39mdatasets\u001b[38;5;241m.\u001b[39mvalues()]\n\u001b[1;32m     23\u001b[0m \u001b[38;5;66;03m# Use reduce to merge all DataFrames on 'Timestamp'\u001b[39;00m\n\u001b[0;32m---> 24\u001b[0m merged_df \u001b[38;5;241m=\u001b[39m \u001b[43mreduce\u001b[49m\u001b[43m(\u001b[49m\n\u001b[1;32m     25\u001b[0m \u001b[43m    \u001b[49m\u001b[38;5;66;43;03m# pd.concat would lead to duplicate timestamps\u001b[39;49;00m\n\u001b[1;32m     26\u001b[0m \u001b[43m    \u001b[49m\u001b[38;5;28;43;01mlambda\u001b[39;49;00m\u001b[43m \u001b[49m\u001b[43mleft\u001b[49m\u001b[43m,\u001b[49m\u001b[43m \u001b[49m\u001b[43mright\u001b[49m\u001b[43m:\u001b[49m\u001b[43m \u001b[49m\u001b[43mpd\u001b[49m\u001b[38;5;241;43m.\u001b[39;49m\u001b[43mmerge\u001b[49m\u001b[43m(\u001b[49m\u001b[43mleft\u001b[49m\u001b[43m,\u001b[49m\u001b[43m \u001b[49m\u001b[43mright\u001b[49m\u001b[43m,\u001b[49m\u001b[43m \u001b[49m\u001b[43mon\u001b[49m\u001b[38;5;241;43m=\u001b[39;49m\u001b[38;5;124;43m'\u001b[39;49m\u001b[38;5;124;43mTimestamp\u001b[39;49m\u001b[38;5;124;43m'\u001b[39;49m\u001b[43m,\u001b[49m\u001b[43m \u001b[49m\u001b[43mhow\u001b[49m\u001b[38;5;241;43m=\u001b[39;49m\u001b[38;5;124;43m'\u001b[39;49m\u001b[38;5;124;43mouter\u001b[39;49m\u001b[38;5;124;43m'\u001b[39;49m\u001b[43m)\u001b[49m\u001b[43m,\u001b[49m\n\u001b[1;32m     27\u001b[0m \u001b[43m    \u001b[49m\u001b[43mdata_frames\u001b[49m\n\u001b[1;32m     28\u001b[0m \u001b[43m\u001b[49m\u001b[43m)\u001b[49m\n\u001b[1;32m     29\u001b[0m \u001b[38;5;28;01mreturn\u001b[39;00m merged_df\u001b[38;5;241m.\u001b[39msort_values(by\u001b[38;5;241m=\u001b[39m[\u001b[38;5;124m'\u001b[39m\u001b[38;5;124mTimestamp\u001b[39m\u001b[38;5;124m'\u001b[39m])\n",
      "\u001b[0;31mTypeError\u001b[0m: reduce() of empty iterable with no initial value"
     ]
    }
   ],
   "source": [
    "# Example usage\n",
    "base_path = 'data/raw/'\n",
    "participant_ids =  [\n",
    "    '001_pilot_bjoern',\n",
    "    #'002_pilot_melis'\n",
    "    ]\n",
    "\n",
    "data_infos = [\n",
    "    #TRIAL,\n",
    "    #RATING,\n",
    "    #TEMPERATURE,\n",
    "    #EDA,\n",
    "    #ECG,\n",
    "    EEG,\n",
    "    #PUPILLOMETRY,\n",
    "    #AFFECTIVA,\n",
    "    #SYSTEM\n",
    "]\n",
    "\n",
    "participants = [load_participant_data(participant_id, base_path, data_infos) for participant_id in participant_ids]\n",
    "participants_df = {participant.id: participant.to_dataframe() for participant in participants}\n",
    "\n",
    "sampling_rate = 128\n",
    "\n",
    "df = participants_df[list(participants_df)[0]]\n",
    "#df = create_timedelta_index(df)\n",
    "#df = create_trial_index(df)\n",
    "# df = reorder_multiindex(df)\n",
    "# df = resample_to_500hz(df)\n",
    "# df = resample(df, ms=1000/sampling_rate)\n",
    "# df = interpolate(df)\n",
    "# df = normalize(df)\n",
    "#df = standardize(df)\n",
    "print('df size:', round(sys.getsizeof(df) / 1024**2), 'MB')\n",
    "df.isna().sum()"
   ]
  },
  {
   "cell_type": "code",
   "execution_count": null,
   "metadata": {},
   "outputs": [
    {
     "data": {
      "text/plain": [
       "Timestamp                     0\n",
       "Stimuli_Seed                  0\n",
       "EDA_d_Battery                12\n",
       "EDA_RAW                      12\n",
       "EDA_d_PacketReceptionRate    12\n",
       "dtype: int64"
      ]
     },
     "execution_count": 25,
     "metadata": {},
     "output_type": "execute_result"
    }
   ],
   "source": [
    "# Count nan values\n",
    "df.isna().sum()"
   ]
  },
  {
   "cell_type": "code",
   "execution_count": null,
   "metadata": {},
   "outputs": [],
   "source": [
    "import pandas as pd\n",
    "\n",
    "def calculate_sample_rate(df, trial, duration_minutes):\n",
    "    minute = pd.Timedelta(duration_minutes, unit='m')\n",
    "    start = df.loc[trial].iloc[0].name\n",
    "    end = start + minute\n",
    "    num_samples = len(df.loc[trial].loc[start:end]['GSR Conductance CAL'].dropna())\n",
    "    sample_rate = num_samples / minute.total_seconds()\n",
    "    return sample_rate\n"
   ]
  },
  {
   "cell_type": "code",
   "execution_count": null,
   "metadata": {},
   "outputs": [
    {
     "ename": "NameError",
     "evalue": "name 'trial' is not defined",
     "output_type": "error",
     "traceback": [
      "\u001b[0;31m---------------------------------------------------------------------------\u001b[0m",
      "\u001b[0;31mNameError\u001b[0m                                 Traceback (most recent call last)",
      "Cell \u001b[0;32mIn[21], line 1\u001b[0m\n\u001b[0;32m----> 1\u001b[0m start \u001b[38;5;241m=\u001b[39m df\u001b[38;5;241m.\u001b[39mloc[\u001b[43mtrial\u001b[49m]\u001b[38;5;241m.\u001b[39mindex\u001b[38;5;241m.\u001b[39mmin()\n\u001b[1;32m      2\u001b[0m end \u001b[38;5;241m=\u001b[39m df\u001b[38;5;241m.\u001b[39mloc[trial]\u001b[38;5;241m.\u001b[39mindex\u001b[38;5;241m.\u001b[39mmax()\n\u001b[1;32m      3\u001b[0m duration \u001b[38;5;241m=\u001b[39m end \u001b[38;5;241m-\u001b[39m start\n",
      "\u001b[0;31mNameError\u001b[0m: name 'trial' is not defined"
     ]
    }
   ],
   "source": [
    "    start = df.loc[trial].index.min()\n",
    "    end = df.loc[trial].index.max()\n",
    "    duration = end - start\n",
    "    duration_seconds = duration.total_seconds()\n",
    "    num_samples = len(df.loc[trial]['GSR Conductance CAL'].dropna())\n",
    "    sample_rate = num_samples / duration_seconds"
   ]
  },
  {
   "cell_type": "code",
   "execution_count": null,
   "metadata": {},
   "outputs": [
    {
     "data": {
      "text/plain": [
       "<pandas.core.groupby.generic.DataFrameGroupBy object at 0x129229590>"
      ]
     },
     "execution_count": 151,
     "metadata": {},
     "output_type": "execute_result"
    }
   ],
   "source": [
    "df.groupby('Trial')\n"
   ]
  },
  {
   "cell_type": "code",
   "execution_count": null,
   "metadata": {},
   "outputs": [
    {
     "data": {
      "text/plain": [
       "Timedelta('0 days 00:04:40.045000')"
      ]
     },
     "execution_count": 152,
     "metadata": {},
     "output_type": "execute_result"
    }
   ],
   "source": [
    "df.loc[1].iloc[-1].name - df.loc[1].iloc[0].name "
   ]
  },
  {
   "cell_type": "code",
   "execution_count": null,
   "metadata": {},
   "outputs": [
    {
     "data": {
      "text/plain": [
       "(100.05, 280.0, 28014)"
      ]
     },
     "execution_count": 153,
     "metadata": {},
     "output_type": "execute_result"
    }
   ],
   "source": [
    "trial = 1\n",
    "minute = pd.Timedelta(4.66666666666666, unit='m')\n",
    "\n",
    "start = df.loc[trial].iloc[0].name\n",
    "end = start + minute\n",
    "num_samples = len(df.loc[trial].loc[start:end]['GSR Conductance CAL'].dropna())\n",
    "\n",
    "sample_rate = num_samples / minute.total_seconds()\n",
    "sample_rate, minute.total_seconds(), num_samples"
   ]
  },
  {
   "cell_type": "code",
   "execution_count": null,
   "metadata": {},
   "outputs": [
    {
     "data": {
      "text/plain": [
       "(100.03399277483473, 280.044805, 28014)"
      ]
     },
     "execution_count": 154,
     "metadata": {},
     "output_type": "execute_result"
    }
   ],
   "source": [
    "start = df.loc[trial].iloc[0].Timestamp\n",
    "end = df.loc[trial].iloc[-1].Timestamp\n",
    "time = (end - start)\n",
    "time = time # / 1000 / 60\n",
    "time = pd.Timedelta(time, unit='ms')\n",
    "num_samples / time.total_seconds(), time.total_seconds(), num_samples"
   ]
  },
  {
   "cell_type": "code",
   "execution_count": null,
   "metadata": {},
   "outputs": [
    {
     "data": {
      "text/plain": [
       "4.666666666666667"
      ]
     },
     "execution_count": 155,
     "metadata": {},
     "output_type": "execute_result"
    }
   ],
   "source": [
    "280 / 60"
   ]
  },
  {
   "cell_type": "code",
   "execution_count": null,
   "metadata": {},
   "outputs": [],
   "source": []
  },
  {
   "cell_type": "code",
   "execution_count": null,
   "metadata": {},
   "outputs": [],
   "source": []
  },
  {
   "cell_type": "code",
   "execution_count": null,
   "metadata": {},
   "outputs": [],
   "source": []
  },
  {
   "cell_type": "code",
   "execution_count": null,
   "metadata": {},
   "outputs": [],
   "source": []
  },
  {
   "cell_type": "markdown",
   "metadata": {},
   "source": [
    "### Sanity checks\n",
    "TODO: make unit test"
   ]
  },
  {
   "cell_type": "code",
   "execution_count": null,
   "metadata": {},
   "outputs": [
    {
     "data": {
      "text/plain": [
       "Trial\n",
       "1   0 days 00:04:40.044000\n",
       "2   0 days 00:04:40.046000\n",
       "3   0 days 00:04:40.011000\n",
       "4   0 days 00:04:40.031000\n",
       "5   0 days 00:04:40.029000\n",
       "6   0 days 00:04:40.030000\n",
       "Name: Timestamp, dtype: timedelta64[ms]"
      ]
     },
     "execution_count": 156,
     "metadata": {},
     "output_type": "execute_result"
    }
   ],
   "source": [
    "# Check stimuli length, must be >= stimuli.duration\n",
    "# where we create a stimulus object from the config file with the right seed, etc.\n",
    "# Also check after resampling, interpolation, etc.\n",
    "(df.groupby('Trial').last().Timestamp - df.groupby('Trial').first().Timestamp).astype('timedelta64[ms]')\n"
   ]
  },
  {
   "cell_type": "code",
   "execution_count": null,
   "metadata": {},
   "outputs": [
    {
     "data": {
      "text/html": [
       "<div>\n",
       "<style scoped>\n",
       "    .dataframe tbody tr th:only-of-type {\n",
       "        vertical-align: middle;\n",
       "    }\n",
       "\n",
       "    .dataframe tbody tr th {\n",
       "        vertical-align: top;\n",
       "    }\n",
       "\n",
       "    .dataframe thead th {\n",
       "        text-align: right;\n",
       "    }\n",
       "</style>\n",
       "<table border=\"1\" class=\"dataframe\">\n",
       "  <thead>\n",
       "    <tr style=\"text-align: right;\">\n",
       "      <th></th>\n",
       "      <th>Timestamp</th>\n",
       "      <th>MarkerDescription</th>\n",
       "      <th>System Timestamp CAL</th>\n",
       "      <th>GSR Conductance CAL</th>\n",
       "      <th>Packet reception rate RAW</th>\n",
       "    </tr>\n",
       "    <tr>\n",
       "      <th>Trial</th>\n",
       "      <th></th>\n",
       "      <th></th>\n",
       "      <th></th>\n",
       "      <th></th>\n",
       "      <th></th>\n",
       "    </tr>\n",
       "  </thead>\n",
       "  <tbody>\n",
       "    <tr>\n",
       "      <th>1</th>\n",
       "      <td>4.680859e+05</td>\n",
       "      <td>1</td>\n",
       "      <td>1.702981e+12</td>\n",
       "      <td>8.870340</td>\n",
       "      <td>100.0</td>\n",
       "    </tr>\n",
       "    <tr>\n",
       "      <th>2</th>\n",
       "      <td>8.297534e+05</td>\n",
       "      <td>2</td>\n",
       "      <td>1.702981e+12</td>\n",
       "      <td>8.752920</td>\n",
       "      <td>99.0</td>\n",
       "    </tr>\n",
       "    <tr>\n",
       "      <th>3</th>\n",
       "      <td>1.179322e+06</td>\n",
       "      <td>3</td>\n",
       "      <td>1.702982e+12</td>\n",
       "      <td>7.139666</td>\n",
       "      <td>99.0</td>\n",
       "    </tr>\n",
       "    <tr>\n",
       "      <th>4</th>\n",
       "      <td>1.576673e+06</td>\n",
       "      <td>4</td>\n",
       "      <td>1.702982e+12</td>\n",
       "      <td>9.421705</td>\n",
       "      <td>99.0</td>\n",
       "    </tr>\n",
       "    <tr>\n",
       "      <th>5</th>\n",
       "      <td>1.979885e+06</td>\n",
       "      <td>5</td>\n",
       "      <td>1.702982e+12</td>\n",
       "      <td>5.332414</td>\n",
       "      <td>99.0</td>\n",
       "    </tr>\n",
       "    <tr>\n",
       "      <th>6</th>\n",
       "      <td>2.303572e+06</td>\n",
       "      <td>6</td>\n",
       "      <td>1.702983e+12</td>\n",
       "      <td>4.520683</td>\n",
       "      <td>99.0</td>\n",
       "    </tr>\n",
       "  </tbody>\n",
       "</table>\n",
       "</div>"
      ],
      "text/plain": [
       "          Timestamp  MarkerDescription  System Timestamp CAL  \\\n",
       "Trial                                                          \n",
       "1      4.680859e+05                  1          1.702981e+12   \n",
       "2      8.297534e+05                  2          1.702981e+12   \n",
       "3      1.179322e+06                  3          1.702982e+12   \n",
       "4      1.576673e+06                  4          1.702982e+12   \n",
       "5      1.979885e+06                  5          1.702982e+12   \n",
       "6      2.303572e+06                  6          1.702983e+12   \n",
       "\n",
       "       GSR Conductance CAL  Packet reception rate RAW  \n",
       "Trial                                                  \n",
       "1                 8.870340                      100.0  \n",
       "2                 8.752920                       99.0  \n",
       "3                 7.139666                       99.0  \n",
       "4                 9.421705                       99.0  \n",
       "5                 5.332414                       99.0  \n",
       "6                 4.520683                       99.0  "
      ]
     },
     "execution_count": 157,
     "metadata": {},
     "output_type": "execute_result"
    }
   ],
   "source": [
    "(df.groupby('Trial').last())"
   ]
  },
  {
   "cell_type": "code",
   "execution_count": null,
   "metadata": {},
   "outputs": [],
   "source": [
    "# Control data quality\n"
   ]
  },
  {
   "cell_type": "code",
   "execution_count": null,
   "metadata": {},
   "outputs": [],
   "source": [
    "# search for nan values in raw data (trial + data)"
   ]
  },
  {
   "cell_type": "code",
   "execution_count": null,
   "metadata": {},
   "outputs": [],
   "source": []
  },
  {
   "cell_type": "code",
   "execution_count": null,
   "metadata": {},
   "outputs": [],
   "source": []
  },
  {
   "cell_type": "code",
   "execution_count": null,
   "metadata": {},
   "outputs": [],
   "source": [
    "import os\n",
    "import sys\n",
    "from pathlib import Path\n",
    "\n",
    "\n",
    "PROJECT_DIR = Path.cwd()\n",
    "if PROJECT_DIR.stem == 'data':\n",
    "    PROJECT_DIR = PROJECT_DIR.parents[1]\n",
    "    sys.path.insert(0, PROJECT_DIR.as_posix())\n",
    "    os.chdir(PROJECT_DIR.as_posix())\n",
    "    %load_ext autoreload\n",
    "    %autoreload 2"
   ]
  },
  {
   "cell_type": "code",
   "execution_count": null,
   "metadata": {},
   "outputs": [],
   "source": [
    "import os\n",
    "from pathlib import Path\n",
    "from functools import reduce\n",
    "from dataclasses import dataclass\n",
    "from typing import Dict, List\n",
    "import logging\n",
    "\n",
    "import pandas as pd\n",
    "import polars as pl\n",
    "\n",
    "from src.helper_func import flatten_list, print_size\n",
    "from src.data.config_participant import PARTICIPANT_LIST, ParticipantConfig\n",
    "from src.data.config_data import DataConfigBase\n",
    "from src.data.config_data_imotions import IMOTIONS_LIST, iMotionsConfig\n",
    "from src.data.config_data_raw import RAW_LIST, RawConfig\n",
    "from src.data.config_data_trial import TRIAL_LIST, TrialConfig\n",
    "from src.data.process_data import load_participant_datasets, Participant, Data\n",
    "from src.data.transform_data import create_trial_index, reorder_multiindex, interpolate, resample, resample_to_500hz, standardize, normalize\n",
    "\n",
    "# use polars for faster loading of pd.DataFrame\n",
    "# note that it seems that the time stamp sometimes \n",
    "import polars as pl\n",
    "\n",
    "\n",
    "def load_dataset_pl(\n",
    "        participant_config: ParticipantConfig,\n",
    "        data_config: DataConfigBase\n",
    "        ) -> Data:\n",
    "\n",
    "    data_path = data_config.load_dir / participant_config.id / f\"{participant_config.id}_{data_config.name}.csv\"\n",
    "    data_start_index = 0\n",
    "\n",
    "    if isinstance(data_config, iMotionsConfig):\n",
    "        data_path = data_config.load_dir / participant_config.id / f\"{data_config.name_imotions}.csv\"\n",
    "        with open(data_path, 'r') as file:\n",
    "            lines = file.readlines(2**16)\n",
    "        data_start_index = next(i for i, line in enumerate(lines) if \"#DATA\" in line) + 1\n",
    "\n",
    "    # Load and process data using Polars\n",
    "    dataset = pl.read_csv(\n",
    "        data_path, \n",
    "        columns=data_config.load_columns,\n",
    "        skip_rows=data_start_index,\n",
    "    ).to_pandas()\n",
    "    \n",
    "    if isinstance(data_config, iMotionsConfig):\n",
    "        if data_config.rename_columns:\n",
    "            dataset = dataset.rename(data_config.rename_columns)\n",
    "\n",
    "    return Data(name=data_config.name, dataset=dataset)\n",
    "\n",
    "def load_participant_datasets_pl(\n",
    "        participant_config: ParticipantConfig, \n",
    "        data_configs: List[DataConfigBase]\n",
    "        ) -> Participant:\n",
    "\n",
    "    datasets: Dict[str, Data] = {}\n",
    "    for data_config in data_configs:\n",
    "        datasets[data_config.name] = load_dataset_pl(participant_config, data_config)\n",
    "        \n",
    "    return Participant(id=participant_config.id, datasets=datasets)\n"
   ]
  },
  {
   "cell_type": "code",
   "execution_count": null,
   "metadata": {},
   "outputs": [
    {
     "data": {
      "text/plain": [
       "Timestamp      float64\n",
       "EEG_RAW_Ch1    float64\n",
       "EEG_RAW_Ch2    float64\n",
       "EEG_RAW_Ch3    float64\n",
       "EEG_RAW_Ch4    float64\n",
       "EEG_RAW_Ch5    float64\n",
       "EEG_RAW_Ch6    float64\n",
       "EEG_RAW_Ch7    float64\n",
       "EEG_RAW_Ch8    float64\n",
       "dtype: object"
      ]
     },
     "execution_count": 27,
     "metadata": {},
     "output_type": "execute_result"
    }
   ],
   "source": [
    "a = load_participant_datasets_pl(PARTICIPANT_LIST[0], RAW_LIST)\n",
    "a.eeg.dtypes"
   ]
  },
  {
   "cell_type": "code",
   "execution_count": null,
   "metadata": {},
   "outputs": [],
   "source": [
    "from typing import List, Union, Optional, Tuple, Dict, Any\n",
    "\n",
    "import pandas as pd\n",
    "import numpy as np\n",
    "import matplotlib.pyplot as plt\n",
    "import plotly.express as px\n",
    "\n",
    "from src.helper_func import flatten_list, print_size\n",
    "from src.data.config_participant import PARTICIPANT_LIST, ParticipantConfig\n",
    "from src.data.config_data import DataConfigBase\n",
    "from src.data.config_data_imotions import IMOTIONS_LIST, iMotionsConfig\n",
    "from src.data.config_data_raw import RAW_LIST, RawConfig\n",
    "from src.data.config_data_trial import TRIAL_LIST, TrialConfig\n",
    "from src.data.process_data import load_participant_datasets, Participant, Data\n",
    "from src.data.transform_data import create_trial_index, reorder_multiindex, interpolate, resample, resample_to_500hz, standardize, normalize\n",
    "\n",
    "pd.options.mode.chained_assignment = None  # default='warn'"
   ]
  },
  {
   "cell_type": "code",
   "execution_count": null,
   "metadata": {},
   "outputs": [
    {
     "data": {
      "text/plain": [
       "Timestamp      float64\n",
       "EEG_RAW_Ch1    float64\n",
       "EEG_RAW_Ch2    float64\n",
       "EEG_RAW_Ch3    float64\n",
       "EEG_RAW_Ch4    float64\n",
       "EEG_RAW_Ch5    float64\n",
       "EEG_RAW_Ch6    float64\n",
       "EEG_RAW_Ch7    float64\n",
       "EEG_RAW_Ch8    float64\n",
       "dtype: object"
      ]
     },
     "execution_count": 28,
     "metadata": {},
     "output_type": "execute_result"
    }
   ],
   "source": [
    "participant_raw = load_participant_datasets(PARTICIPANT_LIST[0], RAW_LIST)\n",
    "# participant_trial = load_participant_datasets(PARTICIPANT_LIST[0], TRIAL_LIST)\n",
    "participant_raw.eeg.dtypes"
   ]
  },
  {
   "cell_type": "code",
   "execution_count": null,
   "metadata": {},
   "outputs": [
    {
     "data": {
      "text/plain": [
       "False"
      ]
     },
     "execution_count": 17,
     "metadata": {},
     "output_type": "execute_result"
    }
   ],
   "source": [
    "a.eeg.equals(participant_raw.eeg)"
   ]
  },
  {
   "cell_type": "code",
   "execution_count": null,
   "metadata": {},
   "outputs": [
    {
     "data": {
      "text/plain": [
       "928.5974000000001"
      ]
     },
     "execution_count": 41,
     "metadata": {},
     "output_type": "execute_result"
    }
   ],
   "source": [
    "a.eeg.iloc[444].Timestamp"
   ]
  },
  {
   "cell_type": "code",
   "execution_count": null,
   "metadata": {},
   "outputs": [
    {
     "data": {
      "text/plain": [
       "928.5974"
      ]
     },
     "execution_count": 40,
     "metadata": {},
     "output_type": "execute_result"
    }
   ],
   "source": [
    "participant_raw.eeg.iloc[444].Timestamp"
   ]
  },
  {
   "cell_type": "code",
   "execution_count": null,
   "metadata": {},
   "outputs": [
    {
     "data": {
      "text/html": [
       "<div>\n",
       "<style scoped>\n",
       "    .dataframe tbody tr th:only-of-type {\n",
       "        vertical-align: middle;\n",
       "    }\n",
       "\n",
       "    .dataframe tbody tr th {\n",
       "        vertical-align: top;\n",
       "    }\n",
       "\n",
       "    .dataframe thead th {\n",
       "        text-align: right;\n",
       "    }\n",
       "</style>\n",
       "<table border=\"1\" class=\"dataframe\">\n",
       "  <thead>\n",
       "    <tr style=\"text-align: right;\">\n",
       "      <th></th>\n",
       "      <th>Timestamp</th>\n",
       "      <th>EEG_RAW_Ch1</th>\n",
       "      <th>EEG_RAW_Ch2</th>\n",
       "      <th>EEG_RAW_Ch3</th>\n",
       "      <th>EEG_RAW_Ch4</th>\n",
       "      <th>EEG_RAW_Ch5</th>\n",
       "      <th>EEG_RAW_Ch6</th>\n",
       "      <th>EEG_RAW_Ch7</th>\n",
       "      <th>EEG_RAW_Ch8</th>\n",
       "    </tr>\n",
       "  </thead>\n",
       "  <tbody>\n",
       "    <tr>\n",
       "      <th>444</th>\n",
       "      <td>928.5974</td>\n",
       "      <td>-4360.150879</td>\n",
       "      <td>-6395.196777</td>\n",
       "      <td>12322.378906</td>\n",
       "      <td>-2388.048096</td>\n",
       "      <td>1926.135986</td>\n",
       "      <td>6642.961914</td>\n",
       "      <td>-3906.773926</td>\n",
       "      <td>-2549.267090</td>\n",
       "    </tr>\n",
       "    <tr>\n",
       "      <th>458</th>\n",
       "      <td>963.2437</td>\n",
       "      <td>-4414.368164</td>\n",
       "      <td>-6378.507812</td>\n",
       "      <td>12324.239258</td>\n",
       "      <td>-2397.250977</td>\n",
       "      <td>1921.701050</td>\n",
       "      <td>6636.429199</td>\n",
       "      <td>-3905.677979</td>\n",
       "      <td>-2556.133057</td>\n",
       "    </tr>\n",
       "    <tr>\n",
       "      <th>481</th>\n",
       "      <td>999.1812</td>\n",
       "      <td>-4365.826172</td>\n",
       "      <td>-6343.937012</td>\n",
       "      <td>12323.190430</td>\n",
       "      <td>-2392.815918</td>\n",
       "      <td>1927.566040</td>\n",
       "      <td>6630.611816</td>\n",
       "      <td>-3913.259033</td>\n",
       "      <td>-2553.033936</td>\n",
       "    </tr>\n",
       "    <tr>\n",
       "      <th>45007</th>\n",
       "      <td>90077.0919</td>\n",
       "      <td>-4199.981934</td>\n",
       "      <td>-6412.315918</td>\n",
       "      <td>12451.316406</td>\n",
       "      <td>-2393.341064</td>\n",
       "      <td>2019.453003</td>\n",
       "      <td>6674.099121</td>\n",
       "      <td>-3951.835938</td>\n",
       "      <td>-2479.839111</td>\n",
       "    </tr>\n",
       "    <tr>\n",
       "      <th>45016</th>\n",
       "      <td>90077.5346</td>\n",
       "      <td>-4181.670898</td>\n",
       "      <td>-6386.375977</td>\n",
       "      <td>12448.073242</td>\n",
       "      <td>-2432.966064</td>\n",
       "      <td>2029.609009</td>\n",
       "      <td>6662.369141</td>\n",
       "      <td>-3972.101074</td>\n",
       "      <td>-2481.031006</td>\n",
       "    </tr>\n",
       "    <tr>\n",
       "      <th>...</th>\n",
       "      <td>...</td>\n",
       "      <td>...</td>\n",
       "      <td>...</td>\n",
       "      <td>...</td>\n",
       "      <td>...</td>\n",
       "      <td>...</td>\n",
       "      <td>...</td>\n",
       "      <td>...</td>\n",
       "      <td>...</td>\n",
       "    </tr>\n",
       "    <tr>\n",
       "      <th>499880</th>\n",
       "      <td>999840.6934</td>\n",
       "      <td>-4140.710938</td>\n",
       "      <td>-6210.565918</td>\n",
       "      <td>14117.910156</td>\n",
       "      <td>-2200.698975</td>\n",
       "      <td>2576.541992</td>\n",
       "      <td>6751.728027</td>\n",
       "      <td>-4021.311035</td>\n",
       "      <td>-2337.599121</td>\n",
       "    </tr>\n",
       "    <tr>\n",
       "      <th>499934</th>\n",
       "      <td>999948.4741</td>\n",
       "      <td>-4152.488770</td>\n",
       "      <td>-6223.059082</td>\n",
       "      <td>14102.173828</td>\n",
       "      <td>-2212.666992</td>\n",
       "      <td>2559.662109</td>\n",
       "      <td>6723.880859</td>\n",
       "      <td>-4040.812988</td>\n",
       "      <td>-2363.729004</td>\n",
       "    </tr>\n",
       "    <tr>\n",
       "      <th>499947</th>\n",
       "      <td>999983.6076</td>\n",
       "      <td>-4146.003906</td>\n",
       "      <td>-6222.058105</td>\n",
       "      <td>14109.421875</td>\n",
       "      <td>-2199.315918</td>\n",
       "      <td>2570.152100</td>\n",
       "      <td>6745.577148</td>\n",
       "      <td>-4021.406006</td>\n",
       "      <td>-2346.802002</td>\n",
       "    </tr>\n",
       "    <tr>\n",
       "      <th>499957</th>\n",
       "      <td>999984.9778</td>\n",
       "      <td>-4154.873047</td>\n",
       "      <td>-6228.399902</td>\n",
       "      <td>14095.498047</td>\n",
       "      <td>-2209.663086</td>\n",
       "      <td>2560.520020</td>\n",
       "      <td>6749.105957</td>\n",
       "      <td>-4025.745117</td>\n",
       "      <td>-2356.576904</td>\n",
       "    </tr>\n",
       "    <tr>\n",
       "      <th>499959</th>\n",
       "      <td>999992.8282</td>\n",
       "      <td>-4152.821777</td>\n",
       "      <td>-6224.918945</td>\n",
       "      <td>14093.496094</td>\n",
       "      <td>-2212.000000</td>\n",
       "      <td>2561.235107</td>\n",
       "      <td>6743.001953</td>\n",
       "      <td>-4032.468994</td>\n",
       "      <td>-2357.912109</td>\n",
       "    </tr>\n",
       "  </tbody>\n",
       "</table>\n",
       "<p>8866 rows × 9 columns</p>\n",
       "</div>"
      ],
      "text/plain": [
       "          Timestamp  EEG_RAW_Ch1  EEG_RAW_Ch2   EEG_RAW_Ch3  EEG_RAW_Ch4  \\\n",
       "444        928.5974 -4360.150879 -6395.196777  12322.378906 -2388.048096   \n",
       "458        963.2437 -4414.368164 -6378.507812  12324.239258 -2397.250977   \n",
       "481        999.1812 -4365.826172 -6343.937012  12323.190430 -2392.815918   \n",
       "45007    90077.0919 -4199.981934 -6412.315918  12451.316406 -2393.341064   \n",
       "45016    90077.5346 -4181.670898 -6386.375977  12448.073242 -2432.966064   \n",
       "...             ...          ...          ...           ...          ...   \n",
       "499880  999840.6934 -4140.710938 -6210.565918  14117.910156 -2200.698975   \n",
       "499934  999948.4741 -4152.488770 -6223.059082  14102.173828 -2212.666992   \n",
       "499947  999983.6076 -4146.003906 -6222.058105  14109.421875 -2199.315918   \n",
       "499957  999984.9778 -4154.873047 -6228.399902  14095.498047 -2209.663086   \n",
       "499959  999992.8282 -4152.821777 -6224.918945  14093.496094 -2212.000000   \n",
       "\n",
       "        EEG_RAW_Ch5  EEG_RAW_Ch6  EEG_RAW_Ch7  EEG_RAW_Ch8  \n",
       "444     1926.135986  6642.961914 -3906.773926 -2549.267090  \n",
       "458     1921.701050  6636.429199 -3905.677979 -2556.133057  \n",
       "481     1927.566040  6630.611816 -3913.259033 -2553.033936  \n",
       "45007   2019.453003  6674.099121 -3951.835938 -2479.839111  \n",
       "45016   2029.609009  6662.369141 -3972.101074 -2481.031006  \n",
       "...             ...          ...          ...          ...  \n",
       "499880  2576.541992  6751.728027 -4021.311035 -2337.599121  \n",
       "499934  2559.662109  6723.880859 -4040.812988 -2363.729004  \n",
       "499947  2570.152100  6745.577148 -4021.406006 -2346.802002  \n",
       "499957  2560.520020  6749.105957 -4025.745117 -2356.576904  \n",
       "499959  2561.235107  6743.001953 -4032.468994 -2357.912109  \n",
       "\n",
       "[8866 rows x 9 columns]"
      ]
     },
     "execution_count": 30,
     "metadata": {},
     "output_type": "execute_result"
    }
   ],
   "source": [
    "pd.concat([a.eeg,participant_raw.eeg]).drop_duplicates(keep=False)"
   ]
  }
 ],
 "metadata": {
  "kernelspec": {
   "display_name": "learning",
   "language": "python",
   "name": "python3"
  },
  "language_info": {
   "codemirror_mode": {
    "name": "ipython",
    "version": 3
   },
   "file_extension": ".py",
   "mimetype": "text/x-python",
   "name": "python",
   "nbconvert_exporter": "python",
   "pygments_lexer": "ipython3",
   "version": "3.11.7"
  },
  "orig_nbformat": 4
 },
 "nbformat": 4,
 "nbformat_minor": 2
}
