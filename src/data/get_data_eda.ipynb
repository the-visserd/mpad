{
 "cells": [
  {
   "cell_type": "code",
   "execution_count": 241,
   "metadata": {},
   "outputs": [],
   "source": [
    "import os\n",
    "import sys\n",
    "from pathlib import Path\n",
    "\n",
    "\n",
    "PROJECT_DIR = Path.cwd()\n",
    "if PROJECT_DIR.stem == 'data':\n",
    "    PROJECT_DIR = PROJECT_DIR.parents[1]\n",
    "    sys.path.insert(0, PROJECT_DIR.as_posix())\n",
    "    os.chdir(PROJECT_DIR.as_posix())\n",
    "    %load_ext autoreload\n",
    "    %autoreload 2"
   ]
  },
  {
   "cell_type": "code",
   "execution_count": 242,
   "metadata": {},
   "outputs": [],
   "source": [
    "import os\n",
    "from pathlib import Path\n",
    "from functools import reduce\n",
    "from dataclasses import dataclass\n",
    "from typing import Dict, List\n",
    "import logging\n",
    "\n",
    "import numpy as np\n",
    "import pandas as pd\n",
    "import polars as pl\n",
    "import matplotlib.pyplot as plt\n",
    "import neurokit2 as nk\n",
    "\n",
    "from src.data.quality_check import check_sample_rate\n",
    "from src.data.process_data import load_participant_datasets\n",
    "from src.data.transform_data import apply_func_participant\n",
    "from src.data.config_data import DataConfigBase\n",
    "from src.data.config_data_raw import RawConfig, RAW_LIST\n",
    "from src.data.config_participant import ParticipantConfig, PARTICIPANT_LIST\n",
    "\n",
    "from src.log_config import configure_logging\n",
    "configure_logging(color=True, stream_level=logging.DEBUG, ignore_libs=['matplotlib'])\n",
    "pl.Config.set_tbl_rows(7); # don't print too many rows in the book\n",
    "plt.rcParams['figure.figsize'] = [15, 5] # default is [6, 4]"
   ]
  },
  {
   "cell_type": "code",
   "execution_count": 247,
   "metadata": {},
   "outputs": [
    {
     "name": "stdout",
     "output_type": "stream",
     "text": [
      "18:51:48 |\u001b[36m DEBUG   \u001b[0m| process_data | Dataset 'temperature' for participant 001_pilot_bjoern loaded from data/raw/001_pilot_bjoern/001_pilot_bjoern_temperature.csv\n",
      "18:51:48 |\u001b[36m DEBUG   \u001b[0m| process_data | Dataset 'rating' for participant 001_pilot_bjoern loaded from data/raw/001_pilot_bjoern/001_pilot_bjoern_rating.csv\n",
      "18:51:48 |\u001b[36m DEBUG   \u001b[0m| process_data | Dataset 'eda' for participant 001_pilot_bjoern loaded from data/raw/001_pilot_bjoern/001_pilot_bjoern_eda.csv\n",
      "18:51:48 |\u001b[36m DEBUG   \u001b[0m| process_data | Dataset 'ecg' for participant 001_pilot_bjoern loaded from data/raw/001_pilot_bjoern/001_pilot_bjoern_ecg.csv\n",
      "18:51:49 |\u001b[36m DEBUG   \u001b[0m| process_data | Dataset 'eeg' for participant 001_pilot_bjoern loaded from data/raw/001_pilot_bjoern/001_pilot_bjoern_eeg.csv\n",
      "18:51:49 |\u001b[36m DEBUG   \u001b[0m| process_data | Dataset 'pupillometry' for participant 001_pilot_bjoern loaded from data/raw/001_pilot_bjoern/001_pilot_bjoern_pupillometry.csv\n",
      "18:51:49 |\u001b[36m DEBUG   \u001b[0m| process_data | Dataset 'affectiva' for participant 001_pilot_bjoern loaded from data/raw/001_pilot_bjoern/001_pilot_bjoern_affectiva.csv\n",
      "18:51:49 |\u001b[32m INFO    \u001b[0m| process_data | Participant 001_pilot_bjoern loaded with datasets: dict_keys(['temperature', 'rating', 'eda', 'ecg', 'eeg', 'pupillometry', 'affectiva'])\n",
      "18:51:49 |\u001b[33m WARNING \u001b[0m| root | Working with unique timestamps.\n",
      "18:51:49 |\u001b[36m DEBUG   \u001b[0m| quality_check | Sample rate per trial: [100.12 100.1  100.21 100.25  99.9  100.16]\n",
      "18:51:49 |\u001b[32m INFO    \u001b[0m| quality_check | The mean sample rate is 100.13.\n",
      "18:51:49 |\u001b[36m DEBUG   \u001b[0m| quality_check | Sample rate per trial: [100.12 100.1  100.21 100.25  99.9  100.16]\n",
      "18:51:49 |\u001b[32m INFO    \u001b[0m| quality_check | The mean sample rate is 100.13.\n"
     ]
    },
    {
     "data": {
      "text/html": [
       "<div><style>\n",
       ".dataframe > thead > tr,\n",
       ".dataframe > tbody > tr {\n",
       "  text-align: right;\n",
       "  white-space: pre-wrap;\n",
       "}\n",
       "</style>\n",
       "<small>shape: (168_232, 3)</small><table border=\"1\" class=\"dataframe\"><thead><tr><th>Timestamp</th><th>EDA_RAW</th><th>Trial</th></tr><tr><td>f64</td><td>f64</td><td>i64</td></tr></thead><tbody><tr><td>188041.074</td><td>6.057357</td><td>0</td></tr><tr><td>188049.0512</td><td>6.062463</td><td>0</td></tr><tr><td>188064.0122</td><td>6.057357</td><td>0</td></tr><tr><td>&hellip;</td><td>&hellip;</td><td>&hellip;</td></tr><tr><td>2.3035e6</td><td>4.520683</td><td>5</td></tr><tr><td>2.3035e6</td><td>4.515577</td><td>5</td></tr><tr><td>2.3036e6</td><td>4.520683</td><td>5</td></tr></tbody></table></div>"
      ],
      "text/plain": [
       "shape: (168_232, 3)\n",
       "┌─────────────┬──────────┬───────┐\n",
       "│ Timestamp   ┆ EDA_RAW  ┆ Trial │\n",
       "│ ---         ┆ ---      ┆ ---   │\n",
       "│ f64         ┆ f64      ┆ i64   │\n",
       "╞═════════════╪══════════╪═══════╡\n",
       "│ 188041.074  ┆ 6.057357 ┆ 0     │\n",
       "│ 188049.0512 ┆ 6.062463 ┆ 0     │\n",
       "│ 188064.0122 ┆ 6.057357 ┆ 0     │\n",
       "│ …           ┆ …        ┆ …     │\n",
       "│ 2.3035e6    ┆ 4.520683 ┆ 5     │\n",
       "│ 2.3035e6    ┆ 4.520683 ┆ 5     │\n",
       "│ 2.3035e6    ┆ 4.515577 ┆ 5     │\n",
       "│ 2.3036e6    ┆ 4.520683 ┆ 5     │\n",
       "└─────────────┴──────────┴───────┘"
      ]
     },
     "execution_count": 247,
     "metadata": {},
     "output_type": "execute_result"
    }
   ],
   "source": [
    "eda_raw = load_participant_datasets(PARTICIPANT_LIST[0], RAW_LIST).eda\n",
    "\n",
    "sampling_rate = 100\n",
    "eda_raw = eda_raw.unique('Timestamp').sort('Timestamp') # actually slightly faster than maintain_order=True\n",
    "logging.warning(\"Working with unique timestamps.\")\n",
    "\n",
    "check_sample_rate(eda_raw)\n",
    "check_sample_rate(eda_raw, unique_timestamp=True)\n",
    "\n",
    "eda_raw_trials = [\n",
    "    group.select('EDA_RAW')\n",
    "    .to_numpy()\n",
    "    .flatten() \n",
    "    for _, group in eda_raw.group_by(['Trial'])\n",
    "    ]\n",
    "\"\"\"Same as:\n",
    "# Get each trial as a separate np.array\n",
    "groups = eda_raw.group_by([\"Trial\"], maintain_order=True)\n",
    "eda_raw_trials = []\n",
    "for _, group in groups:\n",
    "    eda_raw_trials.append(group.select('EDA_RAW').to_numpy().flatten())\n",
    "\"\"\"\n",
    "eda_raw#= eda_raw.select('EDA_RAW')\n"
   ]
  },
  {
   "cell_type": "code",
   "execution_count": null,
   "metadata": {},
   "outputs": [],
   "source": [
    "def apply_func_trial(func, df, **kwargs) -> pl.DataFrame:\n",
    "    \"\"\"Apply function to each trial in a DataFrame.\"\"\"\n",
    "    # Pass additional kwargs to the function\n",
    "    df = df.group_by('Trial').map_groups(lambda group: func(group, **kwargs))\n",
    "    return df"
   ]
  },
  {
   "cell_type": "code",
   "execution_count": null,
   "metadata": {},
   "outputs": [],
   "source": []
  },
  {
   "cell_type": "markdown",
   "metadata": {},
   "source": [
    "## neurokit"
   ]
  },
  {
   "cell_type": "code",
   "execution_count": 263,
   "metadata": {},
   "outputs": [
    {
     "data": {
      "text/html": [
       "<div><style>\n",
       ".dataframe > thead > tr,\n",
       ".dataframe > tbody > tr {\n",
       "  text-align: right;\n",
       "  white-space: pre-wrap;\n",
       "}\n",
       "</style>\n",
       "<small>shape: (168_232, 5)</small><table border=\"1\" class=\"dataframe\"><thead><tr><th>Timestamp</th><th>EDA_RAW</th><th>Trial</th><th>EDA_Tonic</th><th>EDA_Phasic</th></tr><tr><td>f64</td><td>f64</td><td>i64</td><td>f64</td><td>f64</td></tr></thead><tbody><tr><td>188041.074</td><td>6.057357</td><td>0</td><td>6.906608</td><td>-0.849225</td></tr><tr><td>188049.0512</td><td>6.062463</td><td>0</td><td>6.909742</td><td>-0.852907</td></tr><tr><td>188064.0122</td><td>6.057357</td><td>0</td><td>6.912882</td><td>-0.856589</td></tr><tr><td>&hellip;</td><td>&hellip;</td><td>&hellip;</td><td>&hellip;</td><td>&hellip;</td></tr><tr><td>1.1793e6</td><td>7.139666</td><td>2</td><td>6.97129</td><td>0.0078</td></tr><tr><td>1.1793e6</td><td>7.144772</td><td>2</td><td>6.97129</td><td>0.007011</td></tr><tr><td>1.1793e6</td><td>7.139666</td><td>2</td><td>6.97129</td><td>0.006191</td></tr></tbody></table></div>"
      ],
      "text/plain": [
       "shape: (168_232, 5)\n",
       "┌─────────────┬──────────┬───────┬───────────┬────────────┐\n",
       "│ Timestamp   ┆ EDA_RAW  ┆ Trial ┆ EDA_Tonic ┆ EDA_Phasic │\n",
       "│ ---         ┆ ---      ┆ ---   ┆ ---       ┆ ---        │\n",
       "│ f64         ┆ f64      ┆ i64   ┆ f64       ┆ f64        │\n",
       "╞═════════════╪══════════╪═══════╪═══════════╪════════════╡\n",
       "│ 188041.074  ┆ 6.057357 ┆ 0     ┆ 6.906608  ┆ -0.849225  │\n",
       "│ 188049.0512 ┆ 6.062463 ┆ 0     ┆ 6.909742  ┆ -0.852907  │\n",
       "│ 188064.0122 ┆ 6.057357 ┆ 0     ┆ 6.912882  ┆ -0.856589  │\n",
       "│ …           ┆ …        ┆ …     ┆ …         ┆ …          │\n",
       "│ 1.1793e6    ┆ 7.139666 ┆ 2     ┆ 6.97129   ┆ 0.008555   │\n",
       "│ 1.1793e6    ┆ 7.139666 ┆ 2     ┆ 6.97129   ┆ 0.0078     │\n",
       "│ 1.1793e6    ┆ 7.144772 ┆ 2     ┆ 6.97129   ┆ 0.007011   │\n",
       "│ 1.1793e6    ┆ 7.139666 ┆ 2     ┆ 6.97129   ┆ 0.006191   │\n",
       "└─────────────┴──────────┴───────┴───────────┴────────────┘"
      ]
     },
     "execution_count": 263,
     "metadata": {},
     "output_type": "execute_result"
    }
   ],
   "source": [
    "\n",
    "\n",
    "def neurokit_eda_process(df: pl.DataFrame, sampling_rate) -> pl.DataFrame:\n",
    "    array_np = df.select('EDA_RAW').to_numpy().flatten()\n",
    "    df_pd, info = nk.eda_process(array_np, sampling_rate=sampling_rate)\n",
    "    df_to_add = pl.from_pandas(df_pd[['EDA_Tonic', 'EDA_Phasic']])\n",
    "    df = df.hstack(df_to_add)\n",
    "    return df\n",
    "\n",
    "# Example usage\n",
    "\n",
    "eda = apply_func_trial(neurokit_eda_process, eda_raw, sampling_rate=sampling_rate)\n",
    "eda\n"
   ]
  },
  {
   "cell_type": "code",
   "execution_count": null,
   "metadata": {},
   "outputs": [],
   "source": [
    "eda_processed, info = nk.eda_process(eda_raw_trial, sampling_rate=sampling_rate, method=\"neurokit\")\n",
    "plot = nk.eda_plot(eda_processed, info)\n",
    "eda_processed['EDA_Tonic']\n"
   ]
  },
  {
   "cell_type": "code",
   "execution_count": null,
   "metadata": {},
   "outputs": [],
   "source": [
    "# Filter phasic and tonic components\n",
    "eda_processed_2 = nk.eda_phasic(nk.standardize(eda_raw_trial), sampling_rate=sampling_rate)\n",
    "eda_processed_2.plot()\n",
    "plt.plot(eda_raw_trial)\n",
    "eda_processed_2"
   ]
  },
  {
   "cell_type": "code",
   "execution_count": null,
   "metadata": {},
   "outputs": [],
   "source": [
    "# Decompose using different algorithms\n",
    "smoothMedian = nk.eda_phasic(eda_raw_trial, method='smoothmedian')\n",
    "highpass = nk.eda_phasic(eda_raw_trial, method='highpass')\n",
    "sparse = nk.eda_phasic(eda_raw_trial, method='smoothmedian')\n",
    "# NOTE: smoothMedian and highpass are quite slow (3 seconds for 1 trial)\n",
    "\n",
    "# Extract tonic and phasic components for plotting\n",
    "t1, p1 = smoothMedian[\"EDA_Tonic\"].values, smoothMedian[\"EDA_Phasic\"].values\n",
    "t2, p2 = highpass[\"EDA_Tonic\"].values, highpass[\"EDA_Phasic\"].values\n",
    "t3, p3 = sparse[\"EDA_Tonic\"].values, sparse[\"EDA_Phasic\"].values"
   ]
  },
  {
   "cell_type": "code",
   "execution_count": null,
   "metadata": {},
   "outputs": [],
   "source": [
    "# Plot tonic\n",
    "nk.signal_plot([t1, t2, t3], labels=[\"SmoothMedian\", \"Highpass\", \"Sparse\"])\n",
    "# NOTE: SmoothMedian and Sparse are very similar"
   ]
  },
  {
   "cell_type": "code",
   "execution_count": null,
   "metadata": {},
   "outputs": [],
   "source": [
    "# Plot phasic\n",
    "nk.signal_plot([p1, p2, p3], labels=[\"SmoothMedian\", \"Highpass\", \"Sparse\"])"
   ]
  },
  {
   "cell_type": "markdown",
   "metadata": {},
   "source": [
    "### biosppy"
   ]
  },
  {
   "cell_type": "code",
   "execution_count": null,
   "metadata": {},
   "outputs": [],
   "source": [
    "import numpy as np\n",
    "from biosppy.signals import eda\n",
    "\n",
    "# process it and plot\n",
    "out = eda.eda(signal=eda_raw_trial, sampling_rate=100., show=True)\n",
    "plt.style.use('default') # reset style"
   ]
  },
  {
   "cell_type": "code",
   "execution_count": null,
   "metadata": {},
   "outputs": [],
   "source": []
  },
  {
   "cell_type": "markdown",
   "metadata": {},
   "source": [
    "## ledapy"
   ]
  },
  {
   "cell_type": "code",
   "execution_count": null,
   "metadata": {},
   "outputs": [],
   "source": [
    "import ledapy\n",
    "sampling_rate = 128\n",
    "\n",
    "phasicdata = ledapy.runner.getResult(eda_raw_trial, 'phasicdata', sampling_rate, downsample=1, optimisation=2)\n",
    "plt.plot(phasicdata)\n",
    "phasicdata.shape, eda_raw_trial.shape"
   ]
  },
  {
   "cell_type": "markdown",
   "metadata": {},
   "source": [
    "## pyEDA"
   ]
  },
  {
   "cell_type": "code",
   "execution_count": null,
   "metadata": {},
   "outputs": [],
   "source": []
  },
  {
   "cell_type": "code",
   "execution_count": null,
   "metadata": {},
   "outputs": [],
   "source": []
  },
  {
   "cell_type": "markdown",
   "metadata": {},
   "source": [
    "# Comparison"
   ]
  },
  {
   "cell_type": "code",
   "execution_count": null,
   "metadata": {},
   "outputs": [],
   "source": [
    "eda_raw.plot(y='EDA_RAW', x='Timestamp', label='EDA_RAW', legend=True)"
   ]
  }
 ],
 "metadata": {
  "kernelspec": {
   "display_name": "learning",
   "language": "python",
   "name": "python3"
  },
  "language_info": {
   "codemirror_mode": {
    "name": "ipython",
    "version": 3
   },
   "file_extension": ".py",
   "mimetype": "text/x-python",
   "name": "python",
   "nbconvert_exporter": "python",
   "pygments_lexer": "ipython3",
   "version": "3.11.7"
  },
  "orig_nbformat": 4
 },
 "nbformat": 4,
 "nbformat_minor": 2
}
