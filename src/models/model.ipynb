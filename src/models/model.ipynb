{
    "cells": [
        {
            "cell_type": "code",
            "execution_count": 2,
            "metadata": {},
            "outputs": [],
            "source": [
                "%%capture\n",
                "from pathlib import Path\n",
                "\n",
                "if Path.cwd().stem == \"models\":\n",
                "    %cd ../..\n",
                "    %load_ext autoreload\n",
                "    %autoreload 2"
            ]
        },
        {
            "cell_type": "code",
            "execution_count": 3,
            "metadata": {},
            "outputs": [],
            "source": [
                "import logging\n",
                "from pathlib import Path\n",
                "\n",
                "import holoviews as hv\n",
                "import hvplot.polars  # noqa\n",
                "import ipywidgets\n",
                "import matplotlib.pyplot as plt\n",
                "import numpy as np\n",
                "import optuna\n",
                "import polars as pl\n",
                "import seaborn as sns\n",
                "import torch\n",
                "import torch.nn as nn\n",
                "import torch.optim as optim\n",
                "from icecream import ic\n",
                "from polars import col\n",
                "from sklearn.metrics import auc, confusion_matrix, roc_curve\n",
                "from sklearn.model_selection import GroupShuffleSplit\n",
                "from torch.utils.data import DataLoader, TensorDataset\n",
                "\n",
                "from src.data.database_manager import DatabaseManager\n",
                "from src.features.labels import add_labels\n",
                "from src.features.resampling import (\n",
                "    add_normalized_timestamp,\n",
                "    interpolate_and_fill_nulls,\n",
                "    resample_at_10_hz_equidistant,\n",
                ")\n",
                "from src.features.scaling import scale_min_max, scale_robust_standard, scale_standard\n",
                "from src.features.transforming import merge_dfs\n",
                "from src.features.utils import to_describe\n",
                "from src.log_config import configure_logging\n",
                "from src.models.architectures import MultiLayerPerceptron\n",
                "from src.models.data_loader import transform_df_to_arrays\n",
                "from src.models.sample_creation import create_samples, make_sample_set_balanced\n",
                "from src.models.scalers import StandardScaler3D\n",
                "from src.models.utils import get_device\n",
                "\n",
                "configure_logging(\n",
                "    stream_level=logging.DEBUG,\n",
                "    ignore_libs=[\"matplotlib\", \"Comm\", \"bokeh\", \"tornado\"],\n",
                ")\n",
                "\n",
                "pl.Config.set_tbl_rows(12)  # for the 12 trials\n",
                "hv.output(widget_location=\"bottom\", size=130)\n",
                "\n",
                "db = DatabaseManager()"
            ]
        },
        {
            "cell_type": "code",
            "execution_count": 4,
            "metadata": {},
            "outputs": [],
            "source": [
                "with db:\n",
                "    df = db.get_table(\"Merged_and_Labeled_Data\")"
            ]
        },
        {
            "cell_type": "code",
            "execution_count": 5,
            "metadata": {},
            "outputs": [
                {
                    "data": {
                        "application/vnd.jupyter.widget-view+json": {
                            "model_id": "fe40e988bc6c4fadb121f444a9f9dfe4",
                            "version_major": 2,
                            "version_minor": 0
                        },
                        "text/plain": [
                            "BokehModel(combine_events=True, render_bundle={'docs_json': {'5b91412f-19f5-4125-a136-7eebff48a8fa': {'version…"
                        ]
                    },
                    "execution_count": 5,
                    "metadata": {},
                    "output_type": "execute_result"
                }
            ],
            "source": [
                "df.hvplot(\n",
                "    x=\"timestamp\",\n",
                "    y=[\"temperature\", \"eda_tonic\", \"pupil_mean\", \"pupil_mean_tonic\"],\n",
                "    groupby=\"trial_id\",\n",
                "    height=300,\n",
                ")"
            ]
        },
        {
            "cell_type": "code",
            "execution_count": 6,
            "metadata": {},
            "outputs": [
                {
                    "data": {
                        "text/html": [
                            "<div><style>\n",
                            ".dataframe > thead > tr,\n",
                            ".dataframe > tbody > tr {\n",
                            "  text-align: right;\n",
                            "  white-space: pre-wrap;\n",
                            "}\n",
                            "</style>\n",
                            "<small>shape: (35_802, 37)</small><table border=\"1\" class=\"dataframe\"><thead><tr><th>trial_id</th><th>trial_number</th><th>participant_id</th><th>timestamp</th><th>temperature</th><th>rating</th><th>eda_raw</th><th>eda_tonic</th><th>eda_phasic</th><th>ppg_raw</th><th>ppg_ibi_shimmer</th><th>heartrate</th><th>pupil_l_raw</th><th>pupil_r_raw</th><th>pupil_r</th><th>pupil_l</th><th>pupil_mean</th><th>pupil_mean_tonic</th><th>brow_furrow</th><th>cheek_raise</th><th>mouth_open</th><th>upper_lip_raise</th><th>nose_wrinkle</th><th>normalized_timestamp</th><th>stimulus_seed</th><th>skin_patch</th><th>decreasing_intervals</th><th>major_decreasing_intervals</th><th>increasing_intervals</th><th>strictly_increasing_intervals</th><th>strictly_increasing_intervals_without_plateaus</th><th>plateau_intervals</th><th>prolonged_minima_intervals</th><th>normalized_timestamp_decreases</th><th>normalized_timestamp_increases</th><th>label</th><th>sample_id</th></tr><tr><td>u16</td><td>u8</td><td>u8</td><td>f64</td><td>f64</td><td>f64</td><td>f64</td><td>f64</td><td>f64</td><td>f64</td><td>f64</td><td>f64</td><td>f64</td><td>f64</td><td>f64</td><td>f64</td><td>f64</td><td>f64</td><td>f64</td><td>f64</td><td>f64</td><td>f64</td><td>f64</td><td>f64</td><td>u16</td><td>u8</td><td>u16</td><td>u16</td><td>u16</td><td>u16</td><td>u16</td><td>u16</td><td>u16</td><td>f64</td><td>f64</td><td>u8</td><td>u16</td></tr></thead><tbody><tr><td>23</td><td>1</td><td>3</td><td>236209.3687</td><td>0.46397</td><td>0.455</td><td>6.535266</td><td>6.632551</td><td>-0.097284</td><td>1322.213354</td><td>-1.64591</td><td>59.286762</td><td>3.370299</td><td>3.853124</td><td>3.853168</td><td>3.370253</td><td>3.611711</td><td>3.65844</td><td>0.000062</td><td>0.000858</td><td>0.003909</td><td>0.006845</td><td>0.008707</td><td>51400.0</td><td>658</td><td>1</td><td>111</td><td>67</td><td>0</td><td>0</td><td>0</td><td>0</td><td>0</td><td>0.0</td><td>null</td><td>1</td><td>67</td></tr><tr><td>23</td><td>1</td><td>3</td><td>236309.3687</td><td>0.46397</td><td>0.455</td><td>6.531334</td><td>6.634214</td><td>-0.10288</td><td>1325.943743</td><td>-0.927363</td><td>59.280127</td><td>3.338885</td><td>3.801375</td><td>3.801239</td><td>3.343706</td><td>3.572473</td><td>3.655486</td><td>0.000052</td><td>0.001115</td><td>0.00354</td><td>0.007678</td><td>0.007475</td><td>51500.0</td><td>658</td><td>1</td><td>111</td><td>67</td><td>0</td><td>0</td><td>0</td><td>0</td><td>0</td><td>100.0</td><td>null</td><td>1</td><td>67</td></tr><tr><td>23</td><td>1</td><td>3</td><td>236409.3687</td><td>0.46397</td><td>0.455</td><td>6.529842</td><td>6.635822</td><td>-0.105981</td><td>1392.068464</td><td>-0.304778</td><td>59.277321</td><td>3.327683</td><td>3.753263</td><td>3.753463</td><td>3.336321</td><td>3.544892</td><td>3.653064</td><td>0.000065</td><td>0.001097</td><td>0.0043</td><td>0.006562</td><td>0.006595</td><td>51600.0</td><td>658</td><td>1</td><td>111</td><td>67</td><td>0</td><td>0</td><td>0</td><td>0</td><td>0</td><td>200.0</td><td>null</td><td>1</td><td>67</td></tr><tr><td>23</td><td>1</td><td>3</td><td>236509.3687</td><td>0.46397</td><td>0.455</td><td>6.527551</td><td>6.638158</td><td>-0.110607</td><td>1464.893286</td><td>-1.779926</td><td>59.285558</td><td>3.33325</td><td>3.726177</td><td>3.729844</td><td>3.335734</td><td>3.532789</td><td>3.651319</td><td>0.00008</td><td>0.001164</td><td>0.003691</td><td>0.007261</td><td>0.007447</td><td>51700.0</td><td>658</td><td>1</td><td>111</td><td>67</td><td>0</td><td>0</td><td>0</td><td>0</td><td>0</td><td>300.0</td><td>null</td><td>1</td><td>67</td></tr><tr><td>23</td><td>1</td><td>3</td><td>236609.3687</td><td>0.46397</td><td>0.442158</td><td>6.529655</td><td>6.640425</td><td>-0.11077</td><td>1441.447011</td><td>-0.096634</td><td>59.309224</td><td>3.337177</td><td>3.712914</td><td>3.726838</td><td>3.334898</td><td>3.530868</td><td>3.650365</td><td>0.000077</td><td>0.001197</td><td>0.003455</td><td>0.008919</td><td>0.008374</td><td>51800.0</td><td>658</td><td>1</td><td>111</td><td>67</td><td>0</td><td>0</td><td>0</td><td>0</td><td>0</td><td>400.0</td><td>null</td><td>1</td><td>67</td></tr><tr><td>23</td><td>1</td><td>3</td><td>236709.3687</td><td>0.46397</td><td>0.413454</td><td>6.533682</td><td>6.643057</td><td>-0.109375</td><td>1415.23236</td><td>-1.679425</td><td>59.361471</td><td>3.333878</td><td>3.702869</td><td>3.727131</td><td>3.335094</td><td>3.531112</td><td>3.650288</td><td>0.000077</td><td>0.00095</td><td>0.003766</td><td>0.010644</td><td>0.009061</td><td>51900.0</td><td>658</td><td>1</td><td>111</td><td>67</td><td>0</td><td>0</td><td>0</td><td>0</td><td>0</td><td>500.0</td><td>null</td><td>1</td><td>67</td></tr><tr><td>&hellip;</td><td>&hellip;</td><td>&hellip;</td><td>&hellip;</td><td>&hellip;</td><td>&hellip;</td><td>&hellip;</td><td>&hellip;</td><td>&hellip;</td><td>&hellip;</td><td>&hellip;</td><td>&hellip;</td><td>&hellip;</td><td>&hellip;</td><td>&hellip;</td><td>&hellip;</td><td>&hellip;</td><td>&hellip;</td><td>&hellip;</td><td>&hellip;</td><td>&hellip;</td><td>&hellip;</td><td>&hellip;</td><td>&hellip;</td><td>&hellip;</td><td>&hellip;</td><td>&hellip;</td><td>&hellip;</td><td>&hellip;</td><td>&hellip;</td><td>&hellip;</td><td>&hellip;</td><td>&hellip;</td><td>&hellip;</td><td>&hellip;</td><td>&hellip;</td><td>&hellip;</td></tr><tr><td>383</td><td>5</td><td>37</td><td>1.0484e6</td><td>0.31191</td><td>0.745</td><td>16.635482</td><td>16.600092</td><td>0.03539</td><td>1537.864376</td><td>4.177162</td><td>76.62132</td><td>4.762554</td><td>4.599494</td><td>4.572858</td><td>4.779266</td><td>4.676062</td><td>4.610185</td><td>0.000011</td><td>0.00001</td><td>0.000455</td><td>0.0</td><td>0.000014</td><td>4500.0</td><td>265</td><td>5</td><td>0</td><td>0</td><td>1911</td><td>1911</td><td>1147</td><td>0</td><td>0</td><td>null</td><td>4500.0</td><td>0</td><td>2684</td></tr><tr><td>383</td><td>5</td><td>37</td><td>1.0485e6</td><td>0.322781</td><td>0.745</td><td>16.636424</td><td>16.596277</td><td>0.040147</td><td>1491.172861</td><td>-3.545372</td><td>76.019</td><td>4.908121</td><td>4.839422</td><td>4.593933</td><td>4.749817</td><td>4.671875</td><td>4.60684</td><td>0.00003</td><td>0.00001</td><td>0.000721</td><td>0.0</td><td>0.000022</td><td>4600.0</td><td>265</td><td>5</td><td>0</td><td>0</td><td>1911</td><td>1911</td><td>1147</td><td>0</td><td>0</td><td>null</td><td>4600.0</td><td>0</td><td>2684</td></tr><tr><td>383</td><td>5</td><td>37</td><td>1.0486e6</td><td>0.333644</td><td>0.745</td><td>16.641345</td><td>16.592452</td><td>0.048893</td><td>1443.146733</td><td>1.769431</td><td>75.551191</td><td>4.961983</td><td>4.918737</td><td>4.591705</td><td>4.718207</td><td>4.654956</td><td>4.603664</td><td>0.000009</td><td>0.00001</td><td>0.000247</td><td>0.0</td><td>0.000009</td><td>4700.0</td><td>265</td><td>5</td><td>0</td><td>0</td><td>1911</td><td>1911</td><td>1147</td><td>0</td><td>0</td><td>null</td><td>4700.0</td><td>0</td><td>2684</td></tr><tr><td>383</td><td>5</td><td>37</td><td>1.0487e6</td><td>0.34453</td><td>0.745</td><td>16.643045</td><td>16.588236</td><td>0.054809</td><td>1394.487562</td><td>-3.296476</td><td>75.155316</td><td>4.922987</td><td>4.821347</td><td>4.587316</td><td>4.702039</td><td>4.644678</td><td>4.600737</td><td>0.0</td><td>0.00001</td><td>0.001646</td><td>0.0</td><td>0.000002</td><td>4800.0</td><td>265</td><td>5</td><td>0</td><td>0</td><td>1911</td><td>1911</td><td>1147</td><td>0</td><td>0</td><td>null</td><td>4800.0</td><td>0</td><td>2684</td></tr><tr><td>383</td><td>5</td><td>37</td><td>1.0488e6</td><td>0.355378</td><td>0.745</td><td>16.640617</td><td>16.584256</td><td>0.056361</td><td>1356.656584</td><td>0.488711</td><td>74.840054</td><td>4.816184</td><td>4.685327</td><td>4.599989</td><td>4.715726</td><td>4.657858</td><td>4.598139</td><td>0.000007</td><td>0.00001</td><td>0.000575</td><td>0.0</td><td>0.00001</td><td>4900.0</td><td>265</td><td>5</td><td>0</td><td>0</td><td>1911</td><td>1911</td><td>1147</td><td>0</td><td>0</td><td>null</td><td>4900.0</td><td>0</td><td>2684</td></tr><tr><td>383</td><td>5</td><td>37</td><td>1.0489e6</td><td>0.366144</td><td>0.745</td><td>16.641937</td><td>16.580222</td><td>0.061715</td><td>1341.581979</td><td>-0.531146</td><td>74.525246</td><td>4.6972</td><td>4.583536</td><td>4.553507</td><td>4.670216</td><td>4.611862</td><td>4.595964</td><td>0.000008</td><td>0.00001</td><td>0.000502</td><td>0.0</td><td>0.0</td><td>5000.0</td><td>265</td><td>5</td><td>0</td><td>0</td><td>1911</td><td>1911</td><td>1147</td><td>0</td><td>0</td><td>null</td><td>5000.0</td><td>0</td><td>2684</td></tr></tbody></table></div>"
                        ],
                        "text/plain": [
                            "shape: (35_802, 37)\n",
                            "┌──────────┬────────────┬────────────┬────────────┬───┬────────────┬───────────┬───────┬───────────┐\n",
                            "│ trial_id ┆ trial_numb ┆ participan ┆ timestamp  ┆ … ┆ normalized ┆ normalize ┆ label ┆ sample_id │\n",
                            "│ ---      ┆ er         ┆ t_id       ┆ ---        ┆   ┆ _timestamp ┆ d_timesta ┆ ---   ┆ ---       │\n",
                            "│ u16      ┆ ---        ┆ ---        ┆ f64        ┆   ┆ _decreases ┆ mp_increa ┆ u8    ┆ u16       │\n",
                            "│          ┆ u8         ┆ u8         ┆            ┆   ┆ ---        ┆ ses       ┆       ┆           │\n",
                            "│          ┆            ┆            ┆            ┆   ┆ f64        ┆ ---       ┆       ┆           │\n",
                            "│          ┆            ┆            ┆            ┆   ┆            ┆ f64       ┆       ┆           │\n",
                            "╞══════════╪════════════╪════════════╪════════════╪═══╪════════════╪═══════════╪═══════╪═══════════╡\n",
                            "│ 23       ┆ 1          ┆ 3          ┆ 236209.368 ┆ … ┆ 0.0        ┆ null      ┆ 1     ┆ 67        │\n",
                            "│          ┆            ┆            ┆ 7          ┆   ┆            ┆           ┆       ┆           │\n",
                            "│ 23       ┆ 1          ┆ 3          ┆ 236309.368 ┆ … ┆ 100.0      ┆ null      ┆ 1     ┆ 67        │\n",
                            "│          ┆            ┆            ┆ 7          ┆   ┆            ┆           ┆       ┆           │\n",
                            "│ 23       ┆ 1          ┆ 3          ┆ 236409.368 ┆ … ┆ 200.0      ┆ null      ┆ 1     ┆ 67        │\n",
                            "│          ┆            ┆            ┆ 7          ┆   ┆            ┆           ┆       ┆           │\n",
                            "│ 23       ┆ 1          ┆ 3          ┆ 236509.368 ┆ … ┆ 300.0      ┆ null      ┆ 1     ┆ 67        │\n",
                            "│          ┆            ┆            ┆ 7          ┆   ┆            ┆           ┆       ┆           │\n",
                            "│ 23       ┆ 1          ┆ 3          ┆ 236609.368 ┆ … ┆ 400.0      ┆ null      ┆ 1     ┆ 67        │\n",
                            "│          ┆            ┆            ┆ 7          ┆   ┆            ┆           ┆       ┆           │\n",
                            "│ 23       ┆ 1          ┆ 3          ┆ 236709.368 ┆ … ┆ 500.0      ┆ null      ┆ 1     ┆ 67        │\n",
                            "│          ┆            ┆            ┆ 7          ┆   ┆            ┆           ┆       ┆           │\n",
                            "│ …        ┆ …          ┆ …          ┆ …          ┆ … ┆ …          ┆ …         ┆ …     ┆ …         │\n",
                            "│ 383      ┆ 5          ┆ 37         ┆ 1.0484e6   ┆ … ┆ null       ┆ 4500.0    ┆ 0     ┆ 2684      │\n",
                            "│ 383      ┆ 5          ┆ 37         ┆ 1.0485e6   ┆ … ┆ null       ┆ 4600.0    ┆ 0     ┆ 2684      │\n",
                            "│ 383      ┆ 5          ┆ 37         ┆ 1.0486e6   ┆ … ┆ null       ┆ 4700.0    ┆ 0     ┆ 2684      │\n",
                            "│ 383      ┆ 5          ┆ 37         ┆ 1.0487e6   ┆ … ┆ null       ┆ 4800.0    ┆ 0     ┆ 2684      │\n",
                            "│ 383      ┆ 5          ┆ 37         ┆ 1.0488e6   ┆ … ┆ null       ┆ 4900.0    ┆ 0     ┆ 2684      │\n",
                            "│ 383      ┆ 5          ┆ 37         ┆ 1.0489e6   ┆ … ┆ null       ┆ 5000.0    ┆ 0     ┆ 2684      │\n",
                            "└──────────┴────────────┴────────────┴────────────┴───┴────────────┴───────────┴───────┴───────────┘"
                        ]
                    },
                    "execution_count": 6,
                    "metadata": {},
                    "output_type": "execute_result"
                }
            ],
            "source": [
                "intervals = {\n",
                "    # \"decreases\": \"decreasing_intervals\",\n",
                "    \"decreases\": \"major_decreasing_intervals\",\n",
                "    \"increases\": \"strictly_increasing_intervals_without_plateaus\",\n",
                "}\n",
                "\n",
                "samples = create_samples(df, intervals, length_ms=5000)\n",
                "samples = make_sample_set_balanced(samples)\n",
                "samples\n"
            ]
        },
        {
            "cell_type": "code",
            "execution_count": 61,
            "metadata": {},
            "outputs": [
                {
                    "data": {
                        "text/html": [
                            "<div><style>\n",
                            ".dataframe > thead > tr,\n",
                            ".dataframe > tbody > tr {\n",
                            "  text-align: right;\n",
                            "  white-space: pre-wrap;\n",
                            "}\n",
                            "</style>\n",
                            "<small>shape: (186_800, 9)</small><table border=\"1\" class=\"dataframe\"><thead><tr><th>sample_id</th><th>participant_id</th><th>rating</th><th>temperature</th><th>eda_raw</th><th>eda_tonic</th><th>eda_phasic</th><th>pupil_mean</th><th>label</th></tr><tr><td>u16</td><td>u8</td><td>f64</td><td>f64</td><td>f64</td><td>f64</td><td>f64</td><td>f64</td><td>u8</td></tr></thead><tbody><tr><td>1</td><td>3</td><td>1.0</td><td>1.0</td><td>6.664139</td><td>6.700072</td><td>-0.035933</td><td>4.254981</td><td>1</td></tr><tr><td>1</td><td>3</td><td>1.0</td><td>0.999963</td><td>6.708477</td><td>6.712371</td><td>-0.003893</td><td>4.256771</td><td>1</td></tr><tr><td>1</td><td>3</td><td>1.0</td><td>0.999829</td><td>6.744398</td><td>6.72465</td><td>0.019749</td><td>4.260455</td><td>1</td></tr><tr><td>1</td><td>3</td><td>1.0</td><td>0.999576</td><td>6.767904</td><td>6.737501</td><td>0.030404</td><td>4.272392</td><td>1</td></tr><tr><td>1</td><td>3</td><td>1.0</td><td>0.999205</td><td>6.790309</td><td>6.748903</td><td>0.041406</td><td>4.293056</td><td>1</td></tr><tr><td>1</td><td>3</td><td>1.0</td><td>0.998715</td><td>6.810005</td><td>6.760571</td><td>0.049434</td><td>4.320735</td><td>1</td></tr><tr><td>&hellip;</td><td>&hellip;</td><td>&hellip;</td><td>&hellip;</td><td>&hellip;</td><td>&hellip;</td><td>&hellip;</td><td>&hellip;</td><td>&hellip;</td></tr><tr><td>4669</td><td>50</td><td>0.201534</td><td>0.550648</td><td>28.014491</td><td>27.649801</td><td>0.364691</td><td>5.54375</td><td>0</td></tr><tr><td>4669</td><td>50</td><td>0.281235</td><td>0.566078</td><td>28.028736</td><td>27.657549</td><td>0.371187</td><td>5.555003</td><td>0</td></tr><tr><td>4669</td><td>50</td><td>0.34927</td><td>0.581691</td><td>28.044775</td><td>27.66556</td><td>0.379215</td><td>5.563552</td><td>0</td></tr><tr><td>4669</td><td>50</td><td>0.413282</td><td>0.597184</td><td>28.058645</td><td>27.673215</td><td>0.38543</td><td>5.563949</td><td>0</td></tr><tr><td>4669</td><td>50</td><td>0.471311</td><td>0.612597</td><td>28.062966</td><td>27.681188</td><td>0.381778</td><td>5.558605</td><td>0</td></tr><tr><td>4669</td><td>50</td><td>0.51655</td><td>0.627982</td><td>28.066265</td><td>27.688689</td><td>0.377576</td><td>5.548888</td><td>0</td></tr></tbody></table></div>"
                        ],
                        "text/plain": [
                            "shape: (186_800, 9)\n",
                            "┌───────────┬────────────┬──────────┬────────────┬───┬───────────┬────────────┬────────────┬───────┐\n",
                            "│ sample_id ┆ participan ┆ rating   ┆ temperatur ┆ … ┆ eda_tonic ┆ eda_phasic ┆ pupil_mean ┆ label │\n",
                            "│ ---       ┆ t_id       ┆ ---      ┆ e          ┆   ┆ ---       ┆ ---        ┆ ---        ┆ ---   │\n",
                            "│ u16       ┆ ---        ┆ f64      ┆ ---        ┆   ┆ f64       ┆ f64        ┆ f64        ┆ u8    │\n",
                            "│           ┆ u8         ┆          ┆ f64        ┆   ┆           ┆            ┆            ┆       │\n",
                            "╞═══════════╪════════════╪══════════╪════════════╪═══╪═══════════╪════════════╪════════════╪═══════╡\n",
                            "│ 1         ┆ 3          ┆ 1.0      ┆ 1.0        ┆ … ┆ 6.700072  ┆ -0.035933  ┆ 4.254981   ┆ 1     │\n",
                            "│ 1         ┆ 3          ┆ 1.0      ┆ 0.999963   ┆ … ┆ 6.712371  ┆ -0.003893  ┆ 4.256771   ┆ 1     │\n",
                            "│ 1         ┆ 3          ┆ 1.0      ┆ 0.999829   ┆ … ┆ 6.72465   ┆ 0.019749   ┆ 4.260455   ┆ 1     │\n",
                            "│ 1         ┆ 3          ┆ 1.0      ┆ 0.999576   ┆ … ┆ 6.737501  ┆ 0.030404   ┆ 4.272392   ┆ 1     │\n",
                            "│ 1         ┆ 3          ┆ 1.0      ┆ 0.999205   ┆ … ┆ 6.748903  ┆ 0.041406   ┆ 4.293056   ┆ 1     │\n",
                            "│ 1         ┆ 3          ┆ 1.0      ┆ 0.998715   ┆ … ┆ 6.760571  ┆ 0.049434   ┆ 4.320735   ┆ 1     │\n",
                            "│ …         ┆ …          ┆ …        ┆ …          ┆ … ┆ …         ┆ …          ┆ …          ┆ …     │\n",
                            "│ 4669      ┆ 50         ┆ 0.201534 ┆ 0.550648   ┆ … ┆ 27.649801 ┆ 0.364691   ┆ 5.54375    ┆ 0     │\n",
                            "│ 4669      ┆ 50         ┆ 0.281235 ┆ 0.566078   ┆ … ┆ 27.657549 ┆ 0.371187   ┆ 5.555003   ┆ 0     │\n",
                            "│ 4669      ┆ 50         ┆ 0.34927  ┆ 0.581691   ┆ … ┆ 27.66556  ┆ 0.379215   ┆ 5.563552   ┆ 0     │\n",
                            "│ 4669      ┆ 50         ┆ 0.413282 ┆ 0.597184   ┆ … ┆ 27.673215 ┆ 0.38543    ┆ 5.563949   ┆ 0     │\n",
                            "│ 4669      ┆ 50         ┆ 0.471311 ┆ 0.612597   ┆ … ┆ 27.681188 ┆ 0.381778   ┆ 5.558605   ┆ 0     │\n",
                            "│ 4669      ┆ 50         ┆ 0.51655  ┆ 0.627982   ┆ … ┆ 27.688689 ┆ 0.377576   ┆ 5.548888   ┆ 0     │\n",
                            "└───────────┴────────────┴──────────┴────────────┴───┴───────────┴────────────┴────────────┴───────┘"
                        ]
                    },
                    "execution_count": 61,
                    "metadata": {},
                    "output_type": "execute_result"
                }
            ],
            "source": [
                "samples = samples.select(\n",
                "    \"sample_id\",\n",
                "    \"participant_id\",\n",
                "    \"rating\",\n",
                "    \"temperature\",\n",
                "    \"eda_raw\",\n",
                "    \"eda_tonic\",\n",
                "    \"eda_phasic\",\n",
                "    \"pupil_mean\",\n",
                "    \"label\",\n",
                ")\n",
                "samples"
            ]
        },
        {
            "cell_type": "code",
            "execution_count": 62,
            "metadata": {},
            "outputs": [
                {
                    "data": {
                        "text/html": [
                            "<div><style>\n",
                            ".dataframe > thead > tr,\n",
                            ".dataframe > tbody > tr {\n",
                            "  text-align: right;\n",
                            "  white-space: pre-wrap;\n",
                            "}\n",
                            "</style>\n",
                            "<small>shape: (2, 2)</small><table border=\"1\" class=\"dataframe\"><thead><tr><th>label</th><th>count</th></tr><tr><td>u8</td><td>u32</td></tr></thead><tbody><tr><td>0</td><td>70050</td></tr><tr><td>1</td><td>116750</td></tr></tbody></table></div>"
                        ],
                        "text/plain": [
                            "shape: (2, 2)\n",
                            "┌───────┬────────┐\n",
                            "│ label ┆ count  │\n",
                            "│ ---   ┆ ---    │\n",
                            "│ u8    ┆ u32    │\n",
                            "╞═══════╪════════╡\n",
                            "│ 0     ┆ 70050  │\n",
                            "│ 1     ┆ 116750 │\n",
                            "└───────┴────────┘"
                        ]
                    },
                    "execution_count": 62,
                    "metadata": {},
                    "output_type": "execute_result"
                }
            ],
            "source": [
                "samples[\"label\"].value_counts()"
            ]
        },
        {
            "cell_type": "code",
            "execution_count": 63,
            "metadata": {},
            "outputs": [
                {
                    "data": {
                        "text/plain": [
                            "1401.0"
                        ]
                    },
                    "execution_count": 63,
                    "metadata": {},
                    "output_type": "execute_result"
                }
            ],
            "source": [
                "70050 / 50"
            ]
        },
        {
            "cell_type": "code",
            "execution_count": 91,
            "metadata": {},
            "outputs": [
                {
                    "data": {
                        "application/vnd.jupyter.widget-view+json": {
                            "model_id": "322e5bb6b17e4b93b8710a6b49938dd9",
                            "version_major": 2,
                            "version_minor": 0
                        },
                        "text/plain": [
                            "interactive(children=(IntSlider(value=1867, description='trial', max=3735), Output()), _dom_classes=('widget-i…"
                        ]
                    },
                    "metadata": {},
                    "output_type": "display_data"
                }
            ],
            "source": [
                "X, y, groups = transform_df_to_arrays(\n",
                "    samples,\n",
                "    [\n",
                "        # \"temperature\",  # only for visualization\n",
                "        # \"rating\"\n",
                "        # \"eda_raw\",\n",
                "        # \"eda_tonic\",\n",
                "        \"pupil_mean\",\n",
                "    ],\n",
                ")\n",
                "\n",
                "\n",
                "@ipywidgets.interact(trial=(0, X.shape[0] - 1))\n",
                "def plot_trial(trial):\n",
                "    for i in range(X.shape[2]):\n",
                "        plt.plot(X[trial, :, i])\n",
                "    # plt.ylim(0, 1.05)"
            ]
        },
        {
            "cell_type": "code",
            "execution_count": 92,
            "metadata": {},
            "outputs": [
                {
                    "data": {
                        "text/plain": [
                            "(3736, 50, 1)"
                        ]
                    },
                    "execution_count": 92,
                    "metadata": {},
                    "output_type": "execute_result"
                }
            ],
            "source": [
                "X.shape"
            ]
        },
        {
            "cell_type": "code",
            "execution_count": 93,
            "metadata": {},
            "outputs": [],
            "source": [
                "# np.save(\"data/x.npy\", x)\n",
                "# np.save(\"data/y.npy\", y)\n",
                "# np.save(\"data/groups.npy\", groups)"
            ]
        },
        {
            "cell_type": "code",
            "execution_count": 94,
            "metadata": {},
            "outputs": [],
            "source": [
                "# Create a single train-test split while respecting group structure in the data\n",
                "splitter = GroupShuffleSplit(n_splits=1, test_size=0.5, random_state=42)\n",
                "train_idx, test_idx = next(splitter.split(X, y, groups=groups))\n",
                "assert set(groups[train_idx]).isdisjoint(set(groups[test_idx])), \"Overlap in groups\"\n",
                "X_train, y_train = X[train_idx], y[train_idx]\n",
                "X_test, y_test = X[test_idx], y[test_idx]\n"
            ]
        },
        {
            "cell_type": "code",
            "execution_count": 95,
            "metadata": {},
            "outputs": [
                {
                    "data": {
                        "text/plain": [
                            "np.False_"
                        ]
                    },
                    "execution_count": 95,
                    "metadata": {},
                    "output_type": "execute_result"
                }
            ],
            "source": [
                "np.isnan(X_train).any()"
            ]
        },
        {
            "cell_type": "code",
            "execution_count": 96,
            "metadata": {},
            "outputs": [
                {
                    "name": "stdout",
                    "output_type": "stream",
                    "text": [
                        "No NaN values found in array\n"
                    ]
                },
                {
                    "data": {
                        "text/plain": [
                            "np.False_"
                        ]
                    },
                    "execution_count": 96,
                    "metadata": {},
                    "output_type": "execute_result"
                }
            ],
            "source": [
                "import numpy as np\n",
                "\n",
                "\n",
                "def check_nans(arr):\n",
                "    \"\"\"\n",
                "    Check if a NumPy array contains any NaN values.\n",
                "    Returns True if NaN values are found, False otherwise.\n",
                "    Also prints the indices where NaN values are located.\n",
                "\n",
                "    Parameters:\n",
                "        arr: numpy.ndarray - Input array to check\n",
                "\n",
                "    Returns:\n",
                "        bool - True if NaN values exist, False otherwise\n",
                "    \"\"\"\n",
                "    # Check if array contains any NaN\n",
                "    has_nans = np.isnan(arr).any()\n",
                "\n",
                "    if has_nans:\n",
                "        # Get the indices where NaN values are located\n",
                "        nan_indices = np.where(np.isnan(arr))\n",
                "        print(f\"NaN values found at indices: {nan_indices}\")\n",
                "\n",
                "        # If array is multi-dimensional, print the actual NaN values\n",
                "        if arr.ndim > 1:\n",
                "            print(\"NaN values:\")\n",
                "            print(arr[nan_indices])\n",
                "    else:\n",
                "        print(\"No NaN values found in array\")\n",
                "\n",
                "    return has_nans\n",
                "\n",
                "\n",
                "# Example usage:\n",
                "# arr = np.array([[1, 2, np.nan], [4, np.nan, 6]])\n",
                "check_nans(X_train)"
            ]
        },
        {
            "cell_type": "code",
            "execution_count": 97,
            "metadata": {},
            "outputs": [
                {
                    "data": {
                        "text/plain": [
                            "0.575"
                        ]
                    },
                    "execution_count": 97,
                    "metadata": {},
                    "output_type": "execute_result"
                }
            ],
            "source": [
                "from sklearn.metrics import accuracy_score\n",
                "from sktime.classification.distance_based import KNeighborsTimeSeriesClassifier\n",
                "from sktime.dists_kernels import FlatDist, ScipyDist\n",
                "\n",
                "eucl_dist = FlatDist(ScipyDist())\n",
                "clf = KNeighborsTimeSeriesClassifier(n_neighbors=3, distance=eucl_dist)\n",
                "clf.fit(X_train, y_train)\n",
                "\n",
                "y_pred = clf.predict(X_test)\n",
                "accuracy_score(y_test, y_pred)"
            ]
        },
        {
            "cell_type": "code",
            "execution_count": 98,
            "metadata": {},
            "outputs": [
                {
                    "name": "stdout",
                    "output_type": "stream",
                    "text": [
                        "13:44:37 | \u001b[92mINFO    \u001b[0m| root | Using device: mps\n"
                    ]
                }
            ],
            "source": [
                "batch_size = 64\n",
                "device = get_device()"
            ]
        },
        {
            "cell_type": "code",
            "execution_count": 99,
            "metadata": {},
            "outputs": [
                {
                    "name": "stdout",
                    "output_type": "stream",
                    "text": [
                        "13:44:38 | \u001b[36mDEBUG   \u001b[0m| root | Train Data: 1816 samples, Test Data: 1920 samples\n"
                    ]
                }
            ],
            "source": [
                "def create_dataloaders(\n",
                "    X_train: np.ndarray,\n",
                "    y_train: np.ndarray,\n",
                "    X_test: np.ndarray,\n",
                "    y_test: np.ndarray,\n",
                "    batch_size: int,\n",
                "    is_test: bool = True,\n",
                ") -> tuple[DataLoader, DataLoader]:\n",
                "    # Sanity check\n",
                "    assert len(X_train.shape) == len(X_test.shape) == 3, (\n",
                "        \"X_train and X_test must have 3 dimensions: (samples, timesteps, features)\"\n",
                "    )\n",
                "\n",
                "    # scaler = StandardScaler3D()\n",
                "    # X_train = scaler.fit_transform(X_train)\n",
                "    # X_test = scaler.transform(X_test)\n",
                "\n",
                "    train_data = TensorDataset(\n",
                "        torch.FloatTensor(X_train),\n",
                "        torch.FloatTensor(y_train).view(-1, 1),\n",
                "    )\n",
                "    test_data = TensorDataset(\n",
                "        torch.FloatTensor(X_test),\n",
                "        torch.FloatTensor(y_test).view(-1, 1),\n",
                "    )\n",
                "    train_loader = DataLoader(dataset=train_data, batch_size=batch_size, shuffle=True)\n",
                "    test_loader = DataLoader(dataset=test_data, batch_size=batch_size, shuffle=False)\n",
                "\n",
                "    dataset = \"Test\" if is_test else \"Validation\"\n",
                "    logging.debug(\n",
                "        f\"Train Data: {len(train_data)} samples, \"\n",
                "        f\"{dataset} Data: {len(test_data)} samples\"\n",
                "    )\n",
                "\n",
                "    return train_loader, test_loader\n",
                "\n",
                "\n",
                "train_loader, test_loader = create_dataloaders(\n",
                "    X_train,\n",
                "    y_train,\n",
                "    X_test,\n",
                "    y_test,\n",
                "    batch_size=batch_size,\n",
                ")"
            ]
        },
        {
            "cell_type": "code",
            "execution_count": 100,
            "metadata": {},
            "outputs": [],
            "source": [
                "def train_model(\n",
                "    model: nn.Module,\n",
                "    train_loader: DataLoader,\n",
                "    test_loader: DataLoader,\n",
                "    criterion: nn.modules.loss._Loss,\n",
                "    optimizer: optim.Optimizer,\n",
                "    epochs: int,\n",
                "    is_test: bool = True,\n",
                ") -> dict[str, list[float]]:\n",
                "    dataset = \"test\" if is_test else \"validation\"\n",
                "    history = {\n",
                "        \"train_accuracy\": [],\n",
                "        \"train_loss\": [],\n",
                "        f\"{dataset}_accuracy\": [],\n",
                "        f\"{dataset}_loss\": [],\n",
                "    }\n",
                "\n",
                "    for epoch in range(epochs):\n",
                "        model.train()\n",
                "        running_loss = 0.0\n",
                "        # for acc metric only\n",
                "        correct = 0\n",
                "        total = 0\n",
                "        for X_batch, y_batch in train_loader:\n",
                "            X_batch, y_batch = X_batch.to(device), y_batch.to(device)\n",
                "            optimizer.zero_grad()\n",
                "            outputs = model(X_batch)\n",
                "            loss = criterion(outputs, y_batch)\n",
                "            loss.backward()\n",
                "            optimizer.step()\n",
                "            running_loss += loss.item() * X_batch.size(0)\n",
                "\n",
                "            # Calculate training accuracy\n",
                "            y_pred_classes = (torch.sigmoid(outputs) >= 0.5).float()\n",
                "            total += y_batch.size(0)\n",
                "            correct += (y_pred_classes == y_batch).sum().item()\n",
                "\n",
                "        epoch_loss = running_loss / len(train_loader.dataset)\n",
                "        epoch_acc = correct / total if total > 0 else 0\n",
                "        test_loss, test_accuracy = evaluate_model(model, test_loader, criterion)\n",
                "\n",
                "        # Store the metrics in the history dictionary\n",
                "        history[\"train_loss\"].append(epoch_loss)\n",
                "        history[\"train_accuracy\"].append(epoch_acc)\n",
                "        history[f\"{dataset}_loss\"].append(test_loss)\n",
                "        history[f\"{dataset}_accuracy\"].append(test_accuracy)\n",
                "\n",
                "        # Log progress\n",
                "        max_digits = len(str(epochs))\n",
                "        logging.debug(\n",
                "            f\"E[{+epoch + 1:>{max_digits}d}/{epochs}] \"\n",
                "            f\"| train {epoch_loss:.4f} ({epoch_acc:.1%}) \"\n",
                "            f\"· {dataset} {test_loss:.4f} ({test_accuracy:.1%})\"\n",
                "        )\n",
                "\n",
                "    return history\n",
                "\n",
                "\n",
                "def evaluate_model(\n",
                "    model: nn.Module,\n",
                "    test_loader: DataLoader,\n",
                "    criterion: nn.modules.loss._Loss,\n",
                ") -> tuple[float, float]:\n",
                "    model.eval()\n",
                "    total_loss = 0.0\n",
                "    correct = 0\n",
                "    total = 0\n",
                "    with torch.inference_mode():\n",
                "        for X_batch, y_batch in test_loader:\n",
                "            X_batch, y_batch = X_batch.to(device), y_batch.to(device)\n",
                "            y_pred_logits = model(X_batch)\n",
                "            loss = criterion(y_pred_logits, y_batch)\n",
                "            total_loss += loss.item() * X_batch.size(0)\n",
                "            # Metric here is acc\n",
                "            y_pred_classes = (torch.sigmoid(y_pred_logits) >= 0.5).float()\n",
                "            total += y_batch.size(0)\n",
                "            correct += (y_pred_classes == y_batch).sum().item()\n",
                "\n",
                "    average_loss = total_loss / total if total > 0 else 0\n",
                "    accuracy = correct / total if total > 0 else 0\n",
                "    return average_loss, accuracy\n"
            ]
        },
        {
            "cell_type": "code",
            "execution_count": 101,
            "metadata": {},
            "outputs": [],
            "source": [
                "class LSTM(nn.Module):\n",
                "    def __init__(\n",
                "        self,\n",
                "        input_size,\n",
                "        hidden_size,\n",
                "        num_layers,\n",
                "    ):\n",
                "        super(LSTM, self).__init__()\n",
                "        self.lstm = nn.LSTM(input_size, hidden_size, num_layers, batch_first=True)\n",
                "        self.fc = nn.Linear(hidden_size, 1)\n",
                "\n",
                "    def forward(self, x):\n",
                "        out, (hn, cn) = self.lstm(x)\n",
                "        out = self.fc(out[:, -1, :])\n",
                "        return out\n",
                "\n",
                "\n",
                "model = LSTM(input_size=X_train.shape[2], hidden_size=256, num_layers=1).to(device)"
            ]
        },
        {
            "cell_type": "code",
            "execution_count": 102,
            "metadata": {},
            "outputs": [
                {
                    "name": "stdout",
                    "output_type": "stream",
                    "text": [
                        "13:44:40 | \u001b[36mDEBUG   \u001b[0m| root | E[ 1/20] | train 1.1458 (57.9%) · test 0.6609 (62.5%)\n",
                        "13:44:40 | \u001b[36mDEBUG   \u001b[0m| root | E[ 2/20] | train 0.6605 (62.5%) · test 0.6537 (62.5%)\n",
                        "13:44:40 | \u001b[36mDEBUG   \u001b[0m| root | E[ 3/20] | train 0.6568 (62.5%) · test 0.6510 (62.6%)\n",
                        "13:44:41 | \u001b[36mDEBUG   \u001b[0m| root | E[ 4/20] | train 0.6586 (63.3%) · test 0.6509 (62.9%)\n",
                        "13:44:41 | \u001b[36mDEBUG   \u001b[0m| root | E[ 5/20] | train 0.6568 (62.6%) · test 0.6632 (64.6%)\n",
                        "13:44:41 | \u001b[36mDEBUG   \u001b[0m| root | E[ 6/20] | train 0.6560 (62.7%) · test 0.6522 (63.2%)\n",
                        "13:44:42 | \u001b[36mDEBUG   \u001b[0m| root | E[ 7/20] | train 0.6520 (62.9%) · test 0.6521 (62.7%)\n",
                        "13:44:42 | \u001b[36mDEBUG   \u001b[0m| root | E[ 8/20] | train 0.6501 (63.3%) · test 0.6575 (62.8%)\n",
                        "13:44:42 | \u001b[36mDEBUG   \u001b[0m| root | E[ 9/20] | train 0.6552 (62.9%) · test 0.6453 (63.1%)\n",
                        "13:44:42 | \u001b[36mDEBUG   \u001b[0m| root | E[10/20] | train 0.6480 (63.2%) · test 0.6425 (63.6%)\n",
                        "13:44:43 | \u001b[36mDEBUG   \u001b[0m| root | E[11/20] | train 0.6531 (64.3%) · test 0.6436 (63.6%)\n",
                        "13:44:43 | \u001b[36mDEBUG   \u001b[0m| root | E[12/20] | train 0.6465 (64.0%) · test 0.6451 (65.1%)\n",
                        "13:44:43 | \u001b[36mDEBUG   \u001b[0m| root | E[13/20] | train 0.6523 (63.4%) · test 0.6766 (62.5%)\n",
                        "13:44:44 | \u001b[36mDEBUG   \u001b[0m| root | E[14/20] | train 0.6626 (62.9%) · test 0.6539 (62.6%)\n",
                        "13:44:44 | \u001b[36mDEBUG   \u001b[0m| root | E[15/20] | train 0.6564 (63.4%) · test 0.6527 (62.8%)\n",
                        "13:44:44 | \u001b[36mDEBUG   \u001b[0m| root | E[16/20] | train 0.6539 (62.9%) · test 0.6449 (64.5%)\n",
                        "13:44:44 | \u001b[36mDEBUG   \u001b[0m| root | E[17/20] | train 0.6608 (62.1%) · test 0.6545 (63.2%)\n",
                        "13:44:45 | \u001b[36mDEBUG   \u001b[0m| root | E[18/20] | train 0.6578 (62.8%) · test 0.6525 (63.7%)\n",
                        "13:44:45 | \u001b[36mDEBUG   \u001b[0m| root | E[19/20] | train 0.6480 (63.3%) · test 0.6490 (63.4%)\n",
                        "13:44:45 | \u001b[36mDEBUG   \u001b[0m| root | E[20/20] | train 0.6511 (63.2%) · test 0.6447 (63.1%)\n"
                    ]
                }
            ],
            "source": [
                "lr = 1e-3\n",
                "epochs = 20\n",
                "model = MultiLayerPerceptron(\n",
                "    input_size=X.shape[2] * X.shape[1],  # 2D input length\n",
                "    hidden_size=2048,\n",
                ").to(device)\n",
                "criterion = nn.BCEWithLogitsLoss()\n",
                "optimizer = optim.Adam(model.parameters(), lr=lr)\n",
                "\n",
                "history = train_model(\n",
                "    model,\n",
                "    train_loader,\n",
                "    test_loader,\n",
                "    criterion,\n",
                "    optimizer,\n",
                "    epochs=epochs,\n",
                ")"
            ]
        },
        {
            "cell_type": "markdown",
            "metadata": {},
            "source": [
                "18:23:45 | DEBUG   | root | E[20/20] | train 0.6073 (68.1%) · test 0.6094 (67.7%)\n"
            ]
        },
        {
            "cell_type": "code",
            "execution_count": 103,
            "metadata": {},
            "outputs": [
                {
                    "data": {
                        "image/png": "[encoded data removed]",
                        "text/plain": [
                            "<Figure size 1500x300 with 2 Axes>"
                        ]
                    },
                    "metadata": {},
                    "output_type": "display_data"
                }
            ],
            "source": [
                "def plot_single_model_history(history):\n",
                "    plt.figure(figsize=(15, 3))\n",
                "\n",
                "    plt.subplot(1, 3, 1)\n",
                "    plt.plot(history[\"train_loss\"], label=\"Training Loss\")\n",
                "    plt.plot(history[\"test_loss\"], label=\"Test Loss\")\n",
                "    plt.xlabel(\"Epoch\")\n",
                "    plt.ylabel(\"Loss\")\n",
                "    plt.legend()\n",
                "\n",
                "    plt.subplot(1, 3, 2)\n",
                "    plt.plot(history[\"train_accuracy\"], label=\"Training Accuracy\")\n",
                "    plt.plot(history[\"test_accuracy\"], label=\"Test Accuracy\")\n",
                "    plt.xlabel(\"Epoch\")\n",
                "    plt.ylabel(\"Accuracy\")\n",
                "    plt.legend()\n",
                "\n",
                "    plt.tight_layout()\n",
                "    plt.show()\n",
                "\n",
                "\n",
                "plot_single_model_history(history)"
            ]
        },
        {
            "cell_type": "code",
            "execution_count": null,
            "metadata": {},
            "outputs": [
                {
                    "data": {
                        "image/png": "[encoded data removed]",
                        "text/plain": [
                            "<Figure size 800x600 with 2 Axes>"
                        ]
                    },
                    "metadata": {},
                    "output_type": "display_data"
                },
                {
                    "data": {
                        "image/png": "[encoded data removed]",
                        "text/plain": [
                            "<Figure size 800x600 with 1 Axes>"
                        ]
                    },
                    "metadata": {},
                    "output_type": "display_data"
                }
            ],
            "source": [
                "# NOTE: the dataset is imbalanced, so accuracy is not a good metric\n",
                "\n",
                "\n",
                "def get_confusion_matrix(\n",
                "    model: nn.Module,\n",
                "    test_loader: DataLoader,\n",
                "    threshold: float = 0.5,\n",
                ") -> np.ndarray:\n",
                "    \"\"\"\n",
                "    Calculate confusion matrix for binary classification.\n",
                "    Returns a 2x2 numpy array where:\n",
                "    [0,0] = TN, [0,1] = FP\n",
                "    [1,0] = FN, [1,1] = TP\n",
                "    \"\"\"\n",
                "    model.eval()\n",
                "    y_true = []\n",
                "    y_pred = []\n",
                "\n",
                "    with torch.inference_mode():\n",
                "        for X_batch, y_batch in test_loader:\n",
                "            X_batch = X_batch.to(device)\n",
                "            outputs = model(X_batch)\n",
                "            y_pred_batch = (torch.sigmoid(outputs) >= threshold).cpu().numpy()\n",
                "            y_true.extend(y_batch.numpy())\n",
                "            y_pred.extend(y_pred_batch)\n",
                "\n",
                "    return confusion_matrix(y_true, y_pred)\n",
                "\n",
                "\n",
                "def plot_confusion_matrix(conf_matrix: np.ndarray) -> None:\n",
                "    plt.figure(figsize=(8, 6))\n",
                "    sns.heatmap(\n",
                "        conf_matrix,\n",
                "        annot=True,\n",
                "        fmt=\"d\",\n",
                "        cmap=\"Blues\",\n",
                "        xticklabels=[\"Negative\", \"Positive\"],\n",
                "        yticklabels=[\"Negative\", \"Positive\"],\n",
                "    )\n",
                "    plt.title(\"Confusion Matrix\")\n",
                "    plt.ylabel(\"True Label\")\n",
                "    plt.xlabel(\"Predicted Label\")\n",
                "    plt.show()\n",
                "\n",
                "\n",
                "def plot_roc_curve(\n",
                "    model: nn.Module,\n",
                "    test_loader: DataLoader,\n",
                ") -> None:\n",
                "    \"\"\"\n",
                "    Plot ROC curve and calculate AUC score for binary classification.\n",
                "    \"\"\"\n",
                "    model.eval()\n",
                "    y_true = []\n",
                "    y_scores = []\n",
                "\n",
                "    with torch.inference_mode():\n",
                "        for X_batch, y_batch in test_loader:\n",
                "            X_batch = X_batch.to(device)\n",
                "            outputs = model(X_batch)\n",
                "            y_scores_batch = torch.sigmoid(outputs).cpu().numpy()\n",
                "            y_true.extend(y_batch.numpy())\n",
                "            y_scores.extend(y_scores_batch)\n",
                "\n",
                "    fpr, tpr, thresholds = roc_curve(y_true, y_scores)\n",
                "    auc_score = auc(fpr, tpr)\n",
                "\n",
                "    # Find optimal threshold\n",
                "    optimal_idx = np.argmax(tpr - fpr)\n",
                "    optimal_threshold = thresholds[optimal_idx]\n",
                "\n",
                "    plt.figure(figsize=(8, 6))\n",
                "    plt.plot(fpr, tpr, label=f\"ROC curve (AUC = {auc_score:.3f})\")\n",
                "    plt.plot([0, 1], [0, 1], \"k--\")  # diagonal line\n",
                "\n",
                "    # Add marker for optimal threshold\n",
                "    plt.plot(\n",
                "        fpr[optimal_idx],\n",
                "        tpr[optimal_idx],\n",
                "        \"ro\",\n",
                "        label=f\"Optimal (threshold={optimal_threshold:.2f})\",\n",
                "    )\n",
                "\n",
                "    plt.xlim([0.0, 1.0])\n",
                "    plt.ylim([0.0, 1.05])\n",
                "    plt.xlabel(\"False Positive Rate\")\n",
                "    plt.ylabel(\"True Positive Rate\")\n",
                "    plt.title(\"Receiver Operating Characteristic (ROC) Curve\")\n",
                "    plt.legend(loc=\"lower right\")\n",
                "    plt.grid(True)\n",
                "    plt.show()\n",
                "\n",
                "\n",
                "conf_matrix = get_confusion_matrix(model, test_loader, threshold=0.5)\n",
                "plot_confusion_matrix(conf_matrix)\n",
                "plot_roc_curve(model, test_loader)"
            ]
        },
        {
            "cell_type": "code",
            "execution_count": null,
            "metadata": {},
            "outputs": [],
            "source": []
        },
        {
            "cell_type": "code",
            "execution_count": null,
            "metadata": {},
            "outputs": [],
            "source": [
                "# from dataclasses import dataclass\n",
                "\n",
                "\n",
                "# @dataclass\n",
                "# class TimesNetConfig:\n",
                "#     task_name: str = \"classification\"\n",
                "#     is_training: int = 1\n",
                "#     model_id: str = \"Heartbeat\"\n",
                "#     model: str = \"TimesNet\"\n",
                "#     data: str = \"UEA\"\n",
                "#     e_layers: int = 3\n",
                "#     batch_size: int = 16\n",
                "#     d_model: int = 16\n",
                "#     d_ff: int = 32\n",
                "#     top_k: int = 1\n",
                "#     des: str = \"Exp\"\n",
                "#     itr: int = 1\n",
                "#     learning_rate: float = 0.001\n",
                "#     train_epochs: int = 30\n",
                "#     patience: int = 10\n",
                "#     seq_len: int = 50\n",
                "#     label_len: int = 1\n",
                "#     pred_len: int = 1\n",
                "#     num_kernels: int = 32\n",
                "#     enc_in: int = 1\n",
                "#     embed: int = 8\n",
                "#     freq: str = \"H\"\n",
                "#     dropout: float = 0.1\n",
                "#     num_class: int = 2\n",
                "\n",
                "#     def to_args_list(self) -> list:\n",
                "#         \"\"\"Convert config to command line arguments list\"\"\"\n",
                "#         args = []\n",
                "#         for key, value in self.__dict__.items():\n",
                "#             args.extend([f\"--{key}\", str(value)])\n",
                "#         return args\n",
                "\n",
                "\n",
                "# # Example usage:\n",
                "# configs = TimesNetConfig()\n",
                "# configs\n",
                "\n",
                "# from time_series_library.models import TimesNet\n",
                "\n",
                "# model = TimesNet.Model(configs)\n"
            ]
        },
        {
            "cell_type": "code",
            "execution_count": null,
            "metadata": {},
            "outputs": [],
            "source": []
        },
        {
            "cell_type": "code",
            "execution_count": null,
            "metadata": {},
            "outputs": [
                {
                    "data": {
                        "text/plain": [
                            "0.6125055041831792"
                        ]
                    },
                    "execution_count": 131,
                    "metadata": {},
                    "output_type": "execute_result"
                }
            ],
            "source": [
                "from sklearn.metrics import accuracy_score\n",
                "from sktime.classification.distance_based import KNeighborsTimeSeriesClassifier\n",
                "from sktime.dists_kernels import FlatDist, ScipyDist\n",
                "\n",
                "eucl_dist = FlatDist(ScipyDist())\n",
                "clf = KNeighborsTimeSeriesClassifier(n_neighbors=3, distance=eucl_dist)\n",
                "clf.fit(X_train, y_train)\n",
                "\n",
                "y_pred = clf.predict(X_test)\n",
                "accuracy_score(y_test, y_pred)"
            ]
        },
        {
            "cell_type": "code",
            "execution_count": null,
            "metadata": {},
            "outputs": [
                {
                    "data": {
                        "text/plain": [
                            "sktime.classification.distance_based._time_series_neighbors.KNeighborsTimeSeriesClassifier"
                        ]
                    },
                    "execution_count": 85,
                    "metadata": {},
                    "output_type": "execute_result"
                }
            ],
            "source": [
                "type(clf)"
            ]
        },
        {
            "cell_type": "code",
            "execution_count": null,
            "metadata": {},
            "outputs": [
                {
                    "data": {
                        "text/plain": [
                            "True"
                        ]
                    },
                    "execution_count": 86,
                    "metadata": {},
                    "output_type": "execute_result"
                }
            ],
            "source": [
                "isinstance(model, torch.nn.Module)"
            ]
        },
        {
            "cell_type": "code",
            "execution_count": null,
            "metadata": {},
            "outputs": [
                {
                    "data": {
                        "text/plain": [
                            "(sktime.classification.distance_based._time_series_neighbors.KNeighborsTimeSeriesClassifier,\n",
                            " sktime.base._panel.knn._BaseKnnTimeSeriesEstimator,\n",
                            " sktime.classification.base.BaseClassifier,\n",
                            " sktime.base._base_panel.BasePanelMixin,\n",
                            " sktime.base._base.BaseEstimator,\n",
                            " sktime.base._base.BaseObject,\n",
                            " sktime.utils._estimator_html_repr._HTMLDocumentationLinkMixin,\n",
                            " skbase.base._base.BaseObject,\n",
                            " skbase.base._tagmanager._FlagManager,\n",
                            " object)"
                        ]
                    },
                    "execution_count": 87,
                    "metadata": {},
                    "output_type": "execute_result"
                }
            ],
            "source": [
                "import sktime\n",
                "\n",
                "sktime.classification.distance_based._time_series_neighbors.KNeighborsTimeSeriesClassifier.__mro__"
            ]
        },
        {
            "cell_type": "code",
            "execution_count": null,
            "metadata": {},
            "outputs": [],
            "source": [
                "from sktime.transformations.panel.rocket import MiniRocketMultivariate\n",
                "\n",
                "minirocket_multi = MiniRocketMultivariate()\n",
                "# minirocket_multi.fit(X_train)\n"
            ]
        },
        {
            "cell_type": "code",
            "execution_count": null,
            "metadata": {},
            "outputs": [
                {
                    "data": {
                        "text/plain": [
                            "(2202, 500, 1)"
                        ]
                    },
                    "execution_count": 89,
                    "metadata": {},
                    "output_type": "execute_result"
                }
            ],
            "source": [
                "X_train.shape"
            ]
        }
    ],
    "metadata": {
        "kernelspec": {
            "display_name": "pain",
            "language": "python",
            "name": "python3"
        },
        "language_info": {
            "codemirror_mode": {
                "name": "ipython",
                "version": 3
            },
            "file_extension": ".py",
            "mimetype": "text/x-python",
            "name": "python",
            "nbconvert_exporter": "python",
            "pygments_lexer": "ipython3",
            "version": "3.12.4"
        }
    },
    "nbformat": 4,
    "nbformat_minor": 2
}
