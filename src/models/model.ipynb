{
 "cells": [
  {
   "cell_type": "code",
   "execution_count": 2,
   "metadata": {},
   "outputs": [],
   "source": [
    "%%capture\n",
    "from pathlib import Path\n",
    "\n",
    "if Path.cwd().stem == \"models\":\n",
    "    %cd ../..\n",
    "    %load_ext autoreload\n",
    "    %autoreload 2"
   ]
  },
  {
   "cell_type": "code",
   "execution_count": 3,
   "metadata": {},
   "outputs": [
    {
     "data": {
      "application/javascript": "(function(root) {\n  function now() {\n    return new Date();\n  }\n\n  var force = true;\n  var py_version = '3.4.2'.replace('rc', '-rc.').replace('.dev', '-dev.');\n  var reloading = false;\n  var Bokeh = root.Bokeh;\n\n  if (typeof (root._bokeh_timeout) === \"undefined\" || force) {\n    root._bokeh_timeout = Date.now() + 5000;\n    root._bokeh_failed_load = false;\n  }\n\n  function run_callbacks() {\n    try {\n      root._bokeh_onload_callbacks.forEach(function(callback) {\n        if (callback != null)\n          callback();\n      });\n    } finally {\n      delete root._bokeh_onload_callbacks;\n    }\n    console.debug(\"Bokeh: all callbacks have finished\");\n  }\n\n  function load_libs(css_urls, js_urls, js_modules, js_exports, callback) {\n    if (css_urls == null) css_urls = [];\n    if (js_urls == null) js_urls = [];\n    if (js_modules == null) js_modules = [];\n    if (js_exports == null) js_exports = {};\n\n    root._bokeh_onload_callbacks.push(callback);\n\n    if (root._bokeh_is_loading > 0) {\n      console.debug(\"Bokeh: BokehJS is being loaded, scheduling callback at\", now());\n      return null;\n    }\n    if (js_urls.length === 0 && js_modules.length === 0 && Object.keys(js_exports).length === 0) {\n      run_callbacks();\n      return null;\n    }\n    if (!reloading) {\n      console.debug(\"Bokeh: BokehJS not loaded, scheduling load and callback at\", now());\n    }\n\n    function on_load() {\n      root._bokeh_is_loading--;\n      if (root._bokeh_is_loading === 0) {\n        console.debug(\"Bokeh: all BokehJS libraries/stylesheets loaded\");\n        run_callbacks()\n      }\n    }\n    window._bokeh_on_load = on_load\n\n    function on_error() {\n      console.error(\"failed to load \" + url);\n    }\n\n    var skip = [];\n    if (window.requirejs) {\n      window.requirejs.config({'packages': {}, 'paths': {}, 'shim': {}});\n      root._bokeh_is_loading = css_urls.length + 0;\n    } else {\n      root._bokeh_is_loading = css_urls.length + js_urls.length + js_modules.length + Object.keys(js_exports).length;\n    }\n\n    var existing_stylesheets = []\n    var links = document.getElementsByTagName('link')\n    for (var i = 0; i < links.length; i++) {\n      var link = links[i]\n      if (link.href != null) {\n\texisting_stylesheets.push(link.href)\n      }\n    }\n    for (var i = 0; i < css_urls.length; i++) {\n      var url = css_urls[i];\n      if (existing_stylesheets.indexOf(url) !== -1) {\n\ton_load()\n\tcontinue;\n      }\n      const element = document.createElement(\"link\");\n      element.onload = on_load;\n      element.onerror = on_error;\n      element.rel = \"stylesheet\";\n      element.type = \"text/css\";\n      element.href = url;\n      console.debug(\"Bokeh: injecting link tag for BokehJS stylesheet: \", url);\n      document.body.appendChild(element);\n    }    var existing_scripts = []\n    var scripts = document.getElementsByTagName('script')\n    for (var i = 0; i < scripts.length; i++) {\n      var script = scripts[i]\n      if (script.src != null) {\n\texisting_scripts.push(script.src)\n      }\n    }\n    for (var i = 0; i < js_urls.length; i++) {\n      var url = js_urls[i];\n      if (skip.indexOf(url) !== -1 || existing_scripts.indexOf(url) !== -1) {\n\tif (!window.requirejs) {\n\t  on_load();\n\t}\n\tcontinue;\n      }\n      var element = document.createElement('script');\n      element.onload = on_load;\n      element.onerror = on_error;\n      element.async = false;\n      element.src = url;\n      console.debug(\"Bokeh: injecting script tag for BokehJS library: \", url);\n      document.head.appendChild(element);\n    }\n    for (var i = 0; i < js_modules.length; i++) {\n      var url = js_modules[i];\n      if (skip.indexOf(url) !== -1 || existing_scripts.indexOf(url) !== -1) {\n\tif (!window.requirejs) {\n\t  on_load();\n\t}\n\tcontinue;\n      }\n      var element = document.createElement('script');\n      element.onload = on_load;\n      element.onerror = on_error;\n      element.async = false;\n      element.src = url;\n      element.type = \"module\";\n      console.debug(\"Bokeh: injecting script tag for BokehJS library: \", url);\n      document.head.appendChild(element);\n    }\n    for (const name in js_exports) {\n      var url = js_exports[name];\n      if (skip.indexOf(url) >= 0 || root[name] != null) {\n\tif (!window.requirejs) {\n\t  on_load();\n\t}\n\tcontinue;\n      }\n      var element = document.createElement('script');\n      element.onerror = on_error;\n      element.async = false;\n      element.type = \"module\";\n      console.debug(\"Bokeh: injecting script tag for BokehJS library: \", url);\n      element.textContent = `\n      import ${name} from \"${url}\"\n      window.${name} = ${name}\n      window._bokeh_on_load()\n      `\n      document.head.appendChild(element);\n    }\n    if (!js_urls.length && !js_modules.length) {\n      on_load()\n    }\n  };\n\n  function inject_raw_css(css) {\n    const element = document.createElement(\"style\");\n    element.appendChild(document.createTextNode(css));\n    document.body.appendChild(element);\n  }\n\n  var js_urls = [\"https://cdn.bokeh.org/bokeh/release/bokeh-3.4.2.min.js\", \"https://cdn.bokeh.org/bokeh/release/bokeh-gl-3.4.2.min.js\", \"https://cdn.bokeh.org/bokeh/release/bokeh-widgets-3.4.2.min.js\", \"https://cdn.bokeh.org/bokeh/release/bokeh-tables-3.4.2.min.js\", \"https://cdn.holoviz.org/panel/1.4.4/dist/panel.min.js\"];\n  var js_modules = [];\n  var js_exports = {};\n  var css_urls = [];\n  var inline_js = [    function(Bokeh) {\n      Bokeh.set_log_level(\"info\");\n    },\nfunction(Bokeh) {} // ensure no trailing comma for IE\n  ];\n\n  function run_inline_js() {\n    if ((root.Bokeh !== undefined) || (force === true)) {\n      for (var i = 0; i < inline_js.length; i++) {\n\ttry {\n          inline_js[i].call(root, root.Bokeh);\n\t} catch(e) {\n\t  if (!reloading) {\n\t    throw e;\n\t  }\n\t}\n      }\n      // Cache old bokeh versions\n      if (Bokeh != undefined && !reloading) {\n\tvar NewBokeh = root.Bokeh;\n\tif (Bokeh.versions === undefined) {\n\t  Bokeh.versions = new Map();\n\t}\n\tif (NewBokeh.version !== Bokeh.version) {\n\t  Bokeh.versions.set(NewBokeh.version, NewBokeh)\n\t}\n\troot.Bokeh = Bokeh;\n      }} else if (Date.now() < root._bokeh_timeout) {\n      setTimeout(run_inline_js, 100);\n    } else if (!root._bokeh_failed_load) {\n      console.log(\"Bokeh: BokehJS failed to load within specified timeout.\");\n      root._bokeh_failed_load = true;\n    }\n    root._bokeh_is_initializing = false\n  }\n\n  function load_or_wait() {\n    // Implement a backoff loop that tries to ensure we do not load multiple\n    // versions of Bokeh and its dependencies at the same time.\n    // In recent versions we use the root._bokeh_is_initializing flag\n    // to determine whether there is an ongoing attempt to initialize\n    // bokeh, however for backward compatibility we also try to ensure\n    // that we do not start loading a newer (Panel>=1.0 and Bokeh>3) version\n    // before older versions are fully initialized.\n    if (root._bokeh_is_initializing && Date.now() > root._bokeh_timeout) {\n      root._bokeh_is_initializing = false;\n      root._bokeh_onload_callbacks = undefined;\n      console.log(\"Bokeh: BokehJS was loaded multiple times but one version failed to initialize.\");\n      load_or_wait();\n    } else if (root._bokeh_is_initializing || (typeof root._bokeh_is_initializing === \"undefined\" && root._bokeh_onload_callbacks !== undefined)) {\n      setTimeout(load_or_wait, 100);\n    } else {\n      root._bokeh_is_initializing = true\n      root._bokeh_onload_callbacks = []\n      var bokeh_loaded = Bokeh != null && (Bokeh.version === py_version || (Bokeh.versions !== undefined && Bokeh.versions.has(py_version)));\n      if (!reloading && !bokeh_loaded) {\n\troot.Bokeh = undefined;\n      }\n      load_libs(css_urls, js_urls, js_modules, js_exports, function() {\n\tconsole.debug(\"Bokeh: BokehJS plotting callback run at\", now());\n\trun_inline_js();\n      });\n    }\n  }\n  // Give older versions of the autoload script a head-start to ensure\n  // they initialize before we start loading newer version.\n  setTimeout(load_or_wait, 100)\n}(window));",
      "application/vnd.holoviews_load.v0+json": ""
     },
     "metadata": {},
     "output_type": "display_data"
    },
    {
     "data": {
      "application/javascript": "\nif ((window.PyViz === undefined) || (window.PyViz instanceof HTMLElement)) {\n  window.PyViz = {comms: {}, comm_status:{}, kernels:{}, receivers: {}, plot_index: []}\n}\n\n\n    function JupyterCommManager() {\n    }\n\n    JupyterCommManager.prototype.register_target = function(plot_id, comm_id, msg_handler) {\n      if (window.comm_manager || ((window.Jupyter !== undefined) && (Jupyter.notebook.kernel != null))) {\n        var comm_manager = window.comm_manager || Jupyter.notebook.kernel.comm_manager;\n        comm_manager.register_target(comm_id, function(comm) {\n          comm.on_msg(msg_handler);\n        });\n      } else if ((plot_id in window.PyViz.kernels) && (window.PyViz.kernels[plot_id])) {\n        window.PyViz.kernels[plot_id].registerCommTarget(comm_id, function(comm) {\n          comm.onMsg = msg_handler;\n        });\n      } else if (typeof google != 'undefined' && google.colab.kernel != null) {\n        google.colab.kernel.comms.registerTarget(comm_id, (comm) => {\n          var messages = comm.messages[Symbol.asyncIterator]();\n          function processIteratorResult(result) {\n            var message = result.value;\n            console.log(message)\n            var content = {data: message.data, comm_id};\n            var buffers = []\n            for (var buffer of message.buffers || []) {\n              buffers.push(new DataView(buffer))\n            }\n            var metadata = message.metadata || {};\n            var msg = {content, buffers, metadata}\n            msg_handler(msg);\n            return messages.next().then(processIteratorResult);\n          }\n          return messages.next().then(processIteratorResult);\n        })\n      }\n    }\n\n    JupyterCommManager.prototype.get_client_comm = function(plot_id, comm_id, msg_handler) {\n      if (comm_id in window.PyViz.comms) {\n        return window.PyViz.comms[comm_id];\n      } else if (window.comm_manager || ((window.Jupyter !== undefined) && (Jupyter.notebook.kernel != null))) {\n        var comm_manager = window.comm_manager || Jupyter.notebook.kernel.comm_manager;\n        var comm = comm_manager.new_comm(comm_id, {}, {}, {}, comm_id);\n        if (msg_handler) {\n          comm.on_msg(msg_handler);\n        }\n      } else if ((plot_id in window.PyViz.kernels) && (window.PyViz.kernels[plot_id])) {\n        var comm = window.PyViz.kernels[plot_id].connectToComm(comm_id);\n        comm.open();\n        if (msg_handler) {\n          comm.onMsg = msg_handler;\n        }\n      } else if (typeof google != 'undefined' && google.colab.kernel != null) {\n        var comm_promise = google.colab.kernel.comms.open(comm_id)\n        comm_promise.then((comm) => {\n          window.PyViz.comms[comm_id] = comm;\n          if (msg_handler) {\n            var messages = comm.messages[Symbol.asyncIterator]();\n            function processIteratorResult(result) {\n              var message = result.value;\n              var content = {data: message.data};\n              var metadata = message.metadata || {comm_id};\n              var msg = {content, metadata}\n              msg_handler(msg);\n              return messages.next().then(processIteratorResult);\n            }\n            return messages.next().then(processIteratorResult);\n          }\n        }) \n        var sendClosure = (data, metadata, buffers, disposeOnDone) => {\n          return comm_promise.then((comm) => {\n            comm.send(data, metadata, buffers, disposeOnDone);\n          });\n        };\n        var comm = {\n          send: sendClosure\n        };\n      }\n      window.PyViz.comms[comm_id] = comm;\n      return comm;\n    }\n    window.PyViz.comm_manager = new JupyterCommManager();\n    \n\n\nvar JS_MIME_TYPE = 'application/javascript';\nvar HTML_MIME_TYPE = 'text/html';\nvar EXEC_MIME_TYPE = 'application/vnd.holoviews_exec.v0+json';\nvar CLASS_NAME = 'output';\n\n/**\n * Render data to the DOM node\n */\nfunction render(props, node) {\n  var div = document.createElement(\"div\");\n  var script = document.createElement(\"script\");\n  node.appendChild(div);\n  node.appendChild(script);\n}\n\n/**\n * Handle when a new output is added\n */\nfunction handle_add_output(event, handle) {\n  var output_area = handle.output_area;\n  var output = handle.output;\n  if ((output.data == undefined) || (!output.data.hasOwnProperty(EXEC_MIME_TYPE))) {\n    return\n  }\n  var id = output.metadata[EXEC_MIME_TYPE][\"id\"];\n  var toinsert = output_area.element.find(\".\" + CLASS_NAME.split(' ')[0]);\n  if (id !== undefined) {\n    var nchildren = toinsert.length;\n    var html_node = toinsert[nchildren-1].children[0];\n    html_node.innerHTML = output.data[HTML_MIME_TYPE];\n    var scripts = [];\n    var nodelist = html_node.querySelectorAll(\"script\");\n    for (var i in nodelist) {\n      if (nodelist.hasOwnProperty(i)) {\n        scripts.push(nodelist[i])\n      }\n    }\n\n    scripts.forEach( function (oldScript) {\n      var newScript = document.createElement(\"script\");\n      var attrs = [];\n      var nodemap = oldScript.attributes;\n      for (var j in nodemap) {\n        if (nodemap.hasOwnProperty(j)) {\n          attrs.push(nodemap[j])\n        }\n      }\n      attrs.forEach(function(attr) { newScript.setAttribute(attr.name, attr.value) });\n      newScript.appendChild(document.createTextNode(oldScript.innerHTML));\n      oldScript.parentNode.replaceChild(newScript, oldScript);\n    });\n    if (JS_MIME_TYPE in output.data) {\n      toinsert[nchildren-1].children[1].textContent = output.data[JS_MIME_TYPE];\n    }\n    output_area._hv_plot_id = id;\n    if ((window.Bokeh !== undefined) && (id in Bokeh.index)) {\n      window.PyViz.plot_index[id] = Bokeh.index[id];\n    } else {\n      window.PyViz.plot_index[id] = null;\n    }\n  } else if (output.metadata[EXEC_MIME_TYPE][\"server_id\"] !== undefined) {\n    var bk_div = document.createElement(\"div\");\n    bk_div.innerHTML = output.data[HTML_MIME_TYPE];\n    var script_attrs = bk_div.children[0].attributes;\n    for (var i = 0; i < script_attrs.length; i++) {\n      toinsert[toinsert.length - 1].childNodes[1].setAttribute(script_attrs[i].name, script_attrs[i].value);\n    }\n    // store reference to server id on output_area\n    output_area._bokeh_server_id = output.metadata[EXEC_MIME_TYPE][\"server_id\"];\n  }\n}\n\n/**\n * Handle when an output is cleared or removed\n */\nfunction handle_clear_output(event, handle) {\n  var id = handle.cell.output_area._hv_plot_id;\n  var server_id = handle.cell.output_area._bokeh_server_id;\n  if (((id === undefined) || !(id in PyViz.plot_index)) && (server_id !== undefined)) { return; }\n  var comm = window.PyViz.comm_manager.get_client_comm(\"hv-extension-comm\", \"hv-extension-comm\", function () {});\n  if (server_id !== null) {\n    comm.send({event_type: 'server_delete', 'id': server_id});\n    return;\n  } else if (comm !== null) {\n    comm.send({event_type: 'delete', 'id': id});\n  }\n  delete PyViz.plot_index[id];\n  if ((window.Bokeh !== undefined) & (id in window.Bokeh.index)) {\n    var doc = window.Bokeh.index[id].model.document\n    doc.clear();\n    const i = window.Bokeh.documents.indexOf(doc);\n    if (i > -1) {\n      window.Bokeh.documents.splice(i, 1);\n    }\n  }\n}\n\n/**\n * Handle kernel restart event\n */\nfunction handle_kernel_cleanup(event, handle) {\n  delete PyViz.comms[\"hv-extension-comm\"];\n  window.PyViz.plot_index = {}\n}\n\n/**\n * Handle update_display_data messages\n */\nfunction handle_update_output(event, handle) {\n  handle_clear_output(event, {cell: {output_area: handle.output_area}})\n  handle_add_output(event, handle)\n}\n\nfunction register_renderer(events, OutputArea) {\n  function append_mime(data, metadata, element) {\n    // create a DOM node to render to\n    var toinsert = this.create_output_subarea(\n    metadata,\n    CLASS_NAME,\n    EXEC_MIME_TYPE\n    );\n    this.keyboard_manager.register_events(toinsert);\n    // Render to node\n    var props = {data: data, metadata: metadata[EXEC_MIME_TYPE]};\n    render(props, toinsert[0]);\n    element.append(toinsert);\n    return toinsert\n  }\n\n  events.on('output_added.OutputArea', handle_add_output);\n  events.on('output_updated.OutputArea', handle_update_output);\n  events.on('clear_output.CodeCell', handle_clear_output);\n  events.on('delete.Cell', handle_clear_output);\n  events.on('kernel_ready.Kernel', handle_kernel_cleanup);\n\n  OutputArea.prototype.register_mime_type(EXEC_MIME_TYPE, append_mime, {\n    safe: true,\n    index: 0\n  });\n}\n\nif (window.Jupyter !== undefined) {\n  try {\n    var events = require('base/js/events');\n    var OutputArea = require('notebook/js/outputarea').OutputArea;\n    if (OutputArea.prototype.mime_types().indexOf(EXEC_MIME_TYPE) == -1) {\n      register_renderer(events, OutputArea);\n    }\n  } catch(err) {\n  }\n}\n",
      "application/vnd.holoviews_load.v0+json": ""
     },
     "metadata": {},
     "output_type": "display_data"
    },
    {
     "data": {
      "text/html": [
       "<style>*[data-root-id],\n",
       "*[data-root-id] > * {\n",
       "  box-sizing: border-box;\n",
       "  font-family: var(--jp-ui-font-family);\n",
       "  font-size: var(--jp-ui-font-size1);\n",
       "  color: var(--vscode-editor-foreground, var(--jp-ui-font-color1));\n",
       "}\n",
       "\n",
       "/* Override VSCode background color */\n",
       ".cell-output-ipywidget-background:has(\n",
       "    > .cell-output-ipywidget-background > .lm-Widget > *[data-root-id]\n",
       "  ),\n",
       ".cell-output-ipywidget-background:has(> .lm-Widget > *[data-root-id]) {\n",
       "  background-color: transparent !important;\n",
       "}\n",
       "</style>"
      ]
     },
     "metadata": {},
     "output_type": "display_data"
    },
    {
     "data": {
      "application/vnd.holoviews_exec.v0+json": "",
      "text/html": [
       "<div id='p1002'>\n",
       "  <div id=\"d828ea17-4d48-4d5a-bb08-b39ce1843e05\" data-root-id=\"p1002\" style=\"display: contents;\"></div>\n",
       "</div>\n",
       "<script type=\"application/javascript\">(function(root) {\n",
       "  var docs_json = {\"ad5f1c32-f82a-4d0d-91bb-3da979bb8c94\":{\"version\":\"3.4.2\",\"title\":\"Bokeh Application\",\"roots\":[{\"type\":\"object\",\"name\":\"panel.models.browser.BrowserInfo\",\"id\":\"p1002\"},{\"type\":\"object\",\"name\":\"panel.models.comm_manager.CommManager\",\"id\":\"p1003\",\"attributes\":{\"plot_id\":\"p1002\",\"comm_id\":\"2da9b239f9a64353a2580da14093dd05\",\"client_comm_id\":\"a018da427db24fac97b49c7045e768a2\"}}],\"defs\":[{\"type\":\"model\",\"name\":\"ReactiveHTML1\"},{\"type\":\"model\",\"name\":\"FlexBox1\",\"properties\":[{\"name\":\"align_content\",\"kind\":\"Any\",\"default\":\"flex-start\"},{\"name\":\"align_items\",\"kind\":\"Any\",\"default\":\"flex-start\"},{\"name\":\"flex_direction\",\"kind\":\"Any\",\"default\":\"row\"},{\"name\":\"flex_wrap\",\"kind\":\"Any\",\"default\":\"wrap\"},{\"name\":\"gap\",\"kind\":\"Any\",\"default\":\"\"},{\"name\":\"justify_content\",\"kind\":\"Any\",\"default\":\"flex-start\"}]},{\"type\":\"model\",\"name\":\"FloatPanel1\",\"properties\":[{\"name\":\"config\",\"kind\":\"Any\",\"default\":{\"type\":\"map\"}},{\"name\":\"contained\",\"kind\":\"Any\",\"default\":true},{\"name\":\"position\",\"kind\":\"Any\",\"default\":\"right-top\"},{\"name\":\"offsetx\",\"kind\":\"Any\",\"default\":null},{\"name\":\"offsety\",\"kind\":\"Any\",\"default\":null},{\"name\":\"theme\",\"kind\":\"Any\",\"default\":\"primary\"},{\"name\":\"status\",\"kind\":\"Any\",\"default\":\"normalized\"}]},{\"type\":\"model\",\"name\":\"GridStack1\",\"properties\":[{\"name\":\"mode\",\"kind\":\"Any\",\"default\":\"warn\"},{\"name\":\"ncols\",\"kind\":\"Any\",\"default\":null},{\"name\":\"nrows\",\"kind\":\"Any\",\"default\":null},{\"name\":\"allow_resize\",\"kind\":\"Any\",\"default\":true},{\"name\":\"allow_drag\",\"kind\":\"Any\",\"default\":true},{\"name\":\"state\",\"kind\":\"Any\",\"default\":[]}]},{\"type\":\"model\",\"name\":\"drag1\",\"properties\":[{\"name\":\"slider_width\",\"kind\":\"Any\",\"default\":5},{\"name\":\"slider_color\",\"kind\":\"Any\",\"default\":\"black\"},{\"name\":\"value\",\"kind\":\"Any\",\"default\":50}]},{\"type\":\"model\",\"name\":\"click1\",\"properties\":[{\"name\":\"terminal_output\",\"kind\":\"Any\",\"default\":\"\"},{\"name\":\"debug_name\",\"kind\":\"Any\",\"default\":\"\"},{\"name\":\"clears\",\"kind\":\"Any\",\"default\":0}]},{\"type\":\"model\",\"name\":\"FastWrapper1\",\"properties\":[{\"name\":\"object\",\"kind\":\"Any\",\"default\":null},{\"name\":\"style\",\"kind\":\"Any\",\"default\":null}]},{\"type\":\"model\",\"name\":\"NotificationAreaBase1\",\"properties\":[{\"name\":\"js_events\",\"kind\":\"Any\",\"default\":{\"type\":\"map\"}},{\"name\":\"position\",\"kind\":\"Any\",\"default\":\"bottom-right\"},{\"name\":\"_clear\",\"kind\":\"Any\",\"default\":0}]},{\"type\":\"model\",\"name\":\"NotificationArea1\",\"properties\":[{\"name\":\"js_events\",\"kind\":\"Any\",\"default\":{\"type\":\"map\"}},{\"name\":\"notifications\",\"kind\":\"Any\",\"default\":[]},{\"name\":\"position\",\"kind\":\"Any\",\"default\":\"bottom-right\"},{\"name\":\"_clear\",\"kind\":\"Any\",\"default\":0},{\"name\":\"types\",\"kind\":\"Any\",\"default\":[{\"type\":\"map\",\"entries\":[[\"type\",\"warning\"],[\"background\",\"#ffc107\"],[\"icon\",{\"type\":\"map\",\"entries\":[[\"className\",\"fas fa-exclamation-triangle\"],[\"tagName\",\"i\"],[\"color\",\"white\"]]}]]},{\"type\":\"map\",\"entries\":[[\"type\",\"info\"],[\"background\",\"#007bff\"],[\"icon\",{\"type\":\"map\",\"entries\":[[\"className\",\"fas fa-info-circle\"],[\"tagName\",\"i\"],[\"color\",\"white\"]]}]]}]}]},{\"type\":\"model\",\"name\":\"Notification\",\"properties\":[{\"name\":\"background\",\"kind\":\"Any\",\"default\":null},{\"name\":\"duration\",\"kind\":\"Any\",\"default\":3000},{\"name\":\"icon\",\"kind\":\"Any\",\"default\":null},{\"name\":\"message\",\"kind\":\"Any\",\"default\":\"\"},{\"name\":\"notification_type\",\"kind\":\"Any\",\"default\":null},{\"name\":\"_destroyed\",\"kind\":\"Any\",\"default\":false}]},{\"type\":\"model\",\"name\":\"TemplateActions1\",\"properties\":[{\"name\":\"open_modal\",\"kind\":\"Any\",\"default\":0},{\"name\":\"close_modal\",\"kind\":\"Any\",\"default\":0}]},{\"type\":\"model\",\"name\":\"BootstrapTemplateActions1\",\"properties\":[{\"name\":\"open_modal\",\"kind\":\"Any\",\"default\":0},{\"name\":\"close_modal\",\"kind\":\"Any\",\"default\":0}]},{\"type\":\"model\",\"name\":\"TemplateEditor1\",\"properties\":[{\"name\":\"layout\",\"kind\":\"Any\",\"default\":[]}]},{\"type\":\"model\",\"name\":\"MaterialTemplateActions1\",\"properties\":[{\"name\":\"open_modal\",\"kind\":\"Any\",\"default\":0},{\"name\":\"close_modal\",\"kind\":\"Any\",\"default\":0}]},{\"type\":\"model\",\"name\":\"copy_to_clipboard1\",\"properties\":[{\"name\":\"fill\",\"kind\":\"Any\",\"default\":\"none\"},{\"name\":\"value\",\"kind\":\"Any\",\"default\":null}]}]}};\n",
       "  var render_items = [{\"docid\":\"ad5f1c32-f82a-4d0d-91bb-3da979bb8c94\",\"roots\":{\"p1002\":\"d828ea17-4d48-4d5a-bb08-b39ce1843e05\"},\"root_ids\":[\"p1002\"]}];\n",
       "  var docs = Object.values(docs_json)\n",
       "  if (!docs) {\n",
       "    return\n",
       "  }\n",
       "  const py_version = docs[0].version.replace('rc', '-rc.').replace('.dev', '-dev.')\n",
       "  async function embed_document(root) {\n",
       "    var Bokeh = get_bokeh(root)\n",
       "    await Bokeh.embed.embed_items_notebook(docs_json, render_items);\n",
       "    for (const render_item of render_items) {\n",
       "      for (const root_id of render_item.root_ids) {\n",
       "\tconst id_el = document.getElementById(root_id)\n",
       "\tif (id_el.children.length && id_el.children[0].hasAttribute('data-root-id')) {\n",
       "\t  const root_el = id_el.children[0]\n",
       "\t  root_el.id = root_el.id + '-rendered'\n",
       "\t  for (const child of root_el.children) {\n",
       "            // Ensure JupyterLab does not capture keyboard shortcuts\n",
       "            // see: https://jupyterlab.readthedocs.io/en/4.1.x/extension/notebook.html#keyboard-interaction-model\n",
       "\t    child.setAttribute('data-lm-suppress-shortcuts', 'true')\n",
       "\t  }\n",
       "\t}\n",
       "      }\n",
       "    }\n",
       "  }\n",
       "  function get_bokeh(root) {\n",
       "    if (root.Bokeh === undefined) {\n",
       "      return null\n",
       "    } else if (root.Bokeh.version !== py_version) {\n",
       "      if (root.Bokeh.versions === undefined || !root.Bokeh.versions.has(py_version)) {\n",
       "\treturn null\n",
       "      }\n",
       "      return root.Bokeh.versions.get(py_version);\n",
       "    } else if (root.Bokeh.version === py_version) {\n",
       "      return root.Bokeh\n",
       "    }\n",
       "    return null\n",
       "  }\n",
       "  function is_loaded(root) {\n",
       "    var Bokeh = get_bokeh(root)\n",
       "    return (Bokeh != null && Bokeh.Panel !== undefined)\n",
       "  }\n",
       "  if (is_loaded(root)) {\n",
       "    embed_document(root);\n",
       "  } else {\n",
       "    var attempts = 0;\n",
       "    var timer = setInterval(function(root) {\n",
       "      if (is_loaded(root)) {\n",
       "        clearInterval(timer);\n",
       "        embed_document(root);\n",
       "      } else if (document.readyState == \"complete\") {\n",
       "        attempts++;\n",
       "        if (attempts > 200) {\n",
       "          clearInterval(timer);\n",
       "\t  var Bokeh = get_bokeh(root)\n",
       "\t  if (Bokeh == null || Bokeh.Panel == null) {\n",
       "            console.warn(\"Panel: ERROR: Unable to run Panel code because Bokeh or Panel library is missing\");\n",
       "\t  } else {\n",
       "\t    console.warn(\"Panel: WARNING: Attempting to render but not all required libraries could be resolved.\")\n",
       "\t    embed_document(root)\n",
       "\t  }\n",
       "        }\n",
       "      }\n",
       "    }, 25, root)\n",
       "  }\n",
       "})(window);</script>"
      ]
     },
     "metadata": {
      "application/vnd.holoviews_exec.v0+json": {
       "id": "p1002"
      }
     },
     "output_type": "display_data"
    }
   ],
   "source": [
    "import logging\n",
    "from pathlib import Path\n",
    "\n",
    "import holoviews as hv\n",
    "import hvplot.polars  # noqa\n",
    "import matplotlib.pyplot as plt\n",
    "import numpy as np\n",
    "import polars as pl\n",
    "from icecream import ic\n",
    "from polars import col\n",
    "from sklearn.model_selection import train_test_split\n",
    "\n",
    "from src.data.database_manager import DatabaseManager\n",
    "from src.features.utils import to_describe\n",
    "from src.log_config import configure_logging\n",
    "\n",
    "configure_logging(\n",
    "    stream_level=logging.DEBUG,\n",
    "    ignore_libs=[\"matplotlib\", \"Comm\", \"bokeh\", \"tornado\"],\n",
    ")\n",
    "\n",
    "pl.Config.set_tbl_rows(12)  # for the 12 trials\n",
    "hv.output(widget_location=\"bottom\", size=130)\n",
    "\n",
    "db = DatabaseManager()"
   ]
  },
  {
   "cell_type": "code",
   "execution_count": 4,
   "metadata": {},
   "outputs": [],
   "source": [
    "with db:\n",
    "    labels = db.get_table(\"Labels\")\n",
    "    eda = db.get_table(\"Feature_EDA\")"
   ]
  },
  {
   "cell_type": "code",
   "execution_count": 5,
   "metadata": {},
   "outputs": [
    {
     "data": {
      "application/vnd.jupyter.widget-view+json": {
       "model_id": "76ed1ac533ce4401816c461731b3b5d8",
       "version_major": 2,
       "version_minor": 0
      },
      "text/plain": [
       "BokehModel(combine_events=True, render_bundle={'docs_json': {'6a52465e-d1d3-4ff9-bad9-3d1f6ea63b9f': {'version…"
      ]
     },
     "execution_count": 5,
     "metadata": {},
     "output_type": "execute_result"
    }
   ],
   "source": [
    "eda.hvplot(x=\"timestamp\", y=[\"eda_raw\"], groupby=\"trial_id\", width=800, height=400)"
   ]
  },
  {
   "cell_type": "code",
   "execution_count": 6,
   "metadata": {},
   "outputs": [
    {
     "data": {
      "text/html": [
       "<div><style>\n",
       ".dataframe > thead > tr,\n",
       ".dataframe > tbody > tr {\n",
       "  text-align: right;\n",
       "  white-space: pre-wrap;\n",
       "}\n",
       "</style>\n",
       "<small>shape: (133_302, 18)</small><table border=\"1\" class=\"dataframe\"><thead><tr><th>trial_id</th><th>trial_number</th><th>participant_id</th><th>rownumber</th><th>timestamp</th><th>temperature</th><th>rating</th><th>stimulus_seed</th><th>skin_area</th><th>normalized_timestamp</th><th>decreasing_intervals</th><th>major_decreasing_intervals</th><th>increasing_intervals</th><th>plateau_intervals</th><th>prolonged_minima_intervals</th><th>strictly_increasing_intervals</th><th>normalized_timestamp_increases</th><th>normalized_timestamp_decreases</th></tr><tr><td>u16</td><td>u8</td><td>u8</td><td>u32</td><td>f64</td><td>f64</td><td>f64</td><td>u16</td><td>u8</td><td>f64</td><td>u16</td><td>u16</td><td>u16</td><td>u16</td><td>u16</td><td>u16</td><td>f64</td><td>f64</td></tr></thead><tbody><tr><td>1</td><td>1</td><td>1</td><td>320</td><td>326250.8398</td><td>0.80056</td><td>0.83375</td><td>396</td><td>1</td><td>32026.5088</td><td>1</td><td>0</td><td>0</td><td>0</td><td>0</td><td>0</td><td>null</td><td>0.0</td></tr><tr><td>1</td><td>1</td><td>1</td><td>321</td><td>326351.5703</td><td>0.800524</td><td>0.83375</td><td>396</td><td>1</td><td>32127.2393</td><td>1</td><td>0</td><td>0</td><td>0</td><td>0</td><td>0</td><td>null</td><td>100.7305</td></tr><tr><td>1</td><td>1</td><td>1</td><td>322</td><td>326453.3964</td><td>0.800415</td><td>0.8375</td><td>396</td><td>1</td><td>32229.0654</td><td>1</td><td>0</td><td>0</td><td>0</td><td>0</td><td>0</td><td>null</td><td>202.5566</td></tr><tr><td>1</td><td>1</td><td>1</td><td>323</td><td>326551.3829</td><td>0.800232</td><td>0.83875</td><td>396</td><td>1</td><td>32327.0519</td><td>1</td><td>0</td><td>0</td><td>0</td><td>0</td><td>0</td><td>null</td><td>300.5431</td></tr><tr><td>1</td><td>1</td><td>1</td><td>324</td><td>326651.1161</td><td>0.799977</td><td>0.83875</td><td>396</td><td>1</td><td>32426.7851</td><td>1</td><td>0</td><td>0</td><td>0</td><td>0</td><td>0</td><td>null</td><td>400.2763</td></tr><tr><td>1</td><td>1</td><td>1</td><td>325</td><td>326751.5133</td><td>0.799649</td><td>0.83875</td><td>396</td><td>1</td><td>32527.1823</td><td>1</td><td>0</td><td>0</td><td>0</td><td>0</td><td>0</td><td>null</td><td>500.6735</td></tr><tr><td>&hellip;</td><td>&hellip;</td><td>&hellip;</td><td>&hellip;</td><td>&hellip;</td><td>&hellip;</td><td>&hellip;</td><td>&hellip;</td><td>&hellip;</td><td>&hellip;</td><td>&hellip;</td><td>&hellip;</td><td>&hellip;</td><td>&hellip;</td><td>&hellip;</td><td>&hellip;</td><td>&hellip;</td><td>&hellip;</td></tr><tr><td>332</td><td>12</td><td>28</td><td>21586</td><td>2.7746e6</td><td>0.25889</td><td>0.80625</td><td>133</td><td>1</td><td>177496.8039</td><td>1660</td><td>0</td><td>0</td><td>0</td><td>0</td><td>0</td><td>null</td><td>4403.8851</td></tr><tr><td>332</td><td>12</td><td>28</td><td>21587</td><td>2.7747e6</td><td>0.251239</td><td>0.80625</td><td>133</td><td>1</td><td>177596.5374</td><td>1660</td><td>0</td><td>0</td><td>0</td><td>0</td><td>0</td><td>null</td><td>4503.6186</td></tr><tr><td>332</td><td>12</td><td>28</td><td>21588</td><td>2.7748e6</td><td>0.243786</td><td>0.81375</td><td>133</td><td>1</td><td>177698.2663</td><td>1660</td><td>0</td><td>0</td><td>0</td><td>0</td><td>0</td><td>null</td><td>4605.3475</td></tr><tr><td>332</td><td>12</td><td>28</td><td>21589</td><td>2.7749e6</td><td>0.236547</td><td>0.81875</td><td>133</td><td>1</td><td>177797.9995</td><td>1660</td><td>0</td><td>0</td><td>0</td><td>0</td><td>0</td><td>null</td><td>4705.0807</td></tr><tr><td>332</td><td>12</td><td>28</td><td>21590</td><td>2.7750e6</td><td>0.229537</td><td>0.82375</td><td>133</td><td>1</td><td>177896.7354</td><td>1660</td><td>0</td><td>0</td><td>0</td><td>0</td><td>0</td><td>null</td><td>4803.8166</td></tr><tr><td>332</td><td>12</td><td>28</td><td>21591</td><td>2.7751e6</td><td>0.22277</td><td>0.83375</td><td>133</td><td>1</td><td>177996.4688</td><td>1660</td><td>0</td><td>0</td><td>0</td><td>0</td><td>0</td><td>null</td><td>4903.55</td></tr></tbody></table></div>"
      ],
      "text/plain": [
       "shape: (133_302, 18)\n",
       "┌──────────┬───────────┬───────────┬───────────┬───┬───────────┬───────────┬───────────┬───────────┐\n",
       "│ trial_id ┆ trial_num ┆ participa ┆ rownumber ┆ … ┆ prolonged ┆ strictly_ ┆ normalize ┆ normalize │\n",
       "│ ---      ┆ ber       ┆ nt_id     ┆ ---       ┆   ┆ _minima_i ┆ increasin ┆ d_timesta ┆ d_timesta │\n",
       "│ u16      ┆ ---       ┆ ---       ┆ u32       ┆   ┆ ntervals  ┆ g_interva ┆ mp_increa ┆ mp_decrea │\n",
       "│          ┆ u8        ┆ u8        ┆           ┆   ┆ ---       ┆ ls        ┆ ses       ┆ ses       │\n",
       "│          ┆           ┆           ┆           ┆   ┆ u16       ┆ ---       ┆ ---       ┆ ---       │\n",
       "│          ┆           ┆           ┆           ┆   ┆           ┆ u16       ┆ f64       ┆ f64       │\n",
       "╞══════════╪═══════════╪═══════════╪═══════════╪═══╪═══════════╪═══════════╪═══════════╪═══════════╡\n",
       "│ 1        ┆ 1         ┆ 1         ┆ 320       ┆ … ┆ 0         ┆ 0         ┆ null      ┆ 0.0       │\n",
       "│ 1        ┆ 1         ┆ 1         ┆ 321       ┆ … ┆ 0         ┆ 0         ┆ null      ┆ 100.7305  │\n",
       "│ 1        ┆ 1         ┆ 1         ┆ 322       ┆ … ┆ 0         ┆ 0         ┆ null      ┆ 202.5566  │\n",
       "│ 1        ┆ 1         ┆ 1         ┆ 323       ┆ … ┆ 0         ┆ 0         ┆ null      ┆ 300.5431  │\n",
       "│ 1        ┆ 1         ┆ 1         ┆ 324       ┆ … ┆ 0         ┆ 0         ┆ null      ┆ 400.2763  │\n",
       "│ 1        ┆ 1         ┆ 1         ┆ 325       ┆ … ┆ 0         ┆ 0         ┆ null      ┆ 500.6735  │\n",
       "│ …        ┆ …         ┆ …         ┆ …         ┆ … ┆ …         ┆ …         ┆ …         ┆ …         │\n",
       "│ 332      ┆ 12        ┆ 28        ┆ 21586     ┆ … ┆ 0         ┆ 0         ┆ null      ┆ 4403.8851 │\n",
       "│ 332      ┆ 12        ┆ 28        ┆ 21587     ┆ … ┆ 0         ┆ 0         ┆ null      ┆ 4503.6186 │\n",
       "│ 332      ┆ 12        ┆ 28        ┆ 21588     ┆ … ┆ 0         ┆ 0         ┆ null      ┆ 4605.3475 │\n",
       "│ 332      ┆ 12        ┆ 28        ┆ 21589     ┆ … ┆ 0         ┆ 0         ┆ null      ┆ 4705.0807 │\n",
       "│ 332      ┆ 12        ┆ 28        ┆ 21590     ┆ … ┆ 0         ┆ 0         ┆ null      ┆ 4803.8166 │\n",
       "│ 332      ┆ 12        ┆ 28        ┆ 21591     ┆ … ┆ 0         ┆ 0         ┆ null      ┆ 4903.55   │\n",
       "└──────────┴───────────┴───────────┴───────────┴───┴───────────┴───────────┴───────────┴───────────┘"
      ]
     },
     "execution_count": 6,
     "metadata": {},
     "output_type": "execute_result"
    }
   ],
   "source": [
    "labels = labels.with_columns(\n",
    "    # Add time counter for decreases and strictly increases\n",
    "    (\n",
    "        pl.when(col(\"strictly_increasing_intervals\") != 0)\n",
    "        .then(\n",
    "            col(\"timestamp\")\n",
    "            - col(\"timestamp\").min().over(\"strictly_increasing_intervals\")\n",
    "        )\n",
    "        .otherwise(None)\n",
    "    ).alias(\"normalized_timestamp_increases\"),\n",
    "    (\n",
    "        pl.when(col(\"decreasing_intervals\") != 0)\n",
    "        .then(col(\"timestamp\") - col(\"timestamp\").min().over(\"decreasing_intervals\"))\n",
    "        .otherwise(None)\n",
    "    ).alias(\"normalized_timestamp_decreases\"),\n",
    "    # Only keep the first 5 seconds\n",
    ").filter(\n",
    "    (col(\"normalized_timestamp_increases\") < 5000)\n",
    "    | (col(\"normalized_timestamp_decreases\") < 5000)\n",
    ")\n",
    "labels"
   ]
  },
  {
   "cell_type": "code",
   "execution_count": 7,
   "metadata": {},
   "outputs": [],
   "source": [
    "# Split data into decreasing and increasing intervals to add labels and sample ids\n",
    "decreases = labels.filter(\n",
    "    col(\"normalized_timestamp_decreases\").is_not_null()\n",
    ").with_columns(\n",
    "    pl.lit(1).alias(\"label\").cast(pl.UInt8),\n",
    "    col(\"decreasing_intervals\").alias(\"sample_id\"),\n",
    ")"
   ]
  },
  {
   "cell_type": "code",
   "execution_count": 9,
   "metadata": {},
   "outputs": [],
   "source": [
    "increases = labels.filter(\n",
    "    col(\"normalized_timestamp_increases\").is_not_null()\n",
    ").with_columns(\n",
    "    pl.lit(0).alias(\"label\").cast(pl.UInt8),\n",
    "    (\n",
    "        col(\"strictly_increasing_intervals\")\n",
    "        + (decreases.select(pl.last(\"decreasing_intervals\")))  # continue from decreases\n",
    "    ).alias(\"sample_id\"),\n",
    ")"
   ]
  },
  {
   "cell_type": "code",
   "execution_count": 10,
   "metadata": {},
   "outputs": [
    {
     "data": {
      "text/html": [
       "<div><style>\n",
       ".dataframe > thead > tr,\n",
       ".dataframe > tbody > tr {\n",
       "  text-align: right;\n",
       "  white-space: pre-wrap;\n",
       "}\n",
       "</style>\n",
       "<small>shape: (133_302, 20)</small><table border=\"1\" class=\"dataframe\"><thead><tr><th>trial_id</th><th>trial_number</th><th>participant_id</th><th>rownumber</th><th>timestamp</th><th>temperature</th><th>rating</th><th>stimulus_seed</th><th>skin_area</th><th>normalized_timestamp</th><th>decreasing_intervals</th><th>major_decreasing_intervals</th><th>increasing_intervals</th><th>plateau_intervals</th><th>prolonged_minima_intervals</th><th>strictly_increasing_intervals</th><th>normalized_timestamp_increases</th><th>normalized_timestamp_decreases</th><th>label</th><th>sample_id</th></tr><tr><td>u16</td><td>u8</td><td>u8</td><td>u32</td><td>f64</td><td>f64</td><td>f64</td><td>u16</td><td>u8</td><td>f64</td><td>u16</td><td>u16</td><td>u16</td><td>u16</td><td>u16</td><td>u16</td><td>f64</td><td>f64</td><td>u8</td><td>u16</td></tr></thead><tbody><tr><td>1</td><td>1</td><td>1</td><td>320</td><td>326250.8398</td><td>0.80056</td><td>0.83375</td><td>396</td><td>1</td><td>32026.5088</td><td>1</td><td>0</td><td>0</td><td>0</td><td>0</td><td>0</td><td>null</td><td>0.0</td><td>1</td><td>1</td></tr><tr><td>1</td><td>1</td><td>1</td><td>321</td><td>326351.5703</td><td>0.800524</td><td>0.83375</td><td>396</td><td>1</td><td>32127.2393</td><td>1</td><td>0</td><td>0</td><td>0</td><td>0</td><td>0</td><td>null</td><td>100.7305</td><td>1</td><td>1</td></tr><tr><td>1</td><td>1</td><td>1</td><td>322</td><td>326453.3964</td><td>0.800415</td><td>0.8375</td><td>396</td><td>1</td><td>32229.0654</td><td>1</td><td>0</td><td>0</td><td>0</td><td>0</td><td>0</td><td>null</td><td>202.5566</td><td>1</td><td>1</td></tr><tr><td>1</td><td>1</td><td>1</td><td>323</td><td>326551.3829</td><td>0.800232</td><td>0.83875</td><td>396</td><td>1</td><td>32327.0519</td><td>1</td><td>0</td><td>0</td><td>0</td><td>0</td><td>0</td><td>null</td><td>300.5431</td><td>1</td><td>1</td></tr><tr><td>1</td><td>1</td><td>1</td><td>324</td><td>326651.1161</td><td>0.799977</td><td>0.83875</td><td>396</td><td>1</td><td>32426.7851</td><td>1</td><td>0</td><td>0</td><td>0</td><td>0</td><td>0</td><td>null</td><td>400.2763</td><td>1</td><td>1</td></tr><tr><td>1</td><td>1</td><td>1</td><td>325</td><td>326751.5133</td><td>0.799649</td><td>0.83875</td><td>396</td><td>1</td><td>32527.1823</td><td>1</td><td>0</td><td>0</td><td>0</td><td>0</td><td>0</td><td>null</td><td>500.6735</td><td>1</td><td>1</td></tr><tr><td>&hellip;</td><td>&hellip;</td><td>&hellip;</td><td>&hellip;</td><td>&hellip;</td><td>&hellip;</td><td>&hellip;</td><td>&hellip;</td><td>&hellip;</td><td>&hellip;</td><td>&hellip;</td><td>&hellip;</td><td>&hellip;</td><td>&hellip;</td><td>&hellip;</td><td>&hellip;</td><td>&hellip;</td><td>&hellip;</td><td>&hellip;</td><td>&hellip;</td></tr><tr><td>332</td><td>12</td><td>28</td><td>21526</td><td>2.7686e6</td><td>0.476868</td><td>0.66375</td><td>133</td><td>1</td><td>171491.0208</td><td>0</td><td>0</td><td>1660</td><td>0</td><td>0</td><td>996</td><td>4403.2538</td><td>null</td><td>0</td><td>2656</td></tr><tr><td>332</td><td>12</td><td>28</td><td>21527</td><td>2.7687e6</td><td>0.485034</td><td>0.6675</td><td>133</td><td>1</td><td>171591.7536</td><td>0</td><td>0</td><td>1660</td><td>0</td><td>0</td><td>996</td><td>4503.9866</td><td>null</td><td>0</td><td>2656</td></tr><tr><td>332</td><td>12</td><td>28</td><td>21528</td><td>2.7688e6</td><td>0.492691</td><td>0.6675</td><td>133</td><td>1</td><td>171691.484</td><td>0</td><td>0</td><td>1660</td><td>0</td><td>0</td><td>996</td><td>4603.717</td><td>null</td><td>0</td><td>2656</td></tr><tr><td>332</td><td>12</td><td>28</td><td>21529</td><td>2.7689e6</td><td>0.499818</td><td>0.66875</td><td>133</td><td>1</td><td>171792.2164</td><td>0</td><td>0</td><td>1660</td><td>0</td><td>0</td><td>996</td><td>4704.4494</td><td>null</td><td>0</td><td>2656</td></tr><tr><td>332</td><td>12</td><td>28</td><td>21530</td><td>2.7690e6</td><td>0.506395</td><td>0.67</td><td>133</td><td>1</td><td>171891.9487</td><td>0</td><td>0</td><td>1660</td><td>0</td><td>0</td><td>996</td><td>4804.1817</td><td>null</td><td>0</td><td>2656</td></tr><tr><td>332</td><td>12</td><td>28</td><td>21531</td><td>2.7691e6</td><td>0.512404</td><td>0.67</td><td>133</td><td>1</td><td>171991.6817</td><td>0</td><td>0</td><td>1660</td><td>0</td><td>0</td><td>996</td><td>4903.9147</td><td>null</td><td>0</td><td>2656</td></tr></tbody></table></div>"
      ],
      "text/plain": [
       "shape: (133_302, 20)\n",
       "┌──────────┬────────────┬────────────┬───────────┬───┬────────────┬────────────┬───────┬───────────┐\n",
       "│ trial_id ┆ trial_numb ┆ participan ┆ rownumber ┆ … ┆ normalized ┆ normalized ┆ label ┆ sample_id │\n",
       "│ ---      ┆ er         ┆ t_id       ┆ ---       ┆   ┆ _timestamp ┆ _timestamp ┆ ---   ┆ ---       │\n",
       "│ u16      ┆ ---        ┆ ---        ┆ u32       ┆   ┆ _increases ┆ _decreases ┆ u8    ┆ u16       │\n",
       "│          ┆ u8         ┆ u8         ┆           ┆   ┆ ---        ┆ ---        ┆       ┆           │\n",
       "│          ┆            ┆            ┆           ┆   ┆ f64        ┆ f64        ┆       ┆           │\n",
       "╞══════════╪════════════╪════════════╪═══════════╪═══╪════════════╪════════════╪═══════╪═══════════╡\n",
       "│ 1        ┆ 1          ┆ 1          ┆ 320       ┆ … ┆ null       ┆ 0.0        ┆ 1     ┆ 1         │\n",
       "│ 1        ┆ 1          ┆ 1          ┆ 321       ┆ … ┆ null       ┆ 100.7305   ┆ 1     ┆ 1         │\n",
       "│ 1        ┆ 1          ┆ 1          ┆ 322       ┆ … ┆ null       ┆ 202.5566   ┆ 1     ┆ 1         │\n",
       "│ 1        ┆ 1          ┆ 1          ┆ 323       ┆ … ┆ null       ┆ 300.5431   ┆ 1     ┆ 1         │\n",
       "│ 1        ┆ 1          ┆ 1          ┆ 324       ┆ … ┆ null       ┆ 400.2763   ┆ 1     ┆ 1         │\n",
       "│ 1        ┆ 1          ┆ 1          ┆ 325       ┆ … ┆ null       ┆ 500.6735   ┆ 1     ┆ 1         │\n",
       "│ …        ┆ …          ┆ …          ┆ …         ┆ … ┆ …          ┆ …          ┆ …     ┆ …         │\n",
       "│ 332      ┆ 12         ┆ 28         ┆ 21526     ┆ … ┆ 4403.2538  ┆ null       ┆ 0     ┆ 2656      │\n",
       "│ 332      ┆ 12         ┆ 28         ┆ 21527     ┆ … ┆ 4503.9866  ┆ null       ┆ 0     ┆ 2656      │\n",
       "│ 332      ┆ 12         ┆ 28         ┆ 21528     ┆ … ┆ 4603.717   ┆ null       ┆ 0     ┆ 2656      │\n",
       "│ 332      ┆ 12         ┆ 28         ┆ 21529     ┆ … ┆ 4704.4494  ┆ null       ┆ 0     ┆ 2656      │\n",
       "│ 332      ┆ 12         ┆ 28         ┆ 21530     ┆ … ┆ 4804.1817  ┆ null       ┆ 0     ┆ 2656      │\n",
       "│ 332      ┆ 12         ┆ 28         ┆ 21531     ┆ … ┆ 4903.9147  ┆ null       ┆ 0     ┆ 2656      │\n",
       "└──────────┴────────────┴────────────┴───────────┴───┴────────────┴────────────┴───────┴───────────┘"
      ]
     },
     "execution_count": 10,
     "metadata": {},
     "output_type": "execute_result"
    }
   ],
   "source": [
    "# Join the two tables\n",
    "labels = decreases.vstack(increases).sort(\"sample_id\", \"timestamp\")"
   ]
  },
  {
   "cell_type": "code",
   "execution_count": 13,
   "metadata": {},
   "outputs": [
    {
     "data": {
      "text/plain": [
       "(132800, 132796)"
      ]
     },
     "execution_count": 13,
     "metadata": {},
     "output_type": "execute_result"
    }
   ],
   "source": [
    "# Normalize the data\n",
    "ROWS_PER_SAMPLE = 50\n",
    "\n",
    "labels = (\n",
    "    labels.sort([\"sample_id\"])  # Sort within each group if needed\n",
    "    .group_by(\"sample_id\", maintain_order=True)\n",
    "    .agg(pl.all().head(ROWS_PER_SAMPLE))\n",
    "    .explode(pl.all().exclude(\"sample_id\"))  # Explode the result back into rows\n",
    ")\n",
    "\n",
    "labels.select(pl.last(\"sample_id\")).item() * ROWS_PER_SAMPLE, labels.height"
   ]
  },
  {
   "cell_type": "code",
   "execution_count": 26,
   "metadata": {},
   "outputs": [
    {
     "data": {
      "text/plain": [
       "[1310, 2143, 2428, 2641]"
      ]
     },
     "execution_count": 26,
     "metadata": {},
     "output_type": "execute_result"
    }
   ],
   "source": [
    "# Sanity check\n",
    "if not labels.height == labels.select(pl.last(\"sample_id\")).item() * ROWS_PER_SAMPLE:\n",
    "    affected_samples = []\n",
    "    for sample_id, group in labels.group_by(\"sample_id\", maintain_order=True):\n",
    "        if group.height < ROWS_PER_SAMPLE or group.height > ROWS_PER_SAMPLE:\n",
    "            affected_samples.append(sample_id[0])  # sample_id is a tuple\n",
    "logging.debug(\n",
    "    f\"Normalizing to equal {ROWS_PER_SAMPLE} rows per sample was not successful for the following samples: {affected_samples}\"\n",
    ")\n",
    "labels = labels.filter(~col(\"sample_id\").is_in(affected_samples))"
   ]
  },
  {
   "cell_type": "code",
   "execution_count": 146,
   "metadata": {},
   "outputs": [
    {
     "data": {
      "text/html": [
       "<div><style>\n",
       ".dataframe > thead > tr,\n",
       ".dataframe > tbody > tr {\n",
       "  text-align: right;\n",
       "  white-space: pre-wrap;\n",
       "}\n",
       "</style>\n",
       "<small>shape: (106_641, 18)</small><table border=\"1\" class=\"dataframe\"><thead><tr><th>trial_id</th><th>trial_number</th><th>participant_id</th><th>rownumber</th><th>timestamp</th><th>temperature</th><th>rating</th><th>stimulus_seed</th><th>skin_area</th><th>normalized_timestamp</th><th>decreasing_intervals</th><th>major_decreasing_intervals</th><th>increasing_intervals</th><th>plateau_intervals</th><th>prolonged_minima_intervals</th><th>strictly_increasing_intervals</th><th>normalized_timestamp_increases</th><th>normalized_timestamp_decreases</th></tr><tr><td>u16</td><td>u8</td><td>u8</td><td>u32</td><td>f64</td><td>f64</td><td>f64</td><td>u16</td><td>u8</td><td>f64</td><td>i64</td><td>i64</td><td>i64</td><td>i64</td><td>i64</td><td>u32</td><td>f64</td><td>f64</td></tr></thead><tbody><tr><td>37</td><td>1</td><td>4</td><td>378</td><td>304543.7522</td><td>0.21797</td><td>0.05375</td><td>243</td><td>6</td><td>37830.8841</td><td>0</td><td>0</td><td>182</td><td>0</td><td>0</td><td>109</td><td>800.5433</td><td>null</td></tr><tr><td>197</td><td>9</td><td>17</td><td>14948</td><td>2.0773e6</td><td>0.395006</td><td>0.135</td><td>396</td><td>3</td><td>53994.742</td><td>0</td><td>0</td><td>982</td><td>0</td><td>0</td><td>589</td><td>3901.7761</td><td>null</td></tr><tr><td>139</td><td>11</td><td>12</td><td>19603</td><td>2.4931e6</td><td>0.949331</td><td>0.37375</td><td>841</td><td>2</td><td>159298.8712</td><td>0</td><td>0</td><td>695</td><td>0</td><td>0</td><td>417</td><td>4201.6864</td><td>null</td></tr><tr><td>18</td><td>6</td><td>2</td><td>10741</td><td>1.5562e6</td><td>0.515107</td><td>0.1275</td><td>133</td><td>1</td><td>174111.4672</td><td>90</td><td>0</td><td>0</td><td>0</td><td>0</td><td>0</td><td>null</td><td>1101.7058</td></tr><tr><td>209</td><td>9</td><td>18</td><td>15013</td><td>2.1266e6</td><td>0.949337</td><td>0.85625</td><td>658</td><td>4</td><td>60500.0553</td><td>1042</td><td>626</td><td>0</td><td>0</td><td>0</td><td>0</td><td>null</td><td>2499.9926</td></tr><tr><td>308</td><td>12</td><td>26</td><td>20091</td><td>2.7847e6</td><td>0.17883</td><td>0.0</td><td>265</td><td>1</td><td>27970.6565</td><td>0</td><td>0</td><td>1537</td><td>0</td><td>0</td><td>923</td><td>900.7303</td><td>null</td></tr><tr><td>&hellip;</td><td>&hellip;</td><td>&hellip;</td><td>&hellip;</td><td>&hellip;</td><td>&hellip;</td><td>&hellip;</td><td>&hellip;</td><td>&hellip;</td><td>&hellip;</td><td>&hellip;</td><td>&hellip;</td><td>&hellip;</td><td>&hellip;</td><td>&hellip;</td><td>&hellip;</td><td>&hellip;</td><td>&hellip;</td></tr><tr><td>137</td><td>9</td><td>12</td><td>15741</td><td>2.0576e6</td><td>0.969615</td><td>1.0</td><td>243</td><td>4</td><td>133277.7672</td><td>684</td><td>411</td><td>0</td><td>0</td><td>0</td><td>0</td><td>null</td><td>2202.6687</td></tr><tr><td>275</td><td>3</td><td>24</td><td>4581</td><td>829854.0288</td><td>0.867462</td><td>1.0</td><td>681</td><td>4</td><td>97898.3963</td><td>1373</td><td>824</td><td>0</td><td>0</td><td>0</td><td>0</td><td>null</td><td>4804.4061</td></tr><tr><td>299</td><td>3</td><td>26</td><td>4614</td><td>782041.3907</td><td>0.972046</td><td>1.0</td><td>396</td><td>4</td><td>101184.5357</td><td>1493</td><td>896</td><td>0</td><td>0</td><td>0</td><td>0</td><td>null</td><td>2101.5981</td></tr><tr><td>259</td><td>11</td><td>22</td><td>18663</td><td>2.4483e6</td><td>0.977717</td><td>0.97625</td><td>133</td><td>2</td><td>65287.7654</td><td>1292</td><td>776</td><td>0</td><td>0</td><td>0</td><td>0</td><td>null</td><td>199.4679</td></tr><tr><td>329</td><td>9</td><td>28</td><td>15836</td><td>2.1055e6</td><td>0.492781</td><td>0.28125</td><td>870</td><td>4</td><td>142788.1687</td><td>0</td><td>0</td><td>1644</td><td>0</td><td>0</td><td>986</td><td>3705.9247</td><td>null</td></tr><tr><td>304</td><td>8</td><td>26</td><td>14003</td><td>1.9839e6</td><td>0.874737</td><td>1.0</td><td>658</td><td>5</td><td>139582.7231</td><td>1519</td><td>912</td><td>0</td><td>0</td><td>0</td><td>0</td><td>null</td><td>4504.053</td></tr></tbody></table></div>"
      ],
      "text/plain": [
       "shape: (106_641, 18)\n",
       "┌──────────┬───────────┬───────────┬───────────┬───┬───────────┬───────────┬───────────┬───────────┐\n",
       "│ trial_id ┆ trial_num ┆ participa ┆ rownumber ┆ … ┆ prolonged ┆ strictly_ ┆ normalize ┆ normalize │\n",
       "│ ---      ┆ ber       ┆ nt_id     ┆ ---       ┆   ┆ _minima_i ┆ increasin ┆ d_timesta ┆ d_timesta │\n",
       "│ u16      ┆ ---       ┆ ---       ┆ u32       ┆   ┆ ntervals  ┆ g_interva ┆ mp_increa ┆ mp_decrea │\n",
       "│          ┆ u8        ┆ u8        ┆           ┆   ┆ ---       ┆ ls        ┆ ses       ┆ ses       │\n",
       "│          ┆           ┆           ┆           ┆   ┆ i64       ┆ ---       ┆ ---       ┆ ---       │\n",
       "│          ┆           ┆           ┆           ┆   ┆           ┆ u32       ┆ f64       ┆ f64       │\n",
       "╞══════════╪═══════════╪═══════════╪═══════════╪═══╪═══════════╪═══════════╪═══════════╪═══════════╡\n",
       "│ 37       ┆ 1         ┆ 4         ┆ 378       ┆ … ┆ 0         ┆ 109       ┆ 800.5433  ┆ null      │\n",
       "│ 197      ┆ 9         ┆ 17        ┆ 14948     ┆ … ┆ 0         ┆ 589       ┆ 3901.7761 ┆ null      │\n",
       "│ 139      ┆ 11        ┆ 12        ┆ 19603     ┆ … ┆ 0         ┆ 417       ┆ 4201.6864 ┆ null      │\n",
       "│ 18       ┆ 6         ┆ 2         ┆ 10741     ┆ … ┆ 0         ┆ 0         ┆ null      ┆ 1101.7058 │\n",
       "│ 209      ┆ 9         ┆ 18        ┆ 15013     ┆ … ┆ 0         ┆ 0         ┆ null      ┆ 2499.9926 │\n",
       "│ 308      ┆ 12        ┆ 26        ┆ 20091     ┆ … ┆ 0         ┆ 923       ┆ 900.7303  ┆ null      │\n",
       "│ …        ┆ …         ┆ …         ┆ …         ┆ … ┆ …         ┆ …         ┆ …         ┆ …         │\n",
       "│ 137      ┆ 9         ┆ 12        ┆ 15741     ┆ … ┆ 0         ┆ 0         ┆ null      ┆ 2202.6687 │\n",
       "│ 275      ┆ 3         ┆ 24        ┆ 4581      ┆ … ┆ 0         ┆ 0         ┆ null      ┆ 4804.4061 │\n",
       "│ 299      ┆ 3         ┆ 26        ┆ 4614      ┆ … ┆ 0         ┆ 0         ┆ null      ┆ 2101.5981 │\n",
       "│ 259      ┆ 11        ┆ 22        ┆ 18663     ┆ … ┆ 0         ┆ 0         ┆ null      ┆ 199.4679  │\n",
       "│ 329      ┆ 9         ┆ 28        ┆ 15836     ┆ … ┆ 0         ┆ 986       ┆ 3705.9247 ┆ null      │\n",
       "│ 304      ┆ 8         ┆ 26        ┆ 14003     ┆ … ┆ 0         ┆ 0         ┆ null      ┆ 4504.053  │\n",
       "└──────────┴───────────┴───────────┴───────────┴───┴───────────┴───────────┴───────────┴───────────┘"
      ]
     },
     "execution_count": 146,
     "metadata": {},
     "output_type": "execute_result"
    }
   ],
   "source": [
    "train, test = train_test_split(labels, test_size=0.2, random_state=42)\n",
    "train"
   ]
  },
  {
   "cell_type": "code",
   "execution_count": null,
   "metadata": {},
   "outputs": [],
   "source": []
  }
 ],
 "metadata": {
  "kernelspec": {
   "display_name": "pain",
   "language": "python",
   "name": "python3"
  },
  "language_info": {
   "codemirror_mode": {
    "name": "ipython",
    "version": 3
   },
   "file_extension": ".py",
   "mimetype": "text/x-python",
   "name": "python",
   "nbconvert_exporter": "python",
   "pygments_lexer": "ipython3",
   "version": "3.12.4"
  }
 },
 "nbformat": 4,
 "nbformat_minor": 2
}
