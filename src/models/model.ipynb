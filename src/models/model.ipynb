{
 "cells": [
  {
   "cell_type": "code",
   "execution_count": 1,
   "metadata": {},
   "outputs": [],
   "source": [
    "%%capture\n",
    "from pathlib import Path\n",
    "\n",
    "if Path.cwd().stem == \"models\":\n",
    "    %cd ../..\n",
    "    %load_ext autoreload\n",
    "    %autoreload 2"
   ]
  },
  {
   "cell_type": "code",
   "execution_count": 61,
   "metadata": {},
   "outputs": [],
   "source": [
    "import logging\n",
    "from datetime import datetime\n",
    "from pathlib import Path\n",
    "\n",
    "import holoviews as hv\n",
    "import hvplot.polars  # noqa\n",
    "import matplotlib.pyplot as plt\n",
    "import numpy as np\n",
    "import optuna\n",
    "import polars as pl\n",
    "import torch\n",
    "import torch.nn as nn\n",
    "import torch.optim as optim\n",
    "from icecream import ic\n",
    "from polars import col\n",
    "from sklearn.model_selection import KFold, train_test_split\n",
    "from torch.utils.data import DataLoader, TensorDataset\n",
    "\n",
    "from src.data.database_manager import DatabaseManager\n",
    "from src.features.utils import to_describe\n",
    "from src.log_config import configure_logging\n",
    "from src.models.utils import StandardScaler3D\n",
    "\n",
    "configure_logging(\n",
    "    stream_level=logging.DEBUG,\n",
    "    ignore_libs=[\"matplotlib\", \"Comm\", \"bokeh\", \"tornado\"],\n",
    ")\n",
    "\n",
    "pl.Config.set_tbl_rows(12)  # for the 12 trials\n",
    "hv.output(widget_location=\"bottom\", size=130)\n",
    "\n",
    "db = DatabaseManager()"
   ]
  },
  {
   "cell_type": "code",
   "execution_count": 3,
   "metadata": {},
   "outputs": [],
   "source": [
    "with db:\n",
    "    labels = db.get_table(\"Labels\")\n",
    "    eda = db.get_table(\"Feature_EDA\")"
   ]
  },
  {
   "cell_type": "code",
   "execution_count": 4,
   "metadata": {},
   "outputs": [
    {
     "data": {
      "application/vnd.jupyter.widget-view+json": {
       "model_id": "99c4fc090e7c4c5d9a6599a5a7f4d196",
       "version_major": 2,
       "version_minor": 0
      },
      "text/plain": [
       "BokehModel(combine_events=True, render_bundle={'docs_json': {'39a3b0bd-9afd-47fb-a213-be2eec995c04': {'version…"
      ]
     },
     "execution_count": 4,
     "metadata": {},
     "output_type": "execute_result"
    }
   ],
   "source": [
    "eda.hvplot(x=\"timestamp\", y=[\"eda_raw\"], groupby=\"trial_id\", width=800, height=400)"
   ]
  },
  {
   "cell_type": "code",
   "execution_count": 5,
   "metadata": {},
   "outputs": [
    {
     "data": {
      "text/html": [
       "<div><style>\n",
       ".dataframe > thead > tr,\n",
       ".dataframe > tbody > tr {\n",
       "  text-align: right;\n",
       "  white-space: pre-wrap;\n",
       "}\n",
       "</style>\n",
       "<small>shape: (133_302, 18)</small><table border=\"1\" class=\"dataframe\"><thead><tr><th>trial_id</th><th>trial_number</th><th>participant_id</th><th>rownumber</th><th>timestamp</th><th>temperature</th><th>rating</th><th>stimulus_seed</th><th>skin_area</th><th>normalized_timestamp</th><th>decreasing_intervals</th><th>major_decreasing_intervals</th><th>increasing_intervals</th><th>plateau_intervals</th><th>prolonged_minima_intervals</th><th>strictly_increasing_intervals</th><th>normalized_timestamp_increases</th><th>normalized_timestamp_decreases</th></tr><tr><td>u16</td><td>u8</td><td>u8</td><td>u32</td><td>f64</td><td>f64</td><td>f64</td><td>u16</td><td>u8</td><td>f64</td><td>u16</td><td>u16</td><td>u16</td><td>u16</td><td>u16</td><td>u16</td><td>f64</td><td>f64</td></tr></thead><tbody><tr><td>1</td><td>1</td><td>1</td><td>320</td><td>326250.8398</td><td>0.80056</td><td>0.83375</td><td>396</td><td>1</td><td>32026.5088</td><td>1</td><td>0</td><td>0</td><td>0</td><td>0</td><td>0</td><td>null</td><td>0.0</td></tr><tr><td>1</td><td>1</td><td>1</td><td>321</td><td>326351.5703</td><td>0.800524</td><td>0.83375</td><td>396</td><td>1</td><td>32127.2393</td><td>1</td><td>0</td><td>0</td><td>0</td><td>0</td><td>0</td><td>null</td><td>100.7305</td></tr><tr><td>1</td><td>1</td><td>1</td><td>322</td><td>326453.3964</td><td>0.800415</td><td>0.8375</td><td>396</td><td>1</td><td>32229.0654</td><td>1</td><td>0</td><td>0</td><td>0</td><td>0</td><td>0</td><td>null</td><td>202.5566</td></tr><tr><td>1</td><td>1</td><td>1</td><td>323</td><td>326551.3829</td><td>0.800232</td><td>0.83875</td><td>396</td><td>1</td><td>32327.0519</td><td>1</td><td>0</td><td>0</td><td>0</td><td>0</td><td>0</td><td>null</td><td>300.5431</td></tr><tr><td>1</td><td>1</td><td>1</td><td>324</td><td>326651.1161</td><td>0.799977</td><td>0.83875</td><td>396</td><td>1</td><td>32426.7851</td><td>1</td><td>0</td><td>0</td><td>0</td><td>0</td><td>0</td><td>null</td><td>400.2763</td></tr><tr><td>1</td><td>1</td><td>1</td><td>325</td><td>326751.5133</td><td>0.799649</td><td>0.83875</td><td>396</td><td>1</td><td>32527.1823</td><td>1</td><td>0</td><td>0</td><td>0</td><td>0</td><td>0</td><td>null</td><td>500.6735</td></tr><tr><td>&hellip;</td><td>&hellip;</td><td>&hellip;</td><td>&hellip;</td><td>&hellip;</td><td>&hellip;</td><td>&hellip;</td><td>&hellip;</td><td>&hellip;</td><td>&hellip;</td><td>&hellip;</td><td>&hellip;</td><td>&hellip;</td><td>&hellip;</td><td>&hellip;</td><td>&hellip;</td><td>&hellip;</td><td>&hellip;</td></tr><tr><td>332</td><td>12</td><td>28</td><td>21586</td><td>2.7746e6</td><td>0.25889</td><td>0.80625</td><td>133</td><td>1</td><td>177496.8039</td><td>1660</td><td>0</td><td>0</td><td>0</td><td>0</td><td>0</td><td>null</td><td>4403.8851</td></tr><tr><td>332</td><td>12</td><td>28</td><td>21587</td><td>2.7747e6</td><td>0.251239</td><td>0.80625</td><td>133</td><td>1</td><td>177596.5374</td><td>1660</td><td>0</td><td>0</td><td>0</td><td>0</td><td>0</td><td>null</td><td>4503.6186</td></tr><tr><td>332</td><td>12</td><td>28</td><td>21588</td><td>2.7748e6</td><td>0.243786</td><td>0.81375</td><td>133</td><td>1</td><td>177698.2663</td><td>1660</td><td>0</td><td>0</td><td>0</td><td>0</td><td>0</td><td>null</td><td>4605.3475</td></tr><tr><td>332</td><td>12</td><td>28</td><td>21589</td><td>2.7749e6</td><td>0.236547</td><td>0.81875</td><td>133</td><td>1</td><td>177797.9995</td><td>1660</td><td>0</td><td>0</td><td>0</td><td>0</td><td>0</td><td>null</td><td>4705.0807</td></tr><tr><td>332</td><td>12</td><td>28</td><td>21590</td><td>2.7750e6</td><td>0.229537</td><td>0.82375</td><td>133</td><td>1</td><td>177896.7354</td><td>1660</td><td>0</td><td>0</td><td>0</td><td>0</td><td>0</td><td>null</td><td>4803.8166</td></tr><tr><td>332</td><td>12</td><td>28</td><td>21591</td><td>2.7751e6</td><td>0.22277</td><td>0.83375</td><td>133</td><td>1</td><td>177996.4688</td><td>1660</td><td>0</td><td>0</td><td>0</td><td>0</td><td>0</td><td>null</td><td>4903.55</td></tr></tbody></table></div>"
      ],
      "text/plain": [
       "shape: (133_302, 18)\n",
       "┌──────────┬───────────┬───────────┬───────────┬───┬───────────┬───────────┬───────────┬───────────┐\n",
       "│ trial_id ┆ trial_num ┆ participa ┆ rownumber ┆ … ┆ prolonged ┆ strictly_ ┆ normalize ┆ normalize │\n",
       "│ ---      ┆ ber       ┆ nt_id     ┆ ---       ┆   ┆ _minima_i ┆ increasin ┆ d_timesta ┆ d_timesta │\n",
       "│ u16      ┆ ---       ┆ ---       ┆ u32       ┆   ┆ ntervals  ┆ g_interva ┆ mp_increa ┆ mp_decrea │\n",
       "│          ┆ u8        ┆ u8        ┆           ┆   ┆ ---       ┆ ls        ┆ ses       ┆ ses       │\n",
       "│          ┆           ┆           ┆           ┆   ┆ u16       ┆ ---       ┆ ---       ┆ ---       │\n",
       "│          ┆           ┆           ┆           ┆   ┆           ┆ u16       ┆ f64       ┆ f64       │\n",
       "╞══════════╪═══════════╪═══════════╪═══════════╪═══╪═══════════╪═══════════╪═══════════╪═══════════╡\n",
       "│ 1        ┆ 1         ┆ 1         ┆ 320       ┆ … ┆ 0         ┆ 0         ┆ null      ┆ 0.0       │\n",
       "│ 1        ┆ 1         ┆ 1         ┆ 321       ┆ … ┆ 0         ┆ 0         ┆ null      ┆ 100.7305  │\n",
       "│ 1        ┆ 1         ┆ 1         ┆ 322       ┆ … ┆ 0         ┆ 0         ┆ null      ┆ 202.5566  │\n",
       "│ 1        ┆ 1         ┆ 1         ┆ 323       ┆ … ┆ 0         ┆ 0         ┆ null      ┆ 300.5431  │\n",
       "│ 1        ┆ 1         ┆ 1         ┆ 324       ┆ … ┆ 0         ┆ 0         ┆ null      ┆ 400.2763  │\n",
       "│ 1        ┆ 1         ┆ 1         ┆ 325       ┆ … ┆ 0         ┆ 0         ┆ null      ┆ 500.6735  │\n",
       "│ …        ┆ …         ┆ …         ┆ …         ┆ … ┆ …         ┆ …         ┆ …         ┆ …         │\n",
       "│ 332      ┆ 12        ┆ 28        ┆ 21586     ┆ … ┆ 0         ┆ 0         ┆ null      ┆ 4403.8851 │\n",
       "│ 332      ┆ 12        ┆ 28        ┆ 21587     ┆ … ┆ 0         ┆ 0         ┆ null      ┆ 4503.6186 │\n",
       "│ 332      ┆ 12        ┆ 28        ┆ 21588     ┆ … ┆ 0         ┆ 0         ┆ null      ┆ 4605.3475 │\n",
       "│ 332      ┆ 12        ┆ 28        ┆ 21589     ┆ … ┆ 0         ┆ 0         ┆ null      ┆ 4705.0807 │\n",
       "│ 332      ┆ 12        ┆ 28        ┆ 21590     ┆ … ┆ 0         ┆ 0         ┆ null      ┆ 4803.8166 │\n",
       "│ 332      ┆ 12        ┆ 28        ┆ 21591     ┆ … ┆ 0         ┆ 0         ┆ null      ┆ 4903.55   │\n",
       "└──────────┴───────────┴───────────┴───────────┴───┴───────────┴───────────┴───────────┴───────────┘"
      ]
     },
     "execution_count": 5,
     "metadata": {},
     "output_type": "execute_result"
    }
   ],
   "source": [
    "labels = labels.with_columns(\n",
    "    # Add time counter for decreases and strictly increases\n",
    "    (\n",
    "        pl.when(col(\"strictly_increasing_intervals\") != 0)\n",
    "        .then(\n",
    "            col(\"timestamp\")\n",
    "            - col(\"timestamp\").min().over(\"strictly_increasing_intervals\")\n",
    "        )\n",
    "        .otherwise(None)\n",
    "    ).alias(\"normalized_timestamp_increases\"),\n",
    "    (\n",
    "        pl.when(col(\"decreasing_intervals\") != 0)\n",
    "        .then(col(\"timestamp\") - col(\"timestamp\").min().over(\"decreasing_intervals\"))\n",
    "        .otherwise(None)\n",
    "    ).alias(\"normalized_timestamp_decreases\"),\n",
    "    # Only keep the first 5 seconds\n",
    ").filter(\n",
    "    (col(\"normalized_timestamp_increases\") < 5000)\n",
    "    | (col(\"normalized_timestamp_decreases\") < 5000)\n",
    ")\n",
    "labels"
   ]
  },
  {
   "cell_type": "code",
   "execution_count": 6,
   "metadata": {},
   "outputs": [],
   "source": [
    "# Split data into decreasing and increasing intervals to add labels and sample ids\n",
    "decreases = labels.filter(\n",
    "    col(\"normalized_timestamp_decreases\").is_not_null()\n",
    ").with_columns(\n",
    "    pl.lit(1).alias(\"label\").cast(pl.UInt8),\n",
    "    col(\"decreasing_intervals\").alias(\"sample_id\"),\n",
    ")"
   ]
  },
  {
   "cell_type": "code",
   "execution_count": 7,
   "metadata": {},
   "outputs": [],
   "source": [
    "increases = labels.filter(\n",
    "    col(\"normalized_timestamp_increases\").is_not_null()\n",
    ").with_columns(\n",
    "    pl.lit(0).alias(\"label\").cast(pl.UInt8),\n",
    "    (\n",
    "        col(\"strictly_increasing_intervals\")\n",
    "        + (decreases.select(pl.last(\"decreasing_intervals\")))  # continue from decreases\n",
    "    ).alias(\"sample_id\"),\n",
    ")"
   ]
  },
  {
   "cell_type": "code",
   "execution_count": 8,
   "metadata": {},
   "outputs": [],
   "source": [
    "# Join the two tables\n",
    "labels = decreases.vstack(increases).sort(\"sample_id\", \"timestamp\")"
   ]
  },
  {
   "cell_type": "code",
   "execution_count": 9,
   "metadata": {},
   "outputs": [
    {
     "data": {
      "text/plain": [
       "(132800, 132796)"
      ]
     },
     "execution_count": 9,
     "metadata": {},
     "output_type": "execute_result"
    }
   ],
   "source": [
    "# Normalize the data\n",
    "ROWS_PER_SAMPLE = 50\n",
    "\n",
    "labels = (\n",
    "    labels.sort([\"sample_id\"])  # Sort within each group if needed\n",
    "    .group_by(\"sample_id\", maintain_order=True)\n",
    "    .agg(pl.all().head(ROWS_PER_SAMPLE))\n",
    "    .explode(pl.all().exclude(\"sample_id\"))  # Explode the result back into rows\n",
    ")\n",
    "\n",
    "labels.select(pl.last(\"sample_id\")).item() * ROWS_PER_SAMPLE, labels.height"
   ]
  },
  {
   "cell_type": "code",
   "execution_count": 10,
   "metadata": {},
   "outputs": [
    {
     "name": "stdout",
     "output_type": "stream",
     "text": [
      "12:09:42 | \u001b[36mDEBUG   \u001b[0m| root | Normalizing to equal 50 rows per sample was not successful for the following samples: [1310, 2143, 2428, 2641]\n"
     ]
    }
   ],
   "source": [
    "# Sanity check\n",
    "if not labels.height == labels.select(pl.last(\"sample_id\")).item() * ROWS_PER_SAMPLE:\n",
    "    affected_samples = []\n",
    "    for sample_id, group in labels.group_by(\"sample_id\", maintain_order=True):\n",
    "        if group.height < ROWS_PER_SAMPLE or group.height > ROWS_PER_SAMPLE:\n",
    "            affected_samples.append(sample_id[0])  # sample_id is a tuple\n",
    "logging.debug(\n",
    "    f\"Normalizing to equal {ROWS_PER_SAMPLE} rows per sample was not successful for the following samples: {affected_samples}\"\n",
    ")\n",
    "labels = labels.filter(~col(\"sample_id\").is_in(affected_samples))"
   ]
  },
  {
   "cell_type": "code",
   "execution_count": 11,
   "metadata": {},
   "outputs": [
    {
     "data": {
      "text/html": [
       "<div><style>\n",
       ".dataframe > thead > tr,\n",
       ".dataframe > tbody > tr {\n",
       "  text-align: right;\n",
       "  white-space: pre-wrap;\n",
       "}\n",
       "</style>\n",
       "<small>shape: (132_600, 4)</small><table border=\"1\" class=\"dataframe\"><thead><tr><th>sample_id</th><th>participant_id</th><th>rating</th><th>label</th></tr><tr><td>u16</td><td>u8</td><td>f64</td><td>u8</td></tr></thead><tbody><tr><td>1</td><td>1</td><td>0.83375</td><td>1</td></tr><tr><td>1</td><td>1</td><td>0.83375</td><td>1</td></tr><tr><td>1</td><td>1</td><td>0.8375</td><td>1</td></tr><tr><td>1</td><td>1</td><td>0.83875</td><td>1</td></tr><tr><td>1</td><td>1</td><td>0.83875</td><td>1</td></tr><tr><td>1</td><td>1</td><td>0.83875</td><td>1</td></tr><tr><td>&hellip;</td><td>&hellip;</td><td>&hellip;</td><td>&hellip;</td></tr><tr><td>2656</td><td>28</td><td>0.66375</td><td>0</td></tr><tr><td>2656</td><td>28</td><td>0.6675</td><td>0</td></tr><tr><td>2656</td><td>28</td><td>0.6675</td><td>0</td></tr><tr><td>2656</td><td>28</td><td>0.66875</td><td>0</td></tr><tr><td>2656</td><td>28</td><td>0.67</td><td>0</td></tr><tr><td>2656</td><td>28</td><td>0.67</td><td>0</td></tr></tbody></table></div>"
      ],
      "text/plain": [
       "shape: (132_600, 4)\n",
       "┌───────────┬────────────────┬─────────┬───────┐\n",
       "│ sample_id ┆ participant_id ┆ rating  ┆ label │\n",
       "│ ---       ┆ ---            ┆ ---     ┆ ---   │\n",
       "│ u16       ┆ u8             ┆ f64     ┆ u8    │\n",
       "╞═══════════╪════════════════╪═════════╪═══════╡\n",
       "│ 1         ┆ 1              ┆ 0.83375 ┆ 1     │\n",
       "│ 1         ┆ 1              ┆ 0.83375 ┆ 1     │\n",
       "│ 1         ┆ 1              ┆ 0.8375  ┆ 1     │\n",
       "│ 1         ┆ 1              ┆ 0.83875 ┆ 1     │\n",
       "│ 1         ┆ 1              ┆ 0.83875 ┆ 1     │\n",
       "│ 1         ┆ 1              ┆ 0.83875 ┆ 1     │\n",
       "│ …         ┆ …              ┆ …       ┆ …     │\n",
       "│ 2656      ┆ 28             ┆ 0.66375 ┆ 0     │\n",
       "│ 2656      ┆ 28             ┆ 0.6675  ┆ 0     │\n",
       "│ 2656      ┆ 28             ┆ 0.6675  ┆ 0     │\n",
       "│ 2656      ┆ 28             ┆ 0.66875 ┆ 0     │\n",
       "│ 2656      ┆ 28             ┆ 0.67    ┆ 0     │\n",
       "│ 2656      ┆ 28             ┆ 0.67    ┆ 0     │\n",
       "└───────────┴────────────────┴─────────┴───────┘"
      ]
     },
     "execution_count": 11,
     "metadata": {},
     "output_type": "execute_result"
    }
   ],
   "source": [
    "labels = labels.select(\n",
    "    \"sample_id\",\n",
    "    \"participant_id\",\n",
    "    \"rating\",\n",
    "    \"label\",\n",
    ")\n",
    "labels"
   ]
  },
  {
   "cell_type": "code",
   "execution_count": 57,
   "metadata": {},
   "outputs": [],
   "source": [
    "# x has the dimensions (samples, time steps, features)\n",
    "x = labels.group_by(\"sample_id\").agg(\"rating\").get_column(\"rating\").to_numpy()\n",
    "# reshaping the array\n",
    "# NOTE: for univariate data right now, need to be adapted for multivariate\n",
    "x = np.vstack(x)\n",
    "x = np.expand_dims(x, axis=2)\n",
    "y = (\n",
    "    labels.group_by(\"sample_id\")\n",
    "    .agg((col(\"label\").first()))\n",
    "    .get_column(\"label\")\n",
    "    .to_numpy()\n",
    ")\n",
    "groups = (\n",
    "    labels.group_by(\"sample_id\")\n",
    "    .agg((col(\"participant_id\").first()))\n",
    "    .get_column(\"participant_id\")\n",
    "    .to_numpy()\n",
    ")"
   ]
  },
  {
   "cell_type": "code",
   "execution_count": 63,
   "metadata": {},
   "outputs": [],
   "source": [
    "np.save(\"data/x.npy\", x)\n",
    "np.save(\"data/y.npy\", y)\n",
    "np.save(\"data/groups.npy\", groups)"
   ]
  },
  {
   "cell_type": "code",
   "execution_count": null,
   "metadata": {},
   "outputs": [],
   "source": []
  },
  {
   "cell_type": "code",
   "execution_count": null,
   "metadata": {},
   "outputs": [],
   "source": []
  },
  {
   "cell_type": "code",
   "execution_count": 2,
   "metadata": {},
   "outputs": [
    {
     "ename": "NameError",
     "evalue": "name 'train_test_split' is not defined",
     "output_type": "error",
     "traceback": [
      "\u001b[0;31m---------------------------------------------------------------------------\u001b[0m",
      "\u001b[0;31mNameError\u001b[0m                                 Traceback (most recent call last)",
      "Cell \u001b[0;32mIn[2], line 1\u001b[0m\n\u001b[0;32m----> 1\u001b[0m train, test \u001b[38;5;241m=\u001b[39m \u001b[43mtrain_test_split\u001b[49m(labels, test_size\u001b[38;5;241m=\u001b[39m\u001b[38;5;241m0.2\u001b[39m, random_state\u001b[38;5;241m=\u001b[39m\u001b[38;5;241m42\u001b[39m)\n\u001b[1;32m      2\u001b[0m train\n",
      "\u001b[0;31mNameError\u001b[0m: name 'train_test_split' is not defined"
     ]
    }
   ],
   "source": [
    "train, test = train_test_split(labels, test_size=0.2, random_state=42)\n",
    "train"
   ]
  },
  {
   "cell_type": "code",
   "execution_count": null,
   "metadata": {},
   "outputs": [],
   "source": []
  }
 ],
 "metadata": {
  "kernelspec": {
   "display_name": "pain",
   "language": "python",
   "name": "python3"
  },
  "language_info": {
   "codemirror_mode": {
    "name": "ipython",
    "version": 3
   },
   "file_extension": ".py",
   "mimetype": "text/x-python",
   "name": "python",
   "nbconvert_exporter": "python",
   "pygments_lexer": "ipython3",
   "version": "3.12.4"
  }
 },
 "nbformat": 4,
 "nbformat_minor": 2
}
