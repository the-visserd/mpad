{
 "cells": [
  {
   "cell_type": "code",
   "execution_count": 23,
   "metadata": {},
   "outputs": [],
   "source": [
    "%%capture\n",
    "from pathlib import Path\n",
    "\n",
    "if Path.cwd().stem == \"models\":\n",
    "    %cd ../..\n",
    "    %load_ext autoreload\n",
    "    %autoreload 2"
   ]
  },
  {
   "cell_type": "code",
   "execution_count": 24,
   "metadata": {},
   "outputs": [],
   "source": [
    "import logging\n",
    "from datetime import datetime\n",
    "from pathlib import Path\n",
    "\n",
    "import holoviews as hv\n",
    "import hvplot.polars  # noqa\n",
    "import matplotlib.pyplot as plt\n",
    "import numpy as np\n",
    "import optuna\n",
    "import polars as pl\n",
    "import torch\n",
    "import torch.nn as nn\n",
    "import torch.optim as optim\n",
    "from icecream import ic\n",
    "from polars import col\n",
    "from sklearn.model_selection import KFold, train_test_split\n",
    "from torch.utils.data import DataLoader, TensorDataset\n",
    "\n",
    "from src.data.database_manager import DatabaseManager\n",
    "from src.features.utils import to_describe\n",
    "from src.log_config import configure_logging\n",
    "from src.models.utils import StandardScaler3D\n",
    "\n",
    "configure_logging(\n",
    "    stream_level=logging.DEBUG,\n",
    "    ignore_libs=[\"matplotlib\", \"Comm\", \"bokeh\", \"tornado\"],\n",
    ")\n",
    "\n",
    "pl.Config.set_tbl_rows(12)  # for the 12 trials\n",
    "hv.output(widget_location=\"bottom\", size=130)\n",
    "\n",
    "db = DatabaseManager()"
   ]
  },
  {
   "cell_type": "code",
   "execution_count": 25,
   "metadata": {},
   "outputs": [],
   "source": [
    "with db:\n",
    "    labels = db.get_table(\"Labels\")\n",
    "    eda = db.get_table(\"Feature_EDA\")"
   ]
  },
  {
   "cell_type": "code",
   "execution_count": 26,
   "metadata": {},
   "outputs": [
    {
     "data": {
      "application/vnd.jupyter.widget-view+json": {
       "model_id": "79750217b8574a5c84fa50bcd338c93b",
       "version_major": 2,
       "version_minor": 0
      },
      "text/plain": [
       "BokehModel(combine_events=True, render_bundle={'docs_json': {'80d4cc67-1db0-44b0-a9de-bbefc4dfb133': {'version…"
      ]
     },
     "execution_count": 26,
     "metadata": {},
     "output_type": "execute_result"
    }
   ],
   "source": [
    "eda.hvplot(x=\"timestamp\", y=[\"eda_raw\"], groupby=\"trial_id\", width=800, height=400)"
   ]
  },
  {
   "cell_type": "code",
   "execution_count": 27,
   "metadata": {},
   "outputs": [
    {
     "data": {
      "text/html": [
       "<div><style>\n",
       ".dataframe > thead > tr,\n",
       ".dataframe > tbody > tr {\n",
       "  text-align: right;\n",
       "  white-space: pre-wrap;\n",
       "}\n",
       "</style>\n",
       "<small>shape: (133_302, 18)</small><table border=\"1\" class=\"dataframe\"><thead><tr><th>trial_id</th><th>trial_number</th><th>participant_id</th><th>rownumber</th><th>timestamp</th><th>temperature</th><th>rating</th><th>stimulus_seed</th><th>skin_area</th><th>normalized_timestamp</th><th>decreasing_intervals</th><th>major_decreasing_intervals</th><th>increasing_intervals</th><th>plateau_intervals</th><th>prolonged_minima_intervals</th><th>strictly_increasing_intervals</th><th>normalized_timestamp_increases</th><th>normalized_timestamp_decreases</th></tr><tr><td>u16</td><td>u8</td><td>u8</td><td>u32</td><td>f64</td><td>f64</td><td>f64</td><td>u16</td><td>u8</td><td>f64</td><td>u16</td><td>u16</td><td>u16</td><td>u16</td><td>u16</td><td>u16</td><td>f64</td><td>f64</td></tr></thead><tbody><tr><td>1</td><td>1</td><td>1</td><td>320</td><td>326250.8398</td><td>0.80056</td><td>0.83375</td><td>396</td><td>1</td><td>32026.5088</td><td>1</td><td>0</td><td>0</td><td>0</td><td>0</td><td>0</td><td>null</td><td>0.0</td></tr><tr><td>1</td><td>1</td><td>1</td><td>321</td><td>326351.5703</td><td>0.800524</td><td>0.83375</td><td>396</td><td>1</td><td>32127.2393</td><td>1</td><td>0</td><td>0</td><td>0</td><td>0</td><td>0</td><td>null</td><td>100.7305</td></tr><tr><td>1</td><td>1</td><td>1</td><td>322</td><td>326453.3964</td><td>0.800415</td><td>0.8375</td><td>396</td><td>1</td><td>32229.0654</td><td>1</td><td>0</td><td>0</td><td>0</td><td>0</td><td>0</td><td>null</td><td>202.5566</td></tr><tr><td>1</td><td>1</td><td>1</td><td>323</td><td>326551.3829</td><td>0.800232</td><td>0.83875</td><td>396</td><td>1</td><td>32327.0519</td><td>1</td><td>0</td><td>0</td><td>0</td><td>0</td><td>0</td><td>null</td><td>300.5431</td></tr><tr><td>1</td><td>1</td><td>1</td><td>324</td><td>326651.1161</td><td>0.799977</td><td>0.83875</td><td>396</td><td>1</td><td>32426.7851</td><td>1</td><td>0</td><td>0</td><td>0</td><td>0</td><td>0</td><td>null</td><td>400.2763</td></tr><tr><td>1</td><td>1</td><td>1</td><td>325</td><td>326751.5133</td><td>0.799649</td><td>0.83875</td><td>396</td><td>1</td><td>32527.1823</td><td>1</td><td>0</td><td>0</td><td>0</td><td>0</td><td>0</td><td>null</td><td>500.6735</td></tr><tr><td>&hellip;</td><td>&hellip;</td><td>&hellip;</td><td>&hellip;</td><td>&hellip;</td><td>&hellip;</td><td>&hellip;</td><td>&hellip;</td><td>&hellip;</td><td>&hellip;</td><td>&hellip;</td><td>&hellip;</td><td>&hellip;</td><td>&hellip;</td><td>&hellip;</td><td>&hellip;</td><td>&hellip;</td><td>&hellip;</td></tr><tr><td>332</td><td>12</td><td>28</td><td>21586</td><td>2.7746e6</td><td>0.25889</td><td>0.80625</td><td>133</td><td>1</td><td>177496.8039</td><td>1660</td><td>0</td><td>0</td><td>0</td><td>0</td><td>0</td><td>null</td><td>4403.8851</td></tr><tr><td>332</td><td>12</td><td>28</td><td>21587</td><td>2.7747e6</td><td>0.251239</td><td>0.80625</td><td>133</td><td>1</td><td>177596.5374</td><td>1660</td><td>0</td><td>0</td><td>0</td><td>0</td><td>0</td><td>null</td><td>4503.6186</td></tr><tr><td>332</td><td>12</td><td>28</td><td>21588</td><td>2.7748e6</td><td>0.243786</td><td>0.81375</td><td>133</td><td>1</td><td>177698.2663</td><td>1660</td><td>0</td><td>0</td><td>0</td><td>0</td><td>0</td><td>null</td><td>4605.3475</td></tr><tr><td>332</td><td>12</td><td>28</td><td>21589</td><td>2.7749e6</td><td>0.236547</td><td>0.81875</td><td>133</td><td>1</td><td>177797.9995</td><td>1660</td><td>0</td><td>0</td><td>0</td><td>0</td><td>0</td><td>null</td><td>4705.0807</td></tr><tr><td>332</td><td>12</td><td>28</td><td>21590</td><td>2.7750e6</td><td>0.229537</td><td>0.82375</td><td>133</td><td>1</td><td>177896.7354</td><td>1660</td><td>0</td><td>0</td><td>0</td><td>0</td><td>0</td><td>null</td><td>4803.8166</td></tr><tr><td>332</td><td>12</td><td>28</td><td>21591</td><td>2.7751e6</td><td>0.22277</td><td>0.83375</td><td>133</td><td>1</td><td>177996.4688</td><td>1660</td><td>0</td><td>0</td><td>0</td><td>0</td><td>0</td><td>null</td><td>4903.55</td></tr></tbody></table></div>"
      ],
      "text/plain": [
       "shape: (133_302, 18)\n",
       "┌──────────┬───────────┬───────────┬───────────┬───┬───────────┬───────────┬───────────┬───────────┐\n",
       "│ trial_id ┆ trial_num ┆ participa ┆ rownumber ┆ … ┆ prolonged ┆ strictly_ ┆ normalize ┆ normalize │\n",
       "│ ---      ┆ ber       ┆ nt_id     ┆ ---       ┆   ┆ _minima_i ┆ increasin ┆ d_timesta ┆ d_timesta │\n",
       "│ u16      ┆ ---       ┆ ---       ┆ u32       ┆   ┆ ntervals  ┆ g_interva ┆ mp_increa ┆ mp_decrea │\n",
       "│          ┆ u8        ┆ u8        ┆           ┆   ┆ ---       ┆ ls        ┆ ses       ┆ ses       │\n",
       "│          ┆           ┆           ┆           ┆   ┆ u16       ┆ ---       ┆ ---       ┆ ---       │\n",
       "│          ┆           ┆           ┆           ┆   ┆           ┆ u16       ┆ f64       ┆ f64       │\n",
       "╞══════════╪═══════════╪═══════════╪═══════════╪═══╪═══════════╪═══════════╪═══════════╪═══════════╡\n",
       "│ 1        ┆ 1         ┆ 1         ┆ 320       ┆ … ┆ 0         ┆ 0         ┆ null      ┆ 0.0       │\n",
       "│ 1        ┆ 1         ┆ 1         ┆ 321       ┆ … ┆ 0         ┆ 0         ┆ null      ┆ 100.7305  │\n",
       "│ 1        ┆ 1         ┆ 1         ┆ 322       ┆ … ┆ 0         ┆ 0         ┆ null      ┆ 202.5566  │\n",
       "│ 1        ┆ 1         ┆ 1         ┆ 323       ┆ … ┆ 0         ┆ 0         ┆ null      ┆ 300.5431  │\n",
       "│ 1        ┆ 1         ┆ 1         ┆ 324       ┆ … ┆ 0         ┆ 0         ┆ null      ┆ 400.2763  │\n",
       "│ 1        ┆ 1         ┆ 1         ┆ 325       ┆ … ┆ 0         ┆ 0         ┆ null      ┆ 500.6735  │\n",
       "│ …        ┆ …         ┆ …         ┆ …         ┆ … ┆ …         ┆ …         ┆ …         ┆ …         │\n",
       "│ 332      ┆ 12        ┆ 28        ┆ 21586     ┆ … ┆ 0         ┆ 0         ┆ null      ┆ 4403.8851 │\n",
       "│ 332      ┆ 12        ┆ 28        ┆ 21587     ┆ … ┆ 0         ┆ 0         ┆ null      ┆ 4503.6186 │\n",
       "│ 332      ┆ 12        ┆ 28        ┆ 21588     ┆ … ┆ 0         ┆ 0         ┆ null      ┆ 4605.3475 │\n",
       "│ 332      ┆ 12        ┆ 28        ┆ 21589     ┆ … ┆ 0         ┆ 0         ┆ null      ┆ 4705.0807 │\n",
       "│ 332      ┆ 12        ┆ 28        ┆ 21590     ┆ … ┆ 0         ┆ 0         ┆ null      ┆ 4803.8166 │\n",
       "│ 332      ┆ 12        ┆ 28        ┆ 21591     ┆ … ┆ 0         ┆ 0         ┆ null      ┆ 4903.55   │\n",
       "└──────────┴───────────┴───────────┴───────────┴───┴───────────┴───────────┴───────────┴───────────┘"
      ]
     },
     "execution_count": 27,
     "metadata": {},
     "output_type": "execute_result"
    }
   ],
   "source": [
    "labels = labels.with_columns(\n",
    "    # Add time counter for decreases and strictly increases\n",
    "    (\n",
    "        pl.when(col(\"strictly_increasing_intervals\") != 0)\n",
    "        .then(\n",
    "            col(\"timestamp\")\n",
    "            - col(\"timestamp\").min().over(\"strictly_increasing_intervals\")\n",
    "        )\n",
    "        .otherwise(None)\n",
    "    ).alias(\"normalized_timestamp_increases\"),\n",
    "    (\n",
    "        pl.when(col(\"decreasing_intervals\") != 0)\n",
    "        .then(col(\"timestamp\") - col(\"timestamp\").min().over(\"decreasing_intervals\"))\n",
    "        .otherwise(None)\n",
    "    ).alias(\"normalized_timestamp_decreases\"),\n",
    "    # Only keep the first 5 seconds\n",
    ").filter(\n",
    "    (col(\"normalized_timestamp_increases\") < 5000)\n",
    "    | (col(\"normalized_timestamp_decreases\") < 5000)\n",
    ")\n",
    "labels"
   ]
  },
  {
   "cell_type": "code",
   "execution_count": 28,
   "metadata": {},
   "outputs": [],
   "source": [
    "# Split data into decreasing and increasing intervals to add labels and sample ids\n",
    "decreases = labels.filter(\n",
    "    col(\"normalized_timestamp_decreases\").is_not_null()\n",
    ").with_columns(\n",
    "    pl.lit(1).alias(\"label\").cast(pl.UInt8),\n",
    "    col(\"decreasing_intervals\").alias(\"sample_id\"),\n",
    ")"
   ]
  },
  {
   "cell_type": "code",
   "execution_count": 29,
   "metadata": {},
   "outputs": [],
   "source": [
    "increases = labels.filter(\n",
    "    col(\"normalized_timestamp_increases\").is_not_null()\n",
    ").with_columns(\n",
    "    pl.lit(0).alias(\"label\").cast(pl.UInt8),\n",
    "    (\n",
    "        col(\"strictly_increasing_intervals\")\n",
    "        + (decreases.select(pl.last(\"decreasing_intervals\")))  # continue from decreases\n",
    "    ).alias(\"sample_id\"),\n",
    ")"
   ]
  },
  {
   "cell_type": "code",
   "execution_count": 30,
   "metadata": {},
   "outputs": [],
   "source": [
    "# Join the two tables\n",
    "labels = decreases.vstack(increases).sort(\"sample_id\", \"timestamp\")"
   ]
  },
  {
   "cell_type": "code",
   "execution_count": 31,
   "metadata": {},
   "outputs": [
    {
     "data": {
      "text/plain": [
       "(132800, 132796)"
      ]
     },
     "execution_count": 31,
     "metadata": {},
     "output_type": "execute_result"
    }
   ],
   "source": [
    "# Normalize the data\n",
    "ROWS_PER_SAMPLE = 50\n",
    "\n",
    "labels = (\n",
    "    labels.sort([\"sample_id\"])  # Sort within each group if needed\n",
    "    .group_by(\"sample_id\", maintain_order=True)\n",
    "    .agg(pl.all().head(ROWS_PER_SAMPLE))\n",
    "    .explode(pl.all().exclude(\"sample_id\"))  # Explode the result back into rows\n",
    ")\n",
    "\n",
    "labels.select(pl.last(\"sample_id\")).item() * ROWS_PER_SAMPLE, labels.height"
   ]
  },
  {
   "cell_type": "code",
   "execution_count": 32,
   "metadata": {},
   "outputs": [
    {
     "name": "stdout",
     "output_type": "stream",
     "text": [
      "16:23:03 | \u001b[36mDEBUG   \u001b[0m| root | Normalizing to equal 50 rows per sample was not successful for the following samples: [1310, 2143, 2428, 2641]\n"
     ]
    }
   ],
   "source": [
    "# Sanity check\n",
    "if not labels.height == labels.select(pl.last(\"sample_id\")).item() * ROWS_PER_SAMPLE:\n",
    "    affected_samples = []\n",
    "    for sample_id, group in labels.group_by(\"sample_id\", maintain_order=True):\n",
    "        if group.height < ROWS_PER_SAMPLE or group.height > ROWS_PER_SAMPLE:\n",
    "            affected_samples.append(sample_id[0])  # sample_id is a tuple\n",
    "logging.debug(\n",
    "    f\"Normalizing to equal {ROWS_PER_SAMPLE} rows per sample was not successful for the following samples: {affected_samples}\"\n",
    ")\n",
    "labels = labels.filter(~col(\"sample_id\").is_in(affected_samples))"
   ]
  },
  {
   "cell_type": "code",
   "execution_count": 33,
   "metadata": {},
   "outputs": [
    {
     "data": {
      "text/html": [
       "<div><style>\n",
       ".dataframe > thead > tr,\n",
       ".dataframe > tbody > tr {\n",
       "  text-align: right;\n",
       "  white-space: pre-wrap;\n",
       "}\n",
       "</style>\n",
       "<small>shape: (132_600, 4)</small><table border=\"1\" class=\"dataframe\"><thead><tr><th>sample_id</th><th>participant_id</th><th>rating</th><th>label</th></tr><tr><td>u16</td><td>u8</td><td>f64</td><td>u8</td></tr></thead><tbody><tr><td>1</td><td>1</td><td>0.83375</td><td>1</td></tr><tr><td>1</td><td>1</td><td>0.83375</td><td>1</td></tr><tr><td>1</td><td>1</td><td>0.8375</td><td>1</td></tr><tr><td>1</td><td>1</td><td>0.83875</td><td>1</td></tr><tr><td>1</td><td>1</td><td>0.83875</td><td>1</td></tr><tr><td>1</td><td>1</td><td>0.83875</td><td>1</td></tr><tr><td>&hellip;</td><td>&hellip;</td><td>&hellip;</td><td>&hellip;</td></tr><tr><td>2656</td><td>28</td><td>0.66375</td><td>0</td></tr><tr><td>2656</td><td>28</td><td>0.6675</td><td>0</td></tr><tr><td>2656</td><td>28</td><td>0.6675</td><td>0</td></tr><tr><td>2656</td><td>28</td><td>0.66875</td><td>0</td></tr><tr><td>2656</td><td>28</td><td>0.67</td><td>0</td></tr><tr><td>2656</td><td>28</td><td>0.67</td><td>0</td></tr></tbody></table></div>"
      ],
      "text/plain": [
       "shape: (132_600, 4)\n",
       "┌───────────┬────────────────┬─────────┬───────┐\n",
       "│ sample_id ┆ participant_id ┆ rating  ┆ label │\n",
       "│ ---       ┆ ---            ┆ ---     ┆ ---   │\n",
       "│ u16       ┆ u8             ┆ f64     ┆ u8    │\n",
       "╞═══════════╪════════════════╪═════════╪═══════╡\n",
       "│ 1         ┆ 1              ┆ 0.83375 ┆ 1     │\n",
       "│ 1         ┆ 1              ┆ 0.83375 ┆ 1     │\n",
       "│ 1         ┆ 1              ┆ 0.8375  ┆ 1     │\n",
       "│ 1         ┆ 1              ┆ 0.83875 ┆ 1     │\n",
       "│ 1         ┆ 1              ┆ 0.83875 ┆ 1     │\n",
       "│ 1         ┆ 1              ┆ 0.83875 ┆ 1     │\n",
       "│ …         ┆ …              ┆ …       ┆ …     │\n",
       "│ 2656      ┆ 28             ┆ 0.66375 ┆ 0     │\n",
       "│ 2656      ┆ 28             ┆ 0.6675  ┆ 0     │\n",
       "│ 2656      ┆ 28             ┆ 0.6675  ┆ 0     │\n",
       "│ 2656      ┆ 28             ┆ 0.66875 ┆ 0     │\n",
       "│ 2656      ┆ 28             ┆ 0.67    ┆ 0     │\n",
       "│ 2656      ┆ 28             ┆ 0.67    ┆ 0     │\n",
       "└───────────┴────────────────┴─────────┴───────┘"
      ]
     },
     "execution_count": 33,
     "metadata": {},
     "output_type": "execute_result"
    }
   ],
   "source": [
    "labels = labels.select(\n",
    "    \"sample_id\",\n",
    "    \"participant_id\",\n",
    "    \"rating\",\n",
    "    \"label\",\n",
    ")\n",
    "labels"
   ]
  },
  {
   "cell_type": "code",
   "execution_count": 34,
   "metadata": {},
   "outputs": [],
   "source": [
    "# x has the dimensions (samples, time steps, features)\n",
    "X = labels.group_by(\"sample_id\").agg(\"rating\").get_column(\"rating\").to_numpy()\n",
    "# reshaping the array\n",
    "# NOTE: for univariate data right now, need to be adapted for multivariate\n",
    "X = np.vstack(X)\n",
    "X = np.expand_dims(X, axis=2)\n",
    "y = (\n",
    "    labels.group_by(\"sample_id\")\n",
    "    .agg((col(\"label\").first()))\n",
    "    .get_column(\"label\")\n",
    "    .to_numpy()\n",
    ")\n",
    "groups = (\n",
    "    labels.group_by(\"sample_id\")\n",
    "    .agg((col(\"participant_id\").first()))\n",
    "    .get_column(\"participant_id\")\n",
    "    .to_numpy()\n",
    ")"
   ]
  },
  {
   "cell_type": "code",
   "execution_count": 35,
   "metadata": {},
   "outputs": [],
   "source": [
    "# np.save(\"data/x.npy\", x)\n",
    "# np.save(\"data/y.npy\", y)\n",
    "# np.save(\"data/groups.npy\", groups)"
   ]
  },
  {
   "cell_type": "code",
   "execution_count": null,
   "metadata": {},
   "outputs": [],
   "source": []
  },
  {
   "cell_type": "code",
   "execution_count": null,
   "metadata": {},
   "outputs": [],
   "source": []
  },
  {
   "cell_type": "code",
   "execution_count": 36,
   "metadata": {},
   "outputs": [
    {
     "name": "stdout",
     "output_type": "stream",
     "text": [
      "16:23:03 | \u001b[36mDEBUG   \u001b[0m| root | Using device: mps\n"
     ]
    }
   ],
   "source": [
    "device = (\n",
    "    torch.device(\"cuda\")\n",
    "    if torch.cuda.is_available()\n",
    "    else torch.device(\"mps\")\n",
    "    if torch.backends.mps.is_available()\n",
    "    else torch.device(\"cpu\")\n",
    ")\n",
    "logging.debug(f\"Using device: {device}\")\n"
   ]
  },
  {
   "cell_type": "code",
   "execution_count": 37,
   "metadata": {},
   "outputs": [],
   "source": [
    "class MLP(nn.Module):\n",
    "    \"\"\"MLP class for time series classification with 3D input\"\"\"\n",
    "\n",
    "    def __init__(self, input_size, hidden_size):\n",
    "        super(MLP, self).__init__()\n",
    "        self.layer1 = nn.Linear(input_size, hidden_size)\n",
    "        self.layer2 = nn.Linear(hidden_size, 1)\n",
    "        self.relu = nn.ReLU()\n",
    "\n",
    "    def forward(self, x):\n",
    "        x = x.permute(0, 2, 1)  # Permute to Fortran order\n",
    "        x = x.flatten(start_dim=1)  # Flatten to 2D\n",
    "        out = self.layer1(x)\n",
    "        out = self.relu(out)\n",
    "        out = self.layer2(out)\n",
    "        return out  # BCEWithLogitsLoss will apply sigmoid\n"
   ]
  },
  {
   "cell_type": "code",
   "execution_count": 38,
   "metadata": {},
   "outputs": [],
   "source": [
    "lr = 1e-2\n",
    "batch_size = 64\n",
    "epochs = 20\n",
    "model = MLP(\n",
    "    input_size=X.shape[2] * X.shape[1],  # 2D input or something TODO FIXME\n",
    "    hidden_size=1024,\n",
    ").to(device)\n",
    "criterion = nn.BCEWithLogitsLoss()\n",
    "optimizer = optim.Adam(model.parameters(), lr=lr)\n"
   ]
  },
  {
   "cell_type": "code",
   "execution_count": 39,
   "metadata": {},
   "outputs": [
    {
     "name": "stdout",
     "output_type": "stream",
     "text": [
      "16:23:03 | \u001b[36mDEBUG   \u001b[0m| root | Train Data: 1326 samples, Test Data: 1326 samples\n"
     ]
    }
   ],
   "source": [
    "# Split the data into training+validation set and test set\n",
    "X_train, X_test, y_train, y_test = train_test_split(\n",
    "    X, y, test_size=0.5, random_state=42\n",
    ")\n",
    "\n",
    "\n",
    "def create_dataloaders(\n",
    "    X_train,\n",
    "    y_train,\n",
    "    X_test,\n",
    "    y_test,\n",
    "    batch_size,\n",
    "    is_test=True,\n",
    "):\n",
    "    # Sanity check\n",
    "    assert (\n",
    "        len(X_train.shape) == len(X_test.shape) == 3\n",
    "    ), \"X_train and X_test must have 3 dimensions: (samples, timesteps, features)\"\n",
    "\n",
    "    scaler = StandardScaler3D()\n",
    "    X_train = scaler.fit_transform(X_train)\n",
    "    X_test = scaler.transform(X_test)\n",
    "\n",
    "    train_data = TensorDataset(\n",
    "        torch.FloatTensor(X_train),\n",
    "        torch.FloatTensor(y_train).view(-1, 1),\n",
    "    )\n",
    "    test_data = TensorDataset(\n",
    "        torch.FloatTensor(X_test),\n",
    "        torch.FloatTensor(y_test).view(-1, 1),\n",
    "    )\n",
    "\n",
    "    train_loader = DataLoader(dataset=train_data, batch_size=batch_size, shuffle=True)\n",
    "    test_loader = DataLoader(dataset=test_data, batch_size=batch_size)\n",
    "\n",
    "    dataset = \"Test\" if is_test else \"Validation\"\n",
    "    logging.debug(\n",
    "        f\"Train Data: {len(train_data)} samples, {dataset} Data: {len(test_data)} samples\"\n",
    "    )\n",
    "\n",
    "    return train_loader, test_loader\n",
    "\n",
    "\n",
    "train_loader, test_loader = create_dataloaders(\n",
    "    X_train,\n",
    "    y_train,\n",
    "    X_test,\n",
    "    y_test,\n",
    "    batch_size=batch_size,\n",
    ")\n"
   ]
  },
  {
   "cell_type": "code",
   "execution_count": 40,
   "metadata": {},
   "outputs": [],
   "source": [
    "# NOTE: renamed test_loader from val_loader\n",
    "def train_model(\n",
    "    model,\n",
    "    train_loader,\n",
    "    test_loader,\n",
    "    criterion,\n",
    "    optimizer,\n",
    "    epochs,\n",
    "    is_test=True,\n",
    "):\n",
    "    dataset = \"test\" if is_test else \"validation\"\n",
    "    history = {\n",
    "        \"train_accuracy\": [],\n",
    "        \"train_loss\": [],\n",
    "        f\"{dataset}_accuracy\": [],\n",
    "        f\"{dataset}_loss\": [],\n",
    "    }\n",
    "\n",
    "    for epoch in range(epochs):\n",
    "        model.train()\n",
    "        running_loss = 0.0\n",
    "        # for acc metric only\n",
    "        correct = 0\n",
    "        total = 0\n",
    "        for X_batch, y_batch in train_loader:\n",
    "            X_batch, y_batch = X_batch.to(device), y_batch.to(device)\n",
    "            optimizer.zero_grad()\n",
    "            outputs = model(X_batch)\n",
    "            loss = criterion(outputs, y_batch)\n",
    "            loss.backward()\n",
    "            optimizer.step()\n",
    "            running_loss += loss.item() * X_batch.size(0)\n",
    "\n",
    "            # Calculate training accuracy\n",
    "            y_pred_classes = (torch.sigmoid(outputs) >= 0.5).float()\n",
    "            total += y_batch.size(0)\n",
    "            correct += (y_pred_classes == y_batch).sum().item()\n",
    "\n",
    "        epoch_loss = running_loss / len(train_loader.dataset)\n",
    "        epoch_acc = correct / total if total > 0 else 0\n",
    "        test_loss, test_accuracy = evaluate_model(model, test_loader, criterion)\n",
    "\n",
    "        # Store the metrics in the history dictionary\n",
    "        history[\"train_loss\"].append(epoch_loss)\n",
    "        history[\"train_accuracy\"].append(epoch_acc)\n",
    "        history[f\"{dataset}_loss\"].append(test_loss)\n",
    "        history[f\"{dataset}_accuracy\"].append(test_accuracy)\n",
    "\n",
    "        logging.debug(\n",
    "            f\"Training | Epoch {epoch+1}/{epochs}, Loss: {epoch_loss:.4f}, Accuracy: {epoch_acc:.4f}, \"\n",
    "            f\"{dataset.capitalize()} Loss: {test_loss:.4f}, {dataset.capitalize()} Accuracy: {test_accuracy:.4f}\"\n",
    "        )\n",
    "    return history\n",
    "\n",
    "\n",
    "def evaluate_model(\n",
    "    model,\n",
    "    test_loader,\n",
    "    criterion,\n",
    "):\n",
    "    model.eval()\n",
    "    total_loss = 0.0\n",
    "    correct = 0\n",
    "    total = 0\n",
    "    with torch.inference_mode():\n",
    "        for X_batch, y_batch in test_loader:\n",
    "            X_batch, y_batch = X_batch.to(device), y_batch.to(device)\n",
    "            y_pred_logits = model(X_batch)\n",
    "            loss = criterion(y_pred_logits, y_batch)\n",
    "            total_loss += loss.item() * X_batch.size(0)\n",
    "            # Metric here is acc\n",
    "            y_pred_classes = (torch.sigmoid(y_pred_logits) >= 0.5).float()\n",
    "            total += y_batch.size(0)\n",
    "            correct += (y_pred_classes == y_batch).sum().item()\n",
    "\n",
    "    average_loss = total_loss / total if total > 0 else 0\n",
    "    accuracy = correct / total if total > 0 else 0\n",
    "    return average_loss, accuracy\n"
   ]
  },
  {
   "cell_type": "code",
   "execution_count": 41,
   "metadata": {},
   "outputs": [
    {
     "name": "stdout",
     "output_type": "stream",
     "text": [
      "16:23:03 | \u001b[36mDEBUG   \u001b[0m| root | Training | Epoch 1/20, Loss: 0.4115, Accuracy: 0.8612, Test Loss: 0.3986, Test Accuracy: 0.8876\n",
      "16:23:03 | \u001b[36mDEBUG   \u001b[0m| root | Training | Epoch 2/20, Loss: 0.3364, Accuracy: 0.8756, Test Loss: 0.2870, Test Accuracy: 0.8884\n",
      "16:23:04 | \u001b[36mDEBUG   \u001b[0m| root | Training | Epoch 3/20, Loss: 0.2672, Accuracy: 0.8944, Test Loss: 0.2674, Test Accuracy: 0.8914\n",
      "16:23:04 | \u001b[36mDEBUG   \u001b[0m| root | Training | Epoch 4/20, Loss: 0.2622, Accuracy: 0.8982, Test Loss: 0.2670, Test Accuracy: 0.8869\n",
      "16:23:04 | \u001b[36mDEBUG   \u001b[0m| root | Training | Epoch 5/20, Loss: 0.2526, Accuracy: 0.9050, Test Loss: 0.2587, Test Accuracy: 0.8929\n",
      "16:23:04 | \u001b[36mDEBUG   \u001b[0m| root | Training | Epoch 6/20, Loss: 0.2360, Accuracy: 0.9133, Test Loss: 0.2738, Test Accuracy: 0.8944\n",
      "16:23:04 | \u001b[36mDEBUG   \u001b[0m| root | Training | Epoch 7/20, Loss: 0.2535, Accuracy: 0.9118, Test Loss: 0.3276, Test Accuracy: 0.8944\n",
      "16:23:04 | \u001b[36mDEBUG   \u001b[0m| root | Training | Epoch 8/20, Loss: 0.2439, Accuracy: 0.9080, Test Loss: 0.2639, Test Accuracy: 0.8952\n",
      "16:23:04 | \u001b[36mDEBUG   \u001b[0m| root | Training | Epoch 9/20, Loss: 0.2378, Accuracy: 0.9125, Test Loss: 0.2580, Test Accuracy: 0.8944\n",
      "16:23:04 | \u001b[36mDEBUG   \u001b[0m| root | Training | Epoch 10/20, Loss: 0.2454, Accuracy: 0.9125, Test Loss: 0.2747, Test Accuracy: 0.8899\n",
      "16:23:04 | \u001b[36mDEBUG   \u001b[0m| root | Training | Epoch 11/20, Loss: 0.2260, Accuracy: 0.9186, Test Loss: 0.2602, Test Accuracy: 0.8922\n",
      "16:23:04 | \u001b[36mDEBUG   \u001b[0m| root | Training | Epoch 12/20, Loss: 0.2240, Accuracy: 0.9186, Test Loss: 0.2641, Test Accuracy: 0.8906\n",
      "16:23:04 | \u001b[36mDEBUG   \u001b[0m| root | Training | Epoch 13/20, Loss: 0.2457, Accuracy: 0.9155, Test Loss: 0.3638, Test Accuracy: 0.8906\n",
      "16:23:05 | \u001b[36mDEBUG   \u001b[0m| root | Training | Epoch 14/20, Loss: 0.2467, Accuracy: 0.9155, Test Loss: 0.2697, Test Accuracy: 0.8937\n",
      "16:23:05 | \u001b[36mDEBUG   \u001b[0m| root | Training | Epoch 15/20, Loss: 0.2252, Accuracy: 0.9170, Test Loss: 0.2553, Test Accuracy: 0.8929\n",
      "16:23:05 | \u001b[36mDEBUG   \u001b[0m| root | Training | Epoch 16/20, Loss: 0.2229, Accuracy: 0.9170, Test Loss: 0.3074, Test Accuracy: 0.8937\n",
      "16:23:05 | \u001b[36mDEBUG   \u001b[0m| root | Training | Epoch 17/20, Loss: 0.2293, Accuracy: 0.9155, Test Loss: 0.2964, Test Accuracy: 0.8989\n",
      "16:23:05 | \u001b[36mDEBUG   \u001b[0m| root | Training | Epoch 18/20, Loss: 0.2395, Accuracy: 0.9125, Test Loss: 0.2569, Test Accuracy: 0.8944\n",
      "16:23:05 | \u001b[36mDEBUG   \u001b[0m| root | Training | Epoch 19/20, Loss: 0.2511, Accuracy: 0.9103, Test Loss: 0.2866, Test Accuracy: 0.8974\n",
      "16:23:05 | \u001b[36mDEBUG   \u001b[0m| root | Training | Epoch 20/20, Loss: 0.2507, Accuracy: 0.9178, Test Loss: 0.2802, Test Accuracy: 0.8914\n"
     ]
    },
    {
     "data": {
      "image/png": "[encoded data removed]",
      "text/plain": [
       "<Figure size 1500x300 with 2 Axes>"
      ]
     },
     "metadata": {},
     "output_type": "display_data"
    }
   ],
   "source": [
    "history = train_model(\n",
    "    model,\n",
    "    train_loader,\n",
    "    test_loader,\n",
    "    criterion,\n",
    "    optimizer,\n",
    "    epochs=epochs,\n",
    "    is_test=True,\n",
    ")\n",
    "\n",
    "plt.figure(figsize=(15, 3))\n",
    "\n",
    "plt.subplot(1, 3, 1)\n",
    "plt.plot(history[\"train_loss\"], label=\"Training Loss\")\n",
    "plt.plot(history[\"test_loss\"], label=\"Validation Loss\")\n",
    "plt.xlabel(\"Epoch\")\n",
    "plt.ylabel(\"Loss\")\n",
    "plt.legend()\n",
    "\n",
    "plt.subplot(1, 3, 2)\n",
    "plt.plot(history[\"train_accuracy\"], label=\"Training Accuracy\")\n",
    "plt.plot(history[\"test_accuracy\"], label=\"Validation Accuracy\")\n",
    "plt.xlabel(\"Epoch\")\n",
    "plt.ylabel(\"Accuracy\")\n",
    "plt.legend()\n",
    "\n",
    "\n",
    "plt.tight_layout()\n",
    "plt.show()"
   ]
  },
  {
   "cell_type": "code",
   "execution_count": null,
   "metadata": {},
   "outputs": [],
   "source": []
  },
  {
   "cell_type": "code",
   "execution_count": null,
   "metadata": {},
   "outputs": [],
   "source": []
  },
  {
   "cell_type": "code",
   "execution_count": null,
   "metadata": {},
   "outputs": [],
   "source": []
  }
 ],
 "metadata": {
  "kernelspec": {
   "display_name": "pain",
   "language": "python",
   "name": "python3"
  },
  "language_info": {
   "codemirror_mode": {
    "name": "ipython",
    "version": 3
   },
   "file_extension": ".py",
   "mimetype": "text/x-python",
   "name": "python",
   "nbconvert_exporter": "python",
   "pygments_lexer": "ipython3",
   "version": "3.12.4"
  }
 },
 "nbformat": 4,
 "nbformat_minor": 2
}
