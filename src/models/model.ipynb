{
    "cells": [
        {
            "cell_type": "code",
            "execution_count": 9,
            "metadata": {},
            "outputs": [],
            "source": [
                "%%capture\n",
                "from pathlib import Path\n",
                "\n",
                "if Path.cwd().stem == \"models\":\n",
                "    %cd ../..\n",
                "    %load_ext autoreload\n",
                "    %autoreload 2"
            ]
        },
        {
            "cell_type": "code",
            "execution_count": 10,
            "metadata": {},
            "outputs": [
                {
                    "name": "stdout",
                    "output_type": "stream",
                    "text": [
                        "23:16:07 | \u001b[92mINFO    \u001b[0m| root | Using device: mps\n"
                    ]
                }
            ],
            "source": [
                "import logging\n",
                "from pathlib import Path\n",
                "\n",
                "import holoviews as hv\n",
                "import hvplot.polars  # noqa\n",
                "import matplotlib.pyplot as plt\n",
                "import numpy as np\n",
                "import optuna\n",
                "import polars as pl\n",
                "import seaborn as sns\n",
                "import torch\n",
                "import torch.nn as nn\n",
                "import torch.optim as optim\n",
                "from icecream import ic\n",
                "from ipywidgets import interact\n",
                "from polars import col\n",
                "from sklearn.metrics import auc, confusion_matrix, roc_curve\n",
                "from sklearn.model_selection import GroupShuffleSplit\n",
                "from torch.utils.data import DataLoader, TensorDataset\n",
                "\n",
                "from src.data.database_manager import DatabaseManager\n",
                "from src.features.labels import add_labels\n",
                "from src.features.resampling import (\n",
                "    add_normalized_timestamp,\n",
                "    interpolate_and_fill_nulls,\n",
                "    resample_at_10_hz_equidistant,\n",
                ")\n",
                "from src.features.scaling import scale_min_max, scale_robust_standard, scale_standard\n",
                "from src.features.transforming import merge_dfs\n",
                "from src.features.utils import to_describe\n",
                "from src.log_config import configure_logging\n",
                "from src.models.architectures import LongShortTermMemory, MultiLayerPerceptron\n",
                "from src.models.data_loader import create_dataloaders, transform_sample_df_to_arrays\n",
                "from src.models.sample_creation import create_samples, make_sample_set_balanced\n",
                "from src.models.scalers import StandardScaler3D\n",
                "from src.models.utils import get_device\n",
                "\n",
                "configure_logging(\n",
                "    stream_level=logging.DEBUG,\n",
                "    ignore_libs=[\"matplotlib\", \"Comm\", \"bokeh\", \"tornado\"],\n",
                ")\n",
                "\n",
                "pl.Config.set_tbl_rows(12)  # for the 12 trials\n",
                "hv.output(widget_location=\"bottom\", size=130)\n",
                "\n",
                "device = get_device()"
            ]
        },
        {
            "cell_type": "code",
            "execution_count": 11,
            "metadata": {},
            "outputs": [
                {
                    "data": {
                        "text/html": [
                            "<div><style>\n",
                            ".dataframe > thead > tr,\n",
                            ".dataframe > tbody > tr {\n",
                            "  text-align: right;\n",
                            "  white-space: pre-wrap;\n",
                            "}\n",
                            "</style>\n",
                            "<small>shape: (819_455, 33)</small><table border=\"1\" class=\"dataframe\"><thead><tr><th>trial_id</th><th>trial_number</th><th>participant_id</th><th>timestamp</th><th>temperature</th><th>rating</th><th>eda_raw</th><th>eda_tonic</th><th>eda_phasic</th><th>ppg_raw</th><th>ppg_ibi_shimmer</th><th>heartrate</th><th>pupil_l_raw</th><th>pupil_r_raw</th><th>pupil_r</th><th>pupil_l</th><th>pupil_mean</th><th>pupil_mean_tonic</th><th>brow_furrow</th><th>cheek_raise</th><th>mouth_open</th><th>upper_lip_raise</th><th>nose_wrinkle</th><th>normalized_timestamp</th><th>stimulus_seed</th><th>skin_patch</th><th>decreasing_intervals</th><th>major_decreasing_intervals</th><th>increasing_intervals</th><th>strictly_increasing_intervals</th><th>strictly_increasing_intervals_without_plateaus</th><th>plateau_intervals</th><th>prolonged_minima_intervals</th></tr><tr><td>u16</td><td>u8</td><td>u8</td><td>f64</td><td>f64</td><td>f64</td><td>f64</td><td>f64</td><td>f64</td><td>f64</td><td>f64</td><td>f64</td><td>f64</td><td>f64</td><td>f64</td><td>f64</td><td>f64</td><td>f64</td><td>f64</td><td>f64</td><td>f64</td><td>f64</td><td>f64</td><td>f64</td><td>u16</td><td>u8</td><td>u16</td><td>u16</td><td>u16</td><td>u16</td><td>u16</td><td>u16</td><td>u16</td></tr></thead><tbody><tr><td>23</td><td>1</td><td>3</td><td>184809.3687</td><td>0.0</td><td>0.93625</td><td>3.855469</td><td>4.417003</td><td>-0.561535</td><td>1318.503562</td><td>-2.847329</td><td>69.330443</td><td>4.021351</td><td>4.492471</td><td>4.491222</td><td>4.022056</td><td>4.256639</td><td>4.309533</td><td>0.00008</td><td>0.00185</td><td>0.00251</td><td>0.0033</td><td>0.01223</td><td>0.0</td><td>658</td><td>1</td><td>0</td><td>0</td><td>111</td><td>111</td><td>67</td><td>0</td><td>0</td></tr><tr><td>23</td><td>1</td><td>3</td><td>184909.3687</td><td>0.000081</td><td>0.93625</td><td>3.87526</td><td>4.434407</td><td>-0.559147</td><td>1427.801949</td><td>-0.98335</td><td>69.314627</td><td>4.041885</td><td>4.502159</td><td>4.50269</td><td>4.0408</td><td>4.271745</td><td>4.316037</td><td>0.000037</td><td>0.000965</td><td>0.001661</td><td>0.001437</td><td>0.006411</td><td>100.0</td><td>658</td><td>1</td><td>0</td><td>0</td><td>111</td><td>111</td><td>67</td><td>0</td><td>0</td></tr><tr><td>23</td><td>1</td><td>3</td><td>185009.3687</td><td>0.000325</td><td>0.93625</td><td>3.897236</td><td>4.453884</td><td>-0.556648</td><td>1488.690007</td><td>0.783387</td><td>69.24965</td><td>4.059964</td><td>4.527155</td><td>4.527178</td><td>4.061328</td><td>4.294253</td><td>4.322598</td><td>0.000047</td><td>0.000486</td><td>0.001811</td><td>0.000719</td><td>0.006277</td><td>200.0</td><td>658</td><td>1</td><td>0</td><td>0</td><td>111</td><td>111</td><td>67</td><td>0</td><td>0</td></tr><tr><td>23</td><td>1</td><td>3</td><td>185109.3687</td><td>0.000887</td><td>0.93625</td><td>3.916581</td><td>4.472846</td><td>-0.556266</td><td>1459.485729</td><td>-5.07083</td><td>69.105468</td><td>4.087014</td><td>4.564178</td><td>4.563636</td><td>4.085616</td><td>4.324626</td><td>4.328764</td><td>0.00004</td><td>0.000528</td><td>0.000901</td><td>0.002076</td><td>0.006666</td><td>300.0</td><td>658</td><td>1</td><td>0</td><td>0</td><td>111</td><td>111</td><td>67</td><td>0</td><td>0</td></tr><tr><td>23</td><td>1</td><td>3</td><td>185209.3687</td><td>0.001743</td><td>0.93625</td><td>3.940876</td><td>4.489759</td><td>-0.548884</td><td>1433.276657</td><td>3.82947</td><td>68.885211</td><td>4.127938</td><td>4.581748</td><td>4.582575</td><td>4.12897</td><td>4.355773</td><td>4.334565</td><td>0.000049</td><td>0.000496</td><td>0.000628</td><td>0.001315</td><td>0.007096</td><td>400.0</td><td>658</td><td>1</td><td>0</td><td>0</td><td>111</td><td>111</td><td>67</td><td>0</td><td>0</td></tr><tr><td>23</td><td>1</td><td>3</td><td>185309.3687</td><td>0.0029</td><td>0.93625</td><td>3.973437</td><td>4.507247</td><td>-0.53381</td><td>1409.203397</td><td>-5.340423</td><td>68.558235</td><td>4.185911</td><td>4.589515</td><td>4.58934</td><td>4.186352</td><td>4.387846</td><td>4.339762</td><td>0.00001</td><td>0.000251</td><td>0.000542</td><td>0.000527</td><td>0.003068</td><td>500.0</td><td>658</td><td>1</td><td>0</td><td>0</td><td>111</td><td>111</td><td>67</td><td>0</td><td>0</td></tr><tr><td>&hellip;</td><td>&hellip;</td><td>&hellip;</td><td>&hellip;</td><td>&hellip;</td><td>&hellip;</td><td>&hellip;</td><td>&hellip;</td><td>&hellip;</td><td>&hellip;</td><td>&hellip;</td><td>&hellip;</td><td>&hellip;</td><td>&hellip;</td><td>&hellip;</td><td>&hellip;</td><td>&hellip;</td><td>&hellip;</td><td>&hellip;</td><td>&hellip;</td><td>&hellip;</td><td>&hellip;</td><td>&hellip;</td><td>&hellip;</td><td>&hellip;</td><td>&hellip;</td><td>&hellip;</td><td>&hellip;</td><td>&hellip;</td><td>&hellip;</td><td>&hellip;</td><td>&hellip;</td><td>&hellip;</td></tr><tr><td>513</td><td>12</td><td>50</td><td>2.6956e6</td><td>0.031312</td><td>0.0</td><td>26.688608</td><td>26.716225</td><td>0.003169</td><td>1323.813266</td><td>-5.036073</td><td>59.279672</td><td>5.166699</td><td>4.766597</td><td>4.768156</td><td>5.167254</td><td>4.967705</td><td>5.180142</td><td>0.000465</td><td>0.001124</td><td>0.007081</td><td>0.00022</td><td>0.004168</td><td>179500.0</td><td>806</td><td>1</td><td>2562</td><td>1537</td><td>0</td><td>0</td><td>0</td><td>0</td><td>0</td></tr><tr><td>513</td><td>12</td><td>50</td><td>2.6957e6</td><td>0.030874</td><td>0.0</td><td>26.68499</td><td>26.716212</td><td>0.000389</td><td>1244.871959</td><td>44.337204</td><td>58.673362</td><td>5.026438</td><td>4.683481</td><td>4.690238</td><td>5.025632</td><td>4.857935</td><td>5.174284</td><td>0.000698</td><td>0.000846</td><td>0.007044</td><td>0.000348</td><td>0.004289</td><td>179600.0</td><td>806</td><td>1</td><td>2562</td><td>1537</td><td>0</td><td>0</td><td>0</td><td>0</td><td>0</td></tr><tr><td>513</td><td>12</td><td>50</td><td>2.6958e6</td><td>0.030555</td><td>0.0</td><td>26.683944</td><td>26.716204</td><td>0.000132</td><td>1223.099413</td><td>55.805969</td><td>58.073701</td><td>4.929092</td><td>4.633568</td><td>4.655852</td><td>4.930955</td><td>4.793404</td><td>5.169684</td><td>0.001266</td><td>0.000706</td><td>0.011259</td><td>0.000379</td><td>0.006841</td><td>179700.0</td><td>806</td><td>1</td><td>2562</td><td>1537</td><td>0</td><td>0</td><td>0</td><td>0</td><td>0</td></tr><tr><td>513</td><td>12</td><td>50</td><td>2.6959e6</td><td>0.030355</td><td>0.0</td><td>26.67662</td><td>26.716199</td><td>-0.006472</td><td>1209.194684</td><td>3.987454</td><td>57.589289</td><td>4.892469</td><td>4.615016</td><td>4.639233</td><td>4.892883</td><td>4.766058</td><td>5.166363</td><td>0.000538</td><td>0.000713</td><td>0.007119</td><td>0.000194</td><td>0.004404</td><td>179800.0</td><td>806</td><td>1</td><td>2562</td><td>1537</td><td>0</td><td>0</td><td>0</td><td>0</td><td>0</td></tr><tr><td>513</td><td>12</td><td>50</td><td>2.6960e6</td><td>0.030266</td><td>0.0</td><td>26.673635</td><td>26.716196</td><td>-0.008718</td><td>1185.269861</td><td>-8.486648</td><td>57.260022</td><td>4.884521</td><td>4.629964</td><td>4.622166</td><td>4.886672</td><td>4.754419</td><td>5.164178</td><td>0.000372</td><td>0.00049</td><td>0.006667</td><td>0.000138</td><td>0.003204</td><td>179900.0</td><td>806</td><td>1</td><td>2562</td><td>1537</td><td>0</td><td>0</td><td>0</td><td>0</td><td>0</td></tr><tr><td>513</td><td>12</td><td>50</td><td>2.6961e6</td><td>0.030251</td><td>0.0</td><td>26.676667</td><td>26.716195</td><td>-0.005103</td><td>1176.373587</td><td>8.110077</td><td>57.105773</td><td>4.882422</td><td>4.648883</td><td>4.610538</td><td>4.884064</td><td>4.747301</td><td>5.16335</td><td>0.000121</td><td>0.00074</td><td>0.015191</td><td>0.000349</td><td>0.001363</td><td>180000.0</td><td>806</td><td>1</td><td>2562</td><td>1537</td><td>0</td><td>0</td><td>0</td><td>0</td><td>0</td></tr></tbody></table></div>"
                        ],
                        "text/plain": [
                            "shape: (819_455, 33)\n",
                            "┌──────────┬───────────┬───────────┬───────────┬───┬───────────┬───────────┬───────────┬───────────┐\n",
                            "│ trial_id ┆ trial_num ┆ participa ┆ timestamp ┆ … ┆ strictly_ ┆ strictly_ ┆ plateau_i ┆ prolonged │\n",
                            "│ ---      ┆ ber       ┆ nt_id     ┆ ---       ┆   ┆ increasin ┆ increasin ┆ ntervals  ┆ _minima_i │\n",
                            "│ u16      ┆ ---       ┆ ---       ┆ f64       ┆   ┆ g_interva ┆ g_interva ┆ ---       ┆ ntervals  │\n",
                            "│          ┆ u8        ┆ u8        ┆           ┆   ┆ ls        ┆ ls_…      ┆ u16       ┆ ---       │\n",
                            "│          ┆           ┆           ┆           ┆   ┆ ---       ┆ ---       ┆           ┆ u16       │\n",
                            "│          ┆           ┆           ┆           ┆   ┆ u16       ┆ u16       ┆           ┆           │\n",
                            "╞══════════╪═══════════╪═══════════╪═══════════╪═══╪═══════════╪═══════════╪═══════════╪═══════════╡\n",
                            "│ 23       ┆ 1         ┆ 3         ┆ 184809.36 ┆ … ┆ 111       ┆ 67        ┆ 0         ┆ 0         │\n",
                            "│          ┆           ┆           ┆ 87        ┆   ┆           ┆           ┆           ┆           │\n",
                            "│ 23       ┆ 1         ┆ 3         ┆ 184909.36 ┆ … ┆ 111       ┆ 67        ┆ 0         ┆ 0         │\n",
                            "│          ┆           ┆           ┆ 87        ┆   ┆           ┆           ┆           ┆           │\n",
                            "│ 23       ┆ 1         ┆ 3         ┆ 185009.36 ┆ … ┆ 111       ┆ 67        ┆ 0         ┆ 0         │\n",
                            "│          ┆           ┆           ┆ 87        ┆   ┆           ┆           ┆           ┆           │\n",
                            "│ 23       ┆ 1         ┆ 3         ┆ 185109.36 ┆ … ┆ 111       ┆ 67        ┆ 0         ┆ 0         │\n",
                            "│          ┆           ┆           ┆ 87        ┆   ┆           ┆           ┆           ┆           │\n",
                            "│ 23       ┆ 1         ┆ 3         ┆ 185209.36 ┆ … ┆ 111       ┆ 67        ┆ 0         ┆ 0         │\n",
                            "│          ┆           ┆           ┆ 87        ┆   ┆           ┆           ┆           ┆           │\n",
                            "│ 23       ┆ 1         ┆ 3         ┆ 185309.36 ┆ … ┆ 111       ┆ 67        ┆ 0         ┆ 0         │\n",
                            "│          ┆           ┆           ┆ 87        ┆   ┆           ┆           ┆           ┆           │\n",
                            "│ …        ┆ …         ┆ …         ┆ …         ┆ … ┆ …         ┆ …         ┆ …         ┆ …         │\n",
                            "│ 513      ┆ 12        ┆ 50        ┆ 2.6956e6  ┆ … ┆ 0         ┆ 0         ┆ 0         ┆ 0         │\n",
                            "│ 513      ┆ 12        ┆ 50        ┆ 2.6957e6  ┆ … ┆ 0         ┆ 0         ┆ 0         ┆ 0         │\n",
                            "│ 513      ┆ 12        ┆ 50        ┆ 2.6958e6  ┆ … ┆ 0         ┆ 0         ┆ 0         ┆ 0         │\n",
                            "│ 513      ┆ 12        ┆ 50        ┆ 2.6959e6  ┆ … ┆ 0         ┆ 0         ┆ 0         ┆ 0         │\n",
                            "│ 513      ┆ 12        ┆ 50        ┆ 2.6960e6  ┆ … ┆ 0         ┆ 0         ┆ 0         ┆ 0         │\n",
                            "│ 513      ┆ 12        ┆ 50        ┆ 2.6961e6  ┆ … ┆ 0         ┆ 0         ┆ 0         ┆ 0         │\n",
                            "└──────────┴───────────┴───────────┴───────────┴───┴───────────┴───────────┴───────────┴───────────┘"
                        ]
                    },
                    "execution_count": 11,
                    "metadata": {},
                    "output_type": "execute_result"
                }
            ],
            "source": [
                "db = DatabaseManager()\n",
                "\n",
                "with db:\n",
                "    df = db.get_table(\n",
                "        \"Merged_and_Labeled_Data\",\n",
                "        exclude_trials_with_measurement_problems=True,\n",
                "    )\n",
                "df"
            ]
        },
        {
            "cell_type": "code",
            "execution_count": 12,
            "metadata": {},
            "outputs": [
                {
                    "name": "stdout",
                    "output_type": "stream",
                    "text": [
                        "shape: (2, 2)\n",
                        "┌───────┬───────┐\n",
                        "│ label ┆ count │\n",
                        "│ ---   ┆ ---   │\n",
                        "│ u8    ┆ u32   │\n",
                        "╞═══════╪═══════╡\n",
                        "│ 0     ┆ 17901 │\n",
                        "│ 1     ┆ 17901 │\n",
                        "└───────┴───────┘\n"
                    ]
                },
                {
                    "data": {
                        "text/html": [
                            "<div><style>\n",
                            ".dataframe > thead > tr,\n",
                            ".dataframe > tbody > tr {\n",
                            "  text-align: right;\n",
                            "  white-space: pre-wrap;\n",
                            "}\n",
                            "</style>\n",
                            "<small>shape: (35_802, 10)</small><table border=\"1\" class=\"dataframe\"><thead><tr><th>sample_id</th><th>participant_id</th><th>rating</th><th>temperature</th><th>eda_raw</th><th>eda_tonic</th><th>eda_phasic</th><th>pupil_mean</th><th>pupil_mean_tonic</th><th>label</th></tr><tr><td>u16</td><td>u8</td><td>f64</td><td>f64</td><td>f64</td><td>f64</td><td>f64</td><td>f64</td><td>f64</td><td>u8</td></tr></thead><tbody><tr><td>67</td><td>3</td><td>0.455</td><td>0.46397</td><td>6.535266</td><td>6.632551</td><td>-0.097284</td><td>3.611711</td><td>3.65844</td><td>0</td></tr><tr><td>67</td><td>3</td><td>0.455</td><td>0.46397</td><td>6.531334</td><td>6.634214</td><td>-0.10288</td><td>3.572473</td><td>3.655486</td><td>0</td></tr><tr><td>67</td><td>3</td><td>0.455</td><td>0.46397</td><td>6.529842</td><td>6.635822</td><td>-0.105981</td><td>3.544892</td><td>3.653064</td><td>0</td></tr><tr><td>67</td><td>3</td><td>0.455</td><td>0.46397</td><td>6.527551</td><td>6.638158</td><td>-0.110607</td><td>3.532789</td><td>3.651319</td><td>0</td></tr><tr><td>67</td><td>3</td><td>0.442158</td><td>0.46397</td><td>6.529655</td><td>6.640425</td><td>-0.11077</td><td>3.530868</td><td>3.650365</td><td>0</td></tr><tr><td>67</td><td>3</td><td>0.413454</td><td>0.46397</td><td>6.533682</td><td>6.643057</td><td>-0.109375</td><td>3.531112</td><td>3.650288</td><td>0</td></tr><tr><td>&hellip;</td><td>&hellip;</td><td>&hellip;</td><td>&hellip;</td><td>&hellip;</td><td>&hellip;</td><td>&hellip;</td><td>&hellip;</td><td>&hellip;</td><td>&hellip;</td></tr><tr><td>2684</td><td>37</td><td>0.745</td><td>0.31191</td><td>16.635482</td><td>16.600092</td><td>0.03539</td><td>4.676062</td><td>4.610185</td><td>1</td></tr><tr><td>2684</td><td>37</td><td>0.745</td><td>0.322781</td><td>16.636424</td><td>16.596277</td><td>0.040147</td><td>4.671875</td><td>4.60684</td><td>1</td></tr><tr><td>2684</td><td>37</td><td>0.745</td><td>0.333644</td><td>16.641345</td><td>16.592452</td><td>0.048893</td><td>4.654956</td><td>4.603664</td><td>1</td></tr><tr><td>2684</td><td>37</td><td>0.745</td><td>0.34453</td><td>16.643045</td><td>16.588236</td><td>0.054809</td><td>4.644678</td><td>4.600737</td><td>1</td></tr><tr><td>2684</td><td>37</td><td>0.745</td><td>0.355378</td><td>16.640617</td><td>16.584256</td><td>0.056361</td><td>4.657858</td><td>4.598139</td><td>1</td></tr><tr><td>2684</td><td>37</td><td>0.745</td><td>0.366144</td><td>16.641937</td><td>16.580222</td><td>0.061715</td><td>4.611862</td><td>4.595964</td><td>1</td></tr></tbody></table></div>"
                        ],
                        "text/plain": [
                            "shape: (35_802, 10)\n",
                            "┌───────────┬────────────┬──────────┬────────────┬───┬────────────┬────────────┬───────────┬───────┐\n",
                            "│ sample_id ┆ participan ┆ rating   ┆ temperatur ┆ … ┆ eda_phasic ┆ pupil_mean ┆ pupil_mea ┆ label │\n",
                            "│ ---       ┆ t_id       ┆ ---      ┆ e          ┆   ┆ ---        ┆ ---        ┆ n_tonic   ┆ ---   │\n",
                            "│ u16       ┆ ---        ┆ f64      ┆ ---        ┆   ┆ f64        ┆ f64        ┆ ---       ┆ u8    │\n",
                            "│           ┆ u8         ┆          ┆ f64        ┆   ┆            ┆            ┆ f64       ┆       │\n",
                            "╞═══════════╪════════════╪══════════╪════════════╪═══╪════════════╪════════════╪═══════════╪═══════╡\n",
                            "│ 67        ┆ 3          ┆ 0.455    ┆ 0.46397    ┆ … ┆ -0.097284  ┆ 3.611711   ┆ 3.65844   ┆ 0     │\n",
                            "│ 67        ┆ 3          ┆ 0.455    ┆ 0.46397    ┆ … ┆ -0.10288   ┆ 3.572473   ┆ 3.655486  ┆ 0     │\n",
                            "│ 67        ┆ 3          ┆ 0.455    ┆ 0.46397    ┆ … ┆ -0.105981  ┆ 3.544892   ┆ 3.653064  ┆ 0     │\n",
                            "│ 67        ┆ 3          ┆ 0.455    ┆ 0.46397    ┆ … ┆ -0.110607  ┆ 3.532789   ┆ 3.651319  ┆ 0     │\n",
                            "│ 67        ┆ 3          ┆ 0.442158 ┆ 0.46397    ┆ … ┆ -0.11077   ┆ 3.530868   ┆ 3.650365  ┆ 0     │\n",
                            "│ 67        ┆ 3          ┆ 0.413454 ┆ 0.46397    ┆ … ┆ -0.109375  ┆ 3.531112   ┆ 3.650288  ┆ 0     │\n",
                            "│ …         ┆ …          ┆ …        ┆ …          ┆ … ┆ …          ┆ …          ┆ …         ┆ …     │\n",
                            "│ 2684      ┆ 37         ┆ 0.745    ┆ 0.31191    ┆ … ┆ 0.03539    ┆ 4.676062   ┆ 4.610185  ┆ 1     │\n",
                            "│ 2684      ┆ 37         ┆ 0.745    ┆ 0.322781   ┆ … ┆ 0.040147   ┆ 4.671875   ┆ 4.60684   ┆ 1     │\n",
                            "│ 2684      ┆ 37         ┆ 0.745    ┆ 0.333644   ┆ … ┆ 0.048893   ┆ 4.654956   ┆ 4.603664  ┆ 1     │\n",
                            "│ 2684      ┆ 37         ┆ 0.745    ┆ 0.34453    ┆ … ┆ 0.054809   ┆ 4.644678   ┆ 4.600737  ┆ 1     │\n",
                            "│ 2684      ┆ 37         ┆ 0.745    ┆ 0.355378   ┆ … ┆ 0.056361   ┆ 4.657858   ┆ 4.598139  ┆ 1     │\n",
                            "│ 2684      ┆ 37         ┆ 0.745    ┆ 0.366144   ┆ … ┆ 0.061715   ┆ 4.611862   ┆ 4.595964  ┆ 1     │\n",
                            "└───────────┴────────────┴──────────┴────────────┴───┴────────────┴────────────┴───────────┴───────┘"
                        ]
                    },
                    "execution_count": 12,
                    "metadata": {},
                    "output_type": "execute_result"
                }
            ],
            "source": [
                "intervals = {\n",
                "    # \"decreases\": \"decreasing_intervals\",\n",
                "    \"decreases\": \"major_decreasing_intervals\",\n",
                "    \"increases\": \"strictly_increasing_intervals_without_plateaus\",\n",
                "    # \"plateaus\": \"plateau_intervals\",\n",
                "}\n",
                "label_mapping = {\n",
                "    \"decreases\": 0,\n",
                "    \"increases\": 1,\n",
                "    # \"plateaus\": 1,\n",
                "}\n",
                "sample_duration_ms = 5000\n",
                "\n",
                "samples = create_samples(df, intervals, sample_duration_ms, label_mapping)\n",
                "samples = make_sample_set_balanced(\n",
                "    samples\n",
                ")  # TODO: improve balance function, different metric\n",
                "samples = samples.select(\n",
                "    \"sample_id\",\n",
                "    \"participant_id\",\n",
                "    \"rating\",\n",
                "    \"temperature\",\n",
                "    \"eda_raw\",\n",
                "    \"eda_tonic\",\n",
                "    \"eda_phasic\",\n",
                "    \"pupil_mean\",\n",
                "    \"pupil_mean_tonic\",\n",
                "    \"label\",\n",
                ")\n",
                "print(samples[\"label\"].value_counts())\n",
                "samples\n"
            ]
        },
        {
            "cell_type": "code",
            "execution_count": 13,
            "metadata": {},
            "outputs": [
                {
                    "name": "stdout",
                    "output_type": "stream",
                    "text": [
                        "X.shape=(702, 51, 1), y.shape=(702,), groups.shape=(702,)\n"
                    ]
                },
                {
                    "data": {
                        "application/vnd.jupyter.widget-view+json": {
                            "model_id": "4247866a823f4fd8811397e183ebe87e",
                            "version_major": 2,
                            "version_minor": 0
                        },
                        "text/plain": [
                            "interactive(children=(IntSlider(value=350, description='trial', max=701), Output()), _dom_classes=('widget-int…"
                        ]
                    },
                    "metadata": {},
                    "output_type": "display_data"
                }
            ],
            "source": [
                "X, y, groups = transform_sample_df_to_arrays(\n",
                "    samples,\n",
                "    feature_columns=[\n",
                "        # \"temperature\",  # only for visualization\n",
                "        # \"rating\"\n",
                "        # \"eda_raw\",\n",
                "        # \"eda_tonic\",\n",
                "        \"pupil_mean\",\n",
                "    ],\n",
                ")\n",
                "print(f\"{X.shape=}, {y.shape=}, {groups.shape=}\")\n",
                "\n",
                "\n",
                "@interact(trial=(0, X.shape[0] - 1))\n",
                "def plot_trial(trial):\n",
                "    for i in range(X.shape[2]):\n",
                "        plt.plot(X[trial, :, i])\n",
                "    # plt.ylim(0, 1.05)"
            ]
        },
        {
            "cell_type": "code",
            "execution_count": 14,
            "metadata": {},
            "outputs": [
                {
                    "name": "stdout",
                    "output_type": "stream",
                    "text": [
                        "23:16:08 | \u001b[1m\u001b[91m\u001b[4mCRITICAL\u001b[0m| root | Scaling data, check if is this the right way to do it\n"
                    ]
                }
            ],
            "source": [
                "# Create a single train-test split while respecting group structure in the data\n",
                "splitter = GroupShuffleSplit(n_splits=1, test_size=0.5, random_state=42)\n",
                "# might not be exactly 50% due to group structure\n",
                "train_idx, test_idx = next(splitter.split(X, y, groups=groups))\n",
                "assert set(groups[train_idx]).isdisjoint(set(groups[test_idx])), \"Overlap in groups\"\n",
                "X_train, y_train = X[train_idx], y[train_idx]\n",
                "X_test, y_test = X[test_idx], y[test_idx]\n",
                "\n",
                "\n",
                "def scale_dataset(X_train, X_test):\n",
                "    # TODO scaling data fn, group-wise scaling?!\n",
                "    logging.fatal(\"Scaling data, check if is this the right way to do it\")\n",
                "    scaler = StandardScaler3D()\n",
                "    X_train = scaler.fit_transform(X_train)\n",
                "    X_test = scaler.transform(X_test)\n",
                "    return X_train, X_test\n",
                "\n",
                "\n",
                "X_train, X_test = scale_dataset(X_train, X_test)"
            ]
        },
        {
            "cell_type": "code",
            "execution_count": 15,
            "metadata": {},
            "outputs": [
                {
                    "name": "stdout",
                    "output_type": "stream",
                    "text": [
                        "23:16:08 | \u001b[36mDEBUG   \u001b[0m| root | Train Data: 342 samples, Test Data: 360 samples\n"
                    ]
                }
            ],
            "source": [
                "batch_size = 64\n",
                "\n",
                "train_loader, test_loader = create_dataloaders(\n",
                "    X_train,\n",
                "    y_train,\n",
                "    X_test,\n",
                "    y_test,\n",
                "    batch_size=batch_size,\n",
                "    is_test=True,\n",
                ")"
            ]
        },
        {
            "cell_type": "code",
            "execution_count": 16,
            "metadata": {},
            "outputs": [],
            "source": [
                "def train_model(\n",
                "    model: nn.Module,\n",
                "    train_loader: DataLoader,\n",
                "    test_loader: DataLoader,\n",
                "    criterion: nn.modules.loss._Loss,\n",
                "    optimizer: optim.Optimizer,\n",
                "    epochs: int,\n",
                "    is_test: bool = True,\n",
                ") -> dict[str, list[float]]:\n",
                "    dataset = \"test\" if is_test else \"validation\"\n",
                "    history = {\n",
                "        \"train_accuracy\": [],\n",
                "        \"train_loss\": [],\n",
                "        f\"{dataset}_accuracy\": [],\n",
                "        f\"{dataset}_loss\": [],\n",
                "    }\n",
                "\n",
                "    for epoch in range(epochs):\n",
                "        model.train()\n",
                "        running_loss = 0.0\n",
                "        # for acc metric only\n",
                "        correct = 0\n",
                "        total = 0\n",
                "        for X_batch, y_batch in train_loader:\n",
                "            X_batch, y_batch = X_batch.to(device), y_batch.to(device)\n",
                "            optimizer.zero_grad()\n",
                "            outputs = model(X_batch)\n",
                "            loss = criterion(outputs, y_batch)\n",
                "            loss.backward()\n",
                "            optimizer.step()\n",
                "            running_loss += loss.item() * X_batch.size(0)\n",
                "\n",
                "            # Calculate training accuracy\n",
                "            y_pred_classes = (torch.sigmoid(outputs) >= 0.5).float()\n",
                "            total += y_batch.size(0)\n",
                "            correct += (y_pred_classes == y_batch).sum().item()\n",
                "\n",
                "        epoch_loss = running_loss / len(train_loader.dataset)\n",
                "        epoch_acc = correct / total if total > 0 else 0\n",
                "        test_loss, test_accuracy = evaluate_model(model, test_loader, criterion)\n",
                "\n",
                "        # Store the metrics in the history dictionary\n",
                "        history[\"train_loss\"].append(epoch_loss)\n",
                "        history[\"train_accuracy\"].append(epoch_acc)\n",
                "        history[f\"{dataset}_loss\"].append(test_loss)\n",
                "        history[f\"{dataset}_accuracy\"].append(test_accuracy)\n",
                "\n",
                "        # Log progress\n",
                "        max_digits = len(str(epochs))\n",
                "        logging.debug(\n",
                "            f\"E[{+epoch + 1:>{max_digits}d}/{epochs}] \"\n",
                "            f\"| train {epoch_loss:.4f} ({epoch_acc:.1%}) \"\n",
                "            f\"· {dataset} {test_loss:.4f} ({test_accuracy:.1%})\"\n",
                "        )\n",
                "\n",
                "    return history\n",
                "\n",
                "\n",
                "def evaluate_model(\n",
                "    model: nn.Module,\n",
                "    test_loader: DataLoader,\n",
                "    criterion: nn.modules.loss._Loss,\n",
                ") -> tuple[float, float]:\n",
                "    model.eval()\n",
                "    total_loss = 0.0\n",
                "    correct = 0\n",
                "    total = 0\n",
                "    with torch.inference_mode():\n",
                "        for X_batch, y_batch in test_loader:\n",
                "            X_batch, y_batch = X_batch.to(device), y_batch.to(device)\n",
                "            y_pred_logits = model(X_batch)\n",
                "            loss = criterion(y_pred_logits, y_batch)\n",
                "            total_loss += loss.item() * X_batch.size(0)\n",
                "            # Metric here is acc\n",
                "            y_pred_classes = (torch.sigmoid(y_pred_logits) >= 0.5).float()\n",
                "            total += y_batch.size(0)\n",
                "            correct += (y_pred_classes == y_batch).sum().item()\n",
                "\n",
                "    average_loss = total_loss / total if total > 0 else 0\n",
                "    accuracy = correct / total if total > 0 else 0\n",
                "    return average_loss, accuracy\n"
            ]
        },
        {
            "cell_type": "code",
            "execution_count": 17,
            "metadata": {},
            "outputs": [],
            "source": [
                "model = LongShortTermMemory(\n",
                "    input_size=X_train.shape[2], hidden_size=256, num_layers=1\n",
                ").to(device)"
            ]
        },
        {
            "cell_type": "code",
            "execution_count": 18,
            "metadata": {},
            "outputs": [
                {
                    "name": "stdout",
                    "output_type": "stream",
                    "text": [
                        "23:16:12 | \u001b[36mDEBUG   \u001b[0m| root | E[ 1/20] | train 0.6937 (49.1%) · test 0.6929 (50.8%)\n",
                        "23:16:12 | \u001b[36mDEBUG   \u001b[0m| root | E[ 2/20] | train 0.6937 (49.1%) · test 0.6929 (50.8%)\n",
                        "23:16:12 | \u001b[36mDEBUG   \u001b[0m| root | E[ 3/20] | train 0.6937 (49.1%) · test 0.6929 (50.8%)\n",
                        "23:16:12 | \u001b[36mDEBUG   \u001b[0m| root | E[ 4/20] | train 0.6937 (49.1%) · test 0.6929 (50.8%)\n",
                        "23:16:13 | \u001b[36mDEBUG   \u001b[0m| root | E[ 5/20] | train 0.6937 (49.1%) · test 0.6929 (50.8%)\n",
                        "23:16:13 | \u001b[36mDEBUG   \u001b[0m| root | E[ 6/20] | train 0.6937 (49.1%) · test 0.6929 (50.8%)\n",
                        "23:16:13 | \u001b[36mDEBUG   \u001b[0m| root | E[ 7/20] | train 0.6937 (49.1%) · test 0.6929 (50.8%)\n",
                        "23:16:13 | \u001b[36mDEBUG   \u001b[0m| root | E[ 8/20] | train 0.6937 (49.1%) · test 0.6929 (50.8%)\n",
                        "23:16:13 | \u001b[36mDEBUG   \u001b[0m| root | E[ 9/20] | train 0.6937 (49.1%) · test 0.6929 (50.8%)\n",
                        "23:16:13 | \u001b[36mDEBUG   \u001b[0m| root | E[10/20] | train 0.6937 (49.1%) · test 0.6929 (50.8%)\n",
                        "23:16:13 | \u001b[36mDEBUG   \u001b[0m| root | E[11/20] | train 0.6937 (49.1%) · test 0.6929 (50.8%)\n",
                        "23:16:13 | \u001b[36mDEBUG   \u001b[0m| root | E[12/20] | train 0.6937 (49.1%) · test 0.6929 (50.8%)\n",
                        "23:16:14 | \u001b[36mDEBUG   \u001b[0m| root | E[13/20] | train 0.6937 (49.1%) · test 0.6929 (50.8%)\n",
                        "23:16:14 | \u001b[36mDEBUG   \u001b[0m| root | E[14/20] | train 0.6937 (49.1%) · test 0.6929 (50.8%)\n",
                        "23:16:14 | \u001b[36mDEBUG   \u001b[0m| root | E[15/20] | train 0.6937 (49.1%) · test 0.6929 (50.8%)\n",
                        "23:16:14 | \u001b[36mDEBUG   \u001b[0m| root | E[16/20] | train 0.6937 (49.1%) · test 0.6929 (50.8%)\n",
                        "23:16:14 | \u001b[36mDEBUG   \u001b[0m| root | E[17/20] | train 0.6937 (49.1%) · test 0.6929 (50.8%)\n",
                        "23:16:14 | \u001b[36mDEBUG   \u001b[0m| root | E[18/20] | train 0.6937 (49.1%) · test 0.6929 (50.8%)\n",
                        "23:16:14 | \u001b[36mDEBUG   \u001b[0m| root | E[19/20] | train 0.6937 (49.1%) · test 0.6929 (50.8%)\n",
                        "23:16:14 | \u001b[36mDEBUG   \u001b[0m| root | E[20/20] | train 0.6937 (49.1%) · test 0.6929 (50.8%)\n"
                    ]
                }
            ],
            "source": [
                "lr = 1e-3\n",
                "epochs = 20\n",
                "model = MultiLayerPerceptron(\n",
                "    input_size=X.shape[2] * X.shape[1],  # 2D input length\n",
                "    hidden_size=2048,\n",
                ").to(device)\n",
                "criterion = nn.BCEWithLogitsLoss()\n",
                "optimizer = optim.Adam(model.parameters(), lr=lr)\n",
                "\n",
                "\n",
                "history = train_model(\n",
                "    model,\n",
                "    train_loader,\n",
                "    test_loader,\n",
                "    criterion,\n",
                "    optimizer,\n",
                "    epochs=epochs,\n",
                ")"
            ]
        },
        {
            "cell_type": "markdown",
            "metadata": {},
            "source": [
                "18:23:45 | DEBUG   | root | E[20/20] | train 0.6073 (68.1%) · test 0.6094 (67.7%)\n"
            ]
        },
        {
            "cell_type": "code",
            "execution_count": 36,
            "metadata": {},
            "outputs": [
                {
                    "data": {
                        "image/png": "[encoded data removed]",
                        "text/plain": [
                            "<Figure size 1500x300 with 2 Axes>"
                        ]
                    },
                    "metadata": {},
                    "output_type": "display_data"
                }
            ],
            "source": [
                "def plot_single_model_history(history):\n",
                "    plt.figure(figsize=(15, 3))\n",
                "\n",
                "    plt.subplot(1, 3, 1)\n",
                "    plt.plot(history[\"train_loss\"], label=\"Training Loss\")\n",
                "    plt.plot(history[\"test_loss\"], label=\"Test Loss\")\n",
                "    plt.xlabel(\"Epoch\")\n",
                "    plt.ylabel(\"Loss\")\n",
                "    plt.legend()\n",
                "\n",
                "    plt.subplot(1, 3, 2)\n",
                "    plt.plot(history[\"train_accuracy\"], label=\"Training Accuracy\")\n",
                "    plt.plot(history[\"test_accuracy\"], label=\"Test Accuracy\")\n",
                "    plt.xlabel(\"Epoch\")\n",
                "    plt.ylabel(\"Accuracy\")\n",
                "    plt.legend()\n",
                "\n",
                "    plt.tight_layout()\n",
                "    plt.show()\n",
                "\n",
                "\n",
                "plot_single_model_history(history)"
            ]
        },
        {
            "cell_type": "code",
            "execution_count": null,
            "metadata": {},
            "outputs": [
                {
                    "data": {
                        "image/png": "[encoded data removed]",
                        "text/plain": [
                            "<Figure size 800x600 with 2 Axes>"
                        ]
                    },
                    "metadata": {},
                    "output_type": "display_data"
                },
                {
                    "data": {
                        "image/png": "[encoded data removed]",
                        "text/plain": [
                            "<Figure size 800x600 with 1 Axes>"
                        ]
                    },
                    "metadata": {},
                    "output_type": "display_data"
                }
            ],
            "source": [
                "def get_confusion_matrix(\n",
                "    model: nn.Module,\n",
                "    test_loader: DataLoader,\n",
                "    threshold: float = 0.5,\n",
                ") -> np.ndarray:\n",
                "    \"\"\"\n",
                "    Calculate confusion matrix for binary classification.\n",
                "    Returns a 2x2 numpy array where:\n",
                "    [0,0] = TN, [0,1] = FP\n",
                "    [1,0] = FN, [1,1] = TP\n",
                "    \"\"\"\n",
                "    model.eval()\n",
                "    y_true = []\n",
                "    y_pred = []\n",
                "\n",
                "    with torch.inference_mode():\n",
                "        for X_batch, y_batch in test_loader:\n",
                "            X_batch = X_batch.to(device)\n",
                "            outputs = model(X_batch)\n",
                "            y_pred_batch = (torch.sigmoid(outputs) >= threshold).cpu().numpy()\n",
                "            y_true.extend(y_batch.numpy())\n",
                "            y_pred.extend(y_pred_batch)\n",
                "\n",
                "    return confusion_matrix(y_true, y_pred)\n",
                "\n",
                "\n",
                "def plot_confusion_matrix(conf_matrix: np.ndarray) -> None:\n",
                "    plt.figure(figsize=(8, 6))\n",
                "    sns.heatmap(\n",
                "        conf_matrix,\n",
                "        annot=True,\n",
                "        fmt=\"d\",\n",
                "        cmap=\"Blues\",\n",
                "        xticklabels=[\"Negative\", \"Positive\"],\n",
                "        yticklabels=[\"Negative\", \"Positive\"],\n",
                "    )\n",
                "    plt.title(\"Confusion Matrix\")\n",
                "    plt.ylabel(\"True Label\")\n",
                "    plt.xlabel(\"Predicted Label\")\n",
                "    plt.show()\n",
                "\n",
                "\n",
                "def plot_roc_curve(\n",
                "    model: nn.Module,\n",
                "    test_loader: DataLoader,\n",
                ") -> None:\n",
                "    \"\"\"\n",
                "    Plot ROC curve and calculate AUC score for binary classification.\n",
                "    \"\"\"\n",
                "    model.eval()\n",
                "    y_true = []\n",
                "    y_scores = []\n",
                "\n",
                "    with torch.inference_mode():\n",
                "        for X_batch, y_batch in test_loader:\n",
                "            X_batch = X_batch.to(device)\n",
                "            outputs = model(X_batch)\n",
                "            y_scores_batch = torch.sigmoid(outputs).cpu().numpy()\n",
                "            y_true.extend(y_batch.numpy())\n",
                "            y_scores.extend(y_scores_batch)\n",
                "\n",
                "    fpr, tpr, thresholds = roc_curve(y_true, y_scores)\n",
                "    auc_score = auc(fpr, tpr)\n",
                "\n",
                "    # Find optimal threshold\n",
                "    optimal_idx = np.argmax(tpr - fpr)\n",
                "    optimal_threshold = thresholds[optimal_idx]\n",
                "\n",
                "    plt.figure(figsize=(8, 6))\n",
                "    plt.plot(fpr, tpr, label=f\"ROC curve (AUC = {auc_score:.3f})\")\n",
                "    plt.plot([0, 1], [0, 1], \"k--\")  # diagonal line\n",
                "\n",
                "    # Add marker for optimal threshold\n",
                "    plt.plot(\n",
                "        fpr[optimal_idx],\n",
                "        tpr[optimal_idx],\n",
                "        \"ro\",\n",
                "        label=f\"Optimal (threshold={optimal_threshold:.2f})\",\n",
                "    )\n",
                "\n",
                "    plt.xlim([0.0, 1.0])\n",
                "    plt.ylim([0.0, 1.05])\n",
                "    plt.xlabel(\"False Positive Rate\")\n",
                "    plt.ylabel(\"True Positive Rate\")\n",
                "    plt.title(\"Receiver Operating Characteristic (ROC) Curve\")\n",
                "    plt.legend(loc=\"lower right\")\n",
                "    plt.grid(True)\n",
                "    plt.show()\n",
                "\n",
                "\n",
                "conf_matrix = get_confusion_matrix(model, test_loader, threshold=0.5)\n",
                "plot_confusion_matrix(conf_matrix)\n",
                "plot_roc_curve(model, test_loader)"
            ]
        },
        {
            "cell_type": "code",
            "execution_count": null,
            "metadata": {},
            "outputs": [],
            "source": []
        },
        {
            "cell_type": "code",
            "execution_count": null,
            "metadata": {},
            "outputs": [],
            "source": [
                "# from dataclasses import dataclass\n",
                "\n",
                "\n",
                "# @dataclass\n",
                "# class TimesNetConfig:\n",
                "#     task_name: str = \"classification\"\n",
                "#     is_training: int = 1\n",
                "#     model_id: str = \"Heartbeat\"\n",
                "#     model: str = \"TimesNet\"\n",
                "#     data: str = \"UEA\"\n",
                "#     e_layers: int = 3\n",
                "#     batch_size: int = 16\n",
                "#     d_model: int = 16\n",
                "#     d_ff: int = 32\n",
                "#     top_k: int = 1\n",
                "#     des: str = \"Exp\"\n",
                "#     itr: int = 1\n",
                "#     learning_rate: float = 0.001\n",
                "#     train_epochs: int = 30\n",
                "#     patience: int = 10\n",
                "#     seq_len: int = 50\n",
                "#     label_len: int = 1\n",
                "#     pred_len: int = 1\n",
                "#     num_kernels: int = 32\n",
                "#     enc_in: int = 1\n",
                "#     embed: int = 8\n",
                "#     freq: str = \"H\"\n",
                "#     dropout: float = 0.1\n",
                "#     num_class: int = 2\n",
                "\n",
                "#     def to_args_list(self) -> list:\n",
                "#         \"\"\"Convert config to command line arguments list\"\"\"\n",
                "#         args = []\n",
                "#         for key, value in self.__dict__.items():\n",
                "#             args.extend([f\"--{key}\", str(value)])\n",
                "#         return args\n",
                "\n",
                "\n",
                "# # Example usage:\n",
                "# configs = TimesNetConfig()\n",
                "# configs\n",
                "\n",
                "# from time_series_library.models import TimesNet\n",
                "\n",
                "# model = TimesNet.Model(configs)\n"
            ]
        },
        {
            "cell_type": "code",
            "execution_count": null,
            "metadata": {},
            "outputs": [],
            "source": []
        },
        {
            "cell_type": "code",
            "execution_count": null,
            "metadata": {},
            "outputs": [
                {
                    "data": {
                        "text/plain": [
                            "0.6125055041831792"
                        ]
                    },
                    "execution_count": 131,
                    "metadata": {},
                    "output_type": "execute_result"
                }
            ],
            "source": [
                "from sklearn.metrics import accuracy_score\n",
                "from sktime.classification.distance_based import KNeighborsTimeSeriesClassifier\n",
                "from sktime.dists_kernels import FlatDist, ScipyDist\n",
                "\n",
                "eucl_dist = FlatDist(ScipyDist())\n",
                "clf = KNeighborsTimeSeriesClassifier(n_neighbors=3, distance=eucl_dist)\n",
                "clf.fit(X_train, y_train)\n",
                "\n",
                "y_pred = clf.predict(X_test)\n",
                "accuracy_score(y_test, y_pred)"
            ]
        },
        {
            "cell_type": "code",
            "execution_count": null,
            "metadata": {},
            "outputs": [
                {
                    "data": {
                        "text/plain": [
                            "sktime.classification.distance_based._time_series_neighbors.KNeighborsTimeSeriesClassifier"
                        ]
                    },
                    "execution_count": 85,
                    "metadata": {},
                    "output_type": "execute_result"
                }
            ],
            "source": [
                "type(clf)"
            ]
        },
        {
            "cell_type": "code",
            "execution_count": null,
            "metadata": {},
            "outputs": [
                {
                    "data": {
                        "text/plain": [
                            "True"
                        ]
                    },
                    "execution_count": 86,
                    "metadata": {},
                    "output_type": "execute_result"
                }
            ],
            "source": [
                "isinstance(model, torch.nn.Module)"
            ]
        },
        {
            "cell_type": "code",
            "execution_count": null,
            "metadata": {},
            "outputs": [
                {
                    "data": {
                        "text/plain": [
                            "(sktime.classification.distance_based._time_series_neighbors.KNeighborsTimeSeriesClassifier,\n",
                            " sktime.base._panel.knn._BaseKnnTimeSeriesEstimator,\n",
                            " sktime.classification.base.BaseClassifier,\n",
                            " sktime.base._base_panel.BasePanelMixin,\n",
                            " sktime.base._base.BaseEstimator,\n",
                            " sktime.base._base.BaseObject,\n",
                            " sktime.utils._estimator_html_repr._HTMLDocumentationLinkMixin,\n",
                            " skbase.base._base.BaseObject,\n",
                            " skbase.base._tagmanager._FlagManager,\n",
                            " object)"
                        ]
                    },
                    "execution_count": 87,
                    "metadata": {},
                    "output_type": "execute_result"
                }
            ],
            "source": [
                "import sktime\n",
                "\n",
                "sktime.classification.distance_based._time_series_neighbors.KNeighborsTimeSeriesClassifier.__mro__"
            ]
        },
        {
            "cell_type": "code",
            "execution_count": null,
            "metadata": {},
            "outputs": [],
            "source": [
                "from sktime.transformations.panel.rocket import MiniRocketMultivariate\n",
                "\n",
                "minirocket_multi = MiniRocketMultivariate()\n",
                "# minirocket_multi.fit(X_train)\n"
            ]
        },
        {
            "cell_type": "code",
            "execution_count": null,
            "metadata": {},
            "outputs": [
                {
                    "data": {
                        "text/plain": [
                            "(2202, 500, 1)"
                        ]
                    },
                    "execution_count": 89,
                    "metadata": {},
                    "output_type": "execute_result"
                }
            ],
            "source": [
                "X_train.shape"
            ]
        },
        {
            "cell_type": "code",
            "execution_count": null,
            "metadata": {},
            "outputs": [],
            "source": []
        },
        {
            "cell_type": "code",
            "execution_count": 5,
            "metadata": {},
            "outputs": [
                {
                    "data": {
                        "text/plain": [
                            "PosixPath('/Users/visser/Dropbox/PhD/Code/pain-measurement')"
                        ]
                    },
                    "execution_count": 5,
                    "metadata": {},
                    "output_type": "execute_result"
                }
            ],
            "source": [
                "Path.cwd()"
            ]
        },
        {
            "cell_type": "code",
            "execution_count": null,
            "metadata": {},
            "outputs": [
                {
                    "ename": "ModuleNotFoundError",
                    "evalue": "No module named 'inception_time_pytorch'",
                    "output_type": "error",
                    "traceback": [
                        "\u001b[0;31m---------------------------------------------------------------------------\u001b[0m",
                        "\u001b[0;31mModuleNotFoundError\u001b[0m                       Traceback (most recent call last)",
                        "Cell \u001b[0;32mIn[6], line 1\u001b[0m\n\u001b[0;32m----> 1\u001b[0m \u001b[38;5;28;01mfrom\u001b[39;00m \u001b[38;5;21;01msrc\u001b[39;00m\u001b[38;5;21;01m.\u001b[39;00m\u001b[38;5;21;01mmodels\u001b[39;00m\u001b[38;5;21;01m.\u001b[39;00m\u001b[38;5;21;01minception_time_pytorch\u001b[39;00m\u001b[38;5;21;01m.\u001b[39;00m\u001b[38;5;21;01mmodel\u001b[39;00m \u001b[38;5;28;01mimport\u001b[39;00m InceptionTime\n",
                        "File \u001b[0;32m~/Dropbox/PhD/Code/pain-measurement/src/models/inception_time_pytorch/model.py:3\u001b[0m\n\u001b[1;32m      1\u001b[0m \u001b[38;5;28;01mimport\u001b[39;00m \u001b[38;5;21;01mnumpy\u001b[39;00m \u001b[38;5;28;01mas\u001b[39;00m \u001b[38;5;21;01mnp\u001b[39;00m\n\u001b[1;32m      2\u001b[0m \u001b[38;5;28;01mimport\u001b[39;00m \u001b[38;5;21;01mtorch\u001b[39;00m\n\u001b[0;32m----> 3\u001b[0m \u001b[38;5;28;01mfrom\u001b[39;00m \u001b[38;5;21;01minception_time_pytorch\u001b[39;00m\u001b[38;5;21;01m.\u001b[39;00m\u001b[38;5;21;01mmodules\u001b[39;00m \u001b[38;5;28;01mimport\u001b[39;00m InceptionModel\n\u001b[1;32m      4\u001b[0m \u001b[38;5;28;01mfrom\u001b[39;00m \u001b[38;5;21;01msklearn\u001b[39;00m\u001b[38;5;21;01m.\u001b[39;00m\u001b[38;5;21;01mutils\u001b[39;00m\u001b[38;5;21;01m.\u001b[39;00m\u001b[38;5;21;01mclass_weight\u001b[39;00m \u001b[38;5;28;01mimport\u001b[39;00m compute_class_weight\n\u001b[1;32m      7\u001b[0m \u001b[38;5;28;01mclass\u001b[39;00m \u001b[38;5;21;01mInceptionTime\u001b[39;00m:\n",
                        "\u001b[0;31mModuleNotFoundError\u001b[0m: No module named 'inception_time_pytorch'"
                    ]
                }
            ],
            "source": []
        },
        {
            "cell_type": "code",
            "execution_count": 18,
            "metadata": {},
            "outputs": [],
            "source": [
                "from src.models.inception_time_pytorch.plots import plot\n"
            ]
        },
        {
            "cell_type": "code",
            "execution_count": 24,
            "metadata": {},
            "outputs": [
                {
                    "ename": "ModuleNotFoundError",
                    "evalue": "No module named 'inception_time_pytorch'",
                    "output_type": "error",
                    "traceback": [
                        "\u001b[0;31m---------------------------------------------------------------------------\u001b[0m",
                        "\u001b[0;31mModuleNotFoundError\u001b[0m                       Traceback (most recent call last)",
                        "Cell \u001b[0;32mIn[24], line 1\u001b[0m\n\u001b[0;32m----> 1\u001b[0m \u001b[38;5;28;01mimport\u001b[39;00m \u001b[38;5;21;01msrc\u001b[39;00m\u001b[38;5;21;01m.\u001b[39;00m\u001b[38;5;21;01mmodels\u001b[39;00m\u001b[38;5;21;01m.\u001b[39;00m\u001b[38;5;21;01minception_time_pytorch\u001b[39;00m\u001b[38;5;21;01m.\u001b[39;00m\u001b[38;5;21;01mmodel\u001b[39;00m\n",
                        "File \u001b[0;32m~/Dropbox/PhD/Code/pain-measurement/src/models/inception_time_pytorch/model.py:3\u001b[0m\n\u001b[1;32m      1\u001b[0m \u001b[38;5;28;01mimport\u001b[39;00m \u001b[38;5;21;01mnumpy\u001b[39;00m \u001b[38;5;28;01mas\u001b[39;00m \u001b[38;5;21;01mnp\u001b[39;00m\n\u001b[1;32m      2\u001b[0m \u001b[38;5;28;01mimport\u001b[39;00m \u001b[38;5;21;01mtorch\u001b[39;00m\n\u001b[0;32m----> 3\u001b[0m \u001b[38;5;28;01mfrom\u001b[39;00m \u001b[38;5;21;01minception_time_pytorch\u001b[39;00m\u001b[38;5;21;01m.\u001b[39;00m\u001b[38;5;21;01mmodules\u001b[39;00m \u001b[38;5;28;01mimport\u001b[39;00m InceptionModel\n\u001b[1;32m      4\u001b[0m \u001b[38;5;28;01mfrom\u001b[39;00m \u001b[38;5;21;01msklearn\u001b[39;00m\u001b[38;5;21;01m.\u001b[39;00m\u001b[38;5;21;01mutils\u001b[39;00m\u001b[38;5;21;01m.\u001b[39;00m\u001b[38;5;21;01mclass_weight\u001b[39;00m \u001b[38;5;28;01mimport\u001b[39;00m compute_class_weight\n\u001b[1;32m      7\u001b[0m \u001b[38;5;28;01mclass\u001b[39;00m \u001b[38;5;21;01mInceptionTime\u001b[39;00m:\n",
                        "\u001b[0;31mModuleNotFoundError\u001b[0m: No module named 'inception_time_pytorch'"
                    ]
                }
            ],
            "source": [
                "import src.models.inception_time_pytorch.model"
            ]
        },
        {
            "cell_type": "code",
            "execution_count": 29,
            "metadata": {},
            "outputs": [
                {
                    "name": "stdout",
                    "output_type": "stream",
                    "text": [
                        "Training model 1 on cpu.\n",
                        "epoch: 1, loss: 1.121183, accuracy: 0.333333\n",
                        "epoch: 2, loss: 0.534736, accuracy: 1.000000\n",
                        "epoch: 3, loss: 0.184575, accuracy: 1.000000\n",
                        "epoch: 4, loss: 0.080210, accuracy: 1.000000\n",
                        "epoch: 5, loss: 0.046500, accuracy: 1.000000\n",
                        "epoch: 6, loss: 0.031353, accuracy: 1.000000\n",
                        "epoch: 7, loss: 0.022778, accuracy: 1.000000\n",
                        "epoch: 8, loss: 0.017325, accuracy: 1.000000\n",
                        "epoch: 9, loss: 0.013648, accuracy: 1.000000\n",
                        "epoch: 10, loss: 0.011075, accuracy: 1.000000\n",
                        "epoch: 11, loss: 0.009209, accuracy: 1.000000\n",
                        "epoch: 12, loss: 0.007803, accuracy: 1.000000\n",
                        "epoch: 13, loss: 0.006714, accuracy: 1.000000\n",
                        "epoch: 14, loss: 0.005852, accuracy: 1.000000\n",
                        "epoch: 15, loss: 0.005157, accuracy: 1.000000\n",
                        "epoch: 16, loss: 0.004588, accuracy: 1.000000\n",
                        "epoch: 17, loss: 0.004116, accuracy: 1.000000\n",
                        "epoch: 18, loss: 0.003721, accuracy: 1.000000\n",
                        "epoch: 19, loss: 0.003386, accuracy: 1.000000\n",
                        "epoch: 20, loss: 0.003101, accuracy: 1.000000\n",
                        "epoch: 21, loss: 0.002855, accuracy: 1.000000\n",
                        "epoch: 22, loss: 0.002642, accuracy: 1.000000\n",
                        "epoch: 23, loss: 0.002457, accuracy: 1.000000\n",
                        "epoch: 24, loss: 0.002294, accuracy: 1.000000\n",
                        "epoch: 25, loss: 0.002150, accuracy: 1.000000\n",
                        "epoch: 26, loss: 0.002023, accuracy: 1.000000\n",
                        "epoch: 27, loss: 0.001909, accuracy: 1.000000\n",
                        "epoch: 28, loss: 0.001808, accuracy: 1.000000\n",
                        "epoch: 29, loss: 0.001717, accuracy: 1.000000\n",
                        "epoch: 30, loss: 0.001635, accuracy: 1.000000\n",
                        "epoch: 31, loss: 0.001560, accuracy: 1.000000\n",
                        "epoch: 32, loss: 0.001493, accuracy: 1.000000\n",
                        "epoch: 33, loss: 0.001431, accuracy: 1.000000\n",
                        "epoch: 34, loss: 0.001375, accuracy: 1.000000\n",
                        "epoch: 35, loss: 0.001324, accuracy: 1.000000\n",
                        "epoch: 36, loss: 0.001276, accuracy: 1.000000\n",
                        "epoch: 37, loss: 0.001233, accuracy: 1.000000\n",
                        "epoch: 38, loss: 0.001192, accuracy: 1.000000\n",
                        "epoch: 39, loss: 0.001155, accuracy: 1.000000\n",
                        "epoch: 40, loss: 0.001120, accuracy: 1.000000\n",
                        "epoch: 41, loss: 0.001088, accuracy: 1.000000\n",
                        "epoch: 42, loss: 0.001058, accuracy: 1.000000\n",
                        "epoch: 43, loss: 0.001030, accuracy: 1.000000\n",
                        "epoch: 44, loss: 0.001003, accuracy: 1.000000\n",
                        "epoch: 45, loss: 0.000978, accuracy: 1.000000\n",
                        "epoch: 46, loss: 0.000955, accuracy: 1.000000\n",
                        "epoch: 47, loss: 0.000933, accuracy: 1.000000\n",
                        "epoch: 48, loss: 0.000912, accuracy: 1.000000\n",
                        "epoch: 49, loss: 0.000892, accuracy: 1.000000\n",
                        "epoch: 50, loss: 0.000873, accuracy: 1.000000\n",
                        "-----------------------------------------\n",
                        "Training model 2 on cpu.\n",
                        "epoch: 1, loss: 1.098479, accuracy: 0.428571\n",
                        "epoch: 2, loss: 0.573352, accuracy: 1.000000\n",
                        "epoch: 3, loss: 0.233062, accuracy: 1.000000\n",
                        "epoch: 4, loss: 0.103000, accuracy: 1.000000\n",
                        "epoch: 5, loss: 0.057560, accuracy: 1.000000\n",
                        "epoch: 6, loss: 0.037565, accuracy: 1.000000\n",
                        "epoch: 7, loss: 0.026798, accuracy: 1.000000\n",
                        "epoch: 8, loss: 0.020089, accuracy: 1.000000\n",
                        "epoch: 9, loss: 0.015505, accuracy: 1.000000\n",
                        "epoch: 10, loss: 0.012224, accuracy: 1.000000\n",
                        "epoch: 11, loss: 0.009807, accuracy: 1.000000\n",
                        "epoch: 12, loss: 0.007994, accuracy: 1.000000\n",
                        "epoch: 13, loss: 0.006613, accuracy: 1.000000\n",
                        "epoch: 14, loss: 0.005544, accuracy: 1.000000\n",
                        "epoch: 15, loss: 0.004704, accuracy: 1.000000\n",
                        "epoch: 16, loss: 0.004035, accuracy: 1.000000\n",
                        "epoch: 17, loss: 0.003496, accuracy: 1.000000\n",
                        "epoch: 18, loss: 0.003058, accuracy: 1.000000\n",
                        "epoch: 19, loss: 0.002697, accuracy: 1.000000\n",
                        "epoch: 20, loss: 0.002399, accuracy: 1.000000\n",
                        "epoch: 21, loss: 0.002149, accuracy: 1.000000\n",
                        "epoch: 22, loss: 0.001939, accuracy: 1.000000\n",
                        "epoch: 23, loss: 0.001761, accuracy: 1.000000\n",
                        "epoch: 24, loss: 0.001609, accuracy: 1.000000\n",
                        "epoch: 25, loss: 0.001478, accuracy: 1.000000\n",
                        "epoch: 26, loss: 0.001366, accuracy: 1.000000\n",
                        "epoch: 27, loss: 0.001268, accuracy: 1.000000\n",
                        "epoch: 28, loss: 0.001182, accuracy: 1.000000\n",
                        "epoch: 29, loss: 0.001107, accuracy: 1.000000\n",
                        "epoch: 30, loss: 0.001041, accuracy: 1.000000\n",
                        "epoch: 31, loss: 0.000982, accuracy: 1.000000\n",
                        "epoch: 32, loss: 0.000930, accuracy: 1.000000\n",
                        "epoch: 33, loss: 0.000884, accuracy: 1.000000\n",
                        "epoch: 34, loss: 0.000842, accuracy: 1.000000\n",
                        "epoch: 35, loss: 0.000804, accuracy: 1.000000\n",
                        "epoch: 36, loss: 0.000770, accuracy: 1.000000\n",
                        "epoch: 37, loss: 0.000739, accuracy: 1.000000\n",
                        "epoch: 38, loss: 0.000711, accuracy: 1.000000\n",
                        "epoch: 39, loss: 0.000686, accuracy: 1.000000\n",
                        "epoch: 40, loss: 0.000662, accuracy: 1.000000\n",
                        "epoch: 41, loss: 0.000641, accuracy: 1.000000\n",
                        "epoch: 42, loss: 0.000621, accuracy: 1.000000\n",
                        "epoch: 43, loss: 0.000602, accuracy: 1.000000\n",
                        "epoch: 44, loss: 0.000585, accuracy: 1.000000\n",
                        "epoch: 45, loss: 0.000570, accuracy: 1.000000\n",
                        "epoch: 46, loss: 0.000555, accuracy: 1.000000\n",
                        "epoch: 47, loss: 0.000541, accuracy: 1.000000\n",
                        "epoch: 48, loss: 0.000528, accuracy: 1.000000\n",
                        "epoch: 49, loss: 0.000516, accuracy: 1.000000\n",
                        "epoch: 50, loss: 0.000505, accuracy: 1.000000\n",
                        "-----------------------------------------\n",
                        "Training model 3 on cpu.\n",
                        "epoch: 1, loss: 1.234764, accuracy: 0.333333\n",
                        "epoch: 2, loss: 0.711385, accuracy: 0.666667\n",
                        "epoch: 3, loss: 0.356798, accuracy: 1.000000\n",
                        "epoch: 4, loss: 0.183426, accuracy: 1.000000\n",
                        "epoch: 5, loss: 0.091989, accuracy: 1.000000\n",
                        "epoch: 6, loss: 0.054911, accuracy: 1.000000\n",
                        "epoch: 7, loss: 0.038334, accuracy: 1.000000\n",
                        "epoch: 8, loss: 0.028793, accuracy: 1.000000\n",
                        "epoch: 9, loss: 0.022525, accuracy: 1.000000\n",
                        "epoch: 10, loss: 0.018180, accuracy: 1.000000\n",
                        "epoch: 11, loss: 0.015063, accuracy: 1.000000\n",
                        "epoch: 12, loss: 0.012747, accuracy: 1.000000\n",
                        "epoch: 13, loss: 0.010972, accuracy: 1.000000\n",
                        "epoch: 14, loss: 0.009577, accuracy: 1.000000\n",
                        "epoch: 15, loss: 0.008457, accuracy: 1.000000\n",
                        "epoch: 16, loss: 0.007542, accuracy: 1.000000\n",
                        "epoch: 17, loss: 0.006785, accuracy: 1.000000\n",
                        "epoch: 18, loss: 0.006152, accuracy: 1.000000\n",
                        "epoch: 19, loss: 0.005615, accuracy: 1.000000\n",
                        "epoch: 20, loss: 0.005157, accuracy: 1.000000\n",
                        "epoch: 21, loss: 0.004761, accuracy: 1.000000\n",
                        "epoch: 22, loss: 0.004417, accuracy: 1.000000\n",
                        "epoch: 23, loss: 0.004117, accuracy: 1.000000\n",
                        "epoch: 24, loss: 0.003852, accuracy: 1.000000\n",
                        "epoch: 25, loss: 0.003618, accuracy: 1.000000\n",
                        "epoch: 26, loss: 0.003410, accuracy: 1.000000\n",
                        "epoch: 27, loss: 0.003224, accuracy: 1.000000\n",
                        "epoch: 28, loss: 0.003057, accuracy: 1.000000\n",
                        "epoch: 29, loss: 0.002907, accuracy: 1.000000\n",
                        "epoch: 30, loss: 0.002770, accuracy: 1.000000\n",
                        "epoch: 31, loss: 0.002646, accuracy: 1.000000\n",
                        "epoch: 32, loss: 0.002533, accuracy: 1.000000\n",
                        "epoch: 33, loss: 0.002429, accuracy: 1.000000\n",
                        "epoch: 34, loss: 0.002334, accuracy: 1.000000\n",
                        "epoch: 35, loss: 0.002246, accuracy: 1.000000\n",
                        "epoch: 36, loss: 0.002165, accuracy: 1.000000\n",
                        "epoch: 37, loss: 0.002090, accuracy: 1.000000\n",
                        "epoch: 38, loss: 0.002021, accuracy: 1.000000\n",
                        "epoch: 39, loss: 0.001956, accuracy: 1.000000\n",
                        "epoch: 40, loss: 0.001895, accuracy: 1.000000\n",
                        "epoch: 41, loss: 0.001839, accuracy: 1.000000\n",
                        "epoch: 42, loss: 0.001786, accuracy: 1.000000\n",
                        "epoch: 43, loss: 0.001736, accuracy: 1.000000\n",
                        "epoch: 44, loss: 0.001689, accuracy: 1.000000\n",
                        "epoch: 45, loss: 0.001645, accuracy: 1.000000\n",
                        "epoch: 46, loss: 0.001604, accuracy: 1.000000\n",
                        "epoch: 47, loss: 0.001564, accuracy: 1.000000\n",
                        "epoch: 48, loss: 0.001527, accuracy: 1.000000\n",
                        "epoch: 49, loss: 0.001492, accuracy: 1.000000\n",
                        "epoch: 50, loss: 0.001458, accuracy: 1.000000\n",
                        "-----------------------------------------\n",
                        "Training model 4 on cpu.\n",
                        "epoch: 1, loss: 1.103042, accuracy: 0.333333\n",
                        "epoch: 2, loss: 0.485852, accuracy: 1.000000\n",
                        "epoch: 3, loss: 0.128564, accuracy: 1.000000\n",
                        "epoch: 4, loss: 0.054629, accuracy: 1.000000\n",
                        "epoch: 5, loss: 0.031591, accuracy: 1.000000\n",
                        "epoch: 6, loss: 0.021005, accuracy: 1.000000\n",
                        "epoch: 7, loss: 0.015137, accuracy: 1.000000\n",
                        "epoch: 8, loss: 0.011509, accuracy: 1.000000\n",
                        "epoch: 9, loss: 0.009071, accuracy: 1.000000\n",
                        "epoch: 10, loss: 0.007335, accuracy: 1.000000\n",
                        "epoch: 11, loss: 0.006053, accuracy: 1.000000\n",
                        "epoch: 12, loss: 0.005082, accuracy: 1.000000\n",
                        "epoch: 13, loss: 0.004330, accuracy: 1.000000\n",
                        "epoch: 14, loss: 0.003739, accuracy: 1.000000\n",
                        "epoch: 15, loss: 0.003268, accuracy: 1.000000\n",
                        "epoch: 16, loss: 0.002888, accuracy: 1.000000\n",
                        "epoch: 17, loss: 0.002577, accuracy: 1.000000\n",
                        "epoch: 18, loss: 0.002320, accuracy: 1.000000\n",
                        "epoch: 19, loss: 0.002105, accuracy: 1.000000\n",
                        "epoch: 20, loss: 0.001925, accuracy: 1.000000\n",
                        "epoch: 21, loss: 0.001771, accuracy: 1.000000\n",
                        "epoch: 22, loss: 0.001639, accuracy: 1.000000\n",
                        "epoch: 23, loss: 0.001525, accuracy: 1.000000\n",
                        "epoch: 24, loss: 0.001426, accuracy: 1.000000\n",
                        "epoch: 25, loss: 0.001339, accuracy: 1.000000\n",
                        "epoch: 26, loss: 0.001263, accuracy: 1.000000\n",
                        "epoch: 27, loss: 0.001195, accuracy: 1.000000\n",
                        "epoch: 28, loss: 0.001135, accuracy: 1.000000\n",
                        "epoch: 29, loss: 0.001081, accuracy: 1.000000\n",
                        "epoch: 30, loss: 0.001033, accuracy: 1.000000\n",
                        "epoch: 31, loss: 0.000990, accuracy: 1.000000\n",
                        "epoch: 32, loss: 0.000950, accuracy: 1.000000\n",
                        "epoch: 33, loss: 0.000914, accuracy: 1.000000\n",
                        "epoch: 34, loss: 0.000882, accuracy: 1.000000\n",
                        "epoch: 35, loss: 0.000852, accuracy: 1.000000\n",
                        "epoch: 36, loss: 0.000824, accuracy: 1.000000\n",
                        "epoch: 37, loss: 0.000799, accuracy: 1.000000\n",
                        "epoch: 38, loss: 0.000776, accuracy: 1.000000\n",
                        "epoch: 39, loss: 0.000754, accuracy: 1.000000\n",
                        "epoch: 40, loss: 0.000734, accuracy: 1.000000\n",
                        "epoch: 41, loss: 0.000715, accuracy: 1.000000\n",
                        "epoch: 42, loss: 0.000698, accuracy: 1.000000\n",
                        "epoch: 43, loss: 0.000681, accuracy: 1.000000\n",
                        "epoch: 44, loss: 0.000666, accuracy: 1.000000\n",
                        "epoch: 45, loss: 0.000651, accuracy: 1.000000\n",
                        "epoch: 46, loss: 0.000638, accuracy: 1.000000\n",
                        "epoch: 47, loss: 0.000625, accuracy: 1.000000\n",
                        "epoch: 48, loss: 0.000613, accuracy: 1.000000\n",
                        "epoch: 49, loss: 0.000601, accuracy: 1.000000\n",
                        "epoch: 50, loss: 0.000590, accuracy: 1.000000\n",
                        "-----------------------------------------\n",
                        "Training model 5 on cpu.\n",
                        "epoch: 1, loss: 1.145320, accuracy: 0.333333\n",
                        "epoch: 2, loss: 0.584094, accuracy: 0.809524\n",
                        "epoch: 3, loss: 0.279620, accuracy: 1.000000\n",
                        "epoch: 4, loss: 0.133308, accuracy: 1.000000\n",
                        "epoch: 5, loss: 0.070904, accuracy: 1.000000\n",
                        "epoch: 6, loss: 0.045469, accuracy: 1.000000\n",
                        "epoch: 7, loss: 0.032470, accuracy: 1.000000\n",
                        "epoch: 8, loss: 0.024506, accuracy: 1.000000\n",
                        "epoch: 9, loss: 0.019117, accuracy: 1.000000\n",
                        "epoch: 10, loss: 0.015273, accuracy: 1.000000\n",
                        "epoch: 11, loss: 0.012433, accuracy: 1.000000\n",
                        "epoch: 12, loss: 0.010287, accuracy: 1.000000\n",
                        "epoch: 13, loss: 0.008635, accuracy: 1.000000\n",
                        "epoch: 14, loss: 0.007344, accuracy: 1.000000\n",
                        "epoch: 15, loss: 0.006320, accuracy: 1.000000\n",
                        "epoch: 16, loss: 0.005496, accuracy: 1.000000\n",
                        "epoch: 17, loss: 0.004825, accuracy: 1.000000\n",
                        "epoch: 18, loss: 0.004273, accuracy: 1.000000\n",
                        "epoch: 19, loss: 0.003814, accuracy: 1.000000\n",
                        "epoch: 20, loss: 0.003430, accuracy: 1.000000\n",
                        "epoch: 21, loss: 0.003105, accuracy: 1.000000\n",
                        "epoch: 22, loss: 0.002829, accuracy: 1.000000\n",
                        "epoch: 23, loss: 0.002592, accuracy: 1.000000\n",
                        "epoch: 24, loss: 0.002388, accuracy: 1.000000\n",
                        "epoch: 25, loss: 0.002211, accuracy: 1.000000\n",
                        "epoch: 26, loss: 0.002056, accuracy: 1.000000\n",
                        "epoch: 27, loss: 0.001921, accuracy: 1.000000\n",
                        "epoch: 28, loss: 0.001801, accuracy: 1.000000\n",
                        "epoch: 29, loss: 0.001696, accuracy: 1.000000\n",
                        "epoch: 30, loss: 0.001602, accuracy: 1.000000\n",
                        "epoch: 31, loss: 0.001518, accuracy: 1.000000\n",
                        "epoch: 32, loss: 0.001443, accuracy: 1.000000\n",
                        "epoch: 33, loss: 0.001375, accuracy: 1.000000\n",
                        "epoch: 34, loss: 0.001314, accuracy: 1.000000\n",
                        "epoch: 35, loss: 0.001259, accuracy: 1.000000\n",
                        "epoch: 36, loss: 0.001208, accuracy: 1.000000\n",
                        "epoch: 37, loss: 0.001162, accuracy: 1.000000\n",
                        "epoch: 38, loss: 0.001120, accuracy: 1.000000\n",
                        "epoch: 39, loss: 0.001082, accuracy: 1.000000\n",
                        "epoch: 40, loss: 0.001046, accuracy: 1.000000\n",
                        "epoch: 41, loss: 0.001013, accuracy: 1.000000\n",
                        "epoch: 42, loss: 0.000983, accuracy: 1.000000\n",
                        "epoch: 43, loss: 0.000955, accuracy: 1.000000\n",
                        "epoch: 44, loss: 0.000929, accuracy: 1.000000\n",
                        "epoch: 45, loss: 0.000904, accuracy: 1.000000\n",
                        "epoch: 46, loss: 0.000881, accuracy: 1.000000\n",
                        "epoch: 47, loss: 0.000860, accuracy: 1.000000\n",
                        "epoch: 48, loss: 0.000840, accuracy: 1.000000\n",
                        "epoch: 49, loss: 0.000821, accuracy: 1.000000\n",
                        "epoch: 50, loss: 0.000803, accuracy: 1.000000\n",
                        "-----------------------------------------\n",
                        "Training accuracy: 1.000000\n",
                        "Test accuracy: 1.000000\n"
                    ]
                },
                {
                    "ename": "ValueError",
                    "evalue": "\nImage export using the \"kaleido\" engine requires the kaleido package,\nwhich can be installed using pip:\n    $ pip install -U kaleido\n",
                    "output_type": "error",
                    "traceback": [
                        "\u001b[0;31m---------------------------------------------------------------------------\u001b[0m",
                        "\u001b[0;31mValueError\u001b[0m                                Traceback (most recent call last)",
                        "Cell \u001b[0;32mIn[29], line 47\u001b[0m\n\u001b[1;32m     45\u001b[0m \u001b[38;5;66;03m# Plot the results\u001b[39;00m\n\u001b[1;32m     46\u001b[0m fig \u001b[38;5;241m=\u001b[39m plot(x\u001b[38;5;241m=\u001b[39mx_test, y\u001b[38;5;241m=\u001b[39myhat_test)\n\u001b[0;32m---> 47\u001b[0m \u001b[43mfig\u001b[49m\u001b[38;5;241;43m.\u001b[39;49m\u001b[43mwrite_image\u001b[49m\u001b[43m(\u001b[49m\u001b[38;5;124;43m\"\u001b[39;49m\u001b[38;5;124;43mresults.png\u001b[39;49m\u001b[38;5;124;43m\"\u001b[39;49m\u001b[43m,\u001b[49m\u001b[43m \u001b[49m\u001b[43mscale\u001b[49m\u001b[38;5;241;43m=\u001b[39;49m\u001b[38;5;241;43m4\u001b[39;49m\u001b[43m,\u001b[49m\u001b[43m \u001b[49m\u001b[43mheight\u001b[49m\u001b[38;5;241;43m=\u001b[39;49m\u001b[38;5;241;43m900\u001b[39;49m\u001b[43m,\u001b[49m\u001b[43m \u001b[49m\u001b[43mwidth\u001b[49m\u001b[38;5;241;43m=\u001b[39;49m\u001b[38;5;241;43m700\u001b[39;49m\u001b[43m)\u001b[49m\n",
                        "File \u001b[0;32m~/miniforge3/envs/pain/lib/python3.12/site-packages/plotly/basedatatypes.py:3841\u001b[0m, in \u001b[0;36mBaseFigure.write_image\u001b[0;34m(self, *args, **kwargs)\u001b[0m\n\u001b[1;32m   3781\u001b[0m \u001b[38;5;250m\u001b[39m\u001b[38;5;124;03m\"\"\"\u001b[39;00m\n\u001b[1;32m   3782\u001b[0m \u001b[38;5;124;03mConvert a figure to a static image and write it to a file or writeable\u001b[39;00m\n\u001b[1;32m   3783\u001b[0m \u001b[38;5;124;03mobject\u001b[39;00m\n\u001b[0;32m   (...)\u001b[0m\n\u001b[1;32m   3837\u001b[0m \u001b[38;5;124;03mNone\u001b[39;00m\n\u001b[1;32m   3838\u001b[0m \u001b[38;5;124;03m\"\"\"\u001b[39;00m\n\u001b[1;32m   3839\u001b[0m \u001b[38;5;28;01mimport\u001b[39;00m \u001b[38;5;21;01mplotly\u001b[39;00m\u001b[38;5;21;01m.\u001b[39;00m\u001b[38;5;21;01mio\u001b[39;00m \u001b[38;5;28;01mas\u001b[39;00m \u001b[38;5;21;01mpio\u001b[39;00m\n\u001b[0;32m-> 3841\u001b[0m \u001b[38;5;28;01mreturn\u001b[39;00m \u001b[43mpio\u001b[49m\u001b[38;5;241;43m.\u001b[39;49m\u001b[43mwrite_image\u001b[49m\u001b[43m(\u001b[49m\u001b[38;5;28;43mself\u001b[39;49m\u001b[43m,\u001b[49m\u001b[43m \u001b[49m\u001b[38;5;241;43m*\u001b[39;49m\u001b[43margs\u001b[49m\u001b[43m,\u001b[49m\u001b[43m \u001b[49m\u001b[38;5;241;43m*\u001b[39;49m\u001b[38;5;241;43m*\u001b[39;49m\u001b[43mkwargs\u001b[49m\u001b[43m)\u001b[49m\n",
                        "File \u001b[0;32m~/miniforge3/envs/pain/lib/python3.12/site-packages/plotly/io/_kaleido.py:266\u001b[0m, in \u001b[0;36mwrite_image\u001b[0;34m(fig, file, format, scale, width, height, validate, engine)\u001b[0m\n\u001b[1;32m    250\u001b[0m             \u001b[38;5;28;01mraise\u001b[39;00m \u001b[38;5;167;01mValueError\u001b[39;00m(\n\u001b[1;32m    251\u001b[0m \u001b[38;5;250m                \u001b[39m\u001b[38;5;124;03m\"\"\"\u001b[39;00m\n\u001b[1;32m    252\u001b[0m \u001b[38;5;124;03mCannot infer image type from output path '{file}'.\u001b[39;00m\n\u001b[0;32m   (...)\u001b[0m\n\u001b[1;32m    260\u001b[0m                 )\n\u001b[1;32m    261\u001b[0m             )\n\u001b[1;32m    263\u001b[0m     \u001b[38;5;66;03m# Request image\u001b[39;00m\n\u001b[1;32m    264\u001b[0m     \u001b[38;5;66;03m# -------------\u001b[39;00m\n\u001b[1;32m    265\u001b[0m     \u001b[38;5;66;03m# Do this first so we don't create a file if image conversion fails\u001b[39;00m\n\u001b[0;32m--> 266\u001b[0m     img_data \u001b[38;5;241m=\u001b[39m \u001b[43mto_image\u001b[49m\u001b[43m(\u001b[49m\n\u001b[1;32m    267\u001b[0m \u001b[43m        \u001b[49m\u001b[43mfig\u001b[49m\u001b[43m,\u001b[49m\n\u001b[1;32m    268\u001b[0m \u001b[43m        \u001b[49m\u001b[38;5;28;43mformat\u001b[39;49m\u001b[38;5;241;43m=\u001b[39;49m\u001b[38;5;28;43mformat\u001b[39;49m\u001b[43m,\u001b[49m\n\u001b[1;32m    269\u001b[0m \u001b[43m        \u001b[49m\u001b[43mscale\u001b[49m\u001b[38;5;241;43m=\u001b[39;49m\u001b[43mscale\u001b[49m\u001b[43m,\u001b[49m\n\u001b[1;32m    270\u001b[0m \u001b[43m        \u001b[49m\u001b[43mwidth\u001b[49m\u001b[38;5;241;43m=\u001b[39;49m\u001b[43mwidth\u001b[49m\u001b[43m,\u001b[49m\n\u001b[1;32m    271\u001b[0m \u001b[43m        \u001b[49m\u001b[43mheight\u001b[49m\u001b[38;5;241;43m=\u001b[39;49m\u001b[43mheight\u001b[49m\u001b[43m,\u001b[49m\n\u001b[1;32m    272\u001b[0m \u001b[43m        \u001b[49m\u001b[43mvalidate\u001b[49m\u001b[38;5;241;43m=\u001b[39;49m\u001b[43mvalidate\u001b[49m\u001b[43m,\u001b[49m\n\u001b[1;32m    273\u001b[0m \u001b[43m        \u001b[49m\u001b[43mengine\u001b[49m\u001b[38;5;241;43m=\u001b[39;49m\u001b[43mengine\u001b[49m\u001b[43m,\u001b[49m\n\u001b[1;32m    274\u001b[0m \u001b[43m    \u001b[49m\u001b[43m)\u001b[49m\n\u001b[1;32m    276\u001b[0m     \u001b[38;5;66;03m# Open file\u001b[39;00m\n\u001b[1;32m    277\u001b[0m     \u001b[38;5;66;03m# ---------\u001b[39;00m\n\u001b[1;32m    278\u001b[0m     \u001b[38;5;28;01mif\u001b[39;00m path \u001b[38;5;129;01mis\u001b[39;00m \u001b[38;5;28;01mNone\u001b[39;00m:\n\u001b[1;32m    279\u001b[0m         \u001b[38;5;66;03m# We previously failed to make sense of `file` as a pathlib object.\u001b[39;00m\n\u001b[1;32m    280\u001b[0m         \u001b[38;5;66;03m# Attempt to write to `file` as an open file descriptor.\u001b[39;00m\n",
                        "File \u001b[0;32m~/miniforge3/envs/pain/lib/python3.12/site-packages/plotly/io/_kaleido.py:132\u001b[0m, in \u001b[0;36mto_image\u001b[0;34m(fig, format, width, height, scale, validate, engine)\u001b[0m\n\u001b[1;32m    130\u001b[0m     \u001b[38;5;66;03m# Raise informative error message if Kaleido is not installed\u001b[39;00m\n\u001b[1;32m    131\u001b[0m     \u001b[38;5;28;01mif\u001b[39;00m scope \u001b[38;5;129;01mis\u001b[39;00m \u001b[38;5;28;01mNone\u001b[39;00m:\n\u001b[0;32m--> 132\u001b[0m         \u001b[38;5;28;01mraise\u001b[39;00m \u001b[38;5;167;01mValueError\u001b[39;00m(\n\u001b[1;32m    133\u001b[0m \u001b[38;5;250m            \u001b[39m\u001b[38;5;124;03m\"\"\"\u001b[39;00m\n\u001b[1;32m    134\u001b[0m \u001b[38;5;124;03mImage export using the \"kaleido\" engine requires the kaleido package,\u001b[39;00m\n\u001b[1;32m    135\u001b[0m \u001b[38;5;124;03mwhich can be installed using pip:\u001b[39;00m\n\u001b[1;32m    136\u001b[0m \u001b[38;5;124;03m    $ pip install -U kaleido\u001b[39;00m\n\u001b[1;32m    137\u001b[0m \u001b[38;5;124;03m\"\"\"\u001b[39;00m\n\u001b[1;32m    138\u001b[0m         )\n\u001b[1;32m    140\u001b[0m     \u001b[38;5;66;03m# Validate figure\u001b[39;00m\n\u001b[1;32m    141\u001b[0m     \u001b[38;5;66;03m# ---------------\u001b[39;00m\n\u001b[1;32m    142\u001b[0m     fig_dict \u001b[38;5;241m=\u001b[39m validate_coerce_fig_to_dict(fig, validate)\n",
                        "\u001b[0;31mValueError\u001b[0m: \nImage export using the \"kaleido\" engine requires the kaleido package,\nwhich can be installed using pip:\n    $ pip install -U kaleido\n"
                    ]
                }
            ],
            "source": [
                "import numpy as np\n",
                "from sklearn.metrics import accuracy_score\n",
                "from sklearn.model_selection import train_test_split\n",
                "\n",
                "from src.models.inception_time_pytorch.model import InceptionTime\n",
                "\n",
                "# Generate the data\n",
                "N = 60  # number of time series\n",
                "C = 10  # number of dimensions of each time series\n",
                "L = 100  # number of samples of each time series\n",
                "x = np.zeros((N, C, L))\n",
                "t = np.linspace(0, 1, L)\n",
                "c = np.cos(2 * np.pi * (10 * t - 0.5))\n",
                "s = np.sin(2 * np.pi * (20 * t - 0.5))\n",
                "x[: N // 3] = 20 + 20 * c + 5 * np.random.normal(size=(N // 3, C, L))\n",
                "x[N // 3 : 2 * N // 3] = 20 + 20 * s + 5 * np.random.normal(size=(N // 3, C, L))\n",
                "x[2 * N // 3 :] = 20 + 20 * c + 20 * s + 5 * np.random.normal(size=(N // 3, C, L))\n",
                "y = np.concatenate([0 * np.ones(N // 3), 1 * np.ones(N // 3), 2 * np.ones(N // 3)])\n",
                "\n",
                "# Split the data\n",
                "x_train, x_test, y_train, y_test = train_test_split(x, y, stratify=y, test_size=0.3)\n",
                "\n",
                "# Fit the model\n",
                "model = InceptionTime(\n",
                "    x=x_train,\n",
                "    y=y_train,\n",
                "    filters=32,\n",
                "    depth=6,\n",
                "    models=2,\n",
                ")\n",
                "\n",
                "model.fit(\n",
                "    learning_rate=0.001,\n",
                "    batch_size=64,\n",
                "    epochs=50,\n",
                "    verbose=True,\n",
                ")\n",
                "\n",
                "# Evaluate the model\n",
                "yhat_train = model.predict(x_train)\n",
                "yhat_test = model.predict(x_test)\n",
                "print(\"Training accuracy: {:.6f}\".format(accuracy_score(y_train, yhat_train)))\n",
                "print(\"Test accuracy: {:.6f}\".format(accuracy_score(y_test, yhat_test)))\n",
                "\n",
                "# Plot the results\n",
                "fig = plot(x=x_test, y=yhat_test)\n",
                "fig.write_image(\"results.png\", scale=4, height=900, width=700)"
            ]
        }
    ],
    "metadata": {
        "kernelspec": {
            "display_name": "pain",
            "language": "python",
            "name": "python3"
        },
        "language_info": {
            "codemirror_mode": {
                "name": "ipython",
                "version": 3
            },
            "file_extension": ".py",
            "mimetype": "text/x-python",
            "name": "python",
            "nbconvert_exporter": "python",
            "pygments_lexer": "ipython3",
            "version": "3.12.4"
        }
    },
    "nbformat": 4,
    "nbformat_minor": 2
}
