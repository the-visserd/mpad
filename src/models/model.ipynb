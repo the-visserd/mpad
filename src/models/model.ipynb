{
 "cells": [
  {
   "cell_type": "code",
   "execution_count": 1,
   "metadata": {},
   "outputs": [],
   "source": [
    "%%capture\n",
    "from pathlib import Path\n",
    "\n",
    "if Path.cwd().stem == \"models\":\n",
    "    %cd ../..\n",
    "    %load_ext autoreload\n",
    "    %autoreload 2"
   ]
  },
  {
   "cell_type": "code",
   "execution_count": 2,
   "metadata": {},
   "outputs": [
    {
     "data": {
      "application/javascript": "(function(root) {\n  function now() {\n    return new Date();\n  }\n\n  var force = true;\n  var py_version = '3.4.2'.replace('rc', '-rc.').replace('.dev', '-dev.');\n  var reloading = false;\n  var Bokeh = root.Bokeh;\n\n  if (typeof (root._bokeh_timeout) === \"undefined\" || force) {\n    root._bokeh_timeout = Date.now() + 5000;\n    root._bokeh_failed_load = false;\n  }\n\n  function run_callbacks() {\n    try {\n      root._bokeh_onload_callbacks.forEach(function(callback) {\n        if (callback != null)\n          callback();\n      });\n    } finally {\n      delete root._bokeh_onload_callbacks;\n    }\n    console.debug(\"Bokeh: all callbacks have finished\");\n  }\n\n  function load_libs(css_urls, js_urls, js_modules, js_exports, callback) {\n    if (css_urls == null) css_urls = [];\n    if (js_urls == null) js_urls = [];\n    if (js_modules == null) js_modules = [];\n    if (js_exports == null) js_exports = {};\n\n    root._bokeh_onload_callbacks.push(callback);\n\n    if (root._bokeh_is_loading > 0) {\n      console.debug(\"Bokeh: BokehJS is being loaded, scheduling callback at\", now());\n      return null;\n    }\n    if (js_urls.length === 0 && js_modules.length === 0 && Object.keys(js_exports).length === 0) {\n      run_callbacks();\n      return null;\n    }\n    if (!reloading) {\n      console.debug(\"Bokeh: BokehJS not loaded, scheduling load and callback at\", now());\n    }\n\n    function on_load() {\n      root._bokeh_is_loading--;\n      if (root._bokeh_is_loading === 0) {\n        console.debug(\"Bokeh: all BokehJS libraries/stylesheets loaded\");\n        run_callbacks()\n      }\n    }\n    window._bokeh_on_load = on_load\n\n    function on_error() {\n      console.error(\"failed to load \" + url);\n    }\n\n    var skip = [];\n    if (window.requirejs) {\n      window.requirejs.config({'packages': {}, 'paths': {}, 'shim': {}});\n      root._bokeh_is_loading = css_urls.length + 0;\n    } else {\n      root._bokeh_is_loading = css_urls.length + js_urls.length + js_modules.length + Object.keys(js_exports).length;\n    }\n\n    var existing_stylesheets = []\n    var links = document.getElementsByTagName('link')\n    for (var i = 0; i < links.length; i++) {\n      var link = links[i]\n      if (link.href != null) {\n\texisting_stylesheets.push(link.href)\n      }\n    }\n    for (var i = 0; i < css_urls.length; i++) {\n      var url = css_urls[i];\n      if (existing_stylesheets.indexOf(url) !== -1) {\n\ton_load()\n\tcontinue;\n      }\n      const element = document.createElement(\"link\");\n      element.onload = on_load;\n      element.onerror = on_error;\n      element.rel = \"stylesheet\";\n      element.type = \"text/css\";\n      element.href = url;\n      console.debug(\"Bokeh: injecting link tag for BokehJS stylesheet: \", url);\n      document.body.appendChild(element);\n    }    var existing_scripts = []\n    var scripts = document.getElementsByTagName('script')\n    for (var i = 0; i < scripts.length; i++) {\n      var script = scripts[i]\n      if (script.src != null) {\n\texisting_scripts.push(script.src)\n      }\n    }\n    for (var i = 0; i < js_urls.length; i++) {\n      var url = js_urls[i];\n      if (skip.indexOf(url) !== -1 || existing_scripts.indexOf(url) !== -1) {\n\tif (!window.requirejs) {\n\t  on_load();\n\t}\n\tcontinue;\n      }\n      var element = document.createElement('script');\n      element.onload = on_load;\n      element.onerror = on_error;\n      element.async = false;\n      element.src = url;\n      console.debug(\"Bokeh: injecting script tag for BokehJS library: \", url);\n      document.head.appendChild(element);\n    }\n    for (var i = 0; i < js_modules.length; i++) {\n      var url = js_modules[i];\n      if (skip.indexOf(url) !== -1 || existing_scripts.indexOf(url) !== -1) {\n\tif (!window.requirejs) {\n\t  on_load();\n\t}\n\tcontinue;\n      }\n      var element = document.createElement('script');\n      element.onload = on_load;\n      element.onerror = on_error;\n      element.async = false;\n      element.src = url;\n      element.type = \"module\";\n      console.debug(\"Bokeh: injecting script tag for BokehJS library: \", url);\n      document.head.appendChild(element);\n    }\n    for (const name in js_exports) {\n      var url = js_exports[name];\n      if (skip.indexOf(url) >= 0 || root[name] != null) {\n\tif (!window.requirejs) {\n\t  on_load();\n\t}\n\tcontinue;\n      }\n      var element = document.createElement('script');\n      element.onerror = on_error;\n      element.async = false;\n      element.type = \"module\";\n      console.debug(\"Bokeh: injecting script tag for BokehJS library: \", url);\n      element.textContent = `\n      import ${name} from \"${url}\"\n      window.${name} = ${name}\n      window._bokeh_on_load()\n      `\n      document.head.appendChild(element);\n    }\n    if (!js_urls.length && !js_modules.length) {\n      on_load()\n    }\n  };\n\n  function inject_raw_css(css) {\n    const element = document.createElement(\"style\");\n    element.appendChild(document.createTextNode(css));\n    document.body.appendChild(element);\n  }\n\n  var js_urls = [\"https://cdn.bokeh.org/bokeh/release/bokeh-3.4.2.min.js\", \"https://cdn.bokeh.org/bokeh/release/bokeh-gl-3.4.2.min.js\", \"https://cdn.bokeh.org/bokeh/release/bokeh-widgets-3.4.2.min.js\", \"https://cdn.bokeh.org/bokeh/release/bokeh-tables-3.4.2.min.js\", \"https://cdn.holoviz.org/panel/1.4.4/dist/panel.min.js\"];\n  var js_modules = [];\n  var js_exports = {};\n  var css_urls = [];\n  var inline_js = [    function(Bokeh) {\n      Bokeh.set_log_level(\"info\");\n    },\nfunction(Bokeh) {} // ensure no trailing comma for IE\n  ];\n\n  function run_inline_js() {\n    if ((root.Bokeh !== undefined) || (force === true)) {\n      for (var i = 0; i < inline_js.length; i++) {\n\ttry {\n          inline_js[i].call(root, root.Bokeh);\n\t} catch(e) {\n\t  if (!reloading) {\n\t    throw e;\n\t  }\n\t}\n      }\n      // Cache old bokeh versions\n      if (Bokeh != undefined && !reloading) {\n\tvar NewBokeh = root.Bokeh;\n\tif (Bokeh.versions === undefined) {\n\t  Bokeh.versions = new Map();\n\t}\n\tif (NewBokeh.version !== Bokeh.version) {\n\t  Bokeh.versions.set(NewBokeh.version, NewBokeh)\n\t}\n\troot.Bokeh = Bokeh;\n      }} else if (Date.now() < root._bokeh_timeout) {\n      setTimeout(run_inline_js, 100);\n    } else if (!root._bokeh_failed_load) {\n      console.log(\"Bokeh: BokehJS failed to load within specified timeout.\");\n      root._bokeh_failed_load = true;\n    }\n    root._bokeh_is_initializing = false\n  }\n\n  function load_or_wait() {\n    // Implement a backoff loop that tries to ensure we do not load multiple\n    // versions of Bokeh and its dependencies at the same time.\n    // In recent versions we use the root._bokeh_is_initializing flag\n    // to determine whether there is an ongoing attempt to initialize\n    // bokeh, however for backward compatibility we also try to ensure\n    // that we do not start loading a newer (Panel>=1.0 and Bokeh>3) version\n    // before older versions are fully initialized.\n    if (root._bokeh_is_initializing && Date.now() > root._bokeh_timeout) {\n      root._bokeh_is_initializing = false;\n      root._bokeh_onload_callbacks = undefined;\n      console.log(\"Bokeh: BokehJS was loaded multiple times but one version failed to initialize.\");\n      load_or_wait();\n    } else if (root._bokeh_is_initializing || (typeof root._bokeh_is_initializing === \"undefined\" && root._bokeh_onload_callbacks !== undefined)) {\n      setTimeout(load_or_wait, 100);\n    } else {\n      root._bokeh_is_initializing = true\n      root._bokeh_onload_callbacks = []\n      var bokeh_loaded = Bokeh != null && (Bokeh.version === py_version || (Bokeh.versions !== undefined && Bokeh.versions.has(py_version)));\n      if (!reloading && !bokeh_loaded) {\n\troot.Bokeh = undefined;\n      }\n      load_libs(css_urls, js_urls, js_modules, js_exports, function() {\n\tconsole.debug(\"Bokeh: BokehJS plotting callback run at\", now());\n\trun_inline_js();\n      });\n    }\n  }\n  // Give older versions of the autoload script a head-start to ensure\n  // they initialize before we start loading newer version.\n  setTimeout(load_or_wait, 100)\n}(window));",
      "application/vnd.holoviews_load.v0+json": ""
     },
     "metadata": {},
     "output_type": "display_data"
    },
    {
     "data": {
      "application/javascript": "\nif ((window.PyViz === undefined) || (window.PyViz instanceof HTMLElement)) {\n  window.PyViz = {comms: {}, comm_status:{}, kernels:{}, receivers: {}, plot_index: []}\n}\n\n\n    function JupyterCommManager() {\n    }\n\n    JupyterCommManager.prototype.register_target = function(plot_id, comm_id, msg_handler) {\n      if (window.comm_manager || ((window.Jupyter !== undefined) && (Jupyter.notebook.kernel != null))) {\n        var comm_manager = window.comm_manager || Jupyter.notebook.kernel.comm_manager;\n        comm_manager.register_target(comm_id, function(comm) {\n          comm.on_msg(msg_handler);\n        });\n      } else if ((plot_id in window.PyViz.kernels) && (window.PyViz.kernels[plot_id])) {\n        window.PyViz.kernels[plot_id].registerCommTarget(comm_id, function(comm) {\n          comm.onMsg = msg_handler;\n        });\n      } else if (typeof google != 'undefined' && google.colab.kernel != null) {\n        google.colab.kernel.comms.registerTarget(comm_id, (comm) => {\n          var messages = comm.messages[Symbol.asyncIterator]();\n          function processIteratorResult(result) {\n            var message = result.value;\n            console.log(message)\n            var content = {data: message.data, comm_id};\n            var buffers = []\n            for (var buffer of message.buffers || []) {\n              buffers.push(new DataView(buffer))\n            }\n            var metadata = message.metadata || {};\n            var msg = {content, buffers, metadata}\n            msg_handler(msg);\n            return messages.next().then(processIteratorResult);\n          }\n          return messages.next().then(processIteratorResult);\n        })\n      }\n    }\n\n    JupyterCommManager.prototype.get_client_comm = function(plot_id, comm_id, msg_handler) {\n      if (comm_id in window.PyViz.comms) {\n        return window.PyViz.comms[comm_id];\n      } else if (window.comm_manager || ((window.Jupyter !== undefined) && (Jupyter.notebook.kernel != null))) {\n        var comm_manager = window.comm_manager || Jupyter.notebook.kernel.comm_manager;\n        var comm = comm_manager.new_comm(comm_id, {}, {}, {}, comm_id);\n        if (msg_handler) {\n          comm.on_msg(msg_handler);\n        }\n      } else if ((plot_id in window.PyViz.kernels) && (window.PyViz.kernels[plot_id])) {\n        var comm = window.PyViz.kernels[plot_id].connectToComm(comm_id);\n        comm.open();\n        if (msg_handler) {\n          comm.onMsg = msg_handler;\n        }\n      } else if (typeof google != 'undefined' && google.colab.kernel != null) {\n        var comm_promise = google.colab.kernel.comms.open(comm_id)\n        comm_promise.then((comm) => {\n          window.PyViz.comms[comm_id] = comm;\n          if (msg_handler) {\n            var messages = comm.messages[Symbol.asyncIterator]();\n            function processIteratorResult(result) {\n              var message = result.value;\n              var content = {data: message.data};\n              var metadata = message.metadata || {comm_id};\n              var msg = {content, metadata}\n              msg_handler(msg);\n              return messages.next().then(processIteratorResult);\n            }\n            return messages.next().then(processIteratorResult);\n          }\n        }) \n        var sendClosure = (data, metadata, buffers, disposeOnDone) => {\n          return comm_promise.then((comm) => {\n            comm.send(data, metadata, buffers, disposeOnDone);\n          });\n        };\n        var comm = {\n          send: sendClosure\n        };\n      }\n      window.PyViz.comms[comm_id] = comm;\n      return comm;\n    }\n    window.PyViz.comm_manager = new JupyterCommManager();\n    \n\n\nvar JS_MIME_TYPE = 'application/javascript';\nvar HTML_MIME_TYPE = 'text/html';\nvar EXEC_MIME_TYPE = 'application/vnd.holoviews_exec.v0+json';\nvar CLASS_NAME = 'output';\n\n/**\n * Render data to the DOM node\n */\nfunction render(props, node) {\n  var div = document.createElement(\"div\");\n  var script = document.createElement(\"script\");\n  node.appendChild(div);\n  node.appendChild(script);\n}\n\n/**\n * Handle when a new output is added\n */\nfunction handle_add_output(event, handle) {\n  var output_area = handle.output_area;\n  var output = handle.output;\n  if ((output.data == undefined) || (!output.data.hasOwnProperty(EXEC_MIME_TYPE))) {\n    return\n  }\n  var id = output.metadata[EXEC_MIME_TYPE][\"id\"];\n  var toinsert = output_area.element.find(\".\" + CLASS_NAME.split(' ')[0]);\n  if (id !== undefined) {\n    var nchildren = toinsert.length;\n    var html_node = toinsert[nchildren-1].children[0];\n    html_node.innerHTML = output.data[HTML_MIME_TYPE];\n    var scripts = [];\n    var nodelist = html_node.querySelectorAll(\"script\");\n    for (var i in nodelist) {\n      if (nodelist.hasOwnProperty(i)) {\n        scripts.push(nodelist[i])\n      }\n    }\n\n    scripts.forEach( function (oldScript) {\n      var newScript = document.createElement(\"script\");\n      var attrs = [];\n      var nodemap = oldScript.attributes;\n      for (var j in nodemap) {\n        if (nodemap.hasOwnProperty(j)) {\n          attrs.push(nodemap[j])\n        }\n      }\n      attrs.forEach(function(attr) { newScript.setAttribute(attr.name, attr.value) });\n      newScript.appendChild(document.createTextNode(oldScript.innerHTML));\n      oldScript.parentNode.replaceChild(newScript, oldScript);\n    });\n    if (JS_MIME_TYPE in output.data) {\n      toinsert[nchildren-1].children[1].textContent = output.data[JS_MIME_TYPE];\n    }\n    output_area._hv_plot_id = id;\n    if ((window.Bokeh !== undefined) && (id in Bokeh.index)) {\n      window.PyViz.plot_index[id] = Bokeh.index[id];\n    } else {\n      window.PyViz.plot_index[id] = null;\n    }\n  } else if (output.metadata[EXEC_MIME_TYPE][\"server_id\"] !== undefined) {\n    var bk_div = document.createElement(\"div\");\n    bk_div.innerHTML = output.data[HTML_MIME_TYPE];\n    var script_attrs = bk_div.children[0].attributes;\n    for (var i = 0; i < script_attrs.length; i++) {\n      toinsert[toinsert.length - 1].childNodes[1].setAttribute(script_attrs[i].name, script_attrs[i].value);\n    }\n    // store reference to server id on output_area\n    output_area._bokeh_server_id = output.metadata[EXEC_MIME_TYPE][\"server_id\"];\n  }\n}\n\n/**\n * Handle when an output is cleared or removed\n */\nfunction handle_clear_output(event, handle) {\n  var id = handle.cell.output_area._hv_plot_id;\n  var server_id = handle.cell.output_area._bokeh_server_id;\n  if (((id === undefined) || !(id in PyViz.plot_index)) && (server_id !== undefined)) { return; }\n  var comm = window.PyViz.comm_manager.get_client_comm(\"hv-extension-comm\", \"hv-extension-comm\", function () {});\n  if (server_id !== null) {\n    comm.send({event_type: 'server_delete', 'id': server_id});\n    return;\n  } else if (comm !== null) {\n    comm.send({event_type: 'delete', 'id': id});\n  }\n  delete PyViz.plot_index[id];\n  if ((window.Bokeh !== undefined) & (id in window.Bokeh.index)) {\n    var doc = window.Bokeh.index[id].model.document\n    doc.clear();\n    const i = window.Bokeh.documents.indexOf(doc);\n    if (i > -1) {\n      window.Bokeh.documents.splice(i, 1);\n    }\n  }\n}\n\n/**\n * Handle kernel restart event\n */\nfunction handle_kernel_cleanup(event, handle) {\n  delete PyViz.comms[\"hv-extension-comm\"];\n  window.PyViz.plot_index = {}\n}\n\n/**\n * Handle update_display_data messages\n */\nfunction handle_update_output(event, handle) {\n  handle_clear_output(event, {cell: {output_area: handle.output_area}})\n  handle_add_output(event, handle)\n}\n\nfunction register_renderer(events, OutputArea) {\n  function append_mime(data, metadata, element) {\n    // create a DOM node to render to\n    var toinsert = this.create_output_subarea(\n    metadata,\n    CLASS_NAME,\n    EXEC_MIME_TYPE\n    );\n    this.keyboard_manager.register_events(toinsert);\n    // Render to node\n    var props = {data: data, metadata: metadata[EXEC_MIME_TYPE]};\n    render(props, toinsert[0]);\n    element.append(toinsert);\n    return toinsert\n  }\n\n  events.on('output_added.OutputArea', handle_add_output);\n  events.on('output_updated.OutputArea', handle_update_output);\n  events.on('clear_output.CodeCell', handle_clear_output);\n  events.on('delete.Cell', handle_clear_output);\n  events.on('kernel_ready.Kernel', handle_kernel_cleanup);\n\n  OutputArea.prototype.register_mime_type(EXEC_MIME_TYPE, append_mime, {\n    safe: true,\n    index: 0\n  });\n}\n\nif (window.Jupyter !== undefined) {\n  try {\n    var events = require('base/js/events');\n    var OutputArea = require('notebook/js/outputarea').OutputArea;\n    if (OutputArea.prototype.mime_types().indexOf(EXEC_MIME_TYPE) == -1) {\n      register_renderer(events, OutputArea);\n    }\n  } catch(err) {\n  }\n}\n",
      "application/vnd.holoviews_load.v0+json": ""
     },
     "metadata": {},
     "output_type": "display_data"
    },
    {
     "data": {
      "text/html": [
       "<style>*[data-root-id],\n",
       "*[data-root-id] > * {\n",
       "  box-sizing: border-box;\n",
       "  font-family: var(--jp-ui-font-family);\n",
       "  font-size: var(--jp-ui-font-size1);\n",
       "  color: var(--vscode-editor-foreground, var(--jp-ui-font-color1));\n",
       "}\n",
       "\n",
       "/* Override VSCode background color */\n",
       ".cell-output-ipywidget-background:has(\n",
       "    > .cell-output-ipywidget-background > .lm-Widget > *[data-root-id]\n",
       "  ),\n",
       ".cell-output-ipywidget-background:has(> .lm-Widget > *[data-root-id]) {\n",
       "  background-color: transparent !important;\n",
       "}\n",
       "</style>"
      ]
     },
     "metadata": {},
     "output_type": "display_data"
    },
    {
     "data": {
      "application/vnd.holoviews_exec.v0+json": "",
      "text/html": [
       "<div id='p1002'>\n",
       "  <div id=\"afbb17dd-438c-4cca-8629-44e7f64906c7\" data-root-id=\"p1002\" style=\"display: contents;\"></div>\n",
       "</div>\n",
       "<script type=\"application/javascript\">(function(root) {\n",
       "  var docs_json = {\"0d36eb56-1476-41f3-a24f-85b02db4ab79\":{\"version\":\"3.4.2\",\"title\":\"Bokeh Application\",\"roots\":[{\"type\":\"object\",\"name\":\"panel.models.browser.BrowserInfo\",\"id\":\"p1002\"},{\"type\":\"object\",\"name\":\"panel.models.comm_manager.CommManager\",\"id\":\"p1003\",\"attributes\":{\"plot_id\":\"p1002\",\"comm_id\":\"b09f701a643b4a0480ac0ceb61872467\",\"client_comm_id\":\"215d6b7a56da4c3aa9e02779e445c527\"}}],\"defs\":[{\"type\":\"model\",\"name\":\"ReactiveHTML1\"},{\"type\":\"model\",\"name\":\"FlexBox1\",\"properties\":[{\"name\":\"align_content\",\"kind\":\"Any\",\"default\":\"flex-start\"},{\"name\":\"align_items\",\"kind\":\"Any\",\"default\":\"flex-start\"},{\"name\":\"flex_direction\",\"kind\":\"Any\",\"default\":\"row\"},{\"name\":\"flex_wrap\",\"kind\":\"Any\",\"default\":\"wrap\"},{\"name\":\"gap\",\"kind\":\"Any\",\"default\":\"\"},{\"name\":\"justify_content\",\"kind\":\"Any\",\"default\":\"flex-start\"}]},{\"type\":\"model\",\"name\":\"FloatPanel1\",\"properties\":[{\"name\":\"config\",\"kind\":\"Any\",\"default\":{\"type\":\"map\"}},{\"name\":\"contained\",\"kind\":\"Any\",\"default\":true},{\"name\":\"position\",\"kind\":\"Any\",\"default\":\"right-top\"},{\"name\":\"offsetx\",\"kind\":\"Any\",\"default\":null},{\"name\":\"offsety\",\"kind\":\"Any\",\"default\":null},{\"name\":\"theme\",\"kind\":\"Any\",\"default\":\"primary\"},{\"name\":\"status\",\"kind\":\"Any\",\"default\":\"normalized\"}]},{\"type\":\"model\",\"name\":\"GridStack1\",\"properties\":[{\"name\":\"mode\",\"kind\":\"Any\",\"default\":\"warn\"},{\"name\":\"ncols\",\"kind\":\"Any\",\"default\":null},{\"name\":\"nrows\",\"kind\":\"Any\",\"default\":null},{\"name\":\"allow_resize\",\"kind\":\"Any\",\"default\":true},{\"name\":\"allow_drag\",\"kind\":\"Any\",\"default\":true},{\"name\":\"state\",\"kind\":\"Any\",\"default\":[]}]},{\"type\":\"model\",\"name\":\"drag1\",\"properties\":[{\"name\":\"slider_width\",\"kind\":\"Any\",\"default\":5},{\"name\":\"slider_color\",\"kind\":\"Any\",\"default\":\"black\"},{\"name\":\"value\",\"kind\":\"Any\",\"default\":50}]},{\"type\":\"model\",\"name\":\"click1\",\"properties\":[{\"name\":\"terminal_output\",\"kind\":\"Any\",\"default\":\"\"},{\"name\":\"debug_name\",\"kind\":\"Any\",\"default\":\"\"},{\"name\":\"clears\",\"kind\":\"Any\",\"default\":0}]},{\"type\":\"model\",\"name\":\"FastWrapper1\",\"properties\":[{\"name\":\"object\",\"kind\":\"Any\",\"default\":null},{\"name\":\"style\",\"kind\":\"Any\",\"default\":null}]},{\"type\":\"model\",\"name\":\"NotificationAreaBase1\",\"properties\":[{\"name\":\"js_events\",\"kind\":\"Any\",\"default\":{\"type\":\"map\"}},{\"name\":\"position\",\"kind\":\"Any\",\"default\":\"bottom-right\"},{\"name\":\"_clear\",\"kind\":\"Any\",\"default\":0}]},{\"type\":\"model\",\"name\":\"NotificationArea1\",\"properties\":[{\"name\":\"js_events\",\"kind\":\"Any\",\"default\":{\"type\":\"map\"}},{\"name\":\"notifications\",\"kind\":\"Any\",\"default\":[]},{\"name\":\"position\",\"kind\":\"Any\",\"default\":\"bottom-right\"},{\"name\":\"_clear\",\"kind\":\"Any\",\"default\":0},{\"name\":\"types\",\"kind\":\"Any\",\"default\":[{\"type\":\"map\",\"entries\":[[\"type\",\"warning\"],[\"background\",\"#ffc107\"],[\"icon\",{\"type\":\"map\",\"entries\":[[\"className\",\"fas fa-exclamation-triangle\"],[\"tagName\",\"i\"],[\"color\",\"white\"]]}]]},{\"type\":\"map\",\"entries\":[[\"type\",\"info\"],[\"background\",\"#007bff\"],[\"icon\",{\"type\":\"map\",\"entries\":[[\"className\",\"fas fa-info-circle\"],[\"tagName\",\"i\"],[\"color\",\"white\"]]}]]}]}]},{\"type\":\"model\",\"name\":\"Notification\",\"properties\":[{\"name\":\"background\",\"kind\":\"Any\",\"default\":null},{\"name\":\"duration\",\"kind\":\"Any\",\"default\":3000},{\"name\":\"icon\",\"kind\":\"Any\",\"default\":null},{\"name\":\"message\",\"kind\":\"Any\",\"default\":\"\"},{\"name\":\"notification_type\",\"kind\":\"Any\",\"default\":null},{\"name\":\"_destroyed\",\"kind\":\"Any\",\"default\":false}]},{\"type\":\"model\",\"name\":\"TemplateActions1\",\"properties\":[{\"name\":\"open_modal\",\"kind\":\"Any\",\"default\":0},{\"name\":\"close_modal\",\"kind\":\"Any\",\"default\":0}]},{\"type\":\"model\",\"name\":\"BootstrapTemplateActions1\",\"properties\":[{\"name\":\"open_modal\",\"kind\":\"Any\",\"default\":0},{\"name\":\"close_modal\",\"kind\":\"Any\",\"default\":0}]},{\"type\":\"model\",\"name\":\"TemplateEditor1\",\"properties\":[{\"name\":\"layout\",\"kind\":\"Any\",\"default\":[]}]},{\"type\":\"model\",\"name\":\"MaterialTemplateActions1\",\"properties\":[{\"name\":\"open_modal\",\"kind\":\"Any\",\"default\":0},{\"name\":\"close_modal\",\"kind\":\"Any\",\"default\":0}]},{\"type\":\"model\",\"name\":\"copy_to_clipboard1\",\"properties\":[{\"name\":\"fill\",\"kind\":\"Any\",\"default\":\"none\"},{\"name\":\"value\",\"kind\":\"Any\",\"default\":null}]}]}};\n",
       "  var render_items = [{\"docid\":\"0d36eb56-1476-41f3-a24f-85b02db4ab79\",\"roots\":{\"p1002\":\"afbb17dd-438c-4cca-8629-44e7f64906c7\"},\"root_ids\":[\"p1002\"]}];\n",
       "  var docs = Object.values(docs_json)\n",
       "  if (!docs) {\n",
       "    return\n",
       "  }\n",
       "  const py_version = docs[0].version.replace('rc', '-rc.').replace('.dev', '-dev.')\n",
       "  async function embed_document(root) {\n",
       "    var Bokeh = get_bokeh(root)\n",
       "    await Bokeh.embed.embed_items_notebook(docs_json, render_items);\n",
       "    for (const render_item of render_items) {\n",
       "      for (const root_id of render_item.root_ids) {\n",
       "\tconst id_el = document.getElementById(root_id)\n",
       "\tif (id_el.children.length && id_el.children[0].hasAttribute('data-root-id')) {\n",
       "\t  const root_el = id_el.children[0]\n",
       "\t  root_el.id = root_el.id + '-rendered'\n",
       "\t  for (const child of root_el.children) {\n",
       "            // Ensure JupyterLab does not capture keyboard shortcuts\n",
       "            // see: https://jupyterlab.readthedocs.io/en/4.1.x/extension/notebook.html#keyboard-interaction-model\n",
       "\t    child.setAttribute('data-lm-suppress-shortcuts', 'true')\n",
       "\t  }\n",
       "\t}\n",
       "      }\n",
       "    }\n",
       "  }\n",
       "  function get_bokeh(root) {\n",
       "    if (root.Bokeh === undefined) {\n",
       "      return null\n",
       "    } else if (root.Bokeh.version !== py_version) {\n",
       "      if (root.Bokeh.versions === undefined || !root.Bokeh.versions.has(py_version)) {\n",
       "\treturn null\n",
       "      }\n",
       "      return root.Bokeh.versions.get(py_version);\n",
       "    } else if (root.Bokeh.version === py_version) {\n",
       "      return root.Bokeh\n",
       "    }\n",
       "    return null\n",
       "  }\n",
       "  function is_loaded(root) {\n",
       "    var Bokeh = get_bokeh(root)\n",
       "    return (Bokeh != null && Bokeh.Panel !== undefined)\n",
       "  }\n",
       "  if (is_loaded(root)) {\n",
       "    embed_document(root);\n",
       "  } else {\n",
       "    var attempts = 0;\n",
       "    var timer = setInterval(function(root) {\n",
       "      if (is_loaded(root)) {\n",
       "        clearInterval(timer);\n",
       "        embed_document(root);\n",
       "      } else if (document.readyState == \"complete\") {\n",
       "        attempts++;\n",
       "        if (attempts > 200) {\n",
       "          clearInterval(timer);\n",
       "\t  var Bokeh = get_bokeh(root)\n",
       "\t  if (Bokeh == null || Bokeh.Panel == null) {\n",
       "            console.warn(\"Panel: ERROR: Unable to run Panel code because Bokeh or Panel library is missing\");\n",
       "\t  } else {\n",
       "\t    console.warn(\"Panel: WARNING: Attempting to render but not all required libraries could be resolved.\")\n",
       "\t    embed_document(root)\n",
       "\t  }\n",
       "        }\n",
       "      }\n",
       "    }, 25, root)\n",
       "  }\n",
       "})(window);</script>"
      ]
     },
     "metadata": {
      "application/vnd.holoviews_exec.v0+json": {
       "id": "p1002"
      }
     },
     "output_type": "display_data"
    }
   ],
   "source": [
    "import logging\n",
    "from pathlib import Path\n",
    "\n",
    "import holoviews as hv\n",
    "import hvplot.polars  # noqa\n",
    "import ipywidgets\n",
    "import matplotlib.pyplot as plt\n",
    "import numpy as np\n",
    "import optuna\n",
    "import polars as pl\n",
    "import seaborn as sns\n",
    "import torch\n",
    "import torch.nn as nn\n",
    "import torch.optim as optim\n",
    "from icecream import ic\n",
    "from polars import col\n",
    "from sklearn.metrics import confusion_matrix\n",
    "from sklearn.model_selection import (\n",
    "    GroupShuffleSplit,\n",
    "    train_test_split,\n",
    ")\n",
    "from torch.utils.data import DataLoader, TensorDataset\n",
    "\n",
    "from src.data.database_manager import DatabaseManager\n",
    "from src.features.utils import to_describe\n",
    "from src.log_config import configure_logging\n",
    "from src.models.utils import StandardScaler3D\n",
    "\n",
    "configure_logging(\n",
    "    stream_level=logging.DEBUG,\n",
    "    ignore_libs=[\"matplotlib\", \"Comm\", \"bokeh\", \"tornado\"],\n",
    ")\n",
    "\n",
    "pl.Config.set_tbl_rows(12)  # for the 12 trials\n",
    "hv.output(widget_location=\"bottom\", size=130)\n",
    "\n",
    "db = DatabaseManager()"
   ]
  },
  {
   "cell_type": "code",
   "execution_count": 3,
   "metadata": {},
   "outputs": [],
   "source": [
    "with db:\n",
    "    labels = db.get_table(\"Labels\")\n",
    "    # eda = db.get_table(\"Feature_EDA\")"
   ]
  },
  {
   "cell_type": "code",
   "execution_count": 4,
   "metadata": {},
   "outputs": [
    {
     "data": {
      "text/html": [
       "<div><style>\n",
       ".dataframe > thead > tr,\n",
       ".dataframe > tbody > tr {\n",
       "  text-align: right;\n",
       "  white-space: pre-wrap;\n",
       "}\n",
       "</style>\n",
       "<small>shape: (133_302, 18)</small><table border=\"1\" class=\"dataframe\"><thead><tr><th>trial_id</th><th>trial_number</th><th>participant_id</th><th>rownumber</th><th>timestamp</th><th>temperature</th><th>rating</th><th>stimulus_seed</th><th>skin_area</th><th>normalized_timestamp</th><th>decreasing_intervals</th><th>major_decreasing_intervals</th><th>increasing_intervals</th><th>plateau_intervals</th><th>prolonged_minima_intervals</th><th>strictly_increasing_intervals</th><th>normalized_timestamp_increases</th><th>normalized_timestamp_decreases</th></tr><tr><td>u16</td><td>u8</td><td>u8</td><td>u32</td><td>f64</td><td>f64</td><td>f64</td><td>u16</td><td>u8</td><td>f64</td><td>u16</td><td>u16</td><td>u16</td><td>u16</td><td>u16</td><td>u16</td><td>f64</td><td>f64</td></tr></thead><tbody><tr><td>1</td><td>1</td><td>1</td><td>320</td><td>326250.8398</td><td>0.80056</td><td>0.83375</td><td>396</td><td>1</td><td>32026.5088</td><td>1</td><td>0</td><td>0</td><td>0</td><td>0</td><td>0</td><td>null</td><td>0.0</td></tr><tr><td>1</td><td>1</td><td>1</td><td>321</td><td>326351.5703</td><td>0.800524</td><td>0.83375</td><td>396</td><td>1</td><td>32127.2393</td><td>1</td><td>0</td><td>0</td><td>0</td><td>0</td><td>0</td><td>null</td><td>100.7305</td></tr><tr><td>1</td><td>1</td><td>1</td><td>322</td><td>326453.3964</td><td>0.800415</td><td>0.8375</td><td>396</td><td>1</td><td>32229.0654</td><td>1</td><td>0</td><td>0</td><td>0</td><td>0</td><td>0</td><td>null</td><td>202.5566</td></tr><tr><td>1</td><td>1</td><td>1</td><td>323</td><td>326551.3829</td><td>0.800232</td><td>0.83875</td><td>396</td><td>1</td><td>32327.0519</td><td>1</td><td>0</td><td>0</td><td>0</td><td>0</td><td>0</td><td>null</td><td>300.5431</td></tr><tr><td>1</td><td>1</td><td>1</td><td>324</td><td>326651.1161</td><td>0.799977</td><td>0.83875</td><td>396</td><td>1</td><td>32426.7851</td><td>1</td><td>0</td><td>0</td><td>0</td><td>0</td><td>0</td><td>null</td><td>400.2763</td></tr><tr><td>1</td><td>1</td><td>1</td><td>325</td><td>326751.5133</td><td>0.799649</td><td>0.83875</td><td>396</td><td>1</td><td>32527.1823</td><td>1</td><td>0</td><td>0</td><td>0</td><td>0</td><td>0</td><td>null</td><td>500.6735</td></tr><tr><td>&hellip;</td><td>&hellip;</td><td>&hellip;</td><td>&hellip;</td><td>&hellip;</td><td>&hellip;</td><td>&hellip;</td><td>&hellip;</td><td>&hellip;</td><td>&hellip;</td><td>&hellip;</td><td>&hellip;</td><td>&hellip;</td><td>&hellip;</td><td>&hellip;</td><td>&hellip;</td><td>&hellip;</td><td>&hellip;</td></tr><tr><td>332</td><td>12</td><td>28</td><td>21586</td><td>2.7746e6</td><td>0.25889</td><td>0.80625</td><td>133</td><td>1</td><td>177496.8039</td><td>1660</td><td>0</td><td>0</td><td>0</td><td>0</td><td>0</td><td>null</td><td>4403.8851</td></tr><tr><td>332</td><td>12</td><td>28</td><td>21587</td><td>2.7747e6</td><td>0.251239</td><td>0.80625</td><td>133</td><td>1</td><td>177596.5374</td><td>1660</td><td>0</td><td>0</td><td>0</td><td>0</td><td>0</td><td>null</td><td>4503.6186</td></tr><tr><td>332</td><td>12</td><td>28</td><td>21588</td><td>2.7748e6</td><td>0.243786</td><td>0.81375</td><td>133</td><td>1</td><td>177698.2663</td><td>1660</td><td>0</td><td>0</td><td>0</td><td>0</td><td>0</td><td>null</td><td>4605.3475</td></tr><tr><td>332</td><td>12</td><td>28</td><td>21589</td><td>2.7749e6</td><td>0.236547</td><td>0.81875</td><td>133</td><td>1</td><td>177797.9995</td><td>1660</td><td>0</td><td>0</td><td>0</td><td>0</td><td>0</td><td>null</td><td>4705.0807</td></tr><tr><td>332</td><td>12</td><td>28</td><td>21590</td><td>2.7750e6</td><td>0.229537</td><td>0.82375</td><td>133</td><td>1</td><td>177896.7354</td><td>1660</td><td>0</td><td>0</td><td>0</td><td>0</td><td>0</td><td>null</td><td>4803.8166</td></tr><tr><td>332</td><td>12</td><td>28</td><td>21591</td><td>2.7751e6</td><td>0.22277</td><td>0.83375</td><td>133</td><td>1</td><td>177996.4688</td><td>1660</td><td>0</td><td>0</td><td>0</td><td>0</td><td>0</td><td>null</td><td>4903.55</td></tr></tbody></table></div>"
      ],
      "text/plain": [
       "shape: (133_302, 18)\n",
       "┌──────────┬───────────┬───────────┬───────────┬───┬───────────┬───────────┬───────────┬───────────┐\n",
       "│ trial_id ┆ trial_num ┆ participa ┆ rownumber ┆ … ┆ prolonged ┆ strictly_ ┆ normalize ┆ normalize │\n",
       "│ ---      ┆ ber       ┆ nt_id     ┆ ---       ┆   ┆ _minima_i ┆ increasin ┆ d_timesta ┆ d_timesta │\n",
       "│ u16      ┆ ---       ┆ ---       ┆ u32       ┆   ┆ ntervals  ┆ g_interva ┆ mp_increa ┆ mp_decrea │\n",
       "│          ┆ u8        ┆ u8        ┆           ┆   ┆ ---       ┆ ls        ┆ ses       ┆ ses       │\n",
       "│          ┆           ┆           ┆           ┆   ┆ u16       ┆ ---       ┆ ---       ┆ ---       │\n",
       "│          ┆           ┆           ┆           ┆   ┆           ┆ u16       ┆ f64       ┆ f64       │\n",
       "╞══════════╪═══════════╪═══════════╪═══════════╪═══╪═══════════╪═══════════╪═══════════╪═══════════╡\n",
       "│ 1        ┆ 1         ┆ 1         ┆ 320       ┆ … ┆ 0         ┆ 0         ┆ null      ┆ 0.0       │\n",
       "│ 1        ┆ 1         ┆ 1         ┆ 321       ┆ … ┆ 0         ┆ 0         ┆ null      ┆ 100.7305  │\n",
       "│ 1        ┆ 1         ┆ 1         ┆ 322       ┆ … ┆ 0         ┆ 0         ┆ null      ┆ 202.5566  │\n",
       "│ 1        ┆ 1         ┆ 1         ┆ 323       ┆ … ┆ 0         ┆ 0         ┆ null      ┆ 300.5431  │\n",
       "│ 1        ┆ 1         ┆ 1         ┆ 324       ┆ … ┆ 0         ┆ 0         ┆ null      ┆ 400.2763  │\n",
       "│ 1        ┆ 1         ┆ 1         ┆ 325       ┆ … ┆ 0         ┆ 0         ┆ null      ┆ 500.6735  │\n",
       "│ …        ┆ …         ┆ …         ┆ …         ┆ … ┆ …         ┆ …         ┆ …         ┆ …         │\n",
       "│ 332      ┆ 12        ┆ 28        ┆ 21586     ┆ … ┆ 0         ┆ 0         ┆ null      ┆ 4403.8851 │\n",
       "│ 332      ┆ 12        ┆ 28        ┆ 21587     ┆ … ┆ 0         ┆ 0         ┆ null      ┆ 4503.6186 │\n",
       "│ 332      ┆ 12        ┆ 28        ┆ 21588     ┆ … ┆ 0         ┆ 0         ┆ null      ┆ 4605.3475 │\n",
       "│ 332      ┆ 12        ┆ 28        ┆ 21589     ┆ … ┆ 0         ┆ 0         ┆ null      ┆ 4705.0807 │\n",
       "│ 332      ┆ 12        ┆ 28        ┆ 21590     ┆ … ┆ 0         ┆ 0         ┆ null      ┆ 4803.8166 │\n",
       "│ 332      ┆ 12        ┆ 28        ┆ 21591     ┆ … ┆ 0         ┆ 0         ┆ null      ┆ 4903.55   │\n",
       "└──────────┴───────────┴───────────┴───────────┴───┴───────────┴───────────┴───────────┴───────────┘"
      ]
     },
     "execution_count": 4,
     "metadata": {},
     "output_type": "execute_result"
    }
   ],
   "source": [
    "labels = labels.with_columns(\n",
    "    # Add time counter for decreases and strictly increases\n",
    "    (\n",
    "        pl.when(col(\"strictly_increasing_intervals\") != 0)\n",
    "        .then(\n",
    "            col(\"timestamp\")\n",
    "            - col(\"timestamp\").min().over(\"strictly_increasing_intervals\")\n",
    "        )\n",
    "        .otherwise(None)\n",
    "    ).alias(\"normalized_timestamp_increases\"),\n",
    "    (\n",
    "        pl.when(col(\"decreasing_intervals\") != 0)\n",
    "        .then(col(\"timestamp\") - col(\"timestamp\").min().over(\"decreasing_intervals\"))\n",
    "        .otherwise(None)\n",
    "    ).alias(\"normalized_timestamp_decreases\"),\n",
    "    # Only keep the first 5 seconds\n",
    ").filter(\n",
    "    (col(\"normalized_timestamp_increases\") < 5000)\n",
    "    | (col(\"normalized_timestamp_decreases\") < 5000)\n",
    ")\n",
    "labels"
   ]
  },
  {
   "cell_type": "code",
   "execution_count": 5,
   "metadata": {},
   "outputs": [],
   "source": [
    "# Split data into decreasing and increasing intervals to add labels and sample ids\n",
    "decreases = labels.filter(\n",
    "    col(\"normalized_timestamp_decreases\").is_not_null()\n",
    ").with_columns(\n",
    "    pl.lit(1).alias(\"label\").cast(pl.UInt8),\n",
    "    col(\"decreasing_intervals\").alias(\"sample_id\"),\n",
    ")\n",
    "increases = labels.filter(\n",
    "    col(\"normalized_timestamp_increases\").is_not_null()\n",
    ").with_columns(\n",
    "    pl.lit(0).alias(\"label\").cast(pl.UInt8),\n",
    "    (\n",
    "        col(\"strictly_increasing_intervals\")\n",
    "        + (decreases.select(pl.last(\"decreasing_intervals\")))  # continue from decreases\n",
    "    ).alias(\"sample_id\"),\n",
    ")\n",
    "# Join the two tables back together\n",
    "labels = decreases.vstack(increases).sort(\"sample_id\", \"timestamp\")"
   ]
  },
  {
   "cell_type": "code",
   "execution_count": 6,
   "metadata": {},
   "outputs": [
    {
     "name": "stdout",
     "output_type": "stream",
     "text": [
      "16:34:16 | \u001b[36mDEBUG   \u001b[0m| root | Normalizing to equal 50 rows per sample was not successful for the following samples: [1310, 2143, 2428, 2641]\n"
     ]
    }
   ],
   "source": [
    "# Normalize the data\n",
    "ROWS_PER_SAMPLE = 50\n",
    "\n",
    "labels = (\n",
    "    labels.group_by(\"sample_id\", maintain_order=True)\n",
    "    .agg(pl.all().head(ROWS_PER_SAMPLE))\n",
    "    .explode(pl.all().exclude(\"sample_id\"))  # Explode the result back into rows\n",
    ")\n",
    "\n",
    "# Sanity check\n",
    "if not labels.height == labels.select(pl.last(\"sample_id\")).item() * ROWS_PER_SAMPLE:\n",
    "    affected_samples = []\n",
    "    for sample_id, group in labels.group_by(\"sample_id\", maintain_order=True):\n",
    "        if group.height < ROWS_PER_SAMPLE or group.height > ROWS_PER_SAMPLE:\n",
    "            affected_samples.append(sample_id[0])  # sample_id is a tuple\n",
    "logging.debug(\n",
    "    f\"Normalizing to equal {ROWS_PER_SAMPLE} rows per sample was not successful for the following samples: {affected_samples}\"\n",
    ")\n",
    "labels = labels.filter(~col(\"sample_id\").is_in(affected_samples))"
   ]
  },
  {
   "cell_type": "code",
   "execution_count": 7,
   "metadata": {},
   "outputs": [
    {
     "data": {
      "text/html": [
       "<div><style>\n",
       ".dataframe > thead > tr,\n",
       ".dataframe > tbody > tr {\n",
       "  text-align: right;\n",
       "  white-space: pre-wrap;\n",
       "}\n",
       "</style>\n",
       "<small>shape: (132_600, 5)</small><table border=\"1\" class=\"dataframe\"><thead><tr><th>sample_id</th><th>participant_id</th><th>rating</th><th>temperature</th><th>label</th></tr><tr><td>u16</td><td>u8</td><td>f64</td><td>f64</td><td>u8</td></tr></thead><tbody><tr><td>1</td><td>1</td><td>0.83375</td><td>0.80056</td><td>1</td></tr><tr><td>1</td><td>1</td><td>0.83375</td><td>0.800524</td><td>1</td></tr><tr><td>1</td><td>1</td><td>0.8375</td><td>0.800415</td><td>1</td></tr><tr><td>1</td><td>1</td><td>0.83875</td><td>0.800232</td><td>1</td></tr><tr><td>1</td><td>1</td><td>0.83875</td><td>0.799977</td><td>1</td></tr><tr><td>1</td><td>1</td><td>0.83875</td><td>0.799649</td><td>1</td></tr><tr><td>&hellip;</td><td>&hellip;</td><td>&hellip;</td><td>&hellip;</td><td>&hellip;</td></tr><tr><td>2656</td><td>28</td><td>0.66375</td><td>0.476868</td><td>0</td></tr><tr><td>2656</td><td>28</td><td>0.6675</td><td>0.485034</td><td>0</td></tr><tr><td>2656</td><td>28</td><td>0.6675</td><td>0.492691</td><td>0</td></tr><tr><td>2656</td><td>28</td><td>0.66875</td><td>0.499818</td><td>0</td></tr><tr><td>2656</td><td>28</td><td>0.67</td><td>0.506395</td><td>0</td></tr><tr><td>2656</td><td>28</td><td>0.67</td><td>0.512404</td><td>0</td></tr></tbody></table></div>"
      ],
      "text/plain": [
       "shape: (132_600, 5)\n",
       "┌───────────┬────────────────┬─────────┬─────────────┬───────┐\n",
       "│ sample_id ┆ participant_id ┆ rating  ┆ temperature ┆ label │\n",
       "│ ---       ┆ ---            ┆ ---     ┆ ---         ┆ ---   │\n",
       "│ u16       ┆ u8             ┆ f64     ┆ f64         ┆ u8    │\n",
       "╞═══════════╪════════════════╪═════════╪═════════════╪═══════╡\n",
       "│ 1         ┆ 1              ┆ 0.83375 ┆ 0.80056     ┆ 1     │\n",
       "│ 1         ┆ 1              ┆ 0.83375 ┆ 0.800524    ┆ 1     │\n",
       "│ 1         ┆ 1              ┆ 0.8375  ┆ 0.800415    ┆ 1     │\n",
       "│ 1         ┆ 1              ┆ 0.83875 ┆ 0.800232    ┆ 1     │\n",
       "│ 1         ┆ 1              ┆ 0.83875 ┆ 0.799977    ┆ 1     │\n",
       "│ 1         ┆ 1              ┆ 0.83875 ┆ 0.799649    ┆ 1     │\n",
       "│ …         ┆ …              ┆ …       ┆ …           ┆ …     │\n",
       "│ 2656      ┆ 28             ┆ 0.66375 ┆ 0.476868    ┆ 0     │\n",
       "│ 2656      ┆ 28             ┆ 0.6675  ┆ 0.485034    ┆ 0     │\n",
       "│ 2656      ┆ 28             ┆ 0.6675  ┆ 0.492691    ┆ 0     │\n",
       "│ 2656      ┆ 28             ┆ 0.66875 ┆ 0.499818    ┆ 0     │\n",
       "│ 2656      ┆ 28             ┆ 0.67    ┆ 0.506395    ┆ 0     │\n",
       "│ 2656      ┆ 28             ┆ 0.67    ┆ 0.512404    ┆ 0     │\n",
       "└───────────┴────────────────┴─────────┴─────────────┴───────┘"
      ]
     },
     "execution_count": 7,
     "metadata": {},
     "output_type": "execute_result"
    }
   ],
   "source": [
    "labels = labels.select(\n",
    "    \"sample_id\",\n",
    "    \"participant_id\",\n",
    "    \"rating\",\n",
    "    \"temperature\",\n",
    "    \"label\",\n",
    ")\n",
    "labels"
   ]
  },
  {
   "cell_type": "code",
   "execution_count": 55,
   "metadata": {},
   "outputs": [
    {
     "ename": "TypeError",
     "evalue": "equal() takes from 2 to 3 positional arguments but 1 were given",
     "output_type": "error",
     "traceback": [
      "\u001b[0;31m---------------------------------------------------------------------------\u001b[0m",
      "\u001b[0;31mTypeError\u001b[0m                                 Traceback (most recent call last)",
      "Cell \u001b[0;32mIn[55], line 34\u001b[0m\n\u001b[1;32m     30\u001b[0m     \u001b[38;5;28;01mreturn\u001b[39;00m X\n\u001b[1;32m     33\u001b[0m X \u001b[38;5;241m=\u001b[39m create_time_series_features(labels, columns\u001b[38;5;241m=\u001b[39m[\u001b[38;5;124m\"\u001b[39m\u001b[38;5;124mtemperature\u001b[39m\u001b[38;5;124m\"\u001b[39m, \u001b[38;5;124m\"\u001b[39m\u001b[38;5;124mrating\u001b[39m\u001b[38;5;124m\"\u001b[39m])\n\u001b[0;32m---> 34\u001b[0m \u001b[43mnp\u001b[49m\u001b[38;5;241;43m.\u001b[39;49m\u001b[43mequal\u001b[49m\u001b[43m(\u001b[49m\u001b[43mX\u001b[49m\u001b[43m)\u001b[49m\u001b[38;5;241m.\u001b[39mall()\n",
      "\u001b[0;31mTypeError\u001b[0m: equal() takes from 2 to 3 positional arguments but 1 were given"
     ]
    }
   ],
   "source": [
    "def create_time_series_features(\n",
    "    df: pl.DataFrame,\n",
    "    columns: list[str],\n",
    "    group_by_col: str = \"sample_id\",\n",
    ") -> np.ndarray:\n",
    "    \"\"\"\n",
    "    Convert polars DataFrame to numpy array formatted for time series modeling.\n",
    "\n",
    "    Args:\n",
    "        df: Input DataFrame\n",
    "        columns: List of column names to use as features\n",
    "        group_by_col: Column name to group by (default: \"sample_id\")\n",
    "\n",
    "    Returns:\n",
    "        numpy array with shape (samples, time steps, features)\n",
    "\n",
    "    Note:\n",
    "        Can be easily plotted using ipywidgets.interactive with the following code:\n",
    "        ```python\n",
    "        import ipywidgets\n",
    "\n",
    "\n",
    "        @ipywidgets.interact(trial=(0, X.shape[0] - 1))\n",
    "        def plot_trial(trial):\n",
    "            for i in range(X.shape[2]):\n",
    "                plt.plot(X[trial, :, i])\n",
    "            plt.ylim(0, 1)\n",
    "        ```\n",
    "    \"\"\"\n",
    "    # Group by sample_id and aggregate all specified columns\n",
    "    X = df.group_by(group_by_col, maintain_order=True).agg(\n",
    "        [pl.col(col) for col in columns]\n",
    "    )\n",
    "\n",
    "    # Handle both univariate and multivariate cases\n",
    "    if len(columns) == 1:\n",
    "        X = np.vstack(X.get_column(columns[0]).to_numpy())\n",
    "        X = np.expand_dims(X, axis=2)\n",
    "    else:\n",
    "        feature_arrays = [np.vstack(X.get_column(col).to_numpy()) for col in columns]\n",
    "        X = np.stack(feature_arrays, axis=2)\n",
    "\n",
    "    return X\n"
   ]
  },
  {
   "cell_type": "code",
   "execution_count": 52,
   "metadata": {},
   "outputs": [
    {
     "data": {
      "application/vnd.jupyter.widget-view+json": {
       "model_id": "f02f337d42ea4c39bdc99bf9a90d8599",
       "version_major": 2,
       "version_minor": 0
      },
      "text/plain": [
       "interactive(children=(IntSlider(value=1325, description='trial', max=2651), Output()), _dom_classes=('widget-i…"
      ]
     },
     "metadata": {},
     "output_type": "display_data"
    }
   ],
   "source": [
    "@ipywidgets.interact(trial=(0, X.shape[0] - 1))\n",
    "def plot_trial(trial):\n",
    "    for i in range(X.shape[2]):\n",
    "        plt.plot(X[trial, :, i])\n",
    "    plt.ylim(0, 1)\n"
   ]
  },
  {
   "cell_type": "code",
   "execution_count": 21,
   "metadata": {},
   "outputs": [],
   "source": [
    "X = create_time_series_features(labels, columns=[\"temperature\", \"rating\"])\n",
    "y = (\n",
    "    labels.group_by(\"sample_id\")\n",
    "    .agg((col(\"label\").first()))\n",
    "    .get_column(\"label\")\n",
    "    .to_numpy()\n",
    ")\n",
    "groups = (\n",
    "    labels.group_by(\"sample_id\")\n",
    "    .agg((col(\"participant_id\").first()))\n",
    "    .get_column(\"participant_id\")\n",
    "    .to_numpy()\n",
    ")"
   ]
  },
  {
   "cell_type": "code",
   "execution_count": 101,
   "metadata": {},
   "outputs": [],
   "source": [
    "# np.save(\"data/x.npy\", x)\n",
    "# np.save(\"data/y.npy\", y)\n",
    "# np.save(\"data/groups.npy\", groups)"
   ]
  },
  {
   "cell_type": "code",
   "execution_count": 102,
   "metadata": {},
   "outputs": [],
   "source": [
    "# Create a single train-test split while respecting group structure in the data\n",
    "splitter = GroupShuffleSplit(n_splits=1, test_size=0.5, random_state=42)\n",
    "train_idx, test_idx = next(splitter.split(X, y, groups=groups))\n",
    "X_train, y_train = X[train_idx], y[train_idx]\n",
    "X_test, y_test = X[test_idx], y[test_idx]\n"
   ]
  },
  {
   "cell_type": "code",
   "execution_count": null,
   "metadata": {},
   "outputs": [],
   "source": []
  },
  {
   "cell_type": "code",
   "execution_count": null,
   "metadata": {},
   "outputs": [],
   "source": []
  },
  {
   "cell_type": "code",
   "execution_count": 103,
   "metadata": {},
   "outputs": [
    {
     "name": "stdout",
     "output_type": "stream",
     "text": [
      "16:03:51 | \u001b[36mDEBUG   \u001b[0m| root | Using device: mps\n"
     ]
    }
   ],
   "source": [
    "device = (\n",
    "    torch.device(\"cuda\")\n",
    "    if torch.cuda.is_available()\n",
    "    else torch.device(\"mps\")\n",
    "    if torch.backends.mps.is_available()\n",
    "    else torch.device(\"cpu\")\n",
    ")\n",
    "logging.debug(f\"Using device: {device}\")\n",
    "batch_size = 64\n"
   ]
  },
  {
   "cell_type": "code",
   "execution_count": 104,
   "metadata": {},
   "outputs": [],
   "source": [
    "class MLP(nn.Module):\n",
    "    \"\"\"MLP class for time series classification with 3D input\"\"\"\n",
    "\n",
    "    def __init__(self, input_size, hidden_size):\n",
    "        super(MLP, self).__init__()\n",
    "        self.layer1 = nn.Linear(input_size, hidden_size)\n",
    "        self.layer2 = nn.Linear(hidden_size, hidden_size)\n",
    "        self.layer3 = nn.Linear(hidden_size, 1)\n",
    "        self.relu = nn.ReLU()\n",
    "\n",
    "    def forward(self, x):\n",
    "        x = x.permute(0, 2, 1)  # Permute to Fortran order\n",
    "        x = x.flatten(start_dim=1)  # Flatten to 2D\n",
    "        out = self.layer1(x)\n",
    "        out = self.relu(out)\n",
    "        out = self.layer2(out)\n",
    "        out = self.relu(out)\n",
    "        out = self.layer3(out)\n",
    "        return out  # BCEWithLogitsLoss will apply sigmoid\n"
   ]
  },
  {
   "cell_type": "code",
   "execution_count": 34,
   "metadata": {},
   "outputs": [],
   "source": []
  },
  {
   "cell_type": "code",
   "execution_count": 105,
   "metadata": {},
   "outputs": [
    {
     "name": "stdout",
     "output_type": "stream",
     "text": [
      "16:03:52 | \u001b[36mDEBUG   \u001b[0m| root | Train Data: 1311 samples, Test Data: 1341 samples\n"
     ]
    }
   ],
   "source": [
    "def create_dataloaders(\n",
    "    X_train: np.ndarray,\n",
    "    y_train: np.ndarray,\n",
    "    X_test: np.ndarray,\n",
    "    y_test: np.ndarray,\n",
    "    batch_size: int,\n",
    "    is_test: bool = True,\n",
    ") -> tuple[DataLoader, DataLoader]:\n",
    "    # Sanity check\n",
    "    assert (\n",
    "        len(X_train.shape) == len(X_test.shape) == 3\n",
    "    ), \"X_train and X_test must have 3 dimensions: (samples, timesteps, features)\"\n",
    "\n",
    "    scaler = StandardScaler3D()\n",
    "    X_train = scaler.fit_transform(X_train)\n",
    "    X_test = scaler.transform(X_test)\n",
    "\n",
    "    train_data = TensorDataset(\n",
    "        torch.FloatTensor(X_train),\n",
    "        torch.FloatTensor(y_train).view(-1, 1),\n",
    "    )\n",
    "    test_data = TensorDataset(\n",
    "        torch.FloatTensor(X_test),\n",
    "        torch.FloatTensor(y_test).view(-1, 1),\n",
    "    )\n",
    "    train_loader = DataLoader(dataset=train_data, batch_size=batch_size, shuffle=True)\n",
    "    test_loader = DataLoader(dataset=test_data, batch_size=batch_size, shuffle=False)\n",
    "\n",
    "    dataset = \"Test\" if is_test else \"Validation\"\n",
    "    logging.debug(\n",
    "        f\"Train Data: {len(train_data)} samples, \"\n",
    "        f\"{dataset} Data: {len(test_data)} samples\"\n",
    "    )\n",
    "\n",
    "    return train_loader, test_loader\n",
    "\n",
    "\n",
    "train_loader, test_loader = create_dataloaders(\n",
    "    X_train,\n",
    "    y_train,\n",
    "    X_test,\n",
    "    y_test,\n",
    "    batch_size=batch_size,\n",
    ")\n"
   ]
  },
  {
   "cell_type": "code",
   "execution_count": 106,
   "metadata": {},
   "outputs": [],
   "source": [
    "def train_model(\n",
    "    model: nn.Module,\n",
    "    train_loader: DataLoader,\n",
    "    test_loader: DataLoader,\n",
    "    criterion: nn.modules.loss._Loss,\n",
    "    optimizer: optim.Optimizer,\n",
    "    epochs: int,\n",
    "    is_test: bool = True,\n",
    ") -> dict[str, list[float]]:\n",
    "    dataset = \"test\" if is_test else \"validation\"\n",
    "    history = {\n",
    "        \"train_accuracy\": [],\n",
    "        \"train_loss\": [],\n",
    "        f\"{dataset}_accuracy\": [],\n",
    "        f\"{dataset}_loss\": [],\n",
    "    }\n",
    "\n",
    "    for epoch in range(epochs):\n",
    "        model.train()\n",
    "        running_loss = 0.0\n",
    "        # for acc metric only\n",
    "        correct = 0\n",
    "        total = 0\n",
    "        for X_batch, y_batch in train_loader:\n",
    "            X_batch, y_batch = X_batch.to(device), y_batch.to(device)\n",
    "            optimizer.zero_grad()\n",
    "            outputs = model(X_batch)\n",
    "            loss = criterion(outputs, y_batch)\n",
    "            loss.backward()\n",
    "            optimizer.step()\n",
    "            running_loss += loss.item() * X_batch.size(0)\n",
    "\n",
    "            # Calculate training accuracy\n",
    "            y_pred_classes = (torch.sigmoid(outputs) >= 0.5).float()\n",
    "            total += y_batch.size(0)\n",
    "            correct += (y_pred_classes == y_batch).sum().item()\n",
    "\n",
    "        epoch_loss = running_loss / len(train_loader.dataset)\n",
    "        epoch_acc = correct / total if total > 0 else 0\n",
    "        test_loss, test_accuracy = evaluate_model(model, test_loader, criterion)\n",
    "\n",
    "        # Store the metrics in the history dictionary\n",
    "        history[\"train_loss\"].append(epoch_loss)\n",
    "        history[\"train_accuracy\"].append(epoch_acc)\n",
    "        history[f\"{dataset}_loss\"].append(test_loss)\n",
    "        history[f\"{dataset}_accuracy\"].append(test_accuracy)\n",
    "\n",
    "        # Log progress\n",
    "        max_digits = len(str(epochs))\n",
    "        logging.debug(\n",
    "            f\"E[{+epoch+1:>{max_digits}d}/{epochs}] \"\n",
    "            f\"| train {epoch_loss:.4f} ({epoch_acc:.1%}) \"\n",
    "            f\"· {dataset} {test_loss:.4f} ({test_accuracy:.1%})\"\n",
    "        )\n",
    "\n",
    "    return history\n",
    "\n",
    "\n",
    "def evaluate_model(\n",
    "    model: nn.Module,\n",
    "    test_loader: DataLoader,\n",
    "    criterion: nn.modules.loss._Loss,\n",
    ") -> tuple[float, float]:\n",
    "    model.eval()\n",
    "    total_loss = 0.0\n",
    "    correct = 0\n",
    "    total = 0\n",
    "    with torch.inference_mode():\n",
    "        for X_batch, y_batch in test_loader:\n",
    "            X_batch, y_batch = X_batch.to(device), y_batch.to(device)\n",
    "            y_pred_logits = model(X_batch)\n",
    "            loss = criterion(y_pred_logits, y_batch)\n",
    "            total_loss += loss.item() * X_batch.size(0)\n",
    "            # Metric here is acc\n",
    "            y_pred_classes = (torch.sigmoid(y_pred_logits) >= 0.5).float()\n",
    "            total += y_batch.size(0)\n",
    "            correct += (y_pred_classes == y_batch).sum().item()\n",
    "\n",
    "    average_loss = total_loss / total if total > 0 else 0\n",
    "    accuracy = correct / total if total > 0 else 0\n",
    "    return average_loss, accuracy\n"
   ]
  },
  {
   "cell_type": "code",
   "execution_count": 107,
   "metadata": {},
   "outputs": [
    {
     "name": "stdout",
     "output_type": "stream",
     "text": [
      "16:03:53 | \u001b[36mDEBUG   \u001b[0m| root | E[ 1/50] | train 0.0467 (96.9%) · test 0.0001 (100.0%)\n",
      "16:03:53 | \u001b[36mDEBUG   \u001b[0m| root | E[ 2/50] | train 0.0000 (100.0%) · test 0.0000 (100.0%)\n",
      "16:03:54 | \u001b[36mDEBUG   \u001b[0m| root | E[ 3/50] | train 0.0000 (100.0%) · test 0.0000 (100.0%)\n",
      "16:03:54 | \u001b[36mDEBUG   \u001b[0m| root | E[ 4/50] | train 0.0000 (100.0%) · test 0.0000 (100.0%)\n",
      "16:03:54 | \u001b[36mDEBUG   \u001b[0m| root | E[ 5/50] | train 0.0000 (100.0%) · test 0.0000 (100.0%)\n",
      "16:03:54 | \u001b[36mDEBUG   \u001b[0m| root | E[ 6/50] | train 0.0000 (100.0%) · test 0.0000 (100.0%)\n",
      "16:03:55 | \u001b[36mDEBUG   \u001b[0m| root | E[ 7/50] | train 0.0000 (100.0%) · test 0.0000 (100.0%)\n",
      "16:03:55 | \u001b[36mDEBUG   \u001b[0m| root | E[ 8/50] | train 0.0000 (100.0%) · test 0.0000 (100.0%)\n",
      "16:03:55 | \u001b[36mDEBUG   \u001b[0m| root | E[ 9/50] | train 0.0000 (100.0%) · test 0.0000 (100.0%)\n",
      "16:03:55 | \u001b[36mDEBUG   \u001b[0m| root | E[10/50] | train 0.0000 (100.0%) · test 0.0000 (100.0%)\n",
      "16:03:55 | \u001b[36mDEBUG   \u001b[0m| root | E[11/50] | train 0.0000 (100.0%) · test 0.0000 (100.0%)\n",
      "16:03:56 | \u001b[36mDEBUG   \u001b[0m| root | E[12/50] | train 0.0000 (100.0%) · test 0.0000 (100.0%)\n",
      "16:03:56 | \u001b[36mDEBUG   \u001b[0m| root | E[13/50] | train 0.0000 (100.0%) · test 0.0000 (100.0%)\n",
      "16:03:56 | \u001b[36mDEBUG   \u001b[0m| root | E[14/50] | train 0.0000 (100.0%) · test 0.0000 (100.0%)\n",
      "16:03:56 | \u001b[36mDEBUG   \u001b[0m| root | E[15/50] | train 0.0000 (100.0%) · test 0.0000 (100.0%)\n",
      "16:03:57 | \u001b[36mDEBUG   \u001b[0m| root | E[16/50] | train 0.0000 (100.0%) · test 0.0000 (100.0%)\n",
      "16:03:57 | \u001b[36mDEBUG   \u001b[0m| root | E[17/50] | train 0.0000 (100.0%) · test 0.0000 (100.0%)\n",
      "16:03:57 | \u001b[36mDEBUG   \u001b[0m| root | E[18/50] | train 0.0000 (100.0%) · test 0.0000 (100.0%)\n",
      "16:03:57 | \u001b[36mDEBUG   \u001b[0m| root | E[19/50] | train 0.0000 (100.0%) · test 0.0000 (100.0%)\n",
      "16:03:58 | \u001b[36mDEBUG   \u001b[0m| root | E[20/50] | train 0.0000 (100.0%) · test 0.0000 (100.0%)\n",
      "16:03:58 | \u001b[36mDEBUG   \u001b[0m| root | E[21/50] | train 0.0000 (100.0%) · test 0.0000 (100.0%)\n",
      "16:03:58 | \u001b[36mDEBUG   \u001b[0m| root | E[22/50] | train 0.0000 (100.0%) · test 0.0000 (100.0%)\n",
      "16:03:58 | \u001b[36mDEBUG   \u001b[0m| root | E[23/50] | train 0.0000 (100.0%) · test 0.0000 (100.0%)\n",
      "16:03:58 | \u001b[36mDEBUG   \u001b[0m| root | E[24/50] | train 0.0000 (100.0%) · test 0.0000 (100.0%)\n",
      "16:03:59 | \u001b[36mDEBUG   \u001b[0m| root | E[25/50] | train 0.0000 (100.0%) · test 0.0000 (100.0%)\n",
      "16:03:59 | \u001b[36mDEBUG   \u001b[0m| root | E[26/50] | train 0.0000 (100.0%) · test 0.0000 (100.0%)\n",
      "16:03:59 | \u001b[36mDEBUG   \u001b[0m| root | E[27/50] | train 0.0000 (100.0%) · test 0.0000 (100.0%)\n",
      "16:03:59 | \u001b[36mDEBUG   \u001b[0m| root | E[28/50] | train 0.0000 (100.0%) · test 0.0000 (100.0%)\n",
      "16:04:00 | \u001b[36mDEBUG   \u001b[0m| root | E[29/50] | train 0.0000 (100.0%) · test 0.0000 (100.0%)\n",
      "16:04:00 | \u001b[36mDEBUG   \u001b[0m| root | E[30/50] | train 0.0000 (100.0%) · test 0.0000 (100.0%)\n",
      "16:04:00 | \u001b[36mDEBUG   \u001b[0m| root | E[31/50] | train 0.0000 (100.0%) · test 0.0000 (100.0%)\n",
      "16:04:00 | \u001b[36mDEBUG   \u001b[0m| root | E[32/50] | train 0.0000 (100.0%) · test 0.0000 (100.0%)\n",
      "16:04:01 | \u001b[36mDEBUG   \u001b[0m| root | E[33/50] | train 0.0000 (100.0%) · test 0.0000 (100.0%)\n",
      "16:04:01 | \u001b[36mDEBUG   \u001b[0m| root | E[34/50] | train 0.0000 (100.0%) · test 0.0000 (100.0%)\n",
      "16:04:01 | \u001b[36mDEBUG   \u001b[0m| root | E[35/50] | train 0.0000 (100.0%) · test 0.0000 (100.0%)\n",
      "16:04:01 | \u001b[36mDEBUG   \u001b[0m| root | E[36/50] | train 0.0000 (100.0%) · test 0.0000 (100.0%)\n",
      "16:04:01 | \u001b[36mDEBUG   \u001b[0m| root | E[37/50] | train 0.0000 (100.0%) · test 0.0000 (100.0%)\n",
      "16:04:02 | \u001b[36mDEBUG   \u001b[0m| root | E[38/50] | train 0.0000 (100.0%) · test 0.0000 (100.0%)\n",
      "16:04:02 | \u001b[36mDEBUG   \u001b[0m| root | E[39/50] | train 0.0000 (100.0%) · test 0.0000 (100.0%)\n",
      "16:04:02 | \u001b[36mDEBUG   \u001b[0m| root | E[40/50] | train 0.0000 (100.0%) · test 0.0000 (100.0%)\n",
      "16:04:02 | \u001b[36mDEBUG   \u001b[0m| root | E[41/50] | train 0.0000 (100.0%) · test 0.0000 (100.0%)\n",
      "16:04:03 | \u001b[36mDEBUG   \u001b[0m| root | E[42/50] | train 0.0000 (100.0%) · test 0.0000 (100.0%)\n",
      "16:04:03 | \u001b[36mDEBUG   \u001b[0m| root | E[43/50] | train 0.0000 (100.0%) · test 0.0000 (100.0%)\n",
      "16:04:03 | \u001b[36mDEBUG   \u001b[0m| root | E[44/50] | train 0.0000 (100.0%) · test 0.0000 (100.0%)\n",
      "16:04:03 | \u001b[36mDEBUG   \u001b[0m| root | E[45/50] | train 0.0000 (100.0%) · test 0.0000 (100.0%)\n",
      "16:04:04 | \u001b[36mDEBUG   \u001b[0m| root | E[46/50] | train 0.0000 (100.0%) · test 0.0000 (100.0%)\n",
      "16:04:04 | \u001b[36mDEBUG   \u001b[0m| root | E[47/50] | train 0.0000 (100.0%) · test 0.0000 (100.0%)\n",
      "16:04:04 | \u001b[36mDEBUG   \u001b[0m| root | E[48/50] | train 0.0000 (100.0%) · test 0.0000 (100.0%)\n",
      "16:04:04 | \u001b[36mDEBUG   \u001b[0m| root | E[49/50] | train 0.0000 (100.0%) · test 0.0000 (100.0%)\n",
      "16:04:04 | \u001b[36mDEBUG   \u001b[0m| root | E[50/50] | train 0.0000 (100.0%) · test 0.0000 (100.0%)\n"
     ]
    }
   ],
   "source": [
    "lr = 1e-3\n",
    "epochs = 50\n",
    "model = MLP(\n",
    "    input_size=X.shape[2] * X.shape[1],  # 2D input or something TODO FIXME\n",
    "    hidden_size=2048,\n",
    ").to(device)\n",
    "criterion = nn.BCEWithLogitsLoss()\n",
    "optimizer = optim.Adam(model.parameters(), lr=lr)\n",
    "\n",
    "history = train_model(\n",
    "    model,\n",
    "    train_loader,\n",
    "    test_loader,\n",
    "    criterion,\n",
    "    optimizer,\n",
    "    epochs=epochs,\n",
    "    is_test=True,\n",
    ")"
   ]
  },
  {
   "cell_type": "code",
   "execution_count": 108,
   "metadata": {},
   "outputs": [
    {
     "data": {
      "image/png": "[encoded data removed]",
      "text/plain": [
       "<Figure size 1500x300 with 2 Axes>"
      ]
     },
     "metadata": {},
     "output_type": "display_data"
    }
   ],
   "source": [
    "plt.figure(figsize=(15, 3))\n",
    "\n",
    "plt.subplot(1, 3, 1)\n",
    "plt.plot(history[\"train_loss\"], label=\"Training Loss\")\n",
    "plt.plot(history[\"test_loss\"], label=\"Test Loss\")\n",
    "plt.xlabel(\"Epoch\")\n",
    "plt.ylabel(\"Loss\")\n",
    "plt.legend()\n",
    "\n",
    "plt.subplot(1, 3, 2)\n",
    "plt.plot(history[\"train_accuracy\"], label=\"Training Accuracy\")\n",
    "plt.plot(history[\"test_accuracy\"], label=\"Test Accuracy\")\n",
    "plt.xlabel(\"Epoch\")\n",
    "plt.ylabel(\"Accuracy\")\n",
    "plt.legend()\n",
    "\n",
    "plt.tight_layout()\n",
    "plt.show()"
   ]
  },
  {
   "cell_type": "code",
   "execution_count": 79,
   "metadata": {},
   "outputs": [
    {
     "data": {
      "image/png": "[encoded data removed]",
      "text/plain": [
       "<Figure size 800x600 with 2 Axes>"
      ]
     },
     "metadata": {},
     "output_type": "display_data"
    }
   ],
   "source": [
    "def get_confusion_matrix(\n",
    "    model: nn.Module,\n",
    "    test_loader: DataLoader,\n",
    "    threshold: float = 0.5,\n",
    ") -> np.ndarray:\n",
    "    \"\"\"\n",
    "    Calculate confusion matrix for binary classification.\n",
    "    Returns a 2x2 numpy array where:\n",
    "    [0,0] = TN, [0,1] = FP\n",
    "    [1,0] = FN, [1,1] = TP\n",
    "    \"\"\"\n",
    "    model.eval()\n",
    "    y_true = []\n",
    "    y_pred = []\n",
    "\n",
    "    with torch.inference_mode():\n",
    "        for X_batch, y_batch in test_loader:\n",
    "            X_batch = X_batch.to(device)\n",
    "            outputs = model(X_batch)\n",
    "            y_pred_batch = (torch.sigmoid(outputs) >= threshold).cpu().numpy()\n",
    "            y_true.extend(y_batch.numpy())\n",
    "            y_pred.extend(y_pred_batch)\n",
    "\n",
    "    return confusion_matrix(y_true, y_pred)\n",
    "\n",
    "\n",
    "def plot_confusion_matrix(conf_matrix: np.ndarray) -> None:\n",
    "    plt.figure(figsize=(8, 6))\n",
    "    sns.heatmap(\n",
    "        conf_matrix,\n",
    "        annot=True,\n",
    "        fmt=\"d\",\n",
    "        cmap=\"Blues\",\n",
    "        xticklabels=[\"Negative\", \"Positive\"],\n",
    "        yticklabels=[\"Negative\", \"Positive\"],\n",
    "    )\n",
    "    plt.title(\"Confusion Matrix\")\n",
    "    plt.ylabel(\"True Label\")\n",
    "    plt.xlabel(\"Predicted Label\")\n",
    "    plt.show()\n",
    "\n",
    "\n",
    "conf_matrix = get_confusion_matrix(\n",
    "    model,\n",
    "    test_loader,\n",
    "    threshold=0.5,\n",
    ")\n",
    "plot_confusion_matrix(conf_matrix)"
   ]
  },
  {
   "cell_type": "code",
   "execution_count": null,
   "metadata": {},
   "outputs": [],
   "source": []
  }
 ],
 "metadata": {
  "kernelspec": {
   "display_name": "pain",
   "language": "python",
   "name": "python3"
  },
  "language_info": {
   "codemirror_mode": {
    "name": "ipython",
    "version": 3
   },
   "file_extension": ".py",
   "mimetype": "text/x-python",
   "name": "python",
   "nbconvert_exporter": "python",
   "pygments_lexer": "ipython3",
   "version": "3.12.4"
  }
 },
 "nbformat": 4,
 "nbformat_minor": 2
}
