{
 "cells": [
  {
   "cell_type": "code",
   "execution_count": 18,
   "metadata": {},
   "outputs": [],
   "source": [
    "%%capture\n",
    "from pathlib import Path\n",
    "\n",
    "if Path.cwd().stem == \"models\":\n",
    "    %cd ../..\n",
    "    %load_ext autoreload\n",
    "    %autoreload 2"
   ]
  },
  {
   "cell_type": "code",
   "execution_count": 19,
   "metadata": {},
   "outputs": [],
   "source": [
    "import logging\n",
    "from pathlib import Path\n",
    "\n",
    "import holoviews as hv\n",
    "import hvplot.polars  # noqa\n",
    "import matplotlib.pyplot as plt\n",
    "import numpy as np\n",
    "import optuna\n",
    "import polars as pl\n",
    "import seaborn as sns\n",
    "import torch\n",
    "import torch.nn as nn\n",
    "import torch.optim as optim\n",
    "from icecream import ic\n",
    "from polars import col\n",
    "from sklearn.metrics import confusion_matrix\n",
    "from sklearn.model_selection import (\n",
    "    GroupShuffleSplit,\n",
    "    train_test_split,\n",
    ")\n",
    "from torch.utils.data import DataLoader, TensorDataset\n",
    "\n",
    "from src.data.database_manager import DatabaseManager\n",
    "from src.features.utils import to_describe\n",
    "from src.log_config import configure_logging\n",
    "from src.models.utils import StandardScaler3D\n",
    "\n",
    "configure_logging(\n",
    "    stream_level=logging.DEBUG,\n",
    "    ignore_libs=[\"matplotlib\", \"Comm\", \"bokeh\", \"tornado\"],\n",
    ")\n",
    "\n",
    "pl.Config.set_tbl_rows(12)  # for the 12 trials\n",
    "hv.output(widget_location=\"bottom\", size=130)\n",
    "\n",
    "db = DatabaseManager()"
   ]
  },
  {
   "cell_type": "code",
   "execution_count": 20,
   "metadata": {},
   "outputs": [],
   "source": [
    "with db:\n",
    "    labels = db.get_table(\"Labels\")\n",
    "    eda = db.get_table(\"Feature_EDA\")"
   ]
  },
  {
   "cell_type": "code",
   "execution_count": 21,
   "metadata": {},
   "outputs": [
    {
     "data": {
      "application/vnd.jupyter.widget-view+json": {
       "model_id": "ba25e1cf0bf5422195b5cc19ccbcbdf4",
       "version_major": 2,
       "version_minor": 0
      },
      "text/plain": [
       "BokehModel(combine_events=True, render_bundle={'docs_json': {'daec3a13-4a95-4a08-ae1d-0478f2754b9c': {'version…"
      ]
     },
     "execution_count": 21,
     "metadata": {},
     "output_type": "execute_result"
    }
   ],
   "source": [
    "eda.hvplot(x=\"timestamp\", y=[\"eda_raw\"], groupby=\"trial_id\", width=800, height=400)"
   ]
  },
  {
   "cell_type": "code",
   "execution_count": 22,
   "metadata": {},
   "outputs": [
    {
     "data": {
      "text/html": [
       "<div><style>\n",
       ".dataframe > thead > tr,\n",
       ".dataframe > tbody > tr {\n",
       "  text-align: right;\n",
       "  white-space: pre-wrap;\n",
       "}\n",
       "</style>\n",
       "<small>shape: (133_302, 18)</small><table border=\"1\" class=\"dataframe\"><thead><tr><th>trial_id</th><th>trial_number</th><th>participant_id</th><th>rownumber</th><th>timestamp</th><th>temperature</th><th>rating</th><th>stimulus_seed</th><th>skin_area</th><th>normalized_timestamp</th><th>decreasing_intervals</th><th>major_decreasing_intervals</th><th>increasing_intervals</th><th>plateau_intervals</th><th>prolonged_minima_intervals</th><th>strictly_increasing_intervals</th><th>normalized_timestamp_increases</th><th>normalized_timestamp_decreases</th></tr><tr><td>u16</td><td>u8</td><td>u8</td><td>u32</td><td>f64</td><td>f64</td><td>f64</td><td>u16</td><td>u8</td><td>f64</td><td>u16</td><td>u16</td><td>u16</td><td>u16</td><td>u16</td><td>u16</td><td>f64</td><td>f64</td></tr></thead><tbody><tr><td>1</td><td>1</td><td>1</td><td>320</td><td>326250.8398</td><td>0.80056</td><td>0.83375</td><td>396</td><td>1</td><td>32026.5088</td><td>1</td><td>0</td><td>0</td><td>0</td><td>0</td><td>0</td><td>null</td><td>0.0</td></tr><tr><td>1</td><td>1</td><td>1</td><td>321</td><td>326351.5703</td><td>0.800524</td><td>0.83375</td><td>396</td><td>1</td><td>32127.2393</td><td>1</td><td>0</td><td>0</td><td>0</td><td>0</td><td>0</td><td>null</td><td>100.7305</td></tr><tr><td>1</td><td>1</td><td>1</td><td>322</td><td>326453.3964</td><td>0.800415</td><td>0.8375</td><td>396</td><td>1</td><td>32229.0654</td><td>1</td><td>0</td><td>0</td><td>0</td><td>0</td><td>0</td><td>null</td><td>202.5566</td></tr><tr><td>1</td><td>1</td><td>1</td><td>323</td><td>326551.3829</td><td>0.800232</td><td>0.83875</td><td>396</td><td>1</td><td>32327.0519</td><td>1</td><td>0</td><td>0</td><td>0</td><td>0</td><td>0</td><td>null</td><td>300.5431</td></tr><tr><td>1</td><td>1</td><td>1</td><td>324</td><td>326651.1161</td><td>0.799977</td><td>0.83875</td><td>396</td><td>1</td><td>32426.7851</td><td>1</td><td>0</td><td>0</td><td>0</td><td>0</td><td>0</td><td>null</td><td>400.2763</td></tr><tr><td>1</td><td>1</td><td>1</td><td>325</td><td>326751.5133</td><td>0.799649</td><td>0.83875</td><td>396</td><td>1</td><td>32527.1823</td><td>1</td><td>0</td><td>0</td><td>0</td><td>0</td><td>0</td><td>null</td><td>500.6735</td></tr><tr><td>&hellip;</td><td>&hellip;</td><td>&hellip;</td><td>&hellip;</td><td>&hellip;</td><td>&hellip;</td><td>&hellip;</td><td>&hellip;</td><td>&hellip;</td><td>&hellip;</td><td>&hellip;</td><td>&hellip;</td><td>&hellip;</td><td>&hellip;</td><td>&hellip;</td><td>&hellip;</td><td>&hellip;</td><td>&hellip;</td></tr><tr><td>332</td><td>12</td><td>28</td><td>21586</td><td>2.7746e6</td><td>0.25889</td><td>0.80625</td><td>133</td><td>1</td><td>177496.8039</td><td>1660</td><td>0</td><td>0</td><td>0</td><td>0</td><td>0</td><td>null</td><td>4403.8851</td></tr><tr><td>332</td><td>12</td><td>28</td><td>21587</td><td>2.7747e6</td><td>0.251239</td><td>0.80625</td><td>133</td><td>1</td><td>177596.5374</td><td>1660</td><td>0</td><td>0</td><td>0</td><td>0</td><td>0</td><td>null</td><td>4503.6186</td></tr><tr><td>332</td><td>12</td><td>28</td><td>21588</td><td>2.7748e6</td><td>0.243786</td><td>0.81375</td><td>133</td><td>1</td><td>177698.2663</td><td>1660</td><td>0</td><td>0</td><td>0</td><td>0</td><td>0</td><td>null</td><td>4605.3475</td></tr><tr><td>332</td><td>12</td><td>28</td><td>21589</td><td>2.7749e6</td><td>0.236547</td><td>0.81875</td><td>133</td><td>1</td><td>177797.9995</td><td>1660</td><td>0</td><td>0</td><td>0</td><td>0</td><td>0</td><td>null</td><td>4705.0807</td></tr><tr><td>332</td><td>12</td><td>28</td><td>21590</td><td>2.7750e6</td><td>0.229537</td><td>0.82375</td><td>133</td><td>1</td><td>177896.7354</td><td>1660</td><td>0</td><td>0</td><td>0</td><td>0</td><td>0</td><td>null</td><td>4803.8166</td></tr><tr><td>332</td><td>12</td><td>28</td><td>21591</td><td>2.7751e6</td><td>0.22277</td><td>0.83375</td><td>133</td><td>1</td><td>177996.4688</td><td>1660</td><td>0</td><td>0</td><td>0</td><td>0</td><td>0</td><td>null</td><td>4903.55</td></tr></tbody></table></div>"
      ],
      "text/plain": [
       "shape: (133_302, 18)\n",
       "┌──────────┬───────────┬───────────┬───────────┬───┬───────────┬───────────┬───────────┬───────────┐\n",
       "│ trial_id ┆ trial_num ┆ participa ┆ rownumber ┆ … ┆ prolonged ┆ strictly_ ┆ normalize ┆ normalize │\n",
       "│ ---      ┆ ber       ┆ nt_id     ┆ ---       ┆   ┆ _minima_i ┆ increasin ┆ d_timesta ┆ d_timesta │\n",
       "│ u16      ┆ ---       ┆ ---       ┆ u32       ┆   ┆ ntervals  ┆ g_interva ┆ mp_increa ┆ mp_decrea │\n",
       "│          ┆ u8        ┆ u8        ┆           ┆   ┆ ---       ┆ ls        ┆ ses       ┆ ses       │\n",
       "│          ┆           ┆           ┆           ┆   ┆ u16       ┆ ---       ┆ ---       ┆ ---       │\n",
       "│          ┆           ┆           ┆           ┆   ┆           ┆ u16       ┆ f64       ┆ f64       │\n",
       "╞══════════╪═══════════╪═══════════╪═══════════╪═══╪═══════════╪═══════════╪═══════════╪═══════════╡\n",
       "│ 1        ┆ 1         ┆ 1         ┆ 320       ┆ … ┆ 0         ┆ 0         ┆ null      ┆ 0.0       │\n",
       "│ 1        ┆ 1         ┆ 1         ┆ 321       ┆ … ┆ 0         ┆ 0         ┆ null      ┆ 100.7305  │\n",
       "│ 1        ┆ 1         ┆ 1         ┆ 322       ┆ … ┆ 0         ┆ 0         ┆ null      ┆ 202.5566  │\n",
       "│ 1        ┆ 1         ┆ 1         ┆ 323       ┆ … ┆ 0         ┆ 0         ┆ null      ┆ 300.5431  │\n",
       "│ 1        ┆ 1         ┆ 1         ┆ 324       ┆ … ┆ 0         ┆ 0         ┆ null      ┆ 400.2763  │\n",
       "│ 1        ┆ 1         ┆ 1         ┆ 325       ┆ … ┆ 0         ┆ 0         ┆ null      ┆ 500.6735  │\n",
       "│ …        ┆ …         ┆ …         ┆ …         ┆ … ┆ …         ┆ …         ┆ …         ┆ …         │\n",
       "│ 332      ┆ 12        ┆ 28        ┆ 21586     ┆ … ┆ 0         ┆ 0         ┆ null      ┆ 4403.8851 │\n",
       "│ 332      ┆ 12        ┆ 28        ┆ 21587     ┆ … ┆ 0         ┆ 0         ┆ null      ┆ 4503.6186 │\n",
       "│ 332      ┆ 12        ┆ 28        ┆ 21588     ┆ … ┆ 0         ┆ 0         ┆ null      ┆ 4605.3475 │\n",
       "│ 332      ┆ 12        ┆ 28        ┆ 21589     ┆ … ┆ 0         ┆ 0         ┆ null      ┆ 4705.0807 │\n",
       "│ 332      ┆ 12        ┆ 28        ┆ 21590     ┆ … ┆ 0         ┆ 0         ┆ null      ┆ 4803.8166 │\n",
       "│ 332      ┆ 12        ┆ 28        ┆ 21591     ┆ … ┆ 0         ┆ 0         ┆ null      ┆ 4903.55   │\n",
       "└──────────┴───────────┴───────────┴───────────┴───┴───────────┴───────────┴───────────┴───────────┘"
      ]
     },
     "execution_count": 22,
     "metadata": {},
     "output_type": "execute_result"
    }
   ],
   "source": [
    "labels = labels.with_columns(\n",
    "    # Add time counter for decreases and strictly increases\n",
    "    (\n",
    "        pl.when(col(\"strictly_increasing_intervals\") != 0)\n",
    "        .then(\n",
    "            col(\"timestamp\")\n",
    "            - col(\"timestamp\").min().over(\"strictly_increasing_intervals\")\n",
    "        )\n",
    "        .otherwise(None)\n",
    "    ).alias(\"normalized_timestamp_increases\"),\n",
    "    (\n",
    "        pl.when(col(\"decreasing_intervals\") != 0)\n",
    "        .then(col(\"timestamp\") - col(\"timestamp\").min().over(\"decreasing_intervals\"))\n",
    "        .otherwise(None)\n",
    "    ).alias(\"normalized_timestamp_decreases\"),\n",
    "    # Only keep the first 5 seconds\n",
    ").filter(\n",
    "    (col(\"normalized_timestamp_increases\") < 5000)\n",
    "    | (col(\"normalized_timestamp_decreases\") < 5000)\n",
    ")\n",
    "labels"
   ]
  },
  {
   "cell_type": "code",
   "execution_count": 23,
   "metadata": {},
   "outputs": [],
   "source": [
    "# Split data into decreasing and increasing intervals to add labels and sample ids\n",
    "decreases = labels.filter(\n",
    "    col(\"normalized_timestamp_decreases\").is_not_null()\n",
    ").with_columns(\n",
    "    pl.lit(1).alias(\"label\").cast(pl.UInt8),\n",
    "    col(\"decreasing_intervals\").alias(\"sample_id\"),\n",
    ")"
   ]
  },
  {
   "cell_type": "code",
   "execution_count": 24,
   "metadata": {},
   "outputs": [],
   "source": [
    "increases = labels.filter(\n",
    "    col(\"normalized_timestamp_increases\").is_not_null()\n",
    ").with_columns(\n",
    "    pl.lit(0).alias(\"label\").cast(pl.UInt8),\n",
    "    (\n",
    "        col(\"strictly_increasing_intervals\")\n",
    "        + (decreases.select(pl.last(\"decreasing_intervals\")))  # continue from decreases\n",
    "    ).alias(\"sample_id\"),\n",
    ")"
   ]
  },
  {
   "cell_type": "code",
   "execution_count": 25,
   "metadata": {},
   "outputs": [],
   "source": [
    "# Join the two tables\n",
    "labels = decreases.vstack(increases).sort(\"sample_id\", \"timestamp\")"
   ]
  },
  {
   "cell_type": "code",
   "execution_count": 26,
   "metadata": {},
   "outputs": [
    {
     "data": {
      "text/plain": [
       "(132800, 132796)"
      ]
     },
     "execution_count": 26,
     "metadata": {},
     "output_type": "execute_result"
    }
   ],
   "source": [
    "# Normalize the data\n",
    "ROWS_PER_SAMPLE = 50\n",
    "\n",
    "labels = (\n",
    "    labels.sort([\"sample_id\"])  # Sort within each group if needed\n",
    "    .group_by(\"sample_id\", maintain_order=True)\n",
    "    .agg(pl.all().head(ROWS_PER_SAMPLE))\n",
    "    .explode(pl.all().exclude(\"sample_id\"))  # Explode the result back into rows\n",
    ")\n",
    "\n",
    "labels.select(pl.last(\"sample_id\")).item() * ROWS_PER_SAMPLE, labels.height"
   ]
  },
  {
   "cell_type": "code",
   "execution_count": 27,
   "metadata": {},
   "outputs": [
    {
     "name": "stdout",
     "output_type": "stream",
     "text": [
      "15:42:17 | \u001b[36mDEBUG   \u001b[0m| root | Normalizing to equal 50 rows per sample was not successful for the following samples: [1310, 2143, 2428, 2641]\n"
     ]
    }
   ],
   "source": [
    "# Sanity check\n",
    "if not labels.height == labels.select(pl.last(\"sample_id\")).item() * ROWS_PER_SAMPLE:\n",
    "    affected_samples = []\n",
    "    for sample_id, group in labels.group_by(\"sample_id\", maintain_order=True):\n",
    "        if group.height < ROWS_PER_SAMPLE or group.height > ROWS_PER_SAMPLE:\n",
    "            affected_samples.append(sample_id[0])  # sample_id is a tuple\n",
    "logging.debug(\n",
    "    f\"Normalizing to equal {ROWS_PER_SAMPLE} rows per sample was not successful for the following samples: {affected_samples}\"\n",
    ")\n",
    "labels = labels.filter(~col(\"sample_id\").is_in(affected_samples))"
   ]
  },
  {
   "cell_type": "code",
   "execution_count": 28,
   "metadata": {},
   "outputs": [
    {
     "data": {
      "text/html": [
       "<div><style>\n",
       ".dataframe > thead > tr,\n",
       ".dataframe > tbody > tr {\n",
       "  text-align: right;\n",
       "  white-space: pre-wrap;\n",
       "}\n",
       "</style>\n",
       "<small>shape: (132_600, 4)</small><table border=\"1\" class=\"dataframe\"><thead><tr><th>sample_id</th><th>participant_id</th><th>rating</th><th>label</th></tr><tr><td>u16</td><td>u8</td><td>f64</td><td>u8</td></tr></thead><tbody><tr><td>1</td><td>1</td><td>0.83375</td><td>1</td></tr><tr><td>1</td><td>1</td><td>0.83375</td><td>1</td></tr><tr><td>1</td><td>1</td><td>0.8375</td><td>1</td></tr><tr><td>1</td><td>1</td><td>0.83875</td><td>1</td></tr><tr><td>1</td><td>1</td><td>0.83875</td><td>1</td></tr><tr><td>1</td><td>1</td><td>0.83875</td><td>1</td></tr><tr><td>&hellip;</td><td>&hellip;</td><td>&hellip;</td><td>&hellip;</td></tr><tr><td>2656</td><td>28</td><td>0.66375</td><td>0</td></tr><tr><td>2656</td><td>28</td><td>0.6675</td><td>0</td></tr><tr><td>2656</td><td>28</td><td>0.6675</td><td>0</td></tr><tr><td>2656</td><td>28</td><td>0.66875</td><td>0</td></tr><tr><td>2656</td><td>28</td><td>0.67</td><td>0</td></tr><tr><td>2656</td><td>28</td><td>0.67</td><td>0</td></tr></tbody></table></div>"
      ],
      "text/plain": [
       "shape: (132_600, 4)\n",
       "┌───────────┬────────────────┬─────────┬───────┐\n",
       "│ sample_id ┆ participant_id ┆ rating  ┆ label │\n",
       "│ ---       ┆ ---            ┆ ---     ┆ ---   │\n",
       "│ u16       ┆ u8             ┆ f64     ┆ u8    │\n",
       "╞═══════════╪════════════════╪═════════╪═══════╡\n",
       "│ 1         ┆ 1              ┆ 0.83375 ┆ 1     │\n",
       "│ 1         ┆ 1              ┆ 0.83375 ┆ 1     │\n",
       "│ 1         ┆ 1              ┆ 0.8375  ┆ 1     │\n",
       "│ 1         ┆ 1              ┆ 0.83875 ┆ 1     │\n",
       "│ 1         ┆ 1              ┆ 0.83875 ┆ 1     │\n",
       "│ 1         ┆ 1              ┆ 0.83875 ┆ 1     │\n",
       "│ …         ┆ …              ┆ …       ┆ …     │\n",
       "│ 2656      ┆ 28             ┆ 0.66375 ┆ 0     │\n",
       "│ 2656      ┆ 28             ┆ 0.6675  ┆ 0     │\n",
       "│ 2656      ┆ 28             ┆ 0.6675  ┆ 0     │\n",
       "│ 2656      ┆ 28             ┆ 0.66875 ┆ 0     │\n",
       "│ 2656      ┆ 28             ┆ 0.67    ┆ 0     │\n",
       "│ 2656      ┆ 28             ┆ 0.67    ┆ 0     │\n",
       "└───────────┴────────────────┴─────────┴───────┘"
      ]
     },
     "execution_count": 28,
     "metadata": {},
     "output_type": "execute_result"
    }
   ],
   "source": [
    "labels = labels.select(\n",
    "    \"sample_id\",\n",
    "    \"participant_id\",\n",
    "    \"rating\",\n",
    "    \"label\",\n",
    ")\n",
    "labels"
   ]
  },
  {
   "cell_type": "code",
   "execution_count": 29,
   "metadata": {},
   "outputs": [],
   "source": [
    "# x has the dimensions (samples, time steps, features)\n",
    "X = labels.group_by(\"sample_id\").agg(\"rating\").get_column(\"rating\").to_numpy()\n",
    "# reshaping the array\n",
    "# NOTE: for univariate data right now, need to be adapted for multivariate\n",
    "X = np.vstack(X)\n",
    "X = np.expand_dims(X, axis=2)\n",
    "y = (\n",
    "    labels.group_by(\"sample_id\")\n",
    "    .agg((col(\"label\").first()))\n",
    "    .get_column(\"label\")\n",
    "    .to_numpy()\n",
    ")\n",
    "groups = (\n",
    "    labels.group_by(\"sample_id\")\n",
    "    .agg((col(\"participant_id\").first()))\n",
    "    .get_column(\"participant_id\")\n",
    "    .to_numpy()\n",
    ")"
   ]
  },
  {
   "cell_type": "code",
   "execution_count": 30,
   "metadata": {},
   "outputs": [],
   "source": [
    "# np.save(\"data/x.npy\", x)\n",
    "# np.save(\"data/y.npy\", y)\n",
    "# np.save(\"data/groups.npy\", groups)"
   ]
  },
  {
   "cell_type": "code",
   "execution_count": 31,
   "metadata": {},
   "outputs": [],
   "source": [
    "# Create a single train-test split while respecting group structure in the data\n",
    "splitter = GroupShuffleSplit(n_splits=1, test_size=0.5, random_state=42)\n",
    "train_idx, test_idx = next(splitter.split(X, y, groups=groups))\n",
    "X_train, y_train = X[train_idx], y[train_idx]\n",
    "X_test, y_test = X[test_idx], y[test_idx]\n"
   ]
  },
  {
   "cell_type": "code",
   "execution_count": null,
   "metadata": {},
   "outputs": [],
   "source": []
  },
  {
   "cell_type": "code",
   "execution_count": null,
   "metadata": {},
   "outputs": [],
   "source": []
  },
  {
   "cell_type": "code",
   "execution_count": 32,
   "metadata": {},
   "outputs": [
    {
     "name": "stdout",
     "output_type": "stream",
     "text": [
      "15:42:17 | \u001b[36mDEBUG   \u001b[0m| root | Using device: mps\n"
     ]
    }
   ],
   "source": [
    "device = (\n",
    "    torch.device(\"cuda\")\n",
    "    if torch.cuda.is_available()\n",
    "    else torch.device(\"mps\")\n",
    "    if torch.backends.mps.is_available()\n",
    "    else torch.device(\"cpu\")\n",
    ")\n",
    "logging.debug(f\"Using device: {device}\")\n",
    "batch_size = 64\n"
   ]
  },
  {
   "cell_type": "code",
   "execution_count": 59,
   "metadata": {},
   "outputs": [],
   "source": [
    "class MLP(nn.Module):\n",
    "    \"\"\"MLP class for time series classification with 3D input\"\"\"\n",
    "\n",
    "    def __init__(self, input_size, hidden_size):\n",
    "        super(MLP, self).__init__()\n",
    "        self.layer1 = nn.Linear(input_size, hidden_size)\n",
    "        self.layer2 = nn.Linear(hidden_size, hidden_size)\n",
    "        self.layer3 = nn.Linear(hidden_size, 1)\n",
    "        self.relu = nn.ReLU()\n",
    "\n",
    "    def forward(self, x):\n",
    "        x = x.permute(0, 2, 1)  # Permute to Fortran order\n",
    "        x = x.flatten(start_dim=1)  # Flatten to 2D\n",
    "        out = self.layer1(x)\n",
    "        out = self.relu(out)\n",
    "        out = self.layer2(out)\n",
    "        out = self.relu(out)\n",
    "        out = self.layer3(out)\n",
    "        return out  # BCEWithLogitsLoss will apply sigmoid\n"
   ]
  },
  {
   "cell_type": "code",
   "execution_count": 34,
   "metadata": {},
   "outputs": [],
   "source": []
  },
  {
   "cell_type": "code",
   "execution_count": 60,
   "metadata": {},
   "outputs": [
    {
     "name": "stdout",
     "output_type": "stream",
     "text": [
      "15:46:42 | \u001b[36mDEBUG   \u001b[0m| root | Train Data: 1311 samples, Test Data: 1341 samples\n"
     ]
    }
   ],
   "source": [
    "def create_dataloaders(\n",
    "    X_train: np.ndarray,\n",
    "    y_train: np.ndarray,\n",
    "    X_test: np.ndarray,\n",
    "    y_test: np.ndarray,\n",
    "    batch_size: int,\n",
    "    is_test: bool = True,\n",
    ") -> tuple[DataLoader, DataLoader]:\n",
    "    # Sanity check\n",
    "    assert (\n",
    "        len(X_train.shape) == len(X_test.shape) == 3\n",
    "    ), \"X_train and X_test must have 3 dimensions: (samples, timesteps, features)\"\n",
    "\n",
    "    scaler = StandardScaler3D()\n",
    "    X_train = scaler.fit_transform(X_train)\n",
    "    X_test = scaler.transform(X_test)\n",
    "\n",
    "    train_data = TensorDataset(\n",
    "        torch.FloatTensor(X_train),\n",
    "        torch.FloatTensor(y_train).view(-1, 1),\n",
    "    )\n",
    "    test_data = TensorDataset(\n",
    "        torch.FloatTensor(X_test),\n",
    "        torch.FloatTensor(y_test).view(-1, 1),\n",
    "    )\n",
    "    train_loader = DataLoader(dataset=train_data, batch_size=batch_size, shuffle=True)\n",
    "    test_loader = DataLoader(dataset=test_data, batch_size=batch_size, shuffle=False)\n",
    "\n",
    "    dataset = \"Test\" if is_test else \"Validation\"\n",
    "    logging.debug(\n",
    "        f\"Train Data: {len(train_data)} samples, \"\n",
    "        f\"{dataset} Data: {len(test_data)} samples\"\n",
    "    )\n",
    "\n",
    "    return train_loader, test_loader\n",
    "\n",
    "\n",
    "train_loader, test_loader = create_dataloaders(\n",
    "    X_train,\n",
    "    y_train,\n",
    "    X_test,\n",
    "    y_test,\n",
    "    batch_size=batch_size,\n",
    ")\n"
   ]
  },
  {
   "cell_type": "code",
   "execution_count": 61,
   "metadata": {},
   "outputs": [],
   "source": [
    "def train_model(\n",
    "    model: nn.Module,\n",
    "    train_loader: DataLoader,\n",
    "    test_loader: DataLoader,\n",
    "    criterion: nn.modules.loss._Loss,\n",
    "    optimizer: optim.Optimizer,\n",
    "    epochs: int,\n",
    "    is_test: bool = True,\n",
    ") -> dict[str, list[float]]:\n",
    "    dataset = \"test\" if is_test else \"validation\"\n",
    "    history = {\n",
    "        \"train_accuracy\": [],\n",
    "        \"train_loss\": [],\n",
    "        f\"{dataset}_accuracy\": [],\n",
    "        f\"{dataset}_loss\": [],\n",
    "    }\n",
    "\n",
    "    for epoch in range(epochs):\n",
    "        model.train()\n",
    "        running_loss = 0.0\n",
    "        # for acc metric only\n",
    "        correct = 0\n",
    "        total = 0\n",
    "        for X_batch, y_batch in train_loader:\n",
    "            X_batch, y_batch = X_batch.to(device), y_batch.to(device)\n",
    "            optimizer.zero_grad()\n",
    "            outputs = model(X_batch)\n",
    "            loss = criterion(outputs, y_batch)\n",
    "            loss.backward()\n",
    "            optimizer.step()\n",
    "            running_loss += loss.item() * X_batch.size(0)\n",
    "\n",
    "            # Calculate training accuracy\n",
    "            y_pred_classes = (torch.sigmoid(outputs) >= 0.5).float()\n",
    "            total += y_batch.size(0)\n",
    "            correct += (y_pred_classes == y_batch).sum().item()\n",
    "\n",
    "        epoch_loss = running_loss / len(train_loader.dataset)\n",
    "        epoch_acc = correct / total if total > 0 else 0\n",
    "        test_loss, test_accuracy = evaluate_model(model, test_loader, criterion)\n",
    "\n",
    "        # Store the metrics in the history dictionary\n",
    "        history[\"train_loss\"].append(epoch_loss)\n",
    "        history[\"train_accuracy\"].append(epoch_acc)\n",
    "        history[f\"{dataset}_loss\"].append(test_loss)\n",
    "        history[f\"{dataset}_accuracy\"].append(test_accuracy)\n",
    "\n",
    "        # Log progress\n",
    "        max_digits = len(str(epochs))\n",
    "        logging.debug(\n",
    "            f\"E[{+epoch+1:>{max_digits}d}/{epochs}] \"\n",
    "            f\"| train {epoch_loss:.4f} ({epoch_acc:.1%}) \"\n",
    "            f\"· {dataset} {test_loss:.4f} ({test_accuracy:.1%})\"\n",
    "        )\n",
    "\n",
    "    return history\n",
    "\n",
    "\n",
    "def evaluate_model(\n",
    "    model: nn.Module,\n",
    "    test_loader: DataLoader,\n",
    "    criterion: nn.modules.loss._Loss,\n",
    ") -> tuple[float, float]:\n",
    "    model.eval()\n",
    "    total_loss = 0.0\n",
    "    correct = 0\n",
    "    total = 0\n",
    "    with torch.inference_mode():\n",
    "        for X_batch, y_batch in test_loader:\n",
    "            X_batch, y_batch = X_batch.to(device), y_batch.to(device)\n",
    "            y_pred_logits = model(X_batch)\n",
    "            loss = criterion(y_pred_logits, y_batch)\n",
    "            total_loss += loss.item() * X_batch.size(0)\n",
    "            # Metric here is acc\n",
    "            y_pred_classes = (torch.sigmoid(y_pred_logits) >= 0.5).float()\n",
    "            total += y_batch.size(0)\n",
    "            correct += (y_pred_classes == y_batch).sum().item()\n",
    "\n",
    "    average_loss = total_loss / total if total > 0 else 0\n",
    "    accuracy = correct / total if total > 0 else 0\n",
    "    return average_loss, accuracy\n"
   ]
  },
  {
   "cell_type": "code",
   "execution_count": 65,
   "metadata": {},
   "outputs": [
    {
     "name": "stdout",
     "output_type": "stream",
     "text": [
      "15:47:23 | \u001b[36mDEBUG   \u001b[0m| root | E[ 1/50] | train 0.3729 (88.6%) · test 0.2930 (87.5%)\n",
      "15:47:23 | \u001b[36mDEBUG   \u001b[0m| root | E[ 2/50] | train 0.2474 (89.6%) · test 0.3048 (88.2%)\n",
      "15:47:23 | \u001b[36mDEBUG   \u001b[0m| root | E[ 3/50] | train 0.2421 (90.8%) · test 0.2857 (88.9%)\n",
      "15:47:23 | \u001b[36mDEBUG   \u001b[0m| root | E[ 4/50] | train 0.2291 (90.8%) · test 0.3054 (89.4%)\n",
      "15:47:23 | \u001b[36mDEBUG   \u001b[0m| root | E[ 5/50] | train 0.2385 (91.3%) · test 0.2653 (89.0%)\n",
      "15:47:24 | \u001b[36mDEBUG   \u001b[0m| root | E[ 6/50] | train 0.2265 (91.4%) · test 0.3052 (88.8%)\n",
      "15:47:24 | \u001b[36mDEBUG   \u001b[0m| root | E[ 7/50] | train 0.2267 (91.1%) · test 0.2922 (87.9%)\n",
      "15:47:24 | \u001b[36mDEBUG   \u001b[0m| root | E[ 8/50] | train 0.2190 (91.4%) · test 0.2777 (89.6%)\n",
      "15:47:24 | \u001b[36mDEBUG   \u001b[0m| root | E[ 9/50] | train 0.2173 (91.5%) · test 0.2725 (89.6%)\n",
      "15:47:25 | \u001b[36mDEBUG   \u001b[0m| root | E[10/50] | train 0.2174 (91.5%) · test 0.2696 (89.6%)\n",
      "15:47:25 | \u001b[36mDEBUG   \u001b[0m| root | E[11/50] | train 0.2185 (92.1%) · test 0.2772 (89.9%)\n",
      "15:47:25 | \u001b[36mDEBUG   \u001b[0m| root | E[12/50] | train 0.2159 (92.2%) · test 0.2706 (89.6%)\n",
      "15:47:25 | \u001b[36mDEBUG   \u001b[0m| root | E[13/50] | train 0.2171 (91.8%) · test 0.3063 (88.6%)\n",
      "15:47:25 | \u001b[36mDEBUG   \u001b[0m| root | E[14/50] | train 0.2125 (91.9%) · test 0.2741 (89.3%)\n",
      "15:47:26 | \u001b[36mDEBUG   \u001b[0m| root | E[15/50] | train 0.2131 (91.5%) · test 0.2646 (89.7%)\n",
      "15:47:26 | \u001b[36mDEBUG   \u001b[0m| root | E[16/50] | train 0.2075 (91.8%) · test 0.2760 (89.2%)\n",
      "15:47:26 | \u001b[36mDEBUG   \u001b[0m| root | E[17/50] | train 0.2069 (92.4%) · test 0.2736 (89.1%)\n",
      "15:47:26 | \u001b[36mDEBUG   \u001b[0m| root | E[18/50] | train 0.2060 (92.8%) · test 0.2691 (89.8%)\n",
      "15:47:27 | \u001b[36mDEBUG   \u001b[0m| root | E[19/50] | train 0.1990 (92.8%) · test 0.2649 (89.6%)\n",
      "15:47:27 | \u001b[36mDEBUG   \u001b[0m| root | E[20/50] | train 0.1964 (92.7%) · test 0.2611 (90.1%)\n",
      "15:47:27 | \u001b[36mDEBUG   \u001b[0m| root | E[21/50] | train 0.2002 (93.1%) · test 0.2585 (89.6%)\n",
      "15:47:27 | \u001b[36mDEBUG   \u001b[0m| root | E[22/50] | train 0.1973 (92.8%) · test 0.2703 (89.2%)\n",
      "15:47:27 | \u001b[36mDEBUG   \u001b[0m| root | E[23/50] | train 0.2008 (92.9%) · test 0.2646 (89.5%)\n",
      "15:47:28 | \u001b[36mDEBUG   \u001b[0m| root | E[24/50] | train 0.1955 (93.0%) · test 0.2700 (89.8%)\n",
      "15:47:28 | \u001b[36mDEBUG   \u001b[0m| root | E[25/50] | train 0.2000 (92.3%) · test 0.2911 (88.5%)\n",
      "15:47:28 | \u001b[36mDEBUG   \u001b[0m| root | E[26/50] | train 0.1952 (93.2%) · test 0.2865 (88.7%)\n",
      "15:47:28 | \u001b[36mDEBUG   \u001b[0m| root | E[27/50] | train 0.2115 (92.1%) · test 0.2831 (88.9%)\n",
      "15:47:29 | \u001b[36mDEBUG   \u001b[0m| root | E[28/50] | train 0.2017 (92.8%) · test 0.2649 (89.2%)\n",
      "15:47:29 | \u001b[36mDEBUG   \u001b[0m| root | E[29/50] | train 0.1902 (92.9%) · test 0.2666 (89.5%)\n",
      "15:47:29 | \u001b[36mDEBUG   \u001b[0m| root | E[30/50] | train 0.1879 (93.2%) · test 0.2698 (89.6%)\n",
      "15:47:29 | \u001b[36mDEBUG   \u001b[0m| root | E[31/50] | train 0.1926 (93.0%) · test 0.2853 (89.6%)\n",
      "15:47:29 | \u001b[36mDEBUG   \u001b[0m| root | E[32/50] | train 0.1833 (93.4%) · test 0.3160 (89.0%)\n",
      "15:47:30 | \u001b[36mDEBUG   \u001b[0m| root | E[33/50] | train 0.1898 (92.8%) · test 0.2683 (89.3%)\n",
      "15:47:30 | \u001b[36mDEBUG   \u001b[0m| root | E[34/50] | train 0.1881 (93.5%) · test 0.2856 (89.3%)\n",
      "15:47:30 | \u001b[36mDEBUG   \u001b[0m| root | E[35/50] | train 0.1816 (93.7%) · test 0.2890 (89.0%)\n",
      "15:47:30 | \u001b[36mDEBUG   \u001b[0m| root | E[36/50] | train 0.1811 (93.8%) · test 0.2779 (89.6%)\n",
      "15:47:31 | \u001b[36mDEBUG   \u001b[0m| root | E[37/50] | train 0.1877 (93.1%) · test 0.2963 (89.4%)\n",
      "15:47:31 | \u001b[36mDEBUG   \u001b[0m| root | E[38/50] | train 0.1907 (93.2%) · test 0.2772 (89.3%)\n",
      "15:47:31 | \u001b[36mDEBUG   \u001b[0m| root | E[39/50] | train 0.1832 (93.7%) · test 0.2800 (89.7%)\n",
      "15:47:31 | \u001b[36mDEBUG   \u001b[0m| root | E[40/50] | train 0.1892 (94.1%) · test 0.2936 (89.1%)\n",
      "15:47:31 | \u001b[36mDEBUG   \u001b[0m| root | E[41/50] | train 0.1785 (93.9%) · test 0.2877 (89.3%)\n",
      "15:47:32 | \u001b[36mDEBUG   \u001b[0m| root | E[42/50] | train 0.1732 (94.4%) · test 0.2936 (88.4%)\n",
      "15:47:32 | \u001b[36mDEBUG   \u001b[0m| root | E[43/50] | train 0.1758 (93.0%) · test 0.2730 (89.3%)\n",
      "15:47:32 | \u001b[36mDEBUG   \u001b[0m| root | E[44/50] | train 0.1727 (93.7%) · test 0.2827 (89.4%)\n",
      "15:47:32 | \u001b[36mDEBUG   \u001b[0m| root | E[45/50] | train 0.1803 (93.9%) · test 0.2833 (89.1%)\n",
      "15:47:33 | \u001b[36mDEBUG   \u001b[0m| root | E[46/50] | train 0.1737 (93.6%) · test 0.2846 (89.3%)\n",
      "15:47:33 | \u001b[36mDEBUG   \u001b[0m| root | E[47/50] | train 0.1878 (93.3%) · test 0.3007 (87.3%)\n",
      "15:47:33 | \u001b[36mDEBUG   \u001b[0m| root | E[48/50] | train 0.1754 (93.7%) · test 0.3035 (88.9%)\n",
      "15:47:33 | \u001b[36mDEBUG   \u001b[0m| root | E[49/50] | train 0.1856 (93.7%) · test 0.3061 (88.6%)\n",
      "15:47:34 | \u001b[36mDEBUG   \u001b[0m| root | E[50/50] | train 0.1695 (94.3%) · test 0.2832 (89.5%)\n"
     ]
    }
   ],
   "source": [
    "lr = 1e-3\n",
    "epochs = 50\n",
    "model = MLP(\n",
    "    input_size=X.shape[2] * X.shape[1],  # 2D input or something TODO FIXME\n",
    "    hidden_size=2048,\n",
    ").to(device)\n",
    "criterion = nn.BCEWithLogitsLoss()\n",
    "optimizer = optim.Adam(model.parameters(), lr=lr)\n",
    "\n",
    "history = train_model(\n",
    "    model,\n",
    "    train_loader,\n",
    "    test_loader,\n",
    "    criterion,\n",
    "    optimizer,\n",
    "    epochs=epochs,\n",
    "    is_test=True,\n",
    ")"
   ]
  },
  {
   "cell_type": "code",
   "execution_count": 67,
   "metadata": {},
   "outputs": [
    {
     "data": {
      "image/png": "[encoded data removed]",
      "text/plain": [
       "<Figure size 1500x300 with 2 Axes>"
      ]
     },
     "metadata": {},
     "output_type": "display_data"
    }
   ],
   "source": [
    "plt.figure(figsize=(15, 3))\n",
    "\n",
    "plt.subplot(1, 3, 1)\n",
    "plt.plot(history[\"train_loss\"], label=\"Training Loss\")\n",
    "plt.plot(history[\"test_loss\"], label=\"Test Loss\")\n",
    "plt.xlabel(\"Epoch\")\n",
    "plt.ylabel(\"Loss\")\n",
    "plt.legend()\n",
    "\n",
    "plt.subplot(1, 3, 2)\n",
    "plt.plot(history[\"train_accuracy\"], label=\"Training Accuracy\")\n",
    "plt.plot(history[\"test_accuracy\"], label=\"Test Accuracy\")\n",
    "plt.xlabel(\"Epoch\")\n",
    "plt.ylabel(\"Accuracy\")\n",
    "plt.legend()\n",
    "\n",
    "plt.tight_layout()\n",
    "plt.show()"
   ]
  },
  {
   "cell_type": "code",
   "execution_count": 79,
   "metadata": {},
   "outputs": [
    {
     "data": {
      "image/png": "[encoded data removed]",
      "text/plain": [
       "<Figure size 800x600 with 2 Axes>"
      ]
     },
     "metadata": {},
     "output_type": "display_data"
    }
   ],
   "source": [
    "def get_confusion_matrix(\n",
    "    model: nn.Module,\n",
    "    test_loader: DataLoader,\n",
    "    threshold: float = 0.5,\n",
    ") -> np.ndarray:\n",
    "    \"\"\"\n",
    "    Calculate confusion matrix for binary classification.\n",
    "    Returns a 2x2 numpy array where:\n",
    "    [0,0] = TN, [0,1] = FP\n",
    "    [1,0] = FN, [1,1] = TP\n",
    "    \"\"\"\n",
    "    model.eval()\n",
    "    y_true = []\n",
    "    y_pred = []\n",
    "\n",
    "    with torch.inference_mode():\n",
    "        for X_batch, y_batch in test_loader:\n",
    "            X_batch = X_batch.to(device)\n",
    "            outputs = model(X_batch)\n",
    "            y_pred_batch = (torch.sigmoid(outputs) >= threshold).cpu().numpy()\n",
    "            y_true.extend(y_batch.numpy())\n",
    "            y_pred.extend(y_pred_batch)\n",
    "\n",
    "    return confusion_matrix(y_true, y_pred)\n",
    "\n",
    "\n",
    "def plot_confusion_matrix(conf_matrix: np.ndarray) -> None:\n",
    "    plt.figure(figsize=(8, 6))\n",
    "    sns.heatmap(\n",
    "        conf_matrix,\n",
    "        annot=True,\n",
    "        fmt=\"d\",\n",
    "        cmap=\"Blues\",\n",
    "        xticklabels=[\"Negative\", \"Positive\"],\n",
    "        yticklabels=[\"Negative\", \"Positive\"],\n",
    "    )\n",
    "    plt.title(\"Confusion Matrix\")\n",
    "    plt.ylabel(\"True Label\")\n",
    "    plt.xlabel(\"Predicted Label\")\n",
    "    plt.show()\n",
    "\n",
    "\n",
    "conf_matrix = get_confusion_matrix(\n",
    "    model,\n",
    "    test_loader,\n",
    "    threshold=0.5,\n",
    ")\n",
    "plot_confusion_matrix(conf_matrix)"
   ]
  },
  {
   "cell_type": "code",
   "execution_count": null,
   "metadata": {},
   "outputs": [],
   "source": []
  }
 ],
 "metadata": {
  "kernelspec": {
   "display_name": "pain",
   "language": "python",
   "name": "python3"
  },
  "language_info": {
   "codemirror_mode": {
    "name": "ipython",
    "version": 3
   },
   "file_extension": ".py",
   "mimetype": "text/x-python",
   "name": "python",
   "nbconvert_exporter": "python",
   "pygments_lexer": "ipython3",
   "version": "3.12.4"
  }
 },
 "nbformat": 4,
 "nbformat_minor": 2
}
